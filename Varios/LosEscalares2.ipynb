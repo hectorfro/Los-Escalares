{
 "cells": [
  {
   "cell_type": "code",
   "execution_count": null,
   "id": "055aea90",
   "metadata": {},
   "outputs": [],
   "source": [
    "import pytearcat as pt\n",
    "import sympy as sy\n",
    "from sympy import pi,sin,exp"
   ]
  },
  {
   "cell_type": "markdown",
   "id": "79285a3a",
   "metadata": {},
   "source": [
    "# Pascalian fluid in General Relativity\n",
    "\n",
    "## Spherical Case"
   ]
  },
  {
   "cell_type": "code",
   "execution_count": null,
   "id": "4bf547c2",
   "metadata": {
    "scrolled": true
   },
   "outputs": [],
   "source": [
    "t,r,theta,phi = pt.coords('t,r,theta,phi')\n",
    "\n",
    "nu = pt.fun('nu','r')\n",
    "l = pt.fun('l','r')\n",
    "C = r\n",
    "A = exp(nu)\n",
    "B = exp(l)\n",
    "F = 0"
   ]
  },
  {
   "cell_type": "code",
   "execution_count": null,
   "id": "13e36645",
   "metadata": {},
   "outputs": [],
   "source": [
    "ds = 'ds2 = -exp(2*nu)*dt**2 + exp(2*l)*dr**2 + r**2*(dtheta**2 + sin(theta)**2*dphi**2)'\n",
    "\n",
    "g = pt.metric(ds)"
   ]
  },
  {
   "cell_type": "markdown",
   "id": "a1deed06",
   "metadata": {},
   "source": [
    "Let us choose an orthogonal unitary tetrad:\n",
    "\\begin{equation}\n",
    "\\label{TetradGen}\n",
    "e^{(0)}_\\alpha~=~V_\\alpha, \\quad \n",
    "e^{(1)}_\\alpha~=~K_\\alpha, \\quad \n",
    "e^{(2)}_\\alpha~=~L_\\alpha \\quad \\mathrm{and}  \\quad e^{(3)}_\\alpha~=~S_\\alpha.\n",
    "\\end{equation}\n",
    "\n",
    "As usual, $\\eta_{(a)(b)}= g_{\\alpha\\beta} e_{(a)}^\\alpha e_{(b)}^\\beta$, with $a=0,\\,1,\\,2,\\,3$, i.e. latin indices label different vectors of the tetrad. "
   ]
  },
  {
   "cell_type": "code",
   "execution_count": null,
   "id": "04b04d61",
   "metadata": {
    "scrolled": true
   },
   "outputs": [],
   "source": [
    "Vu = pt.ten('Vu',1)\n",
    "Vu.assign([1/A,0,0,0],'^')\n",
    "\n",
    "Ku = pt.ten('Ku',1)\n",
    "Ku.assign([0,1/B,0,0],'^')\n",
    "\n",
    "Lu = pt.ten('Lu',1)\n",
    "Lu.assign([0,0,1/C,0],'^')\n",
    "\n",
    "Su = pt.ten('Su',1)\n",
    "Su.assign([0,0,0,1/(C*sin(theta))],'^')"
   ]
  },
  {
   "cell_type": "code",
   "execution_count": null,
   "id": "1aff4eac",
   "metadata": {
    "scrolled": true
   },
   "outputs": [],
   "source": [
    "Vd = pt.ten('Vd',1)\n",
    "Vd.assign(Vu(\"^mu\")*g(\"_mu,_nu\"),\"_nu\")\n",
    "Vd.display('_')\n",
    "\n",
    "Kd = pt.ten('Kd',1)\n",
    "Kd.assign(Ku(\"^mu\")*g(\"_mu,_nu\"),\"_nu\")\n",
    "Kd.display('_')\n",
    "\n",
    "Ld = pt.ten('Ld',1)\n",
    "Ld.assign(Lu(\"^mu\")*g(\"_mu,_nu\"),\"_nu\")\n",
    "Ld.display('_')\n",
    "\n",
    "Sd = pt.ten('Sd',1)\n",
    "Sd.assign(Su(\"^mu\")*g(\"_mu,_nu\"),\"_nu\")\n",
    "Sd.display('_')"
   ]
  },
  {
   "cell_type": "markdown",
   "id": "70901474",
   "metadata": {},
   "source": [
    "The tetrad satisfies the standard relations:\n",
    "\\begin{eqnarray}\n",
    "V_{\\alpha}V^{\\alpha} &=& -K_{\\alpha}K^{\\alpha} = -L_{\\alpha}L^{\\alpha} = -S_{\\alpha}S^{\\alpha} = -1\\,, \\nonumber \\\\\n",
    "V_{\\alpha}K^{\\alpha} &=& V_{\\alpha}L^{\\alpha} = V_{\\alpha}S^{\\alpha} = K_{\\alpha}L^{\\alpha} = K_{\\alpha}S^{\\alpha} = S_{\\alpha}L^{\\alpha} = 0\\,.  \\nonumber\n",
    "\\end{eqnarray} "
   ]
  },
  {
   "cell_type": "code",
   "execution_count": null,
   "id": "5f7ea667",
   "metadata": {},
   "outputs": [],
   "source": [
    "unoV = Vu('^l')*Vd('_l')\n",
    "unoV.simplify()"
   ]
  },
  {
   "cell_type": "code",
   "execution_count": null,
   "id": "b866ac81",
   "metadata": {},
   "outputs": [],
   "source": [
    "unoK = -1*Ku('^l')*Kd('_l')\n",
    "unoK.simplify()"
   ]
  },
  {
   "cell_type": "code",
   "execution_count": null,
   "id": "70e84c29",
   "metadata": {},
   "outputs": [],
   "source": [
    "unoL = -1*Lu('^l')*Ld('_l')\n",
    "unoL.simplify()"
   ]
  },
  {
   "cell_type": "code",
   "execution_count": null,
   "id": "9d433d40",
   "metadata": {},
   "outputs": [],
   "source": [
    "unoS = -1*Su('^l')*Sd('_l')\n",
    "unoS.simplify()"
   ]
  },
  {
   "cell_type": "code",
   "execution_count": null,
   "id": "57abc901",
   "metadata": {},
   "outputs": [],
   "source": [
    "cero1 = -1*Vu('^l')*Kd('_l')\n",
    "cero1.simplify()"
   ]
  },
  {
   "cell_type": "code",
   "execution_count": null,
   "id": "b62aeec4",
   "metadata": {},
   "outputs": [],
   "source": [
    "cero2 = -1*Vu('^l')*Ld('_l')\n",
    "cero2.simplify()"
   ]
  },
  {
   "cell_type": "code",
   "execution_count": null,
   "id": "702bbf84",
   "metadata": {},
   "outputs": [],
   "source": [
    "cero3 = -1*Vu('^l')*Sd('_l')\n",
    "cero3.simplify()"
   ]
  },
  {
   "cell_type": "code",
   "execution_count": null,
   "id": "de3a3a36",
   "metadata": {},
   "outputs": [],
   "source": [
    "cero4 = -1*Ku('^l')*Sd('_l')\n",
    "cero4.simplify()"
   ]
  },
  {
   "cell_type": "code",
   "execution_count": null,
   "id": "0c30281f",
   "metadata": {},
   "outputs": [],
   "source": [
    "cero5 = -1*Ku('^l')*Ld('_l')\n",
    "cero5.simplify()"
   ]
  },
  {
   "cell_type": "code",
   "execution_count": null,
   "id": "173b5353",
   "metadata": {},
   "outputs": [],
   "source": [
    "cero6 = -1*Lu('^l')*Sd('_l')\n",
    "cero6.simplify()"
   ]
  },
  {
   "cell_type": "markdown",
   "id": "c7d524b1",
   "metadata": {},
   "source": [
    "## Riemann Tensor"
   ]
  },
  {
   "cell_type": "code",
   "execution_count": null,
   "id": "44694a41",
   "metadata": {},
   "outputs": [],
   "source": [
    "R = pt.riemann(All=True)"
   ]
  },
  {
   "cell_type": "code",
   "execution_count": null,
   "id": "178c59ff",
   "metadata": {},
   "outputs": [],
   "source": [
    "G = pt.einstein(All=True)"
   ]
  },
  {
   "cell_type": "code",
   "execution_count": null,
   "id": "82b1cd1f",
   "metadata": {},
   "outputs": [],
   "source": [
    "G.display(\"_,_\")"
   ]
  },
  {
   "cell_type": "markdown",
   "id": "959f1ac1",
   "metadata": {},
   "source": [
    "The first set equations can be considered purely geometrical and emerges from the projection of the Riemann tensor along the tetrad i.e.\n",
    "$$\n",
    "2 V_{\\alpha ;[\\beta ; \\gamma]}=R_{\\delta \\alpha \\beta \\gamma} V^{\\delta}, \\quad 2 K_{\\alpha ;[\\beta ; \\gamma]}=R_{\\delta \\alpha \\beta \\gamma} K^{\\delta}, \\quad 2 L_{\\alpha ;[\\beta ; \\gamma]}=R_{\\delta \\alpha \\beta \\gamma} L^{\\delta} \\quad \\text { and } \\quad 2 S_{\\alpha ;[\\beta ; \\gamma]}=R_{\\delta \\alpha \\beta \\gamma} S^{\\delta}\n",
    "$$"
   ]
  },
  {
   "cell_type": "code",
   "execution_count": null,
   "id": "3344bda2",
   "metadata": {},
   "outputs": [],
   "source": [
    "dosVddd = pt.ten('dosVddd',3)\n",
    "dosVddd.assign(Vu(\"^delta\")*R(\"_delta,_alpha,_beta,_gamma\"),\"_alpha,_beta,_gamma\")\n",
    "dosVddd.simplify()\n",
    "dosVddd.display('_,_,_')"
   ]
  },
  {
   "cell_type": "code",
   "execution_count": null,
   "id": "9090a21e",
   "metadata": {},
   "outputs": [],
   "source": [
    "dosKddd = pt.ten('dosKddd',3)\n",
    "dosKddd.assign(Ku(\"^mu\")*R(\"_mu,_nu,_alpha,_beta\"),\"_nu,_alpha,_beta\")\n",
    "dosKddd.simplify()\n",
    "dosKddd.display('_,_,_')"
   ]
  },
  {
   "cell_type": "code",
   "execution_count": null,
   "id": "0b755590",
   "metadata": {},
   "outputs": [],
   "source": [
    "dosLddd = pt.ten('dosLddd',3)\n",
    "dosLddd.assign(Lu(\"^mu\")*R(\"_mu,_nu,_alpha,_beta\"),\"_nu,_alpha,_beta\")\n",
    "dosLddd.simplify()\n",
    "dosLddd.display('_,_,_')"
   ]
  },
  {
   "cell_type": "code",
   "execution_count": null,
   "id": "ab9e1ccc",
   "metadata": {
    "scrolled": true
   },
   "outputs": [],
   "source": [
    "dosSddd = pt.ten('dosSddd',3)\n",
    "dosSddd.assign(Su(\"^mu\")*R(\"_mu,_nu,_alpha,_beta\"),\"_nu,_alpha,_beta\")\n",
    "dosSddd.simplify()\n",
    "dosSddd.display('_,_,_')"
   ]
  },
  {
   "cell_type": "markdown",
   "id": "344da8b7",
   "metadata": {},
   "source": [
    "Covariant derivatives can be written as:\n",
    "\\begin{eqnarray}\n",
    "\\label{CovDTetrad}\n",
    "V_{\\alpha;\\beta}&=&-a_1K_\\alpha V_\\beta+\\sigma_1K_\\alpha K_\\beta+\\sigma_2(L_\\alpha L_\\beta+S_\\alpha S_\\beta),  \\nonumber \\\\\n",
    "K_{\\alpha;\\beta}&=&-a_1V_\\alpha V_\\beta+\\sigma_1 V_\\alpha K_\\beta+J_1(L_\\alpha L_\\beta+S_\\alpha S_\\beta),  \\\\\n",
    "L_{\\alpha;\\beta} & = &\\sigma_2 V_\\alpha L_\\beta-J_1K_\\alpha L_\\beta+J_2S_\\alpha S_\\beta \\\\\n",
    "S_{\\alpha;\\beta} & = & \\sigma_2 V_\\alpha S_\\beta-J_1K_\\alpha S_\\beta -J_2L_\\alpha S_\\beta \\,. \\nonumber\n",
    "\\end{eqnarray}\n",
    "Where: $J_1$, $J_2$, $\\sigma_{1}$,  $\\sigma_{2}$ and $a_1$ are expressed in terms of the metric functions and their derivatives as:\n",
    "\\begin{equation}\n",
    "    \\label{metricquantities}\n",
    "J_1=\\frac{1}{B}\\frac{R^{\\prime}}{R} \\,, \\quad \n",
    "J_2 = \\frac{1}{R}\\cot(\\theta)\\,, \\quad\n",
    "\\sigma_{1} = \\frac{1}{A}\\frac{\\dot{B}}{B}\\,, \\quad\n",
    "\\sigma_{2} = \\frac{1}{A}\\frac{\\dot{R}}{R} \\quad \\mathrm{and} \\quad  a_1=\\frac{1}{B}\\frac{A^{\\prime}}{A} \\,, \n",
    "\\end{equation}\n",
    "with primes and dots representing respectively, radial and time derivatives."
   ]
  },
  {
   "cell_type": "code",
   "execution_count": null,
   "id": "bf34419b",
   "metadata": {
    "scrolled": true
   },
   "outputs": [],
   "source": [
    "DcVd = pt.ten('DcVd',2)\n",
    "DcVd_dat = pt.C(Vd('_alpha'),'_beta') \n",
    "DcVd.assign(DcVd_dat,'_alpha,_beta')\n",
    "\n",
    "DcVd.display()\n",
    "DcVd.complete('_,_')\n",
    "DcVd.simplify()"
   ]
  },
  {
   "cell_type": "code",
   "execution_count": null,
   "id": "5e242a4c",
   "metadata": {},
   "outputs": [],
   "source": [
    "#sigma1 = pt.fun('sigma1','r')\n",
    "\n",
    "a1= A.diff(r)/(A*B)\n",
    "\n",
    "sigma1= B.diff(t)/(A*B)\n",
    "\n",
    "sigma2= C.diff(t)/(A*C)\n",
    "\n",
    "J1=C.diff(r)/(C*B)\n",
    "J2=sy.cot(theta)/C"
   ]
  },
  {
   "cell_type": "code",
   "execution_count": null,
   "id": "de3f26ec",
   "metadata": {},
   "outputs": [],
   "source": [
    "DcVdS = pt.ten('DcVdS',2)\n",
    "DcVdS.assign(-a1*Kd('_alpha')*Vd('_beta')+ sigma1*Kd('_alpha')*Kd('_beta')+ sigma2*(Ld('_alpha')*Ld('_beta')+Sd('_alpha')*Sd('_beta')) ,\"_alpha,_beta\")\n",
    "DcVdS.display('_,_')"
   ]
  },
  {
   "cell_type": "code",
   "execution_count": null,
   "id": "6e66af98",
   "metadata": {},
   "outputs": [],
   "source": [
    "ceros1=pt.ten('ceros1',2)\n",
    "ceros1.assign(DcVd('_mu,_nu')-DcVdS('_mu,_nu') ,\"_mu,_nu\")\n",
    "ceros1.simplify()\n",
    "ceros1.display('_,_')"
   ]
  },
  {
   "cell_type": "code",
   "execution_count": null,
   "id": "3da854a4",
   "metadata": {},
   "outputs": [],
   "source": [
    "DcKd_dat = pt.C(Kd('_alpha'),'_beta') \n",
    "DcKd = pt.ten('DcKd',2)\n",
    "DcKd.assign(DcKd_dat,'_alpha,_beta')\n",
    "DcKd.display()"
   ]
  },
  {
   "cell_type": "code",
   "execution_count": null,
   "id": "529daac0",
   "metadata": {
    "scrolled": true
   },
   "outputs": [],
   "source": [
    "DcKdS = pt.ten('DcKdS',2)\n",
    "DcKdS.assign(-a1*Vd('_alpha')*Vd('_beta')+ sigma1*Vd('_alpha')*Kd('_beta')+ J1*(Ld('_alpha')*Ld('_beta')+Sd('_alpha')*Sd('_beta')) ,\"_alpha,_beta\")\n",
    "DcKdS.simplify()\n",
    "DcKdS.display('_,_')"
   ]
  },
  {
   "cell_type": "code",
   "execution_count": null,
   "id": "5a03b2fb",
   "metadata": {},
   "outputs": [],
   "source": [
    "ceros2=pt.ten('ceros2',2)\n",
    "ceros2.assign(DcKd('_mu,_nu')-DcKdS('_mu,_nu') ,\"_mu,_nu\")\n",
    "ceros2.simplify()\n",
    "ceros2.display('_,_')"
   ]
  },
  {
   "cell_type": "code",
   "execution_count": null,
   "id": "a2eccaee",
   "metadata": {},
   "outputs": [],
   "source": [
    "DcLd_dat = pt.C(Ld('_alpha'),'_beta') \n",
    "DcLd = pt.ten('DcLd',2)\n",
    "DcLd.assign(DcLd_dat,'_alpha,_beta')\n",
    "DcLd.simplify()\n",
    "DcLd.display()"
   ]
  },
  {
   "cell_type": "code",
   "execution_count": null,
   "id": "880e3363",
   "metadata": {
    "scrolled": true
   },
   "outputs": [],
   "source": [
    "DcLdS = pt.ten('DcLdS',2)\n",
    "DcLdS.assign(sigma2*Vd('_alpha')*Ld('_beta')- J1*Kd('_alpha')*Ld('_beta')+ J2*Sd('_alpha')*Sd('_beta') ,\"_alpha,_beta\")\n",
    "DcLdS.simplify()\n",
    "DcLdS.display('_,_')"
   ]
  },
  {
   "cell_type": "code",
   "execution_count": null,
   "id": "713074e8",
   "metadata": {},
   "outputs": [],
   "source": [
    "ceros3=pt.ten('ceros3',2)\n",
    "ceros3.assign(DcLd('_mu,_nu')-DcLdS('_mu,_nu') ,\"_mu,_nu\")\n",
    "ceros3.simplify()\n",
    "ceros3.display('_,_')"
   ]
  },
  {
   "cell_type": "code",
   "execution_count": null,
   "id": "6ef58b0f",
   "metadata": {},
   "outputs": [],
   "source": [
    "DcSd_dat = pt.C(Sd('_alpha'),'_beta') \n",
    "DcSd = pt.ten('DcSd',2)\n",
    "DcSd.assign(DcSd_dat,'_alpha,_beta')\n",
    "DcSd.simplify()\n",
    "DcSd.display()"
   ]
  },
  {
   "cell_type": "code",
   "execution_count": null,
   "id": "9e8cd9b1",
   "metadata": {
    "scrolled": true
   },
   "outputs": [],
   "source": [
    "DcSdS = pt.ten('DcSdS',2)\n",
    "DcSdS.assign(sigma2*Vd('_alpha')*Sd('_beta')- J1*Kd('_alpha')*Sd('_beta')- J2*Ld('_alpha')*Sd('_beta') ,\"_alpha,_beta\")\n",
    "DcSdS.simplify()\n",
    "DcSdS.display('_,_')"
   ]
  },
  {
   "cell_type": "code",
   "execution_count": null,
   "id": "554a0f48",
   "metadata": {
    "scrolled": true
   },
   "outputs": [],
   "source": [
    "ceros4=pt.ten('ceros4',2)\n",
    "ceros4.assign(DcSd('_mu,_nu')-DcSdS('_mu,_nu') ,\"_mu,_nu\")\n",
    "ceros4.simplify()\n",
    "ceros4.display('_,_')"
   ]
  },
  {
   "cell_type": "markdown",
   "id": "2bbf359b",
   "metadata": {},
   "source": [
    "$h_{\\mu\\nu}=g_{\\mu\\nu} +V_\\mu V_\\nu = K_\\mu K_\\nu+L_\\mu L_\\nu+S_\\mu S_\\nu$"
   ]
  },
  {
   "cell_type": "code",
   "execution_count": null,
   "id": "b924c89c",
   "metadata": {
    "scrolled": true
   },
   "outputs": [],
   "source": [
    "hdd=pt.ten('hdd',2)\n",
    "hdd.assign(g(\"_mu,_nu\")+Vd('_mu')*Vd('_nu') ,\"_mu,_nu\")\n",
    "hdd.simplify()\n",
    "hdd.display('_,_')\n",
    "hdd.complete('_,_')\n",
    "hdd.simplify()"
   ]
  },
  {
   "cell_type": "markdown",
   "id": "900d9894",
   "metadata": {},
   "source": [
    "## The energy momentum tensor\n",
    "\n",
    "\\begin{equation}\n",
    "{T}_{\\alpha\\beta}= (\\rho+P) V_\\alpha V_\\beta+P g _{\\alpha \\beta} +\\Pi_{\\alpha \\beta}+\\mathcal{F}_\\alpha V_\\beta+\\mathcal{F}_\\beta V_\\alpha .\n",
    "\\label{EnergyTensor}\n",
    "\\end{equation}"
   ]
  },
  {
   "cell_type": "code",
   "execution_count": null,
   "id": "16bc1fcb",
   "metadata": {},
   "outputs": [],
   "source": [
    "rho = pt.fun('rho','r')\n",
    "P = pt.fun('P','r')\n",
    "Pt = pt.fun('Pt','r')\n",
    "Delta = pt.fun('Delta','r')"
   ]
  },
  {
   "cell_type": "code",
   "execution_count": null,
   "id": "0b9ba256",
   "metadata": {},
   "outputs": [],
   "source": [
    "Fd=pt.ten('Fd',1)\n",
    "Fd.assign(F*Kd('_mu') ,\"_mu\")\n",
    "Fd.simplify()\n",
    "Fd.display('_')\n",
    "Fd.complete('_')"
   ]
  },
  {
   "cell_type": "code",
   "execution_count": null,
   "id": "4f52005b",
   "metadata": {},
   "outputs": [],
   "source": [
    "Fd(\"^mu\")*Vd(\"_mu\")"
   ]
  },
  {
   "cell_type": "code",
   "execution_count": null,
   "id": "b1e980ea",
   "metadata": {
    "scrolled": false
   },
   "outputs": [],
   "source": [
    "PI=pt.ten('PI',2)\n",
    "PI.assign(Delta*(Kd('_mu')*Kd('_nu')-hdd('_mu,_nu')/3) ,\"_mu,_nu\")\n",
    "PI.simplify()\n",
    "PI.display('_,_')"
   ]
  },
  {
   "cell_type": "code",
   "execution_count": null,
   "id": "85c08eb9",
   "metadata": {},
   "outputs": [],
   "source": [
    "T = pt.ten('T',2)\n",
    "T.assign((rho+P)*Vd(\"_mu\")*Vd(\"_nu\")+P*g(\"_mu,_nu\")+PI(\"_mu,_nu\")+Fd(\"_mu\")*Vd(\"_nu\")+Fd(\"_nu\")*Vd(\"_mu\") ,\"_mu,_nu\")\n",
    "T.simplify()\n",
    "T.display('_,_')"
   ]
  },
  {
   "cell_type": "code",
   "execution_count": null,
   "id": "ddb02cac",
   "metadata": {},
   "outputs": [],
   "source": [
    "T.complete('_,_')\n",
    "T.simplify()"
   ]
  },
  {
   "cell_type": "markdown",
   "id": "eb81206e",
   "metadata": {},
   "source": [
    "\\begin{equation}\n",
    "\\rho = T_{\\alpha \\beta} V^\\alpha V^\\beta, \\quad \n",
    "\\mathcal{F}_\\alpha=-\\rho V_\\alpha - T_{\\alpha\\beta}V^\\beta, \\quad \n",
    "P = \\frac{1}{3} h^{\\alpha \\beta} T_{\\alpha \\beta} \\quad \\mathrm{and} \\quad \\Pi_{\\alpha \\beta} = h_\\alpha^\\mu h_\\beta^\\nu \\left(T_{\\mu\\nu} - P h_{\\mu\\nu}\\right)\\,,\n",
    "\\end{equation}"
   ]
  },
  {
   "cell_type": "code",
   "execution_count": null,
   "id": "a4a514e8",
   "metadata": {},
   "outputs": [],
   "source": [
    "T(\"_mu,_nu\")*Vu('^mu')*Vu('^nu')"
   ]
  },
  {
   "cell_type": "code",
   "execution_count": null,
   "id": "e9accb3b",
   "metadata": {},
   "outputs": [],
   "source": [
    "Fdp=pt.ten('Fdp',1)\n",
    "Fdp.assign(-rho*Vd('_mu') -T(\"_mu,_nu\")*Vu('^nu') ,\"_mu\")\n",
    "Fdp.simplify()\n",
    "Fdp.display('_')"
   ]
  },
  {
   "cell_type": "code",
   "execution_count": null,
   "id": "7b44909e",
   "metadata": {},
   "outputs": [],
   "source": [
    "hdd(\"^mu,^nu\")*T(\"_mu,_nu\")/3"
   ]
  },
  {
   "cell_type": "code",
   "execution_count": null,
   "id": "bcfc309b",
   "metadata": {
    "scrolled": true
   },
   "outputs": [],
   "source": [
    "PIp=pt.ten('PIp',2)\n",
    "PIp.assign(hdd(\"^mu,_alpha\")*hdd(\"^nu,_beta\")*(T(\"_mu,_nu\")-P*hdd(\"_mu,_nu\")) ,\"_alpha,_beta\")\n",
    "PIp.simplify()\n",
    "PIp.display('_,_')"
   ]
  },
  {
   "cell_type": "markdown",
   "id": "9cf2be29",
   "metadata": {},
   "source": [
    "Finally, we shall express the kinematical variables (the four-acceleration, the expansion scalar and the shear tensor) for a self-gravitating fluid as:\n",
    "\\begin{eqnarray}\n",
    "a_\\alpha&=&V^\\beta V_{\\alpha;\\beta}=a K_\\alpha =\\left(0, \\frac {A^{\\prime} }{A },0,0\\right),\n",
    "\\label{aceleration} \\\\\n",
    "\\Theta&=&V^\\alpha_{;\\alpha} =\\frac{1}{A}\\,\\left(\\frac{\\dot{B}}{B}+\\frac{2\\dot{R}}{R}\\right), \\label{theta} \\\\\n",
    "\\sigma&=&\\frac{1}{A}\\left(\\frac{\\dot{B}}{B} -\\frac{\\dot{R}}{R}\\right)\\,.  \\label{shear}\n",
    "\\end{eqnarray}"
   ]
  },
  {
   "cell_type": "code",
   "execution_count": null,
   "id": "131ed722",
   "metadata": {},
   "outputs": [],
   "source": [
    "acd=pt.ten('acd',1)\n",
    "acd.assign(Vu('^beta')*DcVd('_alpha,_beta') ,\"_alpha\")\n",
    "acd.simplify()\n",
    "acd.display('_')"
   ]
  },
  {
   "cell_type": "code",
   "execution_count": null,
   "id": "c269d75b",
   "metadata": {},
   "outputs": [],
   "source": [
    "Theta=DcVd('^alpha,_alpha')\n",
    "display(Theta)"
   ]
  },
  {
   "cell_type": "code",
   "execution_count": null,
   "id": "a829fdc7",
   "metadata": {},
   "outputs": [],
   "source": [
    "sh= 1/A*(B.diff(t)/(B)-C.diff(t)/(C)  )\n",
    "display(sh)"
   ]
  },
  {
   "cell_type": "markdown",
   "id": "4b602176",
   "metadata": {},
   "source": [
    "## The splitting of the Riemann tensor and structure scalars\n",
    "\n",
    "In this section we shall introduce a set of scalar functions --the structure scalars--  obtained from the orthogonal splitting of the Riemann tensor\n",
    "\n",
    "\n",
    "We can express the splitting of the Riemann tensor as:\n",
    "\\begin{eqnarray}\n",
    "R_{\\alpha \\beta \\mu \\nu}&=&2V_\\mu V_{[\\alpha}Y_{\\beta] \\, \\nu}+2h_{\\alpha[\\nu}X_{\\mu] \\,  \\beta}+2V_\\nu V_{[\\beta}Y_{\\alpha] \\, \\mu}\n",
    "+ h_{\\beta\\nu}(X_0 \\, h_{\\alpha\\mu}-X_{\\alpha\\mu})+h_{\\beta\\mu}(X_{\\alpha\\nu} -X_0 \\, h_{\\alpha\\nu}) \\nonumber \\\\\n",
    "& & \\qquad + 2V_{[\\nu} Z_{ \\, \\mu]}^{\\gamma}\\varepsilon_{{\\alpha \\beta \\gamma}} +2V_{[\\beta} Z_{{\\,  \\ \\alpha]}}^{{\\gamma }}\\ \\varepsilon_{{\\mu \\nu \\gamma}} \\,,\n",
    "\\end{eqnarray}\n",
    "\n",
    "with $\\varepsilon_{\\mu \\nu \\gamma} = \\eta_{\\phi \\mu \\nu \\gamma} V^{\\phi}$, and  $ \\eta_{\\phi \\mu \\nu \\gamma}$ the Levi-Civita 4-tensor. \n",
    "\n",
    "Where the quantities: $Y_{\\alpha\\beta}$, $X_{\\alpha\\beta}$ and $Z_{\\alpha\\beta}$ can be expressed as\n",
    "\\begin{eqnarray}\n",
    "Y_{\\alpha\\beta}&=&\\frac{1}{3}Y_0 \\, h_{\\alpha\\beta} +Y_1\\left[K_\\alpha K_\\beta-\\frac{1}{3} h_{\\alpha\\beta}\\right], \\quad\n",
    "X_{\\alpha\\beta} = \\frac{1}{3} X_0 \\, h_{\\alpha\\beta} +X_1\\left[K_\\alpha K_\\beta-\\frac{1}{3} h_{\\alpha\\beta}\\right] \\quad \\mathrm{and}  \\\\\n",
    "Z_{\\alpha\\beta}&=&Z \\, (L_\\alpha S_\\beta-L_\\beta S_\\alpha)\\,,\n",
    "\\end{eqnarray}\n",
    "with\n",
    "\\begin{equation}\n",
    "Y_0 = 4\\pi(\\rho+3P), \\quad Y_1=\\mathcal{E}-4\\pi \\Pi, \\quad\n",
    "X_0=8\\pi \\rho\\,, X_1 = -(\\mathcal{E}+4\\pi \\Pi) \\quad\n",
    "\\mathrm{and} \\quad  Z= 4 \\pi \\mathcal{F} \\,.\n",
    "\\label{varfis}\n",
    "\\end{equation}"
   ]
  },
  {
   "cell_type": "code",
   "execution_count": null,
   "id": "540d37be",
   "metadata": {},
   "outputs": [],
   "source": [
    "Es = pt.fun('Es','r')\n",
    "Y0=4*pi*(rho+3*P)\n",
    "Y1= Es-4*pi*Delta"
   ]
  },
  {
   "cell_type": "code",
   "execution_count": null,
   "id": "86404936",
   "metadata": {
    "scrolled": false
   },
   "outputs": [],
   "source": [
    "Ydd= pt.ten('Ydd',2)\n",
    "Ydd.assign(Y0*hdd(\"_alpha,_beta\")/3 + Y1*(Kd('_alpha')*Kd('_beta')-hdd(\"_alpha,_beta\")/3) ,\"_alpha,_beta\")\n",
    "Ydd.simplify()\n",
    "Ydd.display('_,_')"
   ]
  },
  {
   "cell_type": "code",
   "execution_count": null,
   "id": "5d18586a",
   "metadata": {},
   "outputs": [],
   "source": [
    "X0=8*sy.pi*rho\n",
    "X1= -(Es+4*sy.pi*Delta)\n",
    "Z=4*sy.pi*F"
   ]
  },
  {
   "cell_type": "code",
   "execution_count": null,
   "id": "92914cfe",
   "metadata": {
    "scrolled": true
   },
   "outputs": [],
   "source": [
    "Xdd= pt.ten('Xdd',2)\n",
    "Xdd.assign(X0*hdd(\"_alpha,_beta\")/3 + X1*(Kd('_alpha')*Kd('_beta')-hdd(\"_alpha,_beta\")/3) ,\"_alpha,_beta\")\n",
    "Xdd.simplify()\n",
    "Xdd.display('_,_')"
   ]
  },
  {
   "cell_type": "code",
   "execution_count": null,
   "id": "0783095c",
   "metadata": {
    "scrolled": true
   },
   "outputs": [],
   "source": [
    "Zdd= pt.ten('Zdd',2)\n",
    "Zdd.assign(Z*(Ld('_alpha')*Sd('_beta')-Ld('_beta')*Sd('_alpha')) ,\"_alpha,_beta\")\n",
    "Zdd.simplify()\n",
    "Zdd.display('_,_')\n",
    "Zdd.complete('_,_')\n",
    "Zdd.simplify()"
   ]
  },
  {
   "cell_type": "code",
   "execution_count": null,
   "id": "dee3620f",
   "metadata": {},
   "outputs": [],
   "source": [
    "LC = pt.lcivita(convention=1)"
   ]
  },
  {
   "cell_type": "code",
   "execution_count": null,
   "id": "ca5be1d2",
   "metadata": {
    "scrolled": false
   },
   "outputs": [],
   "source": [
    "eddd= pt.ten('eddd',3)\n",
    "eddd.assign(LC('_alpha,_beta,_mu,_nu')*Vu('^alpha'), \"_beta,_mu,_nu\")\n",
    "eddd.display('_,_,_')"
   ]
  },
  {
   "cell_type": "markdown",
   "id": "9cedac04",
   "metadata": {},
   "source": [
    "\\begin{eqnarray}\n",
    "R_{\\alpha \\beta \\mu \\nu}&=&2V_\\mu V_{[\\alpha}Y_{\\beta] \\, \\nu}+2h_{\\alpha[\\nu}X_{\\mu] \\,  \\beta}+2V_\\nu V_{[\\beta}Y_{\\alpha] \\, \\mu}\n",
    "+ h_{\\beta\\nu}(X_0 \\, h_{\\alpha\\mu}-X_{\\alpha\\mu})+h_{\\beta\\mu}(X_{\\alpha\\nu} -X_0 \\, h_{\\alpha\\nu}) \\nonumber \\\\\n",
    "& & \\qquad + 2V_{[\\nu} Z_{ \\, \\mu]}^{\\gamma}\\varepsilon_{{\\alpha \\beta \\gamma}} +2V_{[\\beta} Z_{{\\,  \\ \\alpha]}}^{{\\gamma }}\\ \\varepsilon_{{\\mu \\nu \\gamma}} \\,,\n",
    "\\end{eqnarray}"
   ]
  },
  {
   "cell_type": "code",
   "execution_count": null,
   "id": "0209a89a",
   "metadata": {},
   "outputs": [],
   "source": [
    "Rdddd= pt.ten('Rdddd',4)\n",
    "Rdddd.assign(Vd('_mu')*Vd('_alpha')*Ydd('_beta,_nu')-Vd('_mu')*Vd('_beta')*Ydd('_alpha,_nu') + \\\n",
    "             Vd('_nu')*Vd('_beta')*Ydd('_alpha,_mu')-Vd('_nu')*Vd('_alpha')*Ydd('_beta,_mu') + \\\n",
    "             hdd(\"_alpha,_nu\")*Xdd('_mu,_beta')- hdd(\"_alpha,_mu\")*Xdd('_nu,_beta') +\\\n",
    "             hdd(\"_beta,_nu\")*(X0*hdd(\"_alpha,_mu\")-Xdd('_alpha,_mu') ) + \\\n",
    "             hdd(\"_beta,_mu\")*(Xdd('_alpha,_nu')-X0*hdd(\"_alpha,_nu\") ) + \\\n",
    "             Vd('_nu')*Zdd('^gamma,_mu')*eddd(\"_alpha,_beta,_gamma\")- Vd('_mu')*Zdd('^gamma,_nu')*eddd(\"_alpha,_beta,_gamma\") + \n",
    "             Vd('_beta')*Zdd('^gamma,_alpha')*eddd(\"_mu,_nu,_gamma\")- Vd('_alpha')*Zdd('^gamma,_beta')*eddd(\"_mu,_nu,_gamma\") , \"_alpha,_beta,_mu,_nu\")\n",
    "Rdddd.simplify()\n",
    "Rdddd.display('_,_,_,_')\n",
    "Rdddd.complete('_,_')\n",
    "Rdddd.simplify()"
   ]
  },
  {
   "cell_type": "markdown",
   "id": "3733e4b7",
   "metadata": {},
   "source": [
    "The corresponding Ricci contraction for the above Riemann tensor can also be written as:\n",
    "\n",
    "\\begin{equation}\n",
    "R_{\\alpha\\mu} =  Y_0 \\, V_\\alpha V_\\mu-X_{\\alpha \\mu}-Y_{\\alpha\\mu} +X_0 \\, h_{\\alpha\\mu}  +Z^{\\nu \\beta} \\varepsilon_{\\mu \\nu \\beta}V_{\\alpha} \n",
    "+V_{\\mu} Z^{\\nu \\beta} \\varepsilon_{\\alpha \\nu \\beta} \\, ;\n",
    "\\label{RicciSplitted}\n",
    "\\end{equation}"
   ]
  },
  {
   "cell_type": "code",
   "execution_count": null,
   "id": "7319635e",
   "metadata": {},
   "outputs": [],
   "source": [
    "Rdd= pt.ten('Rdd',2)\n",
    "Rdd.assign(Y0*Vd('_alpha')*Vd('_mu') - Xdd('_alpha,_mu') + X0*hdd(\"_alpha,_mu\") +\\\n",
    "           Zdd('^nu,^beta')*eddd(\"_mu,_nu,_beta\")*Vd('_alpha') + \\\n",
    "           Vd('_mu')*Zdd('^nu,^beta')*eddd(\"_alpha,_nu,_beta\"), \"_alpha,_mu\")\n",
    "\n",
    "Rdd.simplify()\n",
    "Rdd.display('_,_')"
   ]
  },
  {
   "cell_type": "markdown",
   "id": "945ab19b",
   "metadata": {},
   "source": [
    "## Projections of Riemann tensor\n",
    "\n",
    "\\begin{equation}\n",
    "\\label{DirectionalDerivatives}\n",
    "f^{\\bullet} = V^{\\alpha} \\partial_{\\alpha}f ; \\quad f^{{\\rm t}} = K^{\\alpha} \\partial_{\\alpha}f  \\quad \\mathrm{and} \\quad f^{\\ast} = L^{\\alpha}\\partial_{\\alpha}f .\n",
    "\\end{equation}\n",
    "\n",
    "\\begin{equation}\n",
    "\\sigma^{\\bullet}_{1} -a_1^{{\\rm t}} -a_1^2+\\sigma_1^2 = -\\frac{1}{3}(Y_0+2Y_1) \\qquad (25)\n",
    "\\end{equation}\n"
   ]
  },
  {
   "cell_type": "code",
   "execution_count": null,
   "id": "1b659536",
   "metadata": {},
   "outputs": [],
   "source": [
    "Dsigma1= pt.ten('Dsigma1',1)\n",
    "Dsigma1.assign(pt.D(sigma1,\"_alpha\"), \"_alpha\")\n",
    "Dsigma1.simplify()\n",
    "\n",
    "Dsigma1P= Vu('^alpha')*Dsigma1('_alpha') \n",
    "pt.display(Dsigma1P)\n",
    "\n",
    "Dsigma1dag= Ku('^alpha')*Dsigma1('_alpha') \n",
    "Dsigma1dag"
   ]
  },
  {
   "cell_type": "code",
   "execution_count": null,
   "id": "48b30575",
   "metadata": {},
   "outputs": [],
   "source": [
    "Da1= pt.ten('Da1',1)\n",
    "Da1.assign(pt.D(a1,\"_alpha\"), \"_alpha\")\n",
    "Da1.simplify()\n",
    "\n",
    "Da1dag= Ku('^alpha')*Da1('_alpha') \n",
    "Da1dag"
   ]
  },
  {
   "cell_type": "code",
   "execution_count": null,
   "id": "0f79d334",
   "metadata": {},
   "outputs": [],
   "source": [
    "eq25iz= pt.simplify(Dsigma1P - Da1dag - a1**2 + sigma1**2) \n",
    "eq25de= -(Y0+2*Y1)/3"
   ]
  },
  {
   "cell_type": "code",
   "execution_count": null,
   "id": "60b720bd",
   "metadata": {},
   "outputs": [],
   "source": [
    "eq25= eq25iz-eq25de\n",
    "eq25"
   ]
  },
  {
   "cell_type": "markdown",
   "id": "14e2bf4b",
   "metadata": {},
   "source": [
    "\\begin{equation}\n",
    "\\sigma^{\\bullet}_{2} +\\sigma_2^2-a_1J_1 = \\frac{1}{3}(Y_1-Y_0) \\qquad (26)\n",
    "\\end{equation}"
   ]
  },
  {
   "cell_type": "code",
   "execution_count": null,
   "id": "1348d521",
   "metadata": {},
   "outputs": [],
   "source": [
    "Dsigma2= pt.ten('Dsigma2',1)\n",
    "Dsigma2.assign(pt.D(sigma2,\"_alpha\"), \"_alpha\")\n",
    "Dsigma2.simplify()\n",
    "Dsigma2P= Vu('^alpha')*Dsigma2('_alpha') \n",
    "pt.display(Dsigma2P)\n",
    "Dsigma2dag= Ku('^alpha')*Dsigma2('_alpha') \n",
    "Dsigma2dag"
   ]
  },
  {
   "cell_type": "code",
   "execution_count": null,
   "id": "8110ba30",
   "metadata": {},
   "outputs": [],
   "source": [
    "eq26iz= pt.simplify(Dsigma2P +sigma2**2 -a1*J1) \n",
    "eq26de= (Y1-Y0)/3\n",
    "eq26=eq26iz-eq26de\n",
    "eq26"
   ]
  },
  {
   "cell_type": "markdown",
   "id": "be9ff9cd",
   "metadata": {},
   "source": [
    "\\begin{equation}\n",
    "\\sigma_2^{{\\rm t}}+J_1(\\sigma_2-\\sigma_1)=-Z \\qquad (27)\n",
    "\\end{equation}"
   ]
  },
  {
   "cell_type": "code",
   "execution_count": null,
   "id": "0e06e5cf",
   "metadata": {},
   "outputs": [],
   "source": [
    "eq27iz= pt.simplify(Dsigma2dag + J1*(sigma2-sigma1)) \n",
    "eq27de= -Z\n",
    "eq27=eq27iz-eq27de\n",
    "eq27"
   ]
  },
  {
   "cell_type": "markdown",
   "id": "e6b04236",
   "metadata": {},
   "source": [
    "\\begin{equation}\n",
    "J^{\\bullet}_{1} +J_1\\sigma_2-a_1\\sigma_2 = -Z \\qquad (28)\n",
    "\\end{equation}"
   ]
  },
  {
   "cell_type": "code",
   "execution_count": null,
   "id": "9a9a59e4",
   "metadata": {},
   "outputs": [],
   "source": [
    "DJ1= pt.ten('DJ1',1)\n",
    "DJ1.assign(pt.D(J1,\"_alpha\"), \"_alpha\")\n",
    "DJ1.simplify()\n",
    "\n",
    "DJ1P= Vu('^alpha')*DJ1('_alpha') \n",
    "pt.display(DJ1P)\n",
    "\n",
    "DJ1dag= Ku('^alpha')*DJ1('_alpha') \n",
    "DJ1dag\n"
   ]
  },
  {
   "cell_type": "code",
   "execution_count": null,
   "id": "23fbbbd8",
   "metadata": {},
   "outputs": [],
   "source": [
    "eq28iz= pt.simplify(DJ1P + J1*sigma2 - a1*sigma2) \n",
    "eq28de= -Z\n",
    "eq28=eq28iz-eq28de\n",
    "eq28"
   ]
  },
  {
   "cell_type": "markdown",
   "id": "db8333b0",
   "metadata": {},
   "source": [
    "\\begin{equation}\n",
    "J_1^{{\\rm t}}+J_1^2-\\sigma_1 \\sigma_2 = \\frac{1}{3}(X_1-X_0) \\qquad (29)\n",
    "\\end{equation}"
   ]
  },
  {
   "cell_type": "code",
   "execution_count": null,
   "id": "89c9798f",
   "metadata": {},
   "outputs": [],
   "source": [
    "eq29iz= pt.simplify(DJ1dag + J1**2 - sigma2*sigma1) \n",
    "eq29de= (X1-X0)/3\n",
    "eq29=eq29iz-eq29de\n",
    "eq29"
   ]
  },
  {
   "cell_type": "markdown",
   "id": "dad89242",
   "metadata": {},
   "source": [
    "\\begin{equation}\n",
    "J^{\\bullet}_{2} +J_2\\sigma_2 = 0  \\qquad (30)\n",
    "\\end{equation}"
   ]
  },
  {
   "cell_type": "code",
   "execution_count": null,
   "id": "a72f5016",
   "metadata": {},
   "outputs": [],
   "source": [
    "DJ2= pt.ten('DJ2',1)\n",
    "DJ2.assign(pt.D(J2,\"_alpha\"), \"_alpha\")\n",
    "DJ2.simplify()\n",
    "\n",
    "DJ2P= Vu('^alpha')*DJ2('_alpha') \n",
    "pt.display(DJ2P)\n",
    "\n",
    "DJ2dag= Ku('^alpha')*DJ2('_alpha') \n",
    "DJ2dag"
   ]
  },
  {
   "cell_type": "code",
   "execution_count": null,
   "id": "bdc0b291",
   "metadata": {},
   "outputs": [],
   "source": [
    "eq30iz= pt.simplify(DJ2P + J2*sigma2) \n",
    "eq30de= 0\n",
    "eq30=eq30iz-eq30de\n",
    "eq30"
   ]
  },
  {
   "cell_type": "markdown",
   "id": "da8c7b87",
   "metadata": {},
   "source": [
    "\\begin{equation}\n",
    "J_2^{{\\rm t}} +J_1J_2 = 0   \\qquad (31)\n",
    "\\end{equation}"
   ]
  },
  {
   "cell_type": "code",
   "execution_count": null,
   "id": "3e01f4a3",
   "metadata": {},
   "outputs": [],
   "source": [
    "eq31iz= pt.simplify(DJ2dag + J1*J2) \n",
    "eq31de= 0\n",
    "eq31=eq31iz-eq31de\n",
    "eq31"
   ]
  },
  {
   "cell_type": "markdown",
   "id": "24b42efa",
   "metadata": {},
   "source": [
    "\\begin{equation}\n",
    "J_1^2-\\frac{1}{C^2}-\\sigma_2^2 = -\\frac{1}{3}(X_0+2X_1) \\qquad (32)\n",
    "\\end{equation}"
   ]
  },
  {
   "cell_type": "code",
   "execution_count": null,
   "id": "0ba8c747",
   "metadata": {},
   "outputs": [],
   "source": [
    "eq32iz= pt.simplify(J1**2 - 1/C**2 - sigma2**2) \n",
    "eq32de= -(X0+2*X1)/3\n",
    "eq32=eq32iz-eq32de\n",
    "eq32"
   ]
  },
  {
   "cell_type": "markdown",
   "id": "74dc6ff7",
   "metadata": {},
   "source": [
    "## Equations from Bianchi identities:\n",
    "\n",
    "\\begin{eqnarray}\n",
    "a_1[-X_0+X_1-Y_0+Y_1]+3J_1Y_1+3Z^{\\bullet} +6Z \\sigma_1 + 3Z\\sigma_2-Y_0^{{\\rm t}}+Y_1^{{\\rm t}} &=& 0 \\,,\n",
    "\\label{Bianchi1} \\\\\n",
    "X^{\\bullet}_0 -X^{\\bullet}_1 -6a_1Z -3J_1Z  +\\left[Y_0 -Y_1 -X_1\\right] \\sigma_1  \n",
    " +\\left[Y_0 +2Y_1 -X_1\\right] \\sigma_2   +X_0[\\sigma_1+\\sigma_2]-3Z^{{\\rm t}} &=&0 \\,, \\label{Bianchi2} \\\\\n",
    "X^{\\bullet}_0 +2 X^{\\bullet}_1 +2X_0\\sigma_2 -6J_1Z +[4X_1 + 2Y_0 - 2Y_1] \\sigma_2 &=&0,   \\label{Bianchi3} \\\\  \n",
    "\\quad \\mathrm{and} \\quad  X_0^{{\\rm t}}+2X_1^{{\\rm t}}+6J_1X_1+6Z\\sigma_2&=& 0 \\,. \\label{Bianchi4}\n",
    "\\end{eqnarray}\n"
   ]
  },
  {
   "cell_type": "code",
   "execution_count": null,
   "id": "3e07a90f",
   "metadata": {},
   "outputs": [],
   "source": [
    "DZ= pt.ten('DZ',1)\n",
    "DZ.assign(pt.D(Z,\"_alpha\"), \"_alpha\")\n",
    "DZ.simplify()\n",
    "DZP= Vu('^alpha')*DZ('_alpha') \n",
    "pt.display(DZP)\n",
    "DZdag= Ku('^alpha')*DZ('_alpha') \n",
    "DZdag"
   ]
  },
  {
   "cell_type": "code",
   "execution_count": null,
   "id": "bb06e310",
   "metadata": {},
   "outputs": [],
   "source": [
    "DY0= pt.ten('DY0',1)\n",
    "DY0.assign(pt.D(Y0,\"_alpha\"), \"_alpha\")\n",
    "DY0.simplify()\n",
    "DY0P= Vu('^alpha')*DY0('_alpha') \n",
    "pt.display(DY0P)\n",
    "DY0dag= Ku('^alpha')*DY0('_alpha') \n",
    "DY0dag"
   ]
  },
  {
   "cell_type": "code",
   "execution_count": null,
   "id": "91c40393",
   "metadata": {},
   "outputs": [],
   "source": [
    "DY1= pt.ten('DY1',1)\n",
    "DY1.assign(pt.D(Y1,\"_alpha\"), \"_alpha\")\n",
    "DY1.simplify()\n",
    "DY1P= Vu('^alpha')*DY1('_alpha') \n",
    "pt.display(DY1P)\n",
    "DY1dag= Ku('^alpha')*DY1('_alpha') \n",
    "DY1dag"
   ]
  },
  {
   "cell_type": "code",
   "execution_count": null,
   "id": "f36b1532",
   "metadata": {},
   "outputs": [],
   "source": [
    "DX0= pt.ten('DX0',1)\n",
    "DX0.assign(pt.D(X0,\"_alpha\"), \"_alpha\")\n",
    "DX0.simplify()\n",
    "DX0P= Vu('^alpha')*DX0('_alpha') \n",
    "pt.display(DX0P)\n",
    "DX0dag= Ku('^alpha')*DX0('_alpha') \n",
    "DX0dag"
   ]
  },
  {
   "cell_type": "code",
   "execution_count": null,
   "id": "65e2ca09",
   "metadata": {},
   "outputs": [],
   "source": [
    "DX1= pt.ten('DX1',1)\n",
    "DX1.assign(pt.D(X1,\"_alpha\"), \"_alpha\")\n",
    "DX1.simplify()\n",
    "DX1P= Vu('^alpha')*DX1('_alpha') \n",
    "pt.display(DX1P)\n",
    "DX1dag= Ku('^alpha')*DX1('_alpha') \n",
    "DX1dag"
   ]
  },
  {
   "cell_type": "code",
   "execution_count": null,
   "id": "3546f011",
   "metadata": {},
   "outputs": [],
   "source": [
    "pt.simplify(a1*(-X0+X1-Y0+Y1) + 3*J1*Y1 + 3*DZP + 6*Z*sigma1 + 3*Z*sigma2 - DY0dag + DY1dag )"
   ]
  },
  {
   "cell_type": "code",
   "execution_count": null,
   "id": "43ddadcb",
   "metadata": {},
   "outputs": [],
   "source": [
    "pt.simplify(DX0P-DX1P -6*a1*Z - 3*J1*Z + (Y0-Y1-X1)*sigma1 + (Y0+2*Y1-X1)*sigma2 +X0*(sigma1+sigma2)-3*DZdag )"
   ]
  },
  {
   "cell_type": "code",
   "execution_count": null,
   "id": "025a4706",
   "metadata": {},
   "outputs": [],
   "source": [
    "pt.simplify(DX0P+2*DX1P + 2*X0*sigma2 - 6*J1*Z + (4*X1+2*Y0-2*Y1)*sigma2  )"
   ]
  },
  {
   "cell_type": "code",
   "execution_count": null,
   "id": "a7ed4b96",
   "metadata": {},
   "outputs": [],
   "source": [
    "pt.simplify(DX0dag + 2*DX1dag + 6*J1*X1 + 6*Z*sigma2  )"
   ]
  },
  {
   "cell_type": "code",
   "execution_count": null,
   "id": "72d846a5",
   "metadata": {},
   "outputs": [],
   "source": []
  },
  {
   "cell_type": "code",
   "execution_count": null,
   "id": "05156a17",
   "metadata": {},
   "outputs": [],
   "source": []
  }
 ],
 "metadata": {
  "kernelspec": {
   "display_name": "Python 3 (ipykernel)",
   "language": "python",
   "name": "python3"
  },
  "language_info": {
   "codemirror_mode": {
    "name": "ipython",
    "version": 3
   },
   "file_extension": ".py",
   "mimetype": "text/x-python",
   "name": "python",
   "nbconvert_exporter": "python",
   "pygments_lexer": "ipython3",
   "version": "3.8.12"
  }
 },
 "nbformat": 4,
 "nbformat_minor": 5
}
