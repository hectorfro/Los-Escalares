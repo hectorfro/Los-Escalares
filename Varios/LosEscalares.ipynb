{
 "cells": [
  {
   "cell_type": "code",
   "execution_count": 1,
   "id": "055aea90",
   "metadata": {},
   "outputs": [],
   "source": [
    "import pytearcat as pt\n",
    "import sympy as sy\n",
    "from sympy import * "
   ]
  },
  {
   "cell_type": "markdown",
   "id": "79285a3a",
   "metadata": {},
   "source": [
    "# Non Pascalian fluid in General Relativity\n",
    "\n",
    "## Spherical Case"
   ]
  },
  {
   "cell_type": "code",
   "execution_count": 2,
   "id": "4bf547c2",
   "metadata": {
    "scrolled": true
   },
   "outputs": [
    {
     "name": "stdout",
     "output_type": "stream",
     "text": [
      "Remember that the time coordinate must be the first coordinate.\n"
     ]
    }
   ],
   "source": [
    "t,r,theta,phi = pt.coords('t,r,theta,phi')\n",
    "\n",
    "A = pt.fun('A','t,r')\n",
    "B = pt.fun('B','t,r')\n",
    "C = pt.fun('C','t,r')\n",
    "#C = r\n",
    "rho = pt.fun('rho','t,r')\n",
    "P = pt.fun('P','t,r')\n",
    "#Pt = pt.fun('Pt','t,r')\n",
    "Delta = pt.fun('Delta','t,r')\n",
    "#Delta=0\n",
    "F = pt.fun('F','t,r')\n",
    "E = pt.fun('E','t,r')\n",
    "#F = 0\n",
    "#E = 0 "
   ]
  },
  {
   "cell_type": "code",
   "execution_count": 3,
   "id": "45b20ced",
   "metadata": {},
   "outputs": [
    {
     "name": "stdout",
     "output_type": "stream",
     "text": [
      "\n",
      "Dimension = 4\n",
      "Coordinates = t,r,theta,phi\n",
      "Metric defined successfully: \n",
      "\n"
     ]
    },
    {
     "data": {
      "text/latex": [
       "$\\displaystyle ds^2 = - A^{2}{\\left(t,r \\right)} \\cdot dt^2+B^{2}{\\left(t,r \\right)} \\cdot dr^2+C^{2}{\\left(t,r \\right)} \\cdot d\\theta^2+C^{2}{\\left(t,r \\right)} \\sin^{2}{\\left(\\theta \\right)} \\cdot d\\phi^2$"
      ],
      "text/plain": [
       "<IPython.core.display.Math object>"
      ]
     },
     "metadata": {},
     "output_type": "display_data"
    },
    {
     "data": {
      "text/latex": [
       "$\\displaystyle \\left[\\begin{matrix}- A^{2}{\\left(t,r \\right)} & 0 & 0 & 0\\\\0 & B^{2}{\\left(t,r \\right)} & 0 & 0\\\\0 & 0 & C^{2}{\\left(t,r \\right)} & 0\\\\0 & 0 & 0 & C^{2}{\\left(t,r \\right)} \\sin^{2}{\\left(\\theta \\right)}\\end{matrix}\\right]$"
      ],
      "text/plain": [
       "Matrix([\n",
       "[-A(t, r)**2,          0,          0,                        0],\n",
       "[          0, B(t, r)**2,          0,                        0],\n",
       "[          0,          0, C(t, r)**2,                        0],\n",
       "[          0,          0,          0, C(t, r)**2*sin(theta)**2]])"
      ]
     },
     "metadata": {},
     "output_type": "display_data"
    }
   ],
   "source": [
    "ds = 'ds2 = -A**2*dt**2 + B**2*dr**2 + C**2*(dtheta**2 + sin(theta)**2*dphi**2)'\n",
    "\n",
    "g = pt.metric(ds)"
   ]
  },
  {
   "cell_type": "markdown",
   "id": "a1deed06",
   "metadata": {},
   "source": [
    "Let us choose an orthogonal unitary tetrad:\n",
    "\\begin{equation}\n",
    "\\label{TetradGen}\n",
    "e^{(0)}_\\alpha~=~V_\\alpha, \\quad \n",
    "e^{(1)}_\\alpha~=~K_\\alpha, \\quad \n",
    "e^{(2)}_\\alpha~=~L_\\alpha \\quad \\mathrm{and}  \\quad e^{(3)}_\\alpha~=~S_\\alpha.\n",
    "\\end{equation}\n",
    "\n",
    "As usual, $\\eta_{(a)(b)}= g_{\\alpha\\beta} e_{(a)}^\\alpha e_{(b)}^\\beta$, with $a=0,\\,1,\\,2,\\,3$, i.e. latin indices label different vectors of the tetrad. "
   ]
  },
  {
   "cell_type": "code",
   "execution_count": 4,
   "id": "04b04d61",
   "metadata": {
    "scrolled": true
   },
   "outputs": [
    {
     "name": "stdout",
     "output_type": "stream",
     "text": [
      "Elements assigned correctly to the components ^\n",
      "Elements assigned correctly to the components ^\n",
      "Elements assigned correctly to the components ^\n",
      "Elements assigned correctly to the components ^\n"
     ]
    }
   ],
   "source": [
    "Vu = pt.ten('Vu',1)\n",
    "Vu.assign([1/A,0,0,0],'^')\n",
    "\n",
    "Ku = pt.ten('Ku',1)\n",
    "Ku.assign([0,1/B,0,0],'^')\n",
    "\n",
    "Lu = pt.ten('Lu',1)\n",
    "Lu.assign([0,0,1/C,0],'^')\n",
    "\n",
    "Su = pt.ten('Su',1)\n",
    "Su.assign([0,0,0,1/(C*sin(theta))],'^')"
   ]
  },
  {
   "cell_type": "code",
   "execution_count": 5,
   "id": "1aff4eac",
   "metadata": {
    "scrolled": true
   },
   "outputs": [
    {
     "data": {
      "image/png": "[encoded data removed]",
      "text/latex": [
       "$\\displaystyle \\left[\\begin{matrix}- A{\\left(t,r \\right)} & 0 & 0 & 0\\end{matrix}\\right]$"
      ],
      "text/plain": [
       "[-A(t, r)  0  0  0]"
      ]
     },
     "metadata": {},
     "output_type": "display_data"
    },
    {
     "data": {
      "image/png": "[encoded data removed]",
      "text/latex": [
       "$\\displaystyle \\left[\\begin{matrix}0 & B{\\left(t,r \\right)} & 0 & 0\\end{matrix}\\right]$"
      ],
      "text/plain": [
       "[0  B(t, r)  0  0]"
      ]
     },
     "metadata": {},
     "output_type": "display_data"
    },
    {
     "data": {
      "image/png": "[encoded data removed]",
      "text/latex": [
       "$\\displaystyle \\left[\\begin{matrix}0 & 0 & C{\\left(t,r \\right)} & 0\\end{matrix}\\right]$"
      ],
      "text/plain": [
       "[0  0  C(t, r)  0]"
      ]
     },
     "metadata": {},
     "output_type": "display_data"
    },
    {
     "data": {
      "image/png": "[encoded data removed]",
      "text/latex": [
       "$\\displaystyle \\left[\\begin{matrix}0 & 0 & 0 & C{\\left(t,r \\right)} \\sin{\\left(\\theta \\right)}\\end{matrix}\\right]$"
      ],
      "text/plain": [
       "[0  0  0  C(t, r)⋅sin(θ)]"
      ]
     },
     "metadata": {},
     "output_type": "display_data"
    }
   ],
   "source": [
    "Vd = pt.ten('Vd',1)\n",
    "Vd.assign(Vu(\"^mu\")*g(\"_mu,_nu\"),\"_nu\")\n",
    "Vd.display('_')\n",
    "\n",
    "Kd = pt.ten('Kd',1)\n",
    "Kd.assign(Ku(\"^mu\")*g(\"_mu,_nu\"),\"_nu\")\n",
    "Kd.display('_')\n",
    "\n",
    "Ld = pt.ten('Ld',1)\n",
    "Ld.assign(Lu(\"^mu\")*g(\"_mu,_nu\"),\"_nu\")\n",
    "Ld.display('_')\n",
    "\n",
    "Sd = pt.ten('Sd',1)\n",
    "Sd.assign(Su(\"^mu\")*g(\"_mu,_nu\"),\"_nu\")\n",
    "Sd.display('_')"
   ]
  },
  {
   "cell_type": "markdown",
   "id": "70901474",
   "metadata": {},
   "source": [
    "The tetrad satisfies the standard relations:\n",
    "\\begin{eqnarray}\n",
    "V_{\\alpha}V^{\\alpha} &=& -K_{\\alpha}K^{\\alpha} = -L_{\\alpha}L^{\\alpha} = -S_{\\alpha}S^{\\alpha} = -1\\,, \\nonumber \\\\\n",
    "V_{\\alpha}K^{\\alpha} &=& V_{\\alpha}L^{\\alpha} = V_{\\alpha}S^{\\alpha} = K_{\\alpha}L^{\\alpha} = K_{\\alpha}S^{\\alpha} = S_{\\alpha}L^{\\alpha} = 0\\,.  \\nonumber\n",
    "\\end{eqnarray} "
   ]
  },
  {
   "cell_type": "code",
   "execution_count": 6,
   "id": "5f7ea667",
   "metadata": {},
   "outputs": [
    {
     "data": {
      "image/png": "[encoded data removed]",
      "text/latex": [
       "$\\displaystyle \\left[ -1, \\  -1, \\  -1, \\  -1\\right]$"
      ],
      "text/plain": [
       "[-1, -1, -1, -1]"
      ]
     },
     "execution_count": 6,
     "metadata": {},
     "output_type": "execute_result"
    }
   ],
   "source": [
    "unoV = pt.simplify((Vu('^l')*Vd('_l')))\n",
    "unoK = pt.simplify(-1*Ku('^l')*Kd('_l'))\n",
    "unoL = pt.simplify(-1*Lu('^l')*Ld('_l'))\n",
    "unoS = pt.simplify(-1*Su('^l')*Sd('_l'))\n",
    "[unoV,unoK,unoL,unoS]"
   ]
  },
  {
   "cell_type": "code",
   "execution_count": 7,
   "id": "b866ac81",
   "metadata": {},
   "outputs": [
    {
     "data": {
      "image/png": "[encoded data removed]",
      "text/latex": [
       "$\\displaystyle \\left[ 0, \\  0, \\  0, \\  0, \\  0, \\  0\\right]$"
      ],
      "text/plain": [
       "[0, 0, 0, 0, 0, 0]"
      ]
     },
     "execution_count": 7,
     "metadata": {},
     "output_type": "execute_result"
    }
   ],
   "source": [
    "cero1 = pt.simplify(-1*Vu('^l')*Kd('_l'))\n",
    "cero2 = pt.simplify(-1*Vu('^l')*Ld('_l'))\n",
    "cero3 = pt.simplify(-1*Vu('^l')*Sd('_l'))\n",
    "cero4 = pt.simplify(-1*Ku('^l')*Sd('_l'))\n",
    "cero5 = pt.simplify(-1*Ku('^l')*Ld('_l'))\n",
    "cero6 = pt.simplify(-1*Lu('^l')*Sd('_l'))\n",
    "[cero1,cero2,cero3,cero4,cero5,cero6]"
   ]
  },
  {
   "cell_type": "markdown",
   "id": "c7d524b1",
   "metadata": {},
   "source": [
    "## Riemann de Tensor"
   ]
  },
  {
   "cell_type": "code",
   "execution_count": 8,
   "id": "178c59ff",
   "metadata": {},
   "outputs": [
    {
     "data": {
      "text/latex": [
       "Christoffel $\\Gamma_{\\alpha \\beta \\gamma}$ and $\\Gamma^{\\alpha}_{\\beta \\gamma}$"
      ],
      "text/plain": [
       "<IPython.core.display.Latex object>"
      ]
     },
     "metadata": {},
     "output_type": "display_data"
    },
    {
     "data": {
      "application/vnd.jupyter.widget-view+json": {
       "model_id": "19d5776866334acda872039f66c0f825",
       "version_major": 2,
       "version_minor": 0
      },
      "text/plain": [
       "  0%|          | 0/64 [00:00<?, ?it/s]"
      ]
     },
     "metadata": {},
     "output_type": "display_data"
    },
    {
     "data": {
      "text/latex": [
       "Riemann Tensor $R^{\\alpha}_{\\beta \\gamma \\delta}$"
      ],
      "text/plain": [
       "<IPython.core.display.Latex object>"
      ]
     },
     "metadata": {},
     "output_type": "display_data"
    },
    {
     "data": {
      "application/vnd.jupyter.widget-view+json": {
       "model_id": "e34dd7489d0c4827928824afc2d37ca9",
       "version_major": 2,
       "version_minor": 0
      },
      "text/plain": [
       "  0%|          | 0/256 [00:00<?, ?it/s]"
      ]
     },
     "metadata": {},
     "output_type": "display_data"
    },
    {
     "data": {
      "application/vnd.jupyter.widget-view+json": {
       "model_id": "2ca9bcb42a3b4cc492ba514fdf87b29b",
       "version_major": 2,
       "version_minor": 0
      },
      "text/plain": [
       "Riemann Tensor $R{_\\alpha}{_\\beta}{_\\gamma}{_\\delta}$:   0%|          | 0/256 [00:00<?, ?it/s]"
      ]
     },
     "metadata": {},
     "output_type": "display_data"
    },
    {
     "data": {
      "application/vnd.jupyter.widget-view+json": {
       "model_id": "c99d0ccd75f542b195c08a143f86166d",
       "version_major": 2,
       "version_minor": 0
      },
      "text/plain": [
       "Riemann Tensor $R{^\\alpha}{^\\beta}{_\\gamma}{_\\delta}$:   0%|          | 0/256 [00:00<?, ?it/s]"
      ]
     },
     "metadata": {},
     "output_type": "display_data"
    },
    {
     "data": {
      "application/vnd.jupyter.widget-view+json": {
       "model_id": "fa3db552f2b74dea84b17c0b86a6e17b",
       "version_major": 2,
       "version_minor": 0
      },
      "text/plain": [
       "Riemann Tensor $R{^\\alpha}{^\\beta}{^\\gamma}{_\\delta}$:   0%|          | 0/256 [00:00<?, ?it/s]"
      ]
     },
     "metadata": {},
     "output_type": "display_data"
    },
    {
     "data": {
      "application/vnd.jupyter.widget-view+json": {
       "model_id": "ec860caab3374e6aa20fc41f75a38306",
       "version_major": 2,
       "version_minor": 0
      },
      "text/plain": [
       "Riemann Tensor $R{^\\alpha}{^\\beta}{^\\gamma}{^\\delta}$:   0%|          | 0/256 [00:00<?, ?it/s]"
      ]
     },
     "metadata": {},
     "output_type": "display_data"
    },
    {
     "data": {
      "application/vnd.jupyter.widget-view+json": {
       "model_id": "b0428b4885b14f66816d23875315e644",
       "version_major": 2,
       "version_minor": 0
      },
      "text/plain": [
       "Riemann Tensor $R{^\\alpha}{^\\beta}{_\\gamma}{^\\delta}$:   0%|          | 0/256 [00:00<?, ?it/s]"
      ]
     },
     "metadata": {},
     "output_type": "display_data"
    },
    {
     "data": {
      "application/vnd.jupyter.widget-view+json": {
       "model_id": "f2a0eb34e3544c5b9e110141dcae07b9",
       "version_major": 2,
       "version_minor": 0
      },
      "text/plain": [
       "Riemann Tensor $R{^\\alpha}{_\\beta}{^\\gamma}{_\\delta}$:   0%|          | 0/256 [00:00<?, ?it/s]"
      ]
     },
     "metadata": {},
     "output_type": "display_data"
    },
    {
     "data": {
      "application/vnd.jupyter.widget-view+json": {
       "model_id": "f424a660e6cf43d793eff0d71690f2cf",
       "version_major": 2,
       "version_minor": 0
      },
      "text/plain": [
       "Riemann Tensor $R{^\\alpha}{_\\beta}{^\\gamma}{^\\delta}$:   0%|          | 0/256 [00:00<?, ?it/s]"
      ]
     },
     "metadata": {},
     "output_type": "display_data"
    },
    {
     "data": {
      "application/vnd.jupyter.widget-view+json": {
       "model_id": "ebb105d2afad42a28f46147642882b81",
       "version_major": 2,
       "version_minor": 0
      },
      "text/plain": [
       "Riemann Tensor $R{^\\alpha}{_\\beta}{_\\gamma}{^\\delta}$:   0%|          | 0/256 [00:00<?, ?it/s]"
      ]
     },
     "metadata": {},
     "output_type": "display_data"
    },
    {
     "data": {
      "application/vnd.jupyter.widget-view+json": {
       "model_id": "d0447a45073e4520b8f84e7a664233b2",
       "version_major": 2,
       "version_minor": 0
      },
      "text/plain": [
       "Riemann Tensor $R{_\\alpha}{^\\beta}{_\\gamma}{_\\delta}$:   0%|          | 0/256 [00:00<?, ?it/s]"
      ]
     },
     "metadata": {},
     "output_type": "display_data"
    },
    {
     "data": {
      "application/vnd.jupyter.widget-view+json": {
       "model_id": "07ab3fee832348838b146c1c1c0ad621",
       "version_major": 2,
       "version_minor": 0
      },
      "text/plain": [
       "Riemann Tensor $R{_\\alpha}{^\\beta}{^\\gamma}{_\\delta}$:   0%|          | 0/256 [00:00<?, ?it/s]"
      ]
     },
     "metadata": {},
     "output_type": "display_data"
    },
    {
     "data": {
      "application/vnd.jupyter.widget-view+json": {
       "model_id": "aaa23c03a00a47b1a171f7d2c751045a",
       "version_major": 2,
       "version_minor": 0
      },
      "text/plain": [
       "Riemann Tensor $R{_\\alpha}{^\\beta}{^\\gamma}{^\\delta}$:   0%|          | 0/256 [00:00<?, ?it/s]"
      ]
     },
     "metadata": {},
     "output_type": "display_data"
    },
    {
     "data": {
      "application/vnd.jupyter.widget-view+json": {
       "model_id": "48b367a830ab4ae98904f0909ba3fdf9",
       "version_major": 2,
       "version_minor": 0
      },
      "text/plain": [
       "Riemann Tensor $R{_\\alpha}{^\\beta}{_\\gamma}{^\\delta}$:   0%|          | 0/256 [00:00<?, ?it/s]"
      ]
     },
     "metadata": {},
     "output_type": "display_data"
    },
    {
     "data": {
      "application/vnd.jupyter.widget-view+json": {
       "model_id": "8855ded815934b959a6390bba5cacf4f",
       "version_major": 2,
       "version_minor": 0
      },
      "text/plain": [
       "Riemann Tensor $R{_\\alpha}{_\\beta}{^\\gamma}{_\\delta}$:   0%|          | 0/256 [00:00<?, ?it/s]"
      ]
     },
     "metadata": {},
     "output_type": "display_data"
    },
    {
     "data": {
      "application/vnd.jupyter.widget-view+json": {
       "model_id": "266e16f60ff54adfa34077d2c2fd0c15",
       "version_major": 2,
       "version_minor": 0
      },
      "text/plain": [
       "Riemann Tensor $R{_\\alpha}{_\\beta}{^\\gamma}{^\\delta}$:   0%|          | 0/256 [00:00<?, ?it/s]"
      ]
     },
     "metadata": {},
     "output_type": "display_data"
    },
    {
     "data": {
      "application/vnd.jupyter.widget-view+json": {
       "model_id": "2ad31a803d104c9490fcdddc79ccc6e9",
       "version_major": 2,
       "version_minor": 0
      },
      "text/plain": [
       "Riemann Tensor $R{_\\alpha}{_\\beta}{_\\gamma}{^\\delta}$:   0%|          | 0/256 [00:00<?, ?it/s]"
      ]
     },
     "metadata": {},
     "output_type": "display_data"
    },
    {
     "data": {
      "text/latex": [
       "All other indices of Riemann Tensor $R$  already calculated."
      ],
      "text/plain": [
       "<IPython.core.display.Latex object>"
      ]
     },
     "metadata": {},
     "output_type": "display_data"
    }
   ],
   "source": [
    "R = pt.riemann(All=True)"
   ]
  },
  {
   "cell_type": "markdown",
   "id": "a0de7f0c",
   "metadata": {},
   "source": [
    "## Tensor de Einstein"
   ]
  },
  {
   "cell_type": "code",
   "execution_count": 9,
   "id": "14964a2f",
   "metadata": {},
   "outputs": [],
   "source": [
    "#G = pt.einstein(All=True)"
   ]
  },
  {
   "cell_type": "markdown",
   "id": "959f1ac1",
   "metadata": {},
   "source": [
    "The first set equations can be considered purely geometrical and emerges from the projection of the Riemann tensor along the tetrad i.e.\n",
    "$$\n",
    "2 V_{\\alpha ;[\\beta ; \\gamma]}=R_{\\delta \\alpha \\beta \\gamma} V^{\\delta}, \\quad 2 K_{\\alpha ;[\\beta ; \\gamma]}=R_{\\delta \\alpha \\beta \\gamma} K^{\\delta}, \\quad 2 L_{\\alpha ;[\\beta ; \\gamma]}=R_{\\delta \\alpha \\beta \\gamma} L^{\\delta} \\quad \\text { and } \\quad 2 S_{\\alpha ;[\\beta ; \\gamma]}=R_{\\delta \\alpha \\beta \\gamma} S^{\\delta}\n",
    "$$"
   ]
  },
  {
   "cell_type": "code",
   "execution_count": 76,
   "id": "ad6d781f",
   "metadata": {},
   "outputs": [
    {
     "name": "stdout",
     "output_type": "stream",
     "text": [
      "All components are zero\n"
     ]
    }
   ],
   "source": [
    "DeVddd = pt.ten(\"DeVddd\",3)\n",
    "DeVddd.assign(R(\"_delta,_alpha,_beta,_gamma\")*Vu(\"^delta\"),\"_alpha,_beta,_gamma\")\n",
    "DeVddd.simplify()\n",
    "#DeVddd.display('_,_,_')\n",
    "IzVddd = pt.ten(\"IzVddd\",3)\n",
    "IzVddd.assign((pt.C(pt.C(Vd(\"_alpha\"),\"_beta\"),\"_gamma\") - pt.C(pt.C(Vd(\"_alpha\"),\"_gamma\"),\"_beta\")),\"_alpha,_beta,_gamma\")\n",
    "IzVddd.simplify()\n",
    "#IzVddd.display('_,_,_')\n",
    "ceros=pt.ten(\"ceros\",3)\n",
    "ceros.assign(IzVddd('_alpha,_beta,_gamma')-DeVddd('_alpha,_beta,_gamma') ,\"_alpha,_beta,_gamma\")\n",
    "ceros.simplify()\n",
    "ceros.display('_,_,_')"
   ]
  },
  {
   "cell_type": "markdown",
   "id": "344da8b7",
   "metadata": {},
   "source": [
    "Covariant derivatives can be written as:\n",
    "\\begin{eqnarray}\n",
    "\\label{CovDTetrad}\n",
    "V_{\\alpha;\\beta}&=&-a_1K_\\alpha V_\\beta+\\sigma_1K_\\alpha K_\\beta+\\sigma_2(L_\\alpha L_\\beta+S_\\alpha S_\\beta),  \\nonumber \\\\\n",
    "K_{\\alpha;\\beta}&=&-a_1V_\\alpha V_\\beta+\\sigma_1 V_\\alpha K_\\beta+J_1(L_\\alpha L_\\beta+S_\\alpha S_\\beta),  \\\\\n",
    "L_{\\alpha;\\beta} & = &\\sigma_2 V_\\alpha L_\\beta-J_1K_\\alpha L_\\beta+J_2S_\\alpha S_\\beta \\\\\n",
    "S_{\\alpha;\\beta} & = & \\sigma_2 V_\\alpha S_\\beta-J_1K_\\alpha S_\\beta -J_2L_\\alpha S_\\beta \\,. \\nonumber\n",
    "\\end{eqnarray}\n",
    "Where: $J_1$, $J_2$, $\\sigma_{1}$,  $\\sigma_{2}$ and $a_1$ are expressed in terms of the metric functions and their derivatives as:\n",
    "\\begin{equation}\n",
    "    \\label{metricquantities}\n",
    "J_1=\\frac{1}{B}\\frac{C^{\\prime}}{C} \\,, \\quad \n",
    "J_2 = \\frac{1}{C}\\cot(\\theta)\\,, \\quad\n",
    "\\sigma_{1} = \\frac{1}{A}\\frac{\\dot{B}}{B}\\,, \\quad\n",
    "\\sigma_{2} = \\frac{1}{A}\\frac{\\dot{C}}{C} \\quad \\mathrm{and} \\quad  a_1=\\frac{1}{B}\\frac{A^{\\prime}}{A} \\,, \n",
    "\\end{equation}\n",
    "with primes and dots representing respectively, radial and time derivatives."
   ]
  },
  {
   "cell_type": "code",
   "execution_count": 11,
   "id": "5e242a4c",
   "metadata": {},
   "outputs": [
    {
     "data": {
      "image/png": "[encoded data removed]",
      "text/latex": [
       "$\\displaystyle \\left[ \\frac{\\frac{\\partial}{\\partial r} A{\\left(t,r \\right)}}{A{\\left(t,r \\right)} B{\\left(t,r \\right)}}, \\  \\frac{\\frac{\\partial}{\\partial t} B{\\left(t,r \\right)}}{A{\\left(t,r \\right)} B{\\left(t,r \\right)}}, \\  \\frac{\\frac{\\partial}{\\partial t} C{\\left(t,r \\right)}}{A{\\left(t,r \\right)} C{\\left(t,r \\right)}}, \\  \\frac{\\frac{\\partial}{\\partial r} C{\\left(t,r \\right)}}{B{\\left(t,r \\right)} C{\\left(t,r \\right)}}, \\  \\frac{\\cot{\\left(\\theta \\right)}}{C{\\left(t,r \\right)}}\\right]$"
      ],
      "text/plain": [
       "⎡  ∂                ∂                ∂                ∂                     ⎤\n",
       "⎢  ──(A(t, r))      ──(B(t, r))      ──(C(t, r))      ──(C(t, r))           ⎥\n",
       "⎢  ∂r               ∂t               ∂t               ∂r              cot(θ)⎥\n",
       "⎢───────────────, ───────────────, ───────────────, ───────────────, ───────⎥\n",
       "⎣A(t, r)⋅B(t, r)  A(t, r)⋅B(t, r)  A(t, r)⋅C(t, r)  B(t, r)⋅C(t, r)  C(t, r)⎦"
      ]
     },
     "execution_count": 11,
     "metadata": {},
     "output_type": "execute_result"
    }
   ],
   "source": [
    "a1= A.diff(r)/(A*B)\n",
    "\n",
    "sigma1= B.diff(t)/(A*B)\n",
    "sigma2= C.diff(t)/(A*C)\n",
    "\n",
    "J1=C.diff(r)/(C*B)\n",
    "J2=cot(theta)/C\n",
    "[a1,sigma1,sigma2,J1,J2]"
   ]
  },
  {
   "cell_type": "code",
   "execution_count": 12,
   "id": "bf34419b",
   "metadata": {
    "scrolled": true
   },
   "outputs": [
    {
     "data": {
      "application/vnd.jupyter.widget-view+json": {
       "model_id": "548e196017054db98ef87c5d3be2bc08",
       "version_major": 2,
       "version_minor": 0
      },
      "text/plain": [
       "DcVd Tensor $DcVd{^\\alpha}{_\\beta}$:   0%|          | 0/16 [00:00<?, ?it/s]"
      ]
     },
     "metadata": {},
     "output_type": "display_data"
    },
    {
     "data": {
      "application/vnd.jupyter.widget-view+json": {
       "model_id": "2f4c7ca34346481d93d10cb7f3797d0c",
       "version_major": 2,
       "version_minor": 0
      },
      "text/plain": [
       "DcVd Tensor $DcVd{^\\alpha}{^\\beta}$:   0%|          | 0/16 [00:00<?, ?it/s]"
      ]
     },
     "metadata": {},
     "output_type": "display_data"
    },
    {
     "data": {
      "application/vnd.jupyter.widget-view+json": {
       "model_id": "008af73cf20d4120b9666681e3f485ed",
       "version_major": 2,
       "version_minor": 0
      },
      "text/plain": [
       "DcVd Tensor $DcVd{_\\alpha}{^\\beta}$:   0%|          | 0/16 [00:00<?, ?it/s]"
      ]
     },
     "metadata": {},
     "output_type": "display_data"
    },
    {
     "data": {
      "text/latex": [
       "All other indices of DcVd Tensor $DcVd$  already calculated."
      ],
      "text/plain": [
       "<IPython.core.display.Latex object>"
      ]
     },
     "metadata": {},
     "output_type": "display_data"
    }
   ],
   "source": [
    "DcVd = pt.ten('DcVd',2)\n",
    "DcVd_dat = pt.C(Vd('_alpha'),'_beta') \n",
    "DcVd.assign(DcVd_dat,'_alpha,_beta')\n",
    "\n",
    "#DcVd.display()\n",
    "DcVd.complete('_,_')\n",
    "DcVd.simplify()"
   ]
  },
  {
   "cell_type": "code",
   "execution_count": 13,
   "id": "de3f26ec",
   "metadata": {},
   "outputs": [],
   "source": [
    "DcVdS = pt.ten('DcVdS',2)\n",
    "DcVdS.assign(-a1*Kd('_alpha')*Vd('_beta')+ sigma1*Kd('_alpha')*Kd('_beta')+ sigma2*(Ld('_alpha')*Ld('_beta')+Sd('_alpha')*Sd('_beta')) ,\"_alpha,_beta\")\n",
    "#DcVdS.display('_,_')"
   ]
  },
  {
   "cell_type": "code",
   "execution_count": 14,
   "id": "6e66af98",
   "metadata": {},
   "outputs": [
    {
     "data": {
      "image/png": "[encoded data removed]",
      "text/latex": [
       "$\\displaystyle \\left[\\begin{matrix}0 & 0 & 0 & 0\\\\0 & 0 & 0 & 0\\\\0 & 0 & 0 & 0\\\\0 & 0 & 0 & 0\\end{matrix}\\right]$"
      ],
      "text/plain": [
       "⎡0  0  0  0⎤\n",
       "⎢          ⎥\n",
       "⎢0  0  0  0⎥\n",
       "⎢          ⎥\n",
       "⎢0  0  0  0⎥\n",
       "⎢          ⎥\n",
       "⎣0  0  0  0⎦"
      ]
     },
     "metadata": {},
     "output_type": "display_data"
    }
   ],
   "source": [
    "ceros1=pt.ten('ceros1',2)\n",
    "ceros1.assign(DcVd('_mu,_nu')-DcVdS('_mu,_nu') ,\"_mu,_nu\")\n",
    "ceros1.simplify()\n",
    "ceros1.display('_,_')"
   ]
  },
  {
   "cell_type": "code",
   "execution_count": 15,
   "id": "3da854a4",
   "metadata": {},
   "outputs": [],
   "source": [
    "DcKd_dat = pt.C(Kd('_alpha'),'_beta') \n",
    "DcKd = pt.ten('DcKd',2)\n",
    "DcKd.assign(DcKd_dat,'_alpha,_beta')\n",
    "#DcKd.display()\n",
    "DcKdS = pt.ten('DcKdS',2)\n",
    "DcKdS.assign(-a1*Vd('_alpha')*Vd('_beta')+ sigma1*Vd('_alpha')*Kd('_beta')+ J1*(Ld('_alpha')*Ld('_beta')+Sd('_alpha')*Sd('_beta')) ,\"_alpha,_beta\")\n",
    "DcKdS.simplify()\n",
    "#DcKdS.display('_,_')"
   ]
  },
  {
   "cell_type": "code",
   "execution_count": 16,
   "id": "5a03b2fb",
   "metadata": {},
   "outputs": [
    {
     "data": {
      "image/png": "[encoded data removed]",
      "text/latex": [
       "$\\displaystyle \\left[\\begin{matrix}0 & 0 & 0 & 0\\\\0 & 0 & 0 & 0\\\\0 & 0 & 0 & 0\\\\0 & 0 & 0 & 0\\end{matrix}\\right]$"
      ],
      "text/plain": [
       "⎡0  0  0  0⎤\n",
       "⎢          ⎥\n",
       "⎢0  0  0  0⎥\n",
       "⎢          ⎥\n",
       "⎢0  0  0  0⎥\n",
       "⎢          ⎥\n",
       "⎣0  0  0  0⎦"
      ]
     },
     "metadata": {},
     "output_type": "display_data"
    }
   ],
   "source": [
    "ceros2=pt.ten('ceros2',2)\n",
    "ceros2.assign(DcKd('_mu,_nu')-DcKdS('_mu,_nu') ,\"_mu,_nu\")\n",
    "ceros2.simplify()\n",
    "ceros2.display('_,_')"
   ]
  },
  {
   "cell_type": "code",
   "execution_count": 17,
   "id": "a2eccaee",
   "metadata": {},
   "outputs": [],
   "source": [
    "DcLd_dat = pt.C(Ld('_alpha'),'_beta') \n",
    "DcLd = pt.ten('DcLd',2)\n",
    "DcLd.assign(DcLd_dat,'_alpha,_beta')\n",
    "DcLd.simplify()\n",
    "#DcLd.display()\n",
    "DcLdS = pt.ten('DcLdS',2)\n",
    "DcLdS.assign(sigma2*Vd('_alpha')*Ld('_beta')- J1*Kd('_alpha')*Ld('_beta')+ J2*Sd('_alpha')*Sd('_beta') ,\"_alpha,_beta\")\n",
    "DcLdS.simplify()\n",
    "#DcLdS.display('_,_')"
   ]
  },
  {
   "cell_type": "code",
   "execution_count": 18,
   "id": "713074e8",
   "metadata": {},
   "outputs": [
    {
     "data": {
      "image/png": "[encoded data removed]",
      "text/latex": [
       "$\\displaystyle \\left[\\begin{matrix}0 & 0 & 0 & 0\\\\0 & 0 & 0 & 0\\\\0 & 0 & 0 & 0\\\\0 & 0 & 0 & 0\\end{matrix}\\right]$"
      ],
      "text/plain": [
       "⎡0  0  0  0⎤\n",
       "⎢          ⎥\n",
       "⎢0  0  0  0⎥\n",
       "⎢          ⎥\n",
       "⎢0  0  0  0⎥\n",
       "⎢          ⎥\n",
       "⎣0  0  0  0⎦"
      ]
     },
     "metadata": {},
     "output_type": "display_data"
    }
   ],
   "source": [
    "ceros3=pt.ten('ceros3',2)\n",
    "ceros3.assign(DcLd('_mu,_nu')-DcLdS('_mu,_nu') ,\"_mu,_nu\")\n",
    "ceros3.simplify()\n",
    "ceros3.display('_,_')"
   ]
  },
  {
   "cell_type": "code",
   "execution_count": 19,
   "id": "6ef58b0f",
   "metadata": {},
   "outputs": [],
   "source": [
    "DcSd_dat = pt.C(Sd('_alpha'),'_beta') \n",
    "DcSd = pt.ten('DcSd',2)\n",
    "DcSd.assign(DcSd_dat,'_alpha,_beta')\n",
    "DcSd.simplify()\n",
    "#DcSd.display()\n",
    "DcSdS = pt.ten('DcSdS',2)\n",
    "DcSdS.assign(sigma2*Vd('_alpha')*Sd('_beta')- J1*Kd('_alpha')*Sd('_beta')- J2*Ld('_alpha')*Sd('_beta') ,\"_alpha,_beta\")\n",
    "DcSdS.simplify()\n",
    "#DcSdS.display('_,_')"
   ]
  },
  {
   "cell_type": "code",
   "execution_count": 20,
   "id": "554a0f48",
   "metadata": {
    "scrolled": true
   },
   "outputs": [
    {
     "data": {
      "image/png": "[encoded data removed]",
      "text/latex": [
       "$\\displaystyle \\left[\\begin{matrix}0 & 0 & 0 & 0\\\\0 & 0 & 0 & 0\\\\0 & 0 & 0 & 0\\\\0 & 0 & 0 & 0\\end{matrix}\\right]$"
      ],
      "text/plain": [
       "⎡0  0  0  0⎤\n",
       "⎢          ⎥\n",
       "⎢0  0  0  0⎥\n",
       "⎢          ⎥\n",
       "⎢0  0  0  0⎥\n",
       "⎢          ⎥\n",
       "⎣0  0  0  0⎦"
      ]
     },
     "metadata": {},
     "output_type": "display_data"
    }
   ],
   "source": [
    "ceros4=pt.ten('ceros4',2)\n",
    "ceros4.assign(DcSd('_mu,_nu')-DcSdS('_mu,_nu') ,\"_mu,_nu\")\n",
    "ceros4.simplify()\n",
    "ceros4.display('_,_')"
   ]
  },
  {
   "cell_type": "markdown",
   "id": "2bbf359b",
   "metadata": {},
   "source": [
    "$h_{\\mu\\nu}=g_{\\mu\\nu} +V_\\mu V_\\nu = K_\\mu K_\\nu+L_\\mu L_\\nu+S_\\mu S_\\nu$"
   ]
  },
  {
   "cell_type": "code",
   "execution_count": 21,
   "id": "b924c89c",
   "metadata": {
    "scrolled": true
   },
   "outputs": [
    {
     "data": {
      "image/png": "[encoded data removed]",
      "text/latex": [
       "$\\displaystyle \\left[\\begin{matrix}0 & 0 & 0 & 0\\\\0 & B^{2}{\\left(t,r \\right)} & 0 & 0\\\\0 & 0 & C^{2}{\\left(t,r \\right)} & 0\\\\0 & 0 & 0 & C^{2}{\\left(t,r \\right)} \\sin^{2}{\\left(\\theta \\right)}\\end{matrix}\\right]$"
      ],
      "text/plain": [
       "⎡0     0         0             0        ⎤\n",
       "⎢                                       ⎥\n",
       "⎢    2                                  ⎥\n",
       "⎢0  B (t, r)     0             0        ⎥\n",
       "⎢                                       ⎥\n",
       "⎢              2                        ⎥\n",
       "⎢0     0      C (t, r)         0        ⎥\n",
       "⎢                                       ⎥\n",
       "⎢                        2          2   ⎥\n",
       "⎣0     0         0      C (t, r)⋅sin (θ)⎦"
      ]
     },
     "metadata": {},
     "output_type": "display_data"
    },
    {
     "data": {
      "application/vnd.jupyter.widget-view+json": {
       "model_id": "e6278173e7bf41beb32c8a34f5342630",
       "version_major": 2,
       "version_minor": 0
      },
      "text/plain": [
       "hdd Tensor $hdd{^\\alpha}{_\\beta}$:   0%|          | 0/16 [00:00<?, ?it/s]"
      ]
     },
     "metadata": {},
     "output_type": "display_data"
    },
    {
     "data": {
      "application/vnd.jupyter.widget-view+json": {
       "model_id": "e99fdbe118bc443a842db91b5517db79",
       "version_major": 2,
       "version_minor": 0
      },
      "text/plain": [
       "hdd Tensor $hdd{^\\alpha}{^\\beta}$:   0%|          | 0/16 [00:00<?, ?it/s]"
      ]
     },
     "metadata": {},
     "output_type": "display_data"
    },
    {
     "data": {
      "application/vnd.jupyter.widget-view+json": {
       "model_id": "3274ef14c27d4108b9d112054ec1d08d",
       "version_major": 2,
       "version_minor": 0
      },
      "text/plain": [
       "hdd Tensor $hdd{_\\alpha}{^\\beta}$:   0%|          | 0/16 [00:00<?, ?it/s]"
      ]
     },
     "metadata": {},
     "output_type": "display_data"
    },
    {
     "data": {
      "text/latex": [
       "All other indices of hdd Tensor $hdd$  already calculated."
      ],
      "text/plain": [
       "<IPython.core.display.Latex object>"
      ]
     },
     "metadata": {},
     "output_type": "display_data"
    }
   ],
   "source": [
    "hdd=pt.ten('hdd',2)\n",
    "hdd.assign(g(\"_mu,_nu\")+Vd('_mu')*Vd('_nu') ,\"_mu,_nu\")\n",
    "hdd.simplify()\n",
    "hdd.display('_,_')\n",
    "hdd.complete('_,_')\n",
    "hdd.simplify()"
   ]
  },
  {
   "cell_type": "markdown",
   "id": "900d9894",
   "metadata": {},
   "source": [
    "## The energy momentum tensor\n",
    "\n",
    "\\begin{equation}\n",
    "{T}_{\\alpha\\beta}= (\\rho+P) V_\\alpha V_\\beta+P g _{\\alpha \\beta} +\\Pi_{\\alpha \\beta}+\\mathcal{F}_\\alpha V_\\beta+\\mathcal{F}_\\beta V_\\alpha .\n",
    "\\label{EnergyTensor}\n",
    "\\end{equation}"
   ]
  },
  {
   "cell_type": "code",
   "execution_count": 22,
   "id": "0b9ba256",
   "metadata": {},
   "outputs": [
    {
     "data": {
      "image/png": "[encoded data removed]",
      "text/latex": [
       "$\\displaystyle \\left[\\begin{matrix}0 & B{\\left(t,r \\right)} F{\\left(t,r \\right)} & 0 & 0\\end{matrix}\\right]$"
      ],
      "text/plain": [
       "[0  B(t, r)⋅F(t, r)  0  0]"
      ]
     },
     "metadata": {},
     "output_type": "display_data"
    },
    {
     "data": {
      "application/vnd.jupyter.widget-view+json": {
       "model_id": "410690b05e4043318e452cfd3df086f8",
       "version_major": 2,
       "version_minor": 0
      },
      "text/plain": [
       "Fd Tensor $Fd{^\\alpha}$:   0%|          | 0/4 [00:00<?, ?it/s]"
      ]
     },
     "metadata": {},
     "output_type": "display_data"
    },
    {
     "data": {
      "text/latex": [
       "All other indices of Fd Tensor $Fd$  already calculated."
      ],
      "text/plain": [
       "<IPython.core.display.Latex object>"
      ]
     },
     "metadata": {},
     "output_type": "display_data"
    }
   ],
   "source": [
    "Fd=pt.ten('Fd',1)\n",
    "Fd.assign(F*Kd('_mu') ,\"_mu\")\n",
    "Fd.simplify()\n",
    "Fd.display('_')\n",
    "Fd.complete('_')"
   ]
  },
  {
   "cell_type": "code",
   "execution_count": 23,
   "id": "17115b05",
   "metadata": {},
   "outputs": [
    {
     "data": {
      "image/png": "[encoded data removed]",
      "text/latex": [
       "$\\displaystyle 0$"
      ],
      "text/plain": [
       "0"
      ]
     },
     "execution_count": 23,
     "metadata": {},
     "output_type": "execute_result"
    }
   ],
   "source": [
    "Fd(\"^mu\")*Vd(\"_mu\")"
   ]
  },
  {
   "cell_type": "code",
   "execution_count": 24,
   "id": "b1e980ea",
   "metadata": {
    "scrolled": false
   },
   "outputs": [
    {
     "data": {
      "image/png": "[encoded data removed]",
      "text/latex": [
       "$\\displaystyle \\left[\\begin{matrix}0 & 0 & 0 & 0\\\\0 & \\frac{2 B^{2}{\\left(t,r \\right)} \\Delta{\\left(t,r \\right)}}{3} & 0 & 0\\\\0 & 0 & - \\frac{C^{2}{\\left(t,r \\right)} \\Delta{\\left(t,r \\right)}}{3} & 0\\\\0 & 0 & 0 & - \\frac{C^{2}{\\left(t,r \\right)} \\Delta{\\left(t,r \\right)} \\sin^{2}{\\left(\\theta \\right)}}{3}\\end{matrix}\\right]$"
      ],
      "text/plain": [
       "⎡0          0                   0                       0             ⎤\n",
       "⎢                                                                     ⎥\n",
       "⎢      2                                                              ⎥\n",
       "⎢   2⋅B (t, r)⋅Δ(t, r)                                                ⎥\n",
       "⎢0  ──────────────────          0                       0             ⎥\n",
       "⎢           3                                                         ⎥\n",
       "⎢                                                                     ⎥\n",
       "⎢                         2                                           ⎥\n",
       "⎢                       -C (t, r)⋅Δ(t, r)                             ⎥\n",
       "⎢0          0           ──────────────────              0             ⎥\n",
       "⎢                               3                                     ⎥\n",
       "⎢                                                                     ⎥\n",
       "⎢                                             2                  2    ⎥\n",
       "⎢                                           -C (t, r)⋅Δ(t, r)⋅sin (θ) ⎥\n",
       "⎢0          0                   0           ──────────────────────────⎥\n",
       "⎣                                                       3             ⎦"
      ]
     },
     "metadata": {},
     "output_type": "display_data"
    }
   ],
   "source": [
    "PI=pt.ten('PI',2)\n",
    "PI.assign(Delta*(Kd(\"_alpha\")*Kd(\"_beta\")-hdd(\"_alpha,_beta\")/3) ,\"_alpha,_beta\")\n",
    "PI.simplify()\n",
    "PI.display('_,_')"
   ]
  },
  {
   "cell_type": "code",
   "execution_count": 25,
   "id": "85c08eb9",
   "metadata": {},
   "outputs": [
    {
     "data": {
      "image/png": "[encoded data removed]",
      "text/latex": [
       "$\\displaystyle \\left[\\begin{matrix}A^{2}{\\left(t,r \\right)} \\rho{\\left(t,r \\right)} & - A{\\left(t,r \\right)} B{\\left(t,r \\right)} F{\\left(t,r \\right)} & 0 & 0\\\\- A{\\left(t,r \\right)} B{\\left(t,r \\right)} F{\\left(t,r \\right)} & \\left(\\frac{2 \\Delta{\\left(t,r \\right)}}{3} + P{\\left(t,r \\right)}\\right) B^{2}{\\left(t,r \\right)} & 0 & 0\\\\0 & 0 & \\left(- \\frac{\\Delta{\\left(t,r \\right)}}{3} + P{\\left(t,r \\right)}\\right) C^{2}{\\left(t,r \\right)} & 0\\\\0 & 0 & 0 & \\left(- \\frac{\\Delta{\\left(t,r \\right)}}{3} + P{\\left(t,r \\right)}\\right) C^{2}{\\left(t,r \\right)} \\sin^{2}{\\left(\\theta \\right)}\\end{matrix}\\right]$"
      ],
      "text/plain": [
       "⎡     2                                                                                                                          ⎤\n",
       "⎢    A (t, r)⋅ρ(t, r)         -A(t, r)⋅B(t, r)⋅F(t, r)                   0                                   0                   ⎥\n",
       "⎢                                                                                                                                ⎥\n",
       "⎢                          ⎛2⋅Δ(t, r)          ⎞  2                                                                              ⎥\n",
       "⎢-A(t, r)⋅B(t, r)⋅F(t, r)  ⎜───────── + P(t, r)⎟⋅B (t, r)                0                                   0                   ⎥\n",
       "⎢                          ⎝    3              ⎠                                                                                 ⎥\n",
       "⎢                                                                                                                                ⎥\n",
       "⎢                                                          ⎛  Δ(t, r)          ⎞  2                                              ⎥\n",
       "⎢           0                            0                 ⎜- ─────── + P(t, r)⎟⋅C (t, r)                    0                   ⎥\n",
       "⎢                                                          ⎝     3             ⎠                                                 ⎥\n",
       "⎢                                                                                                                                ⎥\n",
       "⎢                                                                                          ⎛  Δ(t, r)          ⎞  2          2   ⎥\n",
       "⎢           0                            0                               0                 ⎜- ─────── + P(t, r)⎟⋅C (t, r)⋅sin (θ)⎥\n",
       "⎣                                                                                          ⎝     3             ⎠                 ⎦"
      ]
     },
     "metadata": {},
     "output_type": "display_data"
    }
   ],
   "source": [
    "T = pt.ten('T',2)\n",
    "T.assign((rho+P)*Vd(\"_mu\")*Vd(\"_nu\")+P*g(\"_mu,_nu\")+PI(\"_mu,_nu\")+Fd(\"_mu\")*Vd(\"_nu\")+Fd(\"_nu\")*Vd(\"_mu\") ,\"_mu,_nu\")\n",
    "T.simplify()\n",
    "T.display('_,_')"
   ]
  },
  {
   "cell_type": "code",
   "execution_count": 26,
   "id": "ddb02cac",
   "metadata": {},
   "outputs": [
    {
     "data": {
      "application/vnd.jupyter.widget-view+json": {
       "model_id": "9a39817574744c8e92677f516146253b",
       "version_major": 2,
       "version_minor": 0
      },
      "text/plain": [
       "T Tensor $T{^\\alpha}{_\\beta}$:   0%|          | 0/16 [00:00<?, ?it/s]"
      ]
     },
     "metadata": {},
     "output_type": "display_data"
    },
    {
     "data": {
      "application/vnd.jupyter.widget-view+json": {
       "model_id": "7a2001ed760a4db89b965656ceae3a3f",
       "version_major": 2,
       "version_minor": 0
      },
      "text/plain": [
       "T Tensor $T{^\\alpha}{^\\beta}$:   0%|          | 0/16 [00:00<?, ?it/s]"
      ]
     },
     "metadata": {},
     "output_type": "display_data"
    },
    {
     "data": {
      "application/vnd.jupyter.widget-view+json": {
       "model_id": "bdad42768de64d6b865b9136a5bc2047",
       "version_major": 2,
       "version_minor": 0
      },
      "text/plain": [
       "T Tensor $T{_\\alpha}{^\\beta}$:   0%|          | 0/16 [00:00<?, ?it/s]"
      ]
     },
     "metadata": {},
     "output_type": "display_data"
    },
    {
     "data": {
      "text/latex": [
       "All other indices of T Tensor $T$  already calculated."
      ],
      "text/plain": [
       "<IPython.core.display.Latex object>"
      ]
     },
     "metadata": {},
     "output_type": "display_data"
    }
   ],
   "source": [
    "T.complete('_,_')\n",
    "T.simplify()"
   ]
  },
  {
   "cell_type": "markdown",
   "id": "eb81206e",
   "metadata": {},
   "source": [
    "\\begin{equation}\n",
    "\\rho = T_{\\alpha \\beta} V^\\alpha V^\\beta, \\quad \n",
    "\\mathcal{F}_\\alpha=-\\rho V_\\alpha - T_{\\alpha\\beta}V^\\beta, \\quad \n",
    "P = \\frac{1}{3} h^{\\alpha \\beta} T_{\\alpha \\beta} \\quad \\mathrm{and} \\quad \\Pi_{\\alpha \\beta} = h_\\alpha^\\mu h_\\beta^\\nu \\left(T_{\\mu\\nu} - P h_{\\mu\\nu}\\right)\\,,\n",
    "\\end{equation}"
   ]
  },
  {
   "cell_type": "code",
   "execution_count": 27,
   "id": "a4a514e8",
   "metadata": {},
   "outputs": [
    {
     "data": {
      "image/png": "[encoded data removed]",
      "text/latex": [
       "$\\displaystyle \\rho{\\left(t,r \\right)}$"
      ],
      "text/plain": [
       "ρ(t, r)"
      ]
     },
     "execution_count": 27,
     "metadata": {},
     "output_type": "execute_result"
    }
   ],
   "source": [
    "T(\"_mu,_nu\")*Vu('^mu')*Vu('^nu')"
   ]
  },
  {
   "cell_type": "code",
   "execution_count": 28,
   "id": "e9accb3b",
   "metadata": {},
   "outputs": [
    {
     "data": {
      "image/png": "[encoded data removed]",
      "text/latex": [
       "$\\displaystyle \\left[\\begin{matrix}0 & B{\\left(t,r \\right)} F{\\left(t,r \\right)} & 0 & 0\\end{matrix}\\right]$"
      ],
      "text/plain": [
       "[0  B(t, r)⋅F(t, r)  0  0]"
      ]
     },
     "metadata": {},
     "output_type": "display_data"
    }
   ],
   "source": [
    "Fdp=pt.ten('Fdp',1)\n",
    "Fdp.assign(-rho*Vd('_mu') -T(\"_mu,_nu\")*Vu('^nu') ,\"_mu\")\n",
    "Fdp.simplify()\n",
    "Fdp.display('_')"
   ]
  },
  {
   "cell_type": "code",
   "execution_count": 29,
   "id": "7b44909e",
   "metadata": {},
   "outputs": [
    {
     "data": {
      "image/png": "[encoded data removed]",
      "text/latex": [
       "$\\displaystyle P{\\left(t,r \\right)}$"
      ],
      "text/plain": [
       "P(t, r)"
      ]
     },
     "execution_count": 29,
     "metadata": {},
     "output_type": "execute_result"
    }
   ],
   "source": [
    "hdd(\"^mu,^nu\")*T(\"_mu,_nu\")/3"
   ]
  },
  {
   "cell_type": "code",
   "execution_count": 30,
   "id": "bcfc309b",
   "metadata": {
    "scrolled": true
   },
   "outputs": [
    {
     "data": {
      "image/png": "[encoded data removed]",
      "text/latex": [
       "$\\displaystyle \\Delta{\\left(t,r \\right)} + 3 P{\\left(t,r \\right)}$"
      ],
      "text/plain": [
       "Δ(t, r) + 3⋅P(t, r)"
      ]
     },
     "execution_count": 30,
     "metadata": {},
     "output_type": "execute_result"
    }
   ],
   "source": [
    "(2*Ku('^alpha')*Ku('^beta') + Lu('^alpha')*Lu('^beta') )*T(\"_alpha,_beta\")"
   ]
  },
  {
   "cell_type": "markdown",
   "id": "9cf2be29",
   "metadata": {},
   "source": [
    "Finally, we shall express the kinematical variables (the four-acceleration, the expansion scalar and the shear tensor) for a self-gravitating fluid as:\n",
    "\\begin{eqnarray}\n",
    "a_\\alpha&=&V^\\beta V_{\\alpha;\\beta}=a K_\\alpha =\\left(0, \\frac {A^{\\prime} }{A },0,0\\right),\n",
    "\\label{aceleration} \\\\\n",
    "\\Theta&=&V^\\alpha_{;\\alpha} =\\frac{1}{A}\\,\\left(\\frac{\\dot{B}}{B}+\\frac{2\\dot{R}}{R}\\right), \\label{theta} \\\\\n",
    "\\sigma&=&\\frac{1}{A}\\left(\\frac{\\dot{B}}{B} -\\frac{\\dot{R}}{R}\\right)\\,.  \\label{shear}\n",
    "\\end{eqnarray}"
   ]
  },
  {
   "cell_type": "code",
   "execution_count": 31,
   "id": "131ed722",
   "metadata": {},
   "outputs": [
    {
     "data": {
      "image/png": "[encoded data removed]",
      "text/latex": [
       "$\\displaystyle \\left[\\begin{matrix}0 & \\frac{\\frac{\\partial}{\\partial r} A{\\left(t,r \\right)}}{A{\\left(t,r \\right)}} & 0 & 0\\end{matrix}\\right]$"
      ],
      "text/plain": [
       "⎡   ∂                ⎤\n",
       "⎢   ──(A(t, r))      ⎥\n",
       "⎢   ∂r               ⎥\n",
       "⎢0  ───────────  0  0⎥\n",
       "⎣     A(t, r)        ⎦"
      ]
     },
     "metadata": {},
     "output_type": "display_data"
    }
   ],
   "source": [
    "acd=pt.ten('acd',1)\n",
    "acd.assign(Vu('^beta')*DcVd('_alpha,_beta') ,\"_alpha\")\n",
    "acd.simplify()\n",
    "acd.display('_')"
   ]
  },
  {
   "cell_type": "code",
   "execution_count": 32,
   "id": "c269d75b",
   "metadata": {},
   "outputs": [
    {
     "data": {
      "image/png": "[encoded data removed]",
      "text/latex": [
       "$\\displaystyle \\frac{2 \\frac{\\partial}{\\partial t} C{\\left(t,r \\right)}}{A{\\left(t,r \\right)} C{\\left(t,r \\right)}} + \\frac{\\frac{\\partial}{\\partial t} B{\\left(t,r \\right)}}{A{\\left(t,r \\right)} B{\\left(t,r \\right)}}$"
      ],
      "text/plain": [
       "   ∂                ∂            \n",
       " 2⋅──(C(t, r))      ──(B(t, r))  \n",
       "   ∂t               ∂t           \n",
       "─────────────── + ───────────────\n",
       "A(t, r)⋅C(t, r)   A(t, r)⋅B(t, r)"
      ]
     },
     "metadata": {},
     "output_type": "display_data"
    }
   ],
   "source": [
    "Theta=DcVd('^alpha,_alpha')\n",
    "display(Theta)"
   ]
  },
  {
   "cell_type": "code",
   "execution_count": 33,
   "id": "a829fdc7",
   "metadata": {
    "scrolled": true
   },
   "outputs": [
    {
     "data": {
      "image/png": "[encoded data removed]",
      "text/latex": [
       "$\\displaystyle \\frac{- \\frac{\\frac{\\partial}{\\partial t} C{\\left(t,r \\right)}}{C{\\left(t,r \\right)}} + \\frac{\\frac{\\partial}{\\partial t} B{\\left(t,r \\right)}}{B{\\left(t,r \\right)}}}{A{\\left(t,r \\right)}}$"
      ],
      "text/plain": [
       "  ∂             ∂          \n",
       "  ──(C(t, r))   ──(B(t, r))\n",
       "  ∂t            ∂t         \n",
       "- ─────────── + ───────────\n",
       "    C(t, r)       B(t, r)  \n",
       "───────────────────────────\n",
       "          A(t, r)          "
      ]
     },
     "metadata": {},
     "output_type": "display_data"
    }
   ],
   "source": [
    "sh= 1/A*(B.diff(t)/(B)-C.diff(t)/(C)  )\n",
    "display(sh)"
   ]
  },
  {
   "cell_type": "markdown",
   "id": "4b602176",
   "metadata": {},
   "source": [
    "## The splitting of the Riemann tensor and structure scalars\n",
    "\n",
    "In this section we shall introduce a set of scalar functions --the structure scalars--  obtained from the orthogonal splitting of the Riemann tensor\n",
    "\n",
    "\n",
    "We can express the splitting of the Riemann tensor as:\n",
    "\\begin{eqnarray}\n",
    "R_{\\alpha \\beta \\mu \\nu}&=&2V_\\mu V_{[\\alpha}Y_{\\beta] \\, \\nu}+2h_{\\alpha[\\nu}X_{\\mu] \\,  \\beta}+2V_\\nu V_{[\\beta}Y_{\\alpha] \\, \\mu}\n",
    "+ h_{\\beta\\nu}(X_0 \\, h_{\\alpha\\mu}-X_{\\alpha\\mu})+h_{\\beta\\mu}(X_{\\alpha\\nu} -X_0 \\, h_{\\alpha\\nu}) \\nonumber \\\\\n",
    "& & \\qquad + 2V_{[\\nu} Z_{ \\, \\mu]}^{\\gamma}\\varepsilon_{{\\alpha \\beta \\gamma}} +2V_{[\\beta} Z_{{\\,  \\ \\alpha]}}^{{\\gamma }}\\ \\varepsilon_{{\\mu \\nu \\gamma}} \\,,\n",
    "\\end{eqnarray}\n",
    "\n",
    "with $\\varepsilon_{\\mu \\nu \\gamma} = \\eta_{\\phi \\mu \\nu \\gamma} V^{\\phi}$, and  $ \\eta_{\\phi \\mu \\nu \\gamma}$ the Levi-Civita 4-tensor. \n",
    "\n",
    "Where the quantities: $Y_{\\alpha\\beta}$, $X_{\\alpha\\beta}$ and $Z_{\\alpha\\beta}$ can be expressed as\n",
    "\\begin{eqnarray}\n",
    "Y_{\\alpha\\beta}&=&\\frac{1}{3}Y_0 \\, h_{\\alpha\\beta} +Y_1\\left[K_\\alpha K_\\beta-\\frac{1}{3} h_{\\alpha\\beta}\\right], \\quad\n",
    "X_{\\alpha\\beta} = \\frac{1}{3} X_0 \\, h_{\\alpha\\beta} +X_1\\left[K_\\alpha K_\\beta-\\frac{1}{3} h_{\\alpha\\beta}\\right] \\quad \\mathrm{and}  \\\\\n",
    "Z_{\\alpha\\beta}&=&Z \\, (L_\\alpha S_\\beta-L_\\beta S_\\alpha)\\,,\n",
    "\\end{eqnarray}\n",
    "with\n",
    "\\begin{equation}\n",
    "Y_0 = 4\\pi(\\rho+3P), \\quad Y_1=\\mathcal{E}-4\\pi \\Pi, \\quad\n",
    "X_0=8\\pi \\rho\\,, X_1 = -(\\mathcal{E}+4\\pi \\Pi) \\quad\n",
    "\\mathrm{and} \\quad  Z= 4 \\pi \\mathcal{F} \\,.\n",
    "\\label{varfis}\n",
    "\\end{equation}"
   ]
  },
  {
   "cell_type": "code",
   "execution_count": 34,
   "id": "540d37be",
   "metadata": {},
   "outputs": [],
   "source": [
    "#Delta=(2*Ku('^alpha')*Ku('^beta') + Lu('^alpha')*Lu('^beta') )*T(\"_alpha,_beta\")\n",
    "#E = pt.fun('E','t,r')\n",
    "Y0=4*pi*(rho+3*P)\n",
    "Y1= E-4*pi*Delta"
   ]
  },
  {
   "cell_type": "code",
   "execution_count": 35,
   "id": "86404936",
   "metadata": {
    "scrolled": false
   },
   "outputs": [
    {
     "data": {
      "image/png": "[encoded data removed]",
      "text/latex": [
       "$\\displaystyle \\left[\\begin{matrix}0 & 0 & 0 & 0\\\\0 & \\frac{2 \\left(2 \\pi \\left(3 P{\\left(t,r \\right)} + \\rho{\\left(t,r \\right)}\\right) - 4 \\pi \\Delta{\\left(t,r \\right)} + E{\\left(t,r \\right)}\\right) B^{2}{\\left(t,r \\right)}}{3} & 0 & 0\\\\0 & 0 & \\frac{\\left(4 \\pi \\left(3 P{\\left(t,r \\right)} + \\rho{\\left(t,r \\right)}\\right) + 4 \\pi \\Delta{\\left(t,r \\right)} - E{\\left(t,r \\right)}\\right) C^{2}{\\left(t,r \\right)}}{3} & 0\\\\0 & 0 & 0 & \\frac{\\left(4 \\pi \\left(3 P{\\left(t,r \\right)} + \\rho{\\left(t,r \\right)}\\right) + 4 \\pi \\Delta{\\left(t,r \\right)} - E{\\left(t,r \\right)}\\right) C^{2}{\\left(t,r \\right)} \\sin^{2}{\\left(\\theta \\right)}}{3}\\end{matrix}\\right]$"
      ],
      "text/plain": [
       "⎡0                                0                                                              0                                    \n",
       "⎢                                                                                                                                     \n",
       "⎢                                                          2                                                                          \n",
       "⎢   2⋅(2⋅π⋅(3⋅P(t, r) + ρ(t, r)) - 4⋅π⋅Δ(t, r) + E(t, r))⋅B (t, r)                                                                    \n",
       "⎢0  ──────────────────────────────────────────────────────────────                               0                                    \n",
       "⎢                                 3                                                                                                   \n",
       "⎢                                                                                                                                     \n",
       "⎢                                                                                                                        2            \n",
       "⎢                                                                   (4⋅π⋅(3⋅P(t, r) + ρ(t, r)) + 4⋅π⋅Δ(t, r) - E(t, r))⋅C (t, r)      \n",
       "⎢0                                0                                 ────────────────────────────────────────────────────────────      \n",
       "⎢                                                                                                3                                    \n",
       "⎢                                                                                                                                     \n",
       "⎢                                                                                                                                     \n",
       "⎢                                                                                                                                 (4⋅π\n",
       "⎢0                                0                                                              0                                ────\n",
       "⎣                                                                                                                                     \n",
       "\n",
       "                             0                                  ⎤\n",
       "                                                                ⎥\n",
       "                                                                ⎥\n",
       "                                                                ⎥\n",
       "                             0                                  ⎥\n",
       "                                                                ⎥\n",
       "                                                                ⎥\n",
       "                                                                ⎥\n",
       "                                                                ⎥\n",
       "                             0                                  ⎥\n",
       "                                                                ⎥\n",
       "                                                                ⎥\n",
       "                                                 2          2   ⎥\n",
       "⋅(3⋅P(t, r) + ρ(t, r)) + 4⋅π⋅Δ(t, r) - E(t, r))⋅C (t, r)⋅sin (θ)⎥\n",
       "────────────────────────────────────────────────────────────────⎥\n",
       "                             3                                  ⎦"
      ]
     },
     "metadata": {},
     "output_type": "display_data"
    }
   ],
   "source": [
    "Ydd= pt.ten('Ydd',2)\n",
    "Ydd.assign(Y0*hdd(\"_alpha,_beta\")/3 + Y1*(Kd('_alpha')*Kd('_beta')-hdd(\"_alpha,_beta\")/3) ,\"_alpha,_beta\")\n",
    "Ydd.simplify()\n",
    "Ydd.display('_,_')"
   ]
  },
  {
   "cell_type": "code",
   "execution_count": 36,
   "id": "5d18586a",
   "metadata": {},
   "outputs": [],
   "source": [
    "X0=8*pi*rho\n",
    "X1= -(E+4*pi*Delta)\n",
    "Z=4*pi*F"
   ]
  },
  {
   "cell_type": "code",
   "execution_count": 37,
   "id": "92914cfe",
   "metadata": {
    "scrolled": true
   },
   "outputs": [
    {
     "data": {
      "image/png": "[encoded data removed]",
      "text/latex": [
       "$\\displaystyle \\left[\\begin{matrix}0 & 0 & 0 & 0\\\\0 & \\frac{2 \\left(- 4 \\pi \\Delta{\\left(t,r \\right)} - E{\\left(t,r \\right)} + 4 \\pi \\rho{\\left(t,r \\right)}\\right) B^{2}{\\left(t,r \\right)}}{3} & 0 & 0\\\\0 & 0 & \\frac{\\left(4 \\pi \\Delta{\\left(t,r \\right)} + E{\\left(t,r \\right)} + 8 \\pi \\rho{\\left(t,r \\right)}\\right) C^{2}{\\left(t,r \\right)}}{3} & 0\\\\0 & 0 & 0 & \\frac{\\left(4 \\pi \\Delta{\\left(t,r \\right)} + E{\\left(t,r \\right)} + 8 \\pi \\rho{\\left(t,r \\right)}\\right) C^{2}{\\left(t,r \\right)} \\sin^{2}{\\left(\\theta \\right)}}{3}\\end{matrix}\\right]$"
      ],
      "text/plain": [
       "⎡0                          0                                                0                                                   0    \n",
       "⎢                                                                                                                                     \n",
       "⎢                                             2                                                                                       \n",
       "⎢   2⋅(-4⋅π⋅Δ(t, r) - E(t, r) + 4⋅π⋅ρ(t, r))⋅B (t, r)                                                                                 \n",
       "⎢0  ─────────────────────────────────────────────────                        0                                                   0    \n",
       "⎢                           3                                                                                                         \n",
       "⎢                                                                                                                                     \n",
       "⎢                                                                                             2                                       \n",
       "⎢                                                      (4⋅π⋅Δ(t, r) + E(t, r) + 8⋅π⋅ρ(t, r))⋅C (t, r)                                 \n",
       "⎢0                          0                          ──────────────────────────────────────────────                            0    \n",
       "⎢                                                                            3                                                        \n",
       "⎢                                                                                                                                     \n",
       "⎢                                                                                                                                     \n",
       "⎢                                                                                                      (4⋅π⋅Δ(t, r) + E(t, r) + 8⋅π⋅ρ(\n",
       "⎢0                          0                                                0                         ───────────────────────────────\n",
       "⎣                                                                                                                                3    \n",
       "\n",
       "                       ⎤\n",
       "                       ⎥\n",
       "                       ⎥\n",
       "                       ⎥\n",
       "                       ⎥\n",
       "                       ⎥\n",
       "                       ⎥\n",
       "                       ⎥\n",
       "                       ⎥\n",
       "                       ⎥\n",
       "                       ⎥\n",
       "                       ⎥\n",
       "        2          2   ⎥\n",
       "t, r))⋅C (t, r)⋅sin (θ)⎥\n",
       "───────────────────────⎥\n",
       "                       ⎦"
      ]
     },
     "metadata": {},
     "output_type": "display_data"
    }
   ],
   "source": [
    "Xdd= pt.ten('Xdd',2)\n",
    "Xdd.assign(X0*hdd(\"_alpha,_beta\")/3 + X1*(Kd('_alpha')*Kd('_beta')-hdd(\"_alpha,_beta\")/3) ,\"_alpha,_beta\")\n",
    "Xdd.simplify()\n",
    "Xdd.display('_,_')"
   ]
  },
  {
   "cell_type": "code",
   "execution_count": 38,
   "id": "0783095c",
   "metadata": {
    "scrolled": true
   },
   "outputs": [
    {
     "data": {
      "image/png": "[encoded data removed]",
      "text/latex": [
       "$\\displaystyle \\left[\\begin{matrix}0 & 0 & 0 & 0\\\\0 & 0 & 0 & 0\\\\0 & 0 & 0 & 4 \\pi C^{2}{\\left(t,r \\right)} F{\\left(t,r \\right)} \\sin{\\left(\\theta \\right)}\\\\0 & 0 & - 4 \\pi C^{2}{\\left(t,r \\right)} F{\\left(t,r \\right)} \\sin{\\left(\\theta \\right)} & 0\\end{matrix}\\right]$"
      ],
      "text/plain": [
       "⎡0  0               0                             0             ⎤\n",
       "⎢                                                               ⎥\n",
       "⎢0  0               0                             0             ⎥\n",
       "⎢                                                               ⎥\n",
       "⎢                                         2                     ⎥\n",
       "⎢0  0               0                4⋅π⋅C (t, r)⋅F(t, r)⋅sin(θ)⎥\n",
       "⎢                                                               ⎥\n",
       "⎢            2                                                  ⎥\n",
       "⎣0  0  -4⋅π⋅C (t, r)⋅F(t, r)⋅sin(θ)               0             ⎦"
      ]
     },
     "metadata": {},
     "output_type": "display_data"
    },
    {
     "data": {
      "application/vnd.jupyter.widget-view+json": {
       "model_id": "d829da3d789149528e7d11554968dd09",
       "version_major": 2,
       "version_minor": 0
      },
      "text/plain": [
       "Zdd Tensor $Zdd{^\\alpha}{_\\beta}$:   0%|          | 0/16 [00:00<?, ?it/s]"
      ]
     },
     "metadata": {},
     "output_type": "display_data"
    },
    {
     "data": {
      "application/vnd.jupyter.widget-view+json": {
       "model_id": "e804bf3ddbab41c68362484c4377256d",
       "version_major": 2,
       "version_minor": 0
      },
      "text/plain": [
       "Zdd Tensor $Zdd{^\\alpha}{^\\beta}$:   0%|          | 0/16 [00:00<?, ?it/s]"
      ]
     },
     "metadata": {},
     "output_type": "display_data"
    },
    {
     "data": {
      "application/vnd.jupyter.widget-view+json": {
       "model_id": "255e9e201b224268a620ede64efac148",
       "version_major": 2,
       "version_minor": 0
      },
      "text/plain": [
       "Zdd Tensor $Zdd{_\\alpha}{^\\beta}$:   0%|          | 0/16 [00:00<?, ?it/s]"
      ]
     },
     "metadata": {},
     "output_type": "display_data"
    },
    {
     "data": {
      "text/latex": [
       "All other indices of Zdd Tensor $Zdd$  already calculated."
      ],
      "text/plain": [
       "<IPython.core.display.Latex object>"
      ]
     },
     "metadata": {},
     "output_type": "display_data"
    }
   ],
   "source": [
    "Zdd= pt.ten('Zdd',2)\n",
    "Zdd.assign(Z*(Ld('_alpha')*Sd('_beta')-Ld('_beta')*Sd('_alpha')) ,\"_alpha,_beta\")\n",
    "Zdd.simplify()\n",
    "Zdd.display('_,_')\n",
    "Zdd.complete('_,_')\n",
    "Zdd.simplify()"
   ]
  },
  {
   "cell_type": "code",
   "execution_count": 39,
   "id": "dee3620f",
   "metadata": {},
   "outputs": [],
   "source": [
    "LC = pt.lcivita(convention=1)"
   ]
  },
  {
   "cell_type": "code",
   "execution_count": 40,
   "id": "24265d58",
   "metadata": {
    "scrolled": false
   },
   "outputs": [],
   "source": [
    "eddd= pt.ten('eddd',3)\n",
    "eddd.assign(LC('_alpha,_beta,_mu,_nu')*Vu('^alpha'), \"_beta,_mu,_nu\")\n",
    "#eddd.display('_,_,_')"
   ]
  },
  {
   "cell_type": "markdown",
   "id": "f9ab8153",
   "metadata": {},
   "source": [
    "\\begin{eqnarray}\n",
    "R_{\\alpha \\beta \\mu \\nu}&=&2V_\\mu V_{[\\alpha}Y_{\\beta] \\, \\nu}+2h_{\\alpha[\\nu}X_{\\mu] \\,  \\beta}+2V_\\nu V_{[\\beta}Y_{\\alpha] \\, \\mu}\n",
    "+ h_{\\beta\\nu}(X_0 \\, h_{\\alpha\\mu}-X_{\\alpha\\mu})+h_{\\beta\\mu}(X_{\\alpha\\nu} -X_0 \\, h_{\\alpha\\nu}) \\nonumber \\\\\n",
    "& & \\qquad + 2V_{[\\nu} Z_{ \\, \\mu]}^{\\gamma}\\varepsilon_{{\\alpha \\beta \\gamma}} +2V_{[\\beta} Z_{{\\,  \\ \\alpha]}}^{{\\gamma }}\\ \\varepsilon_{{\\mu \\nu \\gamma}} \\,,\n",
    "\\end{eqnarray}"
   ]
  },
  {
   "cell_type": "code",
   "execution_count": 41,
   "id": "0209a89a",
   "metadata": {},
   "outputs": [
    {
     "data": {
      "text/latex": [
       "$\\displaystyle {Rdddd}{}_{0}\\,{}_{1}\\,{}_{0}\\,{}_{1}\\, = \\frac{2 \\left(2 \\pi \\left(3 P{\\left(t,r \\right)} + \\rho{\\left(t,r \\right)}\\right) - 4 \\pi \\Delta{\\left(t,r \\right)} + E{\\left(t,r \\right)}\\right) A^{2}{\\left(t,r \\right)} B^{2}{\\left(t,r \\right)}}{3}$"
      ],
      "text/plain": [
       "<IPython.core.display.Math object>"
      ]
     },
     "metadata": {},
     "output_type": "display_data"
    },
    {
     "data": {
      "text/latex": [
       "$\\displaystyle {Rdddd}{}_{0}\\,{}_{1}\\,{}_{1}\\,{}_{0}\\, = \\frac{2 \\left(- 2 \\pi \\left(3 P{\\left(t,r \\right)} + \\rho{\\left(t,r \\right)}\\right) + 4 \\pi \\Delta{\\left(t,r \\right)} - E{\\left(t,r \\right)}\\right) A^{2}{\\left(t,r \\right)} B^{2}{\\left(t,r \\right)}}{3}$"
      ],
      "text/plain": [
       "<IPython.core.display.Math object>"
      ]
     },
     "metadata": {},
     "output_type": "display_data"
    },
    {
     "data": {
      "text/latex": [
       "$\\displaystyle {Rdddd}{}_{0}\\,{}_{2}\\,{}_{0}\\,{}_{2}\\, = \\frac{\\left(4 \\pi \\left(3 P{\\left(t,r \\right)} + \\rho{\\left(t,r \\right)}\\right) + 4 \\pi \\Delta{\\left(t,r \\right)} - E{\\left(t,r \\right)}\\right) A^{2}{\\left(t,r \\right)} C^{2}{\\left(t,r \\right)}}{3}$"
      ],
      "text/plain": [
       "<IPython.core.display.Math object>"
      ]
     },
     "metadata": {},
     "output_type": "display_data"
    },
    {
     "data": {
      "text/latex": [
       "$\\displaystyle {Rdddd}{}_{0}\\,{}_{2}\\,{}_{1}\\,{}_{2}\\, = - \\frac{4 \\pi F{\\left(t,r \\right)}}{\\sin{\\left(\\theta \\right)}}$"
      ],
      "text/plain": [
       "<IPython.core.display.Math object>"
      ]
     },
     "metadata": {},
     "output_type": "display_data"
    },
    {
     "data": {
      "text/latex": [
       "$\\displaystyle {Rdddd}{}_{0}\\,{}_{2}\\,{}_{2}\\,{}_{0}\\, = \\frac{\\left(- 4 \\pi \\left(3 P{\\left(t,r \\right)} + \\rho{\\left(t,r \\right)}\\right) - 4 \\pi \\Delta{\\left(t,r \\right)} + E{\\left(t,r \\right)}\\right) A^{2}{\\left(t,r \\right)} C^{2}{\\left(t,r \\right)}}{3}$"
      ],
      "text/plain": [
       "<IPython.core.display.Math object>"
      ]
     },
     "metadata": {},
     "output_type": "display_data"
    },
    {
     "data": {
      "text/latex": [
       "$\\displaystyle {Rdddd}{}_{0}\\,{}_{2}\\,{}_{2}\\,{}_{1}\\, = \\frac{4 \\pi F{\\left(t,r \\right)}}{\\sin{\\left(\\theta \\right)}}$"
      ],
      "text/plain": [
       "<IPython.core.display.Math object>"
      ]
     },
     "metadata": {},
     "output_type": "display_data"
    },
    {
     "data": {
      "text/latex": [
       "$\\displaystyle {Rdddd}{}_{0}\\,{}_{3}\\,{}_{0}\\,{}_{3}\\, = \\frac{\\left(4 \\pi \\left(3 P{\\left(t,r \\right)} + \\rho{\\left(t,r \\right)}\\right) + 4 \\pi \\Delta{\\left(t,r \\right)} - E{\\left(t,r \\right)}\\right) A^{2}{\\left(t,r \\right)} C^{2}{\\left(t,r \\right)} \\sin^{2}{\\left(\\theta \\right)}}{3}$"
      ],
      "text/plain": [
       "<IPython.core.display.Math object>"
      ]
     },
     "metadata": {},
     "output_type": "display_data"
    },
    {
     "data": {
      "text/latex": [
       "$\\displaystyle {Rdddd}{}_{0}\\,{}_{3}\\,{}_{1}\\,{}_{3}\\, = - 4 \\pi F{\\left(t,r \\right)} \\sin{\\left(\\theta \\right)}$"
      ],
      "text/plain": [
       "<IPython.core.display.Math object>"
      ]
     },
     "metadata": {},
     "output_type": "display_data"
    },
    {
     "data": {
      "text/latex": [
       "$\\displaystyle {Rdddd}{}_{0}\\,{}_{3}\\,{}_{3}\\,{}_{0}\\, = \\frac{\\left(- 4 \\pi \\left(3 P{\\left(t,r \\right)} + \\rho{\\left(t,r \\right)}\\right) - 4 \\pi \\Delta{\\left(t,r \\right)} + E{\\left(t,r \\right)}\\right) A^{2}{\\left(t,r \\right)} C^{2}{\\left(t,r \\right)} \\sin^{2}{\\left(\\theta \\right)}}{3}$"
      ],
      "text/plain": [
       "<IPython.core.display.Math object>"
      ]
     },
     "metadata": {},
     "output_type": "display_data"
    },
    {
     "data": {
      "text/latex": [
       "$\\displaystyle {Rdddd}{}_{0}\\,{}_{3}\\,{}_{3}\\,{}_{1}\\, = 4 \\pi F{\\left(t,r \\right)} \\sin{\\left(\\theta \\right)}$"
      ],
      "text/plain": [
       "<IPython.core.display.Math object>"
      ]
     },
     "metadata": {},
     "output_type": "display_data"
    },
    {
     "data": {
      "text/latex": [
       "$\\displaystyle {Rdddd}{}_{1}\\,{}_{0}\\,{}_{0}\\,{}_{1}\\, = \\frac{2 \\left(- 2 \\pi \\left(3 P{\\left(t,r \\right)} + \\rho{\\left(t,r \\right)}\\right) + 4 \\pi \\Delta{\\left(t,r \\right)} - E{\\left(t,r \\right)}\\right) A^{2}{\\left(t,r \\right)} B^{2}{\\left(t,r \\right)}}{3}$"
      ],
      "text/plain": [
       "<IPython.core.display.Math object>"
      ]
     },
     "metadata": {},
     "output_type": "display_data"
    },
    {
     "data": {
      "text/latex": [
       "$\\displaystyle {Rdddd}{}_{1}\\,{}_{0}\\,{}_{1}\\,{}_{0}\\, = \\frac{2 \\left(2 \\pi \\left(3 P{\\left(t,r \\right)} + \\rho{\\left(t,r \\right)}\\right) - 4 \\pi \\Delta{\\left(t,r \\right)} + E{\\left(t,r \\right)}\\right) A^{2}{\\left(t,r \\right)} B^{2}{\\left(t,r \\right)}}{3}$"
      ],
      "text/plain": [
       "<IPython.core.display.Math object>"
      ]
     },
     "metadata": {},
     "output_type": "display_data"
    },
    {
     "data": {
      "text/latex": [
       "$\\displaystyle {Rdddd}{}_{1}\\,{}_{2}\\,{}_{0}\\,{}_{2}\\, = - \\frac{4 \\pi F{\\left(t,r \\right)}}{\\sin{\\left(\\theta \\right)}}$"
      ],
      "text/plain": [
       "<IPython.core.display.Math object>"
      ]
     },
     "metadata": {},
     "output_type": "display_data"
    },
    {
     "data": {
      "text/latex": [
       "$\\displaystyle {Rdddd}{}_{1}\\,{}_{2}\\,{}_{1}\\,{}_{2}\\, = \\frac{\\left(4 \\pi \\Delta{\\left(t,r \\right)} + E{\\left(t,r \\right)} + 8 \\pi \\rho{\\left(t,r \\right)}\\right) B^{2}{\\left(t,r \\right)} C^{2}{\\left(t,r \\right)}}{3}$"
      ],
      "text/plain": [
       "<IPython.core.display.Math object>"
      ]
     },
     "metadata": {},
     "output_type": "display_data"
    },
    {
     "data": {
      "text/latex": [
       "$\\displaystyle {Rdddd}{}_{1}\\,{}_{2}\\,{}_{2}\\,{}_{0}\\, = \\frac{4 \\pi F{\\left(t,r \\right)}}{\\sin{\\left(\\theta \\right)}}$"
      ],
      "text/plain": [
       "<IPython.core.display.Math object>"
      ]
     },
     "metadata": {},
     "output_type": "display_data"
    },
    {
     "data": {
      "text/latex": [
       "$\\displaystyle {Rdddd}{}_{1}\\,{}_{2}\\,{}_{2}\\,{}_{1}\\, = - \\frac{\\left(4 \\pi \\Delta{\\left(t,r \\right)} + E{\\left(t,r \\right)} + 8 \\pi \\rho{\\left(t,r \\right)}\\right) B^{2}{\\left(t,r \\right)} C^{2}{\\left(t,r \\right)}}{3}$"
      ],
      "text/plain": [
       "<IPython.core.display.Math object>"
      ]
     },
     "metadata": {},
     "output_type": "display_data"
    },
    {
     "data": {
      "text/latex": [
       "$\\displaystyle {Rdddd}{}_{1}\\,{}_{3}\\,{}_{0}\\,{}_{3}\\, = - 4 \\pi F{\\left(t,r \\right)} \\sin{\\left(\\theta \\right)}$"
      ],
      "text/plain": [
       "<IPython.core.display.Math object>"
      ]
     },
     "metadata": {},
     "output_type": "display_data"
    },
    {
     "data": {
      "text/latex": [
       "$\\displaystyle {Rdddd}{}_{1}\\,{}_{3}\\,{}_{1}\\,{}_{3}\\, = \\frac{\\left(4 \\pi \\Delta{\\left(t,r \\right)} + E{\\left(t,r \\right)} + 8 \\pi \\rho{\\left(t,r \\right)}\\right) B^{2}{\\left(t,r \\right)} C^{2}{\\left(t,r \\right)} \\sin^{2}{\\left(\\theta \\right)}}{3}$"
      ],
      "text/plain": [
       "<IPython.core.display.Math object>"
      ]
     },
     "metadata": {},
     "output_type": "display_data"
    },
    {
     "data": {
      "text/latex": [
       "$\\displaystyle {Rdddd}{}_{1}\\,{}_{3}\\,{}_{3}\\,{}_{0}\\, = 4 \\pi F{\\left(t,r \\right)} \\sin{\\left(\\theta \\right)}$"
      ],
      "text/plain": [
       "<IPython.core.display.Math object>"
      ]
     },
     "metadata": {},
     "output_type": "display_data"
    },
    {
     "data": {
      "text/latex": [
       "$\\displaystyle {Rdddd}{}_{1}\\,{}_{3}\\,{}_{3}\\,{}_{1}\\, = - \\frac{\\left(4 \\pi \\Delta{\\left(t,r \\right)} + E{\\left(t,r \\right)} + 8 \\pi \\rho{\\left(t,r \\right)}\\right) B^{2}{\\left(t,r \\right)} C^{2}{\\left(t,r \\right)} \\sin^{2}{\\left(\\theta \\right)}}{3}$"
      ],
      "text/plain": [
       "<IPython.core.display.Math object>"
      ]
     },
     "metadata": {},
     "output_type": "display_data"
    },
    {
     "data": {
      "text/latex": [
       "$\\displaystyle {Rdddd}{}_{2}\\,{}_{0}\\,{}_{0}\\,{}_{2}\\, = \\frac{\\left(- 4 \\pi \\left(3 P{\\left(t,r \\right)} + \\rho{\\left(t,r \\right)}\\right) - 4 \\pi \\Delta{\\left(t,r \\right)} + E{\\left(t,r \\right)}\\right) A^{2}{\\left(t,r \\right)} C^{2}{\\left(t,r \\right)}}{3}$"
      ],
      "text/plain": [
       "<IPython.core.display.Math object>"
      ]
     },
     "metadata": {},
     "output_type": "display_data"
    },
    {
     "data": {
      "text/latex": [
       "$\\displaystyle {Rdddd}{}_{2}\\,{}_{0}\\,{}_{1}\\,{}_{2}\\, = \\frac{4 \\pi F{\\left(t,r \\right)}}{\\sin{\\left(\\theta \\right)}}$"
      ],
      "text/plain": [
       "<IPython.core.display.Math object>"
      ]
     },
     "metadata": {},
     "output_type": "display_data"
    },
    {
     "data": {
      "text/latex": [
       "$\\displaystyle {Rdddd}{}_{2}\\,{}_{0}\\,{}_{2}\\,{}_{0}\\, = \\frac{\\left(4 \\pi \\left(3 P{\\left(t,r \\right)} + \\rho{\\left(t,r \\right)}\\right) + 4 \\pi \\Delta{\\left(t,r \\right)} - E{\\left(t,r \\right)}\\right) A^{2}{\\left(t,r \\right)} C^{2}{\\left(t,r \\right)}}{3}$"
      ],
      "text/plain": [
       "<IPython.core.display.Math object>"
      ]
     },
     "metadata": {},
     "output_type": "display_data"
    },
    {
     "data": {
      "text/latex": [
       "$\\displaystyle {Rdddd}{}_{2}\\,{}_{0}\\,{}_{2}\\,{}_{1}\\, = - \\frac{4 \\pi F{\\left(t,r \\right)}}{\\sin{\\left(\\theta \\right)}}$"
      ],
      "text/plain": [
       "<IPython.core.display.Math object>"
      ]
     },
     "metadata": {},
     "output_type": "display_data"
    },
    {
     "data": {
      "text/latex": [
       "$\\displaystyle {Rdddd}{}_{2}\\,{}_{1}\\,{}_{0}\\,{}_{2}\\, = \\frac{4 \\pi F{\\left(t,r \\right)}}{\\sin{\\left(\\theta \\right)}}$"
      ],
      "text/plain": [
       "<IPython.core.display.Math object>"
      ]
     },
     "metadata": {},
     "output_type": "display_data"
    },
    {
     "data": {
      "text/latex": [
       "$\\displaystyle {Rdddd}{}_{2}\\,{}_{1}\\,{}_{1}\\,{}_{2}\\, = - \\frac{\\left(4 \\pi \\Delta{\\left(t,r \\right)} + E{\\left(t,r \\right)} + 8 \\pi \\rho{\\left(t,r \\right)}\\right) B^{2}{\\left(t,r \\right)} C^{2}{\\left(t,r \\right)}}{3}$"
      ],
      "text/plain": [
       "<IPython.core.display.Math object>"
      ]
     },
     "metadata": {},
     "output_type": "display_data"
    },
    {
     "data": {
      "text/latex": [
       "$\\displaystyle {Rdddd}{}_{2}\\,{}_{1}\\,{}_{2}\\,{}_{0}\\, = - \\frac{4 \\pi F{\\left(t,r \\right)}}{\\sin{\\left(\\theta \\right)}}$"
      ],
      "text/plain": [
       "<IPython.core.display.Math object>"
      ]
     },
     "metadata": {},
     "output_type": "display_data"
    },
    {
     "data": {
      "text/latex": [
       "$\\displaystyle {Rdddd}{}_{2}\\,{}_{1}\\,{}_{2}\\,{}_{1}\\, = \\frac{\\left(4 \\pi \\Delta{\\left(t,r \\right)} + E{\\left(t,r \\right)} + 8 \\pi \\rho{\\left(t,r \\right)}\\right) B^{2}{\\left(t,r \\right)} C^{2}{\\left(t,r \\right)}}{3}$"
      ],
      "text/plain": [
       "<IPython.core.display.Math object>"
      ]
     },
     "metadata": {},
     "output_type": "display_data"
    },
    {
     "data": {
      "text/latex": [
       "$\\displaystyle {Rdddd}{}_{2}\\,{}_{3}\\,{}_{2}\\,{}_{3}\\, = \\frac{2 \\left(- 4 \\pi \\Delta{\\left(t,r \\right)} - E{\\left(t,r \\right)} + 4 \\pi \\rho{\\left(t,r \\right)}\\right) C^{4}{\\left(t,r \\right)} \\sin^{2}{\\left(\\theta \\right)}}{3}$"
      ],
      "text/plain": [
       "<IPython.core.display.Math object>"
      ]
     },
     "metadata": {},
     "output_type": "display_data"
    },
    {
     "data": {
      "text/latex": [
       "$\\displaystyle {Rdddd}{}_{2}\\,{}_{3}\\,{}_{3}\\,{}_{2}\\, = \\frac{2 \\left(4 \\pi \\Delta{\\left(t,r \\right)} + E{\\left(t,r \\right)} - 4 \\pi \\rho{\\left(t,r \\right)}\\right) C^{4}{\\left(t,r \\right)} \\sin^{2}{\\left(\\theta \\right)}}{3}$"
      ],
      "text/plain": [
       "<IPython.core.display.Math object>"
      ]
     },
     "metadata": {},
     "output_type": "display_data"
    },
    {
     "data": {
      "text/latex": [
       "$\\displaystyle {Rdddd}{}_{3}\\,{}_{0}\\,{}_{0}\\,{}_{3}\\, = \\frac{\\left(- 4 \\pi \\left(3 P{\\left(t,r \\right)} + \\rho{\\left(t,r \\right)}\\right) - 4 \\pi \\Delta{\\left(t,r \\right)} + E{\\left(t,r \\right)}\\right) A^{2}{\\left(t,r \\right)} C^{2}{\\left(t,r \\right)} \\sin^{2}{\\left(\\theta \\right)}}{3}$"
      ],
      "text/plain": [
       "<IPython.core.display.Math object>"
      ]
     },
     "metadata": {},
     "output_type": "display_data"
    },
    {
     "data": {
      "text/latex": [
       "$\\displaystyle {Rdddd}{}_{3}\\,{}_{0}\\,{}_{1}\\,{}_{3}\\, = 4 \\pi F{\\left(t,r \\right)} \\sin{\\left(\\theta \\right)}$"
      ],
      "text/plain": [
       "<IPython.core.display.Math object>"
      ]
     },
     "metadata": {},
     "output_type": "display_data"
    },
    {
     "data": {
      "text/latex": [
       "$\\displaystyle {Rdddd}{}_{3}\\,{}_{0}\\,{}_{3}\\,{}_{0}\\, = \\frac{\\left(4 \\pi \\left(3 P{\\left(t,r \\right)} + \\rho{\\left(t,r \\right)}\\right) + 4 \\pi \\Delta{\\left(t,r \\right)} - E{\\left(t,r \\right)}\\right) A^{2}{\\left(t,r \\right)} C^{2}{\\left(t,r \\right)} \\sin^{2}{\\left(\\theta \\right)}}{3}$"
      ],
      "text/plain": [
       "<IPython.core.display.Math object>"
      ]
     },
     "metadata": {},
     "output_type": "display_data"
    },
    {
     "data": {
      "text/latex": [
       "$\\displaystyle {Rdddd}{}_{3}\\,{}_{0}\\,{}_{3}\\,{}_{1}\\, = - 4 \\pi F{\\left(t,r \\right)} \\sin{\\left(\\theta \\right)}$"
      ],
      "text/plain": [
       "<IPython.core.display.Math object>"
      ]
     },
     "metadata": {},
     "output_type": "display_data"
    },
    {
     "data": {
      "text/latex": [
       "$\\displaystyle {Rdddd}{}_{3}\\,{}_{1}\\,{}_{0}\\,{}_{3}\\, = 4 \\pi F{\\left(t,r \\right)} \\sin{\\left(\\theta \\right)}$"
      ],
      "text/plain": [
       "<IPython.core.display.Math object>"
      ]
     },
     "metadata": {},
     "output_type": "display_data"
    },
    {
     "data": {
      "text/latex": [
       "$\\displaystyle {Rdddd}{}_{3}\\,{}_{1}\\,{}_{1}\\,{}_{3}\\, = - \\frac{\\left(4 \\pi \\Delta{\\left(t,r \\right)} + E{\\left(t,r \\right)} + 8 \\pi \\rho{\\left(t,r \\right)}\\right) B^{2}{\\left(t,r \\right)} C^{2}{\\left(t,r \\right)} \\sin^{2}{\\left(\\theta \\right)}}{3}$"
      ],
      "text/plain": [
       "<IPython.core.display.Math object>"
      ]
     },
     "metadata": {},
     "output_type": "display_data"
    },
    {
     "data": {
      "text/latex": [
       "$\\displaystyle {Rdddd}{}_{3}\\,{}_{1}\\,{}_{3}\\,{}_{0}\\, = - 4 \\pi F{\\left(t,r \\right)} \\sin{\\left(\\theta \\right)}$"
      ],
      "text/plain": [
       "<IPython.core.display.Math object>"
      ]
     },
     "metadata": {},
     "output_type": "display_data"
    },
    {
     "data": {
      "text/latex": [
       "$\\displaystyle {Rdddd}{}_{3}\\,{}_{1}\\,{}_{3}\\,{}_{1}\\, = \\frac{\\left(4 \\pi \\Delta{\\left(t,r \\right)} + E{\\left(t,r \\right)} + 8 \\pi \\rho{\\left(t,r \\right)}\\right) B^{2}{\\left(t,r \\right)} C^{2}{\\left(t,r \\right)} \\sin^{2}{\\left(\\theta \\right)}}{3}$"
      ],
      "text/plain": [
       "<IPython.core.display.Math object>"
      ]
     },
     "metadata": {},
     "output_type": "display_data"
    },
    {
     "data": {
      "text/latex": [
       "$\\displaystyle {Rdddd}{}_{3}\\,{}_{2}\\,{}_{2}\\,{}_{3}\\, = \\frac{2 \\left(4 \\pi \\Delta{\\left(t,r \\right)} + E{\\left(t,r \\right)} - 4 \\pi \\rho{\\left(t,r \\right)}\\right) C^{4}{\\left(t,r \\right)} \\sin^{2}{\\left(\\theta \\right)}}{3}$"
      ],
      "text/plain": [
       "<IPython.core.display.Math object>"
      ]
     },
     "metadata": {},
     "output_type": "display_data"
    },
    {
     "data": {
      "text/latex": [
       "$\\displaystyle {Rdddd}{}_{3}\\,{}_{2}\\,{}_{3}\\,{}_{2}\\, = \\frac{2 \\left(- 4 \\pi \\Delta{\\left(t,r \\right)} - E{\\left(t,r \\right)} + 4 \\pi \\rho{\\left(t,r \\right)}\\right) C^{4}{\\left(t,r \\right)} \\sin^{2}{\\left(\\theta \\right)}}{3}$"
      ],
      "text/plain": [
       "<IPython.core.display.Math object>"
      ]
     },
     "metadata": {},
     "output_type": "display_data"
    },
    {
     "data": {
      "application/vnd.jupyter.widget-view+json": {
       "model_id": "454ec6e28f334870b5578e334f5cd59b",
       "version_major": 2,
       "version_minor": 0
      },
      "text/plain": [
       "Rdddd Tensor $Rdddd{^\\alpha}{_\\beta}{_\\gamma}{_\\delta}$:   0%|          | 0/256 [00:00<?, ?it/s]"
      ]
     },
     "metadata": {},
     "output_type": "display_data"
    },
    {
     "data": {
      "application/vnd.jupyter.widget-view+json": {
       "model_id": "136144f3b73e4dfabd837853e6238790",
       "version_major": 2,
       "version_minor": 0
      },
      "text/plain": [
       "Rdddd Tensor $Rdddd{^\\alpha}{^\\beta}{_\\gamma}{_\\delta}$:   0%|          | 0/256 [00:00<?, ?it/s]"
      ]
     },
     "metadata": {},
     "output_type": "display_data"
    },
    {
     "data": {
      "application/vnd.jupyter.widget-view+json": {
       "model_id": "0e24007a759a414884d3b48f4ae11a60",
       "version_major": 2,
       "version_minor": 0
      },
      "text/plain": [
       "Rdddd Tensor $Rdddd{^\\alpha}{^\\beta}{^\\gamma}{_\\delta}$:   0%|          | 0/256 [00:00<?, ?it/s]"
      ]
     },
     "metadata": {},
     "output_type": "display_data"
    },
    {
     "data": {
      "application/vnd.jupyter.widget-view+json": {
       "model_id": "90e4b3df1bd242e7ae0d41b52ab7d75b",
       "version_major": 2,
       "version_minor": 0
      },
      "text/plain": [
       "Rdddd Tensor $Rdddd{^\\alpha}{^\\beta}{^\\gamma}{^\\delta}$:   0%|          | 0/256 [00:00<?, ?it/s]"
      ]
     },
     "metadata": {},
     "output_type": "display_data"
    },
    {
     "data": {
      "application/vnd.jupyter.widget-view+json": {
       "model_id": "cf964052ec80453aafab108cd4ef7573",
       "version_major": 2,
       "version_minor": 0
      },
      "text/plain": [
       "Rdddd Tensor $Rdddd{^\\alpha}{^\\beta}{_\\gamma}{^\\delta}$:   0%|          | 0/256 [00:00<?, ?it/s]"
      ]
     },
     "metadata": {},
     "output_type": "display_data"
    },
    {
     "data": {
      "application/vnd.jupyter.widget-view+json": {
       "model_id": "05152db62e9a49a787944cbb1f3191e2",
       "version_major": 2,
       "version_minor": 0
      },
      "text/plain": [
       "Rdddd Tensor $Rdddd{^\\alpha}{_\\beta}{^\\gamma}{_\\delta}$:   0%|          | 0/256 [00:00<?, ?it/s]"
      ]
     },
     "metadata": {},
     "output_type": "display_data"
    },
    {
     "data": {
      "application/vnd.jupyter.widget-view+json": {
       "model_id": "41cc27b87f094a54a331c791e90b82b9",
       "version_major": 2,
       "version_minor": 0
      },
      "text/plain": [
       "Rdddd Tensor $Rdddd{^\\alpha}{_\\beta}{^\\gamma}{^\\delta}$:   0%|          | 0/256 [00:00<?, ?it/s]"
      ]
     },
     "metadata": {},
     "output_type": "display_data"
    },
    {
     "data": {
      "application/vnd.jupyter.widget-view+json": {
       "model_id": "3be6e9700d9c4ae295940a40cee84916",
       "version_major": 2,
       "version_minor": 0
      },
      "text/plain": [
       "Rdddd Tensor $Rdddd{^\\alpha}{_\\beta}{_\\gamma}{^\\delta}$:   0%|          | 0/256 [00:00<?, ?it/s]"
      ]
     },
     "metadata": {},
     "output_type": "display_data"
    },
    {
     "data": {
      "application/vnd.jupyter.widget-view+json": {
       "model_id": "e296eeee3b4d4af9913f548cf84f0a0d",
       "version_major": 2,
       "version_minor": 0
      },
      "text/plain": [
       "Rdddd Tensor $Rdddd{_\\alpha}{^\\beta}{_\\gamma}{_\\delta}$:   0%|          | 0/256 [00:00<?, ?it/s]"
      ]
     },
     "metadata": {},
     "output_type": "display_data"
    },
    {
     "data": {
      "application/vnd.jupyter.widget-view+json": {
       "model_id": "8cfd8e2eeb0c489fb404a9002a2273be",
       "version_major": 2,
       "version_minor": 0
      },
      "text/plain": [
       "Rdddd Tensor $Rdddd{_\\alpha}{^\\beta}{^\\gamma}{_\\delta}$:   0%|          | 0/256 [00:00<?, ?it/s]"
      ]
     },
     "metadata": {},
     "output_type": "display_data"
    },
    {
     "data": {
      "application/vnd.jupyter.widget-view+json": {
       "model_id": "79c321ef5a8a407ebefbbf7f5ad8aa6d",
       "version_major": 2,
       "version_minor": 0
      },
      "text/plain": [
       "Rdddd Tensor $Rdddd{_\\alpha}{^\\beta}{^\\gamma}{^\\delta}$:   0%|          | 0/256 [00:00<?, ?it/s]"
      ]
     },
     "metadata": {},
     "output_type": "display_data"
    },
    {
     "data": {
      "application/vnd.jupyter.widget-view+json": {
       "model_id": "39145cb8765b497b8914dab887cf223c",
       "version_major": 2,
       "version_minor": 0
      },
      "text/plain": [
       "Rdddd Tensor $Rdddd{_\\alpha}{^\\beta}{_\\gamma}{^\\delta}$:   0%|          | 0/256 [00:00<?, ?it/s]"
      ]
     },
     "metadata": {},
     "output_type": "display_data"
    },
    {
     "data": {
      "application/vnd.jupyter.widget-view+json": {
       "model_id": "b3b98de298ed4eeaa58e9bb98e933191",
       "version_major": 2,
       "version_minor": 0
      },
      "text/plain": [
       "Rdddd Tensor $Rdddd{_\\alpha}{_\\beta}{^\\gamma}{_\\delta}$:   0%|          | 0/256 [00:00<?, ?it/s]"
      ]
     },
     "metadata": {},
     "output_type": "display_data"
    },
    {
     "data": {
      "application/vnd.jupyter.widget-view+json": {
       "model_id": "b4189550487948a8bedcee1f5dfa82f2",
       "version_major": 2,
       "version_minor": 0
      },
      "text/plain": [
       "Rdddd Tensor $Rdddd{_\\alpha}{_\\beta}{^\\gamma}{^\\delta}$:   0%|          | 0/256 [00:00<?, ?it/s]"
      ]
     },
     "metadata": {},
     "output_type": "display_data"
    },
    {
     "data": {
      "application/vnd.jupyter.widget-view+json": {
       "model_id": "b2214b7431b14e58b555a5f5a5e79619",
       "version_major": 2,
       "version_minor": 0
      },
      "text/plain": [
       "Rdddd Tensor $Rdddd{_\\alpha}{_\\beta}{_\\gamma}{^\\delta}$:   0%|          | 0/256 [00:00<?, ?it/s]"
      ]
     },
     "metadata": {},
     "output_type": "display_data"
    },
    {
     "data": {
      "text/latex": [
       "All other indices of Rdddd Tensor $Rdddd$  already calculated."
      ],
      "text/plain": [
       "<IPython.core.display.Latex object>"
      ]
     },
     "metadata": {},
     "output_type": "display_data"
    }
   ],
   "source": [
    "Rdddd= pt.ten('Rdddd',4)\n",
    "Rdddd.assign(Vd('_mu')*Vd('_alpha')*Ydd('_beta,_nu')-Vd('_mu')*Vd('_beta')*Ydd('_alpha,_nu') + \\\n",
    "             Vd('_nu')*Vd('_beta')*Ydd('_alpha,_mu')-Vd('_nu')*Vd('_alpha')*Ydd('_beta,_mu') + \\\n",
    "             hdd(\"_alpha,_nu\")*Xdd('_mu,_beta')- hdd(\"_alpha,_mu\")*Xdd('_nu,_beta') +\\\n",
    "             hdd(\"_beta,_nu\")*(X0*hdd(\"_alpha,_mu\")-Xdd('_alpha,_mu') ) + \\\n",
    "             hdd(\"_beta,_mu\")*(Xdd('_alpha,_nu')-X0*hdd(\"_alpha,_nu\") ) + \\\n",
    "             Vd('_nu')*Zdd('^gamma,_mu')*eddd(\"_alpha,_beta,_gamma\")- Vd('_mu')*Zdd('^gamma,_nu')*eddd(\"_alpha,_beta,_gamma\") + \n",
    "             Vd('_beta')*Zdd('^gamma,_alpha')*eddd(\"_mu,_nu,_gamma\")- Vd('_alpha')*Zdd('^gamma,_beta')*eddd(\"_mu,_nu,_gamma\") , \"_alpha,_beta,_mu,_nu\")\n",
    "Rdddd.simplify()\n",
    "Rdddd.display('_,_,_,_')\n",
    "Rdddd.complete('_,_')\n",
    "Rdddd.simplify()"
   ]
  },
  {
   "cell_type": "markdown",
   "id": "ba335313",
   "metadata": {},
   "source": [
    "The corresponding Ricci contraction for the above Riemann tensor can also be written as:\n",
    "\n",
    "\\begin{equation}\n",
    "R_{\\alpha\\mu} =  Y_0 \\, V_\\alpha V_\\mu-X_{\\alpha \\mu}-Y_{\\alpha\\mu} +X_0 \\, h_{\\alpha\\mu}  +Z^{\\nu \\beta} \\varepsilon_{\\mu \\nu \\beta}V_{\\alpha} \n",
    "+V_{\\mu} Z^{\\nu \\beta} \\varepsilon_{\\alpha \\nu \\beta} \\, ;\n",
    "\\label{RicciSplitted}\n",
    "\\end{equation}"
   ]
  },
  {
   "cell_type": "code",
   "execution_count": 42,
   "id": "7319635e",
   "metadata": {},
   "outputs": [
    {
     "data": {
      "image/png": "[encoded data removed]",
      "text/latex": [
       "$\\displaystyle \\left[\\begin{matrix}4 \\pi \\left(3 P{\\left(t,r \\right)} + \\rho{\\left(t,r \\right)}\\right) A^{2}{\\left(t,r \\right)} & - \\frac{8 \\pi F{\\left(t,r \\right)}}{C^{2}{\\left(t,r \\right)} \\sin{\\left(\\theta \\right)}} & 0 & 0\\\\- \\frac{8 \\pi F{\\left(t,r \\right)}}{C^{2}{\\left(t,r \\right)} \\sin{\\left(\\theta \\right)}} & \\frac{2 \\left(4 \\pi \\Delta{\\left(t,r \\right)} + E{\\left(t,r \\right)} + 8 \\pi \\rho{\\left(t,r \\right)}\\right) B^{2}{\\left(t,r \\right)}}{3} & 0 & 0\\\\0 & 0 & \\frac{\\left(- 4 \\pi \\Delta{\\left(t,r \\right)} - E{\\left(t,r \\right)} + 16 \\pi \\rho{\\left(t,r \\right)}\\right) C^{2}{\\left(t,r \\right)}}{3} & 0\\\\0 & 0 & 0 & \\frac{\\left(- 4 \\pi \\Delta{\\left(t,r \\right)} - E{\\left(t,r \\right)} + 16 \\pi \\rho{\\left(t,r \\right)}\\right) C^{2}{\\left(t,r \\right)} \\sin^{2}{\\left(\\theta \\right)}}{3}\\end{matrix}\\right]$"
      ],
      "text/plain": [
       "⎡                           2                         -8⋅π⋅F(t, r)                                                                    \n",
       "⎢4⋅π⋅(3⋅P(t, r) + ρ(t, r))⋅A (t, r)                  ───────────────                                          0                       \n",
       "⎢                                                     2                                                                               \n",
       "⎢                                                    C (t, r)⋅sin(θ)                                                                  \n",
       "⎢                                                                                                                                     \n",
       "⎢                                                                             2                                                       \n",
       "⎢          -8⋅π⋅F(t, r)              2⋅(4⋅π⋅Δ(t, r) + E(t, r) + 8⋅π⋅ρ(t, r))⋅B (t, r)                                                 \n",
       "⎢         ───────────────            ────────────────────────────────────────────────                         0                       \n",
       "⎢          2                                                3                                                                         \n",
       "⎢         C (t, r)⋅sin(θ)                                                                                                             \n",
       "⎢                                                                                                                                     \n",
       "⎢                                                                                                                               2     \n",
       "⎢                                                                                      (-4⋅π⋅Δ(t, r) - E(t, r) + 16⋅π⋅ρ(t, r))⋅C (t, r\n",
       "⎢                0                                          0                          ───────────────────────────────────────────────\n",
       "⎢                                                                                                             3                       \n",
       "⎢                                                                                                                                     \n",
       "⎢                                                                                                                                     \n",
       "⎢                                                                                                                                     \n",
       "⎢                0                                          0                                                 0                       \n",
       "⎣                                                                                                                                     \n",
       "\n",
       "                                                           ⎤\n",
       "                              0                            ⎥\n",
       "                                                           ⎥\n",
       "                                                           ⎥\n",
       "                                                           ⎥\n",
       "                                                           ⎥\n",
       "                                                           ⎥\n",
       "                              0                            ⎥\n",
       "                                                           ⎥\n",
       "                                                           ⎥\n",
       "                                                           ⎥\n",
       "                                                           ⎥\n",
       ")                                                          ⎥\n",
       "─                             0                            ⎥\n",
       "                                                           ⎥\n",
       "                                                           ⎥\n",
       "                                            2          2   ⎥\n",
       "   (-4⋅π⋅Δ(t, r) - E(t, r) + 16⋅π⋅ρ(t, r))⋅C (t, r)⋅sin (θ)⎥\n",
       "   ────────────────────────────────────────────────────────⎥\n",
       "                              3                            ⎦"
      ]
     },
     "metadata": {},
     "output_type": "display_data"
    }
   ],
   "source": [
    "Rdd= pt.ten('Rdd',2)\n",
    "Rdd.assign(Y0*Vd('_alpha')*Vd('_mu') - Xdd('_alpha,_mu') + X0*hdd(\"_alpha,_mu\") +\\\n",
    "           Zdd('^nu,^beta')*eddd(\"_mu,_nu,_beta\")*Vd('_alpha') + \\\n",
    "           Vd('_mu')*Zdd('^nu,^beta')*eddd(\"_alpha,_nu,_beta\"), \"_alpha,_mu\")\n",
    "\n",
    "Rdd.simplify()\n",
    "Rdd.display('_,_')"
   ]
  },
  {
   "cell_type": "markdown",
   "id": "d5281a3f",
   "metadata": {},
   "source": [
    "## Projections of Riemann tensor\n",
    "\n",
    "\\begin{equation}\n",
    "\\label{DirectionalDerivatives}\n",
    "f^{\\bullet} = V^{\\alpha} \\partial_{\\alpha}f ; \\quad f^{{\\rm t}} = K^{\\alpha} \\partial_{\\alpha}f  \\quad \\mathrm{and} \\quad f^{\\ast} = L^{\\alpha}\\partial_{\\alpha}f .\n",
    "\\end{equation}"
   ]
  },
  {
   "cell_type": "code",
   "execution_count": 43,
   "id": "e5051c74",
   "metadata": {},
   "outputs": [],
   "source": [
    "Dsigma1= pt.ten('Dsigma1',1)\n",
    "Dsigma1.assign(pt.D(sigma1,\"_alpha\"), \"_alpha\")\n",
    "Dsigma1.simplify()\n",
    "\n",
    "Dsigma1P= Vu('^alpha')*Dsigma1('_alpha') \n",
    "#pt.display(Dsigma1P)\n",
    "\n",
    "Dsigma1dag= Ku('^alpha')*Dsigma1('_alpha') \n",
    "#Dsigma1dag"
   ]
  },
  {
   "cell_type": "code",
   "execution_count": 44,
   "id": "a070240a",
   "metadata": {
    "scrolled": true
   },
   "outputs": [],
   "source": [
    "Da1= pt.ten('Da1',1)\n",
    "Da1.assign(pt.D(a1,\"_alpha\"), \"_alpha\")\n",
    "Da1.simplify()\n",
    "\n",
    "Da1dag= Ku('^alpha')*Da1('_alpha') \n",
    "#Da1dag"
   ]
  },
  {
   "cell_type": "markdown",
   "id": "d006be4a",
   "metadata": {},
   "source": [
    "\\begin{equation}\n",
    "\\sigma^{\\bullet}_{1} -a_1^{{\\rm t}} -a_1^2+\\sigma_1^2 = -\\frac{1}{3}(Y_0+2Y_1) \\qquad (25)\n",
    "\\end{equation}"
   ]
  },
  {
   "cell_type": "code",
   "execution_count": 45,
   "id": "baa1861c",
   "metadata": {},
   "outputs": [],
   "source": [
    "eq25iz= pt.simplify(Dsigma1P - Da1dag - a1**2 + sigma1**2) \n",
    "eq25de= (Y0+2*Y1)/3"
   ]
  },
  {
   "cell_type": "code",
   "execution_count": 46,
   "id": "6c60c6c2",
   "metadata": {
    "scrolled": true
   },
   "outputs": [
    {
     "data": {
      "image/png": "[encoded data removed]",
      "text/latex": [
       "$\\displaystyle \\frac{4 \\pi \\left(3 P{\\left(t,r \\right)} + \\rho{\\left(t,r \\right)}\\right)}{3} - \\frac{8 \\pi \\Delta{\\left(t,r \\right)}}{3} + \\frac{2 E{\\left(t,r \\right)}}{3} - \\frac{\\frac{\\partial^{2}}{\\partial r^{2}} A{\\left(t,r \\right)}}{A{\\left(t,r \\right)} B^{2}{\\left(t,r \\right)}} + \\frac{\\frac{\\partial}{\\partial r} A{\\left(t,r \\right)} \\frac{\\partial}{\\partial r} B{\\left(t,r \\right)}}{A{\\left(t,r \\right)} B^{3}{\\left(t,r \\right)}} + \\frac{\\frac{\\partial^{2}}{\\partial t^{2}} B{\\left(t,r \\right)}}{A^{2}{\\left(t,r \\right)} B{\\left(t,r \\right)}} - \\frac{\\frac{\\partial}{\\partial t} A{\\left(t,r \\right)} \\frac{\\partial}{\\partial t} B{\\left(t,r \\right)}}{A^{3}{\\left(t,r \\right)} B{\\left(t,r \\right)}}$"
      ],
      "text/plain": [
       "                                                          2                                            2                              \n",
       "                                                         ∂                                            ∂                               \n",
       "                                                        ───(A(t, r))     ∂           ∂               ───(B(t, r))     ∂           ∂   \n",
       "                                                          2              ──(A(t, r))⋅──(B(t, r))       2              ──(A(t, r))⋅──(B\n",
       "4⋅π⋅(3⋅P(t, r) + ρ(t, r))   8⋅π⋅Δ(t, r)   2⋅E(t, r)     ∂r               ∂r          ∂r              ∂t               ∂t          ∂t  \n",
       "───────────────────────── - ─────────── + ───────── - ──────────────── + ─────────────────────── + ──────────────── - ────────────────\n",
       "            3                    3            3                2                      3             2                      3          \n",
       "                                                      A(t, r)⋅B (t, r)       A(t, r)⋅B (t, r)      A (t, r)⋅B(t, r)       A (t, r)⋅B(t\n",
       "\n",
       "       \n",
       "       \n",
       "       \n",
       "(t, r))\n",
       "       \n",
       "───────\n",
       "       \n",
       ", r)   "
      ]
     },
     "execution_count": 46,
     "metadata": {},
     "output_type": "execute_result"
    }
   ],
   "source": [
    "eq25= eq25iz+eq25de\n",
    "eq25"
   ]
  },
  {
   "cell_type": "code",
   "execution_count": 47,
   "id": "11fedde9",
   "metadata": {},
   "outputs": [
    {
     "data": {
      "image/png": "[encoded data removed]",
      "text/latex": [
       "$\\displaystyle 4 \\pi P{\\left(t,r \\right)} + \\frac{4 \\pi \\rho{\\left(t,r \\right)}}{3} - \\frac{\\frac{\\partial^{2}}{\\partial r^{2}} A{\\left(t,r \\right)}}{A{\\left(t,r \\right)} B^{2}{\\left(t,r \\right)}} + \\frac{\\frac{\\partial}{\\partial r} A{\\left(t,r \\right)} \\frac{\\partial}{\\partial r} B{\\left(t,r \\right)}}{A{\\left(t,r \\right)} B^{3}{\\left(t,r \\right)}}$"
      ],
      "text/plain": [
       "                                2                                     \n",
       "                               ∂                                      \n",
       "                              ───(A(t, r))     ∂           ∂          \n",
       "                                2              ──(A(t, r))⋅──(B(t, r))\n",
       "              4⋅π⋅ρ(t, r)     ∂r               ∂r          ∂r         \n",
       "4⋅π⋅P(t, r) + ─────────── - ──────────────── + ───────────────────────\n",
       "                   3                 2                      3         \n",
       "                            A(t, r)⋅B (t, r)       A(t, r)⋅B (t, r)   "
      ]
     },
     "execution_count": 47,
     "metadata": {},
     "output_type": "execute_result"
    }
   ],
   "source": [
    "eq25=pt.simplify(eq25.subs(Delta,0))\n",
    "eq25=pt.simplify(eq25.subs(E,0))\n",
    "eq25=pt.simplify(eq25.subs(B.diff(t), 0))\n",
    "eq25"
   ]
  },
  {
   "cell_type": "markdown",
   "id": "a7bf7f90",
   "metadata": {},
   "source": [
    "\\begin{equation}\n",
    "\\sigma^{\\bullet}_{2} +\\sigma_2^2-a_1J_1 = \\frac{1}{3}(Y_1-Y_0) \\qquad (26)\n",
    "\\end{equation}"
   ]
  },
  {
   "cell_type": "code",
   "execution_count": 48,
   "id": "80be767f",
   "metadata": {},
   "outputs": [],
   "source": [
    "Dsigma2= pt.ten('Dsigma2',1)\n",
    "Dsigma2.assign(pt.D(sigma2,\"_alpha\"), \"_alpha\")\n",
    "Dsigma2.simplify()\n",
    "Dsigma2P= Vu('^alpha')*Dsigma2('_alpha') \n",
    "#pt.display(Dsigma2P)\n",
    "Dsigma2dag= Ku('^alpha')*Dsigma2('_alpha') \n",
    "#Dsigma2dag"
   ]
  },
  {
   "cell_type": "code",
   "execution_count": 49,
   "id": "10c95679",
   "metadata": {},
   "outputs": [
    {
     "data": {
      "image/png": "[encoded data removed]",
      "text/latex": [
       "$\\displaystyle \\frac{4 \\pi \\left(3 P{\\left(t,r \\right)} + \\rho{\\left(t,r \\right)}\\right)}{3} + \\frac{4 \\pi \\Delta{\\left(t,r \\right)}}{3} - \\frac{E{\\left(t,r \\right)}}{3} - \\frac{\\frac{\\partial}{\\partial r} A{\\left(t,r \\right)} \\frac{\\partial}{\\partial r} C{\\left(t,r \\right)}}{A{\\left(t,r \\right)} B^{2}{\\left(t,r \\right)} C{\\left(t,r \\right)}} + \\frac{\\frac{\\partial^{2}}{\\partial t^{2}} C{\\left(t,r \\right)}}{A^{2}{\\left(t,r \\right)} C{\\left(t,r \\right)}} - \\frac{\\frac{\\partial}{\\partial t} A{\\left(t,r \\right)} \\frac{\\partial}{\\partial t} C{\\left(t,r \\right)}}{A^{3}{\\left(t,r \\right)} C{\\left(t,r \\right)}}$"
      ],
      "text/plain": [
       "                                                                                   2                                     \n",
       "                                                                                  ∂                                      \n",
       "                                                    ∂           ∂                ───(C(t, r))     ∂           ∂          \n",
       "                                                    ──(A(t, r))⋅──(C(t, r))        2              ──(A(t, r))⋅──(C(t, r))\n",
       "4⋅π⋅(3⋅P(t, r) + ρ(t, r))   4⋅π⋅Δ(t, r)   E(t, r)   ∂r          ∂r               ∂t               ∂t          ∂t         \n",
       "───────────────────────── + ─────────── - ─────── - ──────────────────────── + ──────────────── - ───────────────────────\n",
       "            3                    3           3               2                  2                      3                 \n",
       "                                                    A(t, r)⋅B (t, r)⋅C(t, r)   A (t, r)⋅C(t, r)       A (t, r)⋅C(t, r)   "
      ]
     },
     "execution_count": 49,
     "metadata": {},
     "output_type": "execute_result"
    }
   ],
   "source": [
    "eq26iz= pt.simplify(Dsigma2P +sigma2**2 -a1*J1) \n",
    "eq26de= -(Y1-Y0)/3\n",
    "eq26=eq26iz+eq26de\n",
    "eq26"
   ]
  },
  {
   "cell_type": "code",
   "execution_count": 50,
   "id": "ef671d85",
   "metadata": {},
   "outputs": [
    {
     "data": {
      "image/png": "[encoded data removed]",
      "text/latex": [
       "$\\displaystyle 4 \\pi P{\\left(t,r \\right)} + \\frac{4 \\pi \\rho{\\left(t,r \\right)}}{3} - \\frac{\\frac{\\partial}{\\partial r} A{\\left(t,r \\right)} \\frac{\\partial}{\\partial r} C{\\left(t,r \\right)}}{A{\\left(t,r \\right)} B^{2}{\\left(t,r \\right)} C{\\left(t,r \\right)}}$"
      ],
      "text/plain": [
       "                            ∂           ∂           \n",
       "                            ──(A(t, r))⋅──(C(t, r)) \n",
       "              4⋅π⋅ρ(t, r)   ∂r          ∂r          \n",
       "4⋅π⋅P(t, r) + ─────────── - ────────────────────────\n",
       "                   3                 2              \n",
       "                            A(t, r)⋅B (t, r)⋅C(t, r)"
      ]
     },
     "execution_count": 50,
     "metadata": {},
     "output_type": "execute_result"
    }
   ],
   "source": [
    "eq26=pt.simplify(eq26.subs(Delta,0))\n",
    "eq26=pt.simplify(eq26.subs(E,0))\n",
    "eq26=pt.simplify(eq26.subs(C.diff(t), 0))\n",
    "eq26"
   ]
  },
  {
   "cell_type": "markdown",
   "id": "8fbde94b",
   "metadata": {},
   "source": [
    "\\begin{equation}\n",
    "\\sigma_2^{{\\rm t}}+J_1(\\sigma_2-\\sigma_1)=-Z \\qquad (27)\n",
    "\\end{equation}"
   ]
  },
  {
   "cell_type": "code",
   "execution_count": 51,
   "id": "d75009cd",
   "metadata": {},
   "outputs": [
    {
     "data": {
      "image/png": "[encoded data removed]",
      "text/latex": [
       "$\\displaystyle \\frac{A{\\left(t,r \\right)} B{\\left(t,r \\right)} \\frac{\\partial^{2}}{\\partial t\\partial r} C{\\left(t,r \\right)} - A{\\left(t,r \\right)} \\frac{\\partial}{\\partial t} B{\\left(t,r \\right)} \\frac{\\partial}{\\partial r} C{\\left(t,r \\right)} - B{\\left(t,r \\right)} \\frac{\\partial}{\\partial r} A{\\left(t,r \\right)} \\frac{\\partial}{\\partial t} C{\\left(t,r \\right)}}{A^{2}{\\left(t,r \\right)} B^{2}{\\left(t,r \\right)} C{\\left(t,r \\right)}} + 4 \\pi F{\\left(t,r \\right)}$"
      ],
      "text/plain": [
       "                   2                                                                                            \n",
       "                  ∂                      ∂           ∂                     ∂           ∂                        \n",
       "A(t, r)⋅B(t, r)⋅─────(C(t, r)) - A(t, r)⋅──(B(t, r))⋅──(C(t, r)) - B(t, r)⋅──(A(t, r))⋅──(C(t, r))              \n",
       "                ∂t ∂r                    ∂t          ∂r                    ∂r          ∂t                       \n",
       "────────────────────────────────────────────────────────────────────────────────────────────────── + 4⋅π⋅F(t, r)\n",
       "                                     2        2                                                                 \n",
       "                                    A (t, r)⋅B (t, r)⋅C(t, r)                                                   "
      ]
     },
     "execution_count": 51,
     "metadata": {},
     "output_type": "execute_result"
    }
   ],
   "source": [
    "eq27iz= pt.simplify(Dsigma2dag + J1*(sigma2-sigma1)) \n",
    "eq27de= Z\n",
    "eq27=eq27iz+eq27de\n",
    "eq27"
   ]
  },
  {
   "cell_type": "code",
   "execution_count": 52,
   "id": "86c5a95e",
   "metadata": {},
   "outputs": [
    {
     "data": {
      "image/png": "[encoded data removed]",
      "text/latex": [
       "$\\displaystyle 0$"
      ],
      "text/plain": [
       "0"
      ]
     },
     "execution_count": 52,
     "metadata": {},
     "output_type": "execute_result"
    }
   ],
   "source": [
    "eq27=pt.simplify(eq27.subs(B.diff(t), 0))\n",
    "eq27=pt.simplify(eq27.subs(F,0))\n",
    "eq27=pt.simplify(eq27.subs(C.diff(t), 0))\n",
    "eq27"
   ]
  },
  {
   "cell_type": "markdown",
   "id": "1dcb5ccd",
   "metadata": {},
   "source": [
    "\\begin{equation}\n",
    "J^{\\bullet}_{1} +J_1\\sigma_2-a_1\\sigma_2 = -Z \\qquad (28)\n",
    "\\end{equation}"
   ]
  },
  {
   "cell_type": "code",
   "execution_count": 53,
   "id": "f30f28b5",
   "metadata": {},
   "outputs": [],
   "source": [
    "DJ1= pt.ten('DJ1',1)\n",
    "DJ1.assign(pt.D(J1,\"_alpha\"), \"_alpha\")\n",
    "DJ1.simplify()\n",
    "\n",
    "DJ1P= Vu('^alpha')*DJ1('_alpha') \n",
    "#pt.display(DJ1P)\n",
    "\n",
    "DJ1dag= Ku('^alpha')*DJ1('_alpha') \n",
    "#DJ1dag"
   ]
  },
  {
   "cell_type": "code",
   "execution_count": 54,
   "id": "67f0e2e3",
   "metadata": {},
   "outputs": [
    {
     "data": {
      "image/png": "[encoded data removed]",
      "text/latex": [
       "$\\displaystyle \\frac{A{\\left(t,r \\right)} B{\\left(t,r \\right)} \\frac{\\partial^{2}}{\\partial t\\partial r} C{\\left(t,r \\right)} - A{\\left(t,r \\right)} \\frac{\\partial}{\\partial t} B{\\left(t,r \\right)} \\frac{\\partial}{\\partial r} C{\\left(t,r \\right)} - B{\\left(t,r \\right)} \\frac{\\partial}{\\partial r} A{\\left(t,r \\right)} \\frac{\\partial}{\\partial t} C{\\left(t,r \\right)}}{A^{2}{\\left(t,r \\right)} B^{2}{\\left(t,r \\right)} C{\\left(t,r \\right)}} + 4 \\pi F{\\left(t,r \\right)}$"
      ],
      "text/plain": [
       "                   2                                                                                            \n",
       "                  ∂                      ∂           ∂                     ∂           ∂                        \n",
       "A(t, r)⋅B(t, r)⋅─────(C(t, r)) - A(t, r)⋅──(B(t, r))⋅──(C(t, r)) - B(t, r)⋅──(A(t, r))⋅──(C(t, r))              \n",
       "                ∂t ∂r                    ∂t          ∂r                    ∂r          ∂t                       \n",
       "────────────────────────────────────────────────────────────────────────────────────────────────── + 4⋅π⋅F(t, r)\n",
       "                                     2        2                                                                 \n",
       "                                    A (t, r)⋅B (t, r)⋅C(t, r)                                                   "
      ]
     },
     "execution_count": 54,
     "metadata": {},
     "output_type": "execute_result"
    }
   ],
   "source": [
    "eq28iz= pt.simplify(DJ1P + J1*sigma2 - a1*sigma2) \n",
    "eq28de= Z\n",
    "eq28=eq28iz+eq28de\n",
    "eq28"
   ]
  },
  {
   "cell_type": "code",
   "execution_count": 55,
   "id": "dca452f7",
   "metadata": {},
   "outputs": [
    {
     "data": {
      "image/png": "[encoded data removed]",
      "text/latex": [
       "$\\displaystyle 0$"
      ],
      "text/plain": [
       "0"
      ]
     },
     "execution_count": 55,
     "metadata": {},
     "output_type": "execute_result"
    }
   ],
   "source": [
    "eq28=pt.simplify(eq28.subs(B.diff(t), 0))\n",
    "eq28=pt.simplify(eq28.subs(F,0))\n",
    "eq28=pt.simplify(eq28.subs(C.diff(t), 0))\n",
    "eq28"
   ]
  },
  {
   "cell_type": "markdown",
   "id": "046d98a1",
   "metadata": {},
   "source": [
    "\\begin{equation}\n",
    "J_1^{{\\rm t}}+J_1^2-\\sigma_1 \\sigma_2 = \\frac{1}{3}(X_1-X_0) \\qquad (29)\n",
    "\\end{equation}"
   ]
  },
  {
   "cell_type": "code",
   "execution_count": 56,
   "id": "a44f7411",
   "metadata": {},
   "outputs": [
    {
     "data": {
      "image/png": "[encoded data removed]",
      "text/latex": [
       "$\\displaystyle \\frac{4 \\pi \\Delta{\\left(t,r \\right)}}{3} + \\frac{E{\\left(t,r \\right)}}{3} + \\frac{8 \\pi \\rho{\\left(t,r \\right)}}{3} + \\frac{\\frac{\\partial^{2}}{\\partial r^{2}} C{\\left(t,r \\right)}}{B^{2}{\\left(t,r \\right)} C{\\left(t,r \\right)}} - \\frac{\\frac{\\partial}{\\partial r} B{\\left(t,r \\right)} \\frac{\\partial}{\\partial r} C{\\left(t,r \\right)}}{B^{3}{\\left(t,r \\right)} C{\\left(t,r \\right)}} - \\frac{\\frac{\\partial}{\\partial t} B{\\left(t,r \\right)} \\frac{\\partial}{\\partial t} C{\\left(t,r \\right)}}{A^{2}{\\left(t,r \\right)} B{\\left(t,r \\right)} C{\\left(t,r \\right)}}$"
      ],
      "text/plain": [
       "                                          2                                                                \n",
       "                                         ∂                                                                 \n",
       "                                        ───(C(t, r))     ∂           ∂             ∂           ∂           \n",
       "                                          2              ──(B(t, r))⋅──(C(t, r))   ──(B(t, r))⋅──(C(t, r)) \n",
       "4⋅π⋅Δ(t, r)   E(t, r)   8⋅π⋅ρ(t, r)     ∂r               ∂r          ∂r            ∂t          ∂t          \n",
       "─────────── + ─────── + ─────────── + ──────────────── - ─────────────────────── - ────────────────────────\n",
       "     3           3           3         2                      3                     2                      \n",
       "                                      B (t, r)⋅C(t, r)       B (t, r)⋅C(t, r)      A (t, r)⋅B(t, r)⋅C(t, r)"
      ]
     },
     "execution_count": 56,
     "metadata": {},
     "output_type": "execute_result"
    }
   ],
   "source": [
    "eq29iz= pt.simplify(DJ1dag + J1**2 - sigma2*sigma1) \n",
    "eq29de= -(X1-X0)/3\n",
    "eq29=eq29iz+eq29de\n",
    "eq29"
   ]
  },
  {
   "cell_type": "code",
   "execution_count": 57,
   "id": "bc1afa24",
   "metadata": {},
   "outputs": [
    {
     "data": {
      "image/png": "[encoded data removed]",
      "text/latex": [
       "$\\displaystyle \\frac{8 \\pi \\rho{\\left(t,r \\right)}}{3} + \\frac{\\frac{\\partial^{2}}{\\partial r^{2}} C{\\left(t,r \\right)}}{B^{2}{\\left(t,r \\right)} C{\\left(t,r \\right)}} - \\frac{\\frac{\\partial}{\\partial r} B{\\left(t,r \\right)} \\frac{\\partial}{\\partial r} C{\\left(t,r \\right)}}{B^{3}{\\left(t,r \\right)} C{\\left(t,r \\right)}}$"
      ],
      "text/plain": [
       "                  2                                     \n",
       "                 ∂                                      \n",
       "                ───(C(t, r))     ∂           ∂          \n",
       "                  2              ──(B(t, r))⋅──(C(t, r))\n",
       "8⋅π⋅ρ(t, r)     ∂r               ∂r          ∂r         \n",
       "─────────── + ──────────────── - ───────────────────────\n",
       "     3         2                      3                 \n",
       "              B (t, r)⋅C(t, r)       B (t, r)⋅C(t, r)   "
      ]
     },
     "execution_count": 57,
     "metadata": {},
     "output_type": "execute_result"
    }
   ],
   "source": [
    "eq29=pt.simplify(eq29.subs(Delta,0))\n",
    "eq29=pt.simplify(eq29.subs(E,0))\n",
    "eq29=pt.simplify(eq29.subs(C.diff(t), 0))\n",
    "eq29"
   ]
  },
  {
   "cell_type": "markdown",
   "id": "1bf0e8e9",
   "metadata": {},
   "source": [
    "\\begin{equation}\n",
    "J^{\\bullet}_{2} +J_2\\sigma_2 = 0  \\qquad (30)\n",
    "\\end{equation}"
   ]
  },
  {
   "cell_type": "code",
   "execution_count": 58,
   "id": "ceacae5c",
   "metadata": {},
   "outputs": [],
   "source": [
    "DJ2= pt.ten('DJ2',1)\n",
    "DJ2.assign(pt.D(J2,\"_alpha\"), \"_alpha\")\n",
    "DJ2.simplify()\n",
    "\n",
    "DJ2P= Vu('^alpha')*DJ2('_alpha') \n",
    "#pt.display(DJ2P)\n",
    "\n",
    "DJ2dag= Ku('^alpha')*DJ2('_alpha') "
   ]
  },
  {
   "cell_type": "code",
   "execution_count": 59,
   "id": "9dc5ac0f",
   "metadata": {},
   "outputs": [
    {
     "data": {
      "image/png": "[encoded data removed]",
      "text/latex": [
       "$\\displaystyle \\left[ \\frac{\\cot{\\left(\\theta \\right)} \\frac{\\partial}{\\partial t} C{\\left(t,r \\right)}}{A{\\left(t,r \\right)} C^{2}{\\left(t,r \\right)}}, \\  - \\frac{\\cot{\\left(\\theta \\right)} \\frac{\\partial}{\\partial t} C{\\left(t,r \\right)}}{A{\\left(t,r \\right)} C^{2}{\\left(t,r \\right)}}\\right]$"
      ],
      "text/plain": [
       "⎡       ∂                    ∂           ⎤\n",
       "⎢cot(θ)⋅──(C(t, r))  -cot(θ)⋅──(C(t, r)) ⎥\n",
       "⎢       ∂t                   ∂t          ⎥\n",
       "⎢──────────────────, ────────────────────⎥\n",
       "⎢          2                    2        ⎥\n",
       "⎣ A(t, r)⋅C (t, r)     A(t, r)⋅C (t, r)  ⎦"
      ]
     },
     "execution_count": 59,
     "metadata": {},
     "output_type": "execute_result"
    }
   ],
   "source": [
    "eq30iz= pt.simplify(DJ2P + J2*sigma2) \n",
    "eq30de= 0\n",
    "eq30=eq30iz\n",
    "eq30\n",
    "[J2*sigma2,DJ2P]"
   ]
  },
  {
   "cell_type": "markdown",
   "id": "1ae301ae",
   "metadata": {},
   "source": [
    "\\begin{equation}\n",
    "J_2^{{\\rm t}} +J_1J_2 = 0   \\qquad (31)\n",
    "\\end{equation}"
   ]
  },
  {
   "cell_type": "code",
   "execution_count": 60,
   "id": "753c5690",
   "metadata": {},
   "outputs": [
    {
     "data": {
      "image/png": "[encoded data removed]",
      "text/latex": [
       "$\\displaystyle \\left[ - \\frac{\\cot{\\left(\\theta \\right)} \\frac{\\partial}{\\partial r} C{\\left(t,r \\right)}}{B{\\left(t,r \\right)} C^{2}{\\left(t,r \\right)}}, \\  \\frac{\\cot{\\left(\\theta \\right)} \\frac{\\partial}{\\partial r} C{\\left(t,r \\right)}}{B{\\left(t,r \\right)} C^{2}{\\left(t,r \\right)}}\\right]$"
      ],
      "text/plain": [
       "⎡        ∂                    ∂          ⎤\n",
       "⎢-cot(θ)⋅──(C(t, r))   cot(θ)⋅──(C(t, r))⎥\n",
       "⎢        ∂r                   ∂r         ⎥\n",
       "⎢────────────────────, ──────────────────⎥\n",
       "⎢           2                    2       ⎥\n",
       "⎣  B(t, r)⋅C (t, r)     B(t, r)⋅C (t, r) ⎦"
      ]
     },
     "execution_count": 60,
     "metadata": {},
     "output_type": "execute_result"
    }
   ],
   "source": [
    "eq31iz= pt.simplify(DJ2dag + J1*J2) \n",
    "eq31de= 0\n",
    "eq31=eq31iz-eq31de\n",
    "[DJ2dag,J1*J2]"
   ]
  },
  {
   "cell_type": "markdown",
   "id": "a8da99a6",
   "metadata": {},
   "source": [
    "\\begin{equation}\n",
    "J_1^2-\\frac{1}{C^2}-\\sigma_2^2 = -\\frac{1}{3}(X_0+2X_1) \\qquad (32)\n",
    "\\end{equation}"
   ]
  },
  {
   "cell_type": "code",
   "execution_count": 61,
   "id": "2fff8d54",
   "metadata": {},
   "outputs": [
    {
     "data": {
      "image/png": "[encoded data removed]",
      "text/latex": [
       "$\\displaystyle - \\frac{8 \\pi \\Delta{\\left(t,r \\right)}}{3} - \\frac{2 E{\\left(t,r \\right)}}{3} + \\frac{8 \\pi \\rho{\\left(t,r \\right)}}{3} - \\frac{1}{C^{2}{\\left(t,r \\right)}} + \\frac{\\left(\\frac{\\partial}{\\partial r} C{\\left(t,r \\right)}\\right)^{2}}{B^{2}{\\left(t,r \\right)} C^{2}{\\left(t,r \\right)}} - \\frac{\\left(\\frac{\\partial}{\\partial t} C{\\left(t,r \\right)}\\right)^{2}}{A^{2}{\\left(t,r \\right)} C^{2}{\\left(t,r \\right)}}$"
      ],
      "text/plain": [
       "                                                                    2                   2 \n",
       "                                                       ⎛∂          ⎞       ⎛∂          ⎞  \n",
       "                                                       ⎜──(C(t, r))⎟       ⎜──(C(t, r))⎟  \n",
       "  8⋅π⋅Δ(t, r)   2⋅E(t, r)   8⋅π⋅ρ(t, r)      1         ⎝∂r         ⎠       ⎝∂t         ⎠  \n",
       "- ─────────── - ───────── + ─────────── - ──────── + ───────────────── - ─────────────────\n",
       "       3            3            3         2          2        2          2        2      \n",
       "                                          C (t, r)   B (t, r)⋅C (t, r)   A (t, r)⋅C (t, r)"
      ]
     },
     "execution_count": 61,
     "metadata": {},
     "output_type": "execute_result"
    }
   ],
   "source": [
    "eq32iz= pt.simplify(J1**2 - 1/C**2 - sigma2**2) \n",
    "eq32de= -(X0+2*X1)/3\n",
    "eq32=eq32iz-eq32de\n",
    "eq32"
   ]
  },
  {
   "cell_type": "code",
   "execution_count": 62,
   "id": "6c85bd00",
   "metadata": {},
   "outputs": [
    {
     "data": {
      "image/png": "[encoded data removed]",
      "text/latex": [
       "$\\displaystyle \\frac{8 \\pi \\rho{\\left(t,r \\right)}}{3} - \\frac{1}{C^{2}{\\left(t,r \\right)}} + \\frac{\\left(\\frac{\\partial}{\\partial r} C{\\left(t,r \\right)}\\right)^{2}}{B^{2}{\\left(t,r \\right)} C^{2}{\\left(t,r \\right)}}$"
      ],
      "text/plain": [
       "                                        2 \n",
       "                           ⎛∂          ⎞  \n",
       "                           ⎜──(C(t, r))⎟  \n",
       "8⋅π⋅ρ(t, r)      1         ⎝∂r         ⎠  \n",
       "─────────── - ──────── + ─────────────────\n",
       "     3         2          2        2      \n",
       "              C (t, r)   B (t, r)⋅C (t, r)"
      ]
     },
     "execution_count": 62,
     "metadata": {},
     "output_type": "execute_result"
    }
   ],
   "source": [
    "eq32=pt.simplify(eq32.subs(Delta,0))\n",
    "eq32=pt.simplify(eq32.subs(C.diff(t), 0))\n",
    "eq32=pt.simplify(eq32.subs(E,0))\n",
    "eq32"
   ]
  },
  {
   "cell_type": "markdown",
   "id": "b28c785c",
   "metadata": {},
   "source": [
    "## Equations from Bianchi identities:\n",
    "\n",
    "\\begin{eqnarray}\n",
    "a_1[-X_0+X_1-Y_0+Y_1]+3J_1Y_1+3Z^{\\bullet} +6Z \\sigma_1 + 3Z\\sigma_2-Y_0^{{\\rm t}}+Y_1^{{\\rm t}} &=& 0 \\,,\n",
    "\\label{Bianchi1} \\\\\n",
    "X^{\\bullet}_0 -X^{\\bullet}_1 -6a_1Z -3J_1Z  +\\left[Y_0 -Y_1 -X_1\\right] \\sigma_1  \n",
    " +\\left[Y_0 +2Y_1 -X_1\\right] \\sigma_2   +X_0[\\sigma_1+\\sigma_2]-3Z^{{\\rm t}} &=&0 \\,, \\label{Bianchi2} \\\\\n",
    "X^{\\bullet}_0 +2 X^{\\bullet}_1 +2X_0\\sigma_2 -6J_1Z +[4X_1 + 2Y_0 - 2Y_1] \\sigma_2 &=&0,   \\label{Bianchi3} \\\\  \n",
    "\\quad \\mathrm{and} \\quad  X_0^{{\\rm t}}+2X_1^{{\\rm t}}+6J_1X_1+6Z\\sigma_2&=& 0 \\,. \\label{Bianchi4}\n",
    "\\end{eqnarray}\n"
   ]
  },
  {
   "cell_type": "code",
   "execution_count": 63,
   "id": "f301669b",
   "metadata": {},
   "outputs": [],
   "source": [
    "DZ= pt.ten('DZ',1)\n",
    "DZ.assign(pt.D(Z,\"_alpha\"), \"_alpha\")\n",
    "DZ.simplify()\n",
    "DZP= Vu('^alpha')*DZ('_alpha') \n",
    "#pt.display(DZP)\n",
    "DZdag= Ku('^alpha')*DZ('_alpha') \n",
    "#DZdag"
   ]
  },
  {
   "cell_type": "code",
   "execution_count": 64,
   "id": "2db6cf6b",
   "metadata": {},
   "outputs": [],
   "source": [
    "DY0= pt.ten('DY0',1)\n",
    "DY0.assign(pt.D(Y0,\"_alpha\"), \"_alpha\")\n",
    "DY0.simplify()\n",
    "DY0P= Vu('^alpha')*DY0('_alpha') \n",
    "#pt.display(DY0P)\n",
    "DY0dag= Ku('^alpha')*DY0('_alpha') \n",
    "#DY0dag"
   ]
  },
  {
   "cell_type": "code",
   "execution_count": 65,
   "id": "b124ee70",
   "metadata": {},
   "outputs": [],
   "source": [
    "DY1= pt.ten('DY1',1)\n",
    "DY1.assign(pt.D(Y1,\"_alpha\"), \"_alpha\")\n",
    "DY1.simplify()\n",
    "DY1P= Vu('^alpha')*DY1('_alpha') \n",
    "#pt.display(DY1P)\n",
    "DY1dag= Ku('^alpha')*DY1('_alpha') \n",
    "#DY1dag"
   ]
  },
  {
   "cell_type": "code",
   "execution_count": 66,
   "id": "0a5021c3",
   "metadata": {},
   "outputs": [],
   "source": [
    "DX0= pt.ten('DX0',1)\n",
    "DX0.assign(pt.D(X0,\"_alpha\"), \"_alpha\")\n",
    "DX0.simplify()\n",
    "DX0P= Vu('^alpha')*DX0('_alpha') \n",
    "#pt.display(DX0P)\n",
    "DX0dag= Ku('^alpha')*DX0('_alpha') \n",
    "#DX0dag"
   ]
  },
  {
   "cell_type": "code",
   "execution_count": 67,
   "id": "8e5da75c",
   "metadata": {},
   "outputs": [],
   "source": [
    "DX1= pt.ten('DX1',1)\n",
    "DX1.assign(pt.D(X1,\"_alpha\"), \"_alpha\")\n",
    "DX1.simplify()\n",
    "DX1P= Vu('^alpha')*DX1('_alpha') \n",
    "#pt.display(DX1P)\n",
    "DX1dag= Ku('^alpha')*DX1('_alpha') \n",
    "#DX1dag"
   ]
  },
  {
   "cell_type": "markdown",
   "id": "6be6e962",
   "metadata": {},
   "source": [
    "\\begin{equation}\n",
    "a_1[-X_0+X_1-Y_0+Y_1]+3J_1Y_1+3Z^{\\bullet} +6Z \\sigma_1 + 3Z\\sigma_2-Y_0^{{\\rm t}}+Y_1^{{\\rm t}} = 0 \\,,\n",
    "\\label{Bianchi1}\n",
    "\\end{equation}"
   ]
  },
  {
   "cell_type": "code",
   "execution_count": 68,
   "id": "dcee6307",
   "metadata": {},
   "outputs": [
    {
     "data": {
      "image/png": "[encoded data removed]",
      "text/latex": [
       "$\\displaystyle \\frac{3 \\left(- 4 \\pi \\Delta{\\left(t,r \\right)} + E{\\left(t,r \\right)}\\right) \\frac{\\partial}{\\partial r} C{\\left(t,r \\right)}}{B{\\left(t,r \\right)} C{\\left(t,r \\right)}} + \\frac{- 4 \\pi \\frac{\\partial}{\\partial r} \\Delta{\\left(t,r \\right)} + \\frac{\\partial}{\\partial r} E{\\left(t,r \\right)}}{B{\\left(t,r \\right)}} - \\frac{4 \\pi \\left(3 \\frac{\\partial}{\\partial r} P{\\left(t,r \\right)} + \\frac{\\partial}{\\partial r} \\rho{\\left(t,r \\right)}\\right)}{B{\\left(t,r \\right)}} + \\frac{\\left(- 4 \\pi \\left(3 P{\\left(t,r \\right)} + \\rho{\\left(t,r \\right)}\\right) - 8 \\pi \\Delta{\\left(t,r \\right)} - 8 \\pi \\rho{\\left(t,r \\right)}\\right) \\frac{\\partial}{\\partial r} A{\\left(t,r \\right)}}{A{\\left(t,r \\right)} B{\\left(t,r \\right)}} + \\frac{12 \\pi \\frac{\\partial}{\\partial t} F{\\left(t,r \\right)}}{A{\\left(t,r \\right)}} + \\frac{12 \\pi F{\\left(t,r \\right)} \\frac{\\partial}{\\partial t} C{\\left(t,r \\right)}}{A{\\left(t,r \\right)} C{\\left(t,r \\right)}} + \\frac{24 \\pi F{\\left(t,r \\right)} \\frac{\\partial}{\\partial t} B{\\left(t,r \\right)}}{A{\\left(t,r \\right)} B{\\left(t,r \\right)}}$"
      ],
      "text/plain": [
       "                           ∂                   ∂             ∂                 ⎛  ∂             ∂          ⎞                          \n",
       "3⋅(-4⋅π⋅Δ(t, r) + E(t, r))⋅──(C(t, r))   - 4⋅π⋅──(Δ(t, r)) + ──(E(t, r))   4⋅π⋅⎜3⋅──(P(t, r)) + ──(ρ(t, r))⎟   (-4⋅π⋅(3⋅P(t, r) + ρ(t,\n",
       "                           ∂r                  ∂r            ∂r                ⎝  ∂r            ∂r         ⎠                          \n",
       "────────────────────────────────────── + ─────────────────────────────── - ───────────────────────────────── + ───────────────────────\n",
       "           B(t, r)⋅C(t, r)                           B(t, r)                            B(t, r)                                       \n",
       "\n",
       "                                  ∂                  ∂                          ∂                          ∂          \n",
       " r)) - 8⋅π⋅Δ(t, r) - 8⋅π⋅ρ(t, r))⋅──(A(t, r))   12⋅π⋅──(F(t, r))   12⋅π⋅F(t, r)⋅──(C(t, r))   24⋅π⋅F(t, r)⋅──(B(t, r))\n",
       "                                  ∂r                 ∂t                         ∂t                         ∂t         \n",
       "───────────────────────────────────────────── + ──────────────── + ──────────────────────── + ────────────────────────\n",
       "   A(t, r)⋅B(t, r)                                  A(t, r)            A(t, r)⋅C(t, r)            A(t, r)⋅B(t, r)     "
      ]
     },
     "execution_count": 68,
     "metadata": {},
     "output_type": "execute_result"
    }
   ],
   "source": [
    "eq33=(a1*(-X0+X1-Y0+Y1) + 3*J1*Y1 + 3*DZP + 6*Z*sigma1 + 3*Z*sigma2 - DY0dag + DY1dag )\n",
    "eq33"
   ]
  },
  {
   "cell_type": "code",
   "execution_count": 69,
   "id": "6a3dd860",
   "metadata": {},
   "outputs": [
    {
     "data": {
      "image/png": "[encoded data removed]",
      "text/latex": [
       "$\\displaystyle - \\frac{4 \\pi \\left(3 \\left(P{\\left(t,r \\right)} + \\rho{\\left(t,r \\right)}\\right) \\frac{\\partial}{\\partial r} A{\\left(t,r \\right)} + \\left(3 \\frac{\\partial}{\\partial r} P{\\left(t,r \\right)} + \\frac{\\partial}{\\partial r} \\rho{\\left(t,r \\right)}\\right) A{\\left(t,r \\right)}\\right)}{A{\\left(t,r \\right)} B{\\left(t,r \\right)}}$"
      ],
      "text/plain": [
       "     ⎛                      ∂             ⎛  ∂             ∂          ⎞        ⎞ \n",
       "-4⋅π⋅⎜3⋅(P(t, r) + ρ(t, r))⋅──(A(t, r)) + ⎜3⋅──(P(t, r)) + ──(ρ(t, r))⎟⋅A(t, r)⎟ \n",
       "     ⎝                      ∂r            ⎝  ∂r            ∂r         ⎠        ⎠ \n",
       "─────────────────────────────────────────────────────────────────────────────────\n",
       "                                 A(t, r)⋅B(t, r)                                 "
      ]
     },
     "execution_count": 69,
     "metadata": {},
     "output_type": "execute_result"
    }
   ],
   "source": [
    "eq33=pt.simplify(eq33.subs(B.diff(t), 0))\n",
    "eq33=pt.simplify(eq33.subs(C.diff(t), 0))\n",
    "eq33=pt.simplify(eq33.subs(E,0))\n",
    "eq33=pt.simplify(eq33.subs(F,0))\n",
    "eq33=pt.simplify(eq33.subs(Delta.diff(r), 0))\n",
    "eq33=pt.simplify(eq33.subs(Delta,0))\n",
    "eq33"
   ]
  },
  {
   "cell_type": "markdown",
   "id": "bb87450b",
   "metadata": {},
   "source": [
    "\\begin{eqnarray}\n",
    "X^{\\bullet}_0 -X^{\\bullet}_1 -6a_1Z -3J_1Z  +\\left[Y_0 -Y_1 -X_1\\right] \\sigma_1  \n",
    " +\\left[Y_0 +2Y_1 -X_1\\right] \\sigma_2   +X_0[\\sigma_1+\\sigma_2]-3Z^{{\\rm t}} &=&0 \\,, \\label{Bianchi2} \\\\\n",
    "\\end{eqnarray}"
   ]
  },
  {
   "cell_type": "code",
   "execution_count": 70,
   "id": "ecc02d58",
   "metadata": {},
   "outputs": [
    {
     "data": {
      "image/png": "[encoded data removed]",
      "text/latex": [
       "$\\displaystyle \\frac{4 \\pi \\left(\\left(2 \\Delta{\\left(t,r \\right)} + 3 P{\\left(t,r \\right)} + \\rho{\\left(t,r \\right)}\\right) \\frac{\\partial}{\\partial t} B{\\left(t,r \\right)} - 6 F{\\left(t,r \\right)} \\frac{\\partial}{\\partial r} A{\\left(t,r \\right)}\\right) C{\\left(t,r \\right)} + 8 \\pi \\left(B{\\left(t,r \\right)} \\frac{\\partial}{\\partial t} C{\\left(t,r \\right)} + C{\\left(t,r \\right)} \\frac{\\partial}{\\partial t} B{\\left(t,r \\right)}\\right) \\rho{\\left(t,r \\right)} + \\left(4 \\pi \\left(3 P{\\left(t,r \\right)} + \\rho{\\left(t,r \\right)}\\right) - 4 \\pi \\Delta{\\left(t,r \\right)} + 3 E{\\left(t,r \\right)}\\right) B{\\left(t,r \\right)} \\frac{\\partial}{\\partial t} C{\\left(t,r \\right)} + \\left(4 \\pi \\frac{\\partial}{\\partial t} \\Delta{\\left(t,r \\right)} + \\frac{\\partial}{\\partial t} E{\\left(t,r \\right)} + 8 \\pi \\frac{\\partial}{\\partial t} \\rho{\\left(t,r \\right)}\\right) B{\\left(t,r \\right)} C{\\left(t,r \\right)} - 12 \\pi A{\\left(t,r \\right)} C{\\left(t,r \\right)} \\frac{\\partial}{\\partial r} F{\\left(t,r \\right)} - 12 \\pi A{\\left(t,r \\right)} F{\\left(t,r \\right)} \\frac{\\partial}{\\partial r} C{\\left(t,r \\right)}}{A{\\left(t,r \\right)} B{\\left(t,r \\right)} C{\\left(t,r \\right)}}$"
      ],
      "text/plain": [
       "    ⎛                                  ∂                       ∂          ⎞               ⎛        ∂                     ∂          ⎞ \n",
       "4⋅π⋅⎜(2⋅Δ(t, r) + 3⋅P(t, r) + ρ(t, r))⋅──(B(t, r)) - 6⋅F(t, r)⋅──(A(t, r))⎟⋅C(t, r) + 8⋅π⋅⎜B(t, r)⋅──(C(t, r)) + C(t, r)⋅──(B(t, r))⎟⋅\n",
       "    ⎝                                  ∂t                      ∂r         ⎠               ⎝        ∂t                    ∂t         ⎠ \n",
       "──────────────────────────────────────────────────────────────────────────────────────────────────────────────────────────────────────\n",
       "                                                                                                                                      \n",
       "\n",
       "                                                                        ∂             ⎛    ∂             ∂                 ∂          \n",
       "ρ(t, r) + (4⋅π⋅(3⋅P(t, r) + ρ(t, r)) - 4⋅π⋅Δ(t, r) + 3⋅E(t, r))⋅B(t, r)⋅──(C(t, r)) + ⎜4⋅π⋅──(Δ(t, r)) + ──(E(t, r)) + 8⋅π⋅──(ρ(t, r))\n",
       "                                                                        ∂t            ⎝    ∂t            ∂t                ∂t         \n",
       "──────────────────────────────────────────────────────────────────────────────────────────────────────────────────────────────────────\n",
       "                                A(t, r)⋅B(t, r)⋅C(t, r)                                                                               \n",
       "\n",
       "⎞                                        ∂                                  ∂          \n",
       "⎟⋅B(t, r)⋅C(t, r) - 12⋅π⋅A(t, r)⋅C(t, r)⋅──(F(t, r)) - 12⋅π⋅A(t, r)⋅F(t, r)⋅──(C(t, r))\n",
       "⎠                                        ∂r                                 ∂r         \n",
       "───────────────────────────────────────────────────────────────────────────────────────\n",
       "                                                                                       "
      ]
     },
     "execution_count": 70,
     "metadata": {},
     "output_type": "execute_result"
    }
   ],
   "source": [
    "eq34=pt.simplify(DX0P-DX1P -6*a1*Z - 3*J1*Z + (Y0-Y1-X1)*sigma1 + (Y0+2*Y1-X1)*sigma2 +X0*(sigma1+sigma2)-3*DZdag )\n",
    "eq34"
   ]
  },
  {
   "cell_type": "code",
   "execution_count": 71,
   "id": "e7d317a1",
   "metadata": {},
   "outputs": [
    {
     "data": {
      "image/png": "[encoded data removed]",
      "text/latex": [
       "$\\displaystyle \\frac{8 \\pi \\frac{\\partial}{\\partial t} \\rho{\\left(t,r \\right)}}{A{\\left(t,r \\right)}}$"
      ],
      "text/plain": [
       "    ∂          \n",
       "8⋅π⋅──(ρ(t, r))\n",
       "    ∂t         \n",
       "───────────────\n",
       "    A(t, r)    "
      ]
     },
     "execution_count": 71,
     "metadata": {},
     "output_type": "execute_result"
    }
   ],
   "source": [
    "eq34=pt.simplify(eq34.subs(B.diff(t), 0))\n",
    "eq34=pt.simplify(eq34.subs(C.diff(t), 0))\n",
    "eq34=pt.simplify(eq34.subs(E,0))\n",
    "eq34=pt.simplify(eq34.subs(F,0))\n",
    "eq34=pt.simplify(eq34.subs(Delta.diff(r), 0))\n",
    "eq34=pt.simplify(eq34.subs(Delta,0))\n",
    "eq34"
   ]
  },
  {
   "cell_type": "markdown",
   "id": "24bc0528",
   "metadata": {},
   "source": [
    "\\begin{eqnarray}\n",
    "X^{\\bullet}_0 +2 X^{\\bullet}_1 +2X_0\\sigma_2 -6J_1Z +[4X_1 + 2Y_0 - 2Y_1] \\sigma_2 &=&0,   \\label{Bianchi3} \\\\  \n",
    "\\end{eqnarray}"
   ]
  },
  {
   "cell_type": "code",
   "execution_count": 72,
   "id": "5290d4ca",
   "metadata": {
    "scrolled": true
   },
   "outputs": [
    {
     "data": {
      "image/png": "[encoded data removed]",
      "text/latex": [
       "$\\displaystyle \\frac{2 \\left(\\left(- 4 \\pi \\frac{\\partial}{\\partial t} \\Delta{\\left(t,r \\right)} - \\frac{\\partial}{\\partial t} E{\\left(t,r \\right)} + 4 \\pi \\frac{\\partial}{\\partial t} \\rho{\\left(t,r \\right)}\\right) B{\\left(t,r \\right)} C{\\left(t,r \\right)} + \\left(4 \\pi \\left(3 P{\\left(t,r \\right)} + \\rho{\\left(t,r \\right)}\\right) - 4 \\pi \\Delta{\\left(t,r \\right)} - 3 E{\\left(t,r \\right)} + 8 \\pi \\rho{\\left(t,r \\right)}\\right) B{\\left(t,r \\right)} \\frac{\\partial}{\\partial t} C{\\left(t,r \\right)} - 12 \\pi A{\\left(t,r \\right)} F{\\left(t,r \\right)} \\frac{\\partial}{\\partial r} C{\\left(t,r \\right)}\\right)}{A{\\left(t,r \\right)} B{\\left(t,r \\right)} C{\\left(t,r \\right)}}$"
      ],
      "text/plain": [
       "  ⎛⎛      ∂             ∂                 ∂          ⎞                                                                                \n",
       "2⋅⎜⎜- 4⋅π⋅──(Δ(t, r)) - ──(E(t, r)) + 4⋅π⋅──(ρ(t, r))⎟⋅B(t, r)⋅C(t, r) + (4⋅π⋅(3⋅P(t, r) + ρ(t, r)) - 4⋅π⋅Δ(t, r) - 3⋅E(t, r) + 8⋅π⋅ρ(\n",
       "  ⎝⎝      ∂t            ∂t                ∂t         ⎠                                                                                \n",
       "──────────────────────────────────────────────────────────────────────────────────────────────────────────────────────────────────────\n",
       "                                                                                      A(t, r)⋅B(t, r)⋅C(t, r)                         \n",
       "\n",
       "               ∂                                  ∂          ⎞\n",
       "t, r))⋅B(t, r)⋅──(C(t, r)) - 12⋅π⋅A(t, r)⋅F(t, r)⋅──(C(t, r))⎟\n",
       "               ∂t                                 ∂r         ⎠\n",
       "──────────────────────────────────────────────────────────────\n",
       "                                                              "
      ]
     },
     "execution_count": 72,
     "metadata": {},
     "output_type": "execute_result"
    }
   ],
   "source": [
    "eq35=pt.simplify(DX0P+2*DX1P + 2*X0*sigma2 - 6*J1*Z + (4*X1+2*Y0-2*Y1)*sigma2  )\n",
    "eq35"
   ]
  },
  {
   "cell_type": "code",
   "execution_count": 73,
   "id": "6cad1032",
   "metadata": {},
   "outputs": [
    {
     "data": {
      "image/png": "[encoded data removed]",
      "text/latex": [
       "$\\displaystyle \\frac{8 \\pi \\frac{\\partial}{\\partial t} \\rho{\\left(t,r \\right)}}{A{\\left(t,r \\right)}}$"
      ],
      "text/plain": [
       "    ∂          \n",
       "8⋅π⋅──(ρ(t, r))\n",
       "    ∂t         \n",
       "───────────────\n",
       "    A(t, r)    "
      ]
     },
     "execution_count": 73,
     "metadata": {},
     "output_type": "execute_result"
    }
   ],
   "source": [
    "eq35=pt.simplify(eq35.subs(B.diff(t), 0))\n",
    "eq35=pt.simplify(eq35.subs(C.diff(t), 0))\n",
    "eq35=pt.simplify(eq35.subs(E,0))\n",
    "eq35=pt.simplify(eq35.subs(F,0))\n",
    "eq35=pt.simplify(eq35.subs(Delta.diff(r), 0))\n",
    "eq35=pt.simplify(eq35.subs(Delta,0))\n",
    "eq35"
   ]
  },
  {
   "cell_type": "markdown",
   "id": "0174db78",
   "metadata": {},
   "source": [
    "\\begin{eqnarray}\n",
    "X_0^{{\\rm t}}+2X_1^{{\\rm t}}+6J_1X_1+6Z\\sigma_2&=& 0 \\,. \\label{Bianchi4}\n",
    "\\end{eqnarray}"
   ]
  },
  {
   "cell_type": "code",
   "execution_count": 74,
   "id": "cce3f9c2",
   "metadata": {},
   "outputs": [
    {
     "data": {
      "image/png": "[encoded data removed]",
      "text/latex": [
       "$\\displaystyle \\frac{2 \\left(- 3 \\left(4 \\pi \\Delta{\\left(t,r \\right)} + E{\\left(t,r \\right)}\\right) A{\\left(t,r \\right)} \\frac{\\partial}{\\partial r} C{\\left(t,r \\right)} + \\left(- 4 \\pi \\frac{\\partial}{\\partial r} \\Delta{\\left(t,r \\right)} - \\frac{\\partial}{\\partial r} E{\\left(t,r \\right)} + 4 \\pi \\frac{\\partial}{\\partial r} \\rho{\\left(t,r \\right)}\\right) A{\\left(t,r \\right)} C{\\left(t,r \\right)} + 12 \\pi B{\\left(t,r \\right)} F{\\left(t,r \\right)} \\frac{\\partial}{\\partial t} C{\\left(t,r \\right)}\\right)}{A{\\left(t,r \\right)} B{\\left(t,r \\right)} C{\\left(t,r \\right)}}$"
      ],
      "text/plain": [
       "  ⎛                                    ∂             ⎛      ∂             ∂                 ∂          ⎞                              \n",
       "2⋅⎜- 3⋅(4⋅π⋅Δ(t, r) + E(t, r))⋅A(t, r)⋅──(C(t, r)) + ⎜- 4⋅π⋅──(Δ(t, r)) - ──(E(t, r)) + 4⋅π⋅──(ρ(t, r))⎟⋅A(t, r)⋅C(t, r) + 12⋅π⋅B(t, r\n",
       "  ⎝                                    ∂r            ⎝      ∂r            ∂r                ∂r         ⎠                              \n",
       "──────────────────────────────────────────────────────────────────────────────────────────────────────────────────────────────────────\n",
       "                                                                  A(t, r)⋅B(t, r)⋅C(t, r)                                             \n",
       "\n",
       "          ∂          ⎞\n",
       ")⋅F(t, r)⋅──(C(t, r))⎟\n",
       "          ∂t         ⎠\n",
       "──────────────────────\n",
       "                      "
      ]
     },
     "execution_count": 74,
     "metadata": {},
     "output_type": "execute_result"
    }
   ],
   "source": [
    "eq36=pt.simplify(DX0dag + 2*DX1dag + 6*J1*X1 + 6*Z*sigma2  )\n",
    "eq36"
   ]
  },
  {
   "cell_type": "code",
   "execution_count": 75,
   "id": "89a5c8f3",
   "metadata": {},
   "outputs": [
    {
     "data": {
      "image/png": "[encoded data removed]",
      "text/latex": [
       "$\\displaystyle \\frac{8 \\pi \\frac{\\partial}{\\partial r} \\rho{\\left(t,r \\right)}}{B{\\left(t,r \\right)}}$"
      ],
      "text/plain": [
       "    ∂          \n",
       "8⋅π⋅──(ρ(t, r))\n",
       "    ∂r         \n",
       "───────────────\n",
       "    B(t, r)    "
      ]
     },
     "execution_count": 75,
     "metadata": {},
     "output_type": "execute_result"
    }
   ],
   "source": [
    "eq36=pt.simplify(eq36.subs(B.diff(t), 0))\n",
    "eq36=pt.simplify(eq36.subs(C.diff(t), 0))\n",
    "eq36=pt.simplify(eq36.subs(E,0))\n",
    "eq36=pt.simplify(eq36.subs(F,0))\n",
    "eq36=pt.simplify(eq36.subs(Delta.diff(r), 0))\n",
    "eq36=pt.simplify(eq36.subs(Delta,0))\n",
    "eq36"
   ]
  },
  {
   "cell_type": "code",
   "execution_count": null,
   "id": "f91dad94",
   "metadata": {},
   "outputs": [],
   "source": []
  },
  {
   "cell_type": "code",
   "execution_count": null,
   "id": "524466e0",
   "metadata": {},
   "outputs": [],
   "source": []
  }
 ],
 "metadata": {
  "kernelspec": {
   "display_name": "Python 3 (ipykernel)",
   "language": "python",
   "name": "python3"
  },
  "language_info": {
   "codemirror_mode": {
    "name": "ipython",
    "version": 3
   },
   "file_extension": ".py",
   "mimetype": "text/x-python",
   "name": "python",
   "nbconvert_exporter": "python",
   "pygments_lexer": "ipython3",
   "version": "3.8.12"
  }
 },
 "nbformat": 4,
 "nbformat_minor": 5
}
