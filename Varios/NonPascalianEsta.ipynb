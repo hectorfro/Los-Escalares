{
 "cells": [
  {
   "cell_type": "code",
   "execution_count": null,
   "id": "055aea90",
   "metadata": {},
   "outputs": [],
   "source": [
    "#### Versión del 28/9/2022 ##### \n",
    "import pytearcat as pt\n",
    "import sympy as sy\n",
    "from sympy import * "
   ]
  },
  {
   "cell_type": "markdown",
   "id": "f5d30c7b",
   "metadata": {},
   "source": [
    "### Metric\n"
   ]
  },
  {
   "cell_type": "code",
   "execution_count": null,
   "id": "4bf547c2",
   "metadata": {
    "scrolled": true
   },
   "outputs": [],
   "source": [
    "t,r,theta,phi = pt.coords('t,r,theta,phi')\n",
    "\n",
    "A = pt.fun('A','r')\n",
    "B = pt.fun('B','r')\n",
    "C = pt.fun('C','r')\n",
    "\n",
    "rho = pt.fun('rho','r')\n",
    "P = pt.fun('P','r')\n",
    "Pt = pt.fun('Pt','r')\n",
    "#Delta = pt.fun('Delta','r')\n",
    "#Delta=0\n",
    "F = pt.fun('F','r')\n",
    "E = pt.fun('E','r')"
   ]
  },
  {
   "cell_type": "code",
   "execution_count": null,
   "id": "45b20ced",
   "metadata": {},
   "outputs": [],
   "source": [
    "ds = 'ds2 = -A**2*dt**2 + B**2*dr**2 + C**2 * (dtheta**2 + sin(theta)**2 * dphi**2)'\n",
    "g = pt.metric(ds)"
   ]
  },
  {
   "cell_type": "markdown",
   "id": "a1deed06",
   "metadata": {},
   "source": [
    "### The tetrad: the kinematical variables\n",
    "\n",
    "Let us choose an orthogonal unitary tetrad:\n",
    "$$\n",
    "e^{(0)}_\\alpha~=V_\\alpha, \\quad \n",
    "e^{(1)}_\\alpha~=K_\\alpha, \\quad \n",
    "e^{(2)}_\\alpha~=L_\\alpha \\quad \\mathrm{and}  \\quad e^{(3)}_\\alpha~=~S_\\alpha.\n",
    "$$\n"
   ]
  },
  {
   "cell_type": "code",
   "execution_count": null,
   "id": "04b04d61",
   "metadata": {
    "scrolled": true
   },
   "outputs": [],
   "source": [
    "Vu = pt.ten('Vu',1)\n",
    "Vu.assign([1/A,0,0,0],'^')\n",
    "Ku = pt.ten('Ku',1)\n",
    "Ku.assign([0,1/B,0,0],'^')\n",
    "Lu = pt.ten('Lu',1)\n",
    "Lu.assign([0,0,1/C,0],'^')\n",
    "Su = pt.ten('Su',1)\n",
    "Su.assign([0,0,0,1/(C*sy.sin(theta))],'^')"
   ]
  },
  {
   "cell_type": "code",
   "execution_count": null,
   "id": "1aff4eac",
   "metadata": {
    "scrolled": true
   },
   "outputs": [],
   "source": [
    "Vd = pt.ten('Vd',1)\n",
    "Vd.assign(Vu(\"^a\")*g(\"_a,_b\"),\"_b\")\n",
    "Vd.display('_')\n",
    "\n",
    "Kd = pt.ten('Kd',1)\n",
    "Kd.assign(Ku(\"^a\")*g(\"_a,_b\"),\"_b\")\n",
    "Kd.simplify()\n",
    "Kd.display('_')\n",
    "\n",
    "Ld = pt.ten('Ld',1)\n",
    "Ld.assign(Lu(\"^a\")*g(\"_a,_b\"),\"_b\")\n",
    "Ld.simplify()\n",
    "Ld.display('_')\n",
    "\n",
    "Sd = pt.ten('Sd',1)\n",
    "Sd.assign(Su(\"^a\")*g(\"_a,_b\"),\"_b\")\n",
    "Sd.simplify()\n",
    "Sd.display('_')"
   ]
  },
  {
   "cell_type": "code",
   "execution_count": null,
   "id": "a38a479e",
   "metadata": {},
   "outputs": [],
   "source": [
    "unoV = pt.simplify((Vu('^l')*Vd('_l')))\n",
    "unoK = pt.simplify(-1*Ku('^l')*Kd('_l'))\n",
    "unoL = pt.simplify(-1*Lu('^l')*Ld('_l'))\n",
    "unoS = pt.simplify(-1*Su('^l')*Sd('_l'))\n",
    "[unoV,unoK,unoL,unoS]"
   ]
  },
  {
   "cell_type": "code",
   "execution_count": null,
   "id": "7725cffc",
   "metadata": {},
   "outputs": [],
   "source": [
    "cero1 = pt.simplify(-1*Vu('^l')*Kd('_l'))\n",
    "cero2 = pt.simplify(-1*Vu('^l')*Ld('_l'))\n",
    "cero3 = pt.simplify(-1*Vu('^l')*Sd('_l'))\n",
    "cero4 = pt.simplify(-1*Ku('^l')*Sd('_l'))\n",
    "cero5 = pt.simplify(-1*Ku('^l')*Ld('_l'))\n",
    "cero6 = pt.simplify(-1*Lu('^l')*Sd('_l'))\n",
    "[cero1,cero2,cero3,cero4,cero5,cero6]"
   ]
  },
  {
   "cell_type": "markdown",
   "id": "741633d8",
   "metadata": {},
   "source": [
    "### Christoffel"
   ]
  },
  {
   "cell_type": "code",
   "execution_count": null,
   "id": "ffd49e0a",
   "metadata": {},
   "outputs": [],
   "source": [
    "Chr= pt.christoffel()"
   ]
  },
  {
   "cell_type": "code",
   "execution_count": null,
   "id": "3019037b",
   "metadata": {},
   "outputs": [],
   "source": [
    "R = pt.riemann(All=True)"
   ]
  },
  {
   "cell_type": "markdown",
   "id": "b5680f3c",
   "metadata": {},
   "source": [
    "The first set equations can be considered purely geometrical and emerges from the projection of the Riemann tensor along the tetrad i.e.\n",
    "$$\n",
    "2 V_{\\alpha ;[\\beta ; \\gamma]}=R_{\\delta \\alpha \\beta \\gamma} V^{\\delta}, \\quad 2 K_{\\alpha ;[\\beta ; \\gamma]}=R_{\\delta \\alpha \\beta \\gamma} K^{\\delta}, \\quad 2 L_{\\alpha ;[\\beta ; \\gamma]}=R_{\\delta \\alpha \\beta \\gamma} L^{\\delta} \\quad \\text { and } \\quad 2 S_{\\alpha ;[\\beta ; \\gamma]}=R_{\\delta \\alpha \\beta \\gamma} S^{\\delta}\n",
    "$$"
   ]
  },
  {
   "cell_type": "code",
   "execution_count": null,
   "id": "9b265fd6",
   "metadata": {},
   "outputs": [],
   "source": [
    "DeVddd = pt.ten(\"DeVddd\",3)\n",
    "DeVddd.assign(R(\"_delta,_alpha,_beta,_gamma\")*Vu(\"^delta\"),\"_alpha,_beta,_gamma\")\n",
    "DeVddd.simplify()\n",
    "#DeVddd.display('_,_,_')\n",
    "IzVddd = pt.ten(\"IzVddd\",3)\n",
    "IzVddd.assign((pt.C(pt.C(Vd(\"_alpha\"),\"_beta\"),\"_gamma\") - pt.C(pt.C(Vd(\"_alpha\"),\"_gamma\"),\"_beta\")),\"_alpha,_beta,_gamma\")\n",
    "IzVddd.simplify()\n",
    "#IzVddd.display('_,_,_')\n",
    "ceros=pt.ten(\"ceros\",3)\n",
    "ceros.assign(IzVddd('_alpha,_beta,_gamma')-DeVddd('_alpha,_beta,_gamma') ,\"_alpha,_beta,_gamma\")\n",
    "ceros.simplify()\n",
    "ceros.display('_,_,_')"
   ]
  },
  {
   "cell_type": "code",
   "execution_count": null,
   "id": "9016748a",
   "metadata": {},
   "outputs": [],
   "source": [
    "DcRdddd1 = pt.ten(\"DcRdddd1\",5)\n",
    "DcRdddd1_dat = pt.C(R(\"_alpha,_beta,_gamma,_delta\"),\"_mu\") \n",
    "DcRdddd1.assign(DcRdddd1_dat,\"_alpha,_beta,_gamma,_delta,_mu\")\n",
    "\n",
    "DcRdddd2 = pt.ten(\"DcRdddd2\",5)\n",
    "DcRdddd2_dat = pt.C(R(\"_alpha,_beta,_mu,_gamma\"),\"_delta\") \n",
    "DcRdddd2.assign(DcRdddd2_dat,\"_alpha,_beta,_mu,_gamma,_delta\")\n",
    "\n",
    "DcRdddd3 = pt.ten(\"DcRdddd3\",5)\n",
    "DcRdddd3_dat = pt.C(R(\"_alpha,_beta,_delta,_mu\"),\"_gamma\") \n",
    "DcRdddd3.assign(DcRdddd3_dat,\"_alpha,_beta,_delta,_mu,_gamma\")\n",
    "\n",
    "Bianchi= pt.ten(\"Bianchi\",5)\n",
    "Bianchi.assign(DcRdddd1('_alpha,_beta,_gamma,_delta,_mu')+DcRdddd2('_alpha,_beta,_mu,_gamma,_delta')+DcRdddd3('_alpha,_beta,_delta,_mu,_gamma'),\"_alpha,_beta,_gamma,_delta,_mu\")\n",
    "\n",
    "Bianchi.factor()\n",
    "Bianchi.display()"
   ]
  },
  {
   "cell_type": "code",
   "execution_count": null,
   "id": "1a16a533",
   "metadata": {},
   "outputs": [],
   "source": [
    "a1= A.diff(r)/(A*B)\n",
    "\n",
    "sigma1= B.diff(t)/(A*B)\n",
    "sigma2= C.diff(t)/(A*C)\n",
    "\n",
    "J1=C.diff(r)/(C*B)\n",
    "J2=sy.cot(theta)/C\n",
    "[a1,sigma1,sigma2,J1,J2]"
   ]
  },
  {
   "cell_type": "markdown",
   "id": "c7d524b1",
   "metadata": {},
   "source": [
    "### COVARIANT DERIVATIVE OF $V_{\\alpha}$\n",
    "$$\n",
    "V_{\\alpha ; \\beta}\n",
    "$$\n"
   ]
  },
  {
   "cell_type": "code",
   "execution_count": null,
   "id": "8be7cbc6",
   "metadata": {},
   "outputs": [],
   "source": [
    "DcVd = pt.ten(\"DcVd\",2)\n",
    "DcVd_dat = pt.C(Vd(\"_a\"),\"_b\") \n",
    "DcVd.assign(DcVd_dat,\"_a,_b\")\n",
    "DcVd.factor()\n",
    "DcVd.display()\n",
    "DcVd.complete('_,_')"
   ]
  },
  {
   "cell_type": "code",
   "execution_count": null,
   "id": "4c081af4",
   "metadata": {},
   "outputs": [],
   "source": [
    "DcVdS = pt.ten('DcVdS',2)\n",
    "DcVdS.assign(-a1*Kd('_alpha')*Vd('_beta')+ sigma1*Kd('_alpha')*Kd('_beta')+ sigma2*(Ld('_alpha')*Ld('_beta')+Sd('_alpha')*Sd('_beta')) ,\"_alpha,_beta\")\n",
    "#DcVdS.display('_,_')"
   ]
  },
  {
   "cell_type": "code",
   "execution_count": null,
   "id": "3a0adc53",
   "metadata": {},
   "outputs": [],
   "source": [
    "ceros1=pt.ten('ceros1',2)\n",
    "ceros1.assign(DcVd('_mu,_nu')-DcVdS('_mu,_nu') ,\"_mu,_nu\")\n",
    "ceros1.simplify()\n",
    "ceros1.display('_,_')"
   ]
  },
  {
   "cell_type": "markdown",
   "id": "e52079ce",
   "metadata": {},
   "source": [
    "$$\n",
    "a_{\\alpha}=V^{\\beta} V_{\\alpha ; \\beta}\\,, \\quad a_{\\alpha;\\beta}\n",
    "$$"
   ]
  },
  {
   "cell_type": "code",
   "execution_count": null,
   "id": "9b71217e",
   "metadata": {},
   "outputs": [],
   "source": [
    "# Aceleracion y su derivada covariante\n",
    "ad= pt.ten(\"ad\",1)\n",
    "ad.assign( DcVd(\"_a,_b\")*Vu(\"^b\") ,\"_a\")\n",
    "ad.simplify()\n",
    "\n",
    "Dcad = pt.ten(\"Dcad\",2)\n",
    "Dcad_dat = pt.C(ad(\"_a\"),\"_b\") \n",
    "Dcad.assign(Dcad_dat,\"_a,_b\")\n",
    "Dcad.simplify()\n",
    "ad.display('_')"
   ]
  },
  {
   "cell_type": "markdown",
   "id": "f9f2471f",
   "metadata": {},
   "source": [
    "$$\n",
    "\\Theta=V_{; \\alpha}^{\\alpha}\n",
    "$$"
   ]
  },
  {
   "cell_type": "code",
   "execution_count": null,
   "id": "8d35dc6d",
   "metadata": {},
   "outputs": [],
   "source": [
    "#Expansión\n",
    "Theta=DcVd('^alpha,_alpha')\n",
    "display(Theta)"
   ]
  },
  {
   "cell_type": "code",
   "execution_count": null,
   "id": "7c367e58",
   "metadata": {},
   "outputs": [],
   "source": [
    "#Shear\n",
    "sh= 1/A*(B.diff(t)/(B)-C.diff(t)/(C)  )\n",
    "display(sh)"
   ]
  },
  {
   "cell_type": "markdown",
   "id": "01a1c946",
   "metadata": {},
   "source": [
    "### COVARIANT DERIVATIVE OF: \n",
    "$$\n",
    "K_{\\alpha ; \\beta}\\,, \\quad L_{\\alpha ; \\beta} \\,, \\quad S{\\alpha ; \\beta}\n",
    "$$"
   ]
  },
  {
   "cell_type": "code",
   "execution_count": null,
   "id": "d2e34806",
   "metadata": {},
   "outputs": [],
   "source": [
    "DcKd = pt.ten(\"DcKd\",2)\n",
    "DcKd_dat = pt.C(Kd(\"_a\"),\"_b\") \n",
    "DcKd.assign(DcKd_dat,\"_a,_b\")\n",
    "DcKd.simplify()\n",
    "DcKdS = pt.ten('DcKdS',2)\n",
    "DcKdS.assign(-a1*Vd('_alpha')*Vd('_beta')+ sigma1*Vd('_alpha')*Kd('_beta')+ J1*(Ld('_alpha')*Ld('_beta')+Sd('_alpha')*Sd('_beta')) ,\"_alpha,_beta\")\n",
    "DcKdS.simplify()\n",
    "#DcKdS.display('_,_')\n",
    "\n",
    "DcLd = pt.ten(\"DcLd\",2)\n",
    "DcLd_dat = pt.C(Ld(\"_a\"),\"_b\") \n",
    "DcLd.assign(DcLd_dat,\"_a,_b\")\n",
    "DcLd.simplify()\n",
    "DcLdS = pt.ten('DcLdS',2)\n",
    "DcLdS.assign(sigma2*Vd('_alpha')*Ld('_beta')- J1*Kd('_alpha')*Ld('_beta')+ J2*Sd('_alpha')*Sd('_beta') ,\"_alpha,_beta\")\n",
    "DcLdS.simplify()\n",
    "#DcLdS.display('_,_')\n",
    "\n",
    "DcSd = pt.ten(\"DcSd\",2)\n",
    "DcSd_dat = pt.C(Sd(\"_a\"),\"_b\") \n",
    "DcSd.assign(DcSd_dat,\"_a,_b\")\n",
    "DcSd.factor()\n",
    "DcSdS = pt.ten('DcSdS',2)\n",
    "DcSdS.assign(sigma2*Vd('_alpha')*Sd('_beta')- J1*Kd('_alpha')*Sd('_beta')- J2*Ld('_alpha')*Sd('_beta') ,\"_alpha,_beta\")\n",
    "DcSdS.simplify()\n",
    "#DcSdS.display('_,_')\n"
   ]
  },
  {
   "cell_type": "code",
   "execution_count": null,
   "id": "a4455c00",
   "metadata": {},
   "outputs": [],
   "source": [
    "ceros2=pt.ten('ceros2',2)\n",
    "ceros2.assign(DcKd('_mu,_nu')-DcKdS('_mu,_nu') ,\"_mu,_nu\")\n",
    "ceros2.simplify()\n",
    "ceros2.display('_,_')"
   ]
  },
  {
   "cell_type": "code",
   "execution_count": null,
   "id": "9ba3d65c",
   "metadata": {},
   "outputs": [],
   "source": [
    "ceros3=pt.ten('ceros3',2)\n",
    "ceros3.assign(DcLd('_mu,_nu')-DcLdS('_mu,_nu') ,\"_mu,_nu\")\n",
    "ceros3.simplify()\n",
    "ceros3.display('_,_')"
   ]
  },
  {
   "cell_type": "code",
   "execution_count": null,
   "id": "30946736",
   "metadata": {},
   "outputs": [],
   "source": [
    "ceros4=pt.ten('ceros4',2)\n",
    "ceros4.assign(DcSd('_mu,_nu')-DcSdS('_mu,_nu') ,\"_mu,_nu\")\n",
    "ceros4.simplify()\n",
    "ceros4.display('_,_')"
   ]
  },
  {
   "cell_type": "markdown",
   "id": "5676bc13",
   "metadata": {},
   "source": [
    "### The directional derivatives operators\n",
    "$$\n",
    "f^{\\bullet}=V^{\\alpha} \\partial_{\\alpha} f \\quad f^{\\dagger}=K^{\\alpha} \\partial_{\\alpha} f \\quad \\text { and } \\quad f^{*}=L^{\\alpha} \\partial_{\\alpha} f\n",
    "$$"
   ]
  },
  {
   "cell_type": "code",
   "execution_count": null,
   "id": "e0beed4c",
   "metadata": {},
   "outputs": [],
   "source": [
    "# Derivadas de a1\n",
    "Da1c= pt.ten('Da1c',1)\n",
    "Da1c.assign(pt.D(a1,\"_a\"), \"_a\")\n",
    "Da1c.simplify()\n",
    "Da1cir= Vu('^a')*Da1c('_a') \n",
    "Da1cir.simplify()\n",
    "\n",
    "Da1= pt.ten('Da1',1)\n",
    "Da1.assign(pt.D(a1,\"_a\"), \"_a\")\n",
    "Da1.simplify()\n",
    "Da1dag= Ku('^a')*Da1('_a') \n",
    "Da1dag.simplify()\n",
    "\n",
    "Da1es= pt.ten('Da1est',1)\n",
    "Da1es.assign(pt.D(a1,\"_a\"), \"_a\")\n",
    "Da1es.simplify()\n",
    "Da1est= Lu('^a')*Da1es('_a') \n",
    "Da1est.simplify()\n",
    "\n",
    "[Da1cir, Da1dag, Da1est]"
   ]
  },
  {
   "cell_type": "markdown",
   "id": "37cce94f",
   "metadata": {},
   "source": [
    "$$\n",
    "h_{\\mu\\nu}=g_{\\mu\\nu} +V_\\mu V_\\nu = K_\\mu K_\\nu+L_\\mu L_\\nu+S_\\mu S_\\nu\n",
    "$$"
   ]
  },
  {
   "cell_type": "code",
   "execution_count": null,
   "id": "01582684",
   "metadata": {},
   "outputs": [],
   "source": [
    "hdd=pt.ten('hdd',2)\n",
    "hdd.assign(g(\"_mu,_nu\")+Vd('_mu')*Vd('_nu') ,\"_mu,_nu\")\n",
    "hdd.simplify()\n",
    "hdd.display('_,_')\n",
    "hdd.complete('_,_')\n",
    "hdd.simplify()"
   ]
  },
  {
   "cell_type": "markdown",
   "id": "9b1e9732",
   "metadata": {},
   "source": [
    "## The energy momentum tensor\n",
    "$$\n",
    "{T}_{\\alpha\\beta}= (\\rho+P) V_\\alpha V_\\beta+P g _{\\alpha \\beta} +\\Pi_{\\alpha \\beta}+\\mathcal{F}_\\alpha V_\\beta+\\mathcal{F}_\\beta V_\\alpha .\n",
    "$$"
   ]
  },
  {
   "cell_type": "markdown",
   "id": "690acfa1",
   "metadata": {},
   "source": [
    "$$\n",
    "\\mathcal{F}_{\\mu}=\\mathcal{F} K_{\\mu}\n",
    "$$"
   ]
  },
  {
   "cell_type": "code",
   "execution_count": null,
   "id": "b7825425",
   "metadata": {},
   "outputs": [],
   "source": [
    "Fd=pt.ten('Fd',1)\n",
    "Fd.assign(F*Kd('_mu') ,\"_mu\")\n",
    "Fd.simplify()\n",
    "Fd.display('_')\n",
    "Fd.complete('_')"
   ]
  },
  {
   "cell_type": "markdown",
   "id": "70a184c3",
   "metadata": {},
   "source": [
    "$$\n",
    "\\mathcal{F}^{\\mu} V_{\\mu}=0\n",
    "$$"
   ]
  },
  {
   "cell_type": "code",
   "execution_count": null,
   "id": "48f2a04e",
   "metadata": {},
   "outputs": [],
   "source": [
    "Fd(\"^mu\")*Vd(\"_mu\")"
   ]
  },
  {
   "cell_type": "code",
   "execution_count": null,
   "id": "3af7d2aa",
   "metadata": {},
   "outputs": [],
   "source": [
    "PI=pt.ten('PI',2)\n",
    "PI.assign((Pt-P)*(Kd(\"_alpha\")*Kd(\"_beta\")-hdd(\"_alpha,_beta\")/3) ,\"_alpha,_beta\")\n",
    "PI.simplify()\n",
    "PI.display('_,_')"
   ]
  },
  {
   "cell_type": "code",
   "execution_count": null,
   "id": "f4ae0485",
   "metadata": {},
   "outputs": [],
   "source": [
    "T = pt.ten('T',2)\n",
    "T.assign((rho+Pt)*Vd(\"_mu\")*Vd(\"_nu\") + Pt*g(\"_mu,_nu\") + PI(\"_mu,_nu\")  ,\"_mu,_nu\")\n",
    "T.simplify()\n",
    "T.display('_,_')"
   ]
  },
  {
   "cell_type": "code",
   "execution_count": null,
   "id": "179e16d1",
   "metadata": {},
   "outputs": [],
   "source": [
    "T.complete('_,_')\n",
    "T.simplify()"
   ]
  },
  {
   "cell_type": "code",
   "execution_count": null,
   "id": "c31643e8",
   "metadata": {},
   "outputs": [],
   "source": [
    "TOV = pt.ten('TOV',1)\n",
    "val = pt.C(T(\"^a,^b\"),\"_b\")\n",
    "TOV.assign(val,\"^a\")\n",
    "TOV.factor()\n",
    "TOV.complete('^')\n",
    "TOV.display(aslist=True)"
   ]
  },
  {
   "cell_type": "code",
   "execution_count": null,
   "id": "62d4adf4",
   "metadata": {},
   "outputs": [],
   "source": [
    "TOV1=TOV(\"_0\")\n",
    "TOV1.factor()"
   ]
  },
  {
   "cell_type": "code",
   "execution_count": null,
   "id": "12e345c4",
   "metadata": {},
   "outputs": [],
   "source": [
    "TOV2=TOV(\"_1\")\n",
    "TOV2.factor()"
   ]
  },
  {
   "cell_type": "code",
   "execution_count": null,
   "id": "f57e592e",
   "metadata": {},
   "outputs": [],
   "source": [
    "T(\"_mu,_nu\")*Vu('^mu')*Vu('^nu')"
   ]
  },
  {
   "cell_type": "code",
   "execution_count": null,
   "id": "9e80f8e9",
   "metadata": {},
   "outputs": [],
   "source": [
    "Fdp=pt.ten('Fdp',1)\n",
    "Fdp.assign(-rho*Vd('_mu') -T(\"_mu,_nu\")*Vu('^nu') ,\"_mu\")\n",
    "Fdp.simplify()\n",
    "Fdp.display('_')"
   ]
  },
  {
   "cell_type": "code",
   "execution_count": null,
   "id": "32201992",
   "metadata": {},
   "outputs": [],
   "source": [
    "hdd(\"^mu,^nu\")*T(\"_mu,_nu\")/3"
   ]
  },
  {
   "cell_type": "code",
   "execution_count": null,
   "id": "b31f4298",
   "metadata": {},
   "outputs": [],
   "source": [
    "(2*Ku('^alpha')*Ku('^beta') + Lu('^alpha')*Lu('^beta') )*T(\"_alpha,_beta\")"
   ]
  },
  {
   "cell_type": "code",
   "execution_count": null,
   "id": "8752f5b3",
   "metadata": {},
   "outputs": [],
   "source": [
    "Ric = pt.ricci()\n",
    "Ric.complete('_,_')"
   ]
  },
  {
   "cell_type": "markdown",
   "id": "8b4abef8",
   "metadata": {},
   "source": [
    "## The splitting of the Riemann tensor and structure scalars\n",
    "\n",
    "A set of scalar functions --the structure scalars--  obtained from the orthogonal splitting of the Riemann tensor\n",
    "\n",
    "\n",
    "We can express the splitting of the Riemann tensor as:\n",
    "$$\n",
    "R_{\\alpha \\beta \\mu \\nu}=2V_\\mu V_{[\\alpha}Y_{\\beta] \\, \\nu}+2h_{\\alpha[\\nu}X_{\\mu] \\,  \\beta}+2V_\\nu V_{[\\beta}Y_{\\alpha] \\, \\mu}\n",
    "+ h_{\\beta\\nu}(X_0 \\, h_{\\alpha\\mu}-X_{\\alpha\\mu})+h_{\\beta\\mu}(X_{\\alpha\\nu} -X_0 \\, h_{\\alpha\\nu})\n",
    "$$\n",
    "\n",
    "$$\n",
    " + 2V_{[\\nu} Z_{ \\, \\mu]}^{\\gamma}\\varepsilon_{{\\alpha \\beta \\gamma}} +2V_{[\\beta} Z_{{\\,  \\ \\alpha]}}^{{\\gamma }}\\ \\varepsilon_{{\\mu \\nu \\gamma}} \\,,\n",
    "$$\n",
    "\n",
    "with $\\varepsilon_{\\mu \\nu \\gamma} = \\eta_{\\phi \\mu \\nu \\gamma} V^{\\phi}$, and  $ \\eta_{\\phi \\mu \\nu \\gamma}$ the Levi-Civita 4-tensor. \n"
   ]
  },
  {
   "cell_type": "code",
   "execution_count": null,
   "id": "572ced36",
   "metadata": {},
   "outputs": [],
   "source": [
    "Y0=4*sy.pi*(rho+3*P)\n",
    "Y1=E-4*sy.pi*Delta\n",
    "X0=8*sy.pi*rho\n",
    "X1=-(E+4*sy.pi*Delta)\n",
    "Z=4*sy.pi*F"
   ]
  },
  {
   "cell_type": "code",
   "execution_count": null,
   "id": "8ec2e5e6",
   "metadata": {},
   "outputs": [],
   "source": [
    "PI2=pt.ten('PI2',2)\n",
    "PI2.assign(-1/(8*sy.pi)*(X1+Y1)*(Kd(\"_alpha\")*Kd(\"_beta\")-hdd(\"_alpha,_beta\")/3) ,\"_alpha,_beta\")\n",
    "PI2.simplify()\n",
    "PI2.display('_,_')"
   ]
  },
  {
   "cell_type": "code",
   "execution_count": null,
   "id": "2208149d",
   "metadata": {},
   "outputs": [],
   "source": [
    "PImc=pt.ten('PImc',1)\n",
    "PImc.assign(-Cmc*(rho+P)*ad(\"_mu\") ,\"_mu\")\n",
    "PImc.simplify()\n",
    "PImc.display('_')\n",
    "#PImc.complete('_')"
   ]
  }
 ],
 "metadata": {
  "kernelspec": {
   "display_name": "Python 3.9.12 ('base')",
   "language": "python",
   "name": "python3"
  },
  "language_info": {
   "codemirror_mode": {
    "name": "ipython",
    "version": 3
   },
   "file_extension": ".py",
   "mimetype": "text/x-python",
   "name": "python",
   "nbconvert_exporter": "python",
   "pygments_lexer": "ipython3",
   "version": "3.8.13"
  },
  "vscode": {
   "interpreter": {
    "hash": "8d1181128e1f0e3c7e069abdee9a2274e13259c88bd323b8ad99884c634d782b"
   }
  }
 },
 "nbformat": 4,
 "nbformat_minor": 5
}
