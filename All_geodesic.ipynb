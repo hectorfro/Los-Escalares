{
 "cells": [
  {
   "cell_type": "code",
   "execution_count": 1,
   "id": "055aea90",
   "metadata": {},
   "outputs": [],
   "source": [
    "import pytearcat as pt\n",
    "import sympy as sy\n",
    "from sympy import * "
   ]
  },
  {
   "cell_type": "markdown",
   "id": "79285a3a",
   "metadata": {},
   "source": [
    "# All geodesic motion\n",
    "<hr>\n"
   ]
  },
  {
   "cell_type": "code",
   "execution_count": 2,
   "id": "4bf547c2",
   "metadata": {
    "scrolled": true
   },
   "outputs": [
    {
     "name": "stdout",
     "output_type": "stream",
     "text": [
      "Remember that the time coordinate must be the first coordinate.\n"
     ]
    }
   ],
   "source": [
    "t,r,theta,phi = pt.coords('t,r,theta,phi')\n",
    "\n",
    "A = pt.fun('A','r,theta')\n",
    "B = pt.fun('B','r,theta')\n",
    "C = pt.fun('C','r,theta')\n",
    "D = pt.fun('D','r,theta')\n",
    "F = pt.fun('F','r,theta')\n",
    "E = pt.fun('E','r,theta')\n",
    "omega = pt.fun('omega','r,theta')\n",
    "\n",
    "#Delta = A**2*B**2*C**2*D**2 + B**2*C**2*omega3**2\n",
    "#Delta1 = A**2*C**2*D**2 + C**2*omega3**2\n",
    "#Delta2 = A**2*D**2 + omega**2"
   ]
  },
  {
   "cell_type": "code",
   "execution_count": 3,
   "id": "45b20ced",
   "metadata": {},
   "outputs": [
    {
     "name": "stdout",
     "output_type": "stream",
     "text": [
      "\n",
      "Dimension = 4\n",
      "Coordinates = t,r,theta,phi\n",
      "Metric defined successfully: \n",
      "\n"
     ]
    },
    {
     "data": {
      "text/latex": [
       "$\\displaystyle ds^2 = - A^{2}{\\left(r,\\theta \\right)} \\cdot dt^2+2 \\omega{\\left(r,\\theta \\right)} \\cdot dt \\cdot d\\phi+B^{2}{\\left(r,\\theta \\right)} \\cdot dr^2+C^{2}{\\left(r,\\theta \\right)} \\cdot d\\theta^2+D^{2}{\\left(r,\\theta \\right)} \\cdot d\\phi^2$"
      ],
      "text/plain": [
       "<IPython.core.display.Math object>"
      ]
     },
     "metadata": {},
     "output_type": "display_data"
    },
    {
     "data": {
      "text/latex": [
       "$\\displaystyle \\left[\\begin{matrix}- A^{2}{\\left(r,\\theta \\right)} & 0 & 0 & \\omega{\\left(r,\\theta \\right)}\\\\0 & B^{2}{\\left(r,\\theta \\right)} & 0 & 0\\\\0 & 0 & C^{2}{\\left(r,\\theta \\right)} & 0\\\\\\omega{\\left(r,\\theta \\right)} & 0 & 0 & D^{2}{\\left(r,\\theta \\right)}\\end{matrix}\\right]$"
      ],
      "text/plain": [
       "Matrix([\n",
       "[-A(r, theta)**2,              0,              0, omega(r, theta)],\n",
       "[              0, B(r, theta)**2,              0,               0],\n",
       "[              0,              0, C(r, theta)**2,               0],\n",
       "[omega(r, theta),              0,              0,  D(r, theta)**2]])"
      ]
     },
     "metadata": {},
     "output_type": "display_data"
    }
   ],
   "source": [
    "ds = 'ds2 = -A**2*dt**2 + B**2*dr**2 + C**2*dtheta**2 + D**2*dphi**2 + 2*omega*dt*dphi'\n",
    "\n",
    "g = pt.metric(ds)"
   ]
  },
  {
   "cell_type": "markdown",
   "id": "a1deed06",
   "metadata": {},
   "source": [
    "# A. The tetrad, the source and the kinematical variables\n",
    "\n",
    "Let us choose an orthogonal unitary tetrad:\n",
    "\\begin{equation}\n",
    "\\label{TetradGen}\n",
    "e^{(0)}_\\alpha~=~V_\\alpha, \\quad \n",
    "e^{(1)}_\\alpha~=~K_\\alpha, \\quad \n",
    "e^{(2)}_\\alpha~=~L_\\alpha \\quad \\mathrm{and}  \\quad e^{(3)}_\\alpha~=~S_\\alpha.\n",
    "\\end{equation}\n",
    "\n",
    "As usual, $\\eta_{(a)(b)}= g_{\\alpha\\beta} e_{(a)}^\\alpha e_{(b)}^\\beta$, with $a=0,\\,1,\\,2,\\,3$, i.e. latin indices label different vectors of the tetrad. "
   ]
  },
  {
   "cell_type": "code",
   "execution_count": 4,
   "id": "04b04d61",
   "metadata": {
    "scrolled": true
   },
   "outputs": [
    {
     "name": "stdout",
     "output_type": "stream",
     "text": [
      "Elements assigned correctly to the components ^\n",
      "Elements assigned correctly to the components ^\n",
      "Elements assigned correctly to the components ^\n",
      "Elements assigned correctly to the components ^\n"
     ]
    }
   ],
   "source": [
    "Vu = pt.ten('Vu',1)\n",
    "Vu.assign([1/A,0,0,0],'^')\n",
    "#Vu.display('^')\n",
    "\n",
    "Ku = pt.ten('Ku',1)\n",
    "Ku.assign([0,1/B,0,0],'^')\n",
    "#Ku.display('^')\n",
    "\n",
    "Lu = pt.ten('Lu',1)\n",
    "Lu.assign([0,0,1/C,0],'^')\n",
    "#Lu.display('^')\n",
    "\n",
    "Su = pt.ten('Su',1)\n",
    "Su.assign([omega/(A*sqrt(A**2*D**2 + omega**2)),0,0,A/sqrt(A**2*D**2 + omega**2)],'^')\n",
    "#Su.display('^')"
   ]
  },
  {
   "cell_type": "code",
   "execution_count": 5,
   "id": "1aff4eac",
   "metadata": {
    "scrolled": true
   },
   "outputs": [
    {
     "data": {
      "image/png": "[encoded data removed]",
      "text/latex": [
       "$\\displaystyle \\left[\\begin{matrix}- A{\\left(r,\\theta \\right)} & 0 & 0 & \\frac{\\omega{\\left(r,\\theta \\right)}}{A{\\left(r,\\theta \\right)}}\\end{matrix}\\right]$"
      ],
      "text/plain": [
       "⎡                ω(r, θ)⎤\n",
       "⎢-A(r, θ)  0  0  ───────⎥\n",
       "⎣                A(r, θ)⎦"
      ]
     },
     "metadata": {},
     "output_type": "display_data"
    },
    {
     "data": {
      "image/png": "[encoded data removed]",
      "text/latex": [
       "$\\displaystyle \\left[\\begin{matrix}0 & B{\\left(r,\\theta \\right)} & 0 & 0\\end{matrix}\\right]$"
      ],
      "text/plain": [
       "[0  B(r, θ)  0  0]"
      ]
     },
     "metadata": {},
     "output_type": "display_data"
    },
    {
     "data": {
      "image/png": "[encoded data removed]",
      "text/latex": [
       "$\\displaystyle \\left[\\begin{matrix}0 & 0 & C{\\left(r,\\theta \\right)} & 0\\end{matrix}\\right]$"
      ],
      "text/plain": [
       "[0  0  C(r, θ)  0]"
      ]
     },
     "metadata": {},
     "output_type": "display_data"
    },
    {
     "data": {
      "image/png": "[encoded data removed]",
      "text/latex": [
       "$\\displaystyle \\left[\\begin{matrix}0 & 0 & 0 & \\frac{\\sqrt{A^{2}{\\left(r,\\theta \\right)} D^{2}{\\left(r,\\theta \\right)} + \\omega^{2}{\\left(r,\\theta \\right)}}}{A{\\left(r,\\theta \\right)}}\\end{matrix}\\right]$"
      ],
      "text/plain": [
       "⎡            ______________________________⎤\n",
       "⎢           ╱  2        2          2       ⎥\n",
       "⎢         ╲╱  A (r, θ)⋅D (r, θ) + ω (r, θ) ⎥\n",
       "⎢0  0  0  ─────────────────────────────────⎥\n",
       "⎣                      A(r, θ)             ⎦"
      ]
     },
     "metadata": {},
     "output_type": "display_data"
    }
   ],
   "source": [
    "Vd = pt.ten('Vd',1)\n",
    "Vd.assign(Vu(\"^mu\")*g(\"_mu,_nu\"),\"_nu\")\n",
    "Vd.display('_')\n",
    "\n",
    "Kd = pt.ten('Kd',1)\n",
    "Kd.assign(Ku(\"^mu\")*g(\"_mu,_nu\"),\"_nu\")\n",
    "Kd.simplify()\n",
    "Kd.display('_')\n",
    "\n",
    "Ld = pt.ten('Ld',1)\n",
    "Ld.assign(Lu(\"^mu\")*g(\"_mu,_nu\"),\"_nu\")\n",
    "Ld.simplify()\n",
    "Ld.display('_')\n",
    "\n",
    "Sd = pt.ten('Sd',1)\n",
    "Sd.assign(Su(\"^mu\")*g(\"_mu,_nu\"),\"_nu\")\n",
    "Sd.simplify()\n",
    "Sd.display('_')"
   ]
  },
  {
   "cell_type": "markdown",
   "id": "70901474",
   "metadata": {},
   "source": [
    "The tetrad satisfies the standard relations:\n",
    "\\begin{eqnarray}\n",
    "V_{\\alpha}V^{\\alpha} &=& -K_{\\alpha}K^{\\alpha} = -L_{\\alpha}L^{\\alpha} = -S_{\\alpha}S^{\\alpha} = -1\\,, \\nonumber \\\\\n",
    "V_{\\alpha}K^{\\alpha} &=& V_{\\alpha}L^{\\alpha} = V_{\\alpha}S^{\\alpha} = K_{\\alpha}L^{\\alpha} = K_{\\alpha}S^{\\alpha} = S_{\\alpha}L^{\\alpha} = 0\\,.  \\nonumber\n",
    "\\end{eqnarray} "
   ]
  },
  {
   "cell_type": "code",
   "execution_count": 6,
   "id": "5f7ea667",
   "metadata": {},
   "outputs": [
    {
     "data": {
      "image/png": "[encoded data removed]",
      "text/latex": [
       "$\\displaystyle \\left[ -1, \\  -1, \\  -1, \\  -1\\right]$"
      ],
      "text/plain": [
       "[-1, -1, -1, -1]"
      ]
     },
     "execution_count": 6,
     "metadata": {},
     "output_type": "execute_result"
    }
   ],
   "source": [
    "unoV = pt.simplify((Vu('^l')*Vd('_l')))\n",
    "unoK = pt.simplify(-1*Ku('^l')*Kd('_l'))\n",
    "unoL = pt.simplify(-1*Lu('^l')*Ld('_l'))\n",
    "unoS = pt.simplify(-1*Su('^l')*Sd('_l'))\n",
    "[unoV,unoK,unoL,unoS]"
   ]
  },
  {
   "cell_type": "code",
   "execution_count": 7,
   "id": "b866ac81",
   "metadata": {},
   "outputs": [
    {
     "data": {
      "image/png": "[encoded data removed]",
      "text/latex": [
       "$\\displaystyle \\left[ 0, \\  0, \\  0, \\  0, \\  0, \\  0\\right]$"
      ],
      "text/plain": [
       "[0, 0, 0, 0, 0, 0]"
      ]
     },
     "execution_count": 7,
     "metadata": {},
     "output_type": "execute_result"
    }
   ],
   "source": [
    "cero1 = pt.simplify(-1*Vu('^l')*Kd('_l'))\n",
    "cero2 = pt.simplify(-1*Vu('^l')*Ld('_l'))\n",
    "cero3 = pt.simplify(-1*Vu('^l')*Sd('_l'))\n",
    "cero4 = pt.simplify(-1*Ku('^l')*Sd('_l'))\n",
    "cero5 = pt.simplify(-1*Ku('^l')*Ld('_l'))\n",
    "cero6 = pt.simplify(-1*Lu('^l')*Sd('_l'))\n",
    "[cero1,cero2,cero3,cero4,cero5,cero6]"
   ]
  },
  {
   "cell_type": "markdown",
   "id": "741633d8",
   "metadata": {},
   "source": [
    "## Christoffel"
   ]
  },
  {
   "cell_type": "code",
   "execution_count": 8,
   "id": "ffd49e0a",
   "metadata": {},
   "outputs": [
    {
     "data": {
      "text/latex": [
       "Christoffel $\\Gamma_{\\alpha \\beta \\gamma}$ and $\\Gamma^{\\alpha}_{\\beta \\gamma}$"
      ],
      "text/plain": [
       "<IPython.core.display.Latex object>"
      ]
     },
     "metadata": {},
     "output_type": "display_data"
    },
    {
     "data": {
      "application/vnd.jupyter.widget-view+json": {
       "model_id": "9ac8ee81bf994523b3b0a195d9c2cbb2",
       "version_major": 2,
       "version_minor": 0
      },
      "text/plain": [
       "  0%|          | 0/64 [00:00<?, ?it/s]"
      ]
     },
     "metadata": {},
     "output_type": "display_data"
    }
   ],
   "source": [
    "#R = pt.riemann(All=True)\n",
    "#R = pt.riemann()\n",
    "Chr= pt.christoffel()"
   ]
  },
  {
   "cell_type": "markdown",
   "id": "c7d524b1",
   "metadata": {},
   "source": [
    "## COVARIANT DERIVATIVE OF $V_{\\alpha}$\n",
    "\n",
    "$$\n",
    "V_{\\alpha ; \\beta}\n",
    "$$\n"
   ]
  },
  {
   "cell_type": "code",
   "execution_count": 9,
   "id": "8be7cbc6",
   "metadata": {},
   "outputs": [
    {
     "data": {
      "application/vnd.jupyter.widget-view+json": {
       "model_id": "a3c259c773df4e5b956f25486d939a45",
       "version_major": 2,
       "version_minor": 0
      },
      "text/plain": [
       "DcVd Tensor $DcVd{^\\alpha}{_\\beta}$:   0%|          | 0/16 [00:00<?, ?it/s]"
      ]
     },
     "metadata": {},
     "output_type": "display_data"
    },
    {
     "data": {
      "application/vnd.jupyter.widget-view+json": {
       "model_id": "d5874e6fb5f143619aa2706293b4e80c",
       "version_major": 2,
       "version_minor": 0
      },
      "text/plain": [
       "DcVd Tensor $DcVd{^\\alpha}{^\\beta}$:   0%|          | 0/16 [00:00<?, ?it/s]"
      ]
     },
     "metadata": {},
     "output_type": "display_data"
    },
    {
     "data": {
      "application/vnd.jupyter.widget-view+json": {
       "model_id": "2a18e1dcb24e4bdbb7ae9e8969b758ce",
       "version_major": 2,
       "version_minor": 0
      },
      "text/plain": [
       "DcVd Tensor $DcVd{_\\alpha}{^\\beta}$:   0%|          | 0/16 [00:00<?, ?it/s]"
      ]
     },
     "metadata": {},
     "output_type": "display_data"
    },
    {
     "data": {
      "text/latex": [
       "All other indices of DcVd Tensor $DcVd$  already calculated."
      ],
      "text/plain": [
       "<IPython.core.display.Latex object>"
      ]
     },
     "metadata": {},
     "output_type": "display_data"
    }
   ],
   "source": [
    "DcVd = pt.ten(\"DcVd\",2)\n",
    "DcVd_dat = pt.C(Vd(\"_alpha\"),\"_beta\") \n",
    "DcVd.assign(DcVd_dat,\"_alpha,_beta\")\n",
    "DcVd.factor()\n",
    "#DcVd.display()\n",
    "DcVd.complete('_,_')"
   ]
  },
  {
   "cell_type": "code",
   "execution_count": 10,
   "id": "9b71217e",
   "metadata": {},
   "outputs": [],
   "source": [
    "# Aceleracion y su derivada covariante\n",
    "ad= pt.ten(\"ad\",1)\n",
    "ad.assign( DcVd(\"_alpha,_beta\")*Vu(\"^beta\") ,\"_alpha\")\n",
    "ad.simplify()\n",
    "#ad.display('_')\n",
    "\n",
    "Dcad = pt.ten(\"Dcad\",2)\n",
    "Dcad_dat = pt.C(ad(\"_alpha\"),\"_beta\") \n",
    "Dcad.assign(Dcad_dat,\"_alpha,_beta\")\n",
    "Dcad.simplify()\n",
    "#Dcad.display()"
   ]
  },
  {
   "cell_type": "markdown",
   "id": "01a1c946",
   "metadata": {},
   "source": [
    "$$\n",
    "K_{\\alpha ; \\beta}\n",
    "$$"
   ]
  },
  {
   "cell_type": "code",
   "execution_count": 11,
   "id": "d2e34806",
   "metadata": {},
   "outputs": [],
   "source": [
    "DcKd = pt.ten(\"DcKd\",2)\n",
    "DcKd_dat = pt.C(Kd(\"_alpha\"),\"_beta\") \n",
    "DcKd.assign(DcKd_dat,\"_alpha,_beta\")\n",
    "DcKd.simplify()\n",
    "#DcKd.display()\n",
    "#DcKd.complete('_,_')"
   ]
  },
  {
   "cell_type": "markdown",
   "id": "e594ab21",
   "metadata": {},
   "source": [
    "$$\n",
    "L_{\\alpha ; \\beta}\n",
    "$$"
   ]
  },
  {
   "cell_type": "code",
   "execution_count": 12,
   "id": "d81bec63",
   "metadata": {
    "scrolled": true
   },
   "outputs": [],
   "source": [
    "DcLd = pt.ten(\"DcLd\",2)\n",
    "DcLd_dat = pt.C(Ld(\"_alpha\"),\"_beta\") \n",
    "DcLd.assign(DcLd_dat,\"_alpha,_beta\")\n",
    "DcLd.simplify()\n",
    "#DcLd.display()\n",
    "#DcLd.complete('_,_')"
   ]
  },
  {
   "cell_type": "markdown",
   "id": "8aa5b5c6",
   "metadata": {},
   "source": [
    "$$\n",
    "S_{\\alpha ; \\beta}\n",
    "$$"
   ]
  },
  {
   "cell_type": "code",
   "execution_count": 13,
   "id": "40e11319",
   "metadata": {},
   "outputs": [],
   "source": [
    "DcSd = pt.ten(\"DcSd\",2)\n",
    "DcSd_dat = pt.C(Sd(\"_alpha\"),\"_beta\") \n",
    "DcSd.assign(DcSd_dat,\"_alpha,_beta\")\n",
    "DcSd.factor()\n",
    "#DcSd.display()\n",
    "#DcSd.complete('_,_')"
   ]
  },
  {
   "cell_type": "markdown",
   "id": "2941dbfc",
   "metadata": {},
   "source": [
    "## Escalares Cinemáticos\n"
   ]
  },
  {
   "cell_type": "markdown",
   "id": "22efd71e",
   "metadata": {},
   "source": [
    "$$\n",
    "a_1= a_\\mu K^\\mu \\,,\\quad  a_2= a_\\mu L^\\mu \\,, \\quad  a_3= a_\\mu S^\\mu \n",
    "$$"
   ]
  },
  {
   "cell_type": "code",
   "execution_count": 14,
   "id": "524466e0",
   "metadata": {},
   "outputs": [
    {
     "data": {
      "application/vnd.jupyter.widget-view+json": {
       "model_id": "6f503bfa70e44853bfba822b754484d9",
       "version_major": 2,
       "version_minor": 0
      },
      "text/plain": [
       "Dca1 Tensor $Dca1{^\\alpha}$:   0%|          | 0/4 [00:00<?, ?it/s]"
      ]
     },
     "metadata": {},
     "output_type": "display_data"
    },
    {
     "data": {
      "text/latex": [
       "All other indices of Dca1 Tensor $Dca1$  already calculated."
      ],
      "text/plain": [
       "<IPython.core.display.Latex object>"
      ]
     },
     "metadata": {},
     "output_type": "display_data"
    },
    {
     "data": {
      "application/vnd.jupyter.widget-view+json": {
       "model_id": "91893cb980b040a38b6f1be88e40f9ad",
       "version_major": 2,
       "version_minor": 0
      },
      "text/plain": [
       "Dca2 Tensor $Dca2{^\\alpha}$:   0%|          | 0/4 [00:00<?, ?it/s]"
      ]
     },
     "metadata": {},
     "output_type": "display_data"
    },
    {
     "data": {
      "text/latex": [
       "All other indices of Dca2 Tensor $Dca2$  already calculated."
      ],
      "text/plain": [
       "<IPython.core.display.Latex object>"
      ]
     },
     "metadata": {},
     "output_type": "display_data"
    }
   ],
   "source": [
    "a1=pt.simplify(ad(\"_mu\")*Ku(\"^mu\"))\n",
    "a2=pt.simplify(ad(\"_mu\")*Lu(\"^mu\"))\n",
    "a3=pt.simplify(ad(\"_mu\")*Su(\"^mu\"))\n",
    "#display([a1,a2,a3])\n",
    "\n",
    "Dca1 = pt.ten(\"Dca1\",1)\n",
    "Dca1_dat = pt.C(a1,\"_alpha\") \n",
    "Dca1.assign(Dca1_dat,\"_alpha\")\n",
    "Dca1.factor()\n",
    "#Dca1.display()\n",
    "Dca1.complete('_,_')\n",
    "\n",
    "Dca2 = pt.ten(\"Dca2\",1)\n",
    "Dca2_dat = pt.C(a2,\"_alpha\") \n",
    "Dca2.assign(Dca2_dat,\"_alpha\")\n",
    "Dca2.factor()\n",
    "#Dca2.display()\n",
    "Dca2.complete('_,_')"
   ]
  },
  {
   "cell_type": "markdown",
   "id": "c4f15e66",
   "metadata": {},
   "source": [
    "$$ \n",
    "j_1=K_{\\mu;\\nu} K^\\mu L^\\nu \\,, \\quad j_2=K_{\\mu;\\nu} L^\\mu L^\\nu \\,,\\quad j_3 =K_{\\mu;\\nu} L^\\mu S^\\nu \\,,\\quad  j_4=K_{\\mu;\\nu} S^\\mu K^\\nu \\,, \\quad j_5=K_{\\mu;\\nu} S^\\mu L^\\nu \\,,\\quad j_6 =K_{\\mu;\\nu} S^\\mu S^\\nu \\,,\n",
    "$$"
   ]
  },
  {
   "cell_type": "code",
   "execution_count": 15,
   "id": "a0f64cba",
   "metadata": {
    "scrolled": true
   },
   "outputs": [
    {
     "data": {
      "image/png": "[encoded data removed]",
      "text/latex": [
       "$\\displaystyle \\left[ - \\frac{\\frac{\\partial}{\\partial \\theta} B{\\left(r,\\theta \\right)}}{B{\\left(r,\\theta \\right)} C{\\left(r,\\theta \\right)}}, \\  \\frac{\\frac{\\partial}{\\partial r} C{\\left(r,\\theta \\right)}}{B{\\left(r,\\theta \\right)} C{\\left(r,\\theta \\right)}}, \\  0, \\  0, \\  0, \\  \\frac{A^{3}{\\left(r,\\theta \\right)} D{\\left(r,\\theta \\right)} \\frac{\\partial}{\\partial r} D{\\left(r,\\theta \\right)} + A{\\left(r,\\theta \\right)} \\omega{\\left(r,\\theta \\right)} \\frac{\\partial}{\\partial r} \\omega{\\left(r,\\theta \\right)} - \\omega^{2}{\\left(r,\\theta \\right)} \\frac{\\partial}{\\partial r} A{\\left(r,\\theta \\right)}}{\\left(A^{2}{\\left(r,\\theta \\right)} D^{2}{\\left(r,\\theta \\right)} + \\omega^{2}{\\left(r,\\theta \\right)}\\right) A{\\left(r,\\theta \\right)} B{\\left(r,\\theta \\right)}}\\right]$"
      ],
      "text/plain": [
       "⎡  ∂                ∂                        3               ∂                             ∂              2       ∂          ⎤\n",
       "⎢ -──(B(r, θ))      ──(C(r, θ))             A (r, θ)⋅D(r, θ)⋅──(D(r, θ)) + A(r, θ)⋅ω(r, θ)⋅──(ω(r, θ)) - ω (r, θ)⋅──(A(r, θ))⎥\n",
       "⎢  ∂θ               ∂r                                       ∂r                            ∂r                     ∂r         ⎥\n",
       "⎢───────────────, ───────────────, 0, 0, 0, ─────────────────────────────────────────────────────────────────────────────────⎥\n",
       "⎢B(r, θ)⋅C(r, θ)  B(r, θ)⋅C(r, θ)                             ⎛ 2        2          2      ⎞                                 ⎥\n",
       "⎣                                                             ⎝A (r, θ)⋅D (r, θ) + ω (r, θ)⎠⋅A(r, θ)⋅B(r, θ)                 ⎦"
      ]
     },
     "execution_count": 15,
     "metadata": {},
     "output_type": "execute_result"
    }
   ],
   "source": [
    "j1= pt.simplify(DcKd(\"_mu,_nu\")*Lu(\"^mu\")*Ku(\"^nu\"))\n",
    "j2= pt.simplify(DcKd(\"_mu,_nu\")*Lu(\"^mu\")*Lu(\"^nu\"))\n",
    "j3= pt.simplify(DcKd(\"_mu,_nu\")*Lu(\"^mu\")*Su(\"^nu\"))\n",
    "j4= pt.simplify(DcKd(\"_mu,_nu\")*Su(\"^mu\")*Ku(\"^nu\"))\n",
    "j5= pt.simplify(DcKd(\"_mu,_nu\")*Su(\"^mu\")*Lu(\"^nu\"))\n",
    "j6= pt.simplify(DcKd(\"_mu,_nu\")*Su(\"^mu\")*Su(\"^nu\"))\n",
    "\n",
    "j7= pt.simplify(DcLd(\"_mu,_nu\")*Su(\"^mu\")*Ku(\"^nu\"))\n",
    "j8= pt.simplify(DcLd(\"_mu,_nu\")*Su(\"^mu\")*Lu(\"^nu\"))\n",
    "j9= pt.simplify(DcLd(\"_mu,_nu\")*Su(\"^mu\")*Su(\"^nu\"))\n",
    "\n",
    "\n",
    "[j1,j2,j3,j4,j5,j6]"
   ]
  },
  {
   "cell_type": "markdown",
   "id": "bf7e06e0",
   "metadata": {},
   "source": [
    "$$ \n",
    "j_7=L_{\\mu;\\nu} S^\\mu K^\\nu \\,,\\quad  j_8=L_{\\mu;\\nu} S^\\mu L^\\nu \\,, \\quad  j_9 =S_{\\mu;\\nu} L^\\mu S^\\nu \n",
    "$$"
   ]
  },
  {
   "cell_type": "code",
   "execution_count": 16,
   "id": "770c8f71",
   "metadata": {},
   "outputs": [
    {
     "data": {
      "image/png": "[encoded data removed]",
      "text/latex": [
       "$\\displaystyle \\left[ 0, \\  0, \\  \\frac{A^{3}{\\left(r,\\theta \\right)} D{\\left(r,\\theta \\right)} \\frac{\\partial}{\\partial \\theta} D{\\left(r,\\theta \\right)} + A{\\left(r,\\theta \\right)} \\omega{\\left(r,\\theta \\right)} \\frac{\\partial}{\\partial \\theta} \\omega{\\left(r,\\theta \\right)} - \\omega^{2}{\\left(r,\\theta \\right)} \\frac{\\partial}{\\partial \\theta} A{\\left(r,\\theta \\right)}}{\\left(A^{2}{\\left(r,\\theta \\right)} D^{2}{\\left(r,\\theta \\right)} + \\omega^{2}{\\left(r,\\theta \\right)}\\right) A{\\left(r,\\theta \\right)} C{\\left(r,\\theta \\right)}}\\right]$"
      ],
      "text/plain": [
       "⎡       3               ∂                             ∂              2       ∂          ⎤\n",
       "⎢      A (r, θ)⋅D(r, θ)⋅──(D(r, θ)) + A(r, θ)⋅ω(r, θ)⋅──(ω(r, θ)) - ω (r, θ)⋅──(A(r, θ))⎥\n",
       "⎢                       ∂θ                            ∂θ                     ∂θ         ⎥\n",
       "⎢0, 0, ─────────────────────────────────────────────────────────────────────────────────⎥\n",
       "⎢                        ⎛ 2        2          2      ⎞                                 ⎥\n",
       "⎣                        ⎝A (r, θ)⋅D (r, θ) + ω (r, θ)⎠⋅A(r, θ)⋅C(r, θ)                 ⎦"
      ]
     },
     "execution_count": 16,
     "metadata": {},
     "output_type": "execute_result"
    }
   ],
   "source": [
    "[j7,j8,j9]"
   ]
  },
  {
   "cell_type": "code",
   "execution_count": 17,
   "id": "bcfa3793",
   "metadata": {},
   "outputs": [],
   "source": [
    "Omed = pt.ten(\"Omed\",2)\n",
    "Omed.assign((DcVd(\"_mu,_nu\")-DcVd(\"_nu,_mu\")+ad(\"_mu\")*Vd(\"_nu\")-ad(\"_nu\")*Vd(\"_mu\"))/2,\"_mu,_nu\")\n",
    "#Omed.assign((DcVd(\"_mu,_nu\")-DcVd(\"_nu,_mu\"))/2,\"_mu,_nu\")\n",
    "Omed.factor()\n",
    "#Omed.display(aslist=True)\n",
    "#Omed.display()"
   ]
  },
  {
   "cell_type": "code",
   "execution_count": 18,
   "id": "171b37bb",
   "metadata": {},
   "outputs": [
    {
     "data": {
      "image/png": "[encoded data removed]",
      "text/latex": [
       "$\\displaystyle \\left[ 0, \\  \\frac{A{\\left(r,\\theta \\right)} \\frac{\\partial}{\\partial r} \\omega{\\left(r,\\theta \\right)} - 2 \\omega{\\left(r,\\theta \\right)} \\frac{\\partial}{\\partial r} A{\\left(r,\\theta \\right)}}{2 \\sqrt{A^{2}{\\left(r,\\theta \\right)} D^{2}{\\left(r,\\theta \\right)} + \\omega^{2}{\\left(r,\\theta \\right)}} A{\\left(r,\\theta \\right)} B{\\left(r,\\theta \\right)}}, \\  \\frac{A{\\left(r,\\theta \\right)} \\frac{\\partial}{\\partial \\theta} \\omega{\\left(r,\\theta \\right)} - 2 \\omega{\\left(r,\\theta \\right)} \\frac{\\partial}{\\partial \\theta} A{\\left(r,\\theta \\right)}}{2 \\sqrt{A^{2}{\\left(r,\\theta \\right)} D^{2}{\\left(r,\\theta \\right)} + \\omega^{2}{\\left(r,\\theta \\right)}} A{\\left(r,\\theta \\right)} C{\\left(r,\\theta \\right)}}, \\  \\frac{\\left(A{\\left(r,\\theta \\right)} \\frac{\\partial}{\\partial r} \\omega{\\left(r,\\theta \\right)} - 2 \\omega{\\left(r,\\theta \\right)} \\frac{\\partial}{\\partial r} A{\\left(r,\\theta \\right)}\\right) C{\\left(r,\\theta \\right)}}{\\left(A{\\left(r,\\theta \\right)} \\frac{\\partial}{\\partial \\theta} \\omega{\\left(r,\\theta \\right)} - 2 \\omega{\\left(r,\\theta \\right)} \\frac{\\partial}{\\partial \\theta} A{\\left(r,\\theta \\right)}\\right) B{\\left(r,\\theta \\right)}}\\right]$"
      ],
      "text/plain": [
       "⎡               ∂                       ∂                            ∂                       ∂                ⎛        ∂              \n",
       "⎢       A(r, θ)⋅──(ω(r, θ)) - 2⋅ω(r, θ)⋅──(A(r, θ))          A(r, θ)⋅──(ω(r, θ)) - 2⋅ω(r, θ)⋅──(A(r, θ))      ⎜A(r, θ)⋅──(ω(r, θ)) - 2\n",
       "⎢               ∂r                      ∂r                           ∂θ                      ∂θ               ⎝        ∂r             \n",
       "⎢0, ───────────────────────────────────────────────────, ───────────────────────────────────────────────────, ────────────────────────\n",
       "⎢        ______________________________                       ______________________________                  ⎛        ∂              \n",
       "⎢       ╱  2        2          2                             ╱  2        2          2                         ⎜A(r, θ)⋅──(ω(r, θ)) - 2\n",
       "⎣   2⋅╲╱  A (r, θ)⋅D (r, θ) + ω (r, θ) ⋅A(r, θ)⋅B(r, θ)  2⋅╲╱  A (r, θ)⋅D (r, θ) + ω (r, θ) ⋅A(r, θ)⋅C(r, θ)  ⎝        ∂θ             \n",
       "\n",
       "         ∂          ⎞        ⎤\n",
       "⋅ω(r, θ)⋅──(A(r, θ))⎟⋅C(r, θ)⎥\n",
       "         ∂r         ⎠        ⎥\n",
       "─────────────────────────────⎥\n",
       "         ∂          ⎞        ⎥\n",
       "⋅ω(r, θ)⋅──(A(r, θ))⎟⋅B(r, θ)⎥\n",
       "         ∂θ         ⎠        ⎦"
      ]
     },
     "execution_count": 18,
     "metadata": {},
     "output_type": "execute_result"
    }
   ],
   "source": [
    "Omega1= pt.factor(Omed(\"_mu,_nu\")*Ku(\"^mu\")*Lu(\"^nu\"))\n",
    "Omega2= pt.factor(Omed(\"_mu,_nu\")*Su(\"^mu\")*Ku(\"^nu\"))\n",
    "Omega3= pt.factor(Omed(\"_mu,_nu\")*Su(\"^mu\")*Lu(\"^nu\"))\n",
    "Omega = pt.simplify(Omega2/Omega3)\n",
    "[Omega1,Omega2,Omega3,Omega]"
   ]
  },
  {
   "cell_type": "code",
   "execution_count": 19,
   "id": "1e598f65",
   "metadata": {},
   "outputs": [],
   "source": [
    "sigma1=0\n",
    "sigma2=0\n",
    "sigma3=0\n",
    "sh = pt.ten(\"sh\",2) \n",
    "sh.assign(sigma1*Kd(\"_alpha\")*Kd(\"_beta\") + sigma2*Ld(\"_alpha\")*Ld(\"_beta\")- \\\n",
    "          (sigma1-sigma2)*Sd(\"_alpha\")*Sd(\"_beta\") ,\"_alpha,_beta\")\n",
    "sh.simplify()\n",
    "#sh.display()"
   ]
  },
  {
   "cell_type": "code",
   "execution_count": 20,
   "id": "370d8e1d",
   "metadata": {},
   "outputs": [],
   "source": [
    "Theta=DcVd(\"^alpha,_alpha\")\n",
    "#display(Theta)"
   ]
  },
  {
   "cell_type": "code",
   "execution_count": 21,
   "id": "6c95e4b2",
   "metadata": {
    "scrolled": false
   },
   "outputs": [
    {
     "data": {
      "application/vnd.jupyter.widget-view+json": {
       "model_id": "aeb64b0856ee4225bf66342e30b9111e",
       "version_major": 2,
       "version_minor": 0
      },
      "text/plain": [
       "hdd Tensor $hdd{^\\alpha}{_\\beta}$:   0%|          | 0/16 [00:00<?, ?it/s]"
      ]
     },
     "metadata": {},
     "output_type": "display_data"
    },
    {
     "data": {
      "application/vnd.jupyter.widget-view+json": {
       "model_id": "40bf0250aabd4305830dc37f1cd348f9",
       "version_major": 2,
       "version_minor": 0
      },
      "text/plain": [
       "hdd Tensor $hdd{^\\alpha}{^\\beta}$:   0%|          | 0/16 [00:00<?, ?it/s]"
      ]
     },
     "metadata": {},
     "output_type": "display_data"
    },
    {
     "data": {
      "application/vnd.jupyter.widget-view+json": {
       "model_id": "280516ae16bf41379959167a5e8ed2ea",
       "version_major": 2,
       "version_minor": 0
      },
      "text/plain": [
       "hdd Tensor $hdd{_\\alpha}{^\\beta}$:   0%|          | 0/16 [00:00<?, ?it/s]"
      ]
     },
     "metadata": {},
     "output_type": "display_data"
    },
    {
     "data": {
      "text/latex": [
       "All other indices of hdd Tensor $hdd$  already calculated."
      ],
      "text/plain": [
       "<IPython.core.display.Latex object>"
      ]
     },
     "metadata": {},
     "output_type": "display_data"
    }
   ],
   "source": [
    "hdd=pt.ten(\"hdd\",2)\n",
    "hdd.assign(g(\"_mu,_nu\")+Vd('_mu')*Vd('_nu') ,\"_mu,_nu\")\n",
    "hdd.simplify()\n",
    "#hdd.display('_,_')\n",
    "hdd.complete('_,_')"
   ]
  },
  {
   "cell_type": "markdown",
   "id": "6bf768c8",
   "metadata": {},
   "source": [
    "$$\n",
    "\\begin{aligned}\n",
    "\\Omega_{\\alpha \\beta} &=\n",
    "\\Omega_{1}\\left(K_{\\alpha} L_{\\beta} - K_{\\beta} L_{\\alpha}\\right)+\n",
    "\\Omega_{2}\\left(S_{\\alpha} K_{\\beta} - S_{\\beta} K_{\\alpha} \\right) +\n",
    "\\Omega_{3}\\left(S_{\\alpha} L_{\\beta} - S_{\\beta} L_{\\alpha}\\right)\n",
    "\\end{aligned}\n",
    "$$"
   ]
  },
  {
   "cell_type": "code",
   "execution_count": 22,
   "id": "ed0c5654",
   "metadata": {
    "scrolled": true
   },
   "outputs": [],
   "source": [
    "OmedS = pt.ten(\"OmedS\",2)\n",
    "OmedS.assign(Omega1*(Kd(\"_mu\")*Ld(\"_nu\") - Kd(\"_nu\")*Ld(\"_mu\")) \\\n",
    "             + Omega2*(Sd(\"_mu\")*Kd(\"_nu\") - Sd(\"_nu\")*Kd(\"_mu\")) \\\n",
    "             + Omega3*(Sd(\"_mu\")*Ld(\"_nu\") - Sd(\"_nu\")*Ld(\"_mu\")),\"_mu,_nu\")\n",
    "OmedS.factor()\n",
    "#Omed.display(aslist=True)\n",
    "#OmedS.display()"
   ]
  },
  {
   "cell_type": "markdown",
   "id": "ccbb5d31",
   "metadata": {},
   "source": [
    "$$\n",
    "\\Omega_{\\alpha} =\n",
    "\\Omega_{3} K_{\\alpha} +\n",
    "\\Omega_{2} L_{\\alpha} +\n",
    "\\Omega_{1} S_{\\alpha} \n",
    "$$"
   ]
  },
  {
   "cell_type": "code",
   "execution_count": 23,
   "id": "85a6d90f",
   "metadata": {},
   "outputs": [],
   "source": [
    "Omd=pt.ten(\"Omd\",1)\n",
    "Omd.assign(Omega3*Kd(\"_mu\")-Omega2*Ld(\"_mu\") + Omega1*Sd(\"_mu\"),\"_mu\")\n",
    "Omd.simplify()\n",
    "#Omd.display('_')"
   ]
  },
  {
   "cell_type": "markdown",
   "id": "a53225f4",
   "metadata": {},
   "source": [
    "$$\n",
    "V_{\\alpha ; \\beta}=-a_{\\alpha} V_{\\beta}+\\sigma_{\\alpha \\beta}+\\Omega_{\\alpha \\beta}+\\frac{1}{3} \\Theta h_{\\alpha \\beta}\n",
    "$$"
   ]
  },
  {
   "cell_type": "code",
   "execution_count": 24,
   "id": "419410bb",
   "metadata": {},
   "outputs": [],
   "source": [
    "DcVdS = pt.ten(\"DcVdS\",2) \n",
    "DcVdS.assign(-1*ad(\"_alpha\")*Vd(\"_beta\") + sh(\"_alpha,_beta\") + OmedS(\"_alpha,_beta\")\\\n",
    "             +Theta*hdd(\"_alpha,_beta\")/3  ,\"_alpha,_beta\")\n",
    "DcVdS.factor()\n",
    "#DcVdS.display()"
   ]
  },
  {
   "cell_type": "code",
   "execution_count": 25,
   "id": "7ff13438",
   "metadata": {},
   "outputs": [
    {
     "data": {
      "image/png": "[encoded data removed]",
      "text/latex": [
       "$\\displaystyle \\left[\\begin{matrix}0 & 0 & 0 & 0\\\\0 & 0 & 0 & 0\\\\0 & 0 & 0 & 0\\\\0 & 0 & 0 & 0\\end{matrix}\\right]$"
      ],
      "text/plain": [
       "⎡0  0  0  0⎤\n",
       "⎢          ⎥\n",
       "⎢0  0  0  0⎥\n",
       "⎢          ⎥\n",
       "⎢0  0  0  0⎥\n",
       "⎢          ⎥\n",
       "⎣0  0  0  0⎦"
      ]
     },
     "metadata": {},
     "output_type": "display_data"
    }
   ],
   "source": [
    "ceros=pt.ten(\"ceros\",2)\n",
    "ceros.assign(DcVd(\"_alpha,_beta\")-DcVdS(\"_alpha,_beta\") ,\"_alpha,_beta\")\n",
    "ceros.simplify()\n",
    "#DcVd.display()\n",
    "ceros.display('_,_')"
   ]
  },
  {
   "cell_type": "code",
   "execution_count": null,
   "id": "36b46f7f",
   "metadata": {},
   "outputs": [],
   "source": []
  },
  {
   "cell_type": "markdown",
   "id": "ea0731be",
   "metadata": {},
   "source": [
    "$$\n",
    "K_{\\alpha ; \\beta}=-a_{\\mu} K^{\\mu} V_{\\alpha} V_{\\beta}+V_{\\alpha}\\left(\\sigma_{\\nu \\beta}+\\Omega_{\\nu \\beta}+\\frac{1}{3} \\Theta h_{\\nu \\beta}\\right) K^{\\nu}-\\tilde{a}_{\\alpha}^{(k)} V_{\\beta}+J_{\\alpha \\beta}^{(k)}\n",
    "$$"
   ]
  },
  {
   "cell_type": "code",
   "execution_count": 26,
   "id": "8b08db8e",
   "metadata": {},
   "outputs": [],
   "source": [
    "akd=pt.ten(\"akd\",1)\n",
    "# Es con  + \n",
    "akd.assign(-Omega1*Ld(\"_mu\") + Omega2*Sd(\"_mu\"),\"_mu\")\n",
    "akd.factor()\n",
    "#akd.display('_')"
   ]
  },
  {
   "cell_type": "code",
   "execution_count": 27,
   "id": "ec80fdd1",
   "metadata": {},
   "outputs": [],
   "source": [
    "akdp=pt.ten(\"akdp\",1)\n",
    "akdp.assign( hdd(\"^mu,_alpha\")*DcKd(\"_mu,_nu\")*Vu(\"^nu\"),\"_alpha\")\n",
    "akdp.factor()\n",
    "#akdp.display('_')"
   ]
  },
  {
   "cell_type": "code",
   "execution_count": 28,
   "id": "74bfbfd4",
   "metadata": {
    "scrolled": true
   },
   "outputs": [],
   "source": [
    "Jkd=pt.ten(\"Jkd\",2)\n",
    "Jkd.assign( (j1*Kd(\"_nu\") + j2*Ld(\"_nu\") + j3*Sd(\"_nu\"))*Ld(\"_mu\") \\\n",
    "           +(j4*Kd(\"_nu\") + j5*Ld(\"_nu\") + j6*Sd(\"_nu\"))*Sd(\"_mu\") ,\"_mu,_nu\")\n",
    "Jkd.simplify()\n",
    "#Jkd.display('_,_')"
   ]
  },
  {
   "cell_type": "code",
   "execution_count": 29,
   "id": "6f834c4c",
   "metadata": {},
   "outputs": [],
   "source": [
    "Jkdp=pt.ten(\"Jkdp\",2)\n",
    "Jkdp.assign( hdd(\"^mu,_alpha\")*hdd(\"^nu,_beta\")*DcKd(\"_mu,_nu\")  ,\"_alpha,_beta\")\n",
    "Jkdp.simplify()\n",
    "#Jkdp.display('_,_')"
   ]
  },
  {
   "cell_type": "code",
   "execution_count": 30,
   "id": "8ea30382",
   "metadata": {},
   "outputs": [],
   "source": [
    "DcKdS = pt.ten(\"DcKdS\",2) \n",
    "DcKdS.assign(-1*ad(\"_mu\")*Ku(\"^mu\")*Vd(\"_alpha\")*Vd(\"_beta\")  \\\n",
    "             + Vd(\"_alpha\")*( sh(\"_mu,_beta\") + OmedS(\"_mu,_beta\") + Theta*hdd(\"_mu,_beta\")/3)*Ku(\"^mu\") \\\n",
    "             - akd(\"_alpha\")*Vd(\"_beta\") + Jkd(\"_alpha,_beta\")  ,\"_alpha,_beta\")\n",
    "DcKdS.factor()\n",
    "#DcKdS.display()"
   ]
  },
  {
   "cell_type": "code",
   "execution_count": 31,
   "id": "8912ef77",
   "metadata": {},
   "outputs": [
    {
     "data": {
      "image/png": "[encoded data removed]",
      "text/latex": [
       "$\\displaystyle \\left[\\begin{matrix}0 & 0 & 0 & 0\\\\0 & 0 & 0 & 0\\\\0 & 0 & 0 & 0\\\\0 & 0 & 0 & 0\\end{matrix}\\right]$"
      ],
      "text/plain": [
       "⎡0  0  0  0⎤\n",
       "⎢          ⎥\n",
       "⎢0  0  0  0⎥\n",
       "⎢          ⎥\n",
       "⎢0  0  0  0⎥\n",
       "⎢          ⎥\n",
       "⎣0  0  0  0⎦"
      ]
     },
     "metadata": {},
     "output_type": "display_data"
    }
   ],
   "source": [
    "ceros=pt.ten(\"ceros\",2)\n",
    "ceros.assign(DcKd(\"_alpha,_beta\")-DcKdS(\"_alpha,_beta\") ,\"_alpha,_beta\")\n",
    "ceros.simplify()\n",
    "ceros.display('_,_')"
   ]
  },
  {
   "cell_type": "markdown",
   "id": "f2baf0e1",
   "metadata": {},
   "source": [
    "$$\n",
    "L_{\\alpha ; \\beta}=-a_{\\mu} L^{\\mu} V_{\\alpha} V_{\\beta}+V_{\\alpha}\\left(\\sigma_{\\nu \\beta}+\\Omega_{\\nu \\beta}+\\frac{1}{3} \\Theta h_{\\nu \\beta}\\right) L^{\\nu}-\\tilde{a}_{\\alpha}^{(l)} V_{\\beta}+J_{\\alpha \\beta}^{(l)}\n",
    "$$"
   ]
  },
  {
   "cell_type": "code",
   "execution_count": 32,
   "id": "99349644",
   "metadata": {},
   "outputs": [],
   "source": [
    "ald=pt.ten(\"ald\",1)\n",
    "# Es con  + \n",
    "ald.assign(Omega1*Kd(\"_mu\") + Omega3*Sd(\"_mu\"),\"_mu\")\n",
    "ald.factor()\n",
    "#ald.display('_')\n",
    "\n",
    "aldp=pt.ten(\"aldp\",1)\n",
    "aldp.assign( hdd(\"^mu,_alpha\")*DcLd(\"_mu,_nu\")*Vu(\"^nu\"),\"_alpha\")\n",
    "aldp.factor()\n",
    "#aldp.display('_')"
   ]
  },
  {
   "cell_type": "code",
   "execution_count": 33,
   "id": "d4120509",
   "metadata": {},
   "outputs": [],
   "source": [
    "Jld=pt.ten(\"Jld\",2)\n",
    "Jld.assign( -1*(j1*Kd(\"_nu\") + j2*Ld(\"_nu\") + j3*Sd(\"_nu\"))*Kd(\"_mu\") \\\n",
    "           +(j7*Kd(\"_nu\") + j8*Ld(\"_nu\") + j9*Sd(\"_nu\"))*Sd(\"_mu\") ,\"_mu,_nu\")\n",
    "Jld.simplify()\n",
    "#Jld.display('_,_')"
   ]
  },
  {
   "cell_type": "code",
   "execution_count": 34,
   "id": "855ddec0",
   "metadata": {},
   "outputs": [],
   "source": [
    "DcLdS = pt.ten(\"DcLdS\",2) \n",
    "DcLdS.assign(-1*ad(\"_mu\")*Lu(\"^mu\")*Vd(\"_alpha\")*Vd(\"_beta\")  \\\n",
    "             + Vd(\"_alpha\")*( sh(\"_mu,_beta\") + OmedS(\"_mu,_beta\") + Theta*hdd(\"_mu,_beta\")/3)*Lu(\"^mu\") \\\n",
    "             - ald(\"_alpha\")*Vd(\"_beta\") + Jld(\"_alpha,_beta\")  ,\"_alpha,_beta\")\n",
    "DcLdS.factor()\n",
    "#DcLdS.display()"
   ]
  },
  {
   "cell_type": "code",
   "execution_count": 35,
   "id": "076b0764",
   "metadata": {},
   "outputs": [
    {
     "data": {
      "image/png": "[encoded data removed]",
      "text/latex": [
       "$\\displaystyle \\left[\\begin{matrix}0 & 0 & 0 & 0\\\\0 & 0 & 0 & 0\\\\0 & 0 & 0 & 0\\\\0 & 0 & 0 & 0\\end{matrix}\\right]$"
      ],
      "text/plain": [
       "⎡0  0  0  0⎤\n",
       "⎢          ⎥\n",
       "⎢0  0  0  0⎥\n",
       "⎢          ⎥\n",
       "⎢0  0  0  0⎥\n",
       "⎢          ⎥\n",
       "⎣0  0  0  0⎦"
      ]
     },
     "metadata": {},
     "output_type": "display_data"
    }
   ],
   "source": [
    "ceros=pt.ten(\"ceros\",2)\n",
    "ceros.assign(DcLd(\"_alpha,_beta\")-DcLdS(\"_alpha,_beta\") ,\"_alpha,_beta\")\n",
    "ceros.simplify()\n",
    "ceros.display('_,_')"
   ]
  },
  {
   "cell_type": "markdown",
   "id": "479d9ef0",
   "metadata": {},
   "source": [
    "$$\n",
    "S_{\\alpha ; \\beta}=-a_{\\mu} S^{\\mu} V_{\\alpha} V_{\\beta}+V_{\\alpha}\\left(\\sigma_{\\nu \\beta}+\\Omega_{\\nu \\beta}+\\frac{1}{3} \\Theta h_{\\nu \\beta}\\right) S^{\\nu}-\\tilde{a}_{\\alpha}^{(s)} V_{\\beta}+J_{\\alpha \\beta}^{(s)}\n",
    "$$"
   ]
  },
  {
   "cell_type": "code",
   "execution_count": 36,
   "id": "37f0c6ed",
   "metadata": {},
   "outputs": [],
   "source": [
    "asd=pt.ten(\"asd\",1)\n",
    "# Es con  + \n",
    "asd.assign(-Omega2*Kd(\"_mu\") - Omega3*Ld(\"_mu\"),\"_mu\")\n",
    "asd.factor()\n",
    "#asd.display('_')\n",
    "\n",
    "asdp=pt.ten(\"asdp\",1)\n",
    "asdp.assign( hdd(\"^mu,_alpha\")*DcSd(\"_mu,_nu\")*Vu(\"^nu\"),\"_alpha\")\n",
    "asdp.factor()\n",
    "#asdp.display('_')"
   ]
  },
  {
   "cell_type": "code",
   "execution_count": 37,
   "id": "5d93b2a0",
   "metadata": {},
   "outputs": [],
   "source": [
    "Jsd=pt.ten(\"Jsd\",2)\n",
    "Jsd.assign( -1*(j4*Kd(\"_nu\") + j5*Ld(\"_nu\") + j6*Sd(\"_nu\"))*Kd(\"_mu\") \\\n",
    "           -(j7*Kd(\"_nu\") + j8*Ld(\"_nu\") + j9*Sd(\"_nu\"))*Ld(\"_mu\") ,\"_mu,_nu\")\n",
    "Jsd.simplify()\n",
    "#Jsd.display('_,_')"
   ]
  },
  {
   "cell_type": "code",
   "execution_count": 38,
   "id": "4ed05601",
   "metadata": {},
   "outputs": [],
   "source": [
    "DcSdS = pt.ten(\"DcSdS\",2) \n",
    "DcSdS.assign(-1*ad(\"_mu\")*Su(\"^mu\")*Vd(\"_alpha\")*Vd(\"_beta\")  \\\n",
    "             + Vd(\"_alpha\")*( sh(\"_mu,_beta\") + OmedS(\"_mu,_beta\") + Theta*hdd(\"_mu,_beta\")/3)*Su(\"^mu\") \\\n",
    "             - asd(\"_alpha\")*Vd(\"_beta\") + Jsd(\"_alpha,_beta\")  ,\"_alpha,_beta\")\n",
    "DcSdS.factor()\n",
    "#DcSdS.display()"
   ]
  },
  {
   "cell_type": "code",
   "execution_count": 39,
   "id": "339b3a9d",
   "metadata": {
    "scrolled": true
   },
   "outputs": [
    {
     "data": {
      "image/png": "[encoded data removed]",
      "text/latex": [
       "$\\displaystyle \\left[\\begin{matrix}0 & 0 & 0 & 0\\\\0 & 0 & 0 & 0\\\\0 & 0 & 0 & 0\\\\0 & 0 & 0 & 0\\end{matrix}\\right]$"
      ],
      "text/plain": [
       "⎡0  0  0  0⎤\n",
       "⎢          ⎥\n",
       "⎢0  0  0  0⎥\n",
       "⎢          ⎥\n",
       "⎢0  0  0  0⎥\n",
       "⎢          ⎥\n",
       "⎣0  0  0  0⎦"
      ]
     },
     "metadata": {},
     "output_type": "display_data"
    }
   ],
   "source": [
    "ceros=pt.ten(\"ceros\",2)\n",
    "ceros.assign(DcSd(\"_alpha,_beta\")-DcSdS(\"_alpha,_beta\") ,\"_alpha,_beta\")\n",
    "ceros.simplify()\n",
    "ceros.display('_,_')"
   ]
  },
  {
   "cell_type": "code",
   "execution_count": 40,
   "id": "2ee12a59",
   "metadata": {
    "scrolled": false
   },
   "outputs": [
    {
     "data": {
      "text/latex": [
       "Riemann Tensor $R^{\\alpha}_{\\beta \\gamma \\delta}$"
      ],
      "text/plain": [
       "<IPython.core.display.Latex object>"
      ]
     },
     "metadata": {},
     "output_type": "display_data"
    },
    {
     "data": {
      "application/vnd.jupyter.widget-view+json": {
       "model_id": "bdcbeefe6003458ca872723f90b1b7c7",
       "version_major": 2,
       "version_minor": 0
      },
      "text/plain": [
       "  0%|          | 0/256 [00:00<?, ?it/s]"
      ]
     },
     "metadata": {},
     "output_type": "display_data"
    },
    {
     "data": {
      "application/vnd.jupyter.widget-view+json": {
       "model_id": "48009301914f43f6a40194e759bd39b0",
       "version_major": 2,
       "version_minor": 0
      },
      "text/plain": [
       "Riemann Tensor $R{_\\alpha}{_\\beta}{_\\gamma}{_\\delta}$:   0%|          | 0/256 [00:00<?, ?it/s]"
      ]
     },
     "metadata": {},
     "output_type": "display_data"
    },
    {
     "data": {
      "application/vnd.jupyter.widget-view+json": {
       "model_id": "829a6592cad74e9394e92d5387d206ed",
       "version_major": 2,
       "version_minor": 0
      },
      "text/plain": [
       "Riemann Tensor $R{^\\alpha}{^\\beta}{_\\gamma}{_\\delta}$:   0%|          | 0/256 [00:00<?, ?it/s]"
      ]
     },
     "metadata": {},
     "output_type": "display_data"
    },
    {
     "data": {
      "application/vnd.jupyter.widget-view+json": {
       "model_id": "abb85455e9f645d8b3de06223c5a0661",
       "version_major": 2,
       "version_minor": 0
      },
      "text/plain": [
       "Riemann Tensor $R{^\\alpha}{^\\beta}{^\\gamma}{_\\delta}$:   0%|          | 0/256 [00:00<?, ?it/s]"
      ]
     },
     "metadata": {},
     "output_type": "display_data"
    },
    {
     "data": {
      "application/vnd.jupyter.widget-view+json": {
       "model_id": "abd4157ae0b9429094b1d555eead8894",
       "version_major": 2,
       "version_minor": 0
      },
      "text/plain": [
       "Riemann Tensor $R{^\\alpha}{^\\beta}{^\\gamma}{^\\delta}$:   0%|          | 0/256 [00:00<?, ?it/s]"
      ]
     },
     "metadata": {},
     "output_type": "display_data"
    },
    {
     "data": {
      "application/vnd.jupyter.widget-view+json": {
       "model_id": "92da7a0bfccf4e65b9037ab4e7c3f0ed",
       "version_major": 2,
       "version_minor": 0
      },
      "text/plain": [
       "Riemann Tensor $R{^\\alpha}{^\\beta}{_\\gamma}{^\\delta}$:   0%|          | 0/256 [00:00<?, ?it/s]"
      ]
     },
     "metadata": {},
     "output_type": "display_data"
    },
    {
     "data": {
      "application/vnd.jupyter.widget-view+json": {
       "model_id": "4198188f8f7a4ef79092b4bb655be51f",
       "version_major": 2,
       "version_minor": 0
      },
      "text/plain": [
       "Riemann Tensor $R{^\\alpha}{_\\beta}{^\\gamma}{_\\delta}$:   0%|          | 0/256 [00:00<?, ?it/s]"
      ]
     },
     "metadata": {},
     "output_type": "display_data"
    },
    {
     "data": {
      "application/vnd.jupyter.widget-view+json": {
       "model_id": "3220abcb6e9f4ca7af6d1bb45fa75f29",
       "version_major": 2,
       "version_minor": 0
      },
      "text/plain": [
       "Riemann Tensor $R{^\\alpha}{_\\beta}{^\\gamma}{^\\delta}$:   0%|          | 0/256 [00:00<?, ?it/s]"
      ]
     },
     "metadata": {},
     "output_type": "display_data"
    },
    {
     "data": {
      "application/vnd.jupyter.widget-view+json": {
       "model_id": "1312d00934f34867b1ad323444126f44",
       "version_major": 2,
       "version_minor": 0
      },
      "text/plain": [
       "Riemann Tensor $R{^\\alpha}{_\\beta}{_\\gamma}{^\\delta}$:   0%|          | 0/256 [00:00<?, ?it/s]"
      ]
     },
     "metadata": {},
     "output_type": "display_data"
    },
    {
     "data": {
      "application/vnd.jupyter.widget-view+json": {
       "model_id": "bc1aa5a54c68489ab860a3e523659403",
       "version_major": 2,
       "version_minor": 0
      },
      "text/plain": [
       "Riemann Tensor $R{_\\alpha}{^\\beta}{_\\gamma}{_\\delta}$:   0%|          | 0/256 [00:00<?, ?it/s]"
      ]
     },
     "metadata": {},
     "output_type": "display_data"
    },
    {
     "data": {
      "application/vnd.jupyter.widget-view+json": {
       "model_id": "12b1c003ecbd48b089786614474c0ff2",
       "version_major": 2,
       "version_minor": 0
      },
      "text/plain": [
       "Riemann Tensor $R{_\\alpha}{^\\beta}{^\\gamma}{_\\delta}$:   0%|          | 0/256 [00:00<?, ?it/s]"
      ]
     },
     "metadata": {},
     "output_type": "display_data"
    },
    {
     "data": {
      "application/vnd.jupyter.widget-view+json": {
       "model_id": "7572100ee3fa4cdf8a1facf1ccda2b14",
       "version_major": 2,
       "version_minor": 0
      },
      "text/plain": [
       "Riemann Tensor $R{_\\alpha}{^\\beta}{^\\gamma}{^\\delta}$:   0%|          | 0/256 [00:00<?, ?it/s]"
      ]
     },
     "metadata": {},
     "output_type": "display_data"
    },
    {
     "data": {
      "application/vnd.jupyter.widget-view+json": {
       "model_id": "3781320e5ce74d038b5d6d3af38039eb",
       "version_major": 2,
       "version_minor": 0
      },
      "text/plain": [
       "Riemann Tensor $R{_\\alpha}{^\\beta}{_\\gamma}{^\\delta}$:   0%|          | 0/256 [00:00<?, ?it/s]"
      ]
     },
     "metadata": {},
     "output_type": "display_data"
    },
    {
     "data": {
      "application/vnd.jupyter.widget-view+json": {
       "model_id": "2dd75b2d9d9d4414a1d7105c11d2363a",
       "version_major": 2,
       "version_minor": 0
      },
      "text/plain": [
       "Riemann Tensor $R{_\\alpha}{_\\beta}{^\\gamma}{_\\delta}$:   0%|          | 0/256 [00:00<?, ?it/s]"
      ]
     },
     "metadata": {},
     "output_type": "display_data"
    },
    {
     "data": {
      "application/vnd.jupyter.widget-view+json": {
       "model_id": "182eb6112677427b88d51da723c50425",
       "version_major": 2,
       "version_minor": 0
      },
      "text/plain": [
       "Riemann Tensor $R{_\\alpha}{_\\beta}{^\\gamma}{^\\delta}$:   0%|          | 0/256 [00:00<?, ?it/s]"
      ]
     },
     "metadata": {},
     "output_type": "display_data"
    },
    {
     "data": {
      "application/vnd.jupyter.widget-view+json": {
       "model_id": "4142f12363c7427fb3461f116b3f1b91",
       "version_major": 2,
       "version_minor": 0
      },
      "text/plain": [
       "Riemann Tensor $R{_\\alpha}{_\\beta}{_\\gamma}{^\\delta}$:   0%|          | 0/256 [00:00<?, ?it/s]"
      ]
     },
     "metadata": {},
     "output_type": "display_data"
    },
    {
     "data": {
      "text/latex": [
       "All other indices of Riemann Tensor $R$  already calculated."
      ],
      "text/plain": [
       "<IPython.core.display.Latex object>"
      ]
     },
     "metadata": {},
     "output_type": "display_data"
    }
   ],
   "source": [
    "R = pt.riemann(All=True)"
   ]
  },
  {
   "cell_type": "code",
   "execution_count": 41,
   "id": "40739fed",
   "metadata": {
    "scrolled": true
   },
   "outputs": [
    {
     "data": {
      "text/latex": [
       "Ricci Tensor $R_{\\alpha \\beta}$"
      ],
      "text/plain": [
       "<IPython.core.display.Latex object>"
      ]
     },
     "metadata": {},
     "output_type": "display_data"
    },
    {
     "data": {
      "application/vnd.jupyter.widget-view+json": {
       "model_id": "f10afa9998d1496685ff96bb8d189664",
       "version_major": 2,
       "version_minor": 0
      },
      "text/plain": [
       "  0%|          | 0/16 [00:00<?, ?it/s]"
      ]
     },
     "metadata": {},
     "output_type": "display_data"
    },
    {
     "data": {
      "application/vnd.jupyter.widget-view+json": {
       "model_id": "af24e5fba972449798c5e86fa8af7a0e",
       "version_major": 2,
       "version_minor": 0
      },
      "text/plain": [
       "Ricci Tensor $R{^\\alpha}{_\\beta}$:   0%|          | 0/16 [00:00<?, ?it/s]"
      ]
     },
     "metadata": {},
     "output_type": "display_data"
    },
    {
     "data": {
      "application/vnd.jupyter.widget-view+json": {
       "model_id": "ddc1c4aa67e5441da05fe6acae7cfb17",
       "version_major": 2,
       "version_minor": 0
      },
      "text/plain": [
       "Ricci Tensor $R{^\\alpha}{^\\beta}$:   0%|          | 0/16 [00:00<?, ?it/s]"
      ]
     },
     "metadata": {},
     "output_type": "display_data"
    },
    {
     "data": {
      "application/vnd.jupyter.widget-view+json": {
       "model_id": "c53fe53fe2e349d1a8d8242302432d77",
       "version_major": 2,
       "version_minor": 0
      },
      "text/plain": [
       "Ricci Tensor $R{_\\alpha}{^\\beta}$:   0%|          | 0/16 [00:00<?, ?it/s]"
      ]
     },
     "metadata": {},
     "output_type": "display_data"
    },
    {
     "data": {
      "text/latex": [
       "All other indices of Ricci Tensor $R$  already calculated."
      ],
      "text/plain": [
       "<IPython.core.display.Latex object>"
      ]
     },
     "metadata": {},
     "output_type": "display_data"
    }
   ],
   "source": [
    "Ric = pt.ricci()\n",
    "Ric.complete('_,_')"
   ]
  },
  {
   "cell_type": "code",
   "execution_count": 42,
   "id": "7da24f84",
   "metadata": {},
   "outputs": [
    {
     "data": {
      "application/vnd.jupyter.widget-view+json": {
       "model_id": "bb7553f26972440f8dc38d1fa9ac4ff5",
       "version_major": 2,
       "version_minor": 0
      },
      "text/plain": [
       "  0%|          | 0/16 [00:00<?, ?it/s]"
      ]
     },
     "metadata": {},
     "output_type": "display_data"
    },
    {
     "data": {
      "text/latex": [
       "Ricci Scalar $R$"
      ],
      "text/plain": [
       "<IPython.core.display.Latex object>"
      ]
     },
     "metadata": {},
     "output_type": "display_data"
    }
   ],
   "source": [
    "Res = pt.riccis()"
   ]
  },
  {
   "cell_type": "code",
   "execution_count": 43,
   "id": "64094176",
   "metadata": {},
   "outputs": [],
   "source": [
    "KD= pt.kdelta()"
   ]
  },
  {
   "cell_type": "code",
   "execution_count": 44,
   "id": "314cccfb",
   "metadata": {
    "scrolled": true
   },
   "outputs": [
    {
     "data": {
      "image/png": "[encoded data removed]",
      "text/latex": [
       "$\\displaystyle \\frac{\\left(2 A^{3}{\\left(r,\\theta \\right)} B^{3}{\\left(r,\\theta \\right)} C{\\left(r,\\theta \\right)} D^{2}{\\left(r,\\theta \\right)} \\frac{\\partial^{2}}{\\partial \\theta^{2}} A{\\left(r,\\theta \\right)} + 2 A^{3}{\\left(r,\\theta \\right)} B^{3}{\\left(r,\\theta \\right)} C{\\left(r,\\theta \\right)} D{\\left(r,\\theta \\right)} \\frac{\\partial}{\\partial \\theta} A{\\left(r,\\theta \\right)} \\frac{\\partial}{\\partial \\theta} D{\\left(r,\\theta \\right)} - 2 A^{3}{\\left(r,\\theta \\right)} B^{3}{\\left(r,\\theta \\right)} D^{2}{\\left(r,\\theta \\right)} \\frac{\\partial}{\\partial \\theta} A{\\left(r,\\theta \\right)} \\frac{\\partial}{\\partial \\theta} C{\\left(r,\\theta \\right)} + 2 A^{3}{\\left(r,\\theta \\right)} B^{2}{\\left(r,\\theta \\right)} C{\\left(r,\\theta \\right)} D^{2}{\\left(r,\\theta \\right)} \\frac{\\partial}{\\partial \\theta} A{\\left(r,\\theta \\right)} \\frac{\\partial}{\\partial \\theta} B{\\left(r,\\theta \\right)} + 2 A^{3}{\\left(r,\\theta \\right)} B{\\left(r,\\theta \\right)} C^{3}{\\left(r,\\theta \\right)} D^{2}{\\left(r,\\theta \\right)} \\frac{\\partial^{2}}{\\partial r^{2}} A{\\left(r,\\theta \\right)} + 2 A^{3}{\\left(r,\\theta \\right)} B{\\left(r,\\theta \\right)} C^{3}{\\left(r,\\theta \\right)} D{\\left(r,\\theta \\right)} \\frac{\\partial}{\\partial r} A{\\left(r,\\theta \\right)} \\frac{\\partial}{\\partial r} D{\\left(r,\\theta \\right)} + 2 A^{3}{\\left(r,\\theta \\right)} B{\\left(r,\\theta \\right)} C^{2}{\\left(r,\\theta \\right)} D^{2}{\\left(r,\\theta \\right)} \\frac{\\partial}{\\partial r} A{\\left(r,\\theta \\right)} \\frac{\\partial}{\\partial r} C{\\left(r,\\theta \\right)} - 2 A^{3}{\\left(r,\\theta \\right)} C^{3}{\\left(r,\\theta \\right)} D^{2}{\\left(r,\\theta \\right)} \\frac{\\partial}{\\partial r} A{\\left(r,\\theta \\right)} \\frac{\\partial}{\\partial r} B{\\left(r,\\theta \\right)} + A^{2}{\\left(r,\\theta \\right)} B^{3}{\\left(r,\\theta \\right)} C{\\left(r,\\theta \\right)} \\left(\\frac{\\partial}{\\partial \\theta} \\omega{\\left(r,\\theta \\right)}\\right)^{2} + A^{2}{\\left(r,\\theta \\right)} B{\\left(r,\\theta \\right)} C^{3}{\\left(r,\\theta \\right)} \\left(\\frac{\\partial}{\\partial r} \\omega{\\left(r,\\theta \\right)}\\right)^{2} + 2 A{\\left(r,\\theta \\right)} B^{3}{\\left(r,\\theta \\right)} C{\\left(r,\\theta \\right)} \\omega^{2}{\\left(r,\\theta \\right)} \\frac{\\partial^{2}}{\\partial \\theta^{2}} A{\\left(r,\\theta \\right)} - 2 A{\\left(r,\\theta \\right)} B^{3}{\\left(r,\\theta \\right)} C{\\left(r,\\theta \\right)} \\omega{\\left(r,\\theta \\right)} \\frac{\\partial}{\\partial \\theta} A{\\left(r,\\theta \\right)} \\frac{\\partial}{\\partial \\theta} \\omega{\\left(r,\\theta \\right)} - 2 A{\\left(r,\\theta \\right)} B^{3}{\\left(r,\\theta \\right)} \\omega^{2}{\\left(r,\\theta \\right)} \\frac{\\partial}{\\partial \\theta} A{\\left(r,\\theta \\right)} \\frac{\\partial}{\\partial \\theta} C{\\left(r,\\theta \\right)} + 2 A{\\left(r,\\theta \\right)} B^{2}{\\left(r,\\theta \\right)} C{\\left(r,\\theta \\right)} \\omega^{2}{\\left(r,\\theta \\right)} \\frac{\\partial}{\\partial \\theta} A{\\left(r,\\theta \\right)} \\frac{\\partial}{\\partial \\theta} B{\\left(r,\\theta \\right)} + 2 A{\\left(r,\\theta \\right)} B{\\left(r,\\theta \\right)} C^{3}{\\left(r,\\theta \\right)} \\omega^{2}{\\left(r,\\theta \\right)} \\frac{\\partial^{2}}{\\partial r^{2}} A{\\left(r,\\theta \\right)} - 2 A{\\left(r,\\theta \\right)} B{\\left(r,\\theta \\right)} C^{3}{\\left(r,\\theta \\right)} \\omega{\\left(r,\\theta \\right)} \\frac{\\partial}{\\partial r} A{\\left(r,\\theta \\right)} \\frac{\\partial}{\\partial r} \\omega{\\left(r,\\theta \\right)} + 2 A{\\left(r,\\theta \\right)} B{\\left(r,\\theta \\right)} C^{2}{\\left(r,\\theta \\right)} \\omega^{2}{\\left(r,\\theta \\right)} \\frac{\\partial}{\\partial r} A{\\left(r,\\theta \\right)} \\frac{\\partial}{\\partial r} C{\\left(r,\\theta \\right)} - 2 A{\\left(r,\\theta \\right)} C^{3}{\\left(r,\\theta \\right)} \\omega^{2}{\\left(r,\\theta \\right)} \\frac{\\partial}{\\partial r} A{\\left(r,\\theta \\right)} \\frac{\\partial}{\\partial r} B{\\left(r,\\theta \\right)} + 2 B^{3}{\\left(r,\\theta \\right)} C{\\left(r,\\theta \\right)} \\omega^{2}{\\left(r,\\theta \\right)} \\left(\\frac{\\partial}{\\partial \\theta} A{\\left(r,\\theta \\right)}\\right)^{2} + 2 B{\\left(r,\\theta \\right)} C^{3}{\\left(r,\\theta \\right)} \\omega^{2}{\\left(r,\\theta \\right)} \\left(\\frac{\\partial}{\\partial r} A{\\left(r,\\theta \\right)}\\right)^{2}\\right) \\omega{\\left(r,\\theta \\right)}}{2 \\left(A^{2}{\\left(r,\\theta \\right)} D^{2}{\\left(r,\\theta \\right)} + \\omega^{2}{\\left(r,\\theta \\right)}\\right) B^{3}{\\left(r,\\theta \\right)} C^{3}{\\left(r,\\theta \\right)}}$"
      ],
      "text/plain": [
       "⎛                                       2                                                                                             \n",
       "⎜   3        3                2        ∂                3        3                       ∂           ∂                3        3      \n",
       "⎜2⋅A (r, θ)⋅B (r, θ)⋅C(r, θ)⋅D (r, θ)⋅───(A(r, θ)) + 2⋅A (r, θ)⋅B (r, θ)⋅C(r, θ)⋅D(r, θ)⋅──(A(r, θ))⋅──(D(r, θ)) - 2⋅A (r, θ)⋅B (r, θ)\n",
       "⎜                                       2                                                ∂θ          ∂θ                               \n",
       "⎝                                     ∂θ                                                                                              \n",
       "──────────────────────────────────────────────────────────────────────────────────────────────────────────────────────────────────────\n",
       "                                                                                                                                      \n",
       "                                                                                                                                      \n",
       "\n",
       "                                                                                                                                      \n",
       "  2       ∂           ∂                3        2                2       ∂           ∂                3                3        2     \n",
       "⋅D (r, θ)⋅──(A(r, θ))⋅──(C(r, θ)) + 2⋅A (r, θ)⋅B (r, θ)⋅C(r, θ)⋅D (r, θ)⋅──(A(r, θ))⋅──(B(r, θ)) + 2⋅A (r, θ)⋅B(r, θ)⋅C (r, θ)⋅D (r, θ\n",
       "          ∂θ          ∂θ                                                 ∂θ          ∂θ                                               \n",
       "                                                                                                                                      \n",
       "──────────────────────────────────────────────────────────────────────────────────────────────────────────────────────────────────────\n",
       "                                                                                                                                      \n",
       "                                                                                                                                      \n",
       "\n",
       "    2                                                                                                                                 \n",
       "   ∂                3                3               ∂           ∂                3                2        2       ∂           ∂     \n",
       ")⋅───(A(r, θ)) + 2⋅A (r, θ)⋅B(r, θ)⋅C (r, θ)⋅D(r, θ)⋅──(A(r, θ))⋅──(D(r, θ)) + 2⋅A (r, θ)⋅B(r, θ)⋅C (r, θ)⋅D (r, θ)⋅──(A(r, θ))⋅──(C(r\n",
       "    2                                                ∂r          ∂r                                                 ∂r          ∂r    \n",
       "  ∂r                                                                                                                                  \n",
       "──────────────────────────────────────────────────────────────────────────────────────────────────────────────────────────────────────\n",
       "                                                                                                                                      \n",
       "                                                                                                                                      \n",
       "\n",
       "                                                                                                      2                               \n",
       "           3        3        2       ∂           ∂              2        3               ⎛∂          ⎞     2                3       ⎛∂\n",
       ", θ)) - 2⋅A (r, θ)⋅C (r, θ)⋅D (r, θ)⋅──(A(r, θ))⋅──(B(r, θ)) + A (r, θ)⋅B (r, θ)⋅C(r, θ)⋅⎜──(ω(r, θ))⎟  + A (r, θ)⋅B(r, θ)⋅C (r, θ)⋅⎜─\n",
       "                                     ∂r          ∂r                                      ⎝∂θ         ⎠                              ⎝∂\n",
       "                                                                                                                                      \n",
       "──────────────────────────────────────────────────────────────────────────────────────────────────────────────────────────────────────\n",
       "                                                                                                                               ⎛ 2    \n",
       "                                                                                                                             2⋅⎝A (r, \n",
       "\n",
       "           2                                         2                                                                                \n",
       "          ⎞               3                2        ∂                        3                       ∂           ∂                    \n",
       "─(ω(r, θ))⎟  + 2⋅A(r, θ)⋅B (r, θ)⋅C(r, θ)⋅ω (r, θ)⋅───(A(r, θ)) - 2⋅A(r, θ)⋅B (r, θ)⋅C(r, θ)⋅ω(r, θ)⋅──(A(r, θ))⋅──(ω(r, θ)) - 2⋅A(r, \n",
       "r         ⎠                                          2                                               ∂θ          ∂θ                   \n",
       "                                                   ∂θ                                                                                 \n",
       "──────────────────────────────────────────────────────────────────────────────────────────────────────────────────────────────────────\n",
       "    2          2      ⎞  3        3                                                                                                   \n",
       "θ)⋅D (r, θ) + ω (r, θ)⎠⋅B (r, θ)⋅C (r, θ)                                                                                             \n",
       "\n",
       "                                                                                                                                      \n",
       "    3        2       ∂           ∂                        2                2       ∂           ∂                                3     \n",
       "θ)⋅B (r, θ)⋅ω (r, θ)⋅──(A(r, θ))⋅──(C(r, θ)) + 2⋅A(r, θ)⋅B (r, θ)⋅C(r, θ)⋅ω (r, θ)⋅──(A(r, θ))⋅──(B(r, θ)) + 2⋅A(r, θ)⋅B(r, θ)⋅C (r, θ\n",
       "                     ∂θ          ∂θ                                                ∂θ          ∂θ                                     \n",
       "                                                                                                                                      \n",
       "──────────────────────────────────────────────────────────────────────────────────────────────────────────────────────────────────────\n",
       "                                                                                                                                      \n",
       "                                                                                                                                      \n",
       "\n",
       "             2                                                                                                                        \n",
       "   2        ∂                                3               ∂           ∂                                2        2       ∂          \n",
       ")⋅ω (r, θ)⋅───(A(r, θ)) - 2⋅A(r, θ)⋅B(r, θ)⋅C (r, θ)⋅ω(r, θ)⋅──(A(r, θ))⋅──(ω(r, θ)) + 2⋅A(r, θ)⋅B(r, θ)⋅C (r, θ)⋅ω (r, θ)⋅──(A(r, θ))\n",
       "             2                                               ∂r          ∂r                                                ∂r         \n",
       "           ∂r                                                                                                                         \n",
       "──────────────────────────────────────────────────────────────────────────────────────────────────────────────────────────────────────\n",
       "                                                                                                                                      \n",
       "                                                                                                                                      \n",
       "\n",
       "                                                                                                              2                       \n",
       " ∂                        3        2       ∂           ∂                3                2       ⎛∂          ⎞               3        \n",
       "⋅──(C(r, θ)) - 2⋅A(r, θ)⋅C (r, θ)⋅ω (r, θ)⋅──(A(r, θ))⋅──(B(r, θ)) + 2⋅B (r, θ)⋅C(r, θ)⋅ω (r, θ)⋅⎜──(A(r, θ))⎟  + 2⋅B(r, θ)⋅C (r, θ)⋅ω\n",
       " ∂r                                        ∂r          ∂r                                        ⎝∂θ         ⎠                        \n",
       "                                                                                                                                      \n",
       "──────────────────────────────────────────────────────────────────────────────────────────────────────────────────────────────────────\n",
       "                                                                                                                                      \n",
       "                                                                                                                                      \n",
       "\n",
       "                     2⎞        \n",
       "2       ⎛∂          ⎞ ⎟        \n",
       " (r, θ)⋅⎜──(A(r, θ))⎟ ⎟⋅ω(r, θ)\n",
       "        ⎝∂r         ⎠ ⎟        \n",
       "                      ⎠        \n",
       "───────────────────────────────\n",
       "                               \n",
       "                               "
      ]
     },
     "execution_count": 44,
     "metadata": {},
     "output_type": "execute_result"
    }
   ],
   "source": [
    "Cud=pt.ten(\"Cud\",4)\n",
    "#Cud.assign( R(\"^nu,_alpha,_beta,_mu\") - Ric(\"^nu,_beta\")*g(\"_alpha,_mu\")/2  \\\n",
    "#           + Ric(\"_alpha,_beta\")*KD(\"^nu,_mu\")/2 - Ric(\"_alpha,_mu\")*KD(\"^nu,_beta\")/2 \\\n",
    "#           + Ric(\"^nu,_mu\")*g(\"_alpha,_beta\")/2  \\\n",
    "#           + Res*(KD(\"^nu,_beta\")*g(\"_alpha,_mu\") - g(\"_alpha,_beta\")*KD(\"^nu,_mu\"))/6, \"^nu,_alpha,_beta,_mu\")      \n",
    "#\n",
    "Cud.assign(R(\"_alpha,_beta,_mu,_nu\") \\\n",
    "           - g(\"_alpha,_mu\")*Ric(\"_nu,_beta\")/2 \\\n",
    "           + g(\"_alpha,_nu\")*Ric(\"_mu,_beta\")/2 \\\n",
    "           + g(\"_beta,_mu\")*Ric(\"_nu,_alpha\")/2 \\\n",
    "           + g(\"_beta,_nu\")*Ric(\"_mu,_alpha\")/2 \\\n",
    "           + Res*(g(\"_alpha,_mu\")*g(\"_nu,_beta\")/2 - g(\"_alpha,_nu\")*g(\"_mu,_beta\")/2 )/3 , \"_alpha,_beta,_mu,_nu\")\n",
    "Cud.simplify()\n",
    "#Cud.complete('^,_,_,_')\n",
    "Cud(\"_0,_0,_0,_3\")"
   ]
  },
  {
   "cell_type": "code",
   "execution_count": 45,
   "id": "70b547b0",
   "metadata": {},
   "outputs": [],
   "source": [
    "Ed = pt.ten(\"Ed\",4) \n",
    "Ed.assign(Cud(\"_alpha,_beta,_mu,_nu\")-R(\"_alpha,_beta,_mu,_nu\")  ,\"_alpha,_beta,_mu,_nu\")\n",
    "Ed.simplify()\n",
    "#Ed.display()"
   ]
  },
  {
   "cell_type": "markdown",
   "id": "fee34fa4",
   "metadata": {},
   "source": [
    "## Electric part of Weyl tensor\n",
    "$$\n",
    "\\begin{aligned}\n",
    "E_{\\alpha \\beta} &=E_{1} K_{\\alpha} K_{\\beta}+E_{2} L_{\\alpha} L_{\\beta}-\\left(E_{1}+E_{2}\\right) S_{\\alpha} S_{\\beta} +E_{3} K_{(\\alpha} L_{\\beta)}+E_{4} K_{(\\alpha} S_{\\beta)}+E_{5} L_{(\\alpha} S_{\\beta)} \\\\\n",
    "E_{\\alpha \\beta} &=a_{\\alpha} a_{\\beta}+h_{(\\alpha}^{\\mu} h_{\\beta)}^{\\nu} a_{\\nu ; \\mu}+\\Omega^{2} h_{\\alpha \\beta}-\\Omega_{\\alpha} \\Omega_{\\beta}\n",
    "\\end{aligned}\n",
    "$$"
   ]
  },
  {
   "cell_type": "code",
   "execution_count": 46,
   "id": "9d9ba186",
   "metadata": {},
   "outputs": [
    {
     "data": {
      "image/png": "[encoded data removed]",
      "text/latex": [
       "$\\displaystyle \\frac{2 A^{3}{\\left(r,\\theta \\right)} B^{3}{\\left(r,\\theta \\right)} C{\\left(r,\\theta \\right)} D^{2}{\\left(r,\\theta \\right)} \\frac{\\partial^{2}}{\\partial \\theta^{2}} A{\\left(r,\\theta \\right)} + 2 A^{3}{\\left(r,\\theta \\right)} B^{3}{\\left(r,\\theta \\right)} C{\\left(r,\\theta \\right)} D{\\left(r,\\theta \\right)} \\frac{\\partial}{\\partial \\theta} A{\\left(r,\\theta \\right)} \\frac{\\partial}{\\partial \\theta} D{\\left(r,\\theta \\right)} - 2 A^{3}{\\left(r,\\theta \\right)} B^{3}{\\left(r,\\theta \\right)} D^{2}{\\left(r,\\theta \\right)} \\frac{\\partial}{\\partial \\theta} A{\\left(r,\\theta \\right)} \\frac{\\partial}{\\partial \\theta} C{\\left(r,\\theta \\right)} + 2 A^{3}{\\left(r,\\theta \\right)} B^{2}{\\left(r,\\theta \\right)} C{\\left(r,\\theta \\right)} D^{2}{\\left(r,\\theta \\right)} \\frac{\\partial}{\\partial \\theta} A{\\left(r,\\theta \\right)} \\frac{\\partial}{\\partial \\theta} B{\\left(r,\\theta \\right)} + 2 A^{3}{\\left(r,\\theta \\right)} B{\\left(r,\\theta \\right)} C^{3}{\\left(r,\\theta \\right)} D^{2}{\\left(r,\\theta \\right)} \\frac{\\partial^{2}}{\\partial r^{2}} A{\\left(r,\\theta \\right)} + 2 A^{3}{\\left(r,\\theta \\right)} B{\\left(r,\\theta \\right)} C^{3}{\\left(r,\\theta \\right)} D{\\left(r,\\theta \\right)} \\frac{\\partial}{\\partial r} A{\\left(r,\\theta \\right)} \\frac{\\partial}{\\partial r} D{\\left(r,\\theta \\right)} + 2 A^{3}{\\left(r,\\theta \\right)} B{\\left(r,\\theta \\right)} C^{2}{\\left(r,\\theta \\right)} D^{2}{\\left(r,\\theta \\right)} \\frac{\\partial}{\\partial r} A{\\left(r,\\theta \\right)} \\frac{\\partial}{\\partial r} C{\\left(r,\\theta \\right)} - 2 A^{3}{\\left(r,\\theta \\right)} C^{3}{\\left(r,\\theta \\right)} D^{2}{\\left(r,\\theta \\right)} \\frac{\\partial}{\\partial r} A{\\left(r,\\theta \\right)} \\frac{\\partial}{\\partial r} B{\\left(r,\\theta \\right)} + A^{2}{\\left(r,\\theta \\right)} B^{3}{\\left(r,\\theta \\right)} C{\\left(r,\\theta \\right)} \\left(\\frac{\\partial}{\\partial \\theta} \\omega{\\left(r,\\theta \\right)}\\right)^{2} + A^{2}{\\left(r,\\theta \\right)} B{\\left(r,\\theta \\right)} C^{3}{\\left(r,\\theta \\right)} \\left(\\frac{\\partial}{\\partial r} \\omega{\\left(r,\\theta \\right)}\\right)^{2} + 2 A{\\left(r,\\theta \\right)} B^{3}{\\left(r,\\theta \\right)} C{\\left(r,\\theta \\right)} \\omega^{2}{\\left(r,\\theta \\right)} \\frac{\\partial^{2}}{\\partial \\theta^{2}} A{\\left(r,\\theta \\right)} - 2 A{\\left(r,\\theta \\right)} B^{3}{\\left(r,\\theta \\right)} C{\\left(r,\\theta \\right)} \\omega{\\left(r,\\theta \\right)} \\frac{\\partial}{\\partial \\theta} A{\\left(r,\\theta \\right)} \\frac{\\partial}{\\partial \\theta} \\omega{\\left(r,\\theta \\right)} - 2 A{\\left(r,\\theta \\right)} B^{3}{\\left(r,\\theta \\right)} \\omega^{2}{\\left(r,\\theta \\right)} \\frac{\\partial}{\\partial \\theta} A{\\left(r,\\theta \\right)} \\frac{\\partial}{\\partial \\theta} C{\\left(r,\\theta \\right)} + 2 A{\\left(r,\\theta \\right)} B^{2}{\\left(r,\\theta \\right)} C{\\left(r,\\theta \\right)} \\omega^{2}{\\left(r,\\theta \\right)} \\frac{\\partial}{\\partial \\theta} A{\\left(r,\\theta \\right)} \\frac{\\partial}{\\partial \\theta} B{\\left(r,\\theta \\right)} + 2 A{\\left(r,\\theta \\right)} B{\\left(r,\\theta \\right)} C^{3}{\\left(r,\\theta \\right)} \\omega^{2}{\\left(r,\\theta \\right)} \\frac{\\partial^{2}}{\\partial r^{2}} A{\\left(r,\\theta \\right)} - 2 A{\\left(r,\\theta \\right)} B{\\left(r,\\theta \\right)} C^{3}{\\left(r,\\theta \\right)} \\omega{\\left(r,\\theta \\right)} \\frac{\\partial}{\\partial r} A{\\left(r,\\theta \\right)} \\frac{\\partial}{\\partial r} \\omega{\\left(r,\\theta \\right)} + 2 A{\\left(r,\\theta \\right)} B{\\left(r,\\theta \\right)} C^{2}{\\left(r,\\theta \\right)} \\omega^{2}{\\left(r,\\theta \\right)} \\frac{\\partial}{\\partial r} A{\\left(r,\\theta \\right)} \\frac{\\partial}{\\partial r} C{\\left(r,\\theta \\right)} - 2 A{\\left(r,\\theta \\right)} C^{3}{\\left(r,\\theta \\right)} \\omega^{2}{\\left(r,\\theta \\right)} \\frac{\\partial}{\\partial r} A{\\left(r,\\theta \\right)} \\frac{\\partial}{\\partial r} B{\\left(r,\\theta \\right)} + 2 B^{3}{\\left(r,\\theta \\right)} C{\\left(r,\\theta \\right)} \\omega^{2}{\\left(r,\\theta \\right)} \\left(\\frac{\\partial}{\\partial \\theta} A{\\left(r,\\theta \\right)}\\right)^{2} + 2 B{\\left(r,\\theta \\right)} C^{3}{\\left(r,\\theta \\right)} \\omega^{2}{\\left(r,\\theta \\right)} \\left(\\frac{\\partial}{\\partial r} A{\\left(r,\\theta \\right)}\\right)^{2}}{2 \\left(A^{2}{\\left(r,\\theta \\right)} D^{2}{\\left(r,\\theta \\right)} + \\omega^{2}{\\left(r,\\theta \\right)}\\right) A^{2}{\\left(r,\\theta \\right)} B^{3}{\\left(r,\\theta \\right)} C^{3}{\\left(r,\\theta \\right)}}$"
      ],
      "text/plain": [
       "                                       2                                                                                              \n",
       "   3        3                2        ∂                3        3                       ∂           ∂                3        3       \n",
       "2⋅A (r, θ)⋅B (r, θ)⋅C(r, θ)⋅D (r, θ)⋅───(A(r, θ)) + 2⋅A (r, θ)⋅B (r, θ)⋅C(r, θ)⋅D(r, θ)⋅──(A(r, θ))⋅──(D(r, θ)) - 2⋅A (r, θ)⋅B (r, θ)⋅\n",
       "                                       2                                                ∂θ          ∂θ                                \n",
       "                                     ∂θ                                                                                               \n",
       "──────────────────────────────────────────────────────────────────────────────────────────────────────────────────────────────────────\n",
       "                                                                                                                                      \n",
       "                                                                                                                                      \n",
       "\n",
       "                                                                                                                                      \n",
       " 2       ∂           ∂                3        2                2       ∂           ∂                3                3        2      \n",
       "D (r, θ)⋅──(A(r, θ))⋅──(C(r, θ)) + 2⋅A (r, θ)⋅B (r, θ)⋅C(r, θ)⋅D (r, θ)⋅──(A(r, θ))⋅──(B(r, θ)) + 2⋅A (r, θ)⋅B(r, θ)⋅C (r, θ)⋅D (r, θ)\n",
       "         ∂θ          ∂θ                                                 ∂θ          ∂θ                                                \n",
       "                                                                                                                                      \n",
       "──────────────────────────────────────────────────────────────────────────────────────────────────────────────────────────────────────\n",
       "                                                                                                                                      \n",
       "                                                                                                                                      \n",
       "\n",
       "   2                                                                                                                                  \n",
       "  ∂                3                3               ∂           ∂                3                2        2       ∂           ∂      \n",
       "⋅───(A(r, θ)) + 2⋅A (r, θ)⋅B(r, θ)⋅C (r, θ)⋅D(r, θ)⋅──(A(r, θ))⋅──(D(r, θ)) + 2⋅A (r, θ)⋅B(r, θ)⋅C (r, θ)⋅D (r, θ)⋅──(A(r, θ))⋅──(C(r,\n",
       "   2                                                ∂r          ∂r                                                 ∂r          ∂r     \n",
       " ∂r                                                                                                                                   \n",
       "──────────────────────────────────────────────────────────────────────────────────────────────────────────────────────────────────────\n",
       "                                                                                                                                      \n",
       "                                                                                                                                      \n",
       "\n",
       "                                                                                                     2                                \n",
       "          3        3        2       ∂           ∂              2        3               ⎛∂          ⎞     2                3       ⎛∂ \n",
       " θ)) - 2⋅A (r, θ)⋅C (r, θ)⋅D (r, θ)⋅──(A(r, θ))⋅──(B(r, θ)) + A (r, θ)⋅B (r, θ)⋅C(r, θ)⋅⎜──(ω(r, θ))⎟  + A (r, θ)⋅B(r, θ)⋅C (r, θ)⋅⎜──\n",
       "                                    ∂r          ∂r                                      ⎝∂θ         ⎠                              ⎝∂r\n",
       "                                                                                                                                      \n",
       "──────────────────────────────────────────────────────────────────────────────────────────────────────────────────────────────────────\n",
       "                                                                                                                     ⎛ 2        2     \n",
       "                                                                                                                   2⋅⎝A (r, θ)⋅D (r, θ\n",
       "\n",
       "          2                                         2                                                                                 \n",
       "         ⎞               3                2        ∂                        3                       ∂           ∂                     \n",
       "(ω(r, θ))⎟  + 2⋅A(r, θ)⋅B (r, θ)⋅C(r, θ)⋅ω (r, θ)⋅───(A(r, θ)) - 2⋅A(r, θ)⋅B (r, θ)⋅C(r, θ)⋅ω(r, θ)⋅──(A(r, θ))⋅──(ω(r, θ)) - 2⋅A(r, θ\n",
       "         ⎠                                          2                                               ∂θ          ∂θ                    \n",
       "                                                  ∂θ                                                                                  \n",
       "──────────────────────────────────────────────────────────────────────────────────────────────────────────────────────────────────────\n",
       "     2      ⎞  2        3        3                                                                                                    \n",
       ") + ω (r, θ)⎠⋅A (r, θ)⋅B (r, θ)⋅C (r, θ)                                                                                              \n",
       "\n",
       "                                                                                                                                      \n",
       "   3        2       ∂           ∂                        2                2       ∂           ∂                                3      \n",
       ")⋅B (r, θ)⋅ω (r, θ)⋅──(A(r, θ))⋅──(C(r, θ)) + 2⋅A(r, θ)⋅B (r, θ)⋅C(r, θ)⋅ω (r, θ)⋅──(A(r, θ))⋅──(B(r, θ)) + 2⋅A(r, θ)⋅B(r, θ)⋅C (r, θ)\n",
       "                    ∂θ          ∂θ                                                ∂θ          ∂θ                                      \n",
       "                                                                                                                                      \n",
       "──────────────────────────────────────────────────────────────────────────────────────────────────────────────────────────────────────\n",
       "                                                                                                                                      \n",
       "                                                                                                                                      \n",
       "\n",
       "            2                                                                                                                         \n",
       "  2        ∂                                3               ∂           ∂                                2        2       ∂           \n",
       "⋅ω (r, θ)⋅───(A(r, θ)) - 2⋅A(r, θ)⋅B(r, θ)⋅C (r, θ)⋅ω(r, θ)⋅──(A(r, θ))⋅──(ω(r, θ)) + 2⋅A(r, θ)⋅B(r, θ)⋅C (r, θ)⋅ω (r, θ)⋅──(A(r, θ))⋅\n",
       "            2                                               ∂r          ∂r                                                ∂r          \n",
       "          ∂r                                                                                                                          \n",
       "──────────────────────────────────────────────────────────────────────────────────────────────────────────────────────────────────────\n",
       "                                                                                                                                      \n",
       "                                                                                                                                      \n",
       "\n",
       "                                                                                                             2                        \n",
       "∂                        3        2       ∂           ∂                3                2       ⎛∂          ⎞               3        2\n",
       "──(C(r, θ)) - 2⋅A(r, θ)⋅C (r, θ)⋅ω (r, θ)⋅──(A(r, θ))⋅──(B(r, θ)) + 2⋅B (r, θ)⋅C(r, θ)⋅ω (r, θ)⋅⎜──(A(r, θ))⎟  + 2⋅B(r, θ)⋅C (r, θ)⋅ω \n",
       "∂r                                        ∂r          ∂r                                        ⎝∂θ         ⎠                         \n",
       "                                                                                                                                      \n",
       "──────────────────────────────────────────────────────────────────────────────────────────────────────────────────────────────────────\n",
       "                                                                                                                                      \n",
       "                                                                                                                                      \n",
       "\n",
       "                    2\n",
       "       ⎛∂          ⎞ \n",
       "(r, θ)⋅⎜──(A(r, θ))⎟ \n",
       "       ⎝∂r         ⎠ \n",
       "                     \n",
       "─────────────────────\n",
       "                     \n",
       "                     "
      ]
     },
     "execution_count": 46,
     "metadata": {},
     "output_type": "execute_result"
    }
   ],
   "source": [
    "E1= -a2*j1+a1*j2+a1*j6+a2*j9 + a1**2 + a2**2 + a3**2 + 2*Omega2**2 + 2*Omega3**2 + Kd(\"_mu\")*Dca1(\"^mu\") + Ld(\"_mu\")*Dca2(\"^mu\")\n",
    "E1.factor()"
   ]
  },
  {
   "cell_type": "code",
   "execution_count": 47,
   "id": "445717e2",
   "metadata": {},
   "outputs": [],
   "source": [
    "EdS = pt.ten(\"EdS\",2) \n",
    "EdS.assign(ad(\"_alpha\")*ad(\"_beta\") + \\\n",
    "           ((hdd(\"^mu,_alpha\")*hdd(\"^nu,_beta\") + hdd(\"_alpha,^mu\")*hdd(\"_beta,^nu\"))/2 )*Dcad(\"_nu,_mu\") +\\\n",
    "           Omega**2*hdd(\"_alpha,_beta\") - Omd(\"_alpha\")*Omd(\"_beta\"),\"_alpha,_beta\")\n",
    "EdS.simplify()\n",
    "#EdS.display(aslist=True)"
   ]
  },
  {
   "cell_type": "code",
   "execution_count": 48,
   "id": "295415d5",
   "metadata": {},
   "outputs": [],
   "source": [
    "EdS2 = pt.ten(\"EdS2\",2) \n",
    "EdS.assign(Cud(\"_alpha,_beta,_mu,_nu\")*Vu(\"^mu\")*Vu(\"^nu\") ,\"_alpha,_beta\")\n",
    "EdS.simplify()"
   ]
  },
  {
   "cell_type": "code",
   "execution_count": null,
   "id": "3f8c1d21",
   "metadata": {},
   "outputs": [],
   "source": []
  },
  {
   "cell_type": "code",
   "execution_count": null,
   "id": "12dae7ca",
   "metadata": {},
   "outputs": [],
   "source": []
  }
 ],
 "metadata": {
  "kernelspec": {
   "display_name": "Python 3 (ipykernel)",
   "language": "python",
   "name": "python3"
  },
  "language_info": {
   "codemirror_mode": {
    "name": "ipython",
    "version": 3
   },
   "file_extension": ".py",
   "mimetype": "text/x-python",
   "name": "python",
   "nbconvert_exporter": "python",
   "pygments_lexer": "ipython3",
   "version": "3.8.12"
  }
 },
 "nbformat": 4,
 "nbformat_minor": 5
}
