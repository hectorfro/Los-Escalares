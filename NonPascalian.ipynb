{
 "cells": [
  {
   "cell_type": "code",
   "execution_count": 1,
   "id": "055aea90",
   "metadata": {},
   "outputs": [],
   "source": [
    "#### Versión del 16/8/2022 ##### \n",
    "import pytearcat as pt\n",
    "import sympy as sy\n",
    "from sympy import * "
   ]
  },
  {
   "cell_type": "markdown",
   "id": "f5d30c7b",
   "metadata": {},
   "source": [
    "### Metric\n"
   ]
  },
  {
   "cell_type": "code",
   "execution_count": 34,
   "id": "4bf547c2",
   "metadata": {
    "scrolled": true
   },
   "outputs": [
    {
     "name": "stdout",
     "output_type": "stream",
     "text": [
      "Remember that the time coordinate must be the first coordinate.\n",
      "Function A(t,r) is already defined\n",
      "Function B(t,r) is already defined\n",
      "Function C(t,r) is already defined\n"
     ]
    }
   ],
   "source": [
    "t,r,theta,phi = pt.coords('t,r,theta,phi')\n",
    "\n",
    "A = pt.fun('A','t,r')\n",
    "B = pt.fun('B','t,r')\n",
    "C = pt.fun('C','t,r')\n",
    "\n",
    "rho = pt.fun('rho','t,r')\n",
    "P = pt.fun('P','t,r')\n",
    "#Pt = pt.fun('Pt','t,r')\n",
    "Delta = pt.fun('Delta','t,r')\n",
    "#Delta=0\n",
    "F = pt.fun('F','t,r')\n",
    "E = pt.fun('E','t,r')"
   ]
  },
  {
   "cell_type": "code",
   "execution_count": 3,
   "id": "45b20ced",
   "metadata": {},
   "outputs": [
    {
     "name": "stdout",
     "output_type": "stream",
     "text": [
      "\n",
      "Dimension = 4\n",
      "Coordinates = t,r,theta,phi\n",
      "Metric defined successfully: \n",
      "\n"
     ]
    },
    {
     "data": {
      "text/latex": [
       "$\\displaystyle ds^2 = - A^{2}{\\left(t,r \\right)} \\cdot dt^2+B^{2}{\\left(t,r \\right)} \\cdot dr^2+C^{2}{\\left(t,r \\right)} \\cdot d\\theta^2+C^{2}{\\left(t,r \\right)} \\sin^{2}{\\left(\\theta \\right)} \\cdot d\\phi^2$"
      ],
      "text/plain": [
       "<IPython.core.display.Math object>"
      ]
     },
     "metadata": {},
     "output_type": "display_data"
    },
    {
     "data": {
      "text/latex": [
       "$\\displaystyle \\left[\\begin{matrix}- A^{2}{\\left(t,r \\right)} & 0 & 0 & 0\\\\0 & B^{2}{\\left(t,r \\right)} & 0 & 0\\\\0 & 0 & C^{2}{\\left(t,r \\right)} & 0\\\\0 & 0 & 0 & C^{2}{\\left(t,r \\right)} \\sin^{2}{\\left(\\theta \\right)}\\end{matrix}\\right]$"
      ],
      "text/plain": [
       "Matrix([\n",
       "[-A(t, r)**2,          0,          0,                        0],\n",
       "[          0, B(t, r)**2,          0,                        0],\n",
       "[          0,          0, C(t, r)**2,                        0],\n",
       "[          0,          0,          0, C(t, r)**2*sin(theta)**2]])"
      ]
     },
     "metadata": {},
     "output_type": "display_data"
    }
   ],
   "source": [
    "ds = 'ds2 = -A**2*dt**2 + B**2*dr**2 + C**2 * (dtheta**2 + sin(theta)**2 * dphi**2)'\n",
    "g = pt.metric(ds)"
   ]
  },
  {
   "cell_type": "markdown",
   "id": "a1deed06",
   "metadata": {},
   "source": [
    "### The tetrad: the kinematical variables\n",
    "\n",
    "Let us choose an orthogonal unitary tetrad:\n",
    "$$\n",
    "e^{(0)}_\\alpha~=V_\\alpha, \\quad \n",
    "e^{(1)}_\\alpha~=K_\\alpha, \\quad \n",
    "e^{(2)}_\\alpha~=L_\\alpha \\quad \\mathrm{and}  \\quad e^{(3)}_\\alpha~=~S_\\alpha.\n",
    "$$\n"
   ]
  },
  {
   "cell_type": "code",
   "execution_count": 4,
   "id": "04b04d61",
   "metadata": {
    "scrolled": true
   },
   "outputs": [
    {
     "name": "stdout",
     "output_type": "stream",
     "text": [
      "Elements assigned correctly to the ^ components\n",
      "Elements assigned correctly to the ^ components\n",
      "Elements assigned correctly to the ^ components\n",
      "Elements assigned correctly to the ^ components\n"
     ]
    }
   ],
   "source": [
    "Vu = pt.ten('Vu',1)\n",
    "Vu.assign([1/A,0,0,0],'^')\n",
    "Ku = pt.ten('Ku',1)\n",
    "Ku.assign([0,1/B,0,0],'^')\n",
    "Lu = pt.ten('Lu',1)\n",
    "Lu.assign([0,0,1/C,0],'^')\n",
    "Su = pt.ten('Su',1)\n",
    "Su.assign([0,0,0,1/(C*sy.sin(theta))],'^')"
   ]
  },
  {
   "cell_type": "code",
   "execution_count": 5,
   "id": "1aff4eac",
   "metadata": {
    "scrolled": true
   },
   "outputs": [
    {
     "name": "stdout",
     "output_type": "stream",
     "text": [
      "Elements assigned correctly to the _b components\n"
     ]
    },
    {
     "data": {
      "image/png": "[encoded data removed]",
      "text/latex": [
       "$\\displaystyle \\left[\\begin{matrix}- A{\\left(t,r \\right)} & 0 & 0 & 0\\end{matrix}\\right]$"
      ],
      "text/plain": [
       "[-A(t, r)  0  0  0]"
      ]
     },
     "metadata": {},
     "output_type": "display_data"
    },
    {
     "name": "stdout",
     "output_type": "stream",
     "text": [
      "Elements assigned correctly to the _b components\n"
     ]
    },
    {
     "data": {
      "image/png": "[encoded data removed]",
      "text/latex": [
       "$\\displaystyle \\left[\\begin{matrix}0 & B{\\left(t,r \\right)} & 0 & 0\\end{matrix}\\right]$"
      ],
      "text/plain": [
       "[0  B(t, r)  0  0]"
      ]
     },
     "metadata": {},
     "output_type": "display_data"
    },
    {
     "name": "stdout",
     "output_type": "stream",
     "text": [
      "Elements assigned correctly to the _b components\n"
     ]
    },
    {
     "data": {
      "image/png": "[encoded data removed]",
      "text/latex": [
       "$\\displaystyle \\left[\\begin{matrix}0 & 0 & C{\\left(t,r \\right)} & 0\\end{matrix}\\right]$"
      ],
      "text/plain": [
       "[0  0  C(t, r)  0]"
      ]
     },
     "metadata": {},
     "output_type": "display_data"
    },
    {
     "name": "stdout",
     "output_type": "stream",
     "text": [
      "Elements assigned correctly to the _b components\n"
     ]
    },
    {
     "data": {
      "image/png": "[encoded data removed]",
      "text/latex": [
       "$\\displaystyle \\left[\\begin{matrix}0 & 0 & 0 & C{\\left(t,r \\right)} \\sin{\\left(\\theta \\right)}\\end{matrix}\\right]$"
      ],
      "text/plain": [
       "[0  0  0  C(t, r)⋅sin(θ)]"
      ]
     },
     "metadata": {},
     "output_type": "display_data"
    }
   ],
   "source": [
    "Vd = pt.ten('Vd',1)\n",
    "Vd.assign(Vu(\"^a\")*g(\"_a,_b\"),\"_b\")\n",
    "Vd.display('_')\n",
    "\n",
    "Kd = pt.ten('Kd',1)\n",
    "Kd.assign(Ku(\"^a\")*g(\"_a,_b\"),\"_b\")\n",
    "Kd.simplify()\n",
    "Kd.display('_')\n",
    "\n",
    "Ld = pt.ten('Ld',1)\n",
    "Ld.assign(Lu(\"^a\")*g(\"_a,_b\"),\"_b\")\n",
    "Ld.simplify()\n",
    "Ld.display('_')\n",
    "\n",
    "Sd = pt.ten('Sd',1)\n",
    "Sd.assign(Su(\"^a\")*g(\"_a,_b\"),\"_b\")\n",
    "Sd.simplify()\n",
    "Sd.display('_')"
   ]
  },
  {
   "cell_type": "code",
   "execution_count": 6,
   "id": "a38a479e",
   "metadata": {},
   "outputs": [
    {
     "data": {
      "image/png": "[encoded data removed]",
      "text/latex": [
       "$\\displaystyle \\left[ -1, \\  -1, \\  -1, \\  -1\\right]$"
      ],
      "text/plain": [
       "[-1, -1, -1, -1]"
      ]
     },
     "execution_count": 6,
     "metadata": {},
     "output_type": "execute_result"
    }
   ],
   "source": [
    "unoV = pt.simplify((Vu('^l')*Vd('_l')))\n",
    "unoK = pt.simplify(-1*Ku('^l')*Kd('_l'))\n",
    "unoL = pt.simplify(-1*Lu('^l')*Ld('_l'))\n",
    "unoS = pt.simplify(-1*Su('^l')*Sd('_l'))\n",
    "[unoV,unoK,unoL,unoS]"
   ]
  },
  {
   "cell_type": "code",
   "execution_count": 7,
   "id": "7725cffc",
   "metadata": {},
   "outputs": [
    {
     "data": {
      "image/png": "[encoded data removed]",
      "text/latex": [
       "$\\displaystyle \\left[ 0, \\  0, \\  0, \\  0, \\  0, \\  0\\right]$"
      ],
      "text/plain": [
       "[0, 0, 0, 0, 0, 0]"
      ]
     },
     "execution_count": 7,
     "metadata": {},
     "output_type": "execute_result"
    }
   ],
   "source": [
    "cero1 = pt.simplify(-1*Vu('^l')*Kd('_l'))\n",
    "cero2 = pt.simplify(-1*Vu('^l')*Ld('_l'))\n",
    "cero3 = pt.simplify(-1*Vu('^l')*Sd('_l'))\n",
    "cero4 = pt.simplify(-1*Ku('^l')*Sd('_l'))\n",
    "cero5 = pt.simplify(-1*Ku('^l')*Ld('_l'))\n",
    "cero6 = pt.simplify(-1*Lu('^l')*Sd('_l'))\n",
    "[cero1,cero2,cero3,cero4,cero5,cero6]"
   ]
  },
  {
   "cell_type": "markdown",
   "id": "741633d8",
   "metadata": {},
   "source": [
    "### Christoffel"
   ]
  },
  {
   "cell_type": "code",
   "execution_count": 8,
   "id": "ffd49e0a",
   "metadata": {},
   "outputs": [
    {
     "data": {
      "text/latex": [
       "Christoffel $\\Gamma_{\\alpha \\beta \\gamma}$ and $\\Gamma^{\\alpha}_{\\beta \\gamma}$"
      ],
      "text/plain": [
       "<IPython.core.display.Latex object>"
      ]
     },
     "metadata": {},
     "output_type": "display_data"
    },
    {
     "data": {
      "application/vnd.jupyter.widget-view+json": {
       "model_id": "f1a6a9a96ef14620ace335e5b73b8568",
       "version_major": 2,
       "version_minor": 0
      },
      "text/plain": [
       "  0%|          | 0/64 [00:00<?, ?it/s]"
      ]
     },
     "metadata": {},
     "output_type": "display_data"
    }
   ],
   "source": [
    "Chr= pt.christoffel()"
   ]
  },
  {
   "cell_type": "code",
   "execution_count": 9,
   "id": "3019037b",
   "metadata": {},
   "outputs": [
    {
     "data": {
      "text/latex": [
       "Riemann Tensor $R^{\\alpha}_{\\beta \\gamma \\delta}$"
      ],
      "text/plain": [
       "<IPython.core.display.Latex object>"
      ]
     },
     "metadata": {},
     "output_type": "display_data"
    },
    {
     "data": {
      "application/vnd.jupyter.widget-view+json": {
       "model_id": "662cbec9416d4e61a39fffe49e844d93",
       "version_major": 2,
       "version_minor": 0
      },
      "text/plain": [
       "  0%|          | 0/256 [00:00<?, ?it/s]"
      ]
     },
     "metadata": {},
     "output_type": "display_data"
    },
    {
     "data": {
      "application/vnd.jupyter.widget-view+json": {
       "model_id": "9adcaf3611094ed5a4573bbd8a77f024",
       "version_major": 2,
       "version_minor": 0
      },
      "text/plain": [
       "Riemann Tensor $R{_\\alpha}{_\\beta}{_\\gamma}{_\\delta}$:   0%|          | 0/256 [00:00<?, ?it/s]"
      ]
     },
     "metadata": {},
     "output_type": "display_data"
    },
    {
     "data": {
      "application/vnd.jupyter.widget-view+json": {
       "model_id": "5c2916683b3c4e04a3d025f5a4422b70",
       "version_major": 2,
       "version_minor": 0
      },
      "text/plain": [
       "Riemann Tensor $R{^\\alpha}{^\\beta}{_\\gamma}{_\\delta}$:   0%|          | 0/256 [00:00<?, ?it/s]"
      ]
     },
     "metadata": {},
     "output_type": "display_data"
    },
    {
     "data": {
      "application/vnd.jupyter.widget-view+json": {
       "model_id": "2621eeda78f4418eba19ab1989ae01bf",
       "version_major": 2,
       "version_minor": 0
      },
      "text/plain": [
       "Riemann Tensor $R{^\\alpha}{^\\beta}{^\\gamma}{_\\delta}$:   0%|          | 0/256 [00:00<?, ?it/s]"
      ]
     },
     "metadata": {},
     "output_type": "display_data"
    },
    {
     "data": {
      "application/vnd.jupyter.widget-view+json": {
       "model_id": "41fcd50609044388b92d4db41a14e994",
       "version_major": 2,
       "version_minor": 0
      },
      "text/plain": [
       "Riemann Tensor $R{^\\alpha}{^\\beta}{^\\gamma}{^\\delta}$:   0%|          | 0/256 [00:00<?, ?it/s]"
      ]
     },
     "metadata": {},
     "output_type": "display_data"
    },
    {
     "data": {
      "application/vnd.jupyter.widget-view+json": {
       "model_id": "5d57fefd0afb41c0803ec95707ff7a4e",
       "version_major": 2,
       "version_minor": 0
      },
      "text/plain": [
       "Riemann Tensor $R{^\\alpha}{^\\beta}{_\\gamma}{^\\delta}$:   0%|          | 0/256 [00:00<?, ?it/s]"
      ]
     },
     "metadata": {},
     "output_type": "display_data"
    },
    {
     "data": {
      "application/vnd.jupyter.widget-view+json": {
       "model_id": "f0474adfa9ba47b082bd6e0c097361b7",
       "version_major": 2,
       "version_minor": 0
      },
      "text/plain": [
       "Riemann Tensor $R{^\\alpha}{_\\beta}{^\\gamma}{_\\delta}$:   0%|          | 0/256 [00:00<?, ?it/s]"
      ]
     },
     "metadata": {},
     "output_type": "display_data"
    },
    {
     "data": {
      "application/vnd.jupyter.widget-view+json": {
       "model_id": "72350de0e4c94ed885541ede938b19a0",
       "version_major": 2,
       "version_minor": 0
      },
      "text/plain": [
       "Riemann Tensor $R{^\\alpha}{_\\beta}{^\\gamma}{^\\delta}$:   0%|          | 0/256 [00:00<?, ?it/s]"
      ]
     },
     "metadata": {},
     "output_type": "display_data"
    },
    {
     "data": {
      "application/vnd.jupyter.widget-view+json": {
       "model_id": "27e871721a2443f6afb0f885015e16eb",
       "version_major": 2,
       "version_minor": 0
      },
      "text/plain": [
       "Riemann Tensor $R{^\\alpha}{_\\beta}{_\\gamma}{^\\delta}$:   0%|          | 0/256 [00:00<?, ?it/s]"
      ]
     },
     "metadata": {},
     "output_type": "display_data"
    },
    {
     "data": {
      "application/vnd.jupyter.widget-view+json": {
       "model_id": "f91b1847cd25488ca8ea926857f0388e",
       "version_major": 2,
       "version_minor": 0
      },
      "text/plain": [
       "Riemann Tensor $R{_\\alpha}{^\\beta}{_\\gamma}{_\\delta}$:   0%|          | 0/256 [00:00<?, ?it/s]"
      ]
     },
     "metadata": {},
     "output_type": "display_data"
    },
    {
     "data": {
      "application/vnd.jupyter.widget-view+json": {
       "model_id": "d770ed7a89eb4703b273bb67b32e784c",
       "version_major": 2,
       "version_minor": 0
      },
      "text/plain": [
       "Riemann Tensor $R{_\\alpha}{^\\beta}{^\\gamma}{_\\delta}$:   0%|          | 0/256 [00:00<?, ?it/s]"
      ]
     },
     "metadata": {},
     "output_type": "display_data"
    },
    {
     "data": {
      "application/vnd.jupyter.widget-view+json": {
       "model_id": "7a93c6b781f74bfd8ec704cb3d123415",
       "version_major": 2,
       "version_minor": 0
      },
      "text/plain": [
       "Riemann Tensor $R{_\\alpha}{^\\beta}{^\\gamma}{^\\delta}$:   0%|          | 0/256 [00:00<?, ?it/s]"
      ]
     },
     "metadata": {},
     "output_type": "display_data"
    },
    {
     "data": {
      "application/vnd.jupyter.widget-view+json": {
       "model_id": "3be10f84bb5e44978e01b95276517775",
       "version_major": 2,
       "version_minor": 0
      },
      "text/plain": [
       "Riemann Tensor $R{_\\alpha}{^\\beta}{_\\gamma}{^\\delta}$:   0%|          | 0/256 [00:00<?, ?it/s]"
      ]
     },
     "metadata": {},
     "output_type": "display_data"
    },
    {
     "data": {
      "application/vnd.jupyter.widget-view+json": {
       "model_id": "5fb31bf4f1bf4b5cb207b5180805cefd",
       "version_major": 2,
       "version_minor": 0
      },
      "text/plain": [
       "Riemann Tensor $R{_\\alpha}{_\\beta}{^\\gamma}{_\\delta}$:   0%|          | 0/256 [00:00<?, ?it/s]"
      ]
     },
     "metadata": {},
     "output_type": "display_data"
    },
    {
     "data": {
      "application/vnd.jupyter.widget-view+json": {
       "model_id": "118bed31b4b244b09c07081202848f39",
       "version_major": 2,
       "version_minor": 0
      },
      "text/plain": [
       "Riemann Tensor $R{_\\alpha}{_\\beta}{^\\gamma}{^\\delta}$:   0%|          | 0/256 [00:00<?, ?it/s]"
      ]
     },
     "metadata": {},
     "output_type": "display_data"
    },
    {
     "data": {
      "application/vnd.jupyter.widget-view+json": {
       "model_id": "de0976c227d34200a9b858603a0961d8",
       "version_major": 2,
       "version_minor": 0
      },
      "text/plain": [
       "Riemann Tensor $R{_\\alpha}{_\\beta}{_\\gamma}{^\\delta}$:   0%|          | 0/256 [00:00<?, ?it/s]"
      ]
     },
     "metadata": {},
     "output_type": "display_data"
    },
    {
     "data": {
      "text/latex": [
       "All other indices of Riemann Tensor $R$  already calculated."
      ],
      "text/plain": [
       "<IPython.core.display.Latex object>"
      ]
     },
     "metadata": {},
     "output_type": "display_data"
    }
   ],
   "source": [
    "R = pt.riemann(All=True)"
   ]
  },
  {
   "cell_type": "markdown",
   "id": "b5680f3c",
   "metadata": {},
   "source": [
    "The first set equations can be considered purely geometrical and emerges from the projection of the Riemann tensor along the tetrad i.e.\n",
    "$$\n",
    "2 V_{\\alpha ;[\\beta ; \\gamma]}=R_{\\delta \\alpha \\beta \\gamma} V^{\\delta}, \\quad 2 K_{\\alpha ;[\\beta ; \\gamma]}=R_{\\delta \\alpha \\beta \\gamma} K^{\\delta}, \\quad 2 L_{\\alpha ;[\\beta ; \\gamma]}=R_{\\delta \\alpha \\beta \\gamma} L^{\\delta} \\quad \\text { and } \\quad 2 S_{\\alpha ;[\\beta ; \\gamma]}=R_{\\delta \\alpha \\beta \\gamma} S^{\\delta}\n",
    "$$"
   ]
  },
  {
   "cell_type": "code",
   "execution_count": 13,
   "id": "9b265fd6",
   "metadata": {},
   "outputs": [
    {
     "name": "stdout",
     "output_type": "stream",
     "text": [
      "Elements assigned correctly to the _alpha,_beta,_gamma components\n",
      "Elements assigned correctly to the _alpha,_beta,_gamma components\n",
      "Elements assigned correctly to the _alpha,_beta,_gamma components\n",
      "All components are zero\n"
     ]
    }
   ],
   "source": [
    "DeVddd = pt.ten(\"DeVddd\",3)\n",
    "DeVddd.assign(R(\"_delta,_alpha,_beta,_gamma\")*Vu(\"^delta\"),\"_alpha,_beta,_gamma\")\n",
    "DeVddd.simplify()\n",
    "#DeVddd.display('_,_,_')\n",
    "IzVddd = pt.ten(\"IzVddd\",3)\n",
    "IzVddd.assign((pt.C(pt.C(Vd(\"_alpha\"),\"_beta\"),\"_gamma\") - pt.C(pt.C(Vd(\"_alpha\"),\"_gamma\"),\"_beta\")),\"_alpha,_beta,_gamma\")\n",
    "IzVddd.simplify()\n",
    "#IzVddd.display('_,_,_')\n",
    "ceros=pt.ten(\"ceros\",3)\n",
    "ceros.assign(IzVddd('_alpha,_beta,_gamma')-DeVddd('_alpha,_beta,_gamma') ,\"_alpha,_beta,_gamma\")\n",
    "ceros.simplify()\n",
    "ceros.display('_,_,_')"
   ]
  },
  {
   "cell_type": "code",
   "execution_count": 20,
   "id": "1a16a533",
   "metadata": {},
   "outputs": [
    {
     "data": {
      "image/png": "[encoded data removed]",
      "text/latex": [
       "$\\displaystyle \\left[ \\frac{\\frac{\\partial}{\\partial r} A{\\left(t,r \\right)}}{A{\\left(t,r \\right)} B{\\left(t,r \\right)}}, \\  \\frac{\\frac{\\partial}{\\partial t} B{\\left(t,r \\right)}}{A{\\left(t,r \\right)} B{\\left(t,r \\right)}}, \\  \\frac{\\frac{\\partial}{\\partial t} C{\\left(t,r \\right)}}{A{\\left(t,r \\right)} C{\\left(t,r \\right)}}, \\  \\frac{\\frac{\\partial}{\\partial r} C{\\left(t,r \\right)}}{B{\\left(t,r \\right)} C{\\left(t,r \\right)}}, \\  \\frac{\\cot{\\left(\\theta \\right)}}{C{\\left(t,r \\right)}}\\right]$"
      ],
      "text/plain": [
       "⎡  ∂                ∂                ∂                ∂                     ⎤\n",
       "⎢  ──(A(t, r))      ──(B(t, r))      ──(C(t, r))      ──(C(t, r))           ⎥\n",
       "⎢  ∂r               ∂t               ∂t               ∂r              cot(θ)⎥\n",
       "⎢───────────────, ───────────────, ───────────────, ───────────────, ───────⎥\n",
       "⎣A(t, r)⋅B(t, r)  A(t, r)⋅B(t, r)  A(t, r)⋅C(t, r)  B(t, r)⋅C(t, r)  C(t, r)⎦"
      ]
     },
     "execution_count": 20,
     "metadata": {},
     "output_type": "execute_result"
    }
   ],
   "source": [
    "a1= A.diff(r)/(A*B)\n",
    "\n",
    "sigma1= B.diff(t)/(A*B)\n",
    "sigma2= C.diff(t)/(A*C)\n",
    "\n",
    "J1=C.diff(r)/(C*B)\n",
    "J2=sy.cot(theta)/C\n",
    "[a1,sigma1,sigma2,J1,J2]"
   ]
  },
  {
   "cell_type": "markdown",
   "id": "c7d524b1",
   "metadata": {},
   "source": [
    "### COVARIANT DERIVATIVE OF $V_{\\alpha}$\n",
    "$$\n",
    "V_{\\alpha ; \\beta}\n",
    "$$\n"
   ]
  },
  {
   "cell_type": "code",
   "execution_count": 11,
   "id": "8be7cbc6",
   "metadata": {},
   "outputs": [
    {
     "name": "stdout",
     "output_type": "stream",
     "text": [
      "Elements assigned correctly to the _a,_b components\n"
     ]
    },
    {
     "data": {
      "image/png": "[encoded data removed]",
      "text/latex": [
       "$\\displaystyle \\left[\\begin{matrix}0 & 0 & 0 & 0\\\\\\frac{\\partial}{\\partial r} A{\\left(t,r \\right)} & \\frac{B{\\left(t,r \\right)} \\frac{\\partial}{\\partial t} B{\\left(t,r \\right)}}{A{\\left(t,r \\right)}} & 0 & 0\\\\0 & 0 & \\frac{C{\\left(t,r \\right)} \\frac{\\partial}{\\partial t} C{\\left(t,r \\right)}}{A{\\left(t,r \\right)}} & 0\\\\0 & 0 & 0 & \\frac{C{\\left(t,r \\right)} \\sin^{2}{\\left(\\theta \\right)} \\frac{\\partial}{\\partial t} C{\\left(t,r \\right)}}{A{\\left(t,r \\right)}}\\end{matrix}\\right]$"
      ],
      "text/plain": [
       "⎡     0                0                    0                        0        \n",
       "⎢                                                                             \n",
       "⎢                     ∂                                                       \n",
       "⎢             B(t, r)⋅──(B(t, r))                                             \n",
       "⎢∂                    ∂t                                                      \n",
       "⎢──(A(t, r))  ───────────────────           0                        0        \n",
       "⎢∂r                 A(t, r)                                                   \n",
       "⎢                                                                             \n",
       "⎢                                          ∂                                  \n",
       "⎢                                  C(t, r)⋅──(C(t, r))                        \n",
       "⎢                                          ∂t                                 \n",
       "⎢     0                0           ───────────────────               0        \n",
       "⎢                                        A(t, r)                              \n",
       "⎢                                                                             \n",
       "⎢                                                                  2    ∂     \n",
       "⎢                                                       C(t, r)⋅sin (θ)⋅──(C(t\n",
       "⎢                                                                       ∂t    \n",
       "⎢     0                0                    0           ──────────────────────\n",
       "⎣                                                                 A(t, r)     \n",
       "\n",
       "     ⎤\n",
       "     ⎥\n",
       "     ⎥\n",
       "     ⎥\n",
       "     ⎥\n",
       "     ⎥\n",
       "     ⎥\n",
       "     ⎥\n",
       "     ⎥\n",
       "     ⎥\n",
       "     ⎥\n",
       "     ⎥\n",
       "     ⎥\n",
       "     ⎥\n",
       "     ⎥\n",
       ", r))⎥\n",
       "     ⎥\n",
       "─────⎥\n",
       "     ⎦"
      ]
     },
     "metadata": {},
     "output_type": "display_data"
    }
   ],
   "source": [
    "DcVd = pt.ten(\"DcVd\",2)\n",
    "DcVd_dat = pt.C(Vd(\"_a\"),\"_b\") \n",
    "DcVd.assign(DcVd_dat,\"_a,_b\")\n",
    "DcVd.factor()\n",
    "DcVd.display()\n",
    "#DcVd.complete('_,_')"
   ]
  },
  {
   "cell_type": "code",
   "execution_count": 21,
   "id": "4c081af4",
   "metadata": {},
   "outputs": [
    {
     "name": "stdout",
     "output_type": "stream",
     "text": [
      "Elements assigned correctly to the _alpha,_beta components\n"
     ]
    }
   ],
   "source": [
    "DcVdS = pt.ten('DcVdS',2)\n",
    "DcVdS.assign(-a1*Kd('_alpha')*Vd('_beta')+ sigma1*Kd('_alpha')*Kd('_beta')+ sigma2*(Ld('_alpha')*Ld('_beta')+Sd('_alpha')*Sd('_beta')) ,\"_alpha,_beta\")\n",
    "#DcVdS.display('_,_')"
   ]
  },
  {
   "cell_type": "code",
   "execution_count": 22,
   "id": "3a0adc53",
   "metadata": {},
   "outputs": [
    {
     "name": "stdout",
     "output_type": "stream",
     "text": [
      "Elements assigned correctly to the _mu,_nu components\n"
     ]
    },
    {
     "data": {
      "image/png": "[encoded data removed]",
      "text/latex": [
       "$\\displaystyle \\left[\\begin{matrix}0 & 0 & 0 & 0\\\\0 & 0 & 0 & 0\\\\0 & 0 & 0 & 0\\\\0 & 0 & 0 & 0\\end{matrix}\\right]$"
      ],
      "text/plain": [
       "⎡0  0  0  0⎤\n",
       "⎢          ⎥\n",
       "⎢0  0  0  0⎥\n",
       "⎢          ⎥\n",
       "⎢0  0  0  0⎥\n",
       "⎢          ⎥\n",
       "⎣0  0  0  0⎦"
      ]
     },
     "metadata": {},
     "output_type": "display_data"
    }
   ],
   "source": [
    "ceros1=pt.ten('ceros1',2)\n",
    "ceros1.assign(DcVd('_mu,_nu')-DcVdS('_mu,_nu') ,\"_mu,_nu\")\n",
    "ceros1.simplify()\n",
    "ceros1.display('_,_')"
   ]
  },
  {
   "cell_type": "markdown",
   "id": "e52079ce",
   "metadata": {},
   "source": [
    "$$\n",
    "a_{\\alpha}=V^{\\beta} V_{\\alpha ; \\beta}\\,, \\quad a_{\\alpha;\\beta}\n",
    "$$"
   ]
  },
  {
   "cell_type": "code",
   "execution_count": 51,
   "id": "9b71217e",
   "metadata": {},
   "outputs": [
    {
     "name": "stdout",
     "output_type": "stream",
     "text": [
      "Elements assigned correctly to the _a components\n",
      "Elements assigned correctly to the _a,_b components\n"
     ]
    },
    {
     "data": {
      "image/png": "[encoded data removed]",
      "text/latex": [
       "$\\displaystyle \\left[\\begin{matrix}0 & \\frac{\\frac{\\partial}{\\partial r} A{\\left(t,r \\right)}}{A{\\left(t,r \\right)}} & 0 & 0\\end{matrix}\\right]$"
      ],
      "text/plain": [
       "⎡   ∂                ⎤\n",
       "⎢   ──(A(t, r))      ⎥\n",
       "⎢   ∂r               ⎥\n",
       "⎢0  ───────────  0  0⎥\n",
       "⎣     A(t, r)        ⎦"
      ]
     },
     "metadata": {},
     "output_type": "display_data"
    }
   ],
   "source": [
    "# Aceleracion y su derivada covariante\n",
    "ad= pt.ten(\"ad\",1)\n",
    "ad.assign( DcVd(\"_a,_b\")*Vu(\"^b\") ,\"_a\")\n",
    "ad.simplify()\n",
    "\n",
    "Dcad = pt.ten(\"Dcad\",2)\n",
    "Dcad_dat = pt.C(ad(\"_a\"),\"_b\") \n",
    "Dcad.assign(Dcad_dat,\"_a,_b\")\n",
    "Dcad.simplify()\n",
    "ad.display('_')"
   ]
  },
  {
   "cell_type": "markdown",
   "id": "f9f2471f",
   "metadata": {},
   "source": [
    "$$\n",
    "\\Theta=V_{; \\alpha}^{\\alpha}\n",
    "$$"
   ]
  },
  {
   "cell_type": "code",
   "execution_count": 58,
   "id": "8d35dc6d",
   "metadata": {},
   "outputs": [
    {
     "data": {
      "image/png": "[encoded data removed]",
      "text/latex": [
       "$\\displaystyle \\frac{2 \\frac{\\partial}{\\partial t} C{\\left(t,r \\right)}}{A{\\left(t,r \\right)} C{\\left(t,r \\right)}} + \\frac{\\frac{\\partial}{\\partial t} B{\\left(t,r \\right)}}{A{\\left(t,r \\right)} B{\\left(t,r \\right)}}$"
      ],
      "text/plain": [
       "   ∂                ∂            \n",
       " 2⋅──(C(t, r))      ──(B(t, r))  \n",
       "   ∂t               ∂t           \n",
       "─────────────── + ───────────────\n",
       "A(t, r)⋅C(t, r)   A(t, r)⋅B(t, r)"
      ]
     },
     "metadata": {},
     "output_type": "display_data"
    }
   ],
   "source": [
    "#Expansión\n",
    "Theta=DcVd('^alpha,_alpha')\n",
    "display(Theta)"
   ]
  },
  {
   "cell_type": "code",
   "execution_count": 59,
   "id": "7c367e58",
   "metadata": {},
   "outputs": [
    {
     "data": {
      "image/png": "[encoded data removed]",
      "text/latex": [
       "$\\displaystyle \\frac{- \\frac{\\frac{\\partial}{\\partial t} C{\\left(t,r \\right)}}{C{\\left(t,r \\right)}} + \\frac{\\frac{\\partial}{\\partial t} B{\\left(t,r \\right)}}{B{\\left(t,r \\right)}}}{A{\\left(t,r \\right)}}$"
      ],
      "text/plain": [
       "  ∂             ∂          \n",
       "  ──(C(t, r))   ──(B(t, r))\n",
       "  ∂t            ∂t         \n",
       "- ─────────── + ───────────\n",
       "    C(t, r)       B(t, r)  \n",
       "───────────────────────────\n",
       "          A(t, r)          "
      ]
     },
     "metadata": {},
     "output_type": "display_data"
    }
   ],
   "source": [
    "#Shear\n",
    "sh= 1/A*(B.diff(t)/(B)-C.diff(t)/(C)  )\n",
    "display(sh)"
   ]
  },
  {
   "cell_type": "markdown",
   "id": "01a1c946",
   "metadata": {},
   "source": [
    "### COVARIANT DERIVATIVE OF: \n",
    "$$\n",
    "K_{\\alpha ; \\beta}\\,, \\quad L_{\\alpha ; \\beta} \\,, \\quad S{\\alpha ; \\beta}\n",
    "$$"
   ]
  },
  {
   "cell_type": "code",
   "execution_count": 23,
   "id": "d2e34806",
   "metadata": {},
   "outputs": [
    {
     "name": "stdout",
     "output_type": "stream",
     "text": [
      "Elements assigned correctly to the _a,_b components\n",
      "Elements assigned correctly to the _alpha,_beta components\n",
      "Elements assigned correctly to the _a,_b components\n",
      "Elements assigned correctly to the _alpha,_beta components\n",
      "Elements assigned correctly to the _a,_b components\n",
      "Elements assigned correctly to the _alpha,_beta components\n"
     ]
    }
   ],
   "source": [
    "DcKd = pt.ten(\"DcKd\",2)\n",
    "DcKd_dat = pt.C(Kd(\"_a\"),\"_b\") \n",
    "DcKd.assign(DcKd_dat,\"_a,_b\")\n",
    "DcKd.simplify()\n",
    "DcKdS = pt.ten('DcKdS',2)\n",
    "DcKdS.assign(-a1*Vd('_alpha')*Vd('_beta')+ sigma1*Vd('_alpha')*Kd('_beta')+ J1*(Ld('_alpha')*Ld('_beta')+Sd('_alpha')*Sd('_beta')) ,\"_alpha,_beta\")\n",
    "DcKdS.simplify()\n",
    "#DcKdS.display('_,_')\n",
    "\n",
    "DcLd = pt.ten(\"DcLd\",2)\n",
    "DcLd_dat = pt.C(Ld(\"_a\"),\"_b\") \n",
    "DcLd.assign(DcLd_dat,\"_a,_b\")\n",
    "DcLd.simplify()\n",
    "DcLdS = pt.ten('DcLdS',2)\n",
    "DcLdS.assign(sigma2*Vd('_alpha')*Ld('_beta')- J1*Kd('_alpha')*Ld('_beta')+ J2*Sd('_alpha')*Sd('_beta') ,\"_alpha,_beta\")\n",
    "DcLdS.simplify()\n",
    "#DcLdS.display('_,_')\n",
    "\n",
    "DcSd = pt.ten(\"DcSd\",2)\n",
    "DcSd_dat = pt.C(Sd(\"_a\"),\"_b\") \n",
    "DcSd.assign(DcSd_dat,\"_a,_b\")\n",
    "DcSd.factor()\n",
    "DcSdS = pt.ten('DcSdS',2)\n",
    "DcSdS.assign(sigma2*Vd('_alpha')*Sd('_beta')- J1*Kd('_alpha')*Sd('_beta')- J2*Ld('_alpha')*Sd('_beta') ,\"_alpha,_beta\")\n",
    "DcSdS.simplify()\n",
    "#DcSdS.display('_,_')\n"
   ]
  },
  {
   "cell_type": "code",
   "execution_count": 24,
   "id": "a4455c00",
   "metadata": {},
   "outputs": [
    {
     "name": "stdout",
     "output_type": "stream",
     "text": [
      "Elements assigned correctly to the _mu,_nu components\n"
     ]
    },
    {
     "data": {
      "image/png": "[encoded data removed]",
      "text/latex": [
       "$\\displaystyle \\left[\\begin{matrix}0 & 0 & 0 & 0\\\\0 & 0 & 0 & 0\\\\0 & 0 & 0 & 0\\\\0 & 0 & 0 & 0\\end{matrix}\\right]$"
      ],
      "text/plain": [
       "⎡0  0  0  0⎤\n",
       "⎢          ⎥\n",
       "⎢0  0  0  0⎥\n",
       "⎢          ⎥\n",
       "⎢0  0  0  0⎥\n",
       "⎢          ⎥\n",
       "⎣0  0  0  0⎦"
      ]
     },
     "metadata": {},
     "output_type": "display_data"
    }
   ],
   "source": [
    "ceros2=pt.ten('ceros2',2)\n",
    "ceros2.assign(DcKd('_mu,_nu')-DcKdS('_mu,_nu') ,\"_mu,_nu\")\n",
    "ceros2.simplify()\n",
    "ceros2.display('_,_')"
   ]
  },
  {
   "cell_type": "code",
   "execution_count": 25,
   "id": "9ba3d65c",
   "metadata": {},
   "outputs": [
    {
     "name": "stdout",
     "output_type": "stream",
     "text": [
      "Elements assigned correctly to the _mu,_nu components\n"
     ]
    },
    {
     "data": {
      "image/png": "[encoded data removed]",
      "text/latex": [
       "$\\displaystyle \\left[\\begin{matrix}0 & 0 & 0 & 0\\\\0 & 0 & 0 & 0\\\\0 & 0 & 0 & 0\\\\0 & 0 & 0 & 0\\end{matrix}\\right]$"
      ],
      "text/plain": [
       "⎡0  0  0  0⎤\n",
       "⎢          ⎥\n",
       "⎢0  0  0  0⎥\n",
       "⎢          ⎥\n",
       "⎢0  0  0  0⎥\n",
       "⎢          ⎥\n",
       "⎣0  0  0  0⎦"
      ]
     },
     "metadata": {},
     "output_type": "display_data"
    }
   ],
   "source": [
    "ceros3=pt.ten('ceros3',2)\n",
    "ceros3.assign(DcLd('_mu,_nu')-DcLdS('_mu,_nu') ,\"_mu,_nu\")\n",
    "ceros3.simplify()\n",
    "ceros3.display('_,_')"
   ]
  },
  {
   "cell_type": "code",
   "execution_count": 26,
   "id": "30946736",
   "metadata": {},
   "outputs": [
    {
     "name": "stdout",
     "output_type": "stream",
     "text": [
      "Elements assigned correctly to the _mu,_nu components\n"
     ]
    },
    {
     "data": {
      "image/png": "[encoded data removed]",
      "text/latex": [
       "$\\displaystyle \\left[\\begin{matrix}0 & 0 & 0 & 0\\\\0 & 0 & 0 & 0\\\\0 & 0 & 0 & 0\\\\0 & 0 & 0 & 0\\end{matrix}\\right]$"
      ],
      "text/plain": [
       "⎡0  0  0  0⎤\n",
       "⎢          ⎥\n",
       "⎢0  0  0  0⎥\n",
       "⎢          ⎥\n",
       "⎢0  0  0  0⎥\n",
       "⎢          ⎥\n",
       "⎣0  0  0  0⎦"
      ]
     },
     "metadata": {},
     "output_type": "display_data"
    }
   ],
   "source": [
    "ceros4=pt.ten('ceros4',2)\n",
    "ceros4.assign(DcSd('_mu,_nu')-DcSdS('_mu,_nu') ,\"_mu,_nu\")\n",
    "ceros4.simplify()\n",
    "ceros4.display('_,_')"
   ]
  },
  {
   "cell_type": "markdown",
   "id": "5676bc13",
   "metadata": {},
   "source": [
    "### The directional derivatives operators\n",
    "$$\n",
    "f^{\\bullet}=V^{\\alpha} \\partial_{\\alpha} f \\quad f^{\\dagger}=K^{\\alpha} \\partial_{\\alpha} f \\quad \\text { and } \\quad f^{*}=L^{\\alpha} \\partial_{\\alpha} f\n",
    "$$"
   ]
  },
  {
   "cell_type": "code",
   "execution_count": 31,
   "id": "e0beed4c",
   "metadata": {},
   "outputs": [
    {
     "name": "stdout",
     "output_type": "stream",
     "text": [
      "Elements assigned correctly to the _a components\n",
      "Elements assigned correctly to the _a components\n",
      "Elements assigned correctly to the _a components\n"
     ]
    },
    {
     "data": {
      "image/png": "[encoded data removed]",
      "text/latex": [
       "$\\displaystyle \\left[ \\frac{A{\\left(t,r \\right)} B{\\left(t,r \\right)} \\frac{\\partial^{2}}{\\partial t\\partial r} A{\\left(t,r \\right)} - A{\\left(t,r \\right)} \\frac{\\partial}{\\partial r} A{\\left(t,r \\right)} \\frac{\\partial}{\\partial t} B{\\left(t,r \\right)} - B{\\left(t,r \\right)} \\frac{\\partial}{\\partial r} A{\\left(t,r \\right)} \\frac{\\partial}{\\partial t} A{\\left(t,r \\right)}}{A^{3}{\\left(t,r \\right)} B^{2}{\\left(t,r \\right)}}, \\  \\frac{A{\\left(t,r \\right)} B{\\left(t,r \\right)} \\frac{\\partial^{2}}{\\partial r^{2}} A{\\left(t,r \\right)} - A{\\left(t,r \\right)} \\frac{\\partial}{\\partial r} A{\\left(t,r \\right)} \\frac{\\partial}{\\partial r} B{\\left(t,r \\right)} - B{\\left(t,r \\right)} \\left(\\frac{\\partial}{\\partial r} A{\\left(t,r \\right)}\\right)^{2}}{A^{2}{\\left(t,r \\right)} B^{3}{\\left(t,r \\right)}}, \\  0\\right]$"
      ],
      "text/plain": [
       "⎡                                                                             \n",
       "⎢                   2                                                         \n",
       "⎢                  ∂                      ∂           ∂                     ∂ \n",
       "⎢A(t, r)⋅B(t, r)⋅─────(A(t, r)) - A(t, r)⋅──(A(t, r))⋅──(B(t, r)) - B(t, r)⋅──\n",
       "⎢                ∂t ∂r                    ∂r          ∂t                    ∂r\n",
       "⎢─────────────────────────────────────────────────────────────────────────────\n",
       "⎢                                         3        2                          \n",
       "⎣                                        A (t, r)⋅B (t, r)                    \n",
       "\n",
       "                                         2                                    \n",
       "                                        ∂                     ∂           ∂   \n",
       "          ∂            A(t, r)⋅B(t, r)⋅───(A(t, r)) - A(t, r)⋅──(A(t, r))⋅──(B\n",
       "(A(t, r))⋅──(A(t, r))                    2                    ∂r          ∂r  \n",
       "          ∂t                           ∂r                                     \n",
       "─────────────────────, ───────────────────────────────────────────────────────\n",
       "                                                           2        3         \n",
       "                                                          A (t, r)⋅B (t, r)   \n",
       "\n",
       "                               2   ⎤\n",
       "                  ⎛∂          ⎞    ⎥\n",
       "(t, r)) - B(t, r)⋅⎜──(A(t, r))⎟    ⎥\n",
       "                  ⎝∂r         ⎠    ⎥\n",
       "                                   ⎥\n",
       "────────────────────────────────, 0⎥\n",
       "                                   ⎥\n",
       "                                   ⎦"
      ]
     },
     "execution_count": 31,
     "metadata": {},
     "output_type": "execute_result"
    }
   ],
   "source": [
    "# Derivadas de a1\n",
    "Da1c= pt.ten('Da1c',1)\n",
    "Da1c.assign(pt.D(a1,\"_a\"), \"_a\")\n",
    "Da1c.simplify()\n",
    "Da1cir= Vu('^a')*Da1c('_a') \n",
    "Da1cir.simplify()\n",
    "\n",
    "Da1= pt.ten('Da1',1)\n",
    "Da1.assign(pt.D(a1,\"_a\"), \"_a\")\n",
    "Da1.simplify()\n",
    "Da1dag= Ku('^a')*Da1('_a') \n",
    "Da1dag.simplify()\n",
    "\n",
    "Da1es= pt.ten('Da1est',1)\n",
    "Da1es.assign(pt.D(a1,\"_a\"), \"_a\")\n",
    "Da1es.simplify()\n",
    "Da1est= Lu('^a')*Da1es('_a') \n",
    "Da1est.simplify()\n",
    "\n",
    "[Da1cir, Da1dag, Da1est]"
   ]
  },
  {
   "cell_type": "markdown",
   "id": "37cce94f",
   "metadata": {},
   "source": [
    "$$\n",
    "h_{\\mu\\nu}=g_{\\mu\\nu} +V_\\mu V_\\nu = K_\\mu K_\\nu+L_\\mu L_\\nu+S_\\mu S_\\nu\n",
    "$$"
   ]
  },
  {
   "cell_type": "code",
   "execution_count": 32,
   "id": "01582684",
   "metadata": {},
   "outputs": [
    {
     "name": "stdout",
     "output_type": "stream",
     "text": [
      "Elements assigned correctly to the _mu,_nu components\n"
     ]
    },
    {
     "data": {
      "image/png": "[encoded data removed]",
      "text/latex": [
       "$\\displaystyle \\left[\\begin{matrix}0 & 0 & 0 & 0\\\\0 & B^{2}{\\left(t,r \\right)} & 0 & 0\\\\0 & 0 & C^{2}{\\left(t,r \\right)} & 0\\\\0 & 0 & 0 & C^{2}{\\left(t,r \\right)} \\sin^{2}{\\left(\\theta \\right)}\\end{matrix}\\right]$"
      ],
      "text/plain": [
       "⎡0     0         0             0        ⎤\n",
       "⎢                                       ⎥\n",
       "⎢    2                                  ⎥\n",
       "⎢0  B (t, r)     0             0        ⎥\n",
       "⎢                                       ⎥\n",
       "⎢              2                        ⎥\n",
       "⎢0     0      C (t, r)         0        ⎥\n",
       "⎢                                       ⎥\n",
       "⎢                        2          2   ⎥\n",
       "⎣0     0         0      C (t, r)⋅sin (θ)⎦"
      ]
     },
     "metadata": {},
     "output_type": "display_data"
    },
    {
     "data": {
      "application/vnd.jupyter.widget-view+json": {
       "model_id": "d470682a626e46d2985f4b0888c0bddf",
       "version_major": 2,
       "version_minor": 0
      },
      "text/plain": [
       "hdd Tensor $hdd{^\\alpha}{_\\beta}$:   0%|          | 0/16 [00:00<?, ?it/s]"
      ]
     },
     "metadata": {},
     "output_type": "display_data"
    },
    {
     "data": {
      "application/vnd.jupyter.widget-view+json": {
       "model_id": "89eb7bb85e724ab6a3e40c2d5fb476e2",
       "version_major": 2,
       "version_minor": 0
      },
      "text/plain": [
       "hdd Tensor $hdd{^\\alpha}{^\\beta}$:   0%|          | 0/16 [00:00<?, ?it/s]"
      ]
     },
     "metadata": {},
     "output_type": "display_data"
    },
    {
     "data": {
      "application/vnd.jupyter.widget-view+json": {
       "model_id": "37eca41f80f046989c9ca589b799b775",
       "version_major": 2,
       "version_minor": 0
      },
      "text/plain": [
       "hdd Tensor $hdd{_\\alpha}{^\\beta}$:   0%|          | 0/16 [00:00<?, ?it/s]"
      ]
     },
     "metadata": {},
     "output_type": "display_data"
    },
    {
     "data": {
      "text/latex": [
       "All other indices of hdd Tensor $hdd$  already calculated."
      ],
      "text/plain": [
       "<IPython.core.display.Latex object>"
      ]
     },
     "metadata": {},
     "output_type": "display_data"
    }
   ],
   "source": [
    "hdd=pt.ten('hdd',2)\n",
    "hdd.assign(g(\"_mu,_nu\")+Vd('_mu')*Vd('_nu') ,\"_mu,_nu\")\n",
    "hdd.simplify()\n",
    "hdd.display('_,_')\n",
    "hdd.complete('_,_')\n",
    "hdd.simplify()"
   ]
  },
  {
   "cell_type": "markdown",
   "id": "9b1e9732",
   "metadata": {},
   "source": [
    "## The energy momentum tensor\n",
    "$$\n",
    "{T}_{\\alpha\\beta}= (\\rho+P) V_\\alpha V_\\beta+P g _{\\alpha \\beta} +\\Pi_{\\alpha \\beta}+\\mathcal{F}_\\alpha V_\\beta+\\mathcal{F}_\\beta V_\\alpha .\n",
    "$$"
   ]
  },
  {
   "cell_type": "markdown",
   "id": "690acfa1",
   "metadata": {},
   "source": [
    "$$\n",
    "\\mathcal{F}_{\\mu}=\\mathcal{F} K_{\\mu}\n",
    "$$"
   ]
  },
  {
   "cell_type": "code",
   "execution_count": 41,
   "id": "b7825425",
   "metadata": {},
   "outputs": [
    {
     "name": "stdout",
     "output_type": "stream",
     "text": [
      "Elements assigned correctly to the _mu components\n"
     ]
    },
    {
     "data": {
      "image/png": "[encoded data removed]",
      "text/latex": [
       "$\\displaystyle \\left[\\begin{matrix}0 & B{\\left(t,r \\right)} F{\\left(t,r \\right)} & 0 & 0\\end{matrix}\\right]$"
      ],
      "text/plain": [
       "[0  B(t, r)⋅F(t, r)  0  0]"
      ]
     },
     "metadata": {},
     "output_type": "display_data"
    },
    {
     "data": {
      "application/vnd.jupyter.widget-view+json": {
       "model_id": "145b75b2c3ac40dea180e01b330fdf17",
       "version_major": 2,
       "version_minor": 0
      },
      "text/plain": [
       "Fd Tensor $Fd{^\\alpha}$:   0%|          | 0/4 [00:00<?, ?it/s]"
      ]
     },
     "metadata": {},
     "output_type": "display_data"
    },
    {
     "data": {
      "text/latex": [
       "All other indices of Fd Tensor $Fd$  already calculated."
      ],
      "text/plain": [
       "<IPython.core.display.Latex object>"
      ]
     },
     "metadata": {},
     "output_type": "display_data"
    }
   ],
   "source": [
    "Fd=pt.ten('Fd',1)\n",
    "Fd.assign(F*Kd('_mu') ,\"_mu\")\n",
    "Fd.simplify()\n",
    "Fd.display('_')\n",
    "Fd.complete('_')"
   ]
  },
  {
   "cell_type": "markdown",
   "id": "70a184c3",
   "metadata": {},
   "source": [
    "$$\n",
    "\\mathcal{F}^{\\mu} V_{\\mu}=0\n",
    "$$"
   ]
  },
  {
   "cell_type": "code",
   "execution_count": 37,
   "id": "48f2a04e",
   "metadata": {},
   "outputs": [
    {
     "data": {
      "image/png": "[encoded data removed]",
      "text/latex": [
       "$\\displaystyle 0$"
      ],
      "text/plain": [
       "0"
      ]
     },
     "execution_count": 37,
     "metadata": {},
     "output_type": "execute_result"
    }
   ],
   "source": [
    "Fd(\"^mu\")*Vd(\"_mu\")"
   ]
  },
  {
   "cell_type": "code",
   "execution_count": 42,
   "id": "3af7d2aa",
   "metadata": {},
   "outputs": [
    {
     "name": "stdout",
     "output_type": "stream",
     "text": [
      "Elements assigned correctly to the _alpha,_beta components\n"
     ]
    },
    {
     "data": {
      "image/png": "[encoded data removed]",
      "text/latex": [
       "$\\displaystyle \\left[\\begin{matrix}0 & 0 & 0 & 0\\\\0 & \\frac{2 B^{2}{\\left(t,r \\right)} \\Delta{\\left(t,r \\right)}}{3} & 0 & 0\\\\0 & 0 & - \\frac{C^{2}{\\left(t,r \\right)} \\Delta{\\left(t,r \\right)}}{3} & 0\\\\0 & 0 & 0 & - \\frac{C^{2}{\\left(t,r \\right)} \\Delta{\\left(t,r \\right)} \\sin^{2}{\\left(\\theta \\right)}}{3}\\end{matrix}\\right]$"
      ],
      "text/plain": [
       "⎡0          0                   0                       0             ⎤\n",
       "⎢                                                                     ⎥\n",
       "⎢      2                                                              ⎥\n",
       "⎢   2⋅B (t, r)⋅Δ(t, r)                                                ⎥\n",
       "⎢0  ──────────────────          0                       0             ⎥\n",
       "⎢           3                                                         ⎥\n",
       "⎢                                                                     ⎥\n",
       "⎢                         2                                           ⎥\n",
       "⎢                       -C (t, r)⋅Δ(t, r)                             ⎥\n",
       "⎢0          0           ──────────────────              0             ⎥\n",
       "⎢                               3                                     ⎥\n",
       "⎢                                                                     ⎥\n",
       "⎢                                             2                  2    ⎥\n",
       "⎢                                           -C (t, r)⋅Δ(t, r)⋅sin (θ) ⎥\n",
       "⎢0          0                   0           ──────────────────────────⎥\n",
       "⎣                                                       3             ⎦"
      ]
     },
     "metadata": {},
     "output_type": "display_data"
    }
   ],
   "source": [
    "PI=pt.ten('PI',2)\n",
    "PI.assign(Delta*(Kd(\"_alpha\")*Kd(\"_beta\")-hdd(\"_alpha,_beta\")/3) ,\"_alpha,_beta\")\n",
    "PI.simplify()\n",
    "PI.display('_,_')"
   ]
  },
  {
   "cell_type": "code",
   "execution_count": 43,
   "id": "f4ae0485",
   "metadata": {},
   "outputs": [
    {
     "name": "stdout",
     "output_type": "stream",
     "text": [
      "Elements assigned correctly to the _mu,_nu components\n"
     ]
    },
    {
     "data": {
      "image/png": "[encoded data removed]",
      "text/latex": [
       "$\\displaystyle \\left[\\begin{matrix}A^{2}{\\left(t,r \\right)} \\rho{\\left(t,r \\right)} & - A{\\left(t,r \\right)} B{\\left(t,r \\right)} F{\\left(t,r \\right)} & 0 & 0\\\\- A{\\left(t,r \\right)} B{\\left(t,r \\right)} F{\\left(t,r \\right)} & \\left(\\frac{2 \\Delta{\\left(t,r \\right)}}{3} + P{\\left(t,r \\right)}\\right) B^{2}{\\left(t,r \\right)} & 0 & 0\\\\0 & 0 & \\left(- \\frac{\\Delta{\\left(t,r \\right)}}{3} + P{\\left(t,r \\right)}\\right) C^{2}{\\left(t,r \\right)} & 0\\\\0 & 0 & 0 & \\left(- \\frac{\\Delta{\\left(t,r \\right)}}{3} + P{\\left(t,r \\right)}\\right) C^{2}{\\left(t,r \\right)} \\sin^{2}{\\left(\\theta \\right)}\\end{matrix}\\right]$"
      ],
      "text/plain": [
       "⎡     2                                                                       \n",
       "⎢    A (t, r)⋅ρ(t, r)         -A(t, r)⋅B(t, r)⋅F(t, r)                   0    \n",
       "⎢                                                                             \n",
       "⎢                          ⎛2⋅Δ(t, r)          ⎞  2                           \n",
       "⎢-A(t, r)⋅B(t, r)⋅F(t, r)  ⎜───────── + P(t, r)⎟⋅B (t, r)                0    \n",
       "⎢                          ⎝    3              ⎠                              \n",
       "⎢                                                                             \n",
       "⎢                                                          ⎛  Δ(t, r)         \n",
       "⎢           0                            0                 ⎜- ─────── + P(t, r\n",
       "⎢                                                          ⎝     3            \n",
       "⎢                                                                             \n",
       "⎢                                                                             \n",
       "⎢           0                            0                               0    \n",
       "⎣                                                                             \n",
       "\n",
       "                                                   ⎤\n",
       "                               0                   ⎥\n",
       "                                                   ⎥\n",
       "                                                   ⎥\n",
       "                               0                   ⎥\n",
       "                                                   ⎥\n",
       "                                                   ⎥\n",
       " ⎞  2                                              ⎥\n",
       ")⎟⋅C (t, r)                    0                   ⎥\n",
       " ⎠                                                 ⎥\n",
       "                                                   ⎥\n",
       "             ⎛  Δ(t, r)          ⎞  2          2   ⎥\n",
       "             ⎜- ─────── + P(t, r)⎟⋅C (t, r)⋅sin (θ)⎥\n",
       "             ⎝     3             ⎠                 ⎦"
      ]
     },
     "metadata": {},
     "output_type": "display_data"
    }
   ],
   "source": [
    "T = pt.ten('T',2)\n",
    "T.assign((rho+P)*Vd(\"_mu\")*Vd(\"_nu\")+P*g(\"_mu,_nu\")+PI(\"_mu,_nu\")+Fd(\"_mu\")*Vd(\"_nu\")+Fd(\"_nu\")*Vd(\"_mu\") ,\"_mu,_nu\")\n",
    "T.simplify()\n",
    "T.display('_,_')"
   ]
  },
  {
   "cell_type": "code",
   "execution_count": 44,
   "id": "179e16d1",
   "metadata": {},
   "outputs": [
    {
     "data": {
      "application/vnd.jupyter.widget-view+json": {
       "model_id": "7e0bacb7114f4e138d965aff3b907b09",
       "version_major": 2,
       "version_minor": 0
      },
      "text/plain": [
       "T Tensor $T{^\\alpha}{_\\beta}$:   0%|          | 0/16 [00:00<?, ?it/s]"
      ]
     },
     "metadata": {},
     "output_type": "display_data"
    },
    {
     "data": {
      "application/vnd.jupyter.widget-view+json": {
       "model_id": "a44796faa6ae42a9870b86e61b229886",
       "version_major": 2,
       "version_minor": 0
      },
      "text/plain": [
       "T Tensor $T{^\\alpha}{^\\beta}$:   0%|          | 0/16 [00:00<?, ?it/s]"
      ]
     },
     "metadata": {},
     "output_type": "display_data"
    },
    {
     "data": {
      "application/vnd.jupyter.widget-view+json": {
       "model_id": "93cf211f46ba46098a59ab9868c7ffe5",
       "version_major": 2,
       "version_minor": 0
      },
      "text/plain": [
       "T Tensor $T{_\\alpha}{^\\beta}$:   0%|          | 0/16 [00:00<?, ?it/s]"
      ]
     },
     "metadata": {},
     "output_type": "display_data"
    },
    {
     "data": {
      "text/latex": [
       "All other indices of T Tensor $T$  already calculated."
      ],
      "text/plain": [
       "<IPython.core.display.Latex object>"
      ]
     },
     "metadata": {},
     "output_type": "display_data"
    }
   ],
   "source": [
    "T.complete('_,_')\n",
    "T.simplify()"
   ]
  },
  {
   "cell_type": "code",
   "execution_count": 45,
   "id": "f57e592e",
   "metadata": {},
   "outputs": [
    {
     "data": {
      "image/png": "[encoded data removed]",
      "text/latex": [
       "$\\displaystyle \\rho{\\left(t,r \\right)}$"
      ],
      "text/plain": [
       "ρ(t, r)"
      ]
     },
     "execution_count": 45,
     "metadata": {},
     "output_type": "execute_result"
    }
   ],
   "source": [
    "T(\"_mu,_nu\")*Vu('^mu')*Vu('^nu')"
   ]
  },
  {
   "cell_type": "code",
   "execution_count": 46,
   "id": "9e80f8e9",
   "metadata": {},
   "outputs": [
    {
     "name": "stdout",
     "output_type": "stream",
     "text": [
      "Elements assigned correctly to the _mu components\n"
     ]
    },
    {
     "data": {
      "image/png": "[encoded data removed]",
      "text/latex": [
       "$\\displaystyle \\left[\\begin{matrix}0 & B{\\left(t,r \\right)} F{\\left(t,r \\right)} & 0 & 0\\end{matrix}\\right]$"
      ],
      "text/plain": [
       "[0  B(t, r)⋅F(t, r)  0  0]"
      ]
     },
     "metadata": {},
     "output_type": "display_data"
    }
   ],
   "source": [
    "Fdp=pt.ten('Fdp',1)\n",
    "Fdp.assign(-rho*Vd('_mu') -T(\"_mu,_nu\")*Vu('^nu') ,\"_mu\")\n",
    "Fdp.simplify()\n",
    "Fdp.display('_')"
   ]
  },
  {
   "cell_type": "code",
   "execution_count": 47,
   "id": "32201992",
   "metadata": {},
   "outputs": [
    {
     "data": {
      "image/png": "[encoded data removed]",
      "text/latex": [
       "$\\displaystyle P{\\left(t,r \\right)}$"
      ],
      "text/plain": [
       "P(t, r)"
      ]
     },
     "execution_count": 47,
     "metadata": {},
     "output_type": "execute_result"
    }
   ],
   "source": [
    "hdd(\"^mu,^nu\")*T(\"_mu,_nu\")/3"
   ]
  },
  {
   "cell_type": "code",
   "execution_count": 48,
   "id": "b31f4298",
   "metadata": {},
   "outputs": [
    {
     "data": {
      "image/png": "[encoded data removed]",
      "text/latex": [
       "$\\displaystyle \\Delta{\\left(t,r \\right)} + 3 P{\\left(t,r \\right)}$"
      ],
      "text/plain": [
       "Δ(t, r) + 3⋅P(t, r)"
      ]
     },
     "execution_count": 48,
     "metadata": {},
     "output_type": "execute_result"
    }
   ],
   "source": [
    "(2*Ku('^alpha')*Ku('^beta') + Lu('^alpha')*Lu('^beta') )*T(\"_alpha,_beta\")"
   ]
  },
  {
   "cell_type": "code",
   "execution_count": 60,
   "id": "8752f5b3",
   "metadata": {},
   "outputs": [
    {
     "data": {
      "text/latex": [
       "Ricci Tensor $R_{\\alpha \\beta}$"
      ],
      "text/plain": [
       "<IPython.core.display.Latex object>"
      ]
     },
     "metadata": {},
     "output_type": "display_data"
    },
    {
     "data": {
      "application/vnd.jupyter.widget-view+json": {
       "model_id": "6c5e9f64ba094b12be1a06022a67b44f",
       "version_major": 2,
       "version_minor": 0
      },
      "text/plain": [
       "  0%|          | 0/16 [00:00<?, ?it/s]"
      ]
     },
     "metadata": {},
     "output_type": "display_data"
    },
    {
     "data": {
      "application/vnd.jupyter.widget-view+json": {
       "model_id": "a0fd16ac1a964b9aa3e9c0441d8cbdfd",
       "version_major": 2,
       "version_minor": 0
      },
      "text/plain": [
       "Ricci Tensor $R{^\\alpha}{_\\beta}$:   0%|          | 0/16 [00:00<?, ?it/s]"
      ]
     },
     "metadata": {},
     "output_type": "display_data"
    },
    {
     "data": {
      "application/vnd.jupyter.widget-view+json": {
       "model_id": "df1019805e8f44e0ae2fa920c5985d62",
       "version_major": 2,
       "version_minor": 0
      },
      "text/plain": [
       "Ricci Tensor $R{^\\alpha}{^\\beta}$:   0%|          | 0/16 [00:00<?, ?it/s]"
      ]
     },
     "metadata": {},
     "output_type": "display_data"
    },
    {
     "data": {
      "application/vnd.jupyter.widget-view+json": {
       "model_id": "353cb69b443841d584a845abd5dd97c1",
       "version_major": 2,
       "version_minor": 0
      },
      "text/plain": [
       "Ricci Tensor $R{_\\alpha}{^\\beta}$:   0%|          | 0/16 [00:00<?, ?it/s]"
      ]
     },
     "metadata": {},
     "output_type": "display_data"
    },
    {
     "data": {
      "text/latex": [
       "All other indices of Ricci Tensor $R$  already calculated."
      ],
      "text/plain": [
       "<IPython.core.display.Latex object>"
      ]
     },
     "metadata": {},
     "output_type": "display_data"
    }
   ],
   "source": [
    "Ric = pt.ricci()\n",
    "Ric.complete('_,_')"
   ]
  },
  {
   "cell_type": "markdown",
   "id": "8b4abef8",
   "metadata": {},
   "source": [
    "## The splitting of the Riemann tensor and structure scalars\n",
    "\n",
    "A set of scalar functions --the structure scalars--  obtained from the orthogonal splitting of the Riemann tensor\n",
    "\n",
    "\n",
    "We can express the splitting of the Riemann tensor as:\n",
    "$$\n",
    "R_{\\alpha \\beta \\mu \\nu}=2V_\\mu V_{[\\alpha}Y_{\\beta] \\, \\nu}+2h_{\\alpha[\\nu}X_{\\mu] \\,  \\beta}+2V_\\nu V_{[\\beta}Y_{\\alpha] \\, \\mu}\n",
    "+ h_{\\beta\\nu}(X_0 \\, h_{\\alpha\\mu}-X_{\\alpha\\mu})+h_{\\beta\\mu}(X_{\\alpha\\nu} -X_0 \\, h_{\\alpha\\nu})\n",
    "$$\n",
    "\n",
    "$$\n",
    " + 2V_{[\\nu} Z_{ \\, \\mu]}^{\\gamma}\\varepsilon_{{\\alpha \\beta \\gamma}} +2V_{[\\beta} Z_{{\\,  \\ \\alpha]}}^{{\\gamma }}\\ \\varepsilon_{{\\mu \\nu \\gamma}} \\,,\n",
    "$$\n",
    "\n",
    "with $\\varepsilon_{\\mu \\nu \\gamma} = \\eta_{\\phi \\mu \\nu \\gamma} V^{\\phi}$, and  $ \\eta_{\\phi \\mu \\nu \\gamma}$ the Levi-Civita 4-tensor. \n"
   ]
  }
 ],
 "metadata": {
  "kernelspec": {
   "display_name": "Python 3.8.13 ('base')",
   "language": "python",
   "name": "python3"
  },
  "language_info": {
   "codemirror_mode": {
    "name": "ipython",
    "version": 3
   },
   "file_extension": ".py",
   "mimetype": "text/x-python",
   "name": "python",
   "nbconvert_exporter": "python",
   "pygments_lexer": "ipython3",
   "version": "3.8.13"
  },
  "vscode": {
   "interpreter": {
    "hash": "8d1181128e1f0e3c7e069abdee9a2274e13259c88bd323b8ad99884c634d782b"
   }
  }
 },
 "nbformat": 4,
 "nbformat_minor": 5
}
