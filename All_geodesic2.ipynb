{
 "cells": [
  {
   "cell_type": "code",
   "execution_count": 1,
   "id": "055aea90",
   "metadata": {},
   "outputs": [],
   "source": [
    "#### Versión del 4/4/2022 #####\n",
    "import pytearcat as pt\n",
    "import sympy as sy\n",
    "from sympy import * "
   ]
  },
  {
   "cell_type": "markdown",
   "id": "f5d30c7b",
   "metadata": {},
   "source": [
    "# All Geodesic Motion\n"
   ]
  },
  {
   "cell_type": "code",
   "execution_count": 2,
   "id": "4bf547c2",
   "metadata": {
    "scrolled": true
   },
   "outputs": [
    {
     "name": "stdout",
     "output_type": "stream",
     "text": [
      "Remember that the time coordinate must be the first coordinate.\n"
     ]
    }
   ],
   "source": [
    "t,r,theta,phi = pt.coords('t,r,theta,phi')\n",
    "\n",
    "X = pt.con('X')\n",
    "\n",
    "A = pt.fun('A','r,theta')\n",
    "B = pt.fun('B','r,theta')\n",
    "C = pt.fun('C','r,theta')\n",
    "D = pt.fun('D','r,theta')\n",
    "E = pt.fun('E','r,theta')\n",
    "Phi= pt.fun('Phi','r,theta')\n",
    "omega = pt.fun('omega','r,theta')"
   ]
  },
  {
   "cell_type": "code",
   "execution_count": 3,
   "id": "45b20ced",
   "metadata": {},
   "outputs": [
    {
     "name": "stdout",
     "output_type": "stream",
     "text": [
      "\n",
      "Dimension = 4\n",
      "Coordinates = t,r,theta,phi\n",
      "Metric defined successfully: \n",
      "\n"
     ]
    },
    {
     "data": {
      "text/latex": [
       "$\\displaystyle ds^2 = - A^{2}{\\left(r,\\theta \\right)} \\cdot dt^2+2 \\omega{\\left(r,\\theta \\right)} \\cdot dt \\cdot d\\phi+B^{2}{\\left(r,\\theta \\right)} \\cdot dr^2+C^{2}{\\left(r,\\theta \\right)} \\cdot d\\theta^2+D^{2}{\\left(r,\\theta \\right)} \\cdot d\\phi^2$"
      ],
      "text/plain": [
       "<IPython.core.display.Math object>"
      ]
     },
     "metadata": {},
     "output_type": "display_data"
    },
    {
     "data": {
      "text/latex": [
       "$\\displaystyle \\left[\\begin{matrix}- A^{2}{\\left(r,\\theta \\right)} & 0 & 0 & \\omega{\\left(r,\\theta \\right)}\\\\0 & B^{2}{\\left(r,\\theta \\right)} & 0 & 0\\\\0 & 0 & C^{2}{\\left(r,\\theta \\right)} & 0\\\\\\omega{\\left(r,\\theta \\right)} & 0 & 0 & D^{2}{\\left(r,\\theta \\right)}\\end{matrix}\\right]$"
      ],
      "text/plain": [
       "Matrix([\n",
       "[-A(r, theta)**2,              0,              0, omega(r, theta)],\n",
       "[              0, B(r, theta)**2,              0,               0],\n",
       "[              0,              0, C(r, theta)**2,               0],\n",
       "[omega(r, theta),              0,              0,  D(r, theta)**2]])"
      ]
     },
     "metadata": {},
     "output_type": "display_data"
    }
   ],
   "source": [
    "ds = 'ds2 = -A**2*dt**2 + B**2*dr**2 + C**2*dtheta**2 + D**2*dphi**2 + 2*omega*dt*dphi'\n",
    "g = pt.metric(ds)"
   ]
  },
  {
   "cell_type": "markdown",
   "id": "a1deed06",
   "metadata": {},
   "source": [
    "# The tetrad, the source and the kinematical variables\n",
    "\n",
    "Let us choose an orthogonal unitary tetrad:\n",
    "$$\n",
    "e^{(0)}_\\alpha~=V_\\alpha, \\quad \n",
    "e^{(1)}_\\alpha~=K_\\alpha, \\quad \n",
    "e^{(2)}_\\alpha~=L_\\alpha \\quad \\mathrm{and}  \\quad e^{(3)}_\\alpha~=~S_\\alpha.\n",
    "$$\n"
   ]
  },
  {
   "cell_type": "code",
   "execution_count": 4,
   "id": "04b04d61",
   "metadata": {
    "scrolled": true
   },
   "outputs": [
    {
     "name": "stdout",
     "output_type": "stream",
     "text": [
      "Elements assigned correctly to the components ^\n",
      "Elements assigned correctly to the components ^\n",
      "Elements assigned correctly to the components ^\n",
      "Elements assigned correctly to the components ^\n"
     ]
    }
   ],
   "source": [
    "Vu = pt.ten('Vu',1)\n",
    "Vu.assign([1/A,0,0,0],'^')\n",
    "#Vu.display('^')\n",
    "Ku = pt.ten('Ku',1)\n",
    "Ku.assign([0,1/B,0,0],'^')\n",
    "#Ku.display('^')\n",
    "Lu = pt.ten('Lu',1)\n",
    "Lu.assign([0,0,1/C,0],'^')\n",
    "#Lu.display('^')\n",
    "Su = pt.ten('Su',1)\n",
    "Su.assign([omega/(A*sqrt(A**2*D**2 + omega**2)),0,0,A/sqrt(A**2*D**2 + omega**2)],'^')\n",
    "#Su.display('^')"
   ]
  },
  {
   "cell_type": "code",
   "execution_count": 5,
   "id": "1aff4eac",
   "metadata": {
    "scrolled": true
   },
   "outputs": [
    {
     "data": {
      "image/png": "[encoded data removed]",
      "text/latex": [
       "$\\displaystyle \\left[\\begin{matrix}- A{\\left(r,\\theta \\right)} & 0 & 0 & \\frac{\\omega{\\left(r,\\theta \\right)}}{A{\\left(r,\\theta \\right)}}\\end{matrix}\\right]$"
      ],
      "text/plain": [
       "⎡                ω(r, θ)⎤\n",
       "⎢-A(r, θ)  0  0  ───────⎥\n",
       "⎣                A(r, θ)⎦"
      ]
     },
     "metadata": {},
     "output_type": "display_data"
    },
    {
     "data": {
      "image/png": "[encoded data removed]",
      "text/latex": [
       "$\\displaystyle \\left[\\begin{matrix}0 & B{\\left(r,\\theta \\right)} & 0 & 0\\end{matrix}\\right]$"
      ],
      "text/plain": [
       "[0  B(r, θ)  0  0]"
      ]
     },
     "metadata": {},
     "output_type": "display_data"
    },
    {
     "data": {
      "image/png": "[encoded data removed]",
      "text/latex": [
       "$\\displaystyle \\left[\\begin{matrix}0 & 0 & C{\\left(r,\\theta \\right)} & 0\\end{matrix}\\right]$"
      ],
      "text/plain": [
       "[0  0  C(r, θ)  0]"
      ]
     },
     "metadata": {},
     "output_type": "display_data"
    },
    {
     "data": {
      "image/png": "[encoded data removed]",
      "text/latex": [
       "$\\displaystyle \\left[\\begin{matrix}0 & 0 & 0 & \\frac{\\sqrt{A^{2}{\\left(r,\\theta \\right)} D^{2}{\\left(r,\\theta \\right)} + \\omega^{2}{\\left(r,\\theta \\right)}}}{A{\\left(r,\\theta \\right)}}\\end{matrix}\\right]$"
      ],
      "text/plain": [
       "⎡            ______________________________⎤\n",
       "⎢           ╱  2        2          2       ⎥\n",
       "⎢         ╲╱  A (r, θ)⋅D (r, θ) + ω (r, θ) ⎥\n",
       "⎢0  0  0  ─────────────────────────────────⎥\n",
       "⎣                      A(r, θ)             ⎦"
      ]
     },
     "metadata": {},
     "output_type": "display_data"
    }
   ],
   "source": [
    "Vd = pt.ten('Vd',1)\n",
    "Vd.assign(Vu(\"^a\")*g(\"_a,_b\"),\"_b\")\n",
    "Vd.display('_')\n",
    "\n",
    "Kd = pt.ten('Kd',1)\n",
    "Kd.assign(Ku(\"^a\")*g(\"_a,_b\"),\"_b\")\n",
    "Kd.simplify()\n",
    "Kd.display('_')\n",
    "\n",
    "Ld = pt.ten('Ld',1)\n",
    "Ld.assign(Lu(\"^a\")*g(\"_a,_b\"),\"_b\")\n",
    "Ld.simplify()\n",
    "Ld.display('_')\n",
    "\n",
    "Sd = pt.ten('Sd',1)\n",
    "Sd.assign(Su(\"^a\")*g(\"_a,_b\"),\"_b\")\n",
    "Sd.simplify()\n",
    "Sd.display('_')"
   ]
  },
  {
   "cell_type": "markdown",
   "id": "741633d8",
   "metadata": {},
   "source": [
    "## Christoffel"
   ]
  },
  {
   "cell_type": "code",
   "execution_count": 6,
   "id": "ffd49e0a",
   "metadata": {},
   "outputs": [
    {
     "data": {
      "text/latex": [
       "Christoffel $\\Gamma_{\\alpha \\beta \\gamma}$ and $\\Gamma^{\\alpha}_{\\beta \\gamma}$"
      ],
      "text/plain": [
       "<IPython.core.display.Latex object>"
      ]
     },
     "metadata": {},
     "output_type": "display_data"
    },
    {
     "data": {
      "application/vnd.jupyter.widget-view+json": {
       "model_id": "c90e395e2b424a7a9ad2270af9c5568d",
       "version_major": 2,
       "version_minor": 0
      },
      "text/plain": [
       "  0%|          | 0/64 [00:00<?, ?it/s]"
      ]
     },
     "metadata": {},
     "output_type": "display_data"
    }
   ],
   "source": [
    "Chr= pt.christoffel()"
   ]
  },
  {
   "cell_type": "markdown",
   "id": "c7d524b1",
   "metadata": {},
   "source": [
    "## COVARIANT DERIVATIVE OF $V_{\\alpha}$\n",
    "\n",
    "$$\n",
    "V_{\\alpha ; \\beta}\n",
    "$$\n"
   ]
  },
  {
   "cell_type": "code",
   "execution_count": 7,
   "id": "8be7cbc6",
   "metadata": {},
   "outputs": [],
   "source": [
    "DcVd = pt.ten(\"DcVd\",2)\n",
    "DcVd_dat = pt.C(Vd(\"_a\"),\"_b\") \n",
    "DcVd.assign(DcVd_dat,\"_a,_b\")\n",
    "DcVd.factor()\n",
    "#DcVd.display()\n",
    "#DcVd.complete('_,_')"
   ]
  },
  {
   "cell_type": "markdown",
   "id": "a16a5177",
   "metadata": {},
   "source": [
    "$$\n",
    "a_{\\alpha}=V^{\\beta} V_{\\alpha ; \\beta}\\,, \\quad a_{\\alpha;\\beta}\n",
    "$$"
   ]
  },
  {
   "cell_type": "code",
   "execution_count": 8,
   "id": "9b71217e",
   "metadata": {},
   "outputs": [
    {
     "data": {
      "image/png": "[encoded data removed]",
      "text/latex": [
       "$\\displaystyle \\left[\\begin{matrix}0 & \\frac{\\frac{\\partial}{\\partial r} A{\\left(r,\\theta \\right)}}{A{\\left(r,\\theta \\right)}} & \\frac{\\frac{\\partial}{\\partial \\theta} A{\\left(r,\\theta \\right)}}{A{\\left(r,\\theta \\right)}} & 0\\end{matrix}\\right]$"
      ],
      "text/plain": [
       "⎡   ∂            ∂             ⎤\n",
       "⎢   ──(A(r, θ))  ──(A(r, θ))   ⎥\n",
       "⎢   ∂r           ∂θ            ⎥\n",
       "⎢0  ───────────  ───────────  0⎥\n",
       "⎣     A(r, θ)      A(r, θ)     ⎦"
      ]
     },
     "metadata": {},
     "output_type": "display_data"
    }
   ],
   "source": [
    "# Aceleracion y su derivada covariante\n",
    "ad= pt.ten(\"ad\",1)\n",
    "ad.assign( DcVd(\"_a,_b\")*Vu(\"^b\") ,\"_a\")\n",
    "ad.simplify()\n",
    "ad.display('_')\n",
    "\n",
    "Dcad = pt.ten(\"Dcad\",2)\n",
    "Dcad_dat = pt.C(ad(\"_a\"),\"_b\") \n",
    "Dcad.assign(Dcad_dat,\"_a,_b\")\n",
    "Dcad.simplify()\n",
    "#Dcad.display()"
   ]
  },
  {
   "cell_type": "markdown",
   "id": "01a1c946",
   "metadata": {},
   "source": [
    "$$\n",
    "K_{\\alpha ; \\beta}\\,, \\quad L_{\\alpha ; \\beta} \\,, \\quad S{\\alpha ; \\beta}\n",
    "$$"
   ]
  },
  {
   "cell_type": "code",
   "execution_count": 9,
   "id": "d2e34806",
   "metadata": {},
   "outputs": [],
   "source": [
    "DcKd = pt.ten(\"DcKd\",2)\n",
    "DcKd_dat = pt.C(Kd(\"_a\"),\"_b\") \n",
    "DcKd.assign(DcKd_dat,\"_a,_b\")\n",
    "DcKd.simplify()\n",
    "#DcKd.display()\n",
    "#DcKd.complete('_,_')\n",
    "\n",
    "DcLd = pt.ten(\"DcLd\",2)\n",
    "DcLd_dat = pt.C(Ld(\"_a\"),\"_b\") \n",
    "DcLd.assign(DcLd_dat,\"_a,_b\")\n",
    "DcLd.simplify()\n",
    "#DcLd.display()\n",
    "#DcLd.complete('_,_')\n",
    "\n",
    "DcSd = pt.ten(\"DcSd\",2)\n",
    "DcSd_dat = pt.C(Sd(\"_a\"),\"_b\") \n",
    "DcSd.assign(DcSd_dat,\"_a,_b\")\n",
    "DcSd.factor()\n",
    "#DcSd.display()\n",
    "#DcSd.complete('_,_')"
   ]
  },
  {
   "cell_type": "markdown",
   "id": "2941dbfc",
   "metadata": {},
   "source": [
    "## Escalares Cinemáticos\n"
   ]
  },
  {
   "cell_type": "markdown",
   "id": "22efd71e",
   "metadata": {},
   "source": [
    "$$\n",
    "a_1= a_\\mu K^\\mu \\,,\\quad  a_2= a_\\mu L^\\mu \\,, \\quad  a_3= a_\\mu S^\\mu \n",
    "$$"
   ]
  },
  {
   "cell_type": "code",
   "execution_count": 10,
   "id": "524466e0",
   "metadata": {},
   "outputs": [
    {
     "data": {
      "image/png": "[encoded data removed]",
      "text/latex": [
       "$\\displaystyle \\left[ \\frac{\\frac{\\partial}{\\partial r} A{\\left(r,\\theta \\right)}}{A{\\left(r,\\theta \\right)} B{\\left(r,\\theta \\right)}}, \\  \\frac{\\frac{\\partial}{\\partial \\theta} A{\\left(r,\\theta \\right)}}{A{\\left(r,\\theta \\right)} C{\\left(r,\\theta \\right)}}, \\  0\\right]$"
      ],
      "text/plain": [
       "⎡  ∂                ∂               ⎤\n",
       "⎢  ──(A(r, θ))      ──(A(r, θ))     ⎥\n",
       "⎢  ∂r               ∂θ              ⎥\n",
       "⎢───────────────, ───────────────, 0⎥\n",
       "⎣A(r, θ)⋅B(r, θ)  A(r, θ)⋅C(r, θ)   ⎦"
      ]
     },
     "execution_count": 10,
     "metadata": {},
     "output_type": "execute_result"
    }
   ],
   "source": [
    "a1=pt.simplify(ad(\"_c\")*Ku(\"^c\"))\n",
    "a2=pt.simplify(ad(\"_c\")*Lu(\"^c\"))\n",
    "a3=pt.simplify(ad(\"_c\")*Su(\"^c\"))\n",
    "\n",
    "# Derivadas \n",
    "Dca1 = pt.ten(\"Dca1\",1)\n",
    "Dca1_dat = pt.C(a1,\"_a\") \n",
    "Dca1.assign(Dca1_dat,\"_a\")\n",
    "Dca1.factor()\n",
    "#Dca1.complete('_,_')\n",
    "\n",
    "Dca2 = pt.ten(\"Dca2\",1)\n",
    "Dca2_dat = pt.C(a2,\"_a\") \n",
    "Dca2.assign(Dca2_dat,\"_a\")\n",
    "Dca2.factor()\n",
    "#Dca2.complete('_,_')\n",
    "[a1,a2,a3]"
   ]
  },
  {
   "cell_type": "markdown",
   "id": "3fea5137",
   "metadata": {},
   "source": [
    "# Define the  directional derivatives operators\n",
    "$$\n",
    "f^{\\dagger}=K^{\\alpha} \\partial_{\\alpha} f \\quad \\text { and } \\quad f^{*}=L^{\\alpha} \\partial_{\\alpha} f\n",
    "$$"
   ]
  },
  {
   "cell_type": "code",
   "execution_count": 11,
   "id": "edd5fedd",
   "metadata": {},
   "outputs": [
    {
     "data": {
      "image/png": "[encoded data removed]",
      "text/latex": [
       "$\\displaystyle \\left[ \\frac{A{\\left(r,\\theta \\right)} B{\\left(r,\\theta \\right)} \\frac{\\partial^{2}}{\\partial \\theta\\partial r} A{\\left(r,\\theta \\right)} - A{\\left(r,\\theta \\right)} \\frac{\\partial}{\\partial r} A{\\left(r,\\theta \\right)} \\frac{\\partial}{\\partial \\theta} B{\\left(r,\\theta \\right)} - B{\\left(r,\\theta \\right)} \\frac{\\partial}{\\partial r} A{\\left(r,\\theta \\right)} \\frac{\\partial}{\\partial \\theta} A{\\left(r,\\theta \\right)}}{A^{2}{\\left(r,\\theta \\right)} B^{2}{\\left(r,\\theta \\right)} C{\\left(r,\\theta \\right)}}, \\  \\frac{A{\\left(r,\\theta \\right)} C{\\left(r,\\theta \\right)} \\frac{\\partial^{2}}{\\partial \\theta^{2}} A{\\left(r,\\theta \\right)} - A{\\left(r,\\theta \\right)} \\frac{\\partial}{\\partial \\theta} A{\\left(r,\\theta \\right)} \\frac{\\partial}{\\partial \\theta} C{\\left(r,\\theta \\right)} - C{\\left(r,\\theta \\right)} \\left(\\frac{\\partial}{\\partial \\theta} A{\\left(r,\\theta \\right)}\\right)^{2}}{A^{2}{\\left(r,\\theta \\right)} C^{3}{\\left(r,\\theta \\right)}}\\right]$"
      ],
      "text/plain": [
       "⎡                                                                             \n",
       "⎢                   2                                                         \n",
       "⎢                  ∂                      ∂           ∂                     ∂ \n",
       "⎢A(r, θ)⋅B(r, θ)⋅─────(A(r, θ)) - A(r, θ)⋅──(A(r, θ))⋅──(B(r, θ)) - B(r, θ)⋅──\n",
       "⎢                ∂θ ∂r                    ∂r          ∂θ                    ∂r\n",
       "⎢─────────────────────────────────────────────────────────────────────────────\n",
       "⎢                                     2        2                              \n",
       "⎣                                    A (r, θ)⋅B (r, θ)⋅C(r, θ)                \n",
       "\n",
       "                                         2                                    \n",
       "                                        ∂                     ∂           ∂   \n",
       "          ∂            A(r, θ)⋅C(r, θ)⋅───(A(r, θ)) - A(r, θ)⋅──(A(r, θ))⋅──(C\n",
       "(A(r, θ))⋅──(A(r, θ))                    2                    ∂θ          ∂θ  \n",
       "          ∂θ                           ∂θ                                     \n",
       "─────────────────────, ───────────────────────────────────────────────────────\n",
       "                                                           2        3         \n",
       "                                                          A (r, θ)⋅C (r, θ)   \n",
       "\n",
       "                               2⎤\n",
       "                  ⎛∂          ⎞ ⎥\n",
       "(r, θ)) - C(r, θ)⋅⎜──(A(r, θ))⎟ ⎥\n",
       "                  ⎝∂θ         ⎠ ⎥\n",
       "                                ⎥\n",
       "────────────────────────────────⎥\n",
       "                                ⎥\n",
       "                                ⎦"
      ]
     },
     "execution_count": 11,
     "metadata": {},
     "output_type": "execute_result"
    }
   ],
   "source": [
    "# Derivadas de los escalares \n",
    "Da1= pt.ten('Da1',1)\n",
    "Da1.assign(pt.D(a1,\"_a\"), \"_a\")\n",
    "Da1.simplify()\n",
    "Da1dag= Ku('^a')*Da1('_a') \n",
    "\n",
    "Da2= pt.ten('Da2',1)\n",
    "Da2.assign(pt.D(a2,\"_a\"), \"_a\")\n",
    "Da2.simplify()\n",
    "Da2dag= Ku('^a')*Da2('_a') \n",
    "\n",
    "Da1th= pt.ten('Da1th',1)\n",
    "Da1th.assign(pt.D(a1,\"_a\"), \"_a\")\n",
    "Da1th.simplify()\n",
    "Da1theta= Lu('^a')*Da1th('_a') \n",
    "\n",
    "Da2th= pt.ten('Da2th',1)\n",
    "Da2th.assign(pt.D(a2,\"_a\"), \"_a\")\n",
    "Da2th.simplify()\n",
    "Da2theta= Lu('^a')*Da2th('_a') \n",
    "\n",
    "[Da1theta,Da2theta ]"
   ]
  },
  {
   "cell_type": "markdown",
   "id": "c4f15e66",
   "metadata": {},
   "source": [
    "$$ \n",
    "j_1= L^\\mu K_{\\mu;\\nu}  K^\\nu \\,, \\quad j_2= L^\\mu K_{\\mu;\\nu}  L^\\nu \\,,\\quad j_3 = L^\\mu K_{\\mu;\\nu}  S^\\nu \\,,\\quad  j_4=S^\\mu K_{\\mu;\\nu}  K^\\nu \\,, \\quad j_5= S^\\mu K_{\\mu;\\nu}  L^\\nu \\,,\\quad j_6 = S^\\mu K_{\\mu;\\nu}  S^\\nu \\,,\\quad j_7= S^\\mu L_{\\mu;\\nu}  K^\\nu \\,,\\quad  j_8= S^\\mu L_{\\mu;\\nu}  L^\\nu \\,, \\quad  j_9 = S^\\mu S_{\\mu;\\nu}  S^\\nu \n",
    "$$"
   ]
  },
  {
   "cell_type": "code",
   "execution_count": 12,
   "id": "a0f64cba",
   "metadata": {
    "scrolled": true
   },
   "outputs": [
    {
     "data": {
      "image/png": "[encoded data removed]",
      "text/latex": [
       "$\\displaystyle \\left[ - \\frac{\\frac{\\partial}{\\partial \\theta} B{\\left(r,\\theta \\right)}}{B{\\left(r,\\theta \\right)} C{\\left(r,\\theta \\right)}}, \\  \\frac{\\frac{\\partial}{\\partial r} C{\\left(r,\\theta \\right)}}{B{\\left(r,\\theta \\right)} C{\\left(r,\\theta \\right)}}, \\  0, \\  0, \\  0, \\  \\frac{A^{3}{\\left(r,\\theta \\right)} D{\\left(r,\\theta \\right)} \\frac{\\partial}{\\partial r} D{\\left(r,\\theta \\right)} + A{\\left(r,\\theta \\right)} \\omega{\\left(r,\\theta \\right)} \\frac{\\partial}{\\partial r} \\omega{\\left(r,\\theta \\right)} - \\omega^{2}{\\left(r,\\theta \\right)} \\frac{\\partial}{\\partial r} A{\\left(r,\\theta \\right)}}{\\left(A^{2}{\\left(r,\\theta \\right)} D^{2}{\\left(r,\\theta \\right)} + \\omega^{2}{\\left(r,\\theta \\right)}\\right) A{\\left(r,\\theta \\right)} B{\\left(r,\\theta \\right)}}\\right]$"
      ],
      "text/plain": [
       "⎡  ∂                ∂                        3               ∂                \n",
       "⎢ -──(B(r, θ))      ──(C(r, θ))             A (r, θ)⋅D(r, θ)⋅──(D(r, θ)) + A(r\n",
       "⎢  ∂θ               ∂r                                       ∂r               \n",
       "⎢───────────────, ───────────────, 0, 0, 0, ──────────────────────────────────\n",
       "⎢B(r, θ)⋅C(r, θ)  B(r, θ)⋅C(r, θ)                             ⎛ 2        2    \n",
       "⎣                                                             ⎝A (r, θ)⋅D (r, \n",
       "\n",
       "             ∂              2       ∂          ⎤\n",
       ", θ)⋅ω(r, θ)⋅──(ω(r, θ)) - ω (r, θ)⋅──(A(r, θ))⎥\n",
       "             ∂r                     ∂r         ⎥\n",
       "───────────────────────────────────────────────⎥\n",
       "      2      ⎞                                 ⎥\n",
       "θ) + ω (r, θ)⎠⋅A(r, θ)⋅B(r, θ)                 ⎦"
      ]
     },
     "execution_count": 12,
     "metadata": {},
     "output_type": "execute_result"
    }
   ],
   "source": [
    "j1= pt.simplify(Lu(\"^c\")*DcKd(\"_c,_d\")*Ku(\"^d\"))\n",
    "j2= pt.simplify(Lu(\"^c\")*DcKd(\"_c,_d\")*Lu(\"^d\"))\n",
    "j3= pt.simplify(Lu(\"^c\")*DcKd(\"_c,_d\")*Su(\"^d\"))\n",
    "j4= pt.simplify(Su(\"^c\")*DcKd(\"_c,_d\")*Ku(\"^d\"))\n",
    "j5= pt.simplify(Su(\"^c\")*DcKd(\"_c,_d\")*Lu(\"^d\"))\n",
    "j6= pt.simplify(Su(\"^c\")*DcKd(\"_c,_d\")*Su(\"^d\"))\n",
    "\n",
    "j7= pt.simplify(Su(\"^c\")*DcLd(\"_c,_d\")*Ku(\"^d\"))\n",
    "j8= pt.simplify(Su(\"^c\")*DcLd(\"_c,_d\")*Lu(\"^d\"))\n",
    "j9= pt.simplify(Su(\"^c\")*DcLd(\"_c,_d\")*Su(\"^d\"))\n",
    "\n",
    "([j1,j2,j3,j4,j5,j6])"
   ]
  },
  {
   "cell_type": "code",
   "execution_count": 13,
   "id": "9ee9c3aa",
   "metadata": {},
   "outputs": [
    {
     "data": {
      "image/png": "[encoded data removed]",
      "text/latex": [
       "$\\displaystyle \\left[ 0, \\  0, \\  \\frac{A^{3}{\\left(r,\\theta \\right)} D{\\left(r,\\theta \\right)} \\frac{\\partial}{\\partial \\theta} D{\\left(r,\\theta \\right)} + A{\\left(r,\\theta \\right)} \\omega{\\left(r,\\theta \\right)} \\frac{\\partial}{\\partial \\theta} \\omega{\\left(r,\\theta \\right)} - \\omega^{2}{\\left(r,\\theta \\right)} \\frac{\\partial}{\\partial \\theta} A{\\left(r,\\theta \\right)}}{\\left(A^{2}{\\left(r,\\theta \\right)} D^{2}{\\left(r,\\theta \\right)} + \\omega^{2}{\\left(r,\\theta \\right)}\\right) A{\\left(r,\\theta \\right)} C{\\left(r,\\theta \\right)}}\\right]$"
      ],
      "text/plain": [
       "⎡       3               ∂                             ∂              2       ∂\n",
       "⎢      A (r, θ)⋅D(r, θ)⋅──(D(r, θ)) + A(r, θ)⋅ω(r, θ)⋅──(ω(r, θ)) - ω (r, θ)⋅─\n",
       "⎢                       ∂θ                            ∂θ                     ∂\n",
       "⎢0, 0, ───────────────────────────────────────────────────────────────────────\n",
       "⎢                        ⎛ 2        2          2      ⎞                       \n",
       "⎣                        ⎝A (r, θ)⋅D (r, θ) + ω (r, θ)⎠⋅A(r, θ)⋅C(r, θ)       \n",
       "\n",
       "          ⎤\n",
       "─(A(r, θ))⎥\n",
       "θ         ⎥\n",
       "──────────⎥\n",
       "          ⎥\n",
       "          ⎦"
      ]
     },
     "execution_count": 13,
     "metadata": {},
     "output_type": "execute_result"
    }
   ],
   "source": [
    "[j7,j8,j9]"
   ]
  },
  {
   "cell_type": "code",
   "execution_count": 14,
   "id": "ac24b62e",
   "metadata": {},
   "outputs": [],
   "source": [
    "# Derivas de las jotas\n",
    "Dj1= pt.ten('Dj1',1)\n",
    "Dj1.assign(pt.D(j1,\"_a\"), \"_a\")\n",
    "Dj1.simplify()\n",
    "Dj1dag= Ku('^a')*Dj1('_a') \n",
    "\n",
    "Dj2= pt.ten('Dj2',1)\n",
    "Dj2.assign(pt.D(j2,\"_a\"), \"_a\")\n",
    "Dj2.simplify()\n",
    "Dj2dag= Ku('^a')*Dj2('_a') \n",
    "\n",
    "Dj6= pt.ten('Dj6',1)\n",
    "Dj6.assign(pt.D(j6,\"_a\"), \"_a\")\n",
    "Dj6.simplify()\n",
    "Dj6dag= Ku('^a')*Dj6('_a') \n",
    "\n",
    "Dj9= pt.ten('Dj9',1)\n",
    "Dj9.assign(pt.D(j9,\"_a\"), \"_a\")\n",
    "Dj9.simplify()\n",
    "Dj9dag= Ku('^a')*Dj9('_a')\n",
    "\n",
    "Dj1th= pt.ten('Dj1th',1)\n",
    "Dj1th.assign(pt.D(j1,\"_a\"), \"_a\")\n",
    "Dj1th.simplify()\n",
    "Dj1theta= Lu('^a')*Dj1th('_a') \n",
    "\n",
    "Dj2th= pt.ten('Dj2th',1)\n",
    "Dj2th.assign(pt.D(j2,\"_a\"), \"_a\")\n",
    "Dj2th.simplify()\n",
    "Dj2theta= Lu('^a')*Dj2th('_a') \n",
    "\n",
    "Dj6th= pt.ten('Dj6th',1)\n",
    "Dj6th.assign(pt.D(j6,\"_a\"), \"_a\")\n",
    "Dj6th.simplify()\n",
    "Dj6theta= Lu('^a')*Dj6th('_a')\n",
    "\n",
    "Dj9th= pt.ten('Dj9th',1)\n",
    "Dj9th.assign(pt.D(j9,\"_a\"), \"_a\")\n",
    "Dj9th.simplify()\n",
    "Dj9theta= Lu('^a')*Dj9th('_a')\n"
   ]
  },
  {
   "cell_type": "markdown",
   "id": "4c107c09",
   "metadata": {},
   "source": [
    "$$\n",
    "\\Omega_{\\alpha \\beta}= \\frac12\\left( V_{\\alpha;\\beta}-V_{\\beta;\\alpha} + a_{\\alpha}V_{\\beta} - a_{\\beta}V_{\\alpha}\\right)\n",
    "$$"
   ]
  },
  {
   "cell_type": "code",
   "execution_count": 15,
   "id": "3f7419a0",
   "metadata": {},
   "outputs": [],
   "source": [
    "Omed = pt.ten(\"Omed\",2)\n",
    "Omed.assign((DcVd(\"_a,_b\")-DcVd(\"_b,_a\") + ad(\"_a\")*Vd(\"_b\")-ad(\"_b\")*Vd(\"_a\"))/2,\"_a,_b\")\n",
    "Omed.factor()"
   ]
  },
  {
   "cell_type": "markdown",
   "id": "7a0de55e",
   "metadata": {},
   "source": [
    "$$\n",
    "\\Omega_1= K^{a}\\Omega_{\\alpha \\beta}L^{\\beta}\\,,\\quad \\Omega_2= S^{a}\\Omega_{\\alpha \\beta}K^{\\beta}\\,,\\quad \\Omega_3= S^{a}\\Omega_{\\alpha \\beta}L^{\\beta}\\,,\\quad \\Omega=\\frac{\\Omega_2}{\\Omega_3}\n",
    "$$"
   ]
  },
  {
   "cell_type": "code",
   "execution_count": 16,
   "id": "70cdb2be",
   "metadata": {},
   "outputs": [
    {
     "data": {
      "image/png": "[encoded data removed]",
      "text/latex": [
       "$\\displaystyle \\left[ 0, \\  - \\frac{A{\\left(r,\\theta \\right)} \\frac{\\partial}{\\partial r} \\omega{\\left(r,\\theta \\right)} - 2 \\omega{\\left(r,\\theta \\right)} \\frac{\\partial}{\\partial r} A{\\left(r,\\theta \\right)}}{2 \\sqrt{A^{2}{\\left(r,\\theta \\right)} D^{2}{\\left(r,\\theta \\right)} + \\omega^{2}{\\left(r,\\theta \\right)}} A{\\left(r,\\theta \\right)} B{\\left(r,\\theta \\right)}}, \\  - \\frac{A{\\left(r,\\theta \\right)} \\frac{\\partial}{\\partial \\theta} \\omega{\\left(r,\\theta \\right)} - 2 \\omega{\\left(r,\\theta \\right)} \\frac{\\partial}{\\partial \\theta} A{\\left(r,\\theta \\right)}}{2 \\sqrt{A^{2}{\\left(r,\\theta \\right)} D^{2}{\\left(r,\\theta \\right)} + \\omega^{2}{\\left(r,\\theta \\right)}} A{\\left(r,\\theta \\right)} C{\\left(r,\\theta \\right)}}\\right]$"
      ],
      "text/plain": [
       "⎡      ⎛        ∂                       ∂          ⎞        ⎛        ∂        \n",
       "⎢     -⎜A(r, θ)⋅──(ω(r, θ)) - 2⋅ω(r, θ)⋅──(A(r, θ))⎟       -⎜A(r, θ)⋅──(ω(r, θ\n",
       "⎢      ⎝        ∂r                      ∂r         ⎠        ⎝        ∂θ       \n",
       "⎢0, ───────────────────────────────────────────────────, ─────────────────────\n",
       "⎢        ______________________________                       ________________\n",
       "⎢       ╱  2        2          2                             ╱  2        2    \n",
       "⎣   2⋅╲╱  A (r, θ)⋅D (r, θ) + ω (r, θ) ⋅A(r, θ)⋅B(r, θ)  2⋅╲╱  A (r, θ)⋅D (r, \n",
       "\n",
       "               ∂          ⎞   ⎤\n",
       ")) - 2⋅ω(r, θ)⋅──(A(r, θ))⎟   ⎥\n",
       "               ∂θ         ⎠   ⎥\n",
       "──────────────────────────────⎥\n",
       "______________                ⎥\n",
       "      2                       ⎥\n",
       "θ) + ω (r, θ) ⋅A(r, θ)⋅C(r, θ)⎦"
      ]
     },
     "execution_count": 16,
     "metadata": {},
     "output_type": "execute_result"
    }
   ],
   "source": [
    "Omega1= pt.factor(Ku(\"^a\")*Omed(\"_a,_b\")*Lu(\"^b\"))\n",
    "Omega2= pt.factor(Ku(\"^a\")*Omed(\"_a,_b\")*Su(\"^b\"))\n",
    "Omega3= pt.factor(Lu(\"^a\")*Omed(\"_a,_b\")*Su(\"^b\"))\n",
    "Omega = pt.simplify(Omega2/Omega3)\n",
    "[Omega1,Omega2,Omega3]"
   ]
  },
  {
   "cell_type": "markdown",
   "id": "1e3df28e",
   "metadata": {},
   "source": [
    "$$\n",
    "\\begin{aligned}\n",
    "\\Omega_{\\alpha \\beta} &=\\Omega_{1}\\left(K_{\\alpha} L_{\\beta}-K_{\\beta} L_{\\alpha}\\right)+\\Omega_{2}\\left(K_{\\alpha} S_{\\beta}-K_{\\beta} S_{\\alpha}\\right) +\\Omega_{3}\\left(L_{\\alpha} S_{\\beta}-L_{\\beta} S_{\\alpha}\\right)\n",
    "\\end{aligned}\n",
    "$$"
   ]
  },
  {
   "cell_type": "code",
   "execution_count": 17,
   "id": "37bfd307",
   "metadata": {},
   "outputs": [
    {
     "data": {
      "image/png": "[encoded data removed]",
      "text/latex": [
       "$\\displaystyle \\left[\\begin{matrix}0 & 0 & 0 & 0\\\\0 & 0 & 0 & \\frac{A{\\left(r,\\theta \\right)} \\frac{\\partial}{\\partial r} \\omega{\\left(r,\\theta \\right)} - 2 \\omega{\\left(r,\\theta \\right)} \\frac{\\partial}{\\partial r} A{\\left(r,\\theta \\right)}}{2 A^{2}{\\left(r,\\theta \\right)}}\\\\0 & 0 & 0 & \\frac{A{\\left(r,\\theta \\right)} \\frac{\\partial}{\\partial \\theta} \\omega{\\left(r,\\theta \\right)} - 2 \\omega{\\left(r,\\theta \\right)} \\frac{\\partial}{\\partial \\theta} A{\\left(r,\\theta \\right)}}{2 A^{2}{\\left(r,\\theta \\right)}}\\\\0 & - \\frac{A{\\left(r,\\theta \\right)} \\frac{\\partial}{\\partial r} \\omega{\\left(r,\\theta \\right)} - 2 \\omega{\\left(r,\\theta \\right)} \\frac{\\partial}{\\partial r} A{\\left(r,\\theta \\right)}}{2 A^{2}{\\left(r,\\theta \\right)}} & - \\frac{A{\\left(r,\\theta \\right)} \\frac{\\partial}{\\partial \\theta} \\omega{\\left(r,\\theta \\right)} - 2 \\omega{\\left(r,\\theta \\right)} \\frac{\\partial}{\\partial \\theta} A{\\left(r,\\theta \\right)}}{2 A^{2}{\\left(r,\\theta \\right)}} & 0\\end{matrix}\\right]$"
      ],
      "text/plain": [
       "⎡0                         0                                                0 \n",
       "⎢                                                                             \n",
       "⎢                                                                             \n",
       "⎢                                                                             \n",
       "⎢                                                                             \n",
       "⎢0                         0                                                0 \n",
       "⎢                                                                             \n",
       "⎢                                                                             \n",
       "⎢                                                                             \n",
       "⎢                                                                             \n",
       "⎢                                                                             \n",
       "⎢                                                                             \n",
       "⎢0                         0                                                0 \n",
       "⎢                                                                             \n",
       "⎢                                                                             \n",
       "⎢                                                                             \n",
       "⎢    ⎛        ∂                       ∂          ⎞    ⎛        ∂              \n",
       "⎢   -⎜A(r, θ)⋅──(ω(r, θ)) - 2⋅ω(r, θ)⋅──(A(r, θ))⎟   -⎜A(r, θ)⋅──(ω(r, θ)) - 2\n",
       "⎢    ⎝        ∂r                      ∂r         ⎠    ⎝        ∂θ             \n",
       "⎢0  ───────────────────────────────────────────────  ─────────────────────────\n",
       "⎢                         2                                                2  \n",
       "⎣                      2⋅A (r, θ)                                       2⋅A (r\n",
       "\n",
       "                                             0                     ⎤\n",
       "                                                                   ⎥\n",
       "                                ∂                       ∂          ⎥\n",
       "                        A(r, θ)⋅──(ω(r, θ)) - 2⋅ω(r, θ)⋅──(A(r, θ))⎥\n",
       "                                ∂r                      ∂r         ⎥\n",
       "                        ───────────────────────────────────────────⎥\n",
       "                                            2                      ⎥\n",
       "                                         2⋅A (r, θ)                ⎥\n",
       "                                                                   ⎥\n",
       "                                ∂                       ∂          ⎥\n",
       "                        A(r, θ)⋅──(ω(r, θ)) - 2⋅ω(r, θ)⋅──(A(r, θ))⎥\n",
       "                                ∂θ                      ∂θ         ⎥\n",
       "                        ───────────────────────────────────────────⎥\n",
       "                                            2                      ⎥\n",
       "                                         2⋅A (r, θ)                ⎥\n",
       "                                                                   ⎥\n",
       "         ∂          ⎞                                              ⎥\n",
       "⋅ω(r, θ)⋅──(A(r, θ))⎟                                              ⎥\n",
       "         ∂θ         ⎠                                              ⎥\n",
       "──────────────────────                       0                     ⎥\n",
       "                                                                   ⎥\n",
       ", θ)                                                               ⎦"
      ]
     },
     "metadata": {},
     "output_type": "display_data"
    }
   ],
   "source": [
    "Omed = pt.ten(\"Omed\",2)\n",
    "Omed.assign(Omega1*(Kd(\"_a\")*Ld(\"_b\") - Kd(\"_b\")*Ld(\"_a\")) \\\n",
    "             + Omega2*(Sd(\"_a\")*Kd(\"_b\") - Sd(\"_b\")*Kd(\"_a\")) \\\n",
    "             + Omega3*(Sd(\"_a\")*Ld(\"_b\") - Sd(\"_b\")*Ld(\"_a\")),\"_a,_b\")\n",
    "Omed.factor()\n",
    "Omed.display()"
   ]
  },
  {
   "cell_type": "code",
   "execution_count": 18,
   "id": "242f5e0a",
   "metadata": {},
   "outputs": [],
   "source": [
    "# Derivadas de las omegas\n",
    "DOme2= pt.ten('DOme2',1)\n",
    "DOme2.assign(pt.D(Omega2,\"_a\"), \"_a\")\n",
    "DOme2.simplify()\n",
    "DOme2dag= Ku('^a')*DOme2('_a') \n",
    "\n",
    "DOme3= pt.ten('DOme3',1)\n",
    "DOme3.assign(pt.D(Omega3,\"_a\"), \"_a\")\n",
    "DOme3.simplify()\n",
    "DOme3dag= Ku('^a')*DOme3('_a') \n",
    "\n",
    "DOme2th= pt.ten('DOme2th',1)\n",
    "DOme2th.assign(pt.D(Omega2,\"_a\"), \"_a\")\n",
    "DOme2th.simplify()\n",
    "DOme2theta= Lu('^a')*DOme2th('_a')\n",
    "\n",
    "DOme3th= pt.ten('DOme3th',1)\n",
    "DOme3th.assign(pt.D(Omega3,\"_a\"), \"_a\")\n",
    "DOme3th.simplify()\n",
    "DOme3theta= Lu('^a')*DOme3th('_a')"
   ]
  },
  {
   "cell_type": "markdown",
   "id": "fd872778",
   "metadata": {},
   "source": [
    "## Verificando \n",
    "$$\n",
    "\\begin{aligned}\n",
    "j_{1}^{\\dagger}+j_{2}^{\\theta} &=0 \\qquad (73) \\\\\n",
    "a_{1}^{\\theta}-a_{2}^{\\dagger} &=a_{1} j_{1}+a_{2} j_{2} \\qquad (74)\\\\\n",
    "j_{6}^{\\theta}-j_{9}^{\\dagger} &=j_{6} j_{1}+j_{9} j_{2} \\qquad (75) \\\\\n",
    "\\Omega_{2}^{\\theta}-\\Omega_{3}^{\\dagger}&=\\left(a_{2}+j_{1}-j_{9}\\right) \\Omega_{2}+\\left(j_{6}+j_{2}-a_{1}\\right) \\Omega_{3} \\qquad (76)\n",
    "\\end{aligned}\n",
    "$$"
   ]
  },
  {
   "cell_type": "code",
   "execution_count": 19,
   "id": "f324108e",
   "metadata": {},
   "outputs": [
    {
     "data": {
      "image/png": "[encoded data removed]",
      "text/latex": [
       "$\\displaystyle \\left[ \\frac{\\frac{\\partial^{2}}{\\partial \\theta\\partial r} C{\\left(r,\\theta \\right)}}{B{\\left(r,\\theta \\right)} C^{2}{\\left(r,\\theta \\right)}} - \\frac{\\frac{\\partial}{\\partial r} C{\\left(r,\\theta \\right)} \\frac{\\partial}{\\partial \\theta} C{\\left(r,\\theta \\right)}}{B{\\left(r,\\theta \\right)} C^{3}{\\left(r,\\theta \\right)}} - \\frac{\\frac{\\partial^{2}}{\\partial \\theta\\partial r} B{\\left(r,\\theta \\right)}}{B^{2}{\\left(r,\\theta \\right)} C{\\left(r,\\theta \\right)}} + \\frac{\\frac{\\partial}{\\partial r} B{\\left(r,\\theta \\right)} \\frac{\\partial}{\\partial \\theta} B{\\left(r,\\theta \\right)}}{B^{3}{\\left(r,\\theta \\right)} C{\\left(r,\\theta \\right)}}, \\  0, \\  0\\right]$"
      ],
      "text/plain": [
       "⎡    2                                            2                           \n",
       "⎢   ∂               ∂           ∂                ∂               ∂           ∂\n",
       "⎢ ─────(C(r, θ))    ──(C(r, θ))⋅──(C(r, θ))    ─────(B(r, θ))    ──(B(r, θ))⋅─\n",
       "⎢ ∂θ ∂r             ∂r          ∂θ             ∂θ ∂r             ∂r          ∂\n",
       "⎢──────────────── - ─────────────────────── - ──────────────── + ─────────────\n",
       "⎢         2                      3             2                      3       \n",
       "⎣B(r, θ)⋅C (r, θ)       B(r, θ)⋅C (r, θ)      B (r, θ)⋅C(r, θ)       B (r, θ)⋅\n",
       "\n",
       "                ⎤\n",
       "                ⎥\n",
       "─(B(r, θ))      ⎥\n",
       "θ               ⎥\n",
       "──────────, 0, 0⎥\n",
       "                ⎥\n",
       "C(r, θ)         ⎦"
      ]
     },
     "execution_count": 19,
     "metadata": {},
     "output_type": "execute_result"
    }
   ],
   "source": [
    "ec73= pt.simplify(Dj1dag + Dj2theta)\n",
    "ec74= pt.simplify(Da1theta - Da2dag - a1*j1 - a2*j2)\n",
    "ec75= pt.simplify(Dj6theta - Dj9dag - j6*j1 - j9*j2)\n",
    "[ec73,ec74,ec75]"
   ]
  },
  {
   "cell_type": "code",
   "execution_count": 20,
   "id": "eb0483cf",
   "metadata": {},
   "outputs": [
    {
     "data": {
      "image/png": "[encoded data removed]",
      "text/latex": [
       "$\\displaystyle 0$"
      ],
      "text/plain": [
       "0"
      ]
     },
     "execution_count": 20,
     "metadata": {},
     "output_type": "execute_result"
    }
   ],
   "source": [
    "ec76= pt.simplify(DOme2theta - DOme3dag - (a2+j1-j9)*Omega2 - (j6+j2-a1)*Omega3  )\n",
    "ec76"
   ]
  },
  {
   "cell_type": "code",
   "execution_count": 21,
   "id": "8752f5b3",
   "metadata": {},
   "outputs": [
    {
     "data": {
      "text/latex": [
       "Riemann Tensor $R^{\\alpha}_{\\beta \\gamma \\delta}$"
      ],
      "text/plain": [
       "<IPython.core.display.Latex object>"
      ]
     },
     "metadata": {},
     "output_type": "display_data"
    },
    {
     "data": {
      "application/vnd.jupyter.widget-view+json": {
       "model_id": "fa192089645544eab8310657b5b149cd",
       "version_major": 2,
       "version_minor": 0
      },
      "text/plain": [
       "  0%|          | 0/256 [00:00<?, ?it/s]"
      ]
     },
     "metadata": {},
     "output_type": "display_data"
    },
    {
     "data": {
      "text/latex": [
       "Ricci Tensor $R_{\\alpha \\beta}$"
      ],
      "text/plain": [
       "<IPython.core.display.Latex object>"
      ]
     },
     "metadata": {},
     "output_type": "display_data"
    },
    {
     "data": {
      "application/vnd.jupyter.widget-view+json": {
       "model_id": "de2e193325824517b572c5b19a0c56f1",
       "version_major": 2,
       "version_minor": 0
      },
      "text/plain": [
       "  0%|          | 0/16 [00:00<?, ?it/s]"
      ]
     },
     "metadata": {},
     "output_type": "display_data"
    },
    {
     "data": {
      "application/vnd.jupyter.widget-view+json": {
       "model_id": "2fd849c849364ca6a922531ff446893e",
       "version_major": 2,
       "version_minor": 0
      },
      "text/plain": [
       "Ricci Tensor $R{^\\alpha}{_\\beta}$:   0%|          | 0/16 [00:00<?, ?it/s]"
      ]
     },
     "metadata": {},
     "output_type": "display_data"
    },
    {
     "data": {
      "application/vnd.jupyter.widget-view+json": {
       "model_id": "6fce3888b86c4a4483e6ecb4bc84c75b",
       "version_major": 2,
       "version_minor": 0
      },
      "text/plain": [
       "Ricci Tensor $R{^\\alpha}{^\\beta}$:   0%|          | 0/16 [00:00<?, ?it/s]"
      ]
     },
     "metadata": {},
     "output_type": "display_data"
    },
    {
     "data": {
      "application/vnd.jupyter.widget-view+json": {
       "model_id": "9d1abc8e20084b60a393110b60071420",
       "version_major": 2,
       "version_minor": 0
      },
      "text/plain": [
       "Ricci Tensor $R{_\\alpha}{^\\beta}$:   0%|          | 0/16 [00:00<?, ?it/s]"
      ]
     },
     "metadata": {},
     "output_type": "display_data"
    },
    {
     "data": {
      "text/latex": [
       "All other indices of Ricci Tensor $R$  already calculated."
      ],
      "text/plain": [
       "<IPython.core.display.Latex object>"
      ]
     },
     "metadata": {},
     "output_type": "display_data"
    }
   ],
   "source": [
    "Ric = pt.ricci()\n",
    "Ric.complete('_,_')"
   ]
  },
  {
   "cell_type": "markdown",
   "id": "9a2f8881",
   "metadata": {},
   "source": [
    "## Verificando\n",
    "$$\n",
    "a_{1}^{\\dagger}+a_{2}^{\\theta}+a_{1}\\left(a_{1}+j_{2}+j_{6}\\right)+a_{2}\\left(a_{2}+j_{9}-j_{1}\\right)+2\\left(\\Omega_{2}^{2}+\\Omega_{3}^{2}\\right)=0 \\qquad (21) \n",
    "$$"
   ]
  },
  {
   "cell_type": "code",
   "execution_count": 22,
   "id": "b36de888",
   "metadata": {},
   "outputs": [],
   "source": [
    "ec21 = factor( Da1dag + Da2theta + a1*(a1+j2+j6) + a2*(a2+j9-j1) + 2*(Omega2**2 + Omega3**2) )\n",
    "#ec21"
   ]
  },
  {
   "cell_type": "markdown",
   "id": "7893a727",
   "metadata": {},
   "source": [
    "$$\n",
    "\\Omega_{2}^{\\dagger}+\\Omega_{2}\\left(2 a_{1}+j_{2}\\right)+\\Omega_{3}^{\\theta}+\\Omega_{3}\\left(2 a_{2}-j_{1}\\right)=0 \\qquad (22) \n",
    "$$"
   ]
  },
  {
   "cell_type": "code",
   "execution_count": 23,
   "id": "f48acba7",
   "metadata": {},
   "outputs": [],
   "source": [
    "ec22 = factor(DOme2dag + Omega2*(2*a1+j2) + DOme3theta + Omega3*(2*a2-j1))\n",
    "#ec22"
   ]
  },
  {
   "cell_type": "markdown",
   "id": "6ff3740a",
   "metadata": {},
   "source": [
    "$$\n",
    "j_{1}^{\\theta}-\\left(a_{1}+j_{2}+j_{6}\\right)^{\\dagger}+j_{1}\\left(a_{2}+j_{9}-j_{1}\\right)-a_{1}^{2}-j_{2}^{2}-j_{6}^{2}+2 \\Omega_{2}^{2}=0 \\qquad (23)\n",
    "$$"
   ]
  },
  {
   "cell_type": "code",
   "execution_count": 24,
   "id": "2fb4096d",
   "metadata": {},
   "outputs": [],
   "source": [
    "ec23 = factor(Dj1theta - Da1dag - Dj2dag - Dj6dag + j1*(a2+j9-j1) - a1**2 - j2**2 -  j6**2 + 2*Omega2**2) \n",
    "#ec23"
   ]
  },
  {
   "cell_type": "markdown",
   "id": "f59ada00",
   "metadata": {},
   "source": [
    "$$\n",
    "\\left(a_{1}+j_{6}\\right)^{\\theta}+a_{2}\\left(a_{1}-j_{2}\\right)+j_{9}\\left(j_{6}-j_{2}\\right)-2 \\Omega_{2} \\Omega_{3}=0 \\qquad (24)\n",
    "$$"
   ]
  },
  {
   "cell_type": "code",
   "execution_count": 25,
   "id": "cf4f6a74",
   "metadata": {},
   "outputs": [],
   "source": [
    "ec24 = factor(Da1theta + Dj6theta + a2*(a1-j2) + j9*(j6-j2) - 2*Omega2*Omega3)\n",
    "#ec24"
   ]
  },
  {
   "cell_type": "markdown",
   "id": "88c19d7c",
   "metadata": {},
   "source": [
    "$$\n",
    "\\left(a_{2}+j_{9}\\right)^{\\dagger}+a_{1}\\left(a_{2}+j_{1}\\right)+j_{1} j_{6}+j_{6} j_{9}-2 \\Omega_{2} \\Omega_{3}=0 \\qquad (25)\n",
    "$$"
   ]
  },
  {
   "cell_type": "code",
   "execution_count": 26,
   "id": "84c25907",
   "metadata": {},
   "outputs": [],
   "source": [
    "ec25 = factor(Da2dag + Dj9dag + a1*(a2+j1) +  j1*j6 +j6*j9 -2*Omega2*Omega3)\n",
    "#ec25 "
   ]
  },
  {
   "cell_type": "markdown",
   "id": "01b45a52",
   "metadata": {},
   "source": [
    "$$\n",
    "j_{2}^{\\dagger}+\\left(a_{2}-j_{1}+j_{9}\\right)^{\\theta}+a_{1} j_{2}+j_{2} j_{6}+a_{2}^{2}+j_{1}^{2}+j_{2}^{2}+j_{9}^{2}-2 \\Omega_{3}^{2}=0 \\qquad (26)\n",
    "$$"
   ]
  },
  {
   "cell_type": "code",
   "execution_count": 27,
   "id": "1c278405",
   "metadata": {},
   "outputs": [],
   "source": [
    "ec26 = factor(Dj2dag + Da2theta - Dj1theta + Dj9theta + a1*j2 + j2*j6 + a2**2 + j1**2 + j2**2 + j9**2 - 2*Omega3**2)\n",
    "#ec26"
   ]
  },
  {
   "cell_type": "markdown",
   "id": "81cea124",
   "metadata": {},
   "source": [
    "$$\n",
    "j_{6}^{\\dagger}+j_{9}^{\\theta}+j_{6}\\left(a_{1}+j_{2}+j_{6}\\right)+j_{9}\\left(a_{2}-j_{1}+j_{9}\\right)-2\\left(\\Omega_{2}^{2}+\\Omega_{3}^{2}\\right)=0 \\qquad (27)\n",
    "$$"
   ]
  },
  {
   "cell_type": "code",
   "execution_count": 28,
   "id": "317d54c7",
   "metadata": {},
   "outputs": [],
   "source": [
    "ec27 = factor(Dj6dag + Dj9theta + j6*(a1+j2+j6) + j9*(a2-j1+j9)  -2*(Omega2**2 + Omega3**2))\n",
    "#ec27"
   ]
  },
  {
   "cell_type": "markdown",
   "id": "443d55c1",
   "metadata": {},
   "source": [
    "$$\n",
    "(21)\\qquad  V^a R_{ab} V^b \\\\\n",
    "(22)\\qquad  V^a R_{ab} S^b \\\\\n",
    "(23)\\qquad  K^a R_{ab} K^b \\\\\n",
    "(24)\\quad -K^a R_{ab} L^b \\\\\n",
    "(25)\\quad -L^a R_{ab} K^b \\\\\n",
    "(26)\\quad -L^a R_{ab} L^b \\\\\n",
    "(27)\\quad -S^a R_{ab} S^b\n",
    "$$"
   ]
  },
  {
   "cell_type": "code",
   "execution_count": 29,
   "id": "b9172dab",
   "metadata": {},
   "outputs": [],
   "source": [
    "ec21g=Vu(\"^a\")*Ric(\"_a,_b\")*Vu(\"^b\")\n",
    "ec22g=Vu(\"^a\")*Ric(\"_a,_b\")*Su(\"^b\")\n",
    "ec23g=Ku(\"^a\")*Ric(\"_a,_b\")*Ku(\"^b\")\n",
    "ec24g=-1*Ku(\"^a\")*Ric(\"_a,_b\")*Lu(\"^b\")\n",
    "ec25g=-1*Lu(\"^a\")*Ric(\"_a,_b\")*Ku(\"^b\")\n",
    "ec26g=-1*Lu(\"^a\")*Ric(\"_a,_b\")*Lu(\"^b\")\n",
    "ec27g=-1*Su(\"^a\")*Ric(\"_a,_b\")*Su(\"^b\")"
   ]
  },
  {
   "cell_type": "code",
   "execution_count": 30,
   "id": "fca4fefe",
   "metadata": {},
   "outputs": [
    {
     "data": {
      "image/png": "[encoded data removed]",
      "text/latex": [
       "$\\displaystyle \\left[ 0, \\  0, \\  0, \\  0, \\  0, \\  0, \\  0\\right]$"
      ],
      "text/plain": [
       "[0, 0, 0, 0, 0, 0, 0]"
      ]
     },
     "execution_count": 30,
     "metadata": {},
     "output_type": "execute_result"
    }
   ],
   "source": [
    "[pt.simplify(ec21g-ec21),pt.simplify(ec22g-ec22),pt.simplify(ec23g-ec23), pt.simplify(ec24g-ec24),\\\n",
    "    pt.simplify(ec25g-ec25),pt.simplify(ec26g-ec26), pt.simplify(ec27g-ec27) ]"
   ]
  },
  {
   "cell_type": "code",
   "execution_count": 31,
   "id": "5d1e161f",
   "metadata": {},
   "outputs": [],
   "source": [
    "ec28 = ec21.subs(sqrt(A**2*D**2 + omega**2), Phi)\n",
    "ec28 = pt.factor(ec28)\n",
    "\n",
    "ec28jus= pt.simplify((a1*C*sqrt(A**2*D**2+omega**2)).diff(r)) + pt.simplify((a2*B*sqrt(A**2*D**2+omega**2)).diff(theta)) + 2*B*C*sqrt(A**2*D**2+omega**2)*(Omega2**2+Omega3**2)\n",
    "ec28jus2= ec28jus.subs(sqrt(A**2*D**2+omega**2), Phi)\n",
    "ec28jus = pt.factor(ec28jus2/(B*C*Phi))"
   ]
  },
  {
   "cell_type": "code",
   "execution_count": 32,
   "id": "d3296d87",
   "metadata": {},
   "outputs": [
    {
     "data": {
      "image/png": "[encoded data removed]",
      "text/latex": [
       "$\\displaystyle 0$"
      ],
      "text/plain": [
       "0"
      ]
     },
     "execution_count": 32,
     "metadata": {},
     "output_type": "execute_result"
    }
   ],
   "source": [
    "pt.simplify(ec28 - ec28jus)"
   ]
  },
  {
   "cell_type": "code",
   "execution_count": 33,
   "id": "ef06fb26",
   "metadata": {},
   "outputs": [],
   "source": [
    "ec29a = ec27.subs(sqrt(A**2*D**2 + omega**2), Phi)\n",
    "ec29 = expand(ec29a)\n",
    "\n",
    "ec29jus= pt.simplify((j6*C*sqrt(A**2*D**2+omega**2)).diff(r)) + pt.simplify((j9*B*sqrt(A**2*D**2+omega**2)).diff(theta)) - 2*B*C*sqrt(A**2*D**2+omega**2)*(Omega2**2+Omega3**2)\n",
    "ec29jus2= ec29jus.subs(sqrt(A**2*D**2+omega**2), Phi)\n",
    "ec29jus= expand(ec29jus2/(B*C*Phi))"
   ]
  },
  {
   "cell_type": "code",
   "execution_count": 34,
   "id": "209e0f51",
   "metadata": {},
   "outputs": [
    {
     "data": {
      "image/png": "[encoded data removed]",
      "text/latex": [
       "$\\displaystyle 0$"
      ],
      "text/plain": [
       "0"
      ]
     },
     "execution_count": 34,
     "metadata": {},
     "output_type": "execute_result"
    }
   ],
   "source": [
    "cer=factor(ec29-ec29jus)\n",
    "cer = cer.subs(A**2*D**2 + omega**2, Phi**2)\n",
    "cer"
   ]
  },
  {
   "cell_type": "code",
   "execution_count": 35,
   "id": "2c66f9dc",
   "metadata": {},
   "outputs": [],
   "source": [
    "ec30a = expand(-ec23+ec26)\n",
    "ec30b = expand(ec30a-ec27)\n",
    "ec30  = simplify(ec30b-ec21)/2"
   ]
  },
  {
   "cell_type": "code",
   "execution_count": 36,
   "id": "7ba3860a",
   "metadata": {},
   "outputs": [],
   "source": [
    "ec30jus = Dj2dag - Dj1theta - a2*j9 -a1*j6 + j2**2 + j1**2 - Omega2**2 - Omega3**2\n",
    "ec30jus = ec30jus.subs(A**2*D**2 + omega**2, Phi**2)\n",
    "ec30jus = factor(ec30jus)"
   ]
  },
  {
   "cell_type": "code",
   "execution_count": 37,
   "id": "6afb971f",
   "metadata": {},
   "outputs": [
    {
     "data": {
      "image/png": "[encoded data removed]",
      "text/latex": [
       "$\\displaystyle 0$"
      ],
      "text/plain": [
       "0"
      ]
     },
     "execution_count": 37,
     "metadata": {},
     "output_type": "execute_result"
    }
   ],
   "source": [
    "cero = factor(ec30jus-ec30)\n",
    "cero = cero.subs(A**2*D**2 + omega**2, Phi**2)\n",
    "cero"
   ]
  },
  {
   "cell_type": "code",
   "execution_count": 38,
   "id": "ed7728f2",
   "metadata": {},
   "outputs": [
    {
     "data": {
      "image/png": "[encoded data removed]",
      "text/latex": [
       "$\\displaystyle 0$"
      ],
      "text/plain": [
       "0"
      ]
     },
     "execution_count": 38,
     "metadata": {},
     "output_type": "execute_result"
    }
   ],
   "source": [
    "cer= a1+j6 - 1/B*((sqrt(A**2*D**2+omega**2)).diff(r))/(sqrt(A**2*D**2+omega**2))\n",
    "simplify(cer)"
   ]
  },
  {
   "cell_type": "code",
   "execution_count": 39,
   "id": "04e23205",
   "metadata": {},
   "outputs": [
    {
     "data": {
      "image/png": "[encoded data removed]",
      "text/latex": [
       "$\\displaystyle 0$"
      ],
      "text/plain": [
       "0"
      ]
     },
     "execution_count": 39,
     "metadata": {},
     "output_type": "execute_result"
    }
   ],
   "source": [
    "cer= a2+j9 - 1/C*((sqrt(A**2*D**2+omega**2)).diff(theta))/(sqrt(A**2*D**2+omega**2))\n",
    "simplify(cer)"
   ]
  },
  {
   "cell_type": "code",
   "execution_count": 40,
   "id": "caf093d1",
   "metadata": {},
   "outputs": [
    {
     "data": {
      "image/png": "[encoded data removed]",
      "text/latex": [
       "$\\displaystyle \\left[ \\frac{A^{6}{\\left(r,\\theta \\right)} B{\\left(r,\\theta \\right)} D^{2}{\\left(r,\\theta \\right)} \\left(\\frac{\\partial}{\\partial \\theta} D{\\left(r,\\theta \\right)}\\right)^{2} - 2 A^{6}{\\left(r,\\theta \\right)} D^{3}{\\left(r,\\theta \\right)} \\frac{\\partial}{\\partial \\theta} B{\\left(r,\\theta \\right)} \\frac{\\partial}{\\partial \\theta} D{\\left(r,\\theta \\right)} - 2 A^{5}{\\left(r,\\theta \\right)} D^{4}{\\left(r,\\theta \\right)} \\frac{\\partial}{\\partial \\theta} A{\\left(r,\\theta \\right)} \\frac{\\partial}{\\partial \\theta} B{\\left(r,\\theta \\right)} + A^{4}{\\left(r,\\theta \\right)} B{\\left(r,\\theta \\right)} D^{4}{\\left(r,\\theta \\right)} \\left(\\frac{\\partial}{\\partial \\theta} A{\\left(r,\\theta \\right)}\\right)^{2} + 2 A^{4}{\\left(r,\\theta \\right)} B{\\left(r,\\theta \\right)} D{\\left(r,\\theta \\right)} \\omega{\\left(r,\\theta \\right)} \\frac{\\partial}{\\partial \\theta} D{\\left(r,\\theta \\right)} \\frac{\\partial}{\\partial \\theta} \\omega{\\left(r,\\theta \\right)} - 2 A^{4}{\\left(r,\\theta \\right)} D^{2}{\\left(r,\\theta \\right)} \\omega{\\left(r,\\theta \\right)} \\frac{\\partial}{\\partial \\theta} B{\\left(r,\\theta \\right)} \\frac{\\partial}{\\partial \\theta} \\omega{\\left(r,\\theta \\right)} - 2 A^{4}{\\left(r,\\theta \\right)} D{\\left(r,\\theta \\right)} \\omega^{2}{\\left(r,\\theta \\right)} \\frac{\\partial}{\\partial \\theta} B{\\left(r,\\theta \\right)} \\frac{\\partial}{\\partial \\theta} D{\\left(r,\\theta \\right)} - 2 A^{3}{\\left(r,\\theta \\right)} B{\\left(r,\\theta \\right)} D{\\left(r,\\theta \\right)} \\omega^{2}{\\left(r,\\theta \\right)} \\frac{\\partial}{\\partial \\theta} A{\\left(r,\\theta \\right)} \\frac{\\partial}{\\partial \\theta} D{\\left(r,\\theta \\right)} - 2 A^{3}{\\left(r,\\theta \\right)} D^{2}{\\left(r,\\theta \\right)} \\omega^{2}{\\left(r,\\theta \\right)} \\frac{\\partial}{\\partial \\theta} A{\\left(r,\\theta \\right)} \\frac{\\partial}{\\partial \\theta} B{\\left(r,\\theta \\right)} + 2 A^{2}{\\left(r,\\theta \\right)} B{\\left(r,\\theta \\right)} D^{2}{\\left(r,\\theta \\right)} \\omega^{2}{\\left(r,\\theta \\right)} \\left(\\frac{\\partial}{\\partial \\theta} A{\\left(r,\\theta \\right)}\\right)^{2} + A^{2}{\\left(r,\\theta \\right)} B{\\left(r,\\theta \\right)} \\omega^{2}{\\left(r,\\theta \\right)} \\left(\\frac{\\partial}{\\partial \\theta} \\omega{\\left(r,\\theta \\right)}\\right)^{2} - 2 A^{2}{\\left(r,\\theta \\right)} \\omega^{3}{\\left(r,\\theta \\right)} \\frac{\\partial}{\\partial \\theta} B{\\left(r,\\theta \\right)} \\frac{\\partial}{\\partial \\theta} \\omega{\\left(r,\\theta \\right)} - 2 A{\\left(r,\\theta \\right)} B{\\left(r,\\theta \\right)} \\omega^{3}{\\left(r,\\theta \\right)} \\frac{\\partial}{\\partial \\theta} A{\\left(r,\\theta \\right)} \\frac{\\partial}{\\partial \\theta} \\omega{\\left(r,\\theta \\right)} + 2 B{\\left(r,\\theta \\right)} \\omega^{4}{\\left(r,\\theta \\right)} \\left(\\frac{\\partial}{\\partial \\theta} A{\\left(r,\\theta \\right)}\\right)^{2}}{A^{2}{\\left(r,\\theta \\right)} B{\\left(r,\\theta \\right)} C^{2}{\\left(r,\\theta \\right)} \\Phi^{4}{\\left(r,\\theta \\right)}}\\right]$"
      ],
      "text/plain": [
       "⎡                                       2                                     \n",
       "⎢ 6                2       ⎛∂          ⎞       6        3       ∂           ∂ \n",
       "⎢A (r, θ)⋅B(r, θ)⋅D (r, θ)⋅⎜──(D(r, θ))⎟  - 2⋅A (r, θ)⋅D (r, θ)⋅──(B(r, θ))⋅──\n",
       "⎢                          ⎝∂θ         ⎠                        ∂θ          ∂θ\n",
       "⎢─────────────────────────────────────────────────────────────────────────────\n",
       "⎢                                                                             \n",
       "⎣                                                                             \n",
       "\n",
       "                                                                              \n",
       "               5        4       ∂           ∂              4                4 \n",
       "(D(r, θ)) - 2⋅A (r, θ)⋅D (r, θ)⋅──(A(r, θ))⋅──(B(r, θ)) + A (r, θ)⋅B(r, θ)⋅D (\n",
       "                                ∂θ          ∂θ                                \n",
       "──────────────────────────────────────────────────────────────────────────────\n",
       "                                                                              \n",
       "                                                                              \n",
       "\n",
       "                   2                                                          \n",
       "      ⎛∂          ⎞       4                               ∂           ∂       \n",
       "r, θ)⋅⎜──(A(r, θ))⎟  + 2⋅A (r, θ)⋅B(r, θ)⋅D(r, θ)⋅ω(r, θ)⋅──(D(r, θ))⋅──(ω(r, \n",
       "      ⎝∂θ         ⎠                                       ∂θ          ∂θ      \n",
       "──────────────────────────────────────────────────────────────────────────────\n",
       "                                                                              \n",
       "                                                                              \n",
       "\n",
       "                                                                              \n",
       "         4        2               ∂           ∂                4              \n",
       "θ)) - 2⋅A (r, θ)⋅D (r, θ)⋅ω(r, θ)⋅──(B(r, θ))⋅──(ω(r, θ)) - 2⋅A (r, θ)⋅D(r, θ)\n",
       "                                  ∂θ          ∂θ                              \n",
       "──────────────────────────────────────────────────────────────────────────────\n",
       "                                                                              \n",
       "                                                                              \n",
       "\n",
       "                                                                              \n",
       "  2       ∂           ∂                3                        2       ∂     \n",
       "⋅ω (r, θ)⋅──(B(r, θ))⋅──(D(r, θ)) - 2⋅A (r, θ)⋅B(r, θ)⋅D(r, θ)⋅ω (r, θ)⋅──(A(r\n",
       "          ∂θ          ∂θ                                                ∂θ    \n",
       "──────────────────────────────────────────────────────────────────────────────\n",
       "                    2                2        4                               \n",
       "                   A (r, θ)⋅B(r, θ)⋅C (r, θ)⋅Φ (r, θ)                         \n",
       "\n",
       "                                                                              \n",
       "      ∂                3        2        2       ∂           ∂                \n",
       ", θ))⋅──(D(r, θ)) - 2⋅A (r, θ)⋅D (r, θ)⋅ω (r, θ)⋅──(A(r, θ))⋅──(B(r, θ)) + 2⋅A\n",
       "      ∂θ                                         ∂θ          ∂θ               \n",
       "──────────────────────────────────────────────────────────────────────────────\n",
       "                                                                              \n",
       "                                                                              \n",
       "\n",
       "                                               2                              \n",
       "2                2        2       ⎛∂          ⎞     2                2       ⎛\n",
       " (r, θ)⋅B(r, θ)⋅D (r, θ)⋅ω (r, θ)⋅⎜──(A(r, θ))⎟  + A (r, θ)⋅B(r, θ)⋅ω (r, θ)⋅⎜\n",
       "                                  ⎝∂θ         ⎠                              ⎝\n",
       "──────────────────────────────────────────────────────────────────────────────\n",
       "                                                                              \n",
       "                                                                              \n",
       "\n",
       "            2                                                                 \n",
       "∂          ⎞       2        3       ∂           ∂                             \n",
       "──(ω(r, θ))⎟  - 2⋅A (r, θ)⋅ω (r, θ)⋅──(B(r, θ))⋅──(ω(r, θ)) - 2⋅A(r, θ)⋅B(r, θ\n",
       "∂θ         ⎠                        ∂θ          ∂θ                            \n",
       "──────────────────────────────────────────────────────────────────────────────\n",
       "                                                                              \n",
       "                                                                              \n",
       "\n",
       "                                                                     2⎤\n",
       "   3       ∂           ∂                        4       ⎛∂          ⎞ ⎥\n",
       ")⋅ω (r, θ)⋅──(A(r, θ))⋅──(ω(r, θ)) + 2⋅B(r, θ)⋅ω (r, θ)⋅⎜──(A(r, θ))⎟ ⎥\n",
       "           ∂θ          ∂θ                               ⎝∂θ         ⎠ ⎥\n",
       "──────────────────────────────────────────────────────────────────────⎥\n",
       "                                                                      ⎥\n",
       "                                                                      ⎦"
      ]
     },
     "execution_count": 40,
     "metadata": {},
     "output_type": "execute_result"
    }
   ],
   "source": [
    "ter1= C*(a2*j9)\n",
    "ter1= ter1.subs(A**2*D**2 + omega**2, Phi**2)\n",
    "ter2= B*(a1*j6)\n",
    "ter2= ter2.subs(A**2*D**2 + omega**2, Phi**2)\n",
    "ter3 = factor(2*j1*(a2+j9)+ a2**2+j9**2)\n",
    "ter3= ter3.subs(A**2*D**2 + omega**2, Phi**2)\n",
    "[ter3]\n"
   ]
  },
  {
   "cell_type": "code",
   "execution_count": 41,
   "id": "82fa1eaf",
   "metadata": {},
   "outputs": [
    {
     "data": {
      "image/png": "[encoded data removed]",
      "text/latex": [
       "$\\displaystyle \\frac{A^{7}{\\left(r,\\theta \\right)} B^{4}{\\left(r,\\theta \\right)} C^{2}{\\left(r,\\theta \\right)} D^{2}{\\left(r,\\theta \\right)} \\left(\\frac{\\partial}{\\partial \\theta} D{\\left(r,\\theta \\right)}\\right)^{2} - 2 A^{7}{\\left(r,\\theta \\right)} B^{3}{\\left(r,\\theta \\right)} C^{2}{\\left(r,\\theta \\right)} D^{3}{\\left(r,\\theta \\right)} \\frac{\\partial}{\\partial \\theta} B{\\left(r,\\theta \\right)} \\frac{\\partial}{\\partial \\theta} D{\\left(r,\\theta \\right)} - 2 A^{6}{\\left(r,\\theta \\right)} B^{3}{\\left(r,\\theta \\right)} C^{2}{\\left(r,\\theta \\right)} D^{4}{\\left(r,\\theta \\right)} \\frac{\\partial}{\\partial \\theta} A{\\left(r,\\theta \\right)} \\frac{\\partial}{\\partial \\theta} B{\\left(r,\\theta \\right)} + A^{5}{\\left(r,\\theta \\right)} B^{4}{\\left(r,\\theta \\right)} C^{2}{\\left(r,\\theta \\right)} D^{4}{\\left(r,\\theta \\right)} \\left(\\frac{\\partial}{\\partial \\theta} A{\\left(r,\\theta \\right)}\\right)^{2} + 2 A^{5}{\\left(r,\\theta \\right)} B^{4}{\\left(r,\\theta \\right)} C^{2}{\\left(r,\\theta \\right)} D{\\left(r,\\theta \\right)} \\omega{\\left(r,\\theta \\right)} \\frac{\\partial}{\\partial \\theta} D{\\left(r,\\theta \\right)} \\frac{\\partial}{\\partial \\theta} \\omega{\\left(r,\\theta \\right)} - 2 A^{5}{\\left(r,\\theta \\right)} B^{3}{\\left(r,\\theta \\right)} C^{2}{\\left(r,\\theta \\right)} D^{2}{\\left(r,\\theta \\right)} \\omega{\\left(r,\\theta \\right)} \\frac{\\partial}{\\partial \\theta} B{\\left(r,\\theta \\right)} \\frac{\\partial}{\\partial \\theta} \\omega{\\left(r,\\theta \\right)} - 2 A^{5}{\\left(r,\\theta \\right)} B^{3}{\\left(r,\\theta \\right)} C^{2}{\\left(r,\\theta \\right)} D{\\left(r,\\theta \\right)} \\omega^{2}{\\left(r,\\theta \\right)} \\frac{\\partial}{\\partial \\theta} B{\\left(r,\\theta \\right)} \\frac{\\partial}{\\partial \\theta} D{\\left(r,\\theta \\right)} - 2 A^{4}{\\left(r,\\theta \\right)} B^{4}{\\left(r,\\theta \\right)} C^{2}{\\left(r,\\theta \\right)} D{\\left(r,\\theta \\right)} \\omega^{2}{\\left(r,\\theta \\right)} \\frac{\\partial}{\\partial \\theta} A{\\left(r,\\theta \\right)} \\frac{\\partial}{\\partial \\theta} D{\\left(r,\\theta \\right)} + A^{4}{\\left(r,\\theta \\right)} B^{4}{\\left(r,\\theta \\right)} C{\\left(r,\\theta \\right)} D{\\left(r,\\theta \\right)} \\Phi^{2}{\\left(r,\\theta \\right)} \\frac{\\partial}{\\partial \\theta} A{\\left(r,\\theta \\right)} \\frac{\\partial^{2}}{\\partial \\theta^{2}} D{\\left(r,\\theta \\right)} + A^{4}{\\left(r,\\theta \\right)} B^{4}{\\left(r,\\theta \\right)} C{\\left(r,\\theta \\right)} D{\\left(r,\\theta \\right)} \\Phi^{2}{\\left(r,\\theta \\right)} \\frac{\\partial^{2}}{\\partial \\theta^{2}} A{\\left(r,\\theta \\right)} \\frac{\\partial}{\\partial \\theta} D{\\left(r,\\theta \\right)} - 2 A^{4}{\\left(r,\\theta \\right)} B^{4}{\\left(r,\\theta \\right)} C{\\left(r,\\theta \\right)} D{\\left(r,\\theta \\right)} \\Phi{\\left(r,\\theta \\right)} \\frac{\\partial}{\\partial \\theta} A{\\left(r,\\theta \\right)} \\frac{\\partial}{\\partial \\theta} D{\\left(r,\\theta \\right)} \\frac{\\partial}{\\partial \\theta} \\Phi{\\left(r,\\theta \\right)} + A^{4}{\\left(r,\\theta \\right)} B^{4}{\\left(r,\\theta \\right)} C{\\left(r,\\theta \\right)} \\Phi^{2}{\\left(r,\\theta \\right)} \\frac{\\partial}{\\partial \\theta} A{\\left(r,\\theta \\right)} \\left(\\frac{\\partial}{\\partial \\theta} D{\\left(r,\\theta \\right)}\\right)^{2} - A^{4}{\\left(r,\\theta \\right)} B^{4}{\\left(r,\\theta \\right)} D{\\left(r,\\theta \\right)} \\Phi^{2}{\\left(r,\\theta \\right)} \\frac{\\partial}{\\partial \\theta} A{\\left(r,\\theta \\right)} \\frac{\\partial}{\\partial \\theta} C{\\left(r,\\theta \\right)} \\frac{\\partial}{\\partial \\theta} D{\\left(r,\\theta \\right)} - 2 A^{4}{\\left(r,\\theta \\right)} B^{3}{\\left(r,\\theta \\right)} C^{2}{\\left(r,\\theta \\right)} D^{2}{\\left(r,\\theta \\right)} \\omega^{2}{\\left(r,\\theta \\right)} \\frac{\\partial}{\\partial \\theta} A{\\left(r,\\theta \\right)} \\frac{\\partial}{\\partial \\theta} B{\\left(r,\\theta \\right)} - A^{4}{\\left(r,\\theta \\right)} B{\\left(r,\\theta \\right)} C^{4}{\\left(r,\\theta \\right)} D{\\left(r,\\theta \\right)} \\Phi^{2}{\\left(r,\\theta \\right)} \\frac{\\partial}{\\partial r} A{\\left(r,\\theta \\right)} \\frac{\\partial^{2}}{\\partial r^{2}} D{\\left(r,\\theta \\right)} - A^{4}{\\left(r,\\theta \\right)} B{\\left(r,\\theta \\right)} C^{4}{\\left(r,\\theta \\right)} D{\\left(r,\\theta \\right)} \\Phi^{2}{\\left(r,\\theta \\right)} \\frac{\\partial^{2}}{\\partial r^{2}} A{\\left(r,\\theta \\right)} \\frac{\\partial}{\\partial r} D{\\left(r,\\theta \\right)} + 2 A^{4}{\\left(r,\\theta \\right)} B{\\left(r,\\theta \\right)} C^{4}{\\left(r,\\theta \\right)} D{\\left(r,\\theta \\right)} \\Phi{\\left(r,\\theta \\right)} \\frac{\\partial}{\\partial r} A{\\left(r,\\theta \\right)} \\frac{\\partial}{\\partial r} D{\\left(r,\\theta \\right)} \\frac{\\partial}{\\partial r} \\Phi{\\left(r,\\theta \\right)} - A^{4}{\\left(r,\\theta \\right)} B{\\left(r,\\theta \\right)} C^{4}{\\left(r,\\theta \\right)} \\Phi^{2}{\\left(r,\\theta \\right)} \\frac{\\partial}{\\partial r} A{\\left(r,\\theta \\right)} \\left(\\frac{\\partial}{\\partial r} D{\\left(r,\\theta \\right)}\\right)^{2} + A^{4}{\\left(r,\\theta \\right)} C^{4}{\\left(r,\\theta \\right)} D{\\left(r,\\theta \\right)} \\Phi^{2}{\\left(r,\\theta \\right)} \\frac{\\partial}{\\partial r} A{\\left(r,\\theta \\right)} \\frac{\\partial}{\\partial r} B{\\left(r,\\theta \\right)} \\frac{\\partial}{\\partial r} D{\\left(r,\\theta \\right)} + 2 A^{3}{\\left(r,\\theta \\right)} B^{4}{\\left(r,\\theta \\right)} C^{2}{\\left(r,\\theta \\right)} D^{2}{\\left(r,\\theta \\right)} \\omega^{2}{\\left(r,\\theta \\right)} \\left(\\frac{\\partial}{\\partial \\theta} A{\\left(r,\\theta \\right)}\\right)^{2} + A^{3}{\\left(r,\\theta \\right)} B^{4}{\\left(r,\\theta \\right)} C^{2}{\\left(r,\\theta \\right)} \\omega^{2}{\\left(r,\\theta \\right)} \\left(\\frac{\\partial}{\\partial \\theta} \\omega{\\left(r,\\theta \\right)}\\right)^{2} + A^{3}{\\left(r,\\theta \\right)} B^{4}{\\left(r,\\theta \\right)} C{\\left(r,\\theta \\right)} D{\\left(r,\\theta \\right)} \\Phi^{2}{\\left(r,\\theta \\right)} \\left(\\frac{\\partial}{\\partial \\theta} A{\\left(r,\\theta \\right)}\\right)^{2} \\frac{\\partial}{\\partial \\theta} D{\\left(r,\\theta \\right)} - 2 A^{3}{\\left(r,\\theta \\right)} B^{3}{\\left(r,\\theta \\right)} C^{2}{\\left(r,\\theta \\right)} \\omega^{3}{\\left(r,\\theta \\right)} \\frac{\\partial}{\\partial \\theta} B{\\left(r,\\theta \\right)} \\frac{\\partial}{\\partial \\theta} \\omega{\\left(r,\\theta \\right)} - A^{3}{\\left(r,\\theta \\right)} B{\\left(r,\\theta \\right)} C^{4}{\\left(r,\\theta \\right)} D{\\left(r,\\theta \\right)} \\Phi^{2}{\\left(r,\\theta \\right)} \\left(\\frac{\\partial}{\\partial r} A{\\left(r,\\theta \\right)}\\right)^{2} \\frac{\\partial}{\\partial r} D{\\left(r,\\theta \\right)} - 2 A^{2}{\\left(r,\\theta \\right)} B^{4}{\\left(r,\\theta \\right)} C^{2}{\\left(r,\\theta \\right)} \\omega^{3}{\\left(r,\\theta \\right)} \\frac{\\partial}{\\partial \\theta} A{\\left(r,\\theta \\right)} \\frac{\\partial}{\\partial \\theta} \\omega{\\left(r,\\theta \\right)} + A^{2}{\\left(r,\\theta \\right)} B^{4}{\\left(r,\\theta \\right)} C{\\left(r,\\theta \\right)} \\Phi^{2}{\\left(r,\\theta \\right)} \\omega{\\left(r,\\theta \\right)} \\frac{\\partial}{\\partial \\theta} A{\\left(r,\\theta \\right)} \\frac{\\partial^{2}}{\\partial \\theta^{2}} \\omega{\\left(r,\\theta \\right)} + A^{2}{\\left(r,\\theta \\right)} B^{4}{\\left(r,\\theta \\right)} C{\\left(r,\\theta \\right)} \\Phi^{2}{\\left(r,\\theta \\right)} \\omega{\\left(r,\\theta \\right)} \\frac{\\partial^{2}}{\\partial \\theta^{2}} A{\\left(r,\\theta \\right)} \\frac{\\partial}{\\partial \\theta} \\omega{\\left(r,\\theta \\right)} + A^{2}{\\left(r,\\theta \\right)} B^{4}{\\left(r,\\theta \\right)} C{\\left(r,\\theta \\right)} \\Phi^{2}{\\left(r,\\theta \\right)} \\frac{\\partial}{\\partial \\theta} A{\\left(r,\\theta \\right)} \\left(\\frac{\\partial}{\\partial \\theta} \\omega{\\left(r,\\theta \\right)}\\right)^{2} - 2 A^{2}{\\left(r,\\theta \\right)} B^{4}{\\left(r,\\theta \\right)} C{\\left(r,\\theta \\right)} \\Phi{\\left(r,\\theta \\right)} \\omega{\\left(r,\\theta \\right)} \\frac{\\partial}{\\partial \\theta} A{\\left(r,\\theta \\right)} \\frac{\\partial}{\\partial \\theta} \\Phi{\\left(r,\\theta \\right)} \\frac{\\partial}{\\partial \\theta} \\omega{\\left(r,\\theta \\right)} - A^{2}{\\left(r,\\theta \\right)} B^{4}{\\left(r,\\theta \\right)} \\Phi^{2}{\\left(r,\\theta \\right)} \\omega{\\left(r,\\theta \\right)} \\frac{\\partial}{\\partial \\theta} A{\\left(r,\\theta \\right)} \\frac{\\partial}{\\partial \\theta} C{\\left(r,\\theta \\right)} \\frac{\\partial}{\\partial \\theta} \\omega{\\left(r,\\theta \\right)} - A^{2}{\\left(r,\\theta \\right)} B{\\left(r,\\theta \\right)} C^{4}{\\left(r,\\theta \\right)} \\Phi^{2}{\\left(r,\\theta \\right)} \\omega{\\left(r,\\theta \\right)} \\frac{\\partial}{\\partial r} A{\\left(r,\\theta \\right)} \\frac{\\partial^{2}}{\\partial r^{2}} \\omega{\\left(r,\\theta \\right)} - A^{2}{\\left(r,\\theta \\right)} B{\\left(r,\\theta \\right)} C^{4}{\\left(r,\\theta \\right)} \\Phi^{2}{\\left(r,\\theta \\right)} \\omega{\\left(r,\\theta \\right)} \\frac{\\partial^{2}}{\\partial r^{2}} A{\\left(r,\\theta \\right)} \\frac{\\partial}{\\partial r} \\omega{\\left(r,\\theta \\right)} - A^{2}{\\left(r,\\theta \\right)} B{\\left(r,\\theta \\right)} C^{4}{\\left(r,\\theta \\right)} \\Phi^{2}{\\left(r,\\theta \\right)} \\frac{\\partial}{\\partial r} A{\\left(r,\\theta \\right)} \\left(\\frac{\\partial}{\\partial r} \\omega{\\left(r,\\theta \\right)}\\right)^{2} + 2 A^{2}{\\left(r,\\theta \\right)} B{\\left(r,\\theta \\right)} C^{4}{\\left(r,\\theta \\right)} \\Phi{\\left(r,\\theta \\right)} \\omega{\\left(r,\\theta \\right)} \\frac{\\partial}{\\partial r} A{\\left(r,\\theta \\right)} \\frac{\\partial}{\\partial r} \\Phi{\\left(r,\\theta \\right)} \\frac{\\partial}{\\partial r} \\omega{\\left(r,\\theta \\right)} + A^{2}{\\left(r,\\theta \\right)} C^{4}{\\left(r,\\theta \\right)} \\Phi^{2}{\\left(r,\\theta \\right)} \\omega{\\left(r,\\theta \\right)} \\frac{\\partial}{\\partial r} A{\\left(r,\\theta \\right)} \\frac{\\partial}{\\partial r} B{\\left(r,\\theta \\right)} \\frac{\\partial}{\\partial r} \\omega{\\left(r,\\theta \\right)} + 2 A{\\left(r,\\theta \\right)} B^{4}{\\left(r,\\theta \\right)} C^{2}{\\left(r,\\theta \\right)} \\omega^{4}{\\left(r,\\theta \\right)} \\left(\\frac{\\partial}{\\partial \\theta} A{\\left(r,\\theta \\right)}\\right)^{2} - 2 A{\\left(r,\\theta \\right)} B^{4}{\\left(r,\\theta \\right)} C{\\left(r,\\theta \\right)} \\Phi^{2}{\\left(r,\\theta \\right)} \\omega^{2}{\\left(r,\\theta \\right)} \\frac{\\partial}{\\partial \\theta} A{\\left(r,\\theta \\right)} \\frac{\\partial^{2}}{\\partial \\theta^{2}} A{\\left(r,\\theta \\right)} - 3 A{\\left(r,\\theta \\right)} B^{4}{\\left(r,\\theta \\right)} C{\\left(r,\\theta \\right)} \\Phi^{2}{\\left(r,\\theta \\right)} \\omega{\\left(r,\\theta \\right)} \\left(\\frac{\\partial}{\\partial \\theta} A{\\left(r,\\theta \\right)}\\right)^{2} \\frac{\\partial}{\\partial \\theta} \\omega{\\left(r,\\theta \\right)} + 2 A{\\left(r,\\theta \\right)} B^{4}{\\left(r,\\theta \\right)} C{\\left(r,\\theta \\right)} \\Phi{\\left(r,\\theta \\right)} \\omega^{2}{\\left(r,\\theta \\right)} \\left(\\frac{\\partial}{\\partial \\theta} A{\\left(r,\\theta \\right)}\\right)^{2} \\frac{\\partial}{\\partial \\theta} \\Phi{\\left(r,\\theta \\right)} + A{\\left(r,\\theta \\right)} B^{4}{\\left(r,\\theta \\right)} \\Phi^{2}{\\left(r,\\theta \\right)} \\omega^{2}{\\left(r,\\theta \\right)} \\left(\\frac{\\partial}{\\partial \\theta} A{\\left(r,\\theta \\right)}\\right)^{2} \\frac{\\partial}{\\partial \\theta} C{\\left(r,\\theta \\right)} + 2 A{\\left(r,\\theta \\right)} B{\\left(r,\\theta \\right)} C^{4}{\\left(r,\\theta \\right)} \\Phi^{2}{\\left(r,\\theta \\right)} \\omega^{2}{\\left(r,\\theta \\right)} \\frac{\\partial}{\\partial r} A{\\left(r,\\theta \\right)} \\frac{\\partial^{2}}{\\partial r^{2}} A{\\left(r,\\theta \\right)} + 3 A{\\left(r,\\theta \\right)} B{\\left(r,\\theta \\right)} C^{4}{\\left(r,\\theta \\right)} \\Phi^{2}{\\left(r,\\theta \\right)} \\omega{\\left(r,\\theta \\right)} \\left(\\frac{\\partial}{\\partial r} A{\\left(r,\\theta \\right)}\\right)^{2} \\frac{\\partial}{\\partial r} \\omega{\\left(r,\\theta \\right)} - 2 A{\\left(r,\\theta \\right)} B{\\left(r,\\theta \\right)} C^{4}{\\left(r,\\theta \\right)} \\Phi{\\left(r,\\theta \\right)} \\omega^{2}{\\left(r,\\theta \\right)} \\left(\\frac{\\partial}{\\partial r} A{\\left(r,\\theta \\right)}\\right)^{2} \\frac{\\partial}{\\partial r} \\Phi{\\left(r,\\theta \\right)} - A{\\left(r,\\theta \\right)} C^{4}{\\left(r,\\theta \\right)} \\Phi^{2}{\\left(r,\\theta \\right)} \\omega^{2}{\\left(r,\\theta \\right)} \\left(\\frac{\\partial}{\\partial r} A{\\left(r,\\theta \\right)}\\right)^{2} \\frac{\\partial}{\\partial r} B{\\left(r,\\theta \\right)} + 2 B^{4}{\\left(r,\\theta \\right)} C{\\left(r,\\theta \\right)} \\Phi^{2}{\\left(r,\\theta \\right)} \\omega^{2}{\\left(r,\\theta \\right)} \\left(\\frac{\\partial}{\\partial \\theta} A{\\left(r,\\theta \\right)}\\right)^{3} - 2 B{\\left(r,\\theta \\right)} C^{4}{\\left(r,\\theta \\right)} \\Phi^{2}{\\left(r,\\theta \\right)} \\omega^{2}{\\left(r,\\theta \\right)} \\left(\\frac{\\partial}{\\partial r} A{\\left(r,\\theta \\right)}\\right)^{3}}{A^{3}{\\left(r,\\theta \\right)} B^{4}{\\left(r,\\theta \\right)} C^{4}{\\left(r,\\theta \\right)} \\Phi^{4}{\\left(r,\\theta \\right)}}$"
      ],
      "text/plain": [
       "                                                 2                            \n",
       " 7        4        2        2       ⎛∂          ⎞       7        3        2   \n",
       "A (r, θ)⋅B (r, θ)⋅C (r, θ)⋅D (r, θ)⋅⎜──(D(r, θ))⎟  - 2⋅A (r, θ)⋅B (r, θ)⋅C (r,\n",
       "                                    ⎝∂θ         ⎠                             \n",
       "                                                                              \n",
       "──────────────────────────────────────────────────────────────────────────────\n",
       "                                                                              \n",
       "                                                                              \n",
       "\n",
       "                                                                              \n",
       "     3       ∂           ∂                6        3        2        4       ∂\n",
       " θ)⋅D (r, θ)⋅──(B(r, θ))⋅──(D(r, θ)) - 2⋅A (r, θ)⋅B (r, θ)⋅C (r, θ)⋅D (r, θ)⋅─\n",
       "             ∂θ          ∂θ                                                  ∂\n",
       "                                                                              \n",
       "──────────────────────────────────────────────────────────────────────────────\n",
       "                                                                              \n",
       "                                                                              \n",
       "\n",
       "                                                                          2   \n",
       "           ∂              5        4        2        4       ⎛∂          ⎞    \n",
       "─(A(r, θ))⋅──(B(r, θ)) + A (r, θ)⋅B (r, θ)⋅C (r, θ)⋅D (r, θ)⋅⎜──(A(r, θ))⎟  + \n",
       "θ          ∂θ                                                ⎝∂θ         ⎠    \n",
       "                                                                              \n",
       "──────────────────────────────────────────────────────────────────────────────\n",
       "                                                                              \n",
       "                                                                              \n",
       "\n",
       "                                                                              \n",
       "   5        4        2                       ∂           ∂                5   \n",
       "2⋅A (r, θ)⋅B (r, θ)⋅C (r, θ)⋅D(r, θ)⋅ω(r, θ)⋅──(D(r, θ))⋅──(ω(r, θ)) - 2⋅A (r,\n",
       "                                             ∂θ          ∂θ                   \n",
       "                                                                              \n",
       "──────────────────────────────────────────────────────────────────────────────\n",
       "                                                                              \n",
       "                                                                              \n",
       "\n",
       "                                                                              \n",
       "     3        2        2               ∂           ∂                5        3\n",
       " θ)⋅B (r, θ)⋅C (r, θ)⋅D (r, θ)⋅ω(r, θ)⋅──(B(r, θ))⋅──(ω(r, θ)) - 2⋅A (r, θ)⋅B \n",
       "                                       ∂θ          ∂θ                         \n",
       "                                                                              \n",
       "──────────────────────────────────────────────────────────────────────────────\n",
       "                                                                              \n",
       "                                                                              \n",
       "\n",
       "                                                                              \n",
       "        2                2       ∂           ∂                4        4      \n",
       "(r, θ)⋅C (r, θ)⋅D(r, θ)⋅ω (r, θ)⋅──(B(r, θ))⋅──(D(r, θ)) - 2⋅A (r, θ)⋅B (r, θ)\n",
       "                                 ∂θ          ∂θ                               \n",
       "                                                                              \n",
       "──────────────────────────────────────────────────────────────────────────────\n",
       "                                                                              \n",
       "                                                                              \n",
       "\n",
       "                                                                              \n",
       "  2                2       ∂           ∂              4        4              \n",
       "⋅C (r, θ)⋅D(r, θ)⋅ω (r, θ)⋅──(A(r, θ))⋅──(D(r, θ)) + A (r, θ)⋅B (r, θ)⋅C(r, θ)\n",
       "                           ∂θ          ∂θ                                     \n",
       "                                                                              \n",
       "──────────────────────────────────────────────────────────────────────────────\n",
       "                                                                              \n",
       "                                                                              \n",
       "\n",
       "                                2                                             \n",
       "          2       ∂            ∂              4        4                      \n",
       "⋅D(r, θ)⋅Φ (r, θ)⋅──(A(r, θ))⋅───(D(r, θ)) + A (r, θ)⋅B (r, θ)⋅C(r, θ)⋅D(r, θ)\n",
       "                  ∂θ            2                                             \n",
       "                              ∂θ                                              \n",
       "──────────────────────────────────────────────────────────────────────────────\n",
       "                                                                              \n",
       "                                                                              \n",
       "\n",
       "            2                                                                 \n",
       "  2        ∂           ∂                4        4                            \n",
       "⋅Φ (r, θ)⋅───(A(r, θ))⋅──(D(r, θ)) - 2⋅A (r, θ)⋅B (r, θ)⋅C(r, θ)⋅D(r, θ)⋅Φ(r, \n",
       "            2          ∂θ                                                     \n",
       "          ∂θ                                                                  \n",
       "──────────────────────────────────────────────────────────────────────────────\n",
       "                                                                              \n",
       "                                                                              \n",
       "\n",
       "                                                                              \n",
       "   ∂           ∂           ∂              4        4                2       ∂ \n",
       "θ)⋅──(A(r, θ))⋅──(D(r, θ))⋅──(Φ(r, θ)) + A (r, θ)⋅B (r, θ)⋅C(r, θ)⋅Φ (r, θ)⋅──\n",
       "   ∂θ          ∂θ          ∂θ                                               ∂θ\n",
       "                                                                              \n",
       "──────────────────────────────────────────────────────────────────────────────\n",
       "                                                                              \n",
       "                                                                              \n",
       "\n",
       "                       2                                                      \n",
       "          ⎛∂          ⎞     4        4                2       ∂           ∂   \n",
       "(A(r, θ))⋅⎜──(D(r, θ))⎟  - A (r, θ)⋅B (r, θ)⋅D(r, θ)⋅Φ (r, θ)⋅──(A(r, θ))⋅──(C\n",
       "          ⎝∂θ         ⎠                                       ∂θ          ∂θ  \n",
       "                                                                              \n",
       "──────────────────────────────────────────────────────────────────────────────\n",
       "                                                                              \n",
       "                                                                              \n",
       "\n",
       "                                                                              \n",
       "        ∂                4        3        2        2        2       ∂        \n",
       "(r, θ))⋅──(D(r, θ)) - 2⋅A (r, θ)⋅B (r, θ)⋅C (r, θ)⋅D (r, θ)⋅ω (r, θ)⋅──(A(r, θ\n",
       "        ∂θ                                                           ∂θ       \n",
       "                                                                              \n",
       "──────────────────────────────────────────────────────────────────────────────\n",
       "                                                                              \n",
       "                                                                              \n",
       "\n",
       "                                                                          2   \n",
       "   ∂              4                4                2       ∂            ∂    \n",
       "))⋅──(B(r, θ)) - A (r, θ)⋅B(r, θ)⋅C (r, θ)⋅D(r, θ)⋅Φ (r, θ)⋅──(A(r, θ))⋅───(D(\n",
       "   ∂θ                                                       ∂r            2   \n",
       "                                                                        ∂r    \n",
       "──────────────────────────────────────────────────────────────────────────────\n",
       "                                                                              \n",
       "                                                                              \n",
       "\n",
       "                                                      2                       \n",
       "          4                4                2        ∂           ∂            \n",
       "r, θ)) - A (r, θ)⋅B(r, θ)⋅C (r, θ)⋅D(r, θ)⋅Φ (r, θ)⋅───(A(r, θ))⋅──(D(r, θ)) +\n",
       "                                                      2          ∂r           \n",
       "                                                    ∂r                        \n",
       "──────────────────────────────────────────────────────────────────────────────\n",
       "                                                                              \n",
       "                                                                              \n",
       "\n",
       "                                                                              \n",
       "    4                4                       ∂           ∂           ∂        \n",
       " 2⋅A (r, θ)⋅B(r, θ)⋅C (r, θ)⋅D(r, θ)⋅Φ(r, θ)⋅──(A(r, θ))⋅──(D(r, θ))⋅──(Φ(r, θ\n",
       "                                             ∂r          ∂r          ∂r       \n",
       "                                                                              \n",
       "──────────────────────────────────────────────────────────────────────────────\n",
       "                                                                              \n",
       "                                                                              \n",
       "\n",
       "                                                                 2            \n",
       "      4                4        2       ∂           ⎛∂          ⎞     4       \n",
       ")) - A (r, θ)⋅B(r, θ)⋅C (r, θ)⋅Φ (r, θ)⋅──(A(r, θ))⋅⎜──(D(r, θ))⎟  + A (r, θ)⋅\n",
       "                                        ∂r          ⎝∂r         ⎠             \n",
       "                                                                              \n",
       "──────────────────────────────────────────────────────────────────────────────\n",
       "                                                                              \n",
       "                                                                              \n",
       "\n",
       "                                                                              \n",
       " 4                2       ∂           ∂           ∂                3        4 \n",
       "C (r, θ)⋅D(r, θ)⋅Φ (r, θ)⋅──(A(r, θ))⋅──(B(r, θ))⋅──(D(r, θ)) + 2⋅A (r, θ)⋅B (\n",
       "                          ∂r          ∂r          ∂r                          \n",
       "                                                                              \n",
       "──────────────────────────────────────────────────────────────────────────────\n",
       "                                                                              \n",
       "                                                                              \n",
       "\n",
       "                                              2                               \n",
       "       2        2        2       ⎛∂          ⎞     3        4        2        \n",
       "r, θ)⋅C (r, θ)⋅D (r, θ)⋅ω (r, θ)⋅⎜──(A(r, θ))⎟  + A (r, θ)⋅B (r, θ)⋅C (r, θ)⋅ω\n",
       "                                 ⎝∂θ         ⎠                                \n",
       "                                                                              \n",
       "──────────────────────────────────────────────────────────────────────────────\n",
       "                                                                              \n",
       "                                                                              \n",
       "\n",
       "                     2                                                        \n",
       "2       ⎛∂          ⎞     3        4                        2       ⎛∂        \n",
       " (r, θ)⋅⎜──(ω(r, θ))⎟  + A (r, θ)⋅B (r, θ)⋅C(r, θ)⋅D(r, θ)⋅Φ (r, θ)⋅⎜──(A(r, θ\n",
       "        ⎝∂θ         ⎠                                               ⎝∂θ       \n",
       "                                                                              \n",
       "──────────────────────────────────────────────────────────────────────────────\n",
       "                                                                              \n",
       "                                                                              \n",
       "\n",
       "   2                                                                          \n",
       "  ⎞  ∂                3        3        2        3       ∂           ∂        \n",
       "))⎟ ⋅──(D(r, θ)) - 2⋅A (r, θ)⋅B (r, θ)⋅C (r, θ)⋅ω (r, θ)⋅──(B(r, θ))⋅──(ω(r, θ\n",
       "  ⎠  ∂θ                                                  ∂θ          ∂θ       \n",
       "                                                                              \n",
       "──────────────────────────────────────────────────────────────────────────────\n",
       "                                                                        3     \n",
       "                                                                       A (r, θ\n",
       "\n",
       "                                                             2                \n",
       "      3                4                2       ⎛∂          ⎞  ∂              \n",
       ")) - A (r, θ)⋅B(r, θ)⋅C (r, θ)⋅D(r, θ)⋅Φ (r, θ)⋅⎜──(A(r, θ))⎟ ⋅──(D(r, θ)) - 2\n",
       "                                                ⎝∂r         ⎠  ∂r             \n",
       "                                                                              \n",
       "──────────────────────────────────────────────────────────────────────────────\n",
       "   4        4        4                                                        \n",
       ")⋅B (r, θ)⋅C (r, θ)⋅Φ (r, θ)                                                  \n",
       "\n",
       "                                                                              \n",
       "  2        4        2        3       ∂           ∂              2        4    \n",
       "⋅A (r, θ)⋅B (r, θ)⋅C (r, θ)⋅ω (r, θ)⋅──(A(r, θ))⋅──(ω(r, θ)) + A (r, θ)⋅B (r, \n",
       "                                     ∂θ          ∂θ                           \n",
       "                                                                              \n",
       "──────────────────────────────────────────────────────────────────────────────\n",
       "                                                                              \n",
       "                                                                              \n",
       "\n",
       "                                          2                                   \n",
       "            2               ∂            ∂              2        4            \n",
       "θ)⋅C(r, θ)⋅Φ (r, θ)⋅ω(r, θ)⋅──(A(r, θ))⋅───(ω(r, θ)) + A (r, θ)⋅B (r, θ)⋅C(r, \n",
       "                            ∂θ            2                                   \n",
       "                                        ∂θ                                    \n",
       "──────────────────────────────────────────────────────────────────────────────\n",
       "                                                                              \n",
       "                                                                              \n",
       "\n",
       "                      2                                                       \n",
       "    2                ∂           ∂              2        4                2   \n",
       "θ)⋅Φ (r, θ)⋅ω(r, θ)⋅───(A(r, θ))⋅──(ω(r, θ)) + A (r, θ)⋅B (r, θ)⋅C(r, θ)⋅Φ (r,\n",
       "                      2          ∂θ                                           \n",
       "                    ∂θ                                                        \n",
       "──────────────────────────────────────────────────────────────────────────────\n",
       "                                                                              \n",
       "                                                                              \n",
       "\n",
       "                             2                                                \n",
       "    ∂           ⎛∂          ⎞       2        4                               ∂\n",
       " θ)⋅──(A(r, θ))⋅⎜──(ω(r, θ))⎟  - 2⋅A (r, θ)⋅B (r, θ)⋅C(r, θ)⋅Φ(r, θ)⋅ω(r, θ)⋅─\n",
       "    ∂θ          ⎝∂θ         ⎠                                                ∂\n",
       "                                                                              \n",
       "──────────────────────────────────────────────────────────────────────────────\n",
       "                                                                              \n",
       "                                                                              \n",
       "\n",
       "                                                                              \n",
       "           ∂           ∂              2        4        2               ∂     \n",
       "─(A(r, θ))⋅──(Φ(r, θ))⋅──(ω(r, θ)) - A (r, θ)⋅B (r, θ)⋅Φ (r, θ)⋅ω(r, θ)⋅──(A(r\n",
       "θ          ∂θ          ∂θ                                               ∂θ    \n",
       "                                                                              \n",
       "──────────────────────────────────────────────────────────────────────────────\n",
       "                                                                              \n",
       "                                                                              \n",
       "\n",
       "                                                                              \n",
       "      ∂           ∂              2                4        2               ∂  \n",
       ", θ))⋅──(C(r, θ))⋅──(ω(r, θ)) - A (r, θ)⋅B(r, θ)⋅C (r, θ)⋅Φ (r, θ)⋅ω(r, θ)⋅──(\n",
       "      ∂θ          ∂θ                                                       ∂r \n",
       "                                                                              \n",
       "──────────────────────────────────────────────────────────────────────────────\n",
       "                                                                              \n",
       "                                                                              \n",
       "\n",
       "           2                                                         2        \n",
       "          ∂              2                4        2                ∂         \n",
       "A(r, θ))⋅───(ω(r, θ)) - A (r, θ)⋅B(r, θ)⋅C (r, θ)⋅Φ (r, θ)⋅ω(r, θ)⋅───(A(r, θ)\n",
       "           2                                                         2        \n",
       "         ∂r                                                        ∂r         \n",
       "──────────────────────────────────────────────────────────────────────────────\n",
       "                                                                              \n",
       "                                                                              \n",
       "\n",
       "                                                                            2 \n",
       "  ∂              2                4        2       ∂           ⎛∂          ⎞  \n",
       ")⋅──(ω(r, θ)) - A (r, θ)⋅B(r, θ)⋅C (r, θ)⋅Φ (r, θ)⋅──(A(r, θ))⋅⎜──(ω(r, θ))⎟  \n",
       "  ∂r                                               ∂r          ⎝∂r         ⎠  \n",
       "                                                                              \n",
       "──────────────────────────────────────────────────────────────────────────────\n",
       "                                                                              \n",
       "                                                                              \n",
       "\n",
       "                                                                              \n",
       "     2                4                       ∂           ∂           ∂       \n",
       "+ 2⋅A (r, θ)⋅B(r, θ)⋅C (r, θ)⋅Φ(r, θ)⋅ω(r, θ)⋅──(A(r, θ))⋅──(Φ(r, θ))⋅──(ω(r, \n",
       "                                              ∂r          ∂r          ∂r      \n",
       "                                                                              \n",
       "──────────────────────────────────────────────────────────────────────────────\n",
       "                                                                              \n",
       "                                                                              \n",
       "\n",
       "                                                                              \n",
       "       2        4        2               ∂           ∂           ∂            \n",
       "θ)) + A (r, θ)⋅C (r, θ)⋅Φ (r, θ)⋅ω(r, θ)⋅──(A(r, θ))⋅──(B(r, θ))⋅──(ω(r, θ)) +\n",
       "                                         ∂r          ∂r          ∂r           \n",
       "                                                                              \n",
       "──────────────────────────────────────────────────────────────────────────────\n",
       "                                                                              \n",
       "                                                                              \n",
       "\n",
       "                                                   2                          \n",
       "            4        2        4       ⎛∂          ⎞               4           \n",
       " 2⋅A(r, θ)⋅B (r, θ)⋅C (r, θ)⋅ω (r, θ)⋅⎜──(A(r, θ))⎟  - 2⋅A(r, θ)⋅B (r, θ)⋅C(r,\n",
       "                                      ⎝∂θ         ⎠                           \n",
       "                                                                              \n",
       "──────────────────────────────────────────────────────────────────────────────\n",
       "                                                                              \n",
       "                                                                              \n",
       "\n",
       "                                    2                                         \n",
       "     2        2       ∂            ∂                        4                2\n",
       " θ)⋅Φ (r, θ)⋅ω (r, θ)⋅──(A(r, θ))⋅───(A(r, θ)) - 3⋅A(r, θ)⋅B (r, θ)⋅C(r, θ)⋅Φ \n",
       "                      ∂θ            2                                         \n",
       "                                  ∂θ                                          \n",
       "──────────────────────────────────────────────────────────────────────────────\n",
       "                                                                              \n",
       "                                                                              \n",
       "\n",
       "                            2                                                 \n",
       "               ⎛∂          ⎞  ∂                        4                      \n",
       "(r, θ)⋅ω(r, θ)⋅⎜──(A(r, θ))⎟ ⋅──(ω(r, θ)) + 2⋅A(r, θ)⋅B (r, θ)⋅C(r, θ)⋅Φ(r, θ)\n",
       "               ⎝∂θ         ⎠  ∂θ                                              \n",
       "                                                                              \n",
       "──────────────────────────────────────────────────────────────────────────────\n",
       "                                                                              \n",
       "                                                                              \n",
       "\n",
       "                       2                                                      \n",
       "  2       ⎛∂          ⎞  ∂                      4        2        2       ⎛∂  \n",
       "⋅ω (r, θ)⋅⎜──(A(r, θ))⎟ ⋅──(Φ(r, θ)) + A(r, θ)⋅B (r, θ)⋅Φ (r, θ)⋅ω (r, θ)⋅⎜──(\n",
       "          ⎝∂θ         ⎠  ∂θ                                               ⎝∂θ \n",
       "                                                                              \n",
       "──────────────────────────────────────────────────────────────────────────────\n",
       "                                                                              \n",
       "                                                                              \n",
       "\n",
       "         2                                                                    \n",
       "        ⎞  ∂                                4        2        2       ∂       \n",
       "A(r, θ))⎟ ⋅──(C(r, θ)) + 2⋅A(r, θ)⋅B(r, θ)⋅C (r, θ)⋅Φ (r, θ)⋅ω (r, θ)⋅──(A(r, \n",
       "        ⎠  ∂θ                                                         ∂r      \n",
       "                                                                              \n",
       "──────────────────────────────────────────────────────────────────────────────\n",
       "                                                                              \n",
       "                                                                              \n",
       "\n",
       "      2                                                                     2 \n",
       "     ∂                                4        2               ⎛∂          ⎞  \n",
       "θ))⋅───(A(r, θ)) + 3⋅A(r, θ)⋅B(r, θ)⋅C (r, θ)⋅Φ (r, θ)⋅ω(r, θ)⋅⎜──(A(r, θ))⎟ ⋅\n",
       "      2                                                        ⎝∂r         ⎠  \n",
       "    ∂r                                                                        \n",
       "──────────────────────────────────────────────────────────────────────────────\n",
       "                                                                              \n",
       "                                                                              \n",
       "\n",
       "                                                                       2      \n",
       "∂                                4                2       ⎛∂          ⎞  ∂    \n",
       "──(ω(r, θ)) - 2⋅A(r, θ)⋅B(r, θ)⋅C (r, θ)⋅Φ(r, θ)⋅ω (r, θ)⋅⎜──(A(r, θ))⎟ ⋅──(Φ(\n",
       "∂r                                                        ⎝∂r         ⎠  ∂r   \n",
       "                                                                              \n",
       "──────────────────────────────────────────────────────────────────────────────\n",
       "                                                                              \n",
       "                                                                              \n",
       "\n",
       "                                                         2                    \n",
       "                  4        2        2       ⎛∂          ⎞  ∂                4 \n",
       "r, θ)) - A(r, θ)⋅C (r, θ)⋅Φ (r, θ)⋅ω (r, θ)⋅⎜──(A(r, θ))⎟ ⋅──(B(r, θ)) + 2⋅B (\n",
       "                                            ⎝∂r         ⎠  ∂r                 \n",
       "                                                                              \n",
       "──────────────────────────────────────────────────────────────────────────────\n",
       "                                                                              \n",
       "                                                                              \n",
       "\n",
       "                                             3                                \n",
       "               2        2       ⎛∂          ⎞               4        2        \n",
       "r, θ)⋅C(r, θ)⋅Φ (r, θ)⋅ω (r, θ)⋅⎜──(A(r, θ))⎟  - 2⋅B(r, θ)⋅C (r, θ)⋅Φ (r, θ)⋅ω\n",
       "                                ⎝∂θ         ⎠                                 \n",
       "                                                                              \n",
       "──────────────────────────────────────────────────────────────────────────────\n",
       "                                                                              \n",
       "                                                                              \n",
       "\n",
       "                     3\n",
       "2       ⎛∂          ⎞ \n",
       " (r, θ)⋅⎜──(A(r, θ))⎟ \n",
       "        ⎝∂r         ⎠ \n",
       "                      \n",
       "──────────────────────\n",
       "                      \n",
       "                      "
      ]
     },
     "execution_count": 41,
     "metadata": {},
     "output_type": "execute_result"
    }
   ],
   "source": [
    "factor(factor(1/C**2*(ter1).diff(theta))-factor(1/B**2*(ter2).diff(r)) +ter3)"
   ]
  },
  {
   "cell_type": "code",
   "execution_count": null,
   "id": "017f153b",
   "metadata": {},
   "outputs": [],
   "source": []
  }
 ],
 "metadata": {
  "interpreter": {
   "hash": "8d1181128e1f0e3c7e069abdee9a2274e13259c88bd323b8ad99884c634d782b"
  },
  "kernelspec": {
   "display_name": "Python 3.8.12 64-bit ('base': conda)",
   "name": "python3"
  },
  "language_info": {
   "codemirror_mode": {
    "name": "ipython",
    "version": 3
   },
   "file_extension": ".py",
   "mimetype": "text/x-python",
   "name": "python",
   "nbconvert_exporter": "python",
   "pygments_lexer": "ipython3",
   "version": "3.8.12"
  }
 },
 "nbformat": 4,
 "nbformat_minor": 5
}
