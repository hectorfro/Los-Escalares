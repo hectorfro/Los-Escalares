{
 "cells": [
  {
   "cell_type": "code",
   "execution_count": 1,
   "id": "055aea90",
   "metadata": {},
   "outputs": [],
   "source": [
    "#### Versión del 28/9/2022 ##### \n",
    "import pytearcat as pt\n",
    "import sympy as sy\n",
    "from sympy import * "
   ]
  },
  {
   "cell_type": "markdown",
   "id": "f5d30c7b",
   "metadata": {},
   "source": [
    "### Metric\n"
   ]
  },
  {
   "cell_type": "code",
   "execution_count": 2,
   "id": "4bf547c2",
   "metadata": {
    "scrolled": true
   },
   "outputs": [
    {
     "name": "stdout",
     "output_type": "stream",
     "text": [
      "Remember that the time coordinate must be the first coordinate.\n"
     ]
    }
   ],
   "source": [
    "t,r,theta,phi = pt.coords('t,r,theta,phi')\n",
    "\n",
    "l = pt.fun('l','r')\n",
    "nu = pt.fun('nu','r')\n",
    "\n",
    "rho = pt.fun('rho','r')\n",
    "P = pt.fun('P','r')\n",
    "Pt = pt.fun('Pt','r')"
   ]
  },
  {
   "cell_type": "code",
   "execution_count": 3,
   "id": "45b20ced",
   "metadata": {},
   "outputs": [
    {
     "name": "stdout",
     "output_type": "stream",
     "text": [
      "\n",
      "Dimension = 4\n",
      "Coordinates = t,r,theta,phi\n",
      "Metric defined successfully: \n",
      "\n"
     ]
    },
    {
     "data": {
      "text/latex": [
       "$\\displaystyle ds^2 = e^{2 \\nu{\\left(r \\right)}} \\cdot dt^2- e^{2 l{\\left(r \\right)}} \\cdot dr^2- r^{2} \\cdot d\\theta^2- r^{2} \\sin^{2}{\\left(\\theta \\right)} \\cdot d\\phi^2$"
      ],
      "text/plain": [
       "<IPython.core.display.Math object>"
      ]
     },
     "metadata": {},
     "output_type": "display_data"
    },
    {
     "data": {
      "text/latex": [
       "$\\displaystyle \\left[\\begin{matrix}e^{2 \\nu{\\left(r \\right)}} & 0 & 0 & 0\\\\0 & - e^{2 l{\\left(r \\right)}} & 0 & 0\\\\0 & 0 & - r^{2} & 0\\\\0 & 0 & 0 & - r^{2} \\sin^{2}{\\left(\\theta \\right)}\\end{matrix}\\right]$"
      ],
      "text/plain": [
       "Matrix([\n",
       "[exp(2*nu(r)),            0,     0,                   0],\n",
       "[           0, -exp(2*l(r)),     0,                   0],\n",
       "[           0,            0, -r**2,                   0],\n",
       "[           0,            0,     0, -r**2*sin(theta)**2]])"
      ]
     },
     "metadata": {},
     "output_type": "display_data"
    }
   ],
   "source": [
    "ds = 'ds2 = exp(2*nu)*dt**2 - exp(2*l)*dr**2 - r**2 * (dtheta**2 + sin(theta)**2 * dphi**2)'\n",
    "g = pt.metric(ds)"
   ]
  },
  {
   "cell_type": "markdown",
   "id": "741633d8",
   "metadata": {},
   "source": [
    "### Christoffel"
   ]
  },
  {
   "cell_type": "code",
   "execution_count": 4,
   "id": "ffd49e0a",
   "metadata": {},
   "outputs": [
    {
     "data": {
      "text/latex": [
       "Christoffel $\\Gamma_{\\alpha \\beta \\gamma}$ and $\\Gamma^{\\alpha}_{\\beta \\gamma}$"
      ],
      "text/plain": [
       "<IPython.core.display.Latex object>"
      ]
     },
     "metadata": {},
     "output_type": "display_data"
    },
    {
     "data": {
      "application/vnd.jupyter.widget-view+json": {
       "model_id": "c849165c9400497a98bff91b1307c1a8",
       "version_major": 2,
       "version_minor": 0
      },
      "text/plain": [
       "  0%|          | 0/64 [00:00<?, ?it/s]"
      ]
     },
     "metadata": {},
     "output_type": "display_data"
    }
   ],
   "source": [
    "Chr= pt.christoffel()"
   ]
  },
  {
   "cell_type": "code",
   "execution_count": 5,
   "id": "3019037b",
   "metadata": {},
   "outputs": [
    {
     "data": {
      "text/latex": [
       "Riemann Tensor $R^{\\alpha}_{\\beta \\gamma \\delta}$"
      ],
      "text/plain": [
       "<IPython.core.display.Latex object>"
      ]
     },
     "metadata": {},
     "output_type": "display_data"
    },
    {
     "data": {
      "application/vnd.jupyter.widget-view+json": {
       "model_id": "c6a125391885459d8ccbf0ef711d6e47",
       "version_major": 2,
       "version_minor": 0
      },
      "text/plain": [
       "  0%|          | 0/256 [00:00<?, ?it/s]"
      ]
     },
     "metadata": {},
     "output_type": "display_data"
    },
    {
     "data": {
      "application/vnd.jupyter.widget-view+json": {
       "model_id": "bf6b33ed9d45473d86e615459fe51173",
       "version_major": 2,
       "version_minor": 0
      },
      "text/plain": [
       "Riemann Tensor $R{_\\alpha}{_\\beta}{_\\gamma}{_\\delta}$:   0%|          | 0/256 [00:00<?, ?it/s]"
      ]
     },
     "metadata": {},
     "output_type": "display_data"
    },
    {
     "data": {
      "application/vnd.jupyter.widget-view+json": {
       "model_id": "c3e5e25647b04c3aa41af5354ca93d44",
       "version_major": 2,
       "version_minor": 0
      },
      "text/plain": [
       "Riemann Tensor $R{^\\alpha}{^\\beta}{_\\gamma}{_\\delta}$:   0%|          | 0/256 [00:00<?, ?it/s]"
      ]
     },
     "metadata": {},
     "output_type": "display_data"
    },
    {
     "data": {
      "application/vnd.jupyter.widget-view+json": {
       "model_id": "4bbf55e7bc9a43c797c0cacbb7eb166e",
       "version_major": 2,
       "version_minor": 0
      },
      "text/plain": [
       "Riemann Tensor $R{^\\alpha}{^\\beta}{^\\gamma}{_\\delta}$:   0%|          | 0/256 [00:00<?, ?it/s]"
      ]
     },
     "metadata": {},
     "output_type": "display_data"
    },
    {
     "data": {
      "application/vnd.jupyter.widget-view+json": {
       "model_id": "42d0b0801ec94f7fa17336c44954ae41",
       "version_major": 2,
       "version_minor": 0
      },
      "text/plain": [
       "Riemann Tensor $R{^\\alpha}{^\\beta}{^\\gamma}{^\\delta}$:   0%|          | 0/256 [00:00<?, ?it/s]"
      ]
     },
     "metadata": {},
     "output_type": "display_data"
    },
    {
     "data": {
      "application/vnd.jupyter.widget-view+json": {
       "model_id": "b800d2408f5d49eeb0c86a4885010b61",
       "version_major": 2,
       "version_minor": 0
      },
      "text/plain": [
       "Riemann Tensor $R{^\\alpha}{^\\beta}{_\\gamma}{^\\delta}$:   0%|          | 0/256 [00:00<?, ?it/s]"
      ]
     },
     "metadata": {},
     "output_type": "display_data"
    },
    {
     "data": {
      "application/vnd.jupyter.widget-view+json": {
       "model_id": "0a6c660f4d624e50ba8e1437762318d3",
       "version_major": 2,
       "version_minor": 0
      },
      "text/plain": [
       "Riemann Tensor $R{^\\alpha}{_\\beta}{^\\gamma}{_\\delta}$:   0%|          | 0/256 [00:00<?, ?it/s]"
      ]
     },
     "metadata": {},
     "output_type": "display_data"
    },
    {
     "data": {
      "application/vnd.jupyter.widget-view+json": {
       "model_id": "1b2a8c6165cd4e1ab4a9ed5fd705fafe",
       "version_major": 2,
       "version_minor": 0
      },
      "text/plain": [
       "Riemann Tensor $R{^\\alpha}{_\\beta}{^\\gamma}{^\\delta}$:   0%|          | 0/256 [00:00<?, ?it/s]"
      ]
     },
     "metadata": {},
     "output_type": "display_data"
    },
    {
     "data": {
      "application/vnd.jupyter.widget-view+json": {
       "model_id": "21911210add54a778fea16c3fc9777c1",
       "version_major": 2,
       "version_minor": 0
      },
      "text/plain": [
       "Riemann Tensor $R{^\\alpha}{_\\beta}{_\\gamma}{^\\delta}$:   0%|          | 0/256 [00:00<?, ?it/s]"
      ]
     },
     "metadata": {},
     "output_type": "display_data"
    },
    {
     "data": {
      "application/vnd.jupyter.widget-view+json": {
       "model_id": "bd2ad61851fd4613b2c3a54ba7fb4e16",
       "version_major": 2,
       "version_minor": 0
      },
      "text/plain": [
       "Riemann Tensor $R{_\\alpha}{^\\beta}{_\\gamma}{_\\delta}$:   0%|          | 0/256 [00:00<?, ?it/s]"
      ]
     },
     "metadata": {},
     "output_type": "display_data"
    },
    {
     "data": {
      "application/vnd.jupyter.widget-view+json": {
       "model_id": "e53e7dba1c2a44d8a37d56eba636554a",
       "version_major": 2,
       "version_minor": 0
      },
      "text/plain": [
       "Riemann Tensor $R{_\\alpha}{^\\beta}{^\\gamma}{_\\delta}$:   0%|          | 0/256 [00:00<?, ?it/s]"
      ]
     },
     "metadata": {},
     "output_type": "display_data"
    },
    {
     "data": {
      "application/vnd.jupyter.widget-view+json": {
       "model_id": "e5eb4dc5d17e4f8189146048bd3ddb99",
       "version_major": 2,
       "version_minor": 0
      },
      "text/plain": [
       "Riemann Tensor $R{_\\alpha}{^\\beta}{^\\gamma}{^\\delta}$:   0%|          | 0/256 [00:00<?, ?it/s]"
      ]
     },
     "metadata": {},
     "output_type": "display_data"
    },
    {
     "data": {
      "application/vnd.jupyter.widget-view+json": {
       "model_id": "7fee82bde0244ab3b9dfb0956df12ea1",
       "version_major": 2,
       "version_minor": 0
      },
      "text/plain": [
       "Riemann Tensor $R{_\\alpha}{^\\beta}{_\\gamma}{^\\delta}$:   0%|          | 0/256 [00:00<?, ?it/s]"
      ]
     },
     "metadata": {},
     "output_type": "display_data"
    },
    {
     "data": {
      "application/vnd.jupyter.widget-view+json": {
       "model_id": "1bb3d416ef6b4795bfe2822384091a48",
       "version_major": 2,
       "version_minor": 0
      },
      "text/plain": [
       "Riemann Tensor $R{_\\alpha}{_\\beta}{^\\gamma}{_\\delta}$:   0%|          | 0/256 [00:00<?, ?it/s]"
      ]
     },
     "metadata": {},
     "output_type": "display_data"
    },
    {
     "data": {
      "application/vnd.jupyter.widget-view+json": {
       "model_id": "3840e4520daa416f9953956d8d835094",
       "version_major": 2,
       "version_minor": 0
      },
      "text/plain": [
       "Riemann Tensor $R{_\\alpha}{_\\beta}{^\\gamma}{^\\delta}$:   0%|          | 0/256 [00:00<?, ?it/s]"
      ]
     },
     "metadata": {},
     "output_type": "display_data"
    },
    {
     "data": {
      "application/vnd.jupyter.widget-view+json": {
       "model_id": "eaf4644f17f2495a8272e6cf76ce12fc",
       "version_major": 2,
       "version_minor": 0
      },
      "text/plain": [
       "Riemann Tensor $R{_\\alpha}{_\\beta}{_\\gamma}{^\\delta}$:   0%|          | 0/256 [00:00<?, ?it/s]"
      ]
     },
     "metadata": {},
     "output_type": "display_data"
    },
    {
     "data": {
      "text/latex": [
       "All other indices of Riemann Tensor $R$  already calculated."
      ],
      "text/plain": [
       "<IPython.core.display.Latex object>"
      ]
     },
     "metadata": {},
     "output_type": "display_data"
    },
    {
     "data": {
      "text/latex": [
       "$\\displaystyle {R}{}^{0}\\,{}_{1}\\,{}_{0}\\,{}_{1}\\, = \\frac{d}{d r} l{\\left(r \\right)} \\frac{d}{d r} \\nu{\\left(r \\right)} - \\left(\\frac{d}{d r} \\nu{\\left(r \\right)}\\right)^{2} - \\frac{d^{2}}{d r^{2}} \\nu{\\left(r \\right)}$"
      ],
      "text/plain": [
       "<IPython.core.display.Math object>"
      ]
     },
     "metadata": {},
     "output_type": "display_data"
    },
    {
     "data": {
      "text/latex": [
       "$\\displaystyle {R}{}^{0}\\,{}_{1}\\,{}_{1}\\,{}_{0}\\, = - \\frac{d}{d r} l{\\left(r \\right)} \\frac{d}{d r} \\nu{\\left(r \\right)} + \\left(\\frac{d}{d r} \\nu{\\left(r \\right)}\\right)^{2} + \\frac{d^{2}}{d r^{2}} \\nu{\\left(r \\right)}$"
      ],
      "text/plain": [
       "<IPython.core.display.Math object>"
      ]
     },
     "metadata": {},
     "output_type": "display_data"
    },
    {
     "data": {
      "text/latex": [
       "$\\displaystyle {R}{}^{0}\\,{}_{2}\\,{}_{0}\\,{}_{2}\\, = - r e^{- 2 l{\\left(r \\right)}} \\frac{d}{d r} \\nu{\\left(r \\right)}$"
      ],
      "text/plain": [
       "<IPython.core.display.Math object>"
      ]
     },
     "metadata": {},
     "output_type": "display_data"
    },
    {
     "data": {
      "text/latex": [
       "$\\displaystyle {R}{}^{0}\\,{}_{2}\\,{}_{2}\\,{}_{0}\\, = r e^{- 2 l{\\left(r \\right)}} \\frac{d}{d r} \\nu{\\left(r \\right)}$"
      ],
      "text/plain": [
       "<IPython.core.display.Math object>"
      ]
     },
     "metadata": {},
     "output_type": "display_data"
    },
    {
     "data": {
      "text/latex": [
       "$\\displaystyle {R}{}^{0}\\,{}_{3}\\,{}_{0}\\,{}_{3}\\, = - r e^{- 2 l{\\left(r \\right)}} \\sin^{2}{\\left(\\theta \\right)} \\frac{d}{d r} \\nu{\\left(r \\right)}$"
      ],
      "text/plain": [
       "<IPython.core.display.Math object>"
      ]
     },
     "metadata": {},
     "output_type": "display_data"
    },
    {
     "data": {
      "text/latex": [
       "$\\displaystyle {R}{}^{0}\\,{}_{3}\\,{}_{3}\\,{}_{0}\\, = r e^{- 2 l{\\left(r \\right)}} \\sin^{2}{\\left(\\theta \\right)} \\frac{d}{d r} \\nu{\\left(r \\right)}$"
      ],
      "text/plain": [
       "<IPython.core.display.Math object>"
      ]
     },
     "metadata": {},
     "output_type": "display_data"
    },
    {
     "data": {
      "text/latex": [
       "$\\displaystyle {R}{}^{1}\\,{}_{0}\\,{}_{0}\\,{}_{1}\\, = \\left(\\frac{d}{d r} l{\\left(r \\right)} \\frac{d}{d r} \\nu{\\left(r \\right)} - \\left(\\frac{d}{d r} \\nu{\\left(r \\right)}\\right)^{2} - \\frac{d^{2}}{d r^{2}} \\nu{\\left(r \\right)}\\right) e^{- 2 l{\\left(r \\right)}} e^{2 \\nu{\\left(r \\right)}}$"
      ],
      "text/plain": [
       "<IPython.core.display.Math object>"
      ]
     },
     "metadata": {},
     "output_type": "display_data"
    },
    {
     "data": {
      "text/latex": [
       "$\\displaystyle {R}{}^{1}\\,{}_{0}\\,{}_{1}\\,{}_{0}\\, = - \\left(\\frac{d}{d r} l{\\left(r \\right)} \\frac{d}{d r} \\nu{\\left(r \\right)} - \\left(\\frac{d}{d r} \\nu{\\left(r \\right)}\\right)^{2} - \\frac{d^{2}}{d r^{2}} \\nu{\\left(r \\right)}\\right) e^{- 2 l{\\left(r \\right)}} e^{2 \\nu{\\left(r \\right)}}$"
      ],
      "text/plain": [
       "<IPython.core.display.Math object>"
      ]
     },
     "metadata": {},
     "output_type": "display_data"
    },
    {
     "data": {
      "text/latex": [
       "$\\displaystyle {R}{}^{1}\\,{}_{2}\\,{}_{1}\\,{}_{2}\\, = r e^{- 2 l{\\left(r \\right)}} \\frac{d}{d r} l{\\left(r \\right)}$"
      ],
      "text/plain": [
       "<IPython.core.display.Math object>"
      ]
     },
     "metadata": {},
     "output_type": "display_data"
    },
    {
     "data": {
      "text/latex": [
       "$\\displaystyle {R}{}^{1}\\,{}_{2}\\,{}_{2}\\,{}_{1}\\, = - r e^{- 2 l{\\left(r \\right)}} \\frac{d}{d r} l{\\left(r \\right)}$"
      ],
      "text/plain": [
       "<IPython.core.display.Math object>"
      ]
     },
     "metadata": {},
     "output_type": "display_data"
    },
    {
     "data": {
      "text/latex": [
       "$\\displaystyle {R}{}^{1}\\,{}_{3}\\,{}_{1}\\,{}_{3}\\, = r e^{- 2 l{\\left(r \\right)}} \\sin^{2}{\\left(\\theta \\right)} \\frac{d}{d r} l{\\left(r \\right)}$"
      ],
      "text/plain": [
       "<IPython.core.display.Math object>"
      ]
     },
     "metadata": {},
     "output_type": "display_data"
    },
    {
     "data": {
      "text/latex": [
       "$\\displaystyle {R}{}^{1}\\,{}_{3}\\,{}_{3}\\,{}_{1}\\, = - r e^{- 2 l{\\left(r \\right)}} \\sin^{2}{\\left(\\theta \\right)} \\frac{d}{d r} l{\\left(r \\right)}$"
      ],
      "text/plain": [
       "<IPython.core.display.Math object>"
      ]
     },
     "metadata": {},
     "output_type": "display_data"
    },
    {
     "data": {
      "text/latex": [
       "$\\displaystyle {R}{}^{2}\\,{}_{0}\\,{}_{0}\\,{}_{2}\\, = - \\frac{e^{- 2 l{\\left(r \\right)}} e^{2 \\nu{\\left(r \\right)}} \\frac{d}{d r} \\nu{\\left(r \\right)}}{r}$"
      ],
      "text/plain": [
       "<IPython.core.display.Math object>"
      ]
     },
     "metadata": {},
     "output_type": "display_data"
    },
    {
     "data": {
      "text/latex": [
       "$\\displaystyle {R}{}^{2}\\,{}_{0}\\,{}_{2}\\,{}_{0}\\, = \\frac{e^{- 2 l{\\left(r \\right)}} e^{2 \\nu{\\left(r \\right)}} \\frac{d}{d r} \\nu{\\left(r \\right)}}{r}$"
      ],
      "text/plain": [
       "<IPython.core.display.Math object>"
      ]
     },
     "metadata": {},
     "output_type": "display_data"
    },
    {
     "data": {
      "text/latex": [
       "$\\displaystyle {R}{}^{2}\\,{}_{1}\\,{}_{1}\\,{}_{2}\\, = - \\frac{\\frac{d}{d r} l{\\left(r \\right)}}{r}$"
      ],
      "text/plain": [
       "<IPython.core.display.Math object>"
      ]
     },
     "metadata": {},
     "output_type": "display_data"
    },
    {
     "data": {
      "text/latex": [
       "$\\displaystyle {R}{}^{2}\\,{}_{1}\\,{}_{2}\\,{}_{1}\\, = \\frac{\\frac{d}{d r} l{\\left(r \\right)}}{r}$"
      ],
      "text/plain": [
       "<IPython.core.display.Math object>"
      ]
     },
     "metadata": {},
     "output_type": "display_data"
    },
    {
     "data": {
      "text/latex": [
       "$\\displaystyle {R}{}^{2}\\,{}_{3}\\,{}_{2}\\,{}_{3}\\, = \\left(e^{l{\\left(r \\right)}} - 1\\right) \\left(e^{l{\\left(r \\right)}} + 1\\right) e^{- 2 l{\\left(r \\right)}} \\sin^{2}{\\left(\\theta \\right)}$"
      ],
      "text/plain": [
       "<IPython.core.display.Math object>"
      ]
     },
     "metadata": {},
     "output_type": "display_data"
    },
    {
     "data": {
      "text/latex": [
       "$\\displaystyle {R}{}^{2}\\,{}_{3}\\,{}_{3}\\,{}_{2}\\, = - \\left(e^{l{\\left(r \\right)}} - 1\\right) \\left(e^{l{\\left(r \\right)}} + 1\\right) e^{- 2 l{\\left(r \\right)}} \\sin^{2}{\\left(\\theta \\right)}$"
      ],
      "text/plain": [
       "<IPython.core.display.Math object>"
      ]
     },
     "metadata": {},
     "output_type": "display_data"
    },
    {
     "data": {
      "text/latex": [
       "$\\displaystyle {R}{}^{3}\\,{}_{0}\\,{}_{0}\\,{}_{3}\\, = - \\frac{e^{- 2 l{\\left(r \\right)}} e^{2 \\nu{\\left(r \\right)}} \\frac{d}{d r} \\nu{\\left(r \\right)}}{r}$"
      ],
      "text/plain": [
       "<IPython.core.display.Math object>"
      ]
     },
     "metadata": {},
     "output_type": "display_data"
    },
    {
     "data": {
      "text/latex": [
       "$\\displaystyle {R}{}^{3}\\,{}_{0}\\,{}_{3}\\,{}_{0}\\, = \\frac{e^{- 2 l{\\left(r \\right)}} e^{2 \\nu{\\left(r \\right)}} \\frac{d}{d r} \\nu{\\left(r \\right)}}{r}$"
      ],
      "text/plain": [
       "<IPython.core.display.Math object>"
      ]
     },
     "metadata": {},
     "output_type": "display_data"
    },
    {
     "data": {
      "text/latex": [
       "$\\displaystyle {R}{}^{3}\\,{}_{1}\\,{}_{1}\\,{}_{3}\\, = - \\frac{\\frac{d}{d r} l{\\left(r \\right)}}{r}$"
      ],
      "text/plain": [
       "<IPython.core.display.Math object>"
      ]
     },
     "metadata": {},
     "output_type": "display_data"
    },
    {
     "data": {
      "text/latex": [
       "$\\displaystyle {R}{}^{3}\\,{}_{1}\\,{}_{3}\\,{}_{1}\\, = \\frac{\\frac{d}{d r} l{\\left(r \\right)}}{r}$"
      ],
      "text/plain": [
       "<IPython.core.display.Math object>"
      ]
     },
     "metadata": {},
     "output_type": "display_data"
    },
    {
     "data": {
      "text/latex": [
       "$\\displaystyle {R}{}^{3}\\,{}_{2}\\,{}_{2}\\,{}_{3}\\, = - \\left(e^{l{\\left(r \\right)}} - 1\\right) \\left(e^{l{\\left(r \\right)}} + 1\\right) e^{- 2 l{\\left(r \\right)}}$"
      ],
      "text/plain": [
       "<IPython.core.display.Math object>"
      ]
     },
     "metadata": {},
     "output_type": "display_data"
    },
    {
     "data": {
      "text/latex": [
       "$\\displaystyle {R}{}^{3}\\,{}_{2}\\,{}_{3}\\,{}_{2}\\, = \\left(e^{l{\\left(r \\right)}} - 1\\right) \\left(e^{l{\\left(r \\right)}} + 1\\right) e^{- 2 l{\\left(r \\right)}}$"
      ],
      "text/plain": [
       "<IPython.core.display.Math object>"
      ]
     },
     "metadata": {},
     "output_type": "display_data"
    }
   ],
   "source": [
    "R = pt.riemann(All=True)\n",
    "R.display(\"^,_,_,_\")"
   ]
  },
  {
   "cell_type": "code",
   "execution_count": 6,
   "id": "484ca2d3",
   "metadata": {},
   "outputs": [
    {
     "data": {
      "text/latex": [
       "Ricci Tensor $R_{\\alpha \\beta}$"
      ],
      "text/plain": [
       "<IPython.core.display.Latex object>"
      ]
     },
     "metadata": {},
     "output_type": "display_data"
    },
    {
     "data": {
      "application/vnd.jupyter.widget-view+json": {
       "model_id": "e266c2b87d51468cb5302a7f883bc9f3",
       "version_major": 2,
       "version_minor": 0
      },
      "text/plain": [
       "  0%|          | 0/16 [00:00<?, ?it/s]"
      ]
     },
     "metadata": {},
     "output_type": "display_data"
    },
    {
     "data": {
      "image/png": "[encoded data removed]",
      "text/latex": [
       "$\\displaystyle \\left[\\begin{matrix}- \\frac{\\left(r \\frac{d}{d r} l{\\left(r \\right)} \\frac{d}{d r} \\nu{\\left(r \\right)} - r \\left(\\frac{d}{d r} \\nu{\\left(r \\right)}\\right)^{2} - r \\frac{d^{2}}{d r^{2}} \\nu{\\left(r \\right)} - 2 \\frac{d}{d r} \\nu{\\left(r \\right)}\\right) e^{- 2 l{\\left(r \\right)}} e^{2 \\nu{\\left(r \\right)}}}{r} & 0 & 0 & 0\\\\0 & \\frac{r \\frac{d}{d r} l{\\left(r \\right)} \\frac{d}{d r} \\nu{\\left(r \\right)} - r \\left(\\frac{d}{d r} \\nu{\\left(r \\right)}\\right)^{2} - r \\frac{d^{2}}{d r^{2}} \\nu{\\left(r \\right)} + 2 \\frac{d}{d r} l{\\left(r \\right)}}{r} & 0 & 0\\\\0 & 0 & \\left(r \\frac{d}{d r} l{\\left(r \\right)} - r \\frac{d}{d r} \\nu{\\left(r \\right)} + e^{2 l{\\left(r \\right)}} - 1\\right) e^{- 2 l{\\left(r \\right)}} & 0\\\\0 & 0 & 0 & \\left(r \\frac{d}{d r} l{\\left(r \\right)} - r \\frac{d}{d r} \\nu{\\left(r \\right)} + e^{2 l{\\left(r \\right)}} - 1\\right) e^{- 2 l{\\left(r \\right)}} \\sin^{2}{\\left(\\theta \\right)}\\end{matrix}\\right]$"
      ],
      "text/plain": [
       "⎡ ⎛                                  2       2                   ⎞            \n",
       "⎢ ⎜  d        d            ⎛d       ⎞       d            d       ⎟  -2⋅l(r)  2\n",
       "⎢-⎜r⋅──(l(r))⋅──(ν(r)) - r⋅⎜──(ν(r))⎟  - r⋅───(ν(r)) - 2⋅──(ν(r))⎟⋅ℯ       ⋅ℯ \n",
       "⎢ ⎜  dr       dr           ⎝dr      ⎠        2           dr      ⎟            \n",
       "⎢ ⎝                                        dr                    ⎠            \n",
       "⎢─────────────────────────────────────────────────────────────────────────────\n",
       "⎢                                         r                                   \n",
       "⎢                                                                             \n",
       "⎢                                                                             \n",
       "⎢                                                                             \n",
       "⎢                                                                             \n",
       "⎢                                                                             \n",
       "⎢                                                                             \n",
       "⎢                                         0                                   \n",
       "⎢                                                                             \n",
       "⎢                                                                             \n",
       "⎢                                                                             \n",
       "⎢                                         0                                   \n",
       "⎢                                                                             \n",
       "⎢                                                                             \n",
       "⎢                                                                             \n",
       "⎢                                         0                                   \n",
       "⎣                                                                             \n",
       "\n",
       "                                                                              \n",
       "⋅ν(r)                                                                         \n",
       "                                                                              \n",
       "                                                                              \n",
       "                                                                              \n",
       "──────                                0                                       \n",
       "                                                                              \n",
       "                                                                              \n",
       "                                          2       2                           \n",
       "          d        d            ⎛d       ⎞       d            d               \n",
       "        r⋅──(l(r))⋅──(ν(r)) - r⋅⎜──(ν(r))⎟  - r⋅───(ν(r)) + 2⋅──(l(r))        \n",
       "          dr       dr           ⎝dr      ⎠        2           dr              \n",
       "                                                dr                            \n",
       "        ──────────────────────────────────────────────────────────────        \n",
       "                                      r                                       \n",
       "                                                                              \n",
       "                                                                        ⎛  d  \n",
       "                                      0                                 ⎜r⋅──(\n",
       "                                                                        ⎝  dr \n",
       "                                                                              \n",
       "                                                                              \n",
       "                                      0                                       \n",
       "                                                                              \n",
       "\n",
       "                                                                              \n",
       "                                                                              \n",
       "                                                                              \n",
       "                                                                              \n",
       "                                                                              \n",
       "                 0                                                     0      \n",
       "                                                                              \n",
       "                                                                              \n",
       "                                                                              \n",
       "                                                                              \n",
       "                                                                              \n",
       "                                                                              \n",
       "                                                                              \n",
       "                 0                                                     0      \n",
       "                                                                              \n",
       "                                                                              \n",
       "          d           2⋅l(r)    ⎞  -2⋅l(r)                                    \n",
       "l(r)) - r⋅──(ν(r)) + ℯ       - 1⎟⋅ℯ                                    0      \n",
       "          dr                    ⎠                                             \n",
       "                                                                              \n",
       "                                            ⎛  d            d           2⋅l(r)\n",
       "                 0                          ⎜r⋅──(l(r)) - r⋅──(ν(r)) + ℯ      \n",
       "                                            ⎝  dr           dr                \n",
       "\n",
       "                      ⎤\n",
       "                      ⎥\n",
       "                      ⎥\n",
       "                      ⎥\n",
       "                      ⎥\n",
       "                      ⎥\n",
       "                      ⎥\n",
       "                      ⎥\n",
       "                      ⎥\n",
       "                      ⎥\n",
       "                      ⎥\n",
       "                      ⎥\n",
       "                      ⎥\n",
       "                      ⎥\n",
       "                      ⎥\n",
       "                      ⎥\n",
       "                      ⎥\n",
       "                      ⎥\n",
       "                      ⎥\n",
       "                      ⎥\n",
       "    ⎞  -2⋅l(r)    2   ⎥\n",
       " - 1⎟⋅ℯ       ⋅sin (θ)⎥\n",
       "    ⎠                 ⎦"
      ]
     },
     "metadata": {},
     "output_type": "display_data"
    }
   ],
   "source": [
    "Ric = pt.ricci()\n",
    "Ric.display()"
   ]
  },
  {
   "cell_type": "code",
   "execution_count": 7,
   "id": "ea65689e",
   "metadata": {},
   "outputs": [
    {
     "data": {
      "application/vnd.jupyter.widget-view+json": {
       "model_id": "f012d28a412a436ba275ce13906f30c9",
       "version_major": 2,
       "version_minor": 0
      },
      "text/plain": [
       "  0%|          | 0/16 [00:00<?, ?it/s]"
      ]
     },
     "metadata": {},
     "output_type": "display_data"
    },
    {
     "data": {
      "text/latex": [
       "Ricci Scalar $R$"
      ],
      "text/plain": [
       "<IPython.core.display.Latex object>"
      ]
     },
     "metadata": {},
     "output_type": "display_data"
    },
    {
     "data": {
      "text/latex": [
       "$\\displaystyle - \\frac{2 \\left(r^{2} \\frac{d}{d r} l{\\left(r \\right)} \\frac{d}{d r} \\nu{\\left(r \\right)} - r^{2} \\left(\\frac{d}{d r} \\nu{\\left(r \\right)}\\right)^{2} - r^{2} \\frac{d^{2}}{d r^{2}} \\nu{\\left(r \\right)} + 2 r \\frac{d}{d r} l{\\left(r \\right)} - 2 r \\frac{d}{d r} \\nu{\\left(r \\right)} + e^{2 l{\\left(r \\right)}} - 1\\right) e^{- 2 l{\\left(r \\right)}}}{r^{2}}$"
      ],
      "text/plain": [
       "<IPython.core.display.Math object>"
      ]
     },
     "metadata": {},
     "output_type": "display_data"
    }
   ],
   "source": [
    "RicS = pt.riccis()\n",
    "pt.display(RicS)"
   ]
  },
  {
   "cell_type": "code",
   "execution_count": 8,
   "id": "bd8b0b2b",
   "metadata": {},
   "outputs": [
    {
     "data": {
      "text/latex": [
       "Einstein Tensor $G_{\\alpha \\beta}$"
      ],
      "text/plain": [
       "<IPython.core.display.Latex object>"
      ]
     },
     "metadata": {},
     "output_type": "display_data"
    },
    {
     "data": {
      "application/vnd.jupyter.widget-view+json": {
       "model_id": "78b4bb1fb10a4e90ba6fda886e5fafea",
       "version_major": 2,
       "version_minor": 0
      },
      "text/plain": [
       "  0%|          | 0/16 [00:00<?, ?it/s]"
      ]
     },
     "metadata": {},
     "output_type": "display_data"
    },
    {
     "data": {
      "image/png": "[encoded data removed]",
      "text/latex": [
       "$\\displaystyle \\left[\\begin{matrix}\\frac{\\left(2 r \\frac{d}{d r} l{\\left(r \\right)} + e^{2 l{\\left(r \\right)}} - 1\\right) e^{- 2 l{\\left(r \\right)}} e^{2 \\nu{\\left(r \\right)}}}{r^{2}} & 0 & 0 & 0\\\\0 & \\frac{2 r \\frac{d}{d r} \\nu{\\left(r \\right)} - e^{2 l{\\left(r \\right)}} + 1}{r^{2}} & 0 & 0\\\\0 & 0 & - r \\left(r \\frac{d}{d r} l{\\left(r \\right)} \\frac{d}{d r} \\nu{\\left(r \\right)} - r \\left(\\frac{d}{d r} \\nu{\\left(r \\right)}\\right)^{2} - r \\frac{d^{2}}{d r^{2}} \\nu{\\left(r \\right)} + \\frac{d}{d r} l{\\left(r \\right)} - \\frac{d}{d r} \\nu{\\left(r \\right)}\\right) e^{- 2 l{\\left(r \\right)}} & 0\\\\0 & 0 & 0 & - r \\left(r \\frac{d}{d r} l{\\left(r \\right)} \\frac{d}{d r} \\nu{\\left(r \\right)} - r \\left(\\frac{d}{d r} \\nu{\\left(r \\right)}\\right)^{2} - r \\frac{d^{2}}{d r^{2}} \\nu{\\left(r \\right)} + \\frac{d}{d r} l{\\left(r \\right)} - \\frac{d}{d r} \\nu{\\left(r \\right)}\\right) e^{- 2 l{\\left(r \\right)}} \\sin^{2}{\\left(\\theta \\right)}\\end{matrix}\\right]$"
      ],
      "text/plain": [
       "⎡⎛    d           2⋅l(r)    ⎞  -2⋅l(r)  2⋅ν(r)                                \n",
       "⎢⎜2⋅r⋅──(l(r)) + ℯ       - 1⎟⋅ℯ       ⋅ℯ                                      \n",
       "⎢⎝    dr                    ⎠                                                 \n",
       "⎢─────────────────────────────────────────────              0                 \n",
       "⎢                       2                                                     \n",
       "⎢                      r                                                      \n",
       "⎢                                                                             \n",
       "⎢                                                   d           2⋅l(r)        \n",
       "⎢                                               2⋅r⋅──(ν(r)) - ℯ       + 1    \n",
       "⎢                                                   dr                        \n",
       "⎢                      0                        ──────────────────────────    \n",
       "⎢                                                            2                \n",
       "⎢                                                           r                 \n",
       "⎢                                                                             \n",
       "⎢                                                                             \n",
       "⎢                                                                             \n",
       "⎢                      0                                    0               -r\n",
       "⎢                                                                             \n",
       "⎢                                                                             \n",
       "⎢                                                                             \n",
       "⎢                                                                             \n",
       "⎢                                                                             \n",
       "⎢                      0                                    0                 \n",
       "⎢                                                                             \n",
       "⎣                                                                             \n",
       "\n",
       "                                                                              \n",
       "                                                                              \n",
       "                                                                              \n",
       "                                        0                                     \n",
       "                                                                              \n",
       "                                                                              \n",
       "                                                                              \n",
       "                                                                              \n",
       "                                                                              \n",
       "                                                                              \n",
       "                                        0                                     \n",
       "                                                                              \n",
       "                                                                              \n",
       "                                                                              \n",
       " ⎛                                  2       2                            ⎞    \n",
       " ⎜  d        d            ⎛d       ⎞       d          d          d       ⎟  -2\n",
       "⋅⎜r⋅──(l(r))⋅──(ν(r)) - r⋅⎜──(ν(r))⎟  - r⋅───(ν(r)) + ──(l(r)) - ──(ν(r))⎟⋅ℯ  \n",
       " ⎜  dr       dr           ⎝dr      ⎠        2         dr         dr      ⎟    \n",
       " ⎝                                        dr                             ⎠    \n",
       "                                                                              \n",
       "                                                                              \n",
       "                                                                              \n",
       "                                        0                                     \n",
       "                                                                              \n",
       "                                                                              \n",
       "\n",
       "                                                                              \n",
       "                                                                              \n",
       "                                                                              \n",
       "                                                     0                        \n",
       "                                                                              \n",
       "                                                                              \n",
       "                                                                              \n",
       "                                                                              \n",
       "                                                                              \n",
       "                                                                              \n",
       "                                                     0                        \n",
       "                                                                              \n",
       "                                                                              \n",
       "                                                                              \n",
       "                                                                              \n",
       "⋅l(r)                                                                         \n",
       "                                                     0                        \n",
       "                                                                              \n",
       "                                                                              \n",
       "                                                                              \n",
       "          ⎛                                  2       2                        \n",
       "          ⎜  d        d            ⎛d       ⎞       d          d          d   \n",
       "       -r⋅⎜r⋅──(l(r))⋅──(ν(r)) - r⋅⎜──(ν(r))⎟  - r⋅───(ν(r)) + ──(l(r)) - ──(ν\n",
       "          ⎜  dr       dr           ⎝dr      ⎠        2         dr         dr  \n",
       "          ⎝                                        dr                         \n",
       "\n",
       "                      ⎤\n",
       "                      ⎥\n",
       "                      ⎥\n",
       "                      ⎥\n",
       "                      ⎥\n",
       "                      ⎥\n",
       "                      ⎥\n",
       "                      ⎥\n",
       "                      ⎥\n",
       "                      ⎥\n",
       "                      ⎥\n",
       "                      ⎥\n",
       "                      ⎥\n",
       "                      ⎥\n",
       "                      ⎥\n",
       "                      ⎥\n",
       "                      ⎥\n",
       "                      ⎥\n",
       "                      ⎥\n",
       "                      ⎥\n",
       "    ⎞                 ⎥\n",
       "    ⎟  -2⋅l(r)    2   ⎥\n",
       "(r))⎟⋅ℯ       ⋅sin (θ)⎥\n",
       "    ⎟                 ⎥\n",
       "    ⎠                 ⎦"
      ]
     },
     "metadata": {},
     "output_type": "display_data"
    }
   ],
   "source": [
    "G = pt.einstein()\n",
    "G.factor()\n",
    "G.display()"
   ]
  },
  {
   "cell_type": "code",
   "execution_count": 9,
   "id": "c35d9b7d",
   "metadata": {},
   "outputs": [
    {
     "data": {
      "application/vnd.jupyter.widget-view+json": {
       "model_id": "38b1601436694c86b4428c80b7f84ce0",
       "version_major": 2,
       "version_minor": 0
      },
      "text/plain": [
       "Einstein Tensor $G{^\\alpha}{_\\beta}$:   0%|          | 0/16 [00:00<?, ?it/s]"
      ]
     },
     "metadata": {},
     "output_type": "display_data"
    },
    {
     "data": {
      "application/vnd.jupyter.widget-view+json": {
       "model_id": "591747b6d6394852a6090221ca5eb270",
       "version_major": 2,
       "version_minor": 0
      },
      "text/plain": [
       "Einstein Tensor $G{^\\alpha}{^\\beta}$:   0%|          | 0/16 [00:00<?, ?it/s]"
      ]
     },
     "metadata": {},
     "output_type": "display_data"
    },
    {
     "data": {
      "application/vnd.jupyter.widget-view+json": {
       "model_id": "f111a7ecd12d4742a1cd223362664767",
       "version_major": 2,
       "version_minor": 0
      },
      "text/plain": [
       "Einstein Tensor $G{_\\alpha}{^\\beta}$:   0%|          | 0/16 [00:00<?, ?it/s]"
      ]
     },
     "metadata": {},
     "output_type": "display_data"
    },
    {
     "data": {
      "text/latex": [
       "All other indices of Einstein Tensor $G$  already calculated."
      ],
      "text/plain": [
       "<IPython.core.display.Latex object>"
      ]
     },
     "metadata": {},
     "output_type": "display_data"
    }
   ],
   "source": [
    "G.complete('_,_')"
   ]
  },
  {
   "cell_type": "markdown",
   "id": "9b1e9732",
   "metadata": {},
   "source": [
    "## The energy momentum tensor\n",
    "$$\n",
    "{T}_{\\alpha\\beta}= (\\rho+P_\\perp) V_\\alpha V_\\beta+P g _{\\alpha \\beta} +\\Pi_{\\alpha \\beta} .\n",
    "$$"
   ]
  },
  {
   "cell_type": "code",
   "execution_count": 10,
   "id": "b7825425",
   "metadata": {},
   "outputs": [
    {
     "name": "stdout",
     "output_type": "stream",
     "text": [
      "Elements assigned correctly to the _ components\n"
     ]
    },
    {
     "data": {
      "image/png": "[encoded data removed]",
      "text/latex": [
       "$\\displaystyle \\left[\\begin{matrix}e^{\\nu{\\left(r \\right)}} & 0 & 0 & 0\\end{matrix}\\right]$"
      ],
      "text/plain": [
       "⎡ ν(r)         ⎤\n",
       "⎣ℯ      0  0  0⎦"
      ]
     },
     "metadata": {},
     "output_type": "display_data"
    },
    {
     "data": {
      "application/vnd.jupyter.widget-view+json": {
       "model_id": "66e9ff80d229419592991c3664d60449",
       "version_major": 2,
       "version_minor": 0
      },
      "text/plain": [
       "U Tensor $U{^\\alpha}$:   0%|          | 0/4 [00:00<?, ?it/s]"
      ]
     },
     "metadata": {},
     "output_type": "display_data"
    },
    {
     "data": {
      "text/latex": [
       "All other indices of U Tensor $U$  already calculated."
      ],
      "text/plain": [
       "<IPython.core.display.Latex object>"
      ]
     },
     "metadata": {},
     "output_type": "display_data"
    }
   ],
   "source": [
    "Ud = pt.ten('U',1)\n",
    "Ud.assign([sy.exp(nu),0,0,0],'_')\n",
    "Ud.display('_')\n",
    "Ud.complete('_')"
   ]
  },
  {
   "cell_type": "code",
   "execution_count": 11,
   "id": "731e50e2",
   "metadata": {},
   "outputs": [
    {
     "name": "stdout",
     "output_type": "stream",
     "text": [
      "Elements assigned correctly to the _ components\n"
     ]
    },
    {
     "data": {
      "image/png": "[encoded data removed]",
      "text/latex": [
       "$\\displaystyle \\left[\\begin{matrix}0 & - e^{l{\\left(r \\right)}} & 0 & 0\\end{matrix}\\right]$"
      ],
      "text/plain": [
       "⎡     l(r)      ⎤\n",
       "⎣0  -ℯ      0  0⎦"
      ]
     },
     "metadata": {},
     "output_type": "display_data"
    },
    {
     "data": {
      "application/vnd.jupyter.widget-view+json": {
       "model_id": "425d68be4c034f2ca739b5b570f3dfc6",
       "version_major": 2,
       "version_minor": 0
      },
      "text/plain": [
       "Vd Tensor $Vd{^\\alpha}$:   0%|          | 0/4 [00:00<?, ?it/s]"
      ]
     },
     "metadata": {},
     "output_type": "display_data"
    },
    {
     "data": {
      "text/latex": [
       "All other indices of Vd Tensor $Vd$  already calculated."
      ],
      "text/plain": [
       "<IPython.core.display.Latex object>"
      ]
     },
     "metadata": {},
     "output_type": "display_data"
    }
   ],
   "source": [
    "Vd = pt.ten('Vd',1)\n",
    "Vd.assign([0,-sy.exp(l),0,0],'_')\n",
    "Vd.display('_')\n",
    "Vd.complete('_')"
   ]
  },
  {
   "cell_type": "code",
   "execution_count": 12,
   "id": "48f2a04e",
   "metadata": {},
   "outputs": [
    {
     "name": "stdout",
     "output_type": "stream",
     "text": [
      "Elements assigned correctly to the _a,_b components\n"
     ]
    },
    {
     "data": {
      "application/vnd.jupyter.widget-view+json": {
       "model_id": "9429e419a32d4eccae18eff945687191",
       "version_major": 2,
       "version_minor": 0
      },
      "text/plain": [
       "T Tensor $T{^\\alpha}{_\\beta}$:   0%|          | 0/16 [00:00<?, ?it/s]"
      ]
     },
     "metadata": {},
     "output_type": "display_data"
    },
    {
     "data": {
      "application/vnd.jupyter.widget-view+json": {
       "model_id": "0f816d90e5b44e2bbc016575c2f64946",
       "version_major": 2,
       "version_minor": 0
      },
      "text/plain": [
       "T Tensor $T{^\\alpha}{^\\beta}$:   0%|          | 0/16 [00:00<?, ?it/s]"
      ]
     },
     "metadata": {},
     "output_type": "display_data"
    },
    {
     "data": {
      "application/vnd.jupyter.widget-view+json": {
       "model_id": "0bc0cc6eead44e5fb28ea5ab07eeb53a",
       "version_major": 2,
       "version_minor": 0
      },
      "text/plain": [
       "T Tensor $T{_\\alpha}{^\\beta}$:   0%|          | 0/16 [00:00<?, ?it/s]"
      ]
     },
     "metadata": {},
     "output_type": "display_data"
    },
    {
     "data": {
      "text/latex": [
       "All other indices of T Tensor $T$  already calculated."
      ],
      "text/plain": [
       "<IPython.core.display.Latex object>"
      ]
     },
     "metadata": {},
     "output_type": "display_data"
    },
    {
     "data": {
      "image/png": "[encoded data removed]",
      "text/latex": [
       "$\\displaystyle \\left[\\begin{matrix}\\rho{\\left(r \\right)} & 0 & 0 & 0\\\\0 & - P{\\left(r \\right)} & 0 & 0\\\\0 & 0 & - \\operatorname{Pt}{\\left(r \\right)} & 0\\\\0 & 0 & 0 & - \\operatorname{Pt}{\\left(r \\right)}\\end{matrix}\\right]$"
      ],
      "text/plain": [
       "⎡ρ(r)    0      0       0   ⎤\n",
       "⎢                           ⎥\n",
       "⎢ 0    -P(r)    0       0   ⎥\n",
       "⎢                           ⎥\n",
       "⎢ 0      0    -Pt(r)    0   ⎥\n",
       "⎢                           ⎥\n",
       "⎣ 0      0      0     -Pt(r)⎦"
      ]
     },
     "metadata": {},
     "output_type": "display_data"
    }
   ],
   "source": [
    "T = pt.ten('T',2)\n",
    "T.assign((rho+Pt)*Ud(\"_a\")*Ud(\"_b\")- Pt*g(\"_a,_b\") + (P-Pt)*Vd(\"_a\")*Vd(\"_b\"),\"_a,_b\")\n",
    "T.simplify()\n",
    "T.complete('_,_')\n",
    "T.display('^,_')"
   ]
  },
  {
   "cell_type": "code",
   "execution_count": 13,
   "id": "f57e592e",
   "metadata": {},
   "outputs": [
    {
     "data": {
      "image/png": "[encoded data removed]",
      "text/latex": [
       "$\\displaystyle \\rho{\\left(r \\right)}$"
      ],
      "text/plain": [
       "ρ(r)"
      ]
     },
     "execution_count": 13,
     "metadata": {},
     "output_type": "execute_result"
    }
   ],
   "source": [
    "T(\"_a,^b\")*Ud('^a')*Ud('_b')"
   ]
  },
  {
   "cell_type": "code",
   "execution_count": 23,
   "id": "9406d6bf",
   "metadata": {},
   "outputs": [
    {
     "name": "stdout",
     "output_type": "stream",
     "text": [
      "Elements assigned correctly to the ^a components\n"
     ]
    },
    {
     "data": {
      "application/vnd.jupyter.widget-view+json": {
       "model_id": "2ccce836711d41f79df49701fef98770",
       "version_major": 2,
       "version_minor": 0
      },
      "text/plain": [
       "TOV Tensor $TOV{_\\alpha}$:   0%|          | 0/4 [00:00<?, ?it/s]"
      ]
     },
     "metadata": {},
     "output_type": "display_data"
    },
    {
     "data": {
      "text/latex": [
       "All other indices of TOV Tensor $TOV$  already calculated."
      ],
      "text/plain": [
       "<IPython.core.display.Latex object>"
      ]
     },
     "metadata": {},
     "output_type": "display_data"
    },
    {
     "data": {
      "text/latex": [
       "$\\displaystyle {TOV}{}_{1}\\, = - \\frac{r P{\\left(r \\right)} \\frac{d}{d r} \\nu{\\left(r \\right)} + r \\rho{\\left(r \\right)} \\frac{d}{d r} \\nu{\\left(r \\right)} + r \\frac{d}{d r} P{\\left(r \\right)} + 2 P{\\left(r \\right)} - 2 \\operatorname{Pt}{\\left(r \\right)}}{r}$"
      ],
      "text/plain": [
       "<IPython.core.display.Math object>"
      ]
     },
     "metadata": {},
     "output_type": "display_data"
    }
   ],
   "source": [
    "TOV = pt.ten('TOV',1)\n",
    "val = pt.C(T(\"^a,^b\"),\"_b\")\n",
    "TOV.assign(val,\"^a\")\n",
    "TOV.factor()\n",
    "TOV.complete('^')\n",
    "TOV.display(aslist=True)"
   ]
  },
  {
   "cell_type": "code",
   "execution_count": 24,
   "id": "4ea75eca",
   "metadata": {},
   "outputs": [
    {
     "data": {
      "image/png": "[encoded data removed]",
      "text/latex": [
       "$\\displaystyle - \\frac{r P{\\left(r \\right)} \\frac{d}{d r} \\nu{\\left(r \\right)} + r \\rho{\\left(r \\right)} \\frac{d}{d r} \\nu{\\left(r \\right)} + r \\frac{d}{d r} P{\\left(r \\right)} + 2 P{\\left(r \\right)} - 2 \\operatorname{Pt}{\\left(r \\right)}}{r}$"
      ],
      "text/plain": [
       " ⎛       d                 d            d                          ⎞ \n",
       "-⎜r⋅P(r)⋅──(ν(r)) + r⋅ρ(r)⋅──(ν(r)) + r⋅──(P(r)) + 2⋅P(r) - 2⋅Pt(r)⎟ \n",
       " ⎝       dr                dr           dr                         ⎠ \n",
       "─────────────────────────────────────────────────────────────────────\n",
       "                                  r                                  "
      ]
     },
     "execution_count": 24,
     "metadata": {},
     "output_type": "execute_result"
    }
   ],
   "source": [
    "TOV=cons(\"_1\")\n",
    "TOV.factor()"
   ]
  }
 ],
 "metadata": {
  "kernelspec": {
   "display_name": "Python 3.9.12 ('base')",
   "language": "python",
   "name": "python3"
  },
  "language_info": {
   "codemirror_mode": {
    "name": "ipython",
    "version": 3
   },
   "file_extension": ".py",
   "mimetype": "text/x-python",
   "name": "python",
   "nbconvert_exporter": "python",
   "pygments_lexer": "ipython3",
   "version": "3.8.13"
  },
  "vscode": {
   "interpreter": {
    "hash": "8d1181128e1f0e3c7e069abdee9a2274e13259c88bd323b8ad99884c634d782b"
   }
  }
 },
 "nbformat": 4,
 "nbformat_minor": 5
}
