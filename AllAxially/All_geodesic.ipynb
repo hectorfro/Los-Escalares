{
 "cells": [
  {
   "cell_type": "code",
   "execution_count": null,
   "id": "055aea90",
   "metadata": {},
   "outputs": [],
   "source": [
    "import pytearcat as pt\n",
    "import sympy as sy\n",
    "from sympy import * "
   ]
  },
  {
   "cell_type": "markdown",
   "id": "79285a3a",
   "metadata": {},
   "source": [
    "# All geodesic motion\n",
    "<hr>\n"
   ]
  },
  {
   "cell_type": "code",
   "execution_count": null,
   "id": "4bf547c2",
   "metadata": {
    "scrolled": true
   },
   "outputs": [],
   "source": [
    "t,r,theta,phi = pt.coords('t,r,theta,phi')\n",
    "\n",
    "A = pt.fun('A','r,theta')\n",
    "B = pt.fun('B','r,theta')\n",
    "C = pt.fun('C','r,theta')\n",
    "D = pt.fun('D','r,theta')\n",
    "F = pt.fun('F','r,theta')\n",
    "E = pt.fun('E','r,theta')\n",
    "omega = pt.fun('omega','r,theta')"
   ]
  },
  {
   "cell_type": "code",
   "execution_count": null,
   "id": "45b20ced",
   "metadata": {},
   "outputs": [],
   "source": [
    "ds = 'ds2 = -A**2*dt**2 + B**2*dr**2 + C**2*dtheta**2 + D**2*dphi**2 + 2*omega*dt*dphi'\n",
    "\n",
    "g = pt.metric(ds)"
   ]
  },
  {
   "cell_type": "markdown",
   "id": "a1deed06",
   "metadata": {},
   "source": [
    "## A. The tetrad, the source and the kinematical variables\n",
    "\n",
    "Let us choose an orthogonal unitary tetrad:\n",
    "$$\n",
    "e^{(0)}_\\alpha~=V_\\alpha, \\quad \n",
    "e^{(1)}_\\alpha~=K_\\alpha, \\quad \n",
    "e^{(2)}_\\alpha~=L_\\alpha \\quad \\mathrm{and}  \\quad e^{(3)}_\\alpha~=~S_\\alpha.\n",
    "$$\n",
    "\n",
    "As usual, $\\eta_{(a)(b)}= g_{\\alpha\\beta} e_{(a)}^\\alpha e_{(b)}^\\beta$, with $a=0,\\,1,\\,2,\\,3$, i.e. latin indices label different vectors of the tetrad. "
   ]
  },
  {
   "cell_type": "code",
   "execution_count": null,
   "id": "04b04d61",
   "metadata": {
    "scrolled": true
   },
   "outputs": [],
   "source": [
    "Vu = pt.ten('Vu',1)\n",
    "Vu.assign([1/A,0,0,0],'^')\n",
    "#Vu.display('^')\n",
    "Ku = pt.ten('Ku',1)\n",
    "Ku.assign([0,1/B,0,0],'^')\n",
    "#Ku.display('^')\n",
    "Lu = pt.ten('Lu',1)\n",
    "Lu.assign([0,0,1/C,0],'^')\n",
    "#Lu.display('^')\n",
    "Su = pt.ten('Su',1)\n",
    "Su.assign([omega/(A*sqrt(A**2*D**2 + omega**2)),0,0,A/sqrt(A**2*D**2 + omega**2)],'^')\n",
    "#Su.display('^')"
   ]
  },
  {
   "cell_type": "code",
   "execution_count": null,
   "id": "1aff4eac",
   "metadata": {
    "scrolled": true
   },
   "outputs": [],
   "source": [
    "Vd = pt.ten('Vd',1)\n",
    "Vd.assign(Vu(\"^a\")*g(\"_a,_b\"),\"_b\")\n",
    "Vd.display('_')\n",
    "\n",
    "Kd = pt.ten('Kd',1)\n",
    "Kd.assign(Ku(\"^a\")*g(\"_a,_b\"),\"_b\")\n",
    "Kd.simplify()\n",
    "Kd.display('_')\n",
    "\n",
    "Ld = pt.ten('Ld',1)\n",
    "Ld.assign(Lu(\"^a\")*g(\"_a,_b\"),\"_b\")\n",
    "Ld.simplify()\n",
    "Ld.display('_')\n",
    "\n",
    "Sd = pt.ten('Sd',1)\n",
    "Sd.assign(Su(\"^a\")*g(\"_a,_b\"),\"_b\")\n",
    "Sd.simplify()\n",
    "Sd.display('_')"
   ]
  },
  {
   "cell_type": "markdown",
   "id": "70901474",
   "metadata": {},
   "source": [
    "The tetrad satisfies the standard relations:\n",
    "$$\n",
    "V_{\\alpha}V^{\\alpha} = -K_{\\alpha}K^{\\alpha} = -L_{\\alpha}L^{\\alpha} = -S_{\\alpha}S^{\\alpha} = -1\\,,  \\\\\n",
    "V_{\\alpha}K^{\\alpha} = V_{\\alpha}L^{\\alpha} = V_{\\alpha}S^{\\alpha} = K_{\\alpha}L^{\\alpha} = K_{\\alpha}S^{\\alpha} = S_{\\alpha}L^{\\alpha} = 0\\,. \n",
    "$$"
   ]
  },
  {
   "cell_type": "code",
   "execution_count": null,
   "id": "5f7ea667",
   "metadata": {},
   "outputs": [],
   "source": [
    "unoV = pt.simplify((Vu('^l')*Vd('_l')))\n",
    "unoK = pt.simplify(-1*Ku('^l')*Kd('_l'))\n",
    "unoL = pt.simplify(-1*Lu('^l')*Ld('_l'))\n",
    "unoS = pt.simplify(-1*Su('^l')*Sd('_l'))\n",
    "[unoV,unoK,unoL,unoS]"
   ]
  },
  {
   "cell_type": "code",
   "execution_count": null,
   "id": "b866ac81",
   "metadata": {},
   "outputs": [],
   "source": [
    "cero1 = pt.simplify(-1*Vu('^l')*Kd('_l'))\n",
    "cero2 = pt.simplify(-1*Vu('^l')*Ld('_l'))\n",
    "cero3 = pt.simplify(-1*Vu('^l')*Sd('_l'))\n",
    "cero4 = pt.simplify(-1*Ku('^l')*Sd('_l'))\n",
    "cero5 = pt.simplify(-1*Ku('^l')*Ld('_l'))\n",
    "cero6 = pt.simplify(-1*Lu('^l')*Sd('_l'))\n",
    "[cero1,cero2,cero3,cero4,cero5,cero6]"
   ]
  },
  {
   "cell_type": "markdown",
   "id": "741633d8",
   "metadata": {},
   "source": [
    "## Christoffel"
   ]
  },
  {
   "cell_type": "code",
   "execution_count": null,
   "id": "ffd49e0a",
   "metadata": {},
   "outputs": [],
   "source": [
    "Chr= pt.christoffel()"
   ]
  },
  {
   "cell_type": "markdown",
   "id": "c7d524b1",
   "metadata": {},
   "source": [
    "## COVARIANT DERIVATIVE OF $V_{\\alpha}$\n",
    "\n",
    "$$\n",
    "V_{\\alpha ; \\beta}\n",
    "$$\n"
   ]
  },
  {
   "cell_type": "code",
   "execution_count": null,
   "id": "8be7cbc6",
   "metadata": {},
   "outputs": [],
   "source": [
    "DcVd = pt.ten(\"DcVd\",2)\n",
    "DcVd_dat = pt.C(Vd(\"_a\"),\"_b\") \n",
    "DcVd.assign(DcVd_dat,\"_a,_b\")\n",
    "DcVd.factor()\n",
    "#DcVd.display()\n",
    "DcVd.complete('_,_')"
   ]
  },
  {
   "cell_type": "code",
   "execution_count": null,
   "id": "9b71217e",
   "metadata": {},
   "outputs": [],
   "source": [
    "# Aceleracion y su derivada covariante\n",
    "ad= pt.ten(\"ad\",1)\n",
    "ad.assign( DcVd(\"_a,_b\")*Vu(\"^b\") ,\"_a\")\n",
    "ad.simplify()\n",
    "ad.display('_')\n",
    "\n",
    "Dcad = pt.ten(\"Dcad\",2)\n",
    "Dcad_dat = pt.C(ad(\"_a\"),\"_b\") \n",
    "Dcad.assign(Dcad_dat,\"_a,_b\")\n",
    "Dcad.simplify()\n",
    "#Dcad.display()"
   ]
  },
  {
   "cell_type": "markdown",
   "id": "01a1c946",
   "metadata": {},
   "source": [
    "$$\n",
    "K_{\\alpha ; \\beta}\\,, \\quad L_{\\alpha ; \\beta} \\,, \\quad S{\\alpha ; \\beta}\n",
    "$$"
   ]
  },
  {
   "cell_type": "code",
   "execution_count": null,
   "id": "d2e34806",
   "metadata": {},
   "outputs": [],
   "source": [
    "DcKd = pt.ten(\"DcKd\",2)\n",
    "DcKd_dat = pt.C(Kd(\"_a\"),\"_b\") \n",
    "DcKd.assign(DcKd_dat,\"_a,_b\")\n",
    "DcKd.simplify()\n",
    "#DcKd.display()\n",
    "#DcKd.complete('_,_')\n",
    "\n",
    "DcLd = pt.ten(\"DcLd\",2)\n",
    "DcLd_dat = pt.C(Ld(\"_a\"),\"_b\") \n",
    "DcLd.assign(DcLd_dat,\"_a,_b\")\n",
    "DcLd.simplify()\n",
    "#DcLd.display()\n",
    "#DcLd.complete('_,_')\n",
    "\n",
    "DcSd = pt.ten(\"DcSd\",2)\n",
    "DcSd_dat = pt.C(Sd(\"_a\"),\"_b\") \n",
    "DcSd.assign(DcSd_dat,\"_a,_b\")\n",
    "DcSd.factor()\n",
    "#DcSd.display()\n",
    "#DcSd.complete('_,_')"
   ]
  },
  {
   "cell_type": "markdown",
   "id": "2941dbfc",
   "metadata": {},
   "source": [
    "## Escalares Cinemáticos\n"
   ]
  },
  {
   "cell_type": "markdown",
   "id": "22efd71e",
   "metadata": {},
   "source": [
    "$$\n",
    "a_1= a_\\mu K^\\mu \\,,\\quad  a_2= a_\\mu L^\\mu \\,, \\quad  a_3= a_\\mu S^\\mu \n",
    "$$"
   ]
  },
  {
   "cell_type": "code",
   "execution_count": null,
   "id": "524466e0",
   "metadata": {},
   "outputs": [],
   "source": [
    "a1=pt.simplify(ad(\"_c\")*Ku(\"^c\"))\n",
    "a2=pt.simplify(ad(\"_c\")*Lu(\"^c\"))\n",
    "a3=pt.simplify(ad(\"_c\")*Su(\"^c\"))\n",
    "\n",
    "# Derivadas \n",
    "Dca1 = pt.ten(\"Dca1\",1)\n",
    "Dca1_dat = pt.C(a1,\"_a\") \n",
    "Dca1.assign(Dca1_dat,\"_a\")\n",
    "Dca1.factor()\n",
    "Dca1.complete('_,_')\n",
    "\n",
    "Dca2 = pt.ten(\"Dca2\",1)\n",
    "Dca2_dat = pt.C(a2,\"_a\") \n",
    "Dca2.assign(Dca2_dat,\"_a\")\n",
    "Dca2.factor()\n",
    "Dca2.complete('_,_')\n",
    "[a1,a2,a3]"
   ]
  },
  {
   "cell_type": "markdown",
   "id": "3fea5137",
   "metadata": {},
   "source": [
    "With the above tetrad we shall also define the corresponding directional derivatives operators\n",
    "$$\n",
    "f^{\\bullet}=V^{\\alpha} \\partial_{\\alpha} f ; \\quad f^{\\dagger}=K^{\\alpha} \\partial_{\\alpha} f \\quad \\text { and } \\quad f^{*}=L^{\\alpha} \\partial_{\\alpha} f\n",
    "$$"
   ]
  },
  {
   "cell_type": "code",
   "execution_count": null,
   "id": "edd5fedd",
   "metadata": {},
   "outputs": [],
   "source": [
    "# Derivadas de los escalares \n",
    "Da1= pt.ten('Da1',1)\n",
    "Da1.assign(pt.D(a1,\"_a\"), \"_a\")\n",
    "Da1.simplify()\n",
    "Da1dag= Ku('^a')*Da1('_a') \n",
    "\n",
    "Da2= pt.ten('Da2',1)\n",
    "Da2.assign(pt.D(a2,\"_a\"), \"_a\")\n",
    "Da2.simplify()\n",
    "Da2dag= Ku('^a')*Da2('_a') \n",
    "\n",
    "Da1th= pt.ten('Da1th',1)\n",
    "Da1th.assign(pt.D(a1,\"_a\"), \"_a\")\n",
    "Da1th.simplify()\n",
    "Da1theta= Lu('^a')*Da1th('_a') \n",
    "\n",
    "Da2th= pt.ten('Da2th',1)\n",
    "Da2th.assign(pt.D(a2,\"_a\"), \"_a\")\n",
    "Da2th.simplify()\n",
    "Da2theta= Lu('^a')*Da2th('_a') \n",
    "\n",
    "#Da1theta= pt.factor(a1.diff(theta)/C)\n",
    "#Da2theta= pt.factor(a2.diff(theta)/C)\n",
    "[Da1theta,Da2theta ]"
   ]
  },
  {
   "cell_type": "markdown",
   "id": "c4f15e66",
   "metadata": {},
   "source": [
    "$$ \n",
    "j_1= L^\\mu K_{\\mu;\\nu}  K^\\nu \\,, \\quad j_2= L^\\mu K_{\\mu;\\nu}  L^\\nu \\,,\\quad j_3 = L^\\mu K_{\\mu;\\nu}  S^\\nu \\,,\\quad  j_4=S^\\mu K_{\\mu;\\nu}  K^\\nu \\,, \\quad j_5= S^\\mu K_{\\mu;\\nu}  L^\\nu \\,,\\quad j_6 = S^\\mu K_{\\mu;\\nu}  S^\\nu \\,,\\quad j_7= S^\\mu L_{\\mu;\\nu}  K^\\nu \\,,\\quad  j_8= S^\\mu L_{\\mu;\\nu}  L^\\nu \\,, \\quad  j_9 = S^\\mu S_{\\mu;\\nu}  S^\\nu \n",
    "$$"
   ]
  },
  {
   "cell_type": "code",
   "execution_count": null,
   "id": "a0f64cba",
   "metadata": {
    "scrolled": true
   },
   "outputs": [],
   "source": [
    "j1= pt.simplify(Lu(\"^c\")*DcKd(\"_c,_d\")*Ku(\"^d\"))\n",
    "j2= pt.simplify(Lu(\"^c\")*DcKd(\"_c,_d\")*Lu(\"^d\"))\n",
    "j3= pt.simplify(Lu(\"^c\")*DcKd(\"_c,_d\")*Su(\"^d\"))\n",
    "j4= pt.simplify(Su(\"^c\")*DcKd(\"_c,_d\")*Ku(\"^d\"))\n",
    "j5= pt.simplify(Su(\"^c\")*DcKd(\"_c,_d\")*Lu(\"^d\"))\n",
    "j6= pt.simplify(Su(\"^c\")*DcKd(\"_c,_d\")*Su(\"^d\"))\n",
    "\n",
    "j7= pt.simplify(Su(\"^c\")*DcLd(\"_c,_d\")*Ku(\"^d\"))\n",
    "j8= pt.simplify(Su(\"^c\")*DcLd(\"_c,_d\")*Lu(\"^d\"))\n",
    "j9= pt.simplify(Su(\"^c\")*DcLd(\"_c,_d\")*Su(\"^d\"))\n",
    "\n",
    "([j1,j2,j3,j4,j5,j6])"
   ]
  },
  {
   "cell_type": "code",
   "execution_count": null,
   "id": "9ee9c3aa",
   "metadata": {},
   "outputs": [],
   "source": [
    "[j7,j8,j9]"
   ]
  },
  {
   "cell_type": "code",
   "execution_count": null,
   "id": "6d515c0b",
   "metadata": {},
   "outputs": [],
   "source": [
    "j99= (ln(D**2 + omega**2/A**2)).diff(theta)/(2*C)\n",
    "pt.factor(j99-j9)"
   ]
  },
  {
   "cell_type": "code",
   "execution_count": null,
   "id": "ac24b62e",
   "metadata": {},
   "outputs": [],
   "source": [
    "# Derivas de los jotas\n",
    "Dj1= pt.ten('Dj1',1)\n",
    "Dj1.assign(pt.D(j1,\"_a\"), \"_a\")\n",
    "Dj1.simplify()\n",
    "Dj1dag= Ku('^a')*Dj1('_a') \n",
    "\n",
    "Dj2= pt.ten('Dj2',1)\n",
    "Dj2.assign(pt.D(j2,\"_a\"), \"_a\")\n",
    "Dj2.simplify()\n",
    "Dj2dag= Ku('^a')*Dj2('_a') \n",
    "\n",
    "Dj6= pt.ten('Dj6',1)\n",
    "Dj6.assign(pt.D(j6,\"_a\"), \"_a\")\n",
    "Dj6.simplify()\n",
    "Dj6dag= Ku('^a')*Dj6('_a') \n",
    "\n",
    "Dj9= pt.ten('Dj9',1)\n",
    "Dj9.assign(pt.D(j9,\"_a\"), \"_a\")\n",
    "Dj9.simplify()\n",
    "Dj9dag= Ku('^a')*Dj9('_a')\n",
    "\n",
    "Dj1th= pt.ten('Dj1th',1)\n",
    "Dj1th.assign(pt.D(j1,\"_a\"), \"_a\")\n",
    "Dj1th.simplify()\n",
    "Dj1theta= Lu('^a')*Dj1th('_a') \n",
    "\n",
    "Dj2th= pt.ten('Dj2th',1)\n",
    "Dj2th.assign(pt.D(j2,\"_a\"), \"_a\")\n",
    "Dj2th.simplify()\n",
    "Dj2theta= Lu('^a')*Dj2th('_a') \n",
    "\n",
    "Dj6th= pt.ten('Dj6th',1)\n",
    "Dj6th.assign(pt.D(j6,\"_a\"), \"_a\")\n",
    "Dj6th.simplify()\n",
    "Dj6theta= Lu('^a')*Dj6th('_a')\n",
    "\n",
    "Dj9th= pt.ten('Dj9th',1)\n",
    "Dj9th.assign(pt.D(j9,\"_a\"), \"_a\")\n",
    "Dj9th.simplify()\n",
    "Dj9theta= Lu('^a')*Dj9th('_a')\n",
    "\n",
    "#Dj1theta= pt.simplify(j1.diff(theta)/C)\n",
    "#Dj2theta= pt.simplify(j2.diff(theta)/C)\n",
    "#Dj6theta= pt.simplify(j6.diff(theta)/C)\n",
    "#Dj9theta= pt.simplify(j9.diff(theta)/C)\n",
    "\n",
    "#[Dj1theta,Dj2theta]"
   ]
  },
  {
   "cell_type": "markdown",
   "id": "3a000b90",
   "metadata": {},
   "source": [
    "$$\n",
    "\\begin{aligned}\n",
    "j_{1}^{\\dagger}+j_{2}^{\\theta} &=0 \\\\\n",
    "a_{1}^{\\theta}-a_{2}^{\\dagger} &=a_{1} j_{1}+a_{2} j_{2} \\\\\n",
    "j_{6}^{\\theta}-j_{9}^{\\dagger} &=j_{6} j_{1}+j_{9} j_{2}\n",
    "\\end{aligned}\n",
    "$$"
   ]
  },
  {
   "cell_type": "code",
   "execution_count": null,
   "id": "fd69a8de",
   "metadata": {},
   "outputs": [],
   "source": [
    "ec73= pt.simplify(Dj1dag + Dj2theta)\n",
    "ec74= pt.simplify(Da1theta - Da2dag - a1*j1 - a2*j2)\n",
    "ec75= pt.simplify(Dj6theta - Dj9dag - j6*j1 - j9*j2)\n",
    "[ec73,ec74,ec75]"
   ]
  },
  {
   "cell_type": "code",
   "execution_count": null,
   "id": "bcfa3793",
   "metadata": {},
   "outputs": [],
   "source": [
    "Omed = pt.ten(\"Omed\",2)\n",
    "Omed.assign((DcVd(\"_c,_d\")-DcVd(\"_d,_c\")+ad(\"_c\")*Vd(\"_d\")-ad(\"_d\")*Vd(\"_c\"))/2,\"_c,_d\")\n",
    "#Omed.assign((DcVd(\"_c,_d\")-DcVd(\"_d,_c\"))/2,\"_c,_d\")\n",
    "Omed.factor()\n",
    "#Omed.display(aslist=True)\n",
    "#Omed.display()"
   ]
  },
  {
   "cell_type": "code",
   "execution_count": null,
   "id": "171b37bb",
   "metadata": {},
   "outputs": [],
   "source": [
    "Omega1= pt.factor(Ku(\"^c\")*Omed(\"_c,_d\")*Lu(\"^d\"))\n",
    "Omega2= pt.factor(Su(\"^c\")*Omed(\"_c,_d\")*Ku(\"^d\"))\n",
    "Omega3= pt.factor(Su(\"^c\")*Omed(\"_c,_d\")*Lu(\"^d\"))\n",
    "Omega = pt.simplify(Omega2/Omega3)\n",
    "[Omega1,Omega2,Omega3,Omega]"
   ]
  },
  {
   "cell_type": "code",
   "execution_count": null,
   "id": "242f5e0a",
   "metadata": {},
   "outputs": [],
   "source": [
    "DOme2= pt.ten('DOme2',1)\n",
    "DOme2.assign(pt.D(Omega2,\"_a\"), \"_a\")\n",
    "DOme2.simplify()\n",
    "DOme2dag= Ku('^a')*DOme2('_a') \n",
    "\n",
    "DOme3= pt.ten('DOme3',1)\n",
    "DOme3.assign(pt.D(Omega3,\"_a\"), \"_a\")\n",
    "DOme3.simplify()\n",
    "DOme3dag= Ku('^a')*DOme3('_a') \n",
    "\n",
    "DOme2th= pt.ten('DOme2th',1)\n",
    "DOme2th.assign(pt.D(Omega2,\"_a\"), \"_a\")\n",
    "DOme2th.simplify()\n",
    "DOme2theta= Lu('^a')*DOme2th('_a')\n",
    "\n",
    "DOme3th= pt.ten('DOme3th',1)\n",
    "DOme3th.assign(pt.D(Omega3,\"_a\"), \"_a\")\n",
    "DOme3th.simplify()\n",
    "DOme3theta= Lu('^a')*DOme3th('_a')\n",
    "\n",
    "#DOme2theta= pt.simplify(Omega2.diff(theta)/C)\n",
    "#DOme3theta= pt.simplify(Omega3.diff(theta)/C)"
   ]
  },
  {
   "cell_type": "markdown",
   "id": "e56f0ff3",
   "metadata": {},
   "source": [
    "$$\n",
    "\\Omega_{2}^{\\theta}-\\Omega_{3}^{\\dagger}=\\left(a_{2}+j_{1}-j_{9}\\right) \\Omega_{2}+\\left(j_{6}+j_{2}-a_{1}\\right) \\Omega_{3}\n",
    "$$"
   ]
  },
  {
   "cell_type": "code",
   "execution_count": null,
   "id": "eb0483cf",
   "metadata": {},
   "outputs": [],
   "source": [
    "ec76= pt.simplify(DOme2theta - DOme3dag - (a2+j1-j9)*Omega2 - (j6+j2-a1)*Omega3  )\n",
    "ec76"
   ]
  },
  {
   "cell_type": "markdown",
   "id": "9a2f8881",
   "metadata": {},
   "source": [
    "$$\n",
    "\\begin{aligned}\n",
    "&a_{1}^{\\dagger}+a_{2}^{\\theta}+a_{1}\\left(a_{1}+j_{2}+j_{6}\\right)+a_{2}\\left(a_{2}+j_{9}-j_{1}\\right)+2\\left(\\Omega_{2}^{2}+\\Omega_{3}^{2}\\right)=0 \\qquad (19) \\\\\n",
    "&\\Omega_{2}^{\\dagger}+\\Omega_{2}\\left(2 a_{1}+j_{2}\\right)+\\Omega_{3}^{\\theta}+\\Omega_{3}\\left(2 a_{2}-j_{1}\\right)=0\\\\\n",
    "&j_{1}^{\\theta}-\\left(a_{1}+j_{2}+j_{6}\\right)^{\\dagger}+j_{1}\\left(a_{2}+j_{9}-j_{1}\\right)-a_{1}^{2}-j_{2}^{2}-j_{6}^{2}+2 \\Omega_{2}^{2}=0\\\\\n",
    "&\\left(a_{1}+j_{6}\\right)^{\\theta}+a_{2}\\left(a_{1}-j_{2}\\right)+j_{9}\\left(j_{6}-j_{2}\\right)-2 \\Omega_{2} \\Omega_{3}=0\\\\\n",
    "&\\left(a_{2}+j_{9}\\right)^{\\dagger}+a_{1}\\left(a_{2}+j_{1}\\right)+j_{1} j_{6}+j_{6} j_{9}-2 \\Omega_{2} \\Omega_{3}=0\\\\\n",
    "&j_{2}^{\\dagger}+\\left(a_{2}-j_{1}+j_{9}\\right)^{\\theta}+a_{1} j_{2}+j_{2} j_{6}+a_{2}^{2}+j_{1}^{2}+j_{2}^{2}+j_{9}^{2}-2 \\Omega_{3}^{2}=0\\\\\n",
    "&j_{6}^{\\dagger}+j_{9}^{\\theta}+j_{6}\\left(a_{1}+j_{2}+j_{6}\\right)+j_{9}\\left(a_{2}-j_{1}+j_{9}\\right)-2\\left(\\Omega_{2}^{2}+\\Omega_{3}^{2}\\right)=0\n",
    "\\end{aligned}\n",
    "$$"
   ]
  },
  {
   "cell_type": "code",
   "execution_count": null,
   "id": "b36de888",
   "metadata": {},
   "outputs": [],
   "source": [
    "ec19 = pt.factor( Da1dag + Da2theta + a1*(a1+j2+j6) + a2*(a2+j9-j1) + 2*(Omega2**2 + Omega3**2) )\n",
    "ec19"
   ]
  },
  {
   "cell_type": "code",
   "execution_count": null,
   "id": "f48acba7",
   "metadata": {},
   "outputs": [],
   "source": [
    "ec20 = pt.simplify(DOme2dag + Omega2*(2*a1+j2) + DOme3theta + Omega3*(2*a2-j1))\n",
    "ec20"
   ]
  },
  {
   "cell_type": "code",
   "execution_count": null,
   "id": "2fb4096d",
   "metadata": {},
   "outputs": [],
   "source": [
    "ec21 = pt.factor(Dj1theta - Da1dag - Dj2dag - Dj6dag + j1*(a2+j9-j1) - a1**2 - j2**2 -  j6**2 +2*Omega2**2) \n",
    "ec21"
   ]
  },
  {
   "cell_type": "code",
   "execution_count": null,
   "id": "cf4f6a74",
   "metadata": {},
   "outputs": [],
   "source": [
    "ec22 = pt.simplify(Da1theta + Dj6theta + a2*(a1-j2) + j9*(j6-j2) - 2*Omega2*Omega3)\n",
    "ec22"
   ]
  },
  {
   "cell_type": "code",
   "execution_count": null,
   "id": "84c25907",
   "metadata": {},
   "outputs": [],
   "source": [
    "ec23 = pt.simplify(Da2dag + Dj9dag + a1*(a2+j1) +  j1*j6 +j6*j9 -2*Omega2*Omega3)\n",
    "ec23 "
   ]
  },
  {
   "cell_type": "code",
   "execution_count": null,
   "id": "1c278405",
   "metadata": {},
   "outputs": [],
   "source": [
    "ec24 = pt.simplify(Dj2dag + Da2theta - Dj1theta + Dj9theta + a1*j2 + j2*j6 + a2**2 + j1**2 + j2**2 + j9**2 - 2*Omega3**2)\n",
    "ec24"
   ]
  },
  {
   "cell_type": "code",
   "execution_count": null,
   "id": "317d54c7",
   "metadata": {},
   "outputs": [],
   "source": [
    "ec25 = pt.simplify(Dj6dag + Dj9theta + j6*(a1+j2+j6) + j9*(a2-j1+j9)  -2*(Omega2**+Omega3**2) )\n",
    "ec25"
   ]
  },
  {
   "cell_type": "code",
   "execution_count": null,
   "id": "1a2c2116",
   "metadata": {},
   "outputs": [],
   "source": []
  },
  {
   "cell_type": "code",
   "execution_count": null,
   "id": "32daec40",
   "metadata": {},
   "outputs": [],
   "source": []
  },
  {
   "cell_type": "code",
   "execution_count": null,
   "id": "ed79932c",
   "metadata": {},
   "outputs": [],
   "source": []
  },
  {
   "cell_type": "code",
   "execution_count": null,
   "id": "1e598f65",
   "metadata": {},
   "outputs": [],
   "source": [
    "sigma1=0\n",
    "sigma2=0\n",
    "sigma3=0\n",
    "sh = pt.ten(\"sh\",2) \n",
    "sh.assign(sigma1*Kd(\"_a\")*Kd(\"_b\") + sigma2*Ld(\"_a\")*Ld(\"_b\")- \\\n",
    "          (sigma1-sigma2)*Sd(\"_a\")*Sd(\"_b\") ,\"_a,_b\")\n",
    "sh.simplify()\n",
    "#sh.display()"
   ]
  },
  {
   "cell_type": "code",
   "execution_count": null,
   "id": "370d8e1d",
   "metadata": {},
   "outputs": [],
   "source": [
    "Theta=DcVd(\"^a,_a\")\n",
    "#display(Theta)"
   ]
  },
  {
   "cell_type": "code",
   "execution_count": null,
   "id": "6c95e4b2",
   "metadata": {
    "scrolled": false
   },
   "outputs": [],
   "source": [
    "hdd=pt.ten(\"hdd\",2)\n",
    "hdd.assign(g(\"_c,_d\")+Vd('_c')*Vd('_d') ,\"_c,_d\")\n",
    "hdd.simplify()\n",
    "hdd.display('_,_')\n",
    "hdd.complete('_,_')"
   ]
  },
  {
   "cell_type": "markdown",
   "id": "6bf768c8",
   "metadata": {},
   "source": [
    "$$\n",
    "\\begin{aligned}\n",
    "\\Omega_{\\alpha \\beta} &=\n",
    "\\Omega_{1}\\left(K_{\\alpha} L_{\\beta} - K_{\\beta} L_{\\alpha}\\right)+\n",
    "\\Omega_{2}\\left(S_{\\alpha} K_{\\beta} - S_{\\beta} K_{\\alpha} \\right) +\n",
    "\\Omega_{3}\\left(S_{\\alpha} L_{\\beta} - S_{\\beta} L_{\\alpha}\\right)\n",
    "\\end{aligned}\n",
    "$$"
   ]
  },
  {
   "cell_type": "code",
   "execution_count": null,
   "id": "ed0c5654",
   "metadata": {
    "scrolled": true
   },
   "outputs": [],
   "source": [
    "OmedS = pt.ten(\"OmedS\",2)\n",
    "OmedS.assign(Omega1*(Kd(\"_c\")*Ld(\"_d\") - Kd(\"_d\")*Ld(\"_c\")) \\\n",
    "             + Omega2*(Sd(\"_c\")*Kd(\"_d\") - Sd(\"_d\")*Kd(\"_c\")) \\\n",
    "             + Omega3*(Sd(\"_c\")*Ld(\"_d\") - Sd(\"_d\")*Ld(\"_c\")),\"_c,_d\")\n",
    "OmedS.factor()\n",
    "#Omed.display(aslist=True)\n",
    "OmedS.display()"
   ]
  },
  {
   "cell_type": "markdown",
   "id": "ccbb5d31",
   "metadata": {},
   "source": [
    "$$\n",
    "\\Omega_{\\alpha} =\n",
    "\\Omega_{3} K_{\\alpha} +\n",
    "\\Omega_{2} L_{\\alpha} +\n",
    "\\Omega_{1} S_{\\alpha} \n",
    "$$"
   ]
  },
  {
   "cell_type": "code",
   "execution_count": null,
   "id": "85a6d90f",
   "metadata": {},
   "outputs": [],
   "source": [
    "Omd=pt.ten(\"Omd\",1)\n",
    "Omd.assign(Omega3*Kd(\"_c\")-Omega2*Ld(\"_c\") + Omega1*Sd(\"_c\"),\"_c\")\n",
    "Omd.simplify()\n",
    "Omd.display('_')"
   ]
  },
  {
   "cell_type": "markdown",
   "id": "a53225f4",
   "metadata": {},
   "source": [
    "$$\n",
    "V_{\\alpha ; \\beta}=-a_{\\alpha} V_{\\beta}+\\sigma_{\\alpha \\beta}+\\Omega_{\\alpha \\beta}+\\frac{1}{3} \\Theta h_{\\alpha \\beta}\n",
    "$$"
   ]
  },
  {
   "cell_type": "code",
   "execution_count": null,
   "id": "419410bb",
   "metadata": {},
   "outputs": [],
   "source": [
    "DcVdS = pt.ten(\"DcVdS\",2) \n",
    "DcVdS.assign(-1*ad(\"_a\")*Vd(\"_b\") + sh(\"_a,_b\") + OmedS(\"_a,_b\")\\\n",
    "             +Theta*hdd(\"_a,_b\")/3  ,\"_a,_b\")\n",
    "DcVdS.factor()\n",
    "DcVdS.display()"
   ]
  },
  {
   "cell_type": "code",
   "execution_count": null,
   "id": "7ff13438",
   "metadata": {},
   "outputs": [],
   "source": [
    "ceros=pt.ten(\"ceros\",2)\n",
    "ceros.assign(DcVd(\"_a,_b\")-DcVdS(\"_a,_b\") ,\"_a,_b\")\n",
    "ceros.simplify()\n",
    "#DcVd.display()\n",
    "ceros.display('_,_')"
   ]
  },
  {
   "cell_type": "code",
   "execution_count": null,
   "id": "36b46f7f",
   "metadata": {},
   "outputs": [],
   "source": []
  },
  {
   "cell_type": "markdown",
   "id": "ea0731be",
   "metadata": {},
   "source": [
    "$$\n",
    "K_{\\alpha ; \\beta}=-a_{\\mu} K^{\\mu} V_{\\alpha} V_{\\beta}+V_{\\alpha}\\left(\\sigma_{\\nu \\beta}+\\Omega_{\\nu \\beta}+\\frac{1}{3} \\Theta h_{\\nu \\beta}\\right) K^{\\nu}-\\tilde{a}_{\\alpha}^{(k)} V_{\\beta}+J_{\\alpha \\beta}^{(k)}\n",
    "$$"
   ]
  },
  {
   "cell_type": "code",
   "execution_count": null,
   "id": "8b08db8e",
   "metadata": {},
   "outputs": [],
   "source": [
    "akd=pt.ten(\"akd\",1)\n",
    "# Es con  + \n",
    "akd.assign(-Omega1*Ld(\"_c\") + Omega2*Sd(\"_c\"),\"_c\")\n",
    "akd.factor()\n",
    "akd.display('_')"
   ]
  },
  {
   "cell_type": "code",
   "execution_count": null,
   "id": "ec80fdd1",
   "metadata": {},
   "outputs": [],
   "source": [
    "akdp=pt.ten(\"akdp\",1)\n",
    "akdp.assign( hdd(\"^c,_a\")*DcKd(\"_c,_d\")*Vu(\"^d\"),\"_a\")\n",
    "akdp.factor()\n",
    "akdp.display('_')"
   ]
  },
  {
   "cell_type": "code",
   "execution_count": null,
   "id": "74bfbfd4",
   "metadata": {
    "scrolled": true
   },
   "outputs": [],
   "source": [
    "Jkd=pt.ten(\"Jkd\",2)\n",
    "Jkd.assign( (j1*Kd(\"_d\") + j2*Ld(\"_d\") + j3*Sd(\"_d\"))*Ld(\"_c\") \\\n",
    "           +(j4*Kd(\"_d\") + j5*Ld(\"_d\") + j6*Sd(\"_d\"))*Sd(\"_c\") ,\"_c,_d\")\n",
    "Jkd.simplify()\n",
    "#Jkd.display('_,_')"
   ]
  },
  {
   "cell_type": "code",
   "execution_count": null,
   "id": "6f834c4c",
   "metadata": {},
   "outputs": [],
   "source": [
    "Jkdp=pt.ten(\"Jkdp\",2)\n",
    "Jkdp.assign( hdd(\"^c,_a\")*hdd(\"^d,_b\")*DcKd(\"_c,_d\")  ,\"_a,_b\")\n",
    "Jkdp.simplify()\n",
    "#Jkdp.display('_,_')"
   ]
  },
  {
   "cell_type": "code",
   "execution_count": null,
   "id": "8ea30382",
   "metadata": {},
   "outputs": [],
   "source": [
    "DcKdS = pt.ten(\"DcKdS\",2) \n",
    "DcKdS.assign(-1*ad(\"_c\")*Ku(\"^c\")*Vd(\"_a\")*Vd(\"_b\")  \\\n",
    "             + Vd(\"_a\")*( sh(\"_c,_b\") + OmedS(\"_c,_b\") + Theta*hdd(\"_c,_b\")/3)*Ku(\"^c\") \\\n",
    "             - akd(\"_a\")*Vd(\"_b\") + Jkd(\"_a,_b\")  ,\"_a,_b\")\n",
    "DcKdS.factor()\n",
    "DcKdS.display()"
   ]
  },
  {
   "cell_type": "code",
   "execution_count": null,
   "id": "8912ef77",
   "metadata": {},
   "outputs": [],
   "source": [
    "ceros=pt.ten(\"ceros\",2)\n",
    "ceros.assign(DcKd(\"_a,_b\")-DcKdS(\"_a,_b\") ,\"_a,_b\")\n",
    "ceros.simplify()\n",
    "ceros.display('_,_')"
   ]
  },
  {
   "cell_type": "markdown",
   "id": "f2baf0e1",
   "metadata": {},
   "source": [
    "$$\n",
    "L_{\\alpha ; \\beta}=-a_{\\mu} L^{\\mu} V_{\\alpha} V_{\\beta}+V_{\\alpha}\\left(\\sigma_{\\nu \\beta}+\\Omega_{\\nu \\beta}+\\frac{1}{3} \\Theta h_{\\nu \\beta}\\right) L^{\\nu}-\\tilde{a}_{\\alpha}^{(l)} V_{\\beta}+J_{\\alpha \\beta}^{(l)}\n",
    "$$"
   ]
  },
  {
   "cell_type": "code",
   "execution_count": null,
   "id": "99349644",
   "metadata": {},
   "outputs": [],
   "source": [
    "ald=pt.ten(\"ald\",1)\n",
    "# Es con  + \n",
    "ald.assign(Omega1*Kd(\"_c\") + Omega3*Sd(\"_c\"),\"_c\")\n",
    "ald.factor()\n",
    "ald.display('_')\n",
    "\n",
    "aldp=pt.ten(\"aldp\",1)\n",
    "aldp.assign( hdd(\"^c,_a\")*DcLd(\"_c,_d\")*Vu(\"^d\"),\"_a\")\n",
    "aldp.factor()\n",
    "#aldp.display('_')"
   ]
  },
  {
   "cell_type": "code",
   "execution_count": null,
   "id": "d4120509",
   "metadata": {},
   "outputs": [],
   "source": [
    "Jld=pt.ten(\"Jld\",2)\n",
    "Jld.assign( -1*(j1*Kd(\"_d\") + j2*Ld(\"_d\") + j3*Sd(\"_d\"))*Kd(\"_c\") \\\n",
    "           +(j7*Kd(\"_d\") + j8*Ld(\"_d\") + j9*Sd(\"_d\"))*Sd(\"_c\") ,\"_c,_d\")\n",
    "Jld.simplify()\n",
    "Jld.display('_,_')"
   ]
  },
  {
   "cell_type": "code",
   "execution_count": null,
   "id": "855ddec0",
   "metadata": {},
   "outputs": [],
   "source": [
    "DcLdS = pt.ten(\"DcLdS\",2) \n",
    "DcLdS.assign(-1*ad(\"_c\")*Lu(\"^c\")*Vd(\"_a\")*Vd(\"_b\")  \\\n",
    "             + Vd(\"_a\")*( sh(\"_c,_b\") + OmedS(\"_c,_b\") + Theta*hdd(\"_c,_b\")/3)*Lu(\"^c\") \\\n",
    "             - ald(\"_a\")*Vd(\"_b\") + Jld(\"_a,_b\")  ,\"_a,_b\")\n",
    "DcLdS.factor()\n",
    "DcLdS.display()"
   ]
  },
  {
   "cell_type": "code",
   "execution_count": null,
   "id": "076b0764",
   "metadata": {},
   "outputs": [],
   "source": [
    "ceros=pt.ten(\"ceros\",2)\n",
    "ceros.assign(DcLd(\"_a,_b\")-DcLdS(\"_a,_b\") ,\"_a,_b\")\n",
    "ceros.simplify()\n",
    "ceros.display('_,_')"
   ]
  },
  {
   "cell_type": "markdown",
   "id": "479d9ef0",
   "metadata": {},
   "source": [
    "$$\n",
    "S_{\\alpha ; \\beta}=-a_{\\mu} S^{\\mu} V_{\\alpha} V_{\\beta}+V_{\\alpha}\\left(\\sigma_{\\nu \\beta}+\\Omega_{\\nu \\beta}+\\frac{1}{3} \\Theta h_{\\nu \\beta}\\right) S^{\\nu}-\\tilde{a}_{\\alpha}^{(s)} V_{\\beta}+J_{\\alpha \\beta}^{(s)}\n",
    "$$"
   ]
  },
  {
   "cell_type": "code",
   "execution_count": null,
   "id": "37f0c6ed",
   "metadata": {},
   "outputs": [],
   "source": [
    "asd=pt.ten(\"asd\",1)\n",
    "# Es con  - \n",
    "asd.assign(-Omega2*Kd(\"_c\") - Omega3*Ld(\"_c\"),\"_c\")\n",
    "asd.factor()\n",
    "#asd.display('_')\n",
    "\n",
    "asdp=pt.ten(\"asdp\",1)\n",
    "asdp.assign( hdd(\"^c,_a\")*DcSd(\"_c,_d\")*Vu(\"^d\"),\"_a\")\n",
    "asdp.factor()\n",
    "#asdp.display('_')"
   ]
  },
  {
   "cell_type": "code",
   "execution_count": null,
   "id": "5d93b2a0",
   "metadata": {},
   "outputs": [],
   "source": [
    "Jsd=pt.ten(\"Jsd\",2)\n",
    "Jsd.assign( -1*(j4*Kd(\"_d\") + j5*Ld(\"_d\") + j6*Sd(\"_d\"))*Kd(\"_c\") \\\n",
    "           -(j7*Kd(\"_d\") + j8*Ld(\"_d\") + j9*Sd(\"_d\"))*Ld(\"_c\") ,\"_c,_d\")\n",
    "Jsd.simplify()\n",
    "#Jsd.display('_,_')"
   ]
  },
  {
   "cell_type": "code",
   "execution_count": null,
   "id": "4ed05601",
   "metadata": {},
   "outputs": [],
   "source": [
    "DcSdS = pt.ten(\"DcSdS\",2) \n",
    "DcSdS.assign(-1*ad(\"_c\")*Su(\"^c\")*Vd(\"_a\")*Vd(\"_b\")  \\\n",
    "             + Vd(\"_a\")*( sh(\"_c,_b\") + OmedS(\"_c,_b\") + Theta*hdd(\"_c,_b\")/3)*Su(\"^c\") \\\n",
    "             - asd(\"_a\")*Vd(\"_b\") + Jsd(\"_a,_b\")  ,\"_a,_b\")\n",
    "DcSdS.factor()\n",
    "DcSdS.display()"
   ]
  },
  {
   "cell_type": "code",
   "execution_count": null,
   "id": "339b3a9d",
   "metadata": {
    "scrolled": true
   },
   "outputs": [],
   "source": [
    "ceros=pt.ten(\"ceros\",2)\n",
    "ceros.assign(DcSd(\"_a,_b\")-DcSdS(\"_a,_b\") ,\"_a,_b\")\n",
    "ceros.simplify()\n",
    "ceros.display('_,_')"
   ]
  },
  {
   "cell_type": "code",
   "execution_count": null,
   "id": "2ee12a59",
   "metadata": {
    "scrolled": false
   },
   "outputs": [],
   "source": [
    "#R = pt.riemann(All=True)"
   ]
  },
  {
   "cell_type": "code",
   "execution_count": null,
   "id": "40739fed",
   "metadata": {
    "scrolled": true
   },
   "outputs": [],
   "source": [
    "#Ric = pt.ricci()\n",
    "#Ric.complete('_,_')"
   ]
  },
  {
   "cell_type": "code",
   "execution_count": null,
   "id": "7da24f84",
   "metadata": {},
   "outputs": [],
   "source": [
    "#Res = pt.riccis()"
   ]
  },
  {
   "cell_type": "code",
   "execution_count": null,
   "id": "64094176",
   "metadata": {},
   "outputs": [],
   "source": [
    "#KD= pt.kdelta()"
   ]
  },
  {
   "cell_type": "code",
   "execution_count": null,
   "id": "314cccfb",
   "metadata": {
    "scrolled": true
   },
   "outputs": [],
   "source": [
    "#Cud=pt.ten(\"Cud\",4)\n",
    "#Cud.assign( R(\"^d,_a,_b,_c\") - Ric(\"^d,_b\")*g(\"_a,_c\")/2  \\\n",
    "#           + Ric(\"_a,_b\")*KD(\"^d,_c\")/2 - Ric(\"_a,_c\")*KD(\"^d,_b\")/2 \\\n",
    "#           + Ric(\"^d,_c\")*g(\"_a,_b\")/2  \\\n",
    "#           + Res*(KD(\"^d,_b\")*g(\"_a,_c\") - g(\"_a,_b\")*KD(\"^d,_c\"))/6, \"^d,_a,_b,_c\")      \n",
    "#\n",
    "#Cud.assign(R(\"_a,_b,_c,_d\") \\\n",
    "#           - g(\"_a,_c\")*Ric(\"_d,_b\")/2 \\\n",
    "#           + g(\"_a,_d\")*Ric(\"_c,_b\")/2 \\\n",
    "#           + g(\"_b,_c\")*Ric(\"_d,_a\")/2 \\\n",
    "#           + g(\"_b,_d\")*Ric(\"_c,_a\")/2 \\\n",
    "#           + Res*(g(\"_a,_c\")*g(\"_d,_b\")/2 - g(\"_a,_d\")*g(\"_c,_b\")/2 )/3 , \"_a,_b,_c,_d\")\n",
    "#Cud.simplify()\n",
    "#Cud.complete('^,_,_,_')\n",
    "#Cud(\"^0,_0,_0,_3\")"
   ]
  },
  {
   "cell_type": "markdown",
   "id": "69bcab25",
   "metadata": {},
   "source": [
    "# Electric part of Weyl tensor"
   ]
  },
  {
   "cell_type": "code",
   "execution_count": null,
   "id": "e1ca2f10",
   "metadata": {},
   "outputs": [],
   "source": [
    "E1= pt.factor(Da1dag - a2*j1 + a1**2 + Omega2**2)\n",
    "E2= -E1 - a1*j6 - a2*j9 - Omega2**2 - Omega3**2\n",
    "E3= -Da1theta + a1*a2 - a2*j2 + Omega2*Omega3\n",
    "E4=0\n",
    "E5=0\n",
    "[E1,E2,E3]"
   ]
  },
  {
   "cell_type": "code",
   "execution_count": null,
   "id": "5e885c44",
   "metadata": {},
   "outputs": [],
   "source": []
  },
  {
   "cell_type": "markdown",
   "id": "fee34fa4",
   "metadata": {},
   "source": [
    "## Electric part of Weyl tensor\n",
    "$$\n",
    "E_{\\alpha \\beta} =a_{\\alpha} a_{\\beta}+h_{(\\alpha}^{\\mu} h_{\\beta)}^{\\nu} a_{\\nu ; \\mu}+\\Omega^{2} h_{\\alpha \\beta}-\\Omega_{\\alpha} \\Omega_{\\beta}\n",
    "$$"
   ]
  },
  {
   "cell_type": "code",
   "execution_count": null,
   "id": "445717e2",
   "metadata": {},
   "outputs": [],
   "source": [
    "EdS = pt.ten(\"EdS\",2) \n",
    "EdS.assign(ad(\"_a\")*ad(\"_b\") + \\\n",
    "           ((hdd(\"^c,_a\")*hdd(\"^d,_b\") + hdd(\"_a,^c\")*hdd(\"_b,^d\"))/2 )*Dcad(\"_d,_c\") +\\\n",
    "           Omega**2*hdd(\"_a,_b\") - Omd(\"_a\")*Omd(\"_b\"),\"_a,_b\")\n",
    "EdS.simplify()\n",
    "EdS.display()\n",
    "#EdS.display(aslist=True)"
   ]
  },
  {
   "cell_type": "markdown",
   "id": "40b6d230",
   "metadata": {},
   "source": [
    "$$\n",
    "E_{\\alpha \\beta} =E_{1} K_{\\alpha} K_{\\beta}+E_{2} L_{\\alpha} L_{\\beta}-\\left(E_{1}+E_{2}\\right) S_{\\alpha} S_{\\beta} +E_{3} K_{(\\alpha} L_{\\beta)}+E_{4} K_{(\\alpha} S_{\\beta)}+E_{5} L_{(\\alpha} S_{\\beta)} \n",
    "$$"
   ]
  },
  {
   "cell_type": "code",
   "execution_count": null,
   "id": "3f8c1d21",
   "metadata": {},
   "outputs": [],
   "source": [
    "EdSe = pt.ten(\"EdSe\",2) \n",
    "EdSe.assign(E1*Kd(\"_a\")*Kd(\"_b\") + E2*Ld(\"_a\")*Ld(\"_b\") - (E1+E2)*Sd(\"_a\")*Sd(\"_b\") + \\\n",
    "    E3*(Kd(\"_a\")*Ld(\"_b\")/2-Kd(\"_b\")*Ld(\"_a\")/2) + E4*(Kd(\"_a\")*Sd(\"_b\")/2-Kd(\"_b\")*Sd(\"_a\")/2) +\\\n",
    "        E5*(Ld(\"_a\")*Sd(\"_b\")/2-Ld(\"_b\")*Sd(\"_a\")/2)  ,\"_a,_b\")\n",
    "EdSe.simplify()\n",
    "EdSe.display()"
   ]
  },
  {
   "cell_type": "code",
   "execution_count": null,
   "id": "12dae7ca",
   "metadata": {},
   "outputs": [],
   "source": [
    "ceros=pt.ten(\"ceros\",2)\n",
    "ceros.assign(EdSe(\"_a,_b\")-EdS(\"_a,_b\") ,\"_a,_b\")\n",
    "ceros.simplify()\n",
    "ceros.display('_,_')"
   ]
  },
  {
   "cell_type": "markdown",
   "id": "ce442898",
   "metadata": {},
   "source": [
    "$$\n",
    "a_{1}^{\\dagger}+a_{2}^{\\theta}+a_{1}\\left(a_{1}+j_{2}+j_{6}\\right)+a_{2}\\left(a_{2}+j_{9}-j_{1}\\right)+2\\left(\\Omega_{2}^{2}+\\Omega_{3}^{2}\\right)=0\n",
    "$$"
   ]
  },
  {
   "cell_type": "code",
   "execution_count": null,
   "id": "92236370",
   "metadata": {},
   "outputs": [],
   "source": []
  }
 ],
 "metadata": {
  "interpreter": {
   "hash": "8d1181128e1f0e3c7e069abdee9a2274e13259c88bd323b8ad99884c634d782b"
  },
  "kernelspec": {
   "display_name": "Python 3.8.12 64-bit ('base': conda)",
   "name": "python3"
  },
  "language_info": {
   "codemirror_mode": {
    "name": "ipython",
    "version": 3
   },
   "file_extension": ".py",
   "mimetype": "text/x-python",
   "name": "python",
   "nbconvert_exporter": "python",
   "pygments_lexer": "ipython3",
   "version": "3.8.12"
  }
 },
 "nbformat": 4,
 "nbformat_minor": 5
}
