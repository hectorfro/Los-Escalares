{
 "cells": [
  {
   "cell_type": "code",
   "execution_count": 1,
   "id": "055aea90",
   "metadata": {},
   "outputs": [],
   "source": [
    "#### Version del 17/11/2022 ####\n",
    "import pytearcat as pt\n",
    "import sympy as sy\n",
    "from sympy import * \n",
    "#from sympy import print_python"
   ]
  },
  {
   "cell_type": "markdown",
   "id": "f5d30c7b",
   "metadata": {},
   "source": [
    "### Métrica\n"
   ]
  },
  {
   "cell_type": "code",
   "execution_count": 2,
   "id": "4bf547c2",
   "metadata": {
    "scrolled": true
   },
   "outputs": [
    {
     "name": "stdout",
     "output_type": "stream",
     "text": [
      "Remember that the time coordinate must be the first coordinate.\n"
     ]
    }
   ],
   "source": [
    "t,r,theta,phi = pt.coords('t,r,theta,phi')\n",
    "\n",
    "l = pt.fun('l','r')\n",
    "nu = pt.fun('nu','r')\n",
    "\n",
    "A=sy.exp(nu)\n",
    "B=sy.exp(l)\n",
    "C=r\n",
    "\n",
    "rho = pt.fun('rho','r')\n",
    "Pr = pt.fun('P','r')\n",
    "Pt = pt.fun('Pt','r')\n",
    "\n",
    "P= (Pr+2*Pt)/3\n",
    "#Delta = pt.fun('Delta','r')\n",
    "Delta=Pr-Pt\n",
    "F=0\n",
    "E= pt.fun('E','r')\n"
   ]
  },
  {
   "cell_type": "code",
   "execution_count": 3,
   "id": "45b20ced",
   "metadata": {},
   "outputs": [
    {
     "name": "stdout",
     "output_type": "stream",
     "text": [
      "\n",
      "Dimension = 4\n",
      "Coordinates = t,r,theta,phi\n",
      "Metric defined successfully: \n",
      "\n"
     ]
    },
    {
     "data": {
      "text/latex": [
       "$\\displaystyle ds^2 = - e^{2 \\nu{\\left(r \\right)}} \\cdot dt^2+e^{2 l{\\left(r \\right)}} \\cdot dr^2+r^{2} \\cdot d\\theta^2+r^{2} \\sin^{2}{\\left(\\theta \\right)} \\cdot d\\phi^2$"
      ],
      "text/plain": [
       "<IPython.core.display.Math object>"
      ]
     },
     "metadata": {},
     "output_type": "display_data"
    },
    {
     "data": {
      "text/latex": [
       "$\\displaystyle \\left[\\begin{matrix}- e^{2 \\nu{\\left(r \\right)}} & 0 & 0 & 0\\\\0 & e^{2 l{\\left(r \\right)}} & 0 & 0\\\\0 & 0 & r^{2} & 0\\\\0 & 0 & 0 & r^{2} \\sin^{2}{\\left(\\theta \\right)}\\end{matrix}\\right]$"
      ],
      "text/plain": [
       "Matrix([\n",
       "[-exp(2*nu(r)),           0,    0,                  0],\n",
       "[            0, exp(2*l(r)),    0,                  0],\n",
       "[            0,           0, r**2,                  0],\n",
       "[            0,           0,    0, r**2*sin(theta)**2]])"
      ]
     },
     "metadata": {},
     "output_type": "display_data"
    }
   ],
   "source": [
    "ds = 'ds2 = -exp(2*nu)*dt**2 + exp(2*l)*dr**2 + r**2*(dtheta**2 + sin(theta)**2 * dphi**2)'\n",
    "g = pt.metric(ds)"
   ]
  },
  {
   "cell_type": "markdown",
   "id": "a1deed06",
   "metadata": {},
   "source": [
    "### The tetrad: the kinematical variables\n",
    "\n",
    "Let us choose an orthogonal unitary tetrad:\n",
    "$$\n",
    "e^{(0)}_\\alpha~=V_\\alpha, \\quad \n",
    "e^{(1)}_\\alpha~=K_\\alpha, \\quad \n",
    "e^{(2)}_\\alpha~=L_\\alpha \\quad \\mathrm{and}  \\quad e^{(3)}_\\alpha~=~S_\\alpha.\n",
    "$$\n"
   ]
  },
  {
   "cell_type": "code",
   "execution_count": 4,
   "id": "04b04d61",
   "metadata": {
    "scrolled": true
   },
   "outputs": [
    {
     "name": "stdout",
     "output_type": "stream",
     "text": [
      "Elements assigned correctly to the ^ components\n",
      "Elements assigned correctly to the ^ components\n",
      "Elements assigned correctly to the ^ components\n",
      "Elements assigned correctly to the ^ components\n"
     ]
    }
   ],
   "source": [
    "Vu = pt.ten('Vu',1)\n",
    "Vu.assign([1/A,0,0,0],'^')\n",
    "Ku = pt.ten('Ku',1)\n",
    "Ku.assign([0,1/B,0,0],'^')\n",
    "Lu = pt.ten('Lu',1)\n",
    "Lu.assign([0,0,1/C,0],'^')\n",
    "Su = pt.ten('Su',1)\n",
    "Su.assign([0,0,0,1/(C*sy.sin(theta))],'^')"
   ]
  },
  {
   "cell_type": "code",
   "execution_count": 5,
   "id": "1aff4eac",
   "metadata": {
    "scrolled": true
   },
   "outputs": [
    {
     "name": "stdout",
     "output_type": "stream",
     "text": [
      "Elements assigned correctly to the _b components\n"
     ]
    },
    {
     "data": {
      "image/png": "[encoded data removed]",
      "text/latex": [
       "$\\displaystyle \\left[\\begin{matrix}- e^{\\nu{\\left(r \\right)}} & 0 & 0 & 0\\end{matrix}\\right]$"
      ],
      "text/plain": [
       "⎡  ν(r)         ⎤\n",
       "⎣-ℯ      0  0  0⎦"
      ]
     },
     "metadata": {},
     "output_type": "display_data"
    },
    {
     "name": "stdout",
     "output_type": "stream",
     "text": [
      "Elements assigned correctly to the _b components\n"
     ]
    },
    {
     "data": {
      "image/png": "[encoded data removed]",
      "text/latex": [
       "$\\displaystyle \\left[\\begin{matrix}0 & e^{l{\\left(r \\right)}} & 0 & 0\\end{matrix}\\right]$"
      ],
      "text/plain": [
       "⎡    l(r)      ⎤\n",
       "⎣0  ℯ      0  0⎦"
      ]
     },
     "metadata": {},
     "output_type": "display_data"
    },
    {
     "name": "stdout",
     "output_type": "stream",
     "text": [
      "Elements assigned correctly to the _b components\n"
     ]
    },
    {
     "data": {
      "image/png": "[encoded data removed]",
      "text/latex": [
       "$\\displaystyle \\left[\\begin{matrix}0 & 0 & r & 0\\end{matrix}\\right]$"
      ],
      "text/plain": [
       "[0  0  r  0]"
      ]
     },
     "metadata": {},
     "output_type": "display_data"
    },
    {
     "name": "stdout",
     "output_type": "stream",
     "text": [
      "Elements assigned correctly to the _b components\n"
     ]
    },
    {
     "data": {
      "image/png": "[encoded data removed]",
      "text/latex": [
       "$\\displaystyle \\left[\\begin{matrix}0 & 0 & 0 & r \\sin{\\left(\\theta \\right)}\\end{matrix}\\right]$"
      ],
      "text/plain": [
       "[0  0  0  r⋅sin(θ)]"
      ]
     },
     "metadata": {},
     "output_type": "display_data"
    }
   ],
   "source": [
    "Vd = pt.ten('Vd',1)\n",
    "Vd.assign(Vu(\"^a\")*g(\"_a,_b\"),\"_b\")\n",
    "Vd.display('_')\n",
    "\n",
    "Kd = pt.ten('Kd',1)\n",
    "Kd.assign(Ku(\"^a\")*g(\"_a,_b\"),\"_b\")\n",
    "Kd.simplify()\n",
    "Kd.display('_')\n",
    "\n",
    "Ld = pt.ten('Ld',1)\n",
    "Ld.assign(Lu(\"^a\")*g(\"_a,_b\"),\"_b\")\n",
    "Ld.simplify()\n",
    "Ld.display('_')\n",
    "\n",
    "Sd = pt.ten('Sd',1)\n",
    "Sd.assign(Su(\"^a\")*g(\"_a,_b\"),\"_b\")\n",
    "Sd.simplify()\n",
    "Sd.display('_')"
   ]
  },
  {
   "cell_type": "code",
   "execution_count": 6,
   "id": "a957390a",
   "metadata": {},
   "outputs": [
    {
     "data": {
      "image/png": "[encoded data removed]",
      "text/latex": [
       "$\\displaystyle \\left[ 0, \\  0, \\  0, \\  0, \\  0, \\  0\\right]$"
      ],
      "text/plain": [
       "[0, 0, 0, 0, 0, 0]"
      ]
     },
     "execution_count": 6,
     "metadata": {},
     "output_type": "execute_result"
    }
   ],
   "source": [
    "cero1 = pt.simplify(-1*Vu('^l')*Kd('_l'))\n",
    "cero2 = pt.simplify(-1*Vu('^l')*Ld('_l'))\n",
    "cero3 = pt.simplify(-1*Vu('^l')*Sd('_l'))\n",
    "cero4 = pt.simplify(-1*Ku('^l')*Sd('_l'))\n",
    "cero5 = pt.simplify(-1*Ku('^l')*Ld('_l'))\n",
    "cero6 = pt.simplify(-1*Lu('^l')*Sd('_l'))\n",
    "[cero1,cero2,cero3,cero4,cero5,cero6]"
   ]
  },
  {
   "cell_type": "code",
   "execution_count": 7,
   "id": "138956ec",
   "metadata": {},
   "outputs": [
    {
     "data": {
      "image/png": "[encoded data removed]",
      "text/latex": [
       "$\\displaystyle \\left[ -1, \\  -1, \\  -1, \\  -1\\right]$"
      ],
      "text/plain": [
       "[-1, -1, -1, -1]"
      ]
     },
     "execution_count": 7,
     "metadata": {},
     "output_type": "execute_result"
    }
   ],
   "source": [
    "unoV = pt.simplify((Vu('^l')*Vd('_l')))\n",
    "unoK = pt.simplify(-1*Ku('^l')*Kd('_l'))\n",
    "unoL = pt.simplify(-1*Lu('^l')*Ld('_l'))\n",
    "unoS = pt.simplify(-1*Su('^l')*Sd('_l'))\n",
    "[unoV,unoK,unoL,unoS]"
   ]
  },
  {
   "cell_type": "markdown",
   "id": "4b8c5146",
   "metadata": {},
   "source": [
    "### Tensores calculados directamente de la métrica"
   ]
  },
  {
   "cell_type": "markdown",
   "id": "1efc266d",
   "metadata": {},
   "source": [
    "$$\n",
    "h_{\\mu\\nu}=g_{\\mu\\nu} +V_\\mu V_\\nu = K_\\mu K_\\nu+L_\\mu L_\\nu+S_\\mu S_\\nu\n",
    "$$"
   ]
  },
  {
   "cell_type": "code",
   "execution_count": 8,
   "id": "2832c741",
   "metadata": {},
   "outputs": [
    {
     "name": "stdout",
     "output_type": "stream",
     "text": [
      "Elements assigned correctly to the _a,_b components\n"
     ]
    },
    {
     "data": {
      "application/vnd.jupyter.widget-view+json": {
       "model_id": "2db762d4e632429abe60495e2a07321e",
       "version_major": 2,
       "version_minor": 0
      },
      "text/plain": [
       "hdd Tensor $hdd{^\\alpha}{_\\beta}$:   0%|          | 0/16 [00:00<?, ?it/s]"
      ]
     },
     "metadata": {},
     "output_type": "display_data"
    },
    {
     "data": {
      "application/vnd.jupyter.widget-view+json": {
       "model_id": "d6852c16a4ec46ed8419d6c4720aae1f",
       "version_major": 2,
       "version_minor": 0
      },
      "text/plain": [
       "hdd Tensor $hdd{^\\alpha}{^\\beta}$:   0%|          | 0/16 [00:00<?, ?it/s]"
      ]
     },
     "metadata": {},
     "output_type": "display_data"
    },
    {
     "data": {
      "application/vnd.jupyter.widget-view+json": {
       "model_id": "8eb6966da2ef4f2f839de9321abcd5b4",
       "version_major": 2,
       "version_minor": 0
      },
      "text/plain": [
       "hdd Tensor $hdd{_\\alpha}{^\\beta}$:   0%|          | 0/16 [00:00<?, ?it/s]"
      ]
     },
     "metadata": {},
     "output_type": "display_data"
    },
    {
     "data": {
      "text/latex": [
       "All other indices of hdd Tensor $hdd$  already calculated."
      ],
      "text/plain": [
       "<IPython.core.display.Latex object>"
      ]
     },
     "metadata": {},
     "output_type": "display_data"
    },
    {
     "data": {
      "image/png": "[encoded data removed]",
      "text/latex": [
       "$\\displaystyle \\left[\\begin{matrix}0 & 0 & 0 & 0\\\\0 & e^{2 l{\\left(r \\right)}} & 0 & 0\\\\0 & 0 & r^{2} & 0\\\\0 & 0 & 0 & r^{2} \\sin^{2}{\\left(\\theta \\right)}\\end{matrix}\\right]$"
      ],
      "text/plain": [
       "⎡0     0     0       0     ⎤\n",
       "⎢                          ⎥\n",
       "⎢    2⋅l(r)                ⎥\n",
       "⎢0  ℯ        0       0     ⎥\n",
       "⎢                          ⎥\n",
       "⎢             2            ⎥\n",
       "⎢0     0     r       0     ⎥\n",
       "⎢                          ⎥\n",
       "⎢                 2    2   ⎥\n",
       "⎣0     0     0   r ⋅sin (θ)⎦"
      ]
     },
     "metadata": {},
     "output_type": "display_data"
    }
   ],
   "source": [
    "hdd=pt.ten('hdd',2)\n",
    "#hdd.assign(g(\"_a,_b\")+Vd('_a')*Vd('_b') ,\"_a,_b\")\n",
    "hdd.assign(Kd('_a')*Kd('_b')+Ld('_a')*Ld('_b')+Sd('_a')*Sd('_b'),'_a,_b' )\n",
    "hdd.simplify()\n",
    "hdd.complete('_,_')\n",
    "hdd.display('_,_')"
   ]
  },
  {
   "cell_type": "code",
   "execution_count": 9,
   "id": "ffd49e0a",
   "metadata": {},
   "outputs": [
    {
     "data": {
      "text/latex": [
       "Christoffel $\\Gamma_{\\alpha \\beta \\gamma}$ and $\\Gamma^{\\alpha}_{\\beta \\gamma}$"
      ],
      "text/plain": [
       "<IPython.core.display.Latex object>"
      ]
     },
     "metadata": {},
     "output_type": "display_data"
    },
    {
     "data": {
      "application/vnd.jupyter.widget-view+json": {
       "model_id": "497aaa9be39a4cfabea5124061c21dc4",
       "version_major": 2,
       "version_minor": 0
      },
      "text/plain": [
       "  0%|          | 0/64 [00:00<?, ?it/s]"
      ]
     },
     "metadata": {},
     "output_type": "display_data"
    }
   ],
   "source": [
    "Chr= pt.christoffel()"
   ]
  },
  {
   "cell_type": "code",
   "execution_count": 10,
   "id": "3019037b",
   "metadata": {},
   "outputs": [
    {
     "data": {
      "text/latex": [
       "Riemann Tensor $R^{\\alpha}_{\\beta \\gamma \\delta}$"
      ],
      "text/plain": [
       "<IPython.core.display.Latex object>"
      ]
     },
     "metadata": {},
     "output_type": "display_data"
    },
    {
     "data": {
      "application/vnd.jupyter.widget-view+json": {
       "model_id": "c35d76f0396e46309b180f5e0d189639",
       "version_major": 2,
       "version_minor": 0
      },
      "text/plain": [
       "  0%|          | 0/256 [00:00<?, ?it/s]"
      ]
     },
     "metadata": {},
     "output_type": "display_data"
    },
    {
     "data": {
      "application/vnd.jupyter.widget-view+json": {
       "model_id": "f3e746b7063d48d2b30d6249c6f5c3da",
       "version_major": 2,
       "version_minor": 0
      },
      "text/plain": [
       "Riemann Tensor $R{_\\alpha}{_\\beta}{_\\gamma}{_\\delta}$:   0%|          | 0/256 [00:00<?, ?it/s]"
      ]
     },
     "metadata": {},
     "output_type": "display_data"
    },
    {
     "data": {
      "application/vnd.jupyter.widget-view+json": {
       "model_id": "a1a94ce3e568473eb502128ab3506cbb",
       "version_major": 2,
       "version_minor": 0
      },
      "text/plain": [
       "Riemann Tensor $R{^\\alpha}{^\\beta}{_\\gamma}{_\\delta}$:   0%|          | 0/256 [00:00<?, ?it/s]"
      ]
     },
     "metadata": {},
     "output_type": "display_data"
    },
    {
     "data": {
      "application/vnd.jupyter.widget-view+json": {
       "model_id": "c9c74f2c0cd045f88828d4bcebe11154",
       "version_major": 2,
       "version_minor": 0
      },
      "text/plain": [
       "Riemann Tensor $R{^\\alpha}{^\\beta}{^\\gamma}{_\\delta}$:   0%|          | 0/256 [00:00<?, ?it/s]"
      ]
     },
     "metadata": {},
     "output_type": "display_data"
    },
    {
     "data": {
      "application/vnd.jupyter.widget-view+json": {
       "model_id": "65c05ad411e549a789c8d1d8d6dc5fc5",
       "version_major": 2,
       "version_minor": 0
      },
      "text/plain": [
       "Riemann Tensor $R{^\\alpha}{^\\beta}{^\\gamma}{^\\delta}$:   0%|          | 0/256 [00:00<?, ?it/s]"
      ]
     },
     "metadata": {},
     "output_type": "display_data"
    },
    {
     "data": {
      "application/vnd.jupyter.widget-view+json": {
       "model_id": "7d55bf6094cf4debbcc81845cb30f9e3",
       "version_major": 2,
       "version_minor": 0
      },
      "text/plain": [
       "Riemann Tensor $R{^\\alpha}{^\\beta}{_\\gamma}{^\\delta}$:   0%|          | 0/256 [00:00<?, ?it/s]"
      ]
     },
     "metadata": {},
     "output_type": "display_data"
    },
    {
     "data": {
      "application/vnd.jupyter.widget-view+json": {
       "model_id": "b265ca4f257041f1a8999eb4f45c0d3c",
       "version_major": 2,
       "version_minor": 0
      },
      "text/plain": [
       "Riemann Tensor $R{^\\alpha}{_\\beta}{^\\gamma}{_\\delta}$:   0%|          | 0/256 [00:00<?, ?it/s]"
      ]
     },
     "metadata": {},
     "output_type": "display_data"
    },
    {
     "data": {
      "application/vnd.jupyter.widget-view+json": {
       "model_id": "42bd904bf84e49c2ba984c94ff03b57e",
       "version_major": 2,
       "version_minor": 0
      },
      "text/plain": [
       "Riemann Tensor $R{^\\alpha}{_\\beta}{^\\gamma}{^\\delta}$:   0%|          | 0/256 [00:00<?, ?it/s]"
      ]
     },
     "metadata": {},
     "output_type": "display_data"
    },
    {
     "data": {
      "application/vnd.jupyter.widget-view+json": {
       "model_id": "054a060d689042b3b3f8a6e8ac2080bb",
       "version_major": 2,
       "version_minor": 0
      },
      "text/plain": [
       "Riemann Tensor $R{^\\alpha}{_\\beta}{_\\gamma}{^\\delta}$:   0%|          | 0/256 [00:00<?, ?it/s]"
      ]
     },
     "metadata": {},
     "output_type": "display_data"
    },
    {
     "data": {
      "application/vnd.jupyter.widget-view+json": {
       "model_id": "7c9a734413634003b89b77a4e9a130ad",
       "version_major": 2,
       "version_minor": 0
      },
      "text/plain": [
       "Riemann Tensor $R{_\\alpha}{^\\beta}{_\\gamma}{_\\delta}$:   0%|          | 0/256 [00:00<?, ?it/s]"
      ]
     },
     "metadata": {},
     "output_type": "display_data"
    },
    {
     "data": {
      "application/vnd.jupyter.widget-view+json": {
       "model_id": "888791b015ce4ee28e6dffe944f23626",
       "version_major": 2,
       "version_minor": 0
      },
      "text/plain": [
       "Riemann Tensor $R{_\\alpha}{^\\beta}{^\\gamma}{_\\delta}$:   0%|          | 0/256 [00:00<?, ?it/s]"
      ]
     },
     "metadata": {},
     "output_type": "display_data"
    },
    {
     "data": {
      "application/vnd.jupyter.widget-view+json": {
       "model_id": "25839418245348b096a35439cf592c6c",
       "version_major": 2,
       "version_minor": 0
      },
      "text/plain": [
       "Riemann Tensor $R{_\\alpha}{^\\beta}{^\\gamma}{^\\delta}$:   0%|          | 0/256 [00:00<?, ?it/s]"
      ]
     },
     "metadata": {},
     "output_type": "display_data"
    },
    {
     "data": {
      "application/vnd.jupyter.widget-view+json": {
       "model_id": "78d55a2d3dde49f5abf68fcf1d67f9ae",
       "version_major": 2,
       "version_minor": 0
      },
      "text/plain": [
       "Riemann Tensor $R{_\\alpha}{^\\beta}{_\\gamma}{^\\delta}$:   0%|          | 0/256 [00:00<?, ?it/s]"
      ]
     },
     "metadata": {},
     "output_type": "display_data"
    },
    {
     "data": {
      "application/vnd.jupyter.widget-view+json": {
       "model_id": "a2706a18b27c43cd8e276a9506e56fa0",
       "version_major": 2,
       "version_minor": 0
      },
      "text/plain": [
       "Riemann Tensor $R{_\\alpha}{_\\beta}{^\\gamma}{_\\delta}$:   0%|          | 0/256 [00:00<?, ?it/s]"
      ]
     },
     "metadata": {},
     "output_type": "display_data"
    },
    {
     "data": {
      "application/vnd.jupyter.widget-view+json": {
       "model_id": "bc99b377a9ce451d851f3042cebfe583",
       "version_major": 2,
       "version_minor": 0
      },
      "text/plain": [
       "Riemann Tensor $R{_\\alpha}{_\\beta}{^\\gamma}{^\\delta}$:   0%|          | 0/256 [00:00<?, ?it/s]"
      ]
     },
     "metadata": {},
     "output_type": "display_data"
    },
    {
     "data": {
      "application/vnd.jupyter.widget-view+json": {
       "model_id": "d80a5e6ebcf140c497b1d52fb99c0f0e",
       "version_major": 2,
       "version_minor": 0
      },
      "text/plain": [
       "Riemann Tensor $R{_\\alpha}{_\\beta}{_\\gamma}{^\\delta}$:   0%|          | 0/256 [00:00<?, ?it/s]"
      ]
     },
     "metadata": {},
     "output_type": "display_data"
    },
    {
     "data": {
      "text/latex": [
       "All other indices of Riemann Tensor $R$  already calculated."
      ],
      "text/plain": [
       "<IPython.core.display.Latex object>"
      ]
     },
     "metadata": {},
     "output_type": "display_data"
    },
    {
     "data": {
      "text/plain": [
       "<bound method Tensor.simplify of Riemann tensor defined>"
      ]
     },
     "execution_count": 10,
     "metadata": {},
     "output_type": "execute_result"
    }
   ],
   "source": [
    "# Tensor de Riemann\n",
    "R = pt.riemann(All=True)\n",
    "R.simplify"
   ]
  },
  {
   "cell_type": "code",
   "execution_count": 11,
   "id": "29f74000",
   "metadata": {},
   "outputs": [
    {
     "data": {
      "text/latex": [
       "Ricci Tensor $R_{\\alpha \\beta}$"
      ],
      "text/plain": [
       "<IPython.core.display.Latex object>"
      ]
     },
     "metadata": {},
     "output_type": "display_data"
    },
    {
     "data": {
      "application/vnd.jupyter.widget-view+json": {
       "model_id": "cb0ffa3159104a44919b84400faa7799",
       "version_major": 2,
       "version_minor": 0
      },
      "text/plain": [
       "  0%|          | 0/16 [00:00<?, ?it/s]"
      ]
     },
     "metadata": {},
     "output_type": "display_data"
    },
    {
     "data": {
      "application/vnd.jupyter.widget-view+json": {
       "model_id": "66ce2ec4c5fb4cb384d224198923719b",
       "version_major": 2,
       "version_minor": 0
      },
      "text/plain": [
       "Ricci Tensor $R{^\\alpha}{_\\beta}$:   0%|          | 0/16 [00:00<?, ?it/s]"
      ]
     },
     "metadata": {},
     "output_type": "display_data"
    },
    {
     "data": {
      "application/vnd.jupyter.widget-view+json": {
       "model_id": "c9fbd86c4f4c4f3f9676beb619bc2a42",
       "version_major": 2,
       "version_minor": 0
      },
      "text/plain": [
       "Ricci Tensor $R{^\\alpha}{^\\beta}$:   0%|          | 0/16 [00:00<?, ?it/s]"
      ]
     },
     "metadata": {},
     "output_type": "display_data"
    },
    {
     "data": {
      "application/vnd.jupyter.widget-view+json": {
       "model_id": "b9e99fc2729a414fbaefc6e6e6afeec4",
       "version_major": 2,
       "version_minor": 0
      },
      "text/plain": [
       "Ricci Tensor $R{_\\alpha}{^\\beta}$:   0%|          | 0/16 [00:00<?, ?it/s]"
      ]
     },
     "metadata": {},
     "output_type": "display_data"
    },
    {
     "data": {
      "text/latex": [
       "All other indices of Ricci Tensor $R$  already calculated."
      ],
      "text/plain": [
       "<IPython.core.display.Latex object>"
      ]
     },
     "metadata": {},
     "output_type": "display_data"
    }
   ],
   "source": [
    "# Tensor de Ricci\n",
    "Ric = pt.ricci(All=True)"
   ]
  },
  {
   "cell_type": "code",
   "execution_count": 12,
   "id": "561ee6ea",
   "metadata": {},
   "outputs": [
    {
     "data": {
      "application/vnd.jupyter.widget-view+json": {
       "model_id": "313b7952b58949d58c49292659420f72",
       "version_major": 2,
       "version_minor": 0
      },
      "text/plain": [
       "  0%|          | 0/16 [00:00<?, ?it/s]"
      ]
     },
     "metadata": {},
     "output_type": "display_data"
    },
    {
     "data": {
      "text/latex": [
       "Ricci Scalar $R$"
      ],
      "text/plain": [
       "<IPython.core.display.Latex object>"
      ]
     },
     "metadata": {},
     "output_type": "display_data"
    },
    {
     "data": {
      "image/png": "[encoded data removed]",
      "text/latex": [
       "$\\displaystyle \\frac{2 \\left(r^{2} \\frac{d}{d r} l{\\left(r \\right)} \\frac{d}{d r} \\nu{\\left(r \\right)} - r^{2} \\left(\\frac{d}{d r} \\nu{\\left(r \\right)}\\right)^{2} - r^{2} \\frac{d^{2}}{d r^{2}} \\nu{\\left(r \\right)} + 2 r \\frac{d}{d r} l{\\left(r \\right)} - 2 r \\frac{d}{d r} \\nu{\\left(r \\right)} + e^{2 l{\\left(r \\right)}} - 1\\right) e^{- 2 l{\\left(r \\right)}}}{r^{2}}$"
      ],
      "text/plain": [
       "  ⎛                                    2        2                             \n",
       "  ⎜ 2 d        d           2 ⎛d       ⎞     2  d              d              d\n",
       "2⋅⎜r ⋅──(l(r))⋅──(ν(r)) - r ⋅⎜──(ν(r))⎟  - r ⋅───(ν(r)) + 2⋅r⋅──(l(r)) - 2⋅r⋅─\n",
       "  ⎜   dr       dr            ⎝dr      ⎠         2             dr             d\n",
       "  ⎝                                           dr                              \n",
       "──────────────────────────────────────────────────────────────────────────────\n",
       "                                                       2                      \n",
       "                                                      r                       \n",
       "\n",
       "                     ⎞         \n",
       "           2⋅l(r)    ⎟  -2⋅l(r)\n",
       "─(ν(r)) + ℯ       - 1⎟⋅ℯ       \n",
       "r                    ⎟         \n",
       "                     ⎠         \n",
       "───────────────────────────────\n",
       "                               \n",
       "                               "
      ]
     },
     "execution_count": 12,
     "metadata": {},
     "output_type": "execute_result"
    }
   ],
   "source": [
    "# Escalar de Ricci\n",
    "RicS = pt.riccis()\n",
    "RicS.simplify()"
   ]
  },
  {
   "cell_type": "code",
   "execution_count": 13,
   "id": "153ca45a",
   "metadata": {},
   "outputs": [
    {
     "data": {
      "text/latex": [
       "Einstein Tensor $G_{\\alpha \\beta}$"
      ],
      "text/plain": [
       "<IPython.core.display.Latex object>"
      ]
     },
     "metadata": {},
     "output_type": "display_data"
    },
    {
     "data": {
      "application/vnd.jupyter.widget-view+json": {
       "model_id": "fc7e46a37f994a0594380766f0752914",
       "version_major": 2,
       "version_minor": 0
      },
      "text/plain": [
       "  0%|          | 0/16 [00:00<?, ?it/s]"
      ]
     },
     "metadata": {},
     "output_type": "display_data"
    },
    {
     "data": {
      "application/vnd.jupyter.widget-view+json": {
       "model_id": "1cec5e29b1964229b5877ccb47301b91",
       "version_major": 2,
       "version_minor": 0
      },
      "text/plain": [
       "Einstein Tensor $G{^\\alpha}{_\\beta}$:   0%|          | 0/16 [00:00<?, ?it/s]"
      ]
     },
     "metadata": {},
     "output_type": "display_data"
    },
    {
     "data": {
      "application/vnd.jupyter.widget-view+json": {
       "model_id": "27a1d00447054f73a0d42435598a33ff",
       "version_major": 2,
       "version_minor": 0
      },
      "text/plain": [
       "Einstein Tensor $G{^\\alpha}{^\\beta}$:   0%|          | 0/16 [00:00<?, ?it/s]"
      ]
     },
     "metadata": {},
     "output_type": "display_data"
    },
    {
     "data": {
      "application/vnd.jupyter.widget-view+json": {
       "model_id": "0fefe6e9d4b746ed830a9bbf8736d4ae",
       "version_major": 2,
       "version_minor": 0
      },
      "text/plain": [
       "Einstein Tensor $G{_\\alpha}{^\\beta}$:   0%|          | 0/16 [00:00<?, ?it/s]"
      ]
     },
     "metadata": {},
     "output_type": "display_data"
    },
    {
     "data": {
      "text/latex": [
       "All other indices of Einstein Tensor $G$  already calculated."
      ],
      "text/plain": [
       "<IPython.core.display.Latex object>"
      ]
     },
     "metadata": {},
     "output_type": "display_data"
    }
   ],
   "source": [
    "# Tensor de Einstein\n",
    "G = pt.einstein(All=True)\n",
    "G.simplify()\n",
    "#G.display(aslist=True)"
   ]
  },
  {
   "cell_type": "markdown",
   "id": "23a35ba3",
   "metadata": {},
   "source": [
    "$$\n",
    "C_{a b c d}=  R_{a b c d} - g_{a[c} R_{d] b} + g_{b[c} R_{d] a}  + \\frac{1}{3} R g_{a[c} g_{d] b}\n",
    "$$"
   ]
  },
  {
   "cell_type": "code",
   "execution_count": 14,
   "id": "c73795b1",
   "metadata": {},
   "outputs": [
    {
     "name": "stdout",
     "output_type": "stream",
     "text": [
      "Elements assigned correctly to the _a,_b,_c,_d components\n"
     ]
    },
    {
     "data": {
      "application/vnd.jupyter.widget-view+json": {
       "model_id": "afb8a7ad8adf4888bdddd3fd9eeea685",
       "version_major": 2,
       "version_minor": 0
      },
      "text/plain": [
       "Wy Tensor $Wy{^\\alpha}{_\\beta}{_\\gamma}{_\\delta}$:   0%|          | 0/256 [00:00<?, ?it/s]"
      ]
     },
     "metadata": {},
     "output_type": "display_data"
    },
    {
     "data": {
      "application/vnd.jupyter.widget-view+json": {
       "model_id": "de173131fb154c319ae968b33226b6b3",
       "version_major": 2,
       "version_minor": 0
      },
      "text/plain": [
       "Wy Tensor $Wy{^\\alpha}{^\\beta}{_\\gamma}{_\\delta}$:   0%|          | 0/256 [00:00<?, ?it/s]"
      ]
     },
     "metadata": {},
     "output_type": "display_data"
    },
    {
     "data": {
      "application/vnd.jupyter.widget-view+json": {
       "model_id": "0abf160d798843ae9ab5f3b83fa8dbf4",
       "version_major": 2,
       "version_minor": 0
      },
      "text/plain": [
       "Wy Tensor $Wy{^\\alpha}{^\\beta}{^\\gamma}{_\\delta}$:   0%|          | 0/256 [00:00<?, ?it/s]"
      ]
     },
     "metadata": {},
     "output_type": "display_data"
    },
    {
     "data": {
      "application/vnd.jupyter.widget-view+json": {
       "model_id": "48ecc5d2f9af4a86aefc6e9f16b55d11",
       "version_major": 2,
       "version_minor": 0
      },
      "text/plain": [
       "Wy Tensor $Wy{^\\alpha}{^\\beta}{^\\gamma}{^\\delta}$:   0%|          | 0/256 [00:00<?, ?it/s]"
      ]
     },
     "metadata": {},
     "output_type": "display_data"
    },
    {
     "data": {
      "application/vnd.jupyter.widget-view+json": {
       "model_id": "8830eba2f34d4068b6f34450042a5e72",
       "version_major": 2,
       "version_minor": 0
      },
      "text/plain": [
       "Wy Tensor $Wy{^\\alpha}{^\\beta}{_\\gamma}{^\\delta}$:   0%|          | 0/256 [00:00<?, ?it/s]"
      ]
     },
     "metadata": {},
     "output_type": "display_data"
    },
    {
     "data": {
      "application/vnd.jupyter.widget-view+json": {
       "model_id": "aa3e31231ea645f9b859acf4c546c682",
       "version_major": 2,
       "version_minor": 0
      },
      "text/plain": [
       "Wy Tensor $Wy{^\\alpha}{_\\beta}{^\\gamma}{_\\delta}$:   0%|          | 0/256 [00:00<?, ?it/s]"
      ]
     },
     "metadata": {},
     "output_type": "display_data"
    },
    {
     "data": {
      "application/vnd.jupyter.widget-view+json": {
       "model_id": "9e174fe6da32465cb937740c9f19737b",
       "version_major": 2,
       "version_minor": 0
      },
      "text/plain": [
       "Wy Tensor $Wy{^\\alpha}{_\\beta}{^\\gamma}{^\\delta}$:   0%|          | 0/256 [00:00<?, ?it/s]"
      ]
     },
     "metadata": {},
     "output_type": "display_data"
    },
    {
     "data": {
      "application/vnd.jupyter.widget-view+json": {
       "model_id": "fb4bdae54233426490c8ec3553a2ac39",
       "version_major": 2,
       "version_minor": 0
      },
      "text/plain": [
       "Wy Tensor $Wy{^\\alpha}{_\\beta}{_\\gamma}{^\\delta}$:   0%|          | 0/256 [00:00<?, ?it/s]"
      ]
     },
     "metadata": {},
     "output_type": "display_data"
    },
    {
     "data": {
      "application/vnd.jupyter.widget-view+json": {
       "model_id": "a5ecbd049d3f450fa9d4a5de4b10f251",
       "version_major": 2,
       "version_minor": 0
      },
      "text/plain": [
       "Wy Tensor $Wy{_\\alpha}{^\\beta}{_\\gamma}{_\\delta}$:   0%|          | 0/256 [00:00<?, ?it/s]"
      ]
     },
     "metadata": {},
     "output_type": "display_data"
    },
    {
     "data": {
      "application/vnd.jupyter.widget-view+json": {
       "model_id": "6652a9c588eb41faad7fe3c974f98a1f",
       "version_major": 2,
       "version_minor": 0
      },
      "text/plain": [
       "Wy Tensor $Wy{_\\alpha}{^\\beta}{^\\gamma}{_\\delta}$:   0%|          | 0/256 [00:00<?, ?it/s]"
      ]
     },
     "metadata": {},
     "output_type": "display_data"
    },
    {
     "data": {
      "application/vnd.jupyter.widget-view+json": {
       "model_id": "b05e0a3980b64386a2ac54bea32b4171",
       "version_major": 2,
       "version_minor": 0
      },
      "text/plain": [
       "Wy Tensor $Wy{_\\alpha}{^\\beta}{^\\gamma}{^\\delta}$:   0%|          | 0/256 [00:00<?, ?it/s]"
      ]
     },
     "metadata": {},
     "output_type": "display_data"
    },
    {
     "data": {
      "application/vnd.jupyter.widget-view+json": {
       "model_id": "49a8433d7f77414fbe6bc5e1f87e37b7",
       "version_major": 2,
       "version_minor": 0
      },
      "text/plain": [
       "Wy Tensor $Wy{_\\alpha}{^\\beta}{_\\gamma}{^\\delta}$:   0%|          | 0/256 [00:00<?, ?it/s]"
      ]
     },
     "metadata": {},
     "output_type": "display_data"
    },
    {
     "data": {
      "application/vnd.jupyter.widget-view+json": {
       "model_id": "51cdce310f2d4c5f81c7d60f0c9f69cf",
       "version_major": 2,
       "version_minor": 0
      },
      "text/plain": [
       "Wy Tensor $Wy{_\\alpha}{_\\beta}{^\\gamma}{_\\delta}$:   0%|          | 0/256 [00:00<?, ?it/s]"
      ]
     },
     "metadata": {},
     "output_type": "display_data"
    },
    {
     "data": {
      "application/vnd.jupyter.widget-view+json": {
       "model_id": "3d74730431c945068ca3ab9e5d690983",
       "version_major": 2,
       "version_minor": 0
      },
      "text/plain": [
       "Wy Tensor $Wy{_\\alpha}{_\\beta}{^\\gamma}{^\\delta}$:   0%|          | 0/256 [00:00<?, ?it/s]"
      ]
     },
     "metadata": {},
     "output_type": "display_data"
    },
    {
     "data": {
      "application/vnd.jupyter.widget-view+json": {
       "model_id": "9a096e48d3814cd6b476a843145c3a04",
       "version_major": 2,
       "version_minor": 0
      },
      "text/plain": [
       "Wy Tensor $Wy{_\\alpha}{_\\beta}{_\\gamma}{^\\delta}$:   0%|          | 0/256 [00:00<?, ?it/s]"
      ]
     },
     "metadata": {},
     "output_type": "display_data"
    },
    {
     "data": {
      "text/latex": [
       "All other indices of Wy Tensor $Wy$  already calculated."
      ],
      "text/plain": [
       "<IPython.core.display.Latex object>"
      ]
     },
     "metadata": {},
     "output_type": "display_data"
    },
    {
     "data": {
      "image/png": "[encoded data removed]",
      "text/latex": [
       "$\\displaystyle \\frac{\\left(2 r^{2} \\frac{d}{d r} l{\\left(r \\right)} \\frac{d}{d r} \\nu{\\left(r \\right)} - 2 r^{2} \\left(\\frac{d}{d r} \\nu{\\left(r \\right)}\\right)^{2} - 2 r^{2} \\frac{d^{2}}{d r^{2}} \\nu{\\left(r \\right)} + r \\frac{d}{d r} l{\\left(r \\right)} - r \\frac{d}{d r} \\nu{\\left(r \\right)} + 2 e^{2 l{\\left(r \\right)}} - 2\\right) e^{- 2 l{\\left(r \\right)}}}{3}$"
      ],
      "text/plain": [
       "⎛                                        2          2                         \n",
       "⎜   2 d        d             2 ⎛d       ⎞       2  d            d            d\n",
       "⎜2⋅r ⋅──(l(r))⋅──(ν(r)) - 2⋅r ⋅⎜──(ν(r))⎟  - 2⋅r ⋅───(ν(r)) + r⋅──(l(r)) - r⋅─\n",
       "⎜     dr       dr              ⎝dr      ⎠           2           dr           d\n",
       "⎝                                                 dr                          \n",
       "──────────────────────────────────────────────────────────────────────────────\n",
       "                                                       3                      \n",
       "\n",
       "                       ⎞         \n",
       "             2⋅l(r)    ⎟  -2⋅l(r)\n",
       "─(ν(r)) + 2⋅ℯ       - 2⎟⋅ℯ       \n",
       "r                      ⎟         \n",
       "                       ⎠         \n",
       "─────────────────────────────────\n",
       "                                 "
      ]
     },
     "execution_count": 14,
     "metadata": {},
     "output_type": "execute_result"
    }
   ],
   "source": [
    "Wy= pt.ten('Wy',4)\n",
    "Wy.assign( R('_a,_b,_c,_d') - (g('_a,_c')*Ric('_d,_b') - g('_a,_d')*Ric('_c,_b'))/2 + \\\n",
    "                              (g('_b,_c')*Ric('_d,_a') - g('_b,_d')*Ric('_c,_a'))/2 + \\\n",
    "            (RicS*(g('_a,_c')*g('_d,_b')- g('_a,_d')*g('_c,_b')))/3 , '_a,_b,_c,_d') \n",
    "Wy.simplify()\n",
    "Wy.complete('_,_,_,_')\n",
    "Wy('^3,_2,_3,_2')"
   ]
  },
  {
   "cell_type": "markdown",
   "id": "b5680f3c",
   "metadata": {},
   "source": [
    "The first set equations can be considered purely geometrical and emerges from the projection of the Riemann tensor along the tetrad i.e.\n",
    "$$\n",
    "2 V_{\\alpha ;[\\beta ; \\gamma]}=R_{\\delta \\alpha \\beta \\gamma} V^{\\delta}, \\quad 2 K_{\\alpha ;[\\beta ; \\gamma]}=R_{\\delta \\alpha \\beta \\gamma} K^{\\delta}, \\quad 2 L_{\\alpha ;[\\beta ; \\gamma]}=R_{\\delta \\alpha \\beta \\gamma} L^{\\delta} \\quad \\text { and } \\quad 2 S_{\\alpha ;[\\beta ; \\gamma]}=R_{\\delta \\alpha \\beta \\gamma} S^{\\delta}\n",
    "$$"
   ]
  },
  {
   "cell_type": "code",
   "execution_count": 15,
   "id": "9b265fd6",
   "metadata": {},
   "outputs": [
    {
     "name": "stdout",
     "output_type": "stream",
     "text": [
      "Elements assigned correctly to the _b,_c,_d components\n",
      "Elements assigned correctly to the _a,_b,_c components\n",
      "Elements assigned correctly to the _a,_b,_c components\n",
      "All components are zero\n"
     ]
    }
   ],
   "source": [
    "# Esto es una verificacion\n",
    "DeVddd = pt.ten(\"DeVddd\",3)\n",
    "DeVddd.assign(R(\"_a,_b,_c,_d\")*Vu(\"^a\"),\"_b,_c,_d\")\n",
    "DeVddd.simplify()\n",
    "#DeVddd.display('_,_,_')\n",
    "IzVddd = pt.ten(\"IzVddd\",3)\n",
    "IzVddd.assign((pt.C(pt.C(Vd(\"_a\"),\"_b\"),\"_c\") - pt.C(pt.C(Vd(\"_a\"),\"_c\"),\"_b\")),\"_a,_b,_c\")\n",
    "IzVddd.simplify()\n",
    "#IzVddd.display('_,_,_')\n",
    "ceros=pt.ten(\"ceros\",3)\n",
    "ceros.assign(IzVddd('_a,_b,_c')-DeVddd('_a,_b,_c') ,\"_a,_b,_c\")\n",
    "ceros.simplify()\n",
    "ceros.display('_,_,_')"
   ]
  },
  {
   "cell_type": "code",
   "execution_count": 16,
   "id": "9016748a",
   "metadata": {},
   "outputs": [
    {
     "name": "stdout",
     "output_type": "stream",
     "text": [
      "Elements assigned correctly to the _a,_b,_c,_d,_e components\n",
      "Elements assigned correctly to the _a,_b,_e,_c,_d components\n",
      "Elements assigned correctly to the _a,_b,_d,_e,_c components\n",
      "Elements assigned correctly to the _a,_b,_c,_d,_e components\n",
      "All components are zero\n"
     ]
    }
   ],
   "source": [
    "# Verificacion\n",
    "DcRdddd1 = pt.ten(\"DcRdddd1\",5)\n",
    "DcRdddd1_dat = pt.C(R(\"_a,_b,_c,_d\"),\"_e\") \n",
    "DcRdddd1.assign(DcRdddd1_dat,\"_a,_b,_c,_d,_e\")\n",
    "\n",
    "DcRdddd2 = pt.ten(\"DcRdddd2\",5)\n",
    "DcRdddd2_dat = pt.C(R(\"_a,_b,_e,_c\"),\"_d\") \n",
    "DcRdddd2.assign(DcRdddd2_dat,\"_a,_b,_e,_c,_d\")\n",
    "\n",
    "DcRdddd3 = pt.ten(\"DcRdddd3\",5)\n",
    "DcRdddd3_dat = pt.C(R(\"_a,_b,_d,_e\"),\"_c\") \n",
    "DcRdddd3.assign(DcRdddd3_dat,\"_a,_b,_d,_e,_c\")\n",
    "\n",
    "Bianchi= pt.ten(\"Bianchi\",5)\n",
    "Bianchi.assign(DcRdddd1('_a,_b,_c,_d,_e')+DcRdddd2('_a,_b,_e,_c,_d')+DcRdddd3('_a,_b,_d,_e,_c'),\"_a,_b,_c,_d,_e\")\n",
    "\n",
    "Bianchi.factor()\n",
    "Bianchi.display()"
   ]
  },
  {
   "cell_type": "code",
   "execution_count": 17,
   "id": "1a16a533",
   "metadata": {},
   "outputs": [
    {
     "data": {
      "image/png": "[encoded data removed]",
      "text/latex": [
       "$\\displaystyle \\left[ e^{- l{\\left(r \\right)}} \\frac{d}{d r} \\nu{\\left(r \\right)}, \\  0, \\  0, \\  \\frac{e^{- l{\\left(r \\right)}}}{r}, \\  \\frac{\\cot{\\left(\\theta \\right)}}{r}\\right]$"
      ],
      "text/plain": [
       "⎡                        -l(r)        ⎤\n",
       "⎢ -l(r) d               ℯ       cot(θ)⎥\n",
       "⎢ℯ     ⋅──(ν(r)), 0, 0, ──────, ──────⎥\n",
       "⎣       dr                r       r   ⎦"
      ]
     },
     "execution_count": 17,
     "metadata": {},
     "output_type": "execute_result"
    }
   ],
   "source": [
    "a1= A.diff(r)/(A*B)\n",
    "\n",
    "sigma1= B.diff(t)/(A*B)\n",
    "sigma2= C.diff(t)/(A*C)\n",
    "\n",
    "J1=C.diff(r)/(C*B)\n",
    "J2=sy.cot(theta)/C\n",
    "[a1,sigma1,sigma2,J1,J2]"
   ]
  },
  {
   "cell_type": "markdown",
   "id": "c7d524b1",
   "metadata": {},
   "source": [
    "### COVARIANT DERIVATIVE OF $V_{\\alpha}$\n",
    "$$\n",
    "V_{\\alpha ; \\beta}\n",
    "$$\n"
   ]
  },
  {
   "cell_type": "code",
   "execution_count": 18,
   "id": "8be7cbc6",
   "metadata": {},
   "outputs": [
    {
     "name": "stdout",
     "output_type": "stream",
     "text": [
      "Elements assigned correctly to the _a,_b components\n"
     ]
    },
    {
     "data": {
      "image/png": "[encoded data removed]",
      "text/latex": [
       "$\\displaystyle \\left[\\begin{matrix}0 & 0 & 0 & 0\\\\e^{\\nu{\\left(r \\right)}} \\frac{d}{d r} \\nu{\\left(r \\right)} & 0 & 0 & 0\\\\0 & 0 & 0 & 0\\\\0 & 0 & 0 & 0\\end{matrix}\\right]$"
      ],
      "text/plain": [
       "⎡      0         0  0  0⎤\n",
       "⎢                       ⎥\n",
       "⎢ ν(r) d                ⎥\n",
       "⎢ℯ    ⋅──(ν(r))  0  0  0⎥\n",
       "⎢      dr               ⎥\n",
       "⎢                       ⎥\n",
       "⎢      0         0  0  0⎥\n",
       "⎢                       ⎥\n",
       "⎣      0         0  0  0⎦"
      ]
     },
     "metadata": {},
     "output_type": "display_data"
    },
    {
     "data": {
      "application/vnd.jupyter.widget-view+json": {
       "model_id": "703aa3ba1d044738ba216e570d825ff2",
       "version_major": 2,
       "version_minor": 0
      },
      "text/plain": [
       "DcVd Tensor $DcVd{^\\alpha}{_\\beta}$:   0%|          | 0/16 [00:00<?, ?it/s]"
      ]
     },
     "metadata": {},
     "output_type": "display_data"
    },
    {
     "data": {
      "application/vnd.jupyter.widget-view+json": {
       "model_id": "667f7fe95ffc4d768d4b81c43f2b2735",
       "version_major": 2,
       "version_minor": 0
      },
      "text/plain": [
       "DcVd Tensor $DcVd{^\\alpha}{^\\beta}$:   0%|          | 0/16 [00:00<?, ?it/s]"
      ]
     },
     "metadata": {},
     "output_type": "display_data"
    },
    {
     "data": {
      "application/vnd.jupyter.widget-view+json": {
       "model_id": "055414652af54f25a58d10a8ec71ca05",
       "version_major": 2,
       "version_minor": 0
      },
      "text/plain": [
       "DcVd Tensor $DcVd{_\\alpha}{^\\beta}$:   0%|          | 0/16 [00:00<?, ?it/s]"
      ]
     },
     "metadata": {},
     "output_type": "display_data"
    },
    {
     "data": {
      "text/latex": [
       "All other indices of DcVd Tensor $DcVd$  already calculated."
      ],
      "text/plain": [
       "<IPython.core.display.Latex object>"
      ]
     },
     "metadata": {},
     "output_type": "display_data"
    }
   ],
   "source": [
    "DcVd = pt.ten(\"DcVd\",2)\n",
    "DcVd_dat = pt.C(Vd(\"_a\"),\"_b\") \n",
    "DcVd.assign(DcVd_dat,\"_a,_b\")\n",
    "DcVd.factor()\n",
    "DcVd.display()\n",
    "DcVd.complete('_,_')"
   ]
  },
  {
   "cell_type": "code",
   "execution_count": 19,
   "id": "4c081af4",
   "metadata": {},
   "outputs": [
    {
     "name": "stdout",
     "output_type": "stream",
     "text": [
      "Elements assigned correctly to the _a,_b components\n"
     ]
    }
   ],
   "source": [
    "DcVdS = pt.ten('DcVdS',2)\n",
    "DcVdS.assign(-a1*Kd('_a')*Vd('_b')+ sigma1*Kd('_a')*Kd('_b')+ sigma2*(Ld('_a')*Ld('_b')+Sd('_a')*Sd('_b')) ,\"_a,_b\")\n",
    "#DcVdS.display('_,_')"
   ]
  },
  {
   "cell_type": "code",
   "execution_count": 20,
   "id": "3a0adc53",
   "metadata": {},
   "outputs": [
    {
     "name": "stdout",
     "output_type": "stream",
     "text": [
      "Elements assigned correctly to the _a,_b components\n"
     ]
    },
    {
     "data": {
      "image/png": "[encoded data removed]",
      "text/latex": [
       "$\\displaystyle \\left[\\begin{matrix}0 & 0 & 0 & 0\\\\0 & 0 & 0 & 0\\\\0 & 0 & 0 & 0\\\\0 & 0 & 0 & 0\\end{matrix}\\right]$"
      ],
      "text/plain": [
       "⎡0  0  0  0⎤\n",
       "⎢          ⎥\n",
       "⎢0  0  0  0⎥\n",
       "⎢          ⎥\n",
       "⎢0  0  0  0⎥\n",
       "⎢          ⎥\n",
       "⎣0  0  0  0⎦"
      ]
     },
     "metadata": {},
     "output_type": "display_data"
    }
   ],
   "source": [
    "# Verificcion\n",
    "ceros1=pt.ten('ceros1',2)\n",
    "ceros1.assign(DcVd('_a,_b')-DcVdS('_a,_b') ,\"_a,_b\")\n",
    "ceros1.simplify()\n",
    "ceros1.display('_,_')"
   ]
  },
  {
   "cell_type": "markdown",
   "id": "e52079ce",
   "metadata": {},
   "source": [
    "$$\n",
    "a_{\\alpha}=V^{\\beta} V_{\\alpha ; \\beta}\\,, \\quad a_{\\alpha;\\beta}\n",
    "$$"
   ]
  },
  {
   "cell_type": "code",
   "execution_count": 21,
   "id": "9b71217e",
   "metadata": {},
   "outputs": [
    {
     "name": "stdout",
     "output_type": "stream",
     "text": [
      "Elements assigned correctly to the _a components\n"
     ]
    },
    {
     "data": {
      "application/vnd.jupyter.widget-view+json": {
       "model_id": "4b38120de97549e8a76d674cdcc5b90c",
       "version_major": 2,
       "version_minor": 0
      },
      "text/plain": [
       "ad Tensor $ad{^\\alpha}$:   0%|          | 0/4 [00:00<?, ?it/s]"
      ]
     },
     "metadata": {},
     "output_type": "display_data"
    },
    {
     "data": {
      "text/latex": [
       "All other indices of ad Tensor $ad$  already calculated."
      ],
      "text/plain": [
       "<IPython.core.display.Latex object>"
      ]
     },
     "metadata": {},
     "output_type": "display_data"
    },
    {
     "name": "stdout",
     "output_type": "stream",
     "text": [
      "Elements assigned correctly to the _a,_b components\n"
     ]
    },
    {
     "data": {
      "application/vnd.jupyter.widget-view+json": {
       "model_id": "1cb4f4d4939c46d89dc25c5558201858",
       "version_major": 2,
       "version_minor": 0
      },
      "text/plain": [
       "Dcad Tensor $Dcad{^\\alpha}{_\\beta}$:   0%|          | 0/16 [00:00<?, ?it/s]"
      ]
     },
     "metadata": {},
     "output_type": "display_data"
    },
    {
     "data": {
      "application/vnd.jupyter.widget-view+json": {
       "model_id": "09dce57f20a64e08b0b2d54c9c321d37",
       "version_major": 2,
       "version_minor": 0
      },
      "text/plain": [
       "Dcad Tensor $Dcad{^\\alpha}{^\\beta}$:   0%|          | 0/16 [00:00<?, ?it/s]"
      ]
     },
     "metadata": {},
     "output_type": "display_data"
    },
    {
     "data": {
      "application/vnd.jupyter.widget-view+json": {
       "model_id": "a539d5b4c3a04f65b8bae6158e32678a",
       "version_major": 2,
       "version_minor": 0
      },
      "text/plain": [
       "Dcad Tensor $Dcad{_\\alpha}{^\\beta}$:   0%|          | 0/16 [00:00<?, ?it/s]"
      ]
     },
     "metadata": {},
     "output_type": "display_data"
    },
    {
     "data": {
      "text/latex": [
       "All other indices of Dcad Tensor $Dcad$  already calculated."
      ],
      "text/plain": [
       "<IPython.core.display.Latex object>"
      ]
     },
     "metadata": {},
     "output_type": "display_data"
    },
    {
     "data": {
      "image/png": "[encoded data removed]",
      "text/latex": [
       "$\\displaystyle \\left[\\begin{matrix}- e^{- 2 l{\\left(r \\right)} + 2 \\nu{\\left(r \\right)}} \\left(\\frac{d}{d r} \\nu{\\left(r \\right)}\\right)^{2} & 0 & 0 & 0\\\\0 & - \\frac{d}{d r} l{\\left(r \\right)} \\frac{d}{d r} \\nu{\\left(r \\right)} + \\frac{d^{2}}{d r^{2}} \\nu{\\left(r \\right)} & 0 & 0\\\\0 & 0 & r e^{- 2 l{\\left(r \\right)}} \\frac{d}{d r} \\nu{\\left(r \\right)} & 0\\\\0 & 0 & 0 & r e^{- 2 l{\\left(r \\right)}} \\sin^{2}{\\left(\\theta \\right)} \\frac{d}{d r} \\nu{\\left(r \\right)}\\end{matrix}\\right]$"
      ],
      "text/plain": [
       "⎡                             2                                               \n",
       "⎢  -2⋅l(r) + 2⋅ν(r) ⎛d       ⎞                                                \n",
       "⎢-ℯ                ⋅⎜──(ν(r))⎟                  0                          0  \n",
       "⎢                   ⎝dr      ⎠                                                \n",
       "⎢                                                                             \n",
       "⎢                                                        2                    \n",
       "⎢                                  d        d           d                     \n",
       "⎢              0                 - ──(l(r))⋅──(ν(r)) + ───(ν(r))           0  \n",
       "⎢                                  dr       dr           2                    \n",
       "⎢                                                      dr                     \n",
       "⎢                                                                             \n",
       "⎢                                                                    -2⋅l(r) d\n",
       "⎢              0                                0                 r⋅ℯ       ⋅─\n",
       "⎢                                                                            d\n",
       "⎢                                                                             \n",
       "⎢                                                                             \n",
       "⎢              0                                0                          0  \n",
       "⎣                                                                             \n",
       "\n",
       "                                    ⎤\n",
       "                                    ⎥\n",
       "                      0             ⎥\n",
       "                                    ⎥\n",
       "                                    ⎥\n",
       "                                    ⎥\n",
       "                                    ⎥\n",
       "                      0             ⎥\n",
       "                                    ⎥\n",
       "                                    ⎥\n",
       "                                    ⎥\n",
       "                                    ⎥\n",
       "─(ν(r))               0             ⎥\n",
       "r                                   ⎥\n",
       "                                    ⎥\n",
       "            -2⋅l(r)    2    d       ⎥\n",
       "         r⋅ℯ       ⋅sin (θ)⋅──(ν(r))⎥\n",
       "                            dr      ⎦"
      ]
     },
     "metadata": {},
     "output_type": "display_data"
    }
   ],
   "source": [
    "# Aceleracion y su derivada covariante\n",
    "ad= pt.ten(\"ad\",1)\n",
    "ad.assign( DcVd(\"_a,_b\")*Vu(\"^b\") ,\"_a\")\n",
    "ad.complete('_')\n",
    "ad.simplify()\n",
    "\n",
    "Dcad = pt.ten(\"Dcad\",2)\n",
    "Dcad_dat = pt.C(ad(\"_a\"),\"_b\") \n",
    "Dcad.assign(Dcad_dat,\"_a,_b\")\n",
    "Dcad.complete('_,_')\n",
    "Dcad.simplify()\n",
    "Dcad.display()"
   ]
  },
  {
   "cell_type": "code",
   "execution_count": 22,
   "id": "7dd54713",
   "metadata": {},
   "outputs": [
    {
     "name": "stdout",
     "output_type": "stream",
     "text": [
      "Elements assigned correctly to the ^a,_b components\n"
     ]
    },
    {
     "data": {
      "application/vnd.jupyter.widget-view+json": {
       "model_id": "bc1c1fa1ecb547388110cb20b48d46d6",
       "version_major": 2,
       "version_minor": 0
      },
      "text/plain": [
       "Dcau Tensor $Dcau{_\\alpha}{_\\beta}$:   0%|          | 0/16 [00:00<?, ?it/s]"
      ]
     },
     "metadata": {},
     "output_type": "display_data"
    },
    {
     "data": {
      "application/vnd.jupyter.widget-view+json": {
       "model_id": "9c67828cf4f4493a8ca9f4095e69a292",
       "version_major": 2,
       "version_minor": 0
      },
      "text/plain": [
       "Dcau Tensor $Dcau{^\\alpha}{^\\beta}$:   0%|          | 0/16 [00:00<?, ?it/s]"
      ]
     },
     "metadata": {},
     "output_type": "display_data"
    },
    {
     "data": {
      "application/vnd.jupyter.widget-view+json": {
       "model_id": "b279b95d3d2846008e9c5a478c8274df",
       "version_major": 2,
       "version_minor": 0
      },
      "text/plain": [
       "Dcau Tensor $Dcau{_\\alpha}{^\\beta}$:   0%|          | 0/16 [00:00<?, ?it/s]"
      ]
     },
     "metadata": {},
     "output_type": "display_data"
    },
    {
     "data": {
      "text/latex": [
       "All other indices of Dcau Tensor $Dcau$  already calculated."
      ],
      "text/plain": [
       "<IPython.core.display.Latex object>"
      ]
     },
     "metadata": {},
     "output_type": "display_data"
    },
    {
     "data": {
      "image/png": "[encoded data removed]",
      "text/latex": [
       "$\\displaystyle \\left[\\begin{matrix}e^{- 2 l{\\left(r \\right)} + 4 \\nu{\\left(r \\right)}} \\left(\\frac{d}{d r} \\nu{\\left(r \\right)}\\right)^{2} & 0 & 0 & 0\\\\0 & \\left(- \\frac{d}{d r} l{\\left(r \\right)} \\frac{d}{d r} \\nu{\\left(r \\right)} + \\frac{d^{2}}{d r^{2}} \\nu{\\left(r \\right)}\\right) e^{2 l{\\left(r \\right)}} & 0 & 0\\\\0 & 0 & r^{3} e^{- 2 l{\\left(r \\right)}} \\frac{d}{d r} \\nu{\\left(r \\right)} & 0\\\\0 & 0 & 0 & r^{3} e^{- 2 l{\\left(r \\right)}} \\sin^{4}{\\left(\\theta \\right)} \\frac{d}{d r} \\nu{\\left(r \\right)}\\end{matrix}\\right]$"
      ],
      "text/plain": [
       "⎡                            2                                                \n",
       "⎢ -2⋅l(r) + 4⋅ν(r) ⎛d       ⎞                                                 \n",
       "⎢ℯ                ⋅⎜──(ν(r))⎟                       0                         \n",
       "⎢                  ⎝dr      ⎠                                                 \n",
       "⎢                                                                             \n",
       "⎢                               ⎛                        2      ⎞             \n",
       "⎢                               ⎜  d        d           d       ⎟  2⋅l(r)     \n",
       "⎢              0                ⎜- ──(l(r))⋅──(ν(r)) + ───(ν(r))⎟⋅ℯ           \n",
       "⎢                               ⎜  dr       dr           2      ⎟             \n",
       "⎢                               ⎝                      dr       ⎠             \n",
       "⎢                                                                             \n",
       "⎢                                                                           3 \n",
       "⎢              0                                    0                      r ⋅\n",
       "⎢                                                                             \n",
       "⎢                                                                             \n",
       "⎢                                                                             \n",
       "⎢              0                                    0                         \n",
       "⎣                                                                             \n",
       "\n",
       "                                               ⎤\n",
       "                                               ⎥\n",
       "      0                         0              ⎥\n",
       "                                               ⎥\n",
       "                                               ⎥\n",
       "                                               ⎥\n",
       "                                               ⎥\n",
       "      0                         0              ⎥\n",
       "                                               ⎥\n",
       "                                               ⎥\n",
       "                                               ⎥\n",
       " -2⋅l(r) d                                     ⎥\n",
       "ℯ       ⋅──(ν(r))               0              ⎥\n",
       "         dr                                    ⎥\n",
       "                                               ⎥\n",
       "                    3  -2⋅l(r)    4    d       ⎥\n",
       "      0            r ⋅ℯ       ⋅sin (θ)⋅──(ν(r))⎥\n",
       "                                       dr      ⎦"
      ]
     },
     "metadata": {},
     "output_type": "display_data"
    }
   ],
   "source": [
    "Dcau = pt.ten('Dcau',2)\n",
    "Dcau_dat = pt.C(ad('^a'),'_b') \n",
    "Dcau.assign(Dcad_dat,'^a,_b')\n",
    "Dcau.complete('^,_')\n",
    "Dcau.simplify()\n",
    "Dcau.display()"
   ]
  },
  {
   "cell_type": "markdown",
   "id": "f9f2471f",
   "metadata": {},
   "source": [
    "$$\n",
    "\\Theta=V_{; \\alpha}^{\\alpha}\n",
    "$$"
   ]
  },
  {
   "cell_type": "code",
   "execution_count": 23,
   "id": "8d35dc6d",
   "metadata": {},
   "outputs": [
    {
     "data": {
      "image/png": "[encoded data removed]",
      "text/latex": [
       "$\\displaystyle 0$"
      ],
      "text/plain": [
       "0"
      ]
     },
     "metadata": {},
     "output_type": "display_data"
    }
   ],
   "source": [
    "#Expansión\n",
    "Theta=DcVd('^a,_a')\n",
    "display(Theta)"
   ]
  },
  {
   "cell_type": "code",
   "execution_count": 24,
   "id": "7c367e58",
   "metadata": {},
   "outputs": [
    {
     "name": "stdout",
     "output_type": "stream",
     "text": [
      "Elements assigned correctly to the _a,_b components\n"
     ]
    },
    {
     "data": {
      "application/vnd.jupyter.widget-view+json": {
       "model_id": "24b85cf222314e74a4fbca1a96be4651",
       "version_major": 2,
       "version_minor": 0
      },
      "text/plain": [
       "sh Tensor $sh{^\\alpha}{_\\beta}$:   0%|          | 0/16 [00:00<?, ?it/s]"
      ]
     },
     "metadata": {},
     "output_type": "display_data"
    },
    {
     "data": {
      "application/vnd.jupyter.widget-view+json": {
       "model_id": "d0b2a6540dc745c2acf6be49344ddad9",
       "version_major": 2,
       "version_minor": 0
      },
      "text/plain": [
       "sh Tensor $sh{^\\alpha}{^\\beta}$:   0%|          | 0/16 [00:00<?, ?it/s]"
      ]
     },
     "metadata": {},
     "output_type": "display_data"
    },
    {
     "data": {
      "application/vnd.jupyter.widget-view+json": {
       "model_id": "f8fc5514be0149ea8b2fdea936713fb9",
       "version_major": 2,
       "version_minor": 0
      },
      "text/plain": [
       "sh Tensor $sh{_\\alpha}{^\\beta}$:   0%|          | 0/16 [00:00<?, ?it/s]"
      ]
     },
     "metadata": {},
     "output_type": "display_data"
    },
    {
     "data": {
      "text/latex": [
       "All other indices of sh Tensor $sh$  already calculated."
      ],
      "text/plain": [
       "<IPython.core.display.Latex object>"
      ]
     },
     "metadata": {},
     "output_type": "display_data"
    },
    {
     "data": {
      "image/png": "[encoded data removed]",
      "text/latex": [
       "$\\displaystyle \\left[\\begin{matrix}0 & 0 & 0 & 0\\\\0 & 0 & 0 & 0\\\\0 & 0 & 0 & 0\\\\0 & 0 & 0 & 0\\end{matrix}\\right]$"
      ],
      "text/plain": [
       "⎡0  0  0  0⎤\n",
       "⎢          ⎥\n",
       "⎢0  0  0  0⎥\n",
       "⎢          ⎥\n",
       "⎢0  0  0  0⎥\n",
       "⎢          ⎥\n",
       "⎣0  0  0  0⎦"
      ]
     },
     "metadata": {},
     "output_type": "display_data"
    },
    {
     "data": {
      "text/plain": [
       "sh tensor defined"
      ]
     },
     "metadata": {},
     "output_type": "display_data"
    }
   ],
   "source": [
    "#Shear\n",
    "sh=pt.ten('sh',2)\n",
    "sh.assign( (DcVd('_a,_b')+DcVd('_b,_a'))/2 + (ad('_a')*Vd('_b')+ad('_b')*Vd('_a'))/2 - Theta*hdd('_a,_b')/3 ,\"_a,_b\")\n",
    "sh.complete('_,_')\n",
    "sh.simplify()\n",
    "sh.display('_,_')\n",
    "#sh= 1/A*(B.diff(t)/(B)-C.diff(t)/(C)  )\n",
    "display(sh)"
   ]
  },
  {
   "cell_type": "code",
   "execution_count": 25,
   "id": "d878324e",
   "metadata": {},
   "outputs": [
    {
     "data": {
      "image/png": "[encoded data removed]",
      "text/latex": [
       "$\\displaystyle 0$"
      ],
      "text/plain": [
       "0"
      ]
     },
     "execution_count": 25,
     "metadata": {},
     "output_type": "execute_result"
    }
   ],
   "source": [
    "shes=3*sh('^a,^b')*sh('_a,_b')/2\n",
    "shes"
   ]
  },
  {
   "cell_type": "markdown",
   "id": "01a1c946",
   "metadata": {},
   "source": [
    "### COVARIANT DERIVATIVE OF: \n",
    "$$\n",
    "K_{\\alpha ; \\beta}\\,, \\quad L_{\\alpha ; \\beta} \\,, \\quad S{\\alpha ; \\beta}\n",
    "$$"
   ]
  },
  {
   "cell_type": "code",
   "execution_count": 26,
   "id": "d2e34806",
   "metadata": {},
   "outputs": [
    {
     "name": "stdout",
     "output_type": "stream",
     "text": [
      "Elements assigned correctly to the _a,_b components\n",
      "Elements assigned correctly to the _a,_b components\n",
      "Elements assigned correctly to the _a,_b components\n",
      "Elements assigned correctly to the _a,_b components\n",
      "Elements assigned correctly to the _a,_b components\n",
      "Elements assigned correctly to the _a,_b components\n"
     ]
    }
   ],
   "source": [
    "DcKd = pt.ten(\"DcKd\",2)\n",
    "DcKd_dat = pt.C(Kd(\"_a\"),\"_b\") \n",
    "DcKd.assign(DcKd_dat,\"_a,_b\")\n",
    "DcKd.simplify()\n",
    "DcKdS = pt.ten('DcKdS',2)\n",
    "DcKdS.assign(-a1*Vd('_a')*Vd('_b')+ sigma1*Vd('_a')*Kd('_b')+ J1*(Ld('_a')*Ld('_b')+Sd('_a')*Sd('_b')) ,\"_a,_b\")\n",
    "DcKdS.simplify()\n",
    "#DcKdS.display('_,_')\n",
    "\n",
    "DcLd = pt.ten(\"DcLd\",2)\n",
    "DcLd_dat = pt.C(Ld(\"_a\"),\"_b\") \n",
    "DcLd.assign(DcLd_dat,\"_a,_b\")\n",
    "DcLd.simplify()\n",
    "DcLdS = pt.ten('DcLdS',2)\n",
    "DcLdS.assign(sigma2*Vd('_a')*Ld('_b')- J1*Kd('_a')*Ld('_b')+ J2*Sd('_a')*Sd('_b') ,\"_a,_b\")\n",
    "DcLdS.simplify()\n",
    "#DcLdS.display('_,_')\n",
    "\n",
    "DcSd = pt.ten(\"DcSd\",2)\n",
    "DcSd_dat = pt.C(Sd(\"_a\"),\"_b\") \n",
    "DcSd.assign(DcSd_dat,\"_a,_b\")\n",
    "DcSd.factor()\n",
    "DcSdS = pt.ten('DcSdS',2)\n",
    "DcSdS.assign(sigma2*Vd('_a')*Sd('_b')- J1*Kd('_a')*Sd('_b')- J2*Ld('_a')*Sd('_b') ,\"_a,_b\")\n",
    "DcSdS.simplify()\n",
    "#DcSdS.display('_,_')\n"
   ]
  },
  {
   "cell_type": "code",
   "execution_count": 27,
   "id": "a4455c00",
   "metadata": {},
   "outputs": [
    {
     "name": "stdout",
     "output_type": "stream",
     "text": [
      "Elements assigned correctly to the _a,_b components\n"
     ]
    },
    {
     "data": {
      "image/png": "[encoded data removed]",
      "text/latex": [
       "$\\displaystyle \\left[\\begin{matrix}0 & 0 & 0 & 0\\\\0 & 0 & 0 & 0\\\\0 & 0 & 0 & 0\\\\0 & 0 & 0 & 0\\end{matrix}\\right]$"
      ],
      "text/plain": [
       "⎡0  0  0  0⎤\n",
       "⎢          ⎥\n",
       "⎢0  0  0  0⎥\n",
       "⎢          ⎥\n",
       "⎢0  0  0  0⎥\n",
       "⎢          ⎥\n",
       "⎣0  0  0  0⎦"
      ]
     },
     "metadata": {},
     "output_type": "display_data"
    }
   ],
   "source": [
    "# Verificacion\n",
    "ceros2=pt.ten('ceros2',2)\n",
    "ceros2.assign(DcKd('_a,_b')-DcKdS('_a,_b') ,\"_a,_b\")\n",
    "ceros2.simplify()\n",
    "ceros2.display('_,_')"
   ]
  },
  {
   "cell_type": "code",
   "execution_count": 28,
   "id": "9ba3d65c",
   "metadata": {},
   "outputs": [
    {
     "name": "stdout",
     "output_type": "stream",
     "text": [
      "Elements assigned correctly to the _a,_b components\n"
     ]
    },
    {
     "data": {
      "image/png": "[encoded data removed]",
      "text/latex": [
       "$\\displaystyle \\left[\\begin{matrix}0 & 0 & 0 & 0\\\\0 & 0 & 0 & 0\\\\0 & 0 & 0 & 0\\\\0 & 0 & 0 & 0\\end{matrix}\\right]$"
      ],
      "text/plain": [
       "⎡0  0  0  0⎤\n",
       "⎢          ⎥\n",
       "⎢0  0  0  0⎥\n",
       "⎢          ⎥\n",
       "⎢0  0  0  0⎥\n",
       "⎢          ⎥\n",
       "⎣0  0  0  0⎦"
      ]
     },
     "metadata": {},
     "output_type": "display_data"
    }
   ],
   "source": [
    "# Verificacion\n",
    "ceros3=pt.ten('ceros3',2)\n",
    "ceros3.assign(DcLd('_a,_b')-DcLdS('_a,_b') ,\"_a,_b\")\n",
    "ceros3.simplify()\n",
    "ceros3.display('_,_')"
   ]
  },
  {
   "cell_type": "code",
   "execution_count": 29,
   "id": "30946736",
   "metadata": {},
   "outputs": [
    {
     "name": "stdout",
     "output_type": "stream",
     "text": [
      "Elements assigned correctly to the _a,_b components\n"
     ]
    },
    {
     "data": {
      "image/png": "[encoded data removed]",
      "text/latex": [
       "$\\displaystyle \\left[\\begin{matrix}0 & 0 & 0 & 0\\\\0 & 0 & 0 & 0\\\\0 & 0 & 0 & 0\\\\0 & 0 & 0 & 0\\end{matrix}\\right]$"
      ],
      "text/plain": [
       "⎡0  0  0  0⎤\n",
       "⎢          ⎥\n",
       "⎢0  0  0  0⎥\n",
       "⎢          ⎥\n",
       "⎢0  0  0  0⎥\n",
       "⎢          ⎥\n",
       "⎣0  0  0  0⎦"
      ]
     },
     "metadata": {},
     "output_type": "display_data"
    }
   ],
   "source": [
    "# Verificacion\n",
    "ceros4=pt.ten('ceros4',2)\n",
    "ceros4.assign(DcSd('_a,_b')-DcSdS('_a,_b') ,\"_a,_b\")\n",
    "ceros4.simplify()\n",
    "ceros4.display('_,_')"
   ]
  },
  {
   "cell_type": "markdown",
   "id": "5676bc13",
   "metadata": {},
   "source": [
    "### The directional derivatives operators\n",
    "$$\n",
    "f^{\\bullet}=V^{\\alpha} \\partial_{\\alpha} f \\quad f^{\\dagger}=K^{\\alpha} \\partial_{\\alpha} f \\quad \\text { and } \\quad f^{*}=L^{\\alpha} \\partial_{\\alpha} f\n",
    "$$"
   ]
  },
  {
   "cell_type": "code",
   "execution_count": 30,
   "id": "e0beed4c",
   "metadata": {},
   "outputs": [
    {
     "name": "stdout",
     "output_type": "stream",
     "text": [
      "Elements assigned correctly to the _a components\n",
      "Elements assigned correctly to the _a components\n",
      "Elements assigned correctly to the _a components\n"
     ]
    },
    {
     "data": {
      "image/png": "[encoded data removed]",
      "text/latex": [
       "$\\displaystyle \\left[ 0, \\  \\left(- \\frac{d}{d r} l{\\left(r \\right)} \\frac{d}{d r} \\nu{\\left(r \\right)} + \\frac{d^{2}}{d r^{2}} \\nu{\\left(r \\right)}\\right) e^{- 2 l{\\left(r \\right)}}, \\  0\\right]$"
      ],
      "text/plain": [
       "⎡   ⎛                        2      ⎞            ⎤\n",
       "⎢   ⎜  d        d           d       ⎟  -2⋅l(r)   ⎥\n",
       "⎢0, ⎜- ──(l(r))⋅──(ν(r)) + ───(ν(r))⎟⋅ℯ       , 0⎥\n",
       "⎢   ⎜  dr       dr           2      ⎟            ⎥\n",
       "⎣   ⎝                      dr       ⎠            ⎦"
      ]
     },
     "execution_count": 30,
     "metadata": {},
     "output_type": "execute_result"
    }
   ],
   "source": [
    "# Derivadas de a1\n",
    "Da1c= pt.ten('Da1c',1)\n",
    "Da1c.assign(pt.D(a1,\"_a\"), \"_a\")\n",
    "Da1c.simplify()\n",
    "Da1cir= Vu('^a')*Da1c('_a') \n",
    "Da1cir.simplify()\n",
    "\n",
    "Da1= pt.ten('Da1',1)\n",
    "Da1.assign(pt.D(a1,\"_a\"), \"_a\")\n",
    "Da1.simplify()\n",
    "Da1dag= Ku('^a')*Da1('_a') \n",
    "Da1dag.factor()\n",
    "\n",
    "Da1es= pt.ten('Da1est',1)\n",
    "Da1es.assign(pt.D(a1,\"_a\"), \"_a\")\n",
    "Da1es.simplify()\n",
    "Da1est= Lu('^a')*Da1es('_a') \n",
    "Da1est.simplify()\n",
    "\n",
    "[Da1cir, Da1dag, Da1est]"
   ]
  },
  {
   "cell_type": "markdown",
   "id": "9b1e9732",
   "metadata": {},
   "source": [
    "## The energy momentum tensor\n",
    "$$\n",
    "{T}_{\\alpha\\beta}= (\\rho+P) V_\\alpha V_\\beta+P g _{\\alpha \\beta} +\\Pi_{\\alpha \\beta}+\\mathcal{F}_\\alpha V_\\beta+\\mathcal{F}_\\beta V_\\alpha .\n",
    "$$"
   ]
  },
  {
   "cell_type": "markdown",
   "id": "690acfa1",
   "metadata": {},
   "source": [
    "$$\n",
    "\\mathcal{F}_{\\mu}=\\mathcal{F} K_{\\mu}\n",
    "$$"
   ]
  },
  {
   "cell_type": "code",
   "execution_count": 31,
   "id": "b7825425",
   "metadata": {},
   "outputs": [
    {
     "name": "stdout",
     "output_type": "stream",
     "text": [
      "Elements assigned correctly to the _a components\n"
     ]
    },
    {
     "data": {
      "image/png": "[encoded data removed]",
      "text/latex": [
       "$\\displaystyle \\left[\\begin{matrix}0 & 0 & 0 & 0\\end{matrix}\\right]$"
      ],
      "text/plain": [
       "[0  0  0  0]"
      ]
     },
     "metadata": {},
     "output_type": "display_data"
    },
    {
     "data": {
      "application/vnd.jupyter.widget-view+json": {
       "model_id": "db32f89373b749498d50a9499429f099",
       "version_major": 2,
       "version_minor": 0
      },
      "text/plain": [
       "Fd Tensor $Fd{^\\alpha}$:   0%|          | 0/4 [00:00<?, ?it/s]"
      ]
     },
     "metadata": {},
     "output_type": "display_data"
    },
    {
     "data": {
      "text/latex": [
       "All other indices of Fd Tensor $Fd$  already calculated."
      ],
      "text/plain": [
       "<IPython.core.display.Latex object>"
      ]
     },
     "metadata": {},
     "output_type": "display_data"
    }
   ],
   "source": [
    "Fd=pt.ten('Fd',1)\n",
    "Fd.assign(F*Kd('_a') ,\"_a\")\n",
    "Fd.simplify()\n",
    "Fd.display('_')\n",
    "Fd.complete('_')"
   ]
  },
  {
   "cell_type": "markdown",
   "id": "70a184c3",
   "metadata": {},
   "source": [
    "$$\n",
    "\\mathcal{F}^{\\mu} V_{\\mu}=0\n",
    "$$"
   ]
  },
  {
   "cell_type": "code",
   "execution_count": 32,
   "id": "48f2a04e",
   "metadata": {},
   "outputs": [
    {
     "data": {
      "image/png": "[encoded data removed]",
      "text/latex": [
       "$\\displaystyle 0$"
      ],
      "text/plain": [
       "0"
      ]
     },
     "execution_count": 32,
     "metadata": {},
     "output_type": "execute_result"
    }
   ],
   "source": [
    "Fd(\"^a\")*Vd(\"_a\")"
   ]
  },
  {
   "cell_type": "code",
   "execution_count": 33,
   "id": "3af7d2aa",
   "metadata": {},
   "outputs": [
    {
     "name": "stdout",
     "output_type": "stream",
     "text": [
      "Elements assigned correctly to the _a,_b components\n"
     ]
    },
    {
     "data": {
      "image/png": "[encoded data removed]",
      "text/latex": [
       "$\\displaystyle \\left[\\begin{matrix}0 & 0 & 0 & 0\\\\0 & \\frac{2 \\left(P{\\left(r \\right)} - \\operatorname{Pt}{\\left(r \\right)}\\right) e^{2 l{\\left(r \\right)}}}{3} & 0 & 0\\\\0 & 0 & \\frac{r^{2} \\left(- P{\\left(r \\right)} + \\operatorname{Pt}{\\left(r \\right)}\\right)}{3} & 0\\\\0 & 0 & 0 & \\frac{r^{2} \\left(- P{\\left(r \\right)} + \\operatorname{Pt}{\\left(r \\right)}\\right) \\sin^{2}{\\left(\\theta \\right)}}{3}\\end{matrix}\\right]$"
      ],
      "text/plain": [
       "⎡0             0                      0                       0             ⎤\n",
       "⎢                                                                           ⎥\n",
       "⎢                     2⋅l(r)                                                ⎥\n",
       "⎢   2⋅(P(r) - Pt(r))⋅ℯ                                                      ⎥\n",
       "⎢0  ────────────────────────          0                       0             ⎥\n",
       "⎢              3                                                            ⎥\n",
       "⎢                                                                           ⎥\n",
       "⎢                              2                                            ⎥\n",
       "⎢                             r ⋅(-P(r) + Pt(r))                            ⎥\n",
       "⎢0             0              ──────────────────              0             ⎥\n",
       "⎢                                     3                                     ⎥\n",
       "⎢                                                                           ⎥\n",
       "⎢                                                  2                    2   ⎥\n",
       "⎢                                                 r ⋅(-P(r) + Pt(r))⋅sin (θ)⎥\n",
       "⎢0             0                      0           ──────────────────────────⎥\n",
       "⎣                                                             3             ⎦"
      ]
     },
     "metadata": {},
     "output_type": "display_data"
    }
   ],
   "source": [
    "PIdd=pt.ten('PIdd',2)\n",
    "PIdd.assign(Delta*(Kd(\"_a\")*Kd(\"_b\")-hdd(\"_a,_b\")/3) ,\"_a,_b\")\n",
    "PIdd.simplify()\n",
    "PIdd.display('_,_')"
   ]
  },
  {
   "cell_type": "code",
   "execution_count": 34,
   "id": "f4ae0485",
   "metadata": {},
   "outputs": [
    {
     "name": "stdout",
     "output_type": "stream",
     "text": [
      "Elements assigned correctly to the _a,_b components\n"
     ]
    },
    {
     "data": {
      "application/vnd.jupyter.widget-view+json": {
       "model_id": "91321384197340238a2d29796c851b48",
       "version_major": 2,
       "version_minor": 0
      },
      "text/plain": [
       "T Tensor $T{^\\alpha}{_\\beta}$:   0%|          | 0/16 [00:00<?, ?it/s]"
      ]
     },
     "metadata": {},
     "output_type": "display_data"
    },
    {
     "data": {
      "application/vnd.jupyter.widget-view+json": {
       "model_id": "bb2135ee01fc4f3089f21b5553082e80",
       "version_major": 2,
       "version_minor": 0
      },
      "text/plain": [
       "T Tensor $T{^\\alpha}{^\\beta}$:   0%|          | 0/16 [00:00<?, ?it/s]"
      ]
     },
     "metadata": {},
     "output_type": "display_data"
    },
    {
     "data": {
      "application/vnd.jupyter.widget-view+json": {
       "model_id": "b32865422e714a5aa8ecf10744210764",
       "version_major": 2,
       "version_minor": 0
      },
      "text/plain": [
       "T Tensor $T{_\\alpha}{^\\beta}$:   0%|          | 0/16 [00:00<?, ?it/s]"
      ]
     },
     "metadata": {},
     "output_type": "display_data"
    },
    {
     "data": {
      "text/latex": [
       "All other indices of T Tensor $T$  already calculated."
      ],
      "text/plain": [
       "<IPython.core.display.Latex object>"
      ]
     },
     "metadata": {},
     "output_type": "display_data"
    },
    {
     "data": {
      "image/png": "[encoded data removed]",
      "text/latex": [
       "$\\displaystyle \\left[\\begin{matrix}- \\rho{\\left(r \\right)} & 0 & 0 & 0\\\\0 & P{\\left(r \\right)} & 0 & 0\\\\0 & 0 & \\operatorname{Pt}{\\left(r \\right)} & 0\\\\0 & 0 & 0 & \\operatorname{Pt}{\\left(r \\right)}\\end{matrix}\\right]$"
      ],
      "text/plain": [
       "⎡-ρ(r)   0      0      0  ⎤\n",
       "⎢                         ⎥\n",
       "⎢  0    P(r)    0      0  ⎥\n",
       "⎢                         ⎥\n",
       "⎢  0     0    Pt(r)    0  ⎥\n",
       "⎢                         ⎥\n",
       "⎣  0     0      0    Pt(r)⎦"
      ]
     },
     "metadata": {},
     "output_type": "display_data"
    }
   ],
   "source": [
    "T = pt.ten('T',2)\n",
    "T.assign((rho+P)*Vd(\"_a\")*Vd(\"_b\") + P*g(\"_a,_b\") + PIdd(\"_a,_b\") + Fd(\"_a\")*Vd(\"_b\") + Fd(\"_b\")*Vd(\"_a\") ,\"_a,_b\")\n",
    "T.simplify()\n",
    "T.complete('_,_')\n",
    "T.display('^,_')"
   ]
  },
  {
   "cell_type": "code",
   "execution_count": 35,
   "id": "c31643e8",
   "metadata": {},
   "outputs": [
    {
     "name": "stdout",
     "output_type": "stream",
     "text": [
      "Elements assigned correctly to the ^a components\n"
     ]
    },
    {
     "data": {
      "application/vnd.jupyter.widget-view+json": {
       "model_id": "8f67a5ee6a044887aaeea9360897fc47",
       "version_major": 2,
       "version_minor": 0
      },
      "text/plain": [
       "TOV Tensor $TOV{_\\alpha}$:   0%|          | 0/4 [00:00<?, ?it/s]"
      ]
     },
     "metadata": {},
     "output_type": "display_data"
    },
    {
     "data": {
      "text/latex": [
       "All other indices of TOV Tensor $TOV$  already calculated."
      ],
      "text/plain": [
       "<IPython.core.display.Latex object>"
      ]
     },
     "metadata": {},
     "output_type": "display_data"
    }
   ],
   "source": [
    "TOV = pt.ten('TOV',1)\n",
    "val = pt.C(T(\"^a,^b\"),\"_b\")\n",
    "TOV.assign(val,\"^a\")\n",
    "TOV.simplify()\n",
    "TOV.complete('^')\n",
    "#TOV.display(aslist=True)"
   ]
  },
  {
   "cell_type": "code",
   "execution_count": 36,
   "id": "62d4adf4",
   "metadata": {},
   "outputs": [
    {
     "data": {
      "image/png": "[encoded data removed]",
      "text/latex": [
       "$\\displaystyle 0$"
      ],
      "text/plain": [
       "0"
      ]
     },
     "execution_count": 36,
     "metadata": {},
     "output_type": "execute_result"
    }
   ],
   "source": [
    "TOV1=TOV(\"_0\")\n",
    "TOV1.factor()"
   ]
  },
  {
   "cell_type": "code",
   "execution_count": 37,
   "id": "12e345c4",
   "metadata": {},
   "outputs": [
    {
     "data": {
      "image/png": "[encoded data removed]",
      "text/latex": [
       "$\\displaystyle \\frac{r P{\\left(r \\right)} \\frac{d}{d r} \\nu{\\left(r \\right)} + r \\rho{\\left(r \\right)} \\frac{d}{d r} \\nu{\\left(r \\right)} + r \\frac{d}{d r} P{\\left(r \\right)} + 2 P{\\left(r \\right)} - 2 \\operatorname{Pt}{\\left(r \\right)}}{r}$"
      ],
      "text/plain": [
       "       d                 d            d                          \n",
       "r⋅P(r)⋅──(ν(r)) + r⋅ρ(r)⋅──(ν(r)) + r⋅──(P(r)) + 2⋅P(r) - 2⋅Pt(r)\n",
       "       dr                dr           dr                         \n",
       "─────────────────────────────────────────────────────────────────\n",
       "                                r                                "
      ]
     },
     "execution_count": 37,
     "metadata": {},
     "output_type": "execute_result"
    }
   ],
   "source": [
    "TOV2=TOV(\"_1\")\n",
    "TOV2.factor()\n",
    "#print_python(TOV2)"
   ]
  },
  {
   "cell_type": "code",
   "execution_count": 38,
   "id": "f57e592e",
   "metadata": {},
   "outputs": [
    {
     "data": {
      "image/png": "[encoded data removed]",
      "text/latex": [
       "$\\displaystyle \\rho{\\left(r \\right)}$"
      ],
      "text/plain": [
       "ρ(r)"
      ]
     },
     "execution_count": 38,
     "metadata": {},
     "output_type": "execute_result"
    }
   ],
   "source": [
    "T(\"_a,_b\")*Vu('^a')*Vu('^b')"
   ]
  },
  {
   "cell_type": "code",
   "execution_count": 39,
   "id": "9e80f8e9",
   "metadata": {},
   "outputs": [
    {
     "name": "stdout",
     "output_type": "stream",
     "text": [
      "Elements assigned correctly to the _a components\n"
     ]
    },
    {
     "data": {
      "image/png": "[encoded data removed]",
      "text/latex": [
       "$\\displaystyle \\left[\\begin{matrix}0 & 0 & 0 & 0\\end{matrix}\\right]$"
      ],
      "text/plain": [
       "[0  0  0  0]"
      ]
     },
     "metadata": {},
     "output_type": "display_data"
    }
   ],
   "source": [
    "Fdp=pt.ten('Fdp',1)\n",
    "Fdp.assign(-rho*Vd('_a') -T(\"_a,_b\")*Vu('^b') ,\"_a\")\n",
    "Fdp.simplify()\n",
    "Fdp.display('_')"
   ]
  },
  {
   "cell_type": "markdown",
   "id": "a22968b5",
   "metadata": {},
   "source": [
    "$$\n",
    "\\Pi_{\\alpha \\beta}=h_\\alpha^\\mu h_\\beta^\\nu\\left(T_{\\mu \\nu}-P h_{\\mu \\nu}\\right)\n",
    "$$"
   ]
  },
  {
   "cell_type": "code",
   "execution_count": 40,
   "id": "32201992",
   "metadata": {},
   "outputs": [
    {
     "data": {
      "image/png": "[encoded data removed]",
      "text/latex": [
       "$\\displaystyle \\frac{P{\\left(r \\right)}}{3} + \\frac{2 \\operatorname{Pt}{\\left(r \\right)}}{3}$"
      ],
      "text/plain": [
       "P(r)   2⋅Pt(r)\n",
       "──── + ───────\n",
       " 3        3   "
      ]
     },
     "execution_count": 40,
     "metadata": {},
     "output_type": "execute_result"
    }
   ],
   "source": [
    "hdd(\"^a,^b\")*T(\"_a,_b\")/3"
   ]
  },
  {
   "cell_type": "code",
   "execution_count": 41,
   "id": "b31f4298",
   "metadata": {},
   "outputs": [
    {
     "name": "stdout",
     "output_type": "stream",
     "text": [
      "Elements assigned correctly to the _a,_b components\n"
     ]
    },
    {
     "data": {
      "image/png": "[encoded data removed]",
      "text/latex": [
       "$\\displaystyle \\left[\\begin{matrix}0 & 0 & 0 & 0\\\\0 & \\frac{2 \\left(P{\\left(r \\right)} - \\operatorname{Pt}{\\left(r \\right)}\\right) e^{2 l{\\left(r \\right)}}}{3} & 0 & 0\\\\0 & 0 & \\frac{r^{2} \\left(- P{\\left(r \\right)} + \\operatorname{Pt}{\\left(r \\right)}\\right)}{3} & 0\\\\0 & 0 & 0 & \\frac{r^{2} \\left(- P{\\left(r \\right)} + \\operatorname{Pt}{\\left(r \\right)}\\right) \\sin^{2}{\\left(\\theta \\right)}}{3}\\end{matrix}\\right]$"
      ],
      "text/plain": [
       "⎡0             0                      0                       0             ⎤\n",
       "⎢                                                                           ⎥\n",
       "⎢                     2⋅l(r)                                                ⎥\n",
       "⎢   2⋅(P(r) - Pt(r))⋅ℯ                                                      ⎥\n",
       "⎢0  ────────────────────────          0                       0             ⎥\n",
       "⎢              3                                                            ⎥\n",
       "⎢                                                                           ⎥\n",
       "⎢                              2                                            ⎥\n",
       "⎢                             r ⋅(-P(r) + Pt(r))                            ⎥\n",
       "⎢0             0              ──────────────────              0             ⎥\n",
       "⎢                                     3                                     ⎥\n",
       "⎢                                                                           ⎥\n",
       "⎢                                                  2                    2   ⎥\n",
       "⎢                                                 r ⋅(-P(r) + Pt(r))⋅sin (θ)⎥\n",
       "⎢0             0                      0           ──────────────────────────⎥\n",
       "⎣                                                             3             ⎦"
      ]
     },
     "metadata": {},
     "output_type": "display_data"
    }
   ],
   "source": [
    "PI2=pt.ten('PI2',2)\n",
    "PI2.assign(hdd(\"_a,^c\")*hdd(\"_b,^d\")*(T(\"_c,_d\") - P*hdd(\"_c,_d\") ),\"_a,_b\")\n",
    "PI2.simplify()\n",
    "PI2.display()"
   ]
  },
  {
   "cell_type": "markdown",
   "id": "8b4abef8",
   "metadata": {},
   "source": [
    "## The splitting of the Riemann tensor and structure scalars\n",
    "\n",
    "A set of scalar functions --the structure scalars--  obtained from the orthogonal splitting of the Riemann tensor\n",
    "\n",
    "\n",
    "We can express the splitting of the Riemann tensor as:\n",
    "$$\n",
    "R_{\\alpha \\beta \\mu \\nu}=2V_\\mu V_{[\\alpha}Y_{\\beta] \\, \\nu}+2h_{\\alpha[\\nu}X_{\\mu] \\,  \\beta}+2V_\\nu V_{[\\beta}Y_{\\alpha] \\, \\mu}\n",
    "+ h_{\\beta\\nu}(X_0 \\, h_{\\alpha\\mu}-X_{\\alpha\\mu})+h_{\\beta\\mu}(X_{\\alpha\\nu} -X_0 \\, h_{\\alpha\\nu})\n",
    "$$\n",
    "\n",
    "$$\n",
    " + 2V_{[\\nu} Z_{ \\, \\mu]}^{\\gamma}\\varepsilon_{{\\alpha \\beta \\gamma}} +2V_{[\\beta} Z_{{\\,  \\ \\alpha]}}^{{\\gamma }}\\ \\varepsilon_{{\\mu \\nu \\gamma}} \\,,\n",
    "$$\n",
    "\n",
    "with $\\varepsilon_{\\mu \\nu \\gamma} = \\eta_{\\phi \\mu \\nu \\gamma} V^{\\phi}$, and  $ \\eta_{\\phi \\mu \\nu \\gamma}$ the Levi-Civita 4-tensor. \n"
   ]
  },
  {
   "cell_type": "code",
   "execution_count": 42,
   "id": "572ced36",
   "metadata": {},
   "outputs": [],
   "source": [
    "Y0=4*sy.pi*(rho+3*P)\n",
    "Y1=E-4*sy.pi*Delta\n",
    "X0=8*sy.pi*rho\n",
    "X1=-(E+4*sy.pi*Delta)\n",
    "Z=4*sy.pi*F"
   ]
  },
  {
   "cell_type": "code",
   "execution_count": 43,
   "id": "9db82760",
   "metadata": {},
   "outputs": [
    {
     "name": "stdout",
     "output_type": "stream",
     "text": [
      "Elements assigned correctly to the _a,_b components\n"
     ]
    },
    {
     "data": {
      "application/vnd.jupyter.widget-view+json": {
       "model_id": "b32f661bc7c4417b872eac27535ca40e",
       "version_major": 2,
       "version_minor": 0
      },
      "text/plain": [
       "Ydd Tensor $Ydd{^\\alpha}{_\\beta}$:   0%|          | 0/16 [00:00<?, ?it/s]"
      ]
     },
     "metadata": {},
     "output_type": "display_data"
    },
    {
     "data": {
      "application/vnd.jupyter.widget-view+json": {
       "model_id": "1453a1358e464d2288616a42e7371974",
       "version_major": 2,
       "version_minor": 0
      },
      "text/plain": [
       "Ydd Tensor $Ydd{^\\alpha}{^\\beta}$:   0%|          | 0/16 [00:00<?, ?it/s]"
      ]
     },
     "metadata": {},
     "output_type": "display_data"
    },
    {
     "data": {
      "application/vnd.jupyter.widget-view+json": {
       "model_id": "9838fef7be1143d89c75b2543635719a",
       "version_major": 2,
       "version_minor": 0
      },
      "text/plain": [
       "Ydd Tensor $Ydd{_\\alpha}{^\\beta}$:   0%|          | 0/16 [00:00<?, ?it/s]"
      ]
     },
     "metadata": {},
     "output_type": "display_data"
    },
    {
     "data": {
      "text/latex": [
       "All other indices of Ydd Tensor $Ydd$  already calculated."
      ],
      "text/plain": [
       "<IPython.core.display.Latex object>"
      ]
     },
     "metadata": {},
     "output_type": "display_data"
    },
    {
     "data": {
      "image/png": "[encoded data removed]",
      "text/latex": [
       "$\\displaystyle \\left[\\begin{matrix}0 & 0 & 0 & 0\\\\0 & \\frac{2 \\left(E{\\left(r \\right)} - 2 \\pi P{\\left(r \\right)} + 8 \\pi \\operatorname{Pt}{\\left(r \\right)} + 2 \\pi \\rho{\\left(r \\right)}\\right) e^{2 l{\\left(r \\right)}}}{3} & 0 & 0\\\\0 & 0 & \\frac{r^{2} \\left(- E{\\left(r \\right)} + 8 \\pi P{\\left(r \\right)} + 4 \\pi \\operatorname{Pt}{\\left(r \\right)} + 4 \\pi \\rho{\\left(r \\right)}\\right)}{3} & 0\\\\0 & 0 & 0 & \\frac{r^{2} \\left(- E{\\left(r \\right)} + 8 \\pi P{\\left(r \\right)} + 4 \\pi \\operatorname{Pt}{\\left(r \\right)} + 4 \\pi \\rho{\\left(r \\right)}\\right) \\sin^{2}{\\left(\\theta \\right)}}{3}\\end{matrix}\\right]$"
      ],
      "text/plain": [
       "⎡0                          0                                                0\n",
       "⎢                                                                             \n",
       "⎢                                               2⋅l(r)                        \n",
       "⎢   2⋅(E(r) - 2⋅π⋅P(r) + 8⋅π⋅Pt(r) + 2⋅π⋅ρ(r))⋅ℯ                              \n",
       "⎢0  ──────────────────────────────────────────────────                       0\n",
       "⎢                           3                                                 \n",
       "⎢                                                                             \n",
       "⎢                                                        2                    \n",
       "⎢                                                       r ⋅(-E(r) + 8⋅π⋅P(r) +\n",
       "⎢0                          0                           ──────────────────────\n",
       "⎢                                                                            3\n",
       "⎢                                                                             \n",
       "⎢                                                                             \n",
       "⎢                                                                             \n",
       "⎢0                          0                                                0\n",
       "⎣                                                                             \n",
       "\n",
       "                                                 0                          ⎤\n",
       "                                                                            ⎥\n",
       "                                                                            ⎥\n",
       "                                                                            ⎥\n",
       "                                                 0                          ⎥\n",
       "                                                                            ⎥\n",
       "                                                                            ⎥\n",
       "                                                                            ⎥\n",
       " 4⋅π⋅Pt(r) + 4⋅π⋅ρ(r))                                                      ⎥\n",
       "──────────────────────                           0                          ⎥\n",
       "                                                                            ⎥\n",
       "                                                                            ⎥\n",
       "                         2                                              2   ⎥\n",
       "                        r ⋅(-E(r) + 8⋅π⋅P(r) + 4⋅π⋅Pt(r) + 4⋅π⋅ρ(r))⋅sin (θ)⎥\n",
       "                        ────────────────────────────────────────────────────⎥\n",
       "                                                 3                          ⎦"
      ]
     },
     "metadata": {},
     "output_type": "display_data"
    }
   ],
   "source": [
    "Ydd= pt.ten('Ydd',2)\n",
    "Ydd.assign(Y0*hdd(\"_a,_b\")/3 + Y1*(Kd('_a')*Kd('_b') - hdd(\"_a,_b\")/3) ,\"_a,_b\")\n",
    "Ydd.simplify()\n",
    "Ydd.complete('_,_')\n",
    "Ydd.display('_,_')"
   ]
  },
  {
   "cell_type": "code",
   "execution_count": 44,
   "id": "40a7a3e2",
   "metadata": {},
   "outputs": [
    {
     "name": "stdout",
     "output_type": "stream",
     "text": [
      "Elements assigned correctly to the _a,_b components\n"
     ]
    },
    {
     "data": {
      "application/vnd.jupyter.widget-view+json": {
       "model_id": "9e32d3153d654dfd95db0d2b71f26b86",
       "version_major": 2,
       "version_minor": 0
      },
      "text/plain": [
       "Xdd Tensor $Xdd{^\\alpha}{_\\beta}$:   0%|          | 0/16 [00:00<?, ?it/s]"
      ]
     },
     "metadata": {},
     "output_type": "display_data"
    },
    {
     "data": {
      "application/vnd.jupyter.widget-view+json": {
       "model_id": "f8a01f73d4944101b9aca5d0fe599055",
       "version_major": 2,
       "version_minor": 0
      },
      "text/plain": [
       "Xdd Tensor $Xdd{^\\alpha}{^\\beta}$:   0%|          | 0/16 [00:00<?, ?it/s]"
      ]
     },
     "metadata": {},
     "output_type": "display_data"
    },
    {
     "data": {
      "application/vnd.jupyter.widget-view+json": {
       "model_id": "0738f09051344b7297d81ad63507d124",
       "version_major": 2,
       "version_minor": 0
      },
      "text/plain": [
       "Xdd Tensor $Xdd{_\\alpha}{^\\beta}$:   0%|          | 0/16 [00:00<?, ?it/s]"
      ]
     },
     "metadata": {},
     "output_type": "display_data"
    },
    {
     "data": {
      "text/latex": [
       "All other indices of Xdd Tensor $Xdd$  already calculated."
      ],
      "text/plain": [
       "<IPython.core.display.Latex object>"
      ]
     },
     "metadata": {},
     "output_type": "display_data"
    },
    {
     "data": {
      "image/png": "[encoded data removed]",
      "text/latex": [
       "$\\displaystyle \\left[\\begin{matrix}0 & 0 & 0 & 0\\\\0 & \\frac{2 \\left(- 4 \\pi \\left(P{\\left(r \\right)} - \\operatorname{Pt}{\\left(r \\right)}\\right) - E{\\left(r \\right)} + 4 \\pi \\rho{\\left(r \\right)}\\right) e^{2 l{\\left(r \\right)}}}{3} & 0 & 0\\\\0 & 0 & \\frac{r^{2} \\cdot \\left(4 \\pi \\left(P{\\left(r \\right)} - \\operatorname{Pt}{\\left(r \\right)}\\right) + E{\\left(r \\right)} + 8 \\pi \\rho{\\left(r \\right)}\\right)}{3} & 0\\\\0 & 0 & 0 & \\frac{r^{2} \\cdot \\left(4 \\pi \\left(P{\\left(r \\right)} - \\operatorname{Pt}{\\left(r \\right)}\\right) + E{\\left(r \\right)} + 8 \\pi \\rho{\\left(r \\right)}\\right) \\sin^{2}{\\left(\\theta \\right)}}{3}\\end{matrix}\\right]$"
      ],
      "text/plain": [
       "⎡0                          0                                              0  \n",
       "⎢                                                                             \n",
       "⎢                                              2⋅l(r)                         \n",
       "⎢   2⋅(-4⋅π⋅(P(r) - Pt(r)) - E(r) + 4⋅π⋅ρ(r))⋅ℯ                               \n",
       "⎢0  ─────────────────────────────────────────────────                      0  \n",
       "⎢                           3                                                 \n",
       "⎢                                                                             \n",
       "⎢                                                       2                     \n",
       "⎢                                                      r ⋅(4⋅π⋅(P(r) - Pt(r)) \n",
       "⎢0                          0                          ───────────────────────\n",
       "⎢                                                                          3  \n",
       "⎢                                                                             \n",
       "⎢                                                                             \n",
       "⎢                                                                             \n",
       "⎢0                          0                                              0  \n",
       "⎣                                                                             \n",
       "\n",
       "                                            0                        ⎤\n",
       "                                                                     ⎥\n",
       "                                                                     ⎥\n",
       "                                                                     ⎥\n",
       "                                            0                        ⎥\n",
       "                                                                     ⎥\n",
       "                                                                     ⎥\n",
       "                                                                     ⎥\n",
       "+ E(r) + 8⋅π⋅ρ(r))                                                   ⎥\n",
       "──────────────────                          0                        ⎥\n",
       "                                                                     ⎥\n",
       "                                                                     ⎥\n",
       "                     2                                           2   ⎥\n",
       "                    r ⋅(4⋅π⋅(P(r) - Pt(r)) + E(r) + 8⋅π⋅ρ(r))⋅sin (θ)⎥\n",
       "                    ─────────────────────────────────────────────────⎥\n",
       "                                            3                        ⎦"
      ]
     },
     "metadata": {},
     "output_type": "display_data"
    }
   ],
   "source": [
    "Xdd= pt.ten('Xdd',2)\n",
    "Xdd.assign(X0*hdd(\"_a,_b\")/3 + X1*(Kd('_a')*Kd('_b')-hdd(\"_a,_b\")/3) ,\"_a,_b\")\n",
    "Xdd.simplify()\n",
    "Xdd.complete('_,_')\n",
    "Xdd.display('_,_')"
   ]
  },
  {
   "cell_type": "code",
   "execution_count": 45,
   "id": "e0b5f839",
   "metadata": {},
   "outputs": [
    {
     "name": "stdout",
     "output_type": "stream",
     "text": [
      "Elements assigned correctly to the _a,_b components\n"
     ]
    },
    {
     "data": {
      "image/png": "[encoded data removed]",
      "text/latex": [
       "$\\displaystyle \\left[\\begin{matrix}0 & 0 & 0 & 0\\\\0 & 0 & 0 & 0\\\\0 & 0 & 0 & 0\\\\0 & 0 & 0 & 0\\end{matrix}\\right]$"
      ],
      "text/plain": [
       "⎡0  0  0  0⎤\n",
       "⎢          ⎥\n",
       "⎢0  0  0  0⎥\n",
       "⎢          ⎥\n",
       "⎢0  0  0  0⎥\n",
       "⎢          ⎥\n",
       "⎣0  0  0  0⎦"
      ]
     },
     "metadata": {},
     "output_type": "display_data"
    },
    {
     "data": {
      "application/vnd.jupyter.widget-view+json": {
       "model_id": "b61875dd929a49c9a500a5f9e99ba66b",
       "version_major": 2,
       "version_minor": 0
      },
      "text/plain": [
       "Zdd Tensor $Zdd{^\\alpha}{_\\beta}$:   0%|          | 0/16 [00:00<?, ?it/s]"
      ]
     },
     "metadata": {},
     "output_type": "display_data"
    },
    {
     "data": {
      "application/vnd.jupyter.widget-view+json": {
       "model_id": "3f820a4d21b0482c85dffad47f050ebe",
       "version_major": 2,
       "version_minor": 0
      },
      "text/plain": [
       "Zdd Tensor $Zdd{^\\alpha}{^\\beta}$:   0%|          | 0/16 [00:00<?, ?it/s]"
      ]
     },
     "metadata": {},
     "output_type": "display_data"
    },
    {
     "data": {
      "application/vnd.jupyter.widget-view+json": {
       "model_id": "d795f9bee70a4f03ba07811fea6c228d",
       "version_major": 2,
       "version_minor": 0
      },
      "text/plain": [
       "Zdd Tensor $Zdd{_\\alpha}{^\\beta}$:   0%|          | 0/16 [00:00<?, ?it/s]"
      ]
     },
     "metadata": {},
     "output_type": "display_data"
    },
    {
     "data": {
      "text/latex": [
       "All other indices of Zdd Tensor $Zdd$  already calculated."
      ],
      "text/plain": [
       "<IPython.core.display.Latex object>"
      ]
     },
     "metadata": {},
     "output_type": "display_data"
    }
   ],
   "source": [
    "Zdd= pt.ten('Zdd',2)\n",
    "Zdd.assign(Z*(Ld('_a')*Sd('_b')-Ld('_b')*Sd('_a')) ,\"_a,_b\")\n",
    "Zdd.simplify()\n",
    "Zdd.display('_,_')\n",
    "Zdd.complete('_,_')\n",
    "Zdd.simplify()"
   ]
  },
  {
   "cell_type": "code",
   "execution_count": 46,
   "id": "492ec580",
   "metadata": {},
   "outputs": [
    {
     "name": "stdout",
     "output_type": "stream",
     "text": [
      "Elements assigned correctly to the _b,_c,_d components\n"
     ]
    },
    {
     "data": {
      "image/png": "[encoded data removed]",
      "text/latex": [
       "$\\displaystyle e^{- \\nu{\\left(r \\right)}}$"
      ],
      "text/plain": [
       " -ν(r)\n",
       "ℯ     "
      ]
     },
     "execution_count": 46,
     "metadata": {},
     "output_type": "execute_result"
    }
   ],
   "source": [
    "LC = pt.lcivita(convention=1)\n",
    "eddd= pt.ten('eddd',3)\n",
    "eddd.assign(LC('_a,_b,_c,_d')*Vu('^a'), \"_b,_c,_d\")\n",
    "eddd.simplify()\n",
    "eddd('_1,_2,_3')"
   ]
  },
  {
   "cell_type": "code",
   "execution_count": 47,
   "id": "e047e465",
   "metadata": {},
   "outputs": [
    {
     "name": "stdout",
     "output_type": "stream",
     "text": [
      "Elements assigned correctly to the _a,_b,_c,_d components\n"
     ]
    },
    {
     "data": {
      "application/vnd.jupyter.widget-view+json": {
       "model_id": "05bbe551033747f1b7d17d4dff3f7907",
       "version_major": 2,
       "version_minor": 0
      },
      "text/plain": [
       "Rdddd Tensor $Rdddd{^\\alpha}{_\\beta}{_\\gamma}{_\\delta}$:   0%|          | 0/256 [00:00<?, ?it/s]"
      ]
     },
     "metadata": {},
     "output_type": "display_data"
    },
    {
     "data": {
      "application/vnd.jupyter.widget-view+json": {
       "model_id": "60c24f4251d0408b812020c1d6692385",
       "version_major": 2,
       "version_minor": 0
      },
      "text/plain": [
       "Rdddd Tensor $Rdddd{^\\alpha}{^\\beta}{_\\gamma}{_\\delta}$:   0%|          | 0/256 [00:00<?, ?it/s]"
      ]
     },
     "metadata": {},
     "output_type": "display_data"
    },
    {
     "data": {
      "application/vnd.jupyter.widget-view+json": {
       "model_id": "5869a22525e64f8193bbe744e0941f75",
       "version_major": 2,
       "version_minor": 0
      },
      "text/plain": [
       "Rdddd Tensor $Rdddd{^\\alpha}{^\\beta}{^\\gamma}{_\\delta}$:   0%|          | 0/256 [00:00<?, ?it/s]"
      ]
     },
     "metadata": {},
     "output_type": "display_data"
    },
    {
     "data": {
      "application/vnd.jupyter.widget-view+json": {
       "model_id": "14f4165fd19d4b75bc502b51dba131d6",
       "version_major": 2,
       "version_minor": 0
      },
      "text/plain": [
       "Rdddd Tensor $Rdddd{^\\alpha}{^\\beta}{^\\gamma}{^\\delta}$:   0%|          | 0/256 [00:00<?, ?it/s]"
      ]
     },
     "metadata": {},
     "output_type": "display_data"
    },
    {
     "data": {
      "application/vnd.jupyter.widget-view+json": {
       "model_id": "cd7dba217c1a4e4bbc367938f4cc2a4a",
       "version_major": 2,
       "version_minor": 0
      },
      "text/plain": [
       "Rdddd Tensor $Rdddd{^\\alpha}{^\\beta}{_\\gamma}{^\\delta}$:   0%|          | 0/256 [00:00<?, ?it/s]"
      ]
     },
     "metadata": {},
     "output_type": "display_data"
    },
    {
     "data": {
      "application/vnd.jupyter.widget-view+json": {
       "model_id": "bffc1d4a56764f6ca53d5c1795fdd7d6",
       "version_major": 2,
       "version_minor": 0
      },
      "text/plain": [
       "Rdddd Tensor $Rdddd{^\\alpha}{_\\beta}{^\\gamma}{_\\delta}$:   0%|          | 0/256 [00:00<?, ?it/s]"
      ]
     },
     "metadata": {},
     "output_type": "display_data"
    },
    {
     "data": {
      "application/vnd.jupyter.widget-view+json": {
       "model_id": "b7f1eed421144068a0d701b16280bb54",
       "version_major": 2,
       "version_minor": 0
      },
      "text/plain": [
       "Rdddd Tensor $Rdddd{^\\alpha}{_\\beta}{^\\gamma}{^\\delta}$:   0%|          | 0/256 [00:00<?, ?it/s]"
      ]
     },
     "metadata": {},
     "output_type": "display_data"
    },
    {
     "data": {
      "application/vnd.jupyter.widget-view+json": {
       "model_id": "73fd358221874dcaad889b9a606587f8",
       "version_major": 2,
       "version_minor": 0
      },
      "text/plain": [
       "Rdddd Tensor $Rdddd{^\\alpha}{_\\beta}{_\\gamma}{^\\delta}$:   0%|          | 0/256 [00:00<?, ?it/s]"
      ]
     },
     "metadata": {},
     "output_type": "display_data"
    },
    {
     "data": {
      "application/vnd.jupyter.widget-view+json": {
       "model_id": "ed9b3d5990894bf2abb3407b7b50cca5",
       "version_major": 2,
       "version_minor": 0
      },
      "text/plain": [
       "Rdddd Tensor $Rdddd{_\\alpha}{^\\beta}{_\\gamma}{_\\delta}$:   0%|          | 0/256 [00:00<?, ?it/s]"
      ]
     },
     "metadata": {},
     "output_type": "display_data"
    },
    {
     "data": {
      "application/vnd.jupyter.widget-view+json": {
       "model_id": "966c5fa68f374e23a98884ccfe8c98aa",
       "version_major": 2,
       "version_minor": 0
      },
      "text/plain": [
       "Rdddd Tensor $Rdddd{_\\alpha}{^\\beta}{^\\gamma}{_\\delta}$:   0%|          | 0/256 [00:00<?, ?it/s]"
      ]
     },
     "metadata": {},
     "output_type": "display_data"
    },
    {
     "data": {
      "application/vnd.jupyter.widget-view+json": {
       "model_id": "a6c3ff4453f8499c94221446254f8020",
       "version_major": 2,
       "version_minor": 0
      },
      "text/plain": [
       "Rdddd Tensor $Rdddd{_\\alpha}{^\\beta}{^\\gamma}{^\\delta}$:   0%|          | 0/256 [00:00<?, ?it/s]"
      ]
     },
     "metadata": {},
     "output_type": "display_data"
    },
    {
     "data": {
      "application/vnd.jupyter.widget-view+json": {
       "model_id": "b9fc0ede6f0a4e178daccf79546d8848",
       "version_major": 2,
       "version_minor": 0
      },
      "text/plain": [
       "Rdddd Tensor $Rdddd{_\\alpha}{^\\beta}{_\\gamma}{^\\delta}$:   0%|          | 0/256 [00:00<?, ?it/s]"
      ]
     },
     "metadata": {},
     "output_type": "display_data"
    },
    {
     "data": {
      "application/vnd.jupyter.widget-view+json": {
       "model_id": "5ef2ff00655f43be91c9ffdb241890a6",
       "version_major": 2,
       "version_minor": 0
      },
      "text/plain": [
       "Rdddd Tensor $Rdddd{_\\alpha}{_\\beta}{^\\gamma}{_\\delta}$:   0%|          | 0/256 [00:00<?, ?it/s]"
      ]
     },
     "metadata": {},
     "output_type": "display_data"
    },
    {
     "data": {
      "application/vnd.jupyter.widget-view+json": {
       "model_id": "1fcea0964635424a900652dcdd05a68e",
       "version_major": 2,
       "version_minor": 0
      },
      "text/plain": [
       "Rdddd Tensor $Rdddd{_\\alpha}{_\\beta}{^\\gamma}{^\\delta}$:   0%|          | 0/256 [00:00<?, ?it/s]"
      ]
     },
     "metadata": {},
     "output_type": "display_data"
    },
    {
     "data": {
      "application/vnd.jupyter.widget-view+json": {
       "model_id": "31d19da27aa74e99b943a3e896b82392",
       "version_major": 2,
       "version_minor": 0
      },
      "text/plain": [
       "Rdddd Tensor $Rdddd{_\\alpha}{_\\beta}{_\\gamma}{^\\delta}$:   0%|          | 0/256 [00:00<?, ?it/s]"
      ]
     },
     "metadata": {},
     "output_type": "display_data"
    },
    {
     "data": {
      "text/latex": [
       "All other indices of Rdddd Tensor $Rdddd$  already calculated."
      ],
      "text/plain": [
       "<IPython.core.display.Latex object>"
      ]
     },
     "metadata": {},
     "output_type": "display_data"
    }
   ],
   "source": [
    "Rdddd= pt.ten('Rdddd',4)\n",
    "Rdddd.assign(Vd('_c')*Vd('_a')*Ydd('_b,_d')-Vd('_c')*Vd('_b')*Ydd('_a,_d') + \\\n",
    "             Vd('_d')*Vd('_b')*Ydd('_a,_c')-Vd('_d')*Vd('_a')*Ydd('_b,_c') + \\\n",
    "             hdd(\"_a,_d\")*Xdd('_c,_b')- hdd(\"_a,_c\")*Xdd('_d,_b') +\\\n",
    "             hdd(\"_b,_d\")*(X0*hdd(\"_a,_c\")-Xdd('_a,_c') ) + \\\n",
    "             hdd(\"_b,_c\")*(Xdd('_a,_d')-X0*hdd(\"_a,_d\") ) + \\\n",
    "             Vd('_d')*Zdd('^e,_c')*eddd(\"_a,_b,_e\")- Vd('_c')*Zdd('^e,_d')*eddd(\"_a,_b,_e\") + \n",
    "             Vd('_b')*Zdd('^e,_a')*eddd(\"_c,_d,_e\")- Vd('_a')*Zdd('^e,_b')*eddd(\"_c,_d,_e\") , \"_a,_b,_c,_d\")\n",
    "Rdddd.simplify()\n",
    "#Rdddd.display('_,_,_,_')\n",
    "Rdddd.complete('_,_,_,_')"
   ]
  },
  {
   "cell_type": "code",
   "execution_count": 48,
   "id": "226fcc99",
   "metadata": {},
   "outputs": [
    {
     "name": "stdout",
     "output_type": "stream",
     "text": [
      "Elements assigned correctly to the _a,_c components\n"
     ]
    },
    {
     "data": {
      "application/vnd.jupyter.widget-view+json": {
       "model_id": "51ba37e5702043acafb2b56f5cf7ed97",
       "version_major": 2,
       "version_minor": 0
      },
      "text/plain": [
       "Rdd Tensor $Rdd{^\\alpha}{_\\beta}$:   0%|          | 0/16 [00:00<?, ?it/s]"
      ]
     },
     "metadata": {},
     "output_type": "display_data"
    },
    {
     "data": {
      "application/vnd.jupyter.widget-view+json": {
       "model_id": "02f05c891ea7400ebde1de566910f168",
       "version_major": 2,
       "version_minor": 0
      },
      "text/plain": [
       "Rdd Tensor $Rdd{^\\alpha}{^\\beta}$:   0%|          | 0/16 [00:00<?, ?it/s]"
      ]
     },
     "metadata": {},
     "output_type": "display_data"
    },
    {
     "data": {
      "application/vnd.jupyter.widget-view+json": {
       "model_id": "97ea62c02bbd4f7faf65caa260ebc9a1",
       "version_major": 2,
       "version_minor": 0
      },
      "text/plain": [
       "Rdd Tensor $Rdd{_\\alpha}{^\\beta}$:   0%|          | 0/16 [00:00<?, ?it/s]"
      ]
     },
     "metadata": {},
     "output_type": "display_data"
    },
    {
     "data": {
      "text/latex": [
       "All other indices of Rdd Tensor $Rdd$  already calculated."
      ],
      "text/plain": [
       "<IPython.core.display.Latex object>"
      ]
     },
     "metadata": {},
     "output_type": "display_data"
    },
    {
     "data": {
      "image/png": "[encoded data removed]",
      "text/latex": [
       "$\\displaystyle \\left[\\begin{matrix}4 \\pi \\left(P{\\left(r \\right)} + 2 \\operatorname{Pt}{\\left(r \\right)} + \\rho{\\left(r \\right)}\\right) e^{2 \\nu{\\left(r \\right)}} & 0 & 0 & 0\\\\0 & \\frac{2 \\cdot \\left(4 \\pi \\left(P{\\left(r \\right)} - \\operatorname{Pt}{\\left(r \\right)}\\right) + E{\\left(r \\right)} + 8 \\pi \\rho{\\left(r \\right)}\\right) e^{2 l{\\left(r \\right)}}}{3} & 0 & 0\\\\0 & 0 & \\frac{r^{2} \\left(- 4 \\pi \\left(P{\\left(r \\right)} - \\operatorname{Pt}{\\left(r \\right)}\\right) - E{\\left(r \\right)} + 16 \\pi \\rho{\\left(r \\right)}\\right)}{3} & 0\\\\0 & 0 & 0 & \\frac{r^{2} \\left(- 4 \\pi \\left(P{\\left(r \\right)} - \\operatorname{Pt}{\\left(r \\right)}\\right) - E{\\left(r \\right)} + 16 \\pi \\rho{\\left(r \\right)}\\right) \\sin^{2}{\\left(\\theta \\right)}}{3}\\end{matrix}\\right]$"
      ],
      "text/plain": [
       "⎡                             2⋅ν(r)                                          \n",
       "⎢4⋅π⋅(P(r) + 2⋅Pt(r) + ρ(r))⋅ℯ                               0                \n",
       "⎢                                                                             \n",
       "⎢                                                                             \n",
       "⎢                                     2⋅(4⋅π⋅(P(r) - Pt(r)) + E(r) + 8⋅π⋅ρ(r))\n",
       "⎢                 0                   ────────────────────────────────────────\n",
       "⎢                                                            3                \n",
       "⎢                                                                             \n",
       "⎢                                                                             \n",
       "⎢                                                                             \n",
       "⎢                 0                                          0                \n",
       "⎢                                                                             \n",
       "⎢                                                                             \n",
       "⎢                                                                             \n",
       "⎢                                                                             \n",
       "⎢                 0                                          0                \n",
       "⎣                                                                             \n",
       "\n",
       "                                                                              \n",
       "                               0                                              \n",
       "                                                                              \n",
       "  2⋅l(r)                                                                      \n",
       "⋅ℯ                                                                            \n",
       "────────                       0                                              \n",
       "                                                                              \n",
       "                                                                              \n",
       "           2                                                                  \n",
       "          r ⋅(-4⋅π⋅(P(r) - Pt(r)) - E(r) + 16⋅π⋅ρ(r))                         \n",
       "          ───────────────────────────────────────────                         \n",
       "                               3                                              \n",
       "                                                                              \n",
       "                                                        2                     \n",
       "                                                       r ⋅(-4⋅π⋅(P(r) - Pt(r))\n",
       "                               0                       ───────────────────────\n",
       "                                                                              \n",
       "\n",
       "                            ⎤\n",
       "  0                         ⎥\n",
       "                            ⎥\n",
       "                            ⎥\n",
       "                            ⎥\n",
       "  0                         ⎥\n",
       "                            ⎥\n",
       "                            ⎥\n",
       "                            ⎥\n",
       "                            ⎥\n",
       "  0                         ⎥\n",
       "                            ⎥\n",
       "                            ⎥\n",
       "                        2   ⎥\n",
       " - E(r) + 16⋅π⋅ρ(r))⋅sin (θ)⎥\n",
       "────────────────────────────⎥\n",
       "  3                         ⎦"
      ]
     },
     "metadata": {},
     "output_type": "display_data"
    }
   ],
   "source": [
    "Rdd= pt.ten('Rdd',2)\n",
    "Rdd.assign(Y0*Vd('_a')*Vd('_c') - Xdd('_a,_c') + X0*hdd(\"_a,_c\") +\\\n",
    "           Zdd('^d,^b')*eddd(\"_c,_d,_b\")*Vd('_a') + \\\n",
    "           Vd('_c')*Zdd('^d,^b')*eddd(\"_a,_d,_b\"), \"_a,_c\")\n",
    "Rdd.complete('_,_')    \n",
    "Rdd.simplify()\n",
    "Rdd.display('_,_')"
   ]
  },
  {
   "cell_type": "code",
   "execution_count": 49,
   "id": "3f0e6421",
   "metadata": {},
   "outputs": [
    {
     "data": {
      "image/png": "[encoded data removed]",
      "text/latex": [
       "$\\displaystyle 8 \\pi \\left(- P{\\left(r \\right)} - 2 \\operatorname{Pt}{\\left(r \\right)} + \\rho{\\left(r \\right)}\\right)$"
      ],
      "text/plain": [
       "8⋅π⋅(-P(r) - 2⋅Pt(r) + ρ(r))"
      ]
     },
     "execution_count": 49,
     "metadata": {},
     "output_type": "execute_result"
    }
   ],
   "source": [
    "Rs=Rdddd('_a,_b,^a,_d')*g('^b,^d')\n",
    "Rs.simplify()"
   ]
  },
  {
   "cell_type": "code",
   "execution_count": 50,
   "id": "eb78e5e8",
   "metadata": {},
   "outputs": [
    {
     "data": {
      "image/png": "[encoded data removed]",
      "text/latex": [
       "$\\displaystyle 8 \\pi \\left(- P{\\left(r \\right)} - 2 \\operatorname{Pt}{\\left(r \\right)} + \\rho{\\left(r \\right)}\\right)$"
      ],
      "text/plain": [
       "8⋅π⋅(-P(r) - 2⋅Pt(r) + ρ(r))"
      ]
     },
     "execution_count": 50,
     "metadata": {},
     "output_type": "execute_result"
    }
   ],
   "source": [
    "simplify(6*X0-4*Xdd(('^a,_a'))-2*Ydd(('^a,_a')))"
   ]
  },
  {
   "cell_type": "code",
   "execution_count": 51,
   "id": "29ebdf7a",
   "metadata": {},
   "outputs": [
    {
     "name": "stdout",
     "output_type": "stream",
     "text": [
      "Elements assigned correctly to the _a,_b,_c,_d components\n"
     ]
    },
    {
     "data": {
      "application/vnd.jupyter.widget-view+json": {
       "model_id": "43c0f9dbbb094675bafc6e1ba346ef81",
       "version_major": 2,
       "version_minor": 0
      },
      "text/plain": [
       "Cdddd Tensor $Cdddd{^\\alpha}{_\\beta}{_\\gamma}{_\\delta}$:   0%|          | 0/256 [00:00<?, ?it/s]"
      ]
     },
     "metadata": {},
     "output_type": "display_data"
    },
    {
     "data": {
      "application/vnd.jupyter.widget-view+json": {
       "model_id": "1e87e9e71e4f475b8232e84b7fe49056",
       "version_major": 2,
       "version_minor": 0
      },
      "text/plain": [
       "Cdddd Tensor $Cdddd{^\\alpha}{^\\beta}{_\\gamma}{_\\delta}$:   0%|          | 0/256 [00:00<?, ?it/s]"
      ]
     },
     "metadata": {},
     "output_type": "display_data"
    },
    {
     "data": {
      "application/vnd.jupyter.widget-view+json": {
       "model_id": "f163a64ad17f43a784b4ce74d392340a",
       "version_major": 2,
       "version_minor": 0
      },
      "text/plain": [
       "Cdddd Tensor $Cdddd{^\\alpha}{^\\beta}{^\\gamma}{_\\delta}$:   0%|          | 0/256 [00:00<?, ?it/s]"
      ]
     },
     "metadata": {},
     "output_type": "display_data"
    },
    {
     "data": {
      "application/vnd.jupyter.widget-view+json": {
       "model_id": "63d65b05e4454f7d91d827961880e71e",
       "version_major": 2,
       "version_minor": 0
      },
      "text/plain": [
       "Cdddd Tensor $Cdddd{^\\alpha}{^\\beta}{^\\gamma}{^\\delta}$:   0%|          | 0/256 [00:00<?, ?it/s]"
      ]
     },
     "metadata": {},
     "output_type": "display_data"
    },
    {
     "data": {
      "application/vnd.jupyter.widget-view+json": {
       "model_id": "3913f45153124b49b1d118ee757af2e3",
       "version_major": 2,
       "version_minor": 0
      },
      "text/plain": [
       "Cdddd Tensor $Cdddd{^\\alpha}{^\\beta}{_\\gamma}{^\\delta}$:   0%|          | 0/256 [00:00<?, ?it/s]"
      ]
     },
     "metadata": {},
     "output_type": "display_data"
    },
    {
     "data": {
      "application/vnd.jupyter.widget-view+json": {
       "model_id": "e7e238fc2b834304ac42b414360aef3b",
       "version_major": 2,
       "version_minor": 0
      },
      "text/plain": [
       "Cdddd Tensor $Cdddd{^\\alpha}{_\\beta}{^\\gamma}{_\\delta}$:   0%|          | 0/256 [00:00<?, ?it/s]"
      ]
     },
     "metadata": {},
     "output_type": "display_data"
    },
    {
     "data": {
      "application/vnd.jupyter.widget-view+json": {
       "model_id": "f8fee22146fa4d50967511636ea14c67",
       "version_major": 2,
       "version_minor": 0
      },
      "text/plain": [
       "Cdddd Tensor $Cdddd{^\\alpha}{_\\beta}{^\\gamma}{^\\delta}$:   0%|          | 0/256 [00:00<?, ?it/s]"
      ]
     },
     "metadata": {},
     "output_type": "display_data"
    },
    {
     "data": {
      "application/vnd.jupyter.widget-view+json": {
       "model_id": "fc437d90065c4c86be38eb9caa3adb82",
       "version_major": 2,
       "version_minor": 0
      },
      "text/plain": [
       "Cdddd Tensor $Cdddd{^\\alpha}{_\\beta}{_\\gamma}{^\\delta}$:   0%|          | 0/256 [00:00<?, ?it/s]"
      ]
     },
     "metadata": {},
     "output_type": "display_data"
    },
    {
     "data": {
      "application/vnd.jupyter.widget-view+json": {
       "model_id": "8b955a693164473ab109a94be2112336",
       "version_major": 2,
       "version_minor": 0
      },
      "text/plain": [
       "Cdddd Tensor $Cdddd{_\\alpha}{^\\beta}{_\\gamma}{_\\delta}$:   0%|          | 0/256 [00:00<?, ?it/s]"
      ]
     },
     "metadata": {},
     "output_type": "display_data"
    },
    {
     "data": {
      "application/vnd.jupyter.widget-view+json": {
       "model_id": "ecdc38dc417a4c6f9cffa20560846a3d",
       "version_major": 2,
       "version_minor": 0
      },
      "text/plain": [
       "Cdddd Tensor $Cdddd{_\\alpha}{^\\beta}{^\\gamma}{_\\delta}$:   0%|          | 0/256 [00:00<?, ?it/s]"
      ]
     },
     "metadata": {},
     "output_type": "display_data"
    },
    {
     "data": {
      "application/vnd.jupyter.widget-view+json": {
       "model_id": "97ae137ab638438c8e5b43ad9e70c573",
       "version_major": 2,
       "version_minor": 0
      },
      "text/plain": [
       "Cdddd Tensor $Cdddd{_\\alpha}{^\\beta}{^\\gamma}{^\\delta}$:   0%|          | 0/256 [00:00<?, ?it/s]"
      ]
     },
     "metadata": {},
     "output_type": "display_data"
    },
    {
     "data": {
      "application/vnd.jupyter.widget-view+json": {
       "model_id": "7f1e04e27c2847e98a9ab6ab0f9f3b16",
       "version_major": 2,
       "version_minor": 0
      },
      "text/plain": [
       "Cdddd Tensor $Cdddd{_\\alpha}{^\\beta}{_\\gamma}{^\\delta}$:   0%|          | 0/256 [00:00<?, ?it/s]"
      ]
     },
     "metadata": {},
     "output_type": "display_data"
    },
    {
     "data": {
      "application/vnd.jupyter.widget-view+json": {
       "model_id": "b19b989bfe374e4690acb5cb6b34af2c",
       "version_major": 2,
       "version_minor": 0
      },
      "text/plain": [
       "Cdddd Tensor $Cdddd{_\\alpha}{_\\beta}{^\\gamma}{_\\delta}$:   0%|          | 0/256 [00:00<?, ?it/s]"
      ]
     },
     "metadata": {},
     "output_type": "display_data"
    },
    {
     "data": {
      "application/vnd.jupyter.widget-view+json": {
       "model_id": "a9e9ddff94dd4480b0353c4a7f0aa9d0",
       "version_major": 2,
       "version_minor": 0
      },
      "text/plain": [
       "Cdddd Tensor $Cdddd{_\\alpha}{_\\beta}{^\\gamma}{^\\delta}$:   0%|          | 0/256 [00:00<?, ?it/s]"
      ]
     },
     "metadata": {},
     "output_type": "display_data"
    },
    {
     "data": {
      "application/vnd.jupyter.widget-view+json": {
       "model_id": "72d77ca0dcde464490a3ed26e01ebcc7",
       "version_major": 2,
       "version_minor": 0
      },
      "text/plain": [
       "Cdddd Tensor $Cdddd{_\\alpha}{_\\beta}{_\\gamma}{^\\delta}$:   0%|          | 0/256 [00:00<?, ?it/s]"
      ]
     },
     "metadata": {},
     "output_type": "display_data"
    },
    {
     "data": {
      "text/latex": [
       "All other indices of Cdddd Tensor $Cdddd$  already calculated."
      ],
      "text/plain": [
       "<IPython.core.display.Latex object>"
      ]
     },
     "metadata": {},
     "output_type": "display_data"
    },
    {
     "data": {
      "image/png": "[encoded data removed]",
      "text/latex": [
       "$\\displaystyle \\frac{r^{2} \\left(- E{\\left(r \\right)} - 12 \\pi P{\\left(r \\right)} - 12 \\pi \\operatorname{Pt}{\\left(r \\right)}\\right)}{3}$"
      ],
      "text/plain": [
       " 2                                 \n",
       "r ⋅(-E(r) - 12⋅π⋅P(r) - 12⋅π⋅Pt(r))\n",
       "───────────────────────────────────\n",
       "                 3                 "
      ]
     },
     "execution_count": 51,
     "metadata": {},
     "output_type": "execute_result"
    }
   ],
   "source": [
    "Cdddd= pt.ten('Cdddd',4)\n",
    "Cdddd.assign(Rdddd('_a,_b,_c,_d') - (g('_a,_c')*Rdd('_d,_b') - g('_a,_d')*Rdd('_c,_b'))/2 + \\\n",
    "                                    (g('_b,_c')*Rdd('_d,_a') - g('_b,_d')*Rdd('_c,_a'))/2 + \\\n",
    "            (Rs*(g('_a,_c')*g('_d,_b')- g('_a,_d')*g('_c,_b')))/3 , '_a,_b,_c,_d') \n",
    "Cdddd.simplify()\n",
    "Cdddd.complete('_,_,_,_')\n",
    "Cdddd('^3,_2,_3,_2')"
   ]
  },
  {
   "cell_type": "code",
   "execution_count": 52,
   "id": "24cef243",
   "metadata": {},
   "outputs": [
    {
     "name": "stdout",
     "output_type": "stream",
     "text": [
      "Elements assigned correctly to the _a,_b components\n"
     ]
    },
    {
     "data": {
      "application/vnd.jupyter.widget-view+json": {
       "model_id": "2728ade0954249cdb0befdc7ca1f8083",
       "version_major": 2,
       "version_minor": 0
      },
      "text/plain": [
       "Edd Tensor $Edd{^\\alpha}{_\\beta}$:   0%|          | 0/16 [00:00<?, ?it/s]"
      ]
     },
     "metadata": {},
     "output_type": "display_data"
    },
    {
     "data": {
      "application/vnd.jupyter.widget-view+json": {
       "model_id": "dcaaa5fe0fa14b3ea3476f2c6103317f",
       "version_major": 2,
       "version_minor": 0
      },
      "text/plain": [
       "Edd Tensor $Edd{^\\alpha}{^\\beta}$:   0%|          | 0/16 [00:00<?, ?it/s]"
      ]
     },
     "metadata": {},
     "output_type": "display_data"
    },
    {
     "data": {
      "application/vnd.jupyter.widget-view+json": {
       "model_id": "18766cc06f134bdd985c929e88ad1489",
       "version_major": 2,
       "version_minor": 0
      },
      "text/plain": [
       "Edd Tensor $Edd{_\\alpha}{^\\beta}$:   0%|          | 0/16 [00:00<?, ?it/s]"
      ]
     },
     "metadata": {},
     "output_type": "display_data"
    },
    {
     "data": {
      "text/latex": [
       "All other indices of Edd Tensor $Edd$  already calculated."
      ],
      "text/plain": [
       "<IPython.core.display.Latex object>"
      ]
     },
     "metadata": {},
     "output_type": "display_data"
    },
    {
     "data": {
      "image/png": "[encoded data removed]",
      "text/latex": [
       "$\\displaystyle \\left[\\begin{matrix}0 & 0 & 0 & 0\\\\0 & E{\\left(r \\right)} + \\frac{2 \\pi P{\\left(r \\right)}}{3} + \\frac{16 \\pi \\operatorname{Pt}{\\left(r \\right)}}{3} - \\frac{2 \\pi \\rho{\\left(r \\right)}}{3} & 0 & 0\\\\0 & 0 & - \\frac{E{\\left(r \\right)}}{2} + \\frac{8 \\pi P{\\left(r \\right)}}{3} + \\frac{10 \\pi \\operatorname{Pt}{\\left(r \\right)}}{3} - \\frac{2 \\pi \\rho{\\left(r \\right)}}{3} & 0\\\\0 & 0 & 0 & - \\frac{E{\\left(r \\right)}}{2} + \\frac{8 \\pi P{\\left(r \\right)}}{3} + \\frac{10 \\pi \\operatorname{Pt}{\\left(r \\right)}}{3} - \\frac{2 \\pi \\rho{\\left(r \\right)}}{3}\\end{matrix}\\right]$"
      ],
      "text/plain": [
       "⎡0                     0                                         0            \n",
       "⎢                                                                             \n",
       "⎢          2⋅π⋅P(r)   16⋅π⋅Pt(r)   2⋅π⋅ρ(r)                                   \n",
       "⎢0  E(r) + ──────── + ────────── - ────────                      0            \n",
       "⎢             3           3           3                                       \n",
       "⎢                                                                             \n",
       "⎢                                              E(r)   8⋅π⋅P(r)   10⋅π⋅Pt(r)   \n",
       "⎢0                     0                     - ──── + ──────── + ────────── - \n",
       "⎢                                               2        3           3        \n",
       "⎢                                                                             \n",
       "⎢                                                                             \n",
       "⎢0                     0                                         0            \n",
       "⎣                                                                             \n",
       "\n",
       "                              0                    ⎤\n",
       "                                                   ⎥\n",
       "                                                   ⎥\n",
       "                              0                    ⎥\n",
       "                                                   ⎥\n",
       "                                                   ⎥\n",
       "2⋅π⋅ρ(r)                                           ⎥\n",
       "────────                      0                    ⎥\n",
       "   3                                               ⎥\n",
       "                                                   ⎥\n",
       "            E(r)   8⋅π⋅P(r)   10⋅π⋅Pt(r)   2⋅π⋅ρ(r)⎥\n",
       "          - ──── + ──────── + ────────── - ────────⎥\n",
       "             2        3           3           3    ⎦"
      ]
     },
     "metadata": {},
     "output_type": "display_data"
    }
   ],
   "source": [
    "Edd=pt.ten('Edd',2)\n",
    "Edd.assign( Cdddd('_a,_c,_b,_d')*Vu('^c')*Vu('^d') ,'_a,_b')\n",
    "Edd.complete('_,_')\n",
    "Edd.simplify()\n",
    "Edd.display('^,_')"
   ]
  },
  {
   "cell_type": "code",
   "execution_count": 53,
   "id": "2d3f2a4a",
   "metadata": {},
   "outputs": [
    {
     "data": {
      "image/png": "[encoded data removed]",
      "text/latex": [
       "$\\displaystyle \\frac{\\left(\\left(\\frac{d}{d r} l{\\left(r \\right)} + \\frac{1}{r}\\right) \\left(- \\frac{d}{d r} \\nu{\\left(r \\right)} + \\frac{1}{r}\\right) + \\left(\\frac{d}{d r} \\nu{\\left(r \\right)}\\right)^{2} + \\frac{d^{2}}{d r^{2}} \\nu{\\left(r \\right)}\\right) e^{- 2 l{\\left(r \\right)}}}{2} - \\frac{1}{2 r^{2}}$"
      ],
      "text/plain": [
       "⎛                                            2     2      ⎞                \n",
       "⎜⎛d          1⎞ ⎛  d          1⎞   ⎛d       ⎞     d       ⎟  -2⋅l(r)       \n",
       "⎜⎜──(l(r)) + ─⎟⋅⎜- ──(ν(r)) + ─⎟ + ⎜──(ν(r))⎟  + ───(ν(r))⎟⋅ℯ              \n",
       "⎜⎝dr         r⎠ ⎝  dr         r⎠   ⎝dr      ⎠      2      ⎟                \n",
       "⎝                                                dr       ⎠             1  \n",
       "──────────────────────────────────────────────────────────────────── - ────\n",
       "                                 2                                        2\n",
       "                                                                       2⋅r "
      ]
     },
     "execution_count": 53,
     "metadata": {},
     "output_type": "execute_result"
    }
   ],
   "source": [
    "Ec=1/(2*A**2)*( C.diff(t,t)/(C)- B.diff(t,t)/(B) - (C.diff(t)/(C)-B.diff(t)/(B))*(A.diff(t)/(A)-C.diff(t)/(C))  ) + \\\n",
    "    + 1/(2*B**2)*( A.diff(r,r)/(A)- C.diff(r,r)/(C) + (B.diff(r)/(B)+C.diff(r)/(C))*(C.diff(r)/(C)-A.diff(r)/(A))) - 1/(2*C**2)\n",
    "Ec"
   ]
  },
  {
   "cell_type": "code",
   "execution_count": 54,
   "id": "590ab7d6",
   "metadata": {},
   "outputs": [
    {
     "name": "stdout",
     "output_type": "stream",
     "text": [
      "Elements assigned correctly to the _a,_b components\n"
     ]
    },
    {
     "data": {
      "application/vnd.jupyter.widget-view+json": {
       "model_id": "b315cb3dc5b54545a025ed3170c590e4",
       "version_major": 2,
       "version_minor": 0
      },
      "text/plain": [
       "Edd2 Tensor $Edd2{^\\alpha}{_\\beta}$:   0%|          | 0/16 [00:00<?, ?it/s]"
      ]
     },
     "metadata": {},
     "output_type": "display_data"
    },
    {
     "data": {
      "application/vnd.jupyter.widget-view+json": {
       "model_id": "df79cd3b17204d6ca4b7d060d5dac2e3",
       "version_major": 2,
       "version_minor": 0
      },
      "text/plain": [
       "Edd2 Tensor $Edd2{^\\alpha}{^\\beta}$:   0%|          | 0/16 [00:00<?, ?it/s]"
      ]
     },
     "metadata": {},
     "output_type": "display_data"
    },
    {
     "data": {
      "application/vnd.jupyter.widget-view+json": {
       "model_id": "601cb7c43a98400b8a316a045a8b01d6",
       "version_major": 2,
       "version_minor": 0
      },
      "text/plain": [
       "Edd2 Tensor $Edd2{_\\alpha}{^\\beta}$:   0%|          | 0/16 [00:00<?, ?it/s]"
      ]
     },
     "metadata": {},
     "output_type": "display_data"
    },
    {
     "data": {
      "text/latex": [
       "All other indices of Edd2 Tensor $Edd2$  already calculated."
      ],
      "text/plain": [
       "<IPython.core.display.Latex object>"
      ]
     },
     "metadata": {},
     "output_type": "display_data"
    },
    {
     "data": {
      "image/png": "[encoded data removed]",
      "text/latex": [
       "$\\displaystyle \\left[\\begin{matrix}0 & 0 & 0 & 0\\\\0 & \\frac{\\left(r^{2} \\left(\\left(\\frac{d}{d r} \\nu{\\left(r \\right)}\\right)^{2} + \\frac{d^{2}}{d r^{2}} \\nu{\\left(r \\right)}\\right) - \\left(r \\frac{d}{d r} l{\\left(r \\right)} + 1\\right) \\left(r \\frac{d}{d r} \\nu{\\left(r \\right)} - 1\\right) - e^{2 l{\\left(r \\right)}}\\right) e^{- 2 l{\\left(r \\right)}}}{3 r^{2}} & 0 & 0\\\\0 & 0 & \\frac{\\left(- r^{2} \\left(\\left(\\frac{d}{d r} \\nu{\\left(r \\right)}\\right)^{2} + \\frac{d^{2}}{d r^{2}} \\nu{\\left(r \\right)}\\right) + \\left(r \\frac{d}{d r} l{\\left(r \\right)} + 1\\right) \\left(r \\frac{d}{d r} \\nu{\\left(r \\right)} - 1\\right) + e^{2 l{\\left(r \\right)}}\\right) e^{- 2 l{\\left(r \\right)}}}{6 r^{2}} & 0\\\\0 & 0 & 0 & \\frac{\\left(- r^{2} \\left(\\left(\\frac{d}{d r} \\nu{\\left(r \\right)}\\right)^{2} + \\frac{d^{2}}{d r^{2}} \\nu{\\left(r \\right)}\\right) + \\left(r \\frac{d}{d r} l{\\left(r \\right)} + 1\\right) \\left(r \\frac{d}{d r} \\nu{\\left(r \\right)} - 1\\right) + e^{2 l{\\left(r \\right)}}\\right) e^{- 2 l{\\left(r \\right)}}}{6 r^{2}}\\end{matrix}\\right]$"
      ],
      "text/plain": [
       "⎡0                                            0                               \n",
       "⎢                                                                             \n",
       "⎢   ⎛   ⎛          2     2      ⎞                                             \n",
       "⎢   ⎜ 2 ⎜⎛d       ⎞     d       ⎟   ⎛  d           ⎞ ⎛  d           ⎞    2⋅l(r\n",
       "⎢   ⎜r ⋅⎜⎜──(ν(r))⎟  + ───(ν(r))⎟ - ⎜r⋅──(l(r)) + 1⎟⋅⎜r⋅──(ν(r)) - 1⎟ - ℯ     \n",
       "⎢   ⎜   ⎜⎝dr      ⎠      2      ⎟   ⎝  dr          ⎠ ⎝  dr          ⎠         \n",
       "⎢   ⎝   ⎝              dr       ⎠                                             \n",
       "⎢0  ──────────────────────────────────────────────────────────────────────────\n",
       "⎢                                               2                             \n",
       "⎢                                            3⋅r                              \n",
       "⎢                                                                             \n",
       "⎢                                                                             \n",
       "⎢                                                                             \n",
       "⎢                                                                             \n",
       "⎢                                                                             \n",
       "⎢                                                                             \n",
       "⎢0                                            0                               \n",
       "⎢                                                                             \n",
       "⎢                                                                             \n",
       "⎢                                                                             \n",
       "⎢                                                                             \n",
       "⎢                                                                             \n",
       "⎢                                                                             \n",
       "⎢                                                                             \n",
       "⎢                                                                             \n",
       "⎢0                                            0                               \n",
       "⎢                                                                             \n",
       "⎣                                                                             \n",
       "\n",
       "                                                        0                     \n",
       "                                                                              \n",
       " ⎞                                                                            \n",
       ")⎟  -2⋅l(r)                                                                   \n",
       " ⎟⋅ℯ                                                                          \n",
       " ⎟                                                                            \n",
       " ⎠                                                                            \n",
       "───────────                                             0                     \n",
       "                                                                              \n",
       "                                                                              \n",
       "                                                                              \n",
       "             ⎛     ⎛          2     2      ⎞                                  \n",
       "             ⎜   2 ⎜⎛d       ⎞     d       ⎟   ⎛  d           ⎞ ⎛  d          \n",
       "             ⎜- r ⋅⎜⎜──(ν(r))⎟  + ───(ν(r))⎟ + ⎜r⋅──(l(r)) + 1⎟⋅⎜r⋅──(ν(r)) - \n",
       "             ⎜     ⎜⎝dr      ⎠      2      ⎟   ⎝  dr          ⎠ ⎝  dr         \n",
       "             ⎝     ⎝              dr       ⎠                                  \n",
       "             ─────────────────────────────────────────────────────────────────\n",
       "                                                          2                   \n",
       "                                                       6⋅r                    \n",
       "                                                                              \n",
       "                                                                              \n",
       "                                                                              \n",
       "                                                                              \n",
       "                                                                              \n",
       "                                                                              \n",
       "                                                        0                     \n",
       "                                                                              \n",
       "                                                                              \n",
       "\n",
       "                                                                   0          \n",
       "                                                                              \n",
       "                                                                              \n",
       "                                                                              \n",
       "                                                                              \n",
       "                                                                              \n",
       "                                                                              \n",
       "                                                                   0          \n",
       "                                                                              \n",
       "                                                                              \n",
       "                                                                              \n",
       "            ⎞                                                                 \n",
       " ⎞    2⋅l(r)⎟  -2⋅l(r)                                                        \n",
       "1⎟ + ℯ      ⎟⋅ℯ                                                               \n",
       " ⎠          ⎟                                                                 \n",
       "            ⎠                                                                 \n",
       "──────────────────────                                             0          \n",
       "                                                                              \n",
       "                                                                              \n",
       "                                                                              \n",
       "                        ⎛     ⎛          2     2      ⎞                       \n",
       "                        ⎜   2 ⎜⎛d       ⎞     d       ⎟   ⎛  d           ⎞ ⎛  \n",
       "                        ⎜- r ⋅⎜⎜──(ν(r))⎟  + ───(ν(r))⎟ + ⎜r⋅──(l(r)) + 1⎟⋅⎜r⋅\n",
       "                        ⎜     ⎜⎝dr      ⎠      2      ⎟   ⎝  dr          ⎠ ⎝  \n",
       "                        ⎝     ⎝              dr       ⎠                       \n",
       "                        ──────────────────────────────────────────────────────\n",
       "                                                                     2        \n",
       "                                                                  6⋅r         \n",
       "\n",
       "                                 ⎤\n",
       "                                 ⎥\n",
       "                                 ⎥\n",
       "                                 ⎥\n",
       "                                 ⎥\n",
       "                                 ⎥\n",
       "                                 ⎥\n",
       "                                 ⎥\n",
       "                                 ⎥\n",
       "                                 ⎥\n",
       "                                 ⎥\n",
       "                                 ⎥\n",
       "                                 ⎥\n",
       "                                 ⎥\n",
       "                                 ⎥\n",
       "                                 ⎥\n",
       "                                 ⎥\n",
       "                                 ⎥\n",
       "                                 ⎥\n",
       "                                 ⎥\n",
       "                       ⎞         ⎥\n",
       "d           ⎞    2⋅l(r)⎟  -2⋅l(r)⎥\n",
       "──(ν(r)) - 1⎟ + ℯ      ⎟⋅ℯ       ⎥\n",
       "dr          ⎠          ⎟         ⎥\n",
       "                       ⎠         ⎥\n",
       "─────────────────────────────────⎥\n",
       "                                 ⎥\n",
       "                                 ⎦"
      ]
     },
     "metadata": {},
     "output_type": "display_data"
    }
   ],
   "source": [
    "Edd2=pt.ten('Edd2',2)\n",
    "Edd2.assign( Ec*(Kd(\"_a\")*Kd(\"_b\")-hdd(\"_a,_b\")/3) ,'_a,_b')\n",
    "Edd2.complete('_,_')\n",
    "Edd2.simplify()\n",
    "Edd2.display('^,_')"
   ]
  },
  {
   "cell_type": "code",
   "execution_count": 55,
   "id": "8ec2e5e6",
   "metadata": {},
   "outputs": [
    {
     "name": "stdout",
     "output_type": "stream",
     "text": [
      "Elements assigned correctly to the _a,_b components\n"
     ]
    },
    {
     "data": {
      "image/png": "[encoded data removed]",
      "text/latex": [
       "$\\displaystyle \\left[\\begin{matrix}0 & 0 & 0 & 0\\\\0 & \\frac{2 \\left(P{\\left(r \\right)} - \\operatorname{Pt}{\\left(r \\right)}\\right) e^{2 l{\\left(r \\right)}}}{3} & 0 & 0\\\\0 & 0 & \\frac{r^{2} \\left(- P{\\left(r \\right)} + \\operatorname{Pt}{\\left(r \\right)}\\right)}{3} & 0\\\\0 & 0 & 0 & \\frac{r^{2} \\left(- P{\\left(r \\right)} + \\operatorname{Pt}{\\left(r \\right)}\\right) \\sin^{2}{\\left(\\theta \\right)}}{3}\\end{matrix}\\right]$"
      ],
      "text/plain": [
       "⎡0             0                      0                       0             ⎤\n",
       "⎢                                                                           ⎥\n",
       "⎢                     2⋅l(r)                                                ⎥\n",
       "⎢   2⋅(P(r) - Pt(r))⋅ℯ                                                      ⎥\n",
       "⎢0  ────────────────────────          0                       0             ⎥\n",
       "⎢              3                                                            ⎥\n",
       "⎢                                                                           ⎥\n",
       "⎢                              2                                            ⎥\n",
       "⎢                             r ⋅(-P(r) + Pt(r))                            ⎥\n",
       "⎢0             0              ──────────────────              0             ⎥\n",
       "⎢                                     3                                     ⎥\n",
       "⎢                                                                           ⎥\n",
       "⎢                                                  2                    2   ⎥\n",
       "⎢                                                 r ⋅(-P(r) + Pt(r))⋅sin (θ)⎥\n",
       "⎢0             0                      0           ──────────────────────────⎥\n",
       "⎣                                                             3             ⎦"
      ]
     },
     "metadata": {},
     "output_type": "display_data"
    }
   ],
   "source": [
    "PI2=pt.ten('PI2',2)\n",
    "PI2.assign(-1/(8*sy.pi)*(X1+Y1)*(Kd(\"_a\")*Kd(\"_b\")-hdd(\"_a,_b\")/3) ,\"_a,_b\")\n",
    "PI2.simplify()\n",
    "PI2.display('_,_')"
   ]
  },
  {
   "cell_type": "markdown",
   "id": "2e860b1c",
   "metadata": {},
   "source": [
    "## Projections of Riemann tensor"
   ]
  },
  {
   "cell_type": "markdown",
   "id": "9a40b4dc",
   "metadata": {},
   "source": [
    "$$\n",
    "f^{\\bullet} = V^{\\alpha} \\partial_{\\alpha}f ; \\quad f^{{\\rm t}} = K^{\\alpha} \\partial_{\\alpha}f  \\quad \\mathrm{and} \\quad f^{\\ast} = L^{\\alpha}\\partial_{\\alpha}f\n",
    "$$\n",
    "\n",
    "$$\n",
    "\\sigma^{\\bullet}_{1} -a_1^{{\\rm t}} -a_1^2+\\sigma_1^2 = -\\frac{1}{3}(Y_0+2Y_1) \\qquad (25)\n",
    "$$"
   ]
  },
  {
   "cell_type": "code",
   "execution_count": 56,
   "id": "9b64624d",
   "metadata": {},
   "outputs": [
    {
     "name": "stdout",
     "output_type": "stream",
     "text": [
      "Elements assigned correctly to the _a components\n"
     ]
    },
    {
     "data": {
      "image/png": "[encoded data removed]",
      "text/latex": [
       "$\\displaystyle \\left(\\frac{d}{d r} l{\\left(r \\right)} \\frac{d}{d r} \\nu{\\left(r \\right)} - \\left(\\frac{d}{d r} \\nu{\\left(r \\right)}\\right)^{2} - \\frac{d^{2}}{d r^{2}} \\nu{\\left(r \\right)}\\right) e^{- 2 l{\\left(r \\right)}} = - \\frac{2 \\left(E{\\left(r \\right)} - 2 \\pi P{\\left(r \\right)} + 8 \\pi \\operatorname{Pt}{\\left(r \\right)} + 2 \\pi \\rho{\\left(r \\right)}\\right)}{3}$"
      ],
      "text/plain": [
       "⎛                              2     2      ⎞                                 \n",
       "⎜d        d          ⎛d       ⎞     d       ⎟  -2⋅l(r)   -2⋅(E(r) - 2⋅π⋅P(r) +\n",
       "⎜──(l(r))⋅──(ν(r)) - ⎜──(ν(r))⎟  - ───(ν(r))⎟⋅ℯ        = ─────────────────────\n",
       "⎜dr       dr         ⎝dr      ⎠      2      ⎟                                 \n",
       "⎝                                  dr       ⎠                                 \n",
       "\n",
       "                       \n",
       " 8⋅π⋅Pt(r) + 2⋅π⋅ρ(r)) \n",
       "───────────────────────\n",
       "3                      \n",
       "                       "
      ]
     },
     "execution_count": 56,
     "metadata": {},
     "output_type": "execute_result"
    }
   ],
   "source": [
    "Dsigma1= pt.ten('Dsigma1',1)\n",
    "Dsigma1.assign(pt.D(sigma1,\"_a\"), \"_a\")\n",
    "Dsigma1.simplify()\n",
    "Dsigma1P= Vu('^a')*Dsigma1('_a') \n",
    "#pt.display(Dsigma1P)\n",
    "Dsigma1dag= Ku('^a')*Dsigma1('_a') \n",
    "#Dsigma1dag\n",
    "eq25= Eq(pt.factor(Dsigma1P - Da1dag - a1**2 + sigma1**2) ,-pt.factor(Y0+2*Y1)/3)\n",
    "eq25"
   ]
  },
  {
   "cell_type": "markdown",
   "id": "3c0cb981",
   "metadata": {},
   "source": [
    "$$\n",
    "\\sigma^{\\bullet}_{2} +\\sigma_2^2-a_1J_1 = \\frac{1}{3}(Y_1-Y_0) \\qquad (26)\n",
    "$$"
   ]
  },
  {
   "cell_type": "code",
   "execution_count": 57,
   "id": "2208149d",
   "metadata": {},
   "outputs": [
    {
     "name": "stdout",
     "output_type": "stream",
     "text": [
      "Elements assigned correctly to the _a components\n"
     ]
    },
    {
     "data": {
      "image/png": "[encoded data removed]",
      "text/latex": [
       "$\\displaystyle - \\frac{e^{- 2 l{\\left(r \\right)}} \\frac{d}{d r} \\nu{\\left(r \\right)}}{r} = \\frac{E{\\left(r \\right)} - 8 \\pi P{\\left(r \\right)} - 4 \\pi \\operatorname{Pt}{\\left(r \\right)} - 4 \\pi \\rho{\\left(r \\right)}}{3}$"
      ],
      "text/plain": [
       "  -2⋅l(r) d                                                 \n",
       "-ℯ       ⋅──(ν(r))                                          \n",
       "          dr          E(r) - 8⋅π⋅P(r) - 4⋅π⋅Pt(r) - 4⋅π⋅ρ(r)\n",
       "─────────────────── = ──────────────────────────────────────\n",
       "         r                              3                   "
      ]
     },
     "execution_count": 57,
     "metadata": {},
     "output_type": "execute_result"
    }
   ],
   "source": [
    "Dsigma2= pt.ten('Dsigma2',1)\n",
    "Dsigma2.assign(pt.D(sigma2,\"_a\"), \"_a\")\n",
    "Dsigma2.simplify()\n",
    "Dsigma2P= Vu('^a')*Dsigma2('_a') \n",
    "#pt.display(Dsigma2P)\n",
    "Dsigma2dag= Ku('^a')*Dsigma2('_a') \n",
    "#Dsigma2dag\n",
    "eq26= Eq(pt.factor(Dsigma2P +sigma2**2 -a1*J1) , pt.factor((Y1-Y0)/3))\n",
    "eq26"
   ]
  },
  {
   "cell_type": "markdown",
   "id": "886778e6",
   "metadata": {},
   "source": [
    "$$\n",
    "\\sigma_2^{{\\rm t}}+J_1(\\sigma_2-\\sigma_1)=-Z \\qquad (27)\n",
    "$$"
   ]
  },
  {
   "cell_type": "code",
   "execution_count": 58,
   "id": "d2974829",
   "metadata": {},
   "outputs": [
    {
     "data": {
      "image/png": "[encoded data removed]",
      "text/latex": [
       "$\\displaystyle \\text{True}$"
      ],
      "text/plain": [
       "True"
      ]
     },
     "execution_count": 58,
     "metadata": {},
     "output_type": "execute_result"
    }
   ],
   "source": [
    "eq27= Eq(pt.simplify(Dsigma2dag + J1*(sigma2-sigma1)) , - Z )\n",
    "eq27"
   ]
  },
  {
   "cell_type": "markdown",
   "id": "0db63c57",
   "metadata": {},
   "source": [
    "$$\n",
    "J^{\\bullet}_{1} +J_1\\sigma_2-a_1\\sigma_2 = -Z \\qquad (28)\n",
    "$$"
   ]
  },
  {
   "cell_type": "code",
   "execution_count": 59,
   "id": "0a49fb5f",
   "metadata": {},
   "outputs": [
    {
     "name": "stdout",
     "output_type": "stream",
     "text": [
      "Elements assigned correctly to the _a components\n"
     ]
    },
    {
     "data": {
      "image/png": "[encoded data removed]",
      "text/latex": [
       "$\\displaystyle \\text{True}$"
      ],
      "text/plain": [
       "True"
      ]
     },
     "execution_count": 59,
     "metadata": {},
     "output_type": "execute_result"
    }
   ],
   "source": [
    "DJ1= pt.ten('DJ1',1)\n",
    "DJ1.assign(pt.D(J1,\"_a\"), \"_a\")\n",
    "DJ1.simplify()\n",
    "DJ1P= Vu('^a')*DJ1('_a') \n",
    "#pt.display(DJ1P)\n",
    "DJ1dag= Ku('^a')*DJ1('_a') \n",
    "#DJ1dag\n",
    "eq28= Eq(pt.factor(DJ1P + J1*sigma2 - a1*sigma2) ,-Z )\n",
    "eq28"
   ]
  },
  {
   "cell_type": "markdown",
   "id": "cdb09fc8",
   "metadata": {},
   "source": [
    "$$\n",
    "J_1^{{\\rm t}}+J_1^2-\\sigma_1 \\sigma_2 = \\frac{1}{3}(X_1-X_0) \\qquad (29)\n",
    "$$"
   ]
  },
  {
   "cell_type": "code",
   "execution_count": 60,
   "id": "7403b8df",
   "metadata": {},
   "outputs": [
    {
     "data": {
      "image/png": "[encoded data removed]",
      "text/latex": [
       "$\\displaystyle - \\frac{e^{- 2 l{\\left(r \\right)}} \\frac{d}{d r} l{\\left(r \\right)}}{r} = - \\frac{E{\\left(r \\right)} + 4 \\pi P{\\left(r \\right)} - 4 \\pi \\operatorname{Pt}{\\left(r \\right)} + 8 \\pi \\rho{\\left(r \\right)}}{3}$"
      ],
      "text/plain": [
       "  -2⋅l(r) d                                                     \n",
       "-ℯ       ⋅──(l(r))                                              \n",
       "          dr          -(E(r) + 4⋅π⋅P(r) - 4⋅π⋅Pt(r) + 8⋅π⋅ρ(r)) \n",
       "─────────────────── = ──────────────────────────────────────────\n",
       "         r                                3                     "
      ]
     },
     "execution_count": 60,
     "metadata": {},
     "output_type": "execute_result"
    }
   ],
   "source": [
    "eq29= Eq(pt.factor(DJ1dag + J1**2 - sigma2*sigma1) , pt.factor((X1-X0)/3))\n",
    "eq29"
   ]
  },
  {
   "cell_type": "markdown",
   "id": "f649a35b",
   "metadata": {},
   "source": [
    "$$\n",
    "J^{\\bullet}_{2} +J_2\\sigma_2 = 0  \\qquad (30)\n",
    "$$"
   ]
  },
  {
   "cell_type": "code",
   "execution_count": 61,
   "id": "a31edf2c",
   "metadata": {},
   "outputs": [
    {
     "name": "stdout",
     "output_type": "stream",
     "text": [
      "Elements assigned correctly to the _a components\n"
     ]
    },
    {
     "data": {
      "image/png": "[encoded data removed]",
      "text/latex": [
       "$\\displaystyle \\text{True}$"
      ],
      "text/plain": [
       "True"
      ]
     },
     "execution_count": 61,
     "metadata": {},
     "output_type": "execute_result"
    }
   ],
   "source": [
    "DJ2= pt.ten('DJ2',1)\n",
    "DJ2.assign(pt.D(J2,\"_a\"), \"_a\")\n",
    "DJ2.simplify()\n",
    "DJ2P= Vu('^a')*DJ2('_a') \n",
    "#pt.display(DJ2P)\n",
    "DJ2dag= Ku('^a')*DJ2('_a') \n",
    "#DJ2dag\n",
    "eq30= Eq(pt.simplify(DJ2P + J2*sigma2) ,0)\n",
    "eq30"
   ]
  },
  {
   "cell_type": "markdown",
   "id": "feafe2b3",
   "metadata": {},
   "source": [
    "$$\n",
    "J_2^{{\\rm t}} +J_1J_2 = 0   \\qquad (31)\n",
    "$$"
   ]
  },
  {
   "cell_type": "code",
   "execution_count": 62,
   "id": "e08436a2",
   "metadata": {},
   "outputs": [
    {
     "data": {
      "image/png": "[encoded data removed]",
      "text/latex": [
       "$\\displaystyle \\text{True}$"
      ],
      "text/plain": [
       "True"
      ]
     },
     "execution_count": 62,
     "metadata": {},
     "output_type": "execute_result"
    }
   ],
   "source": [
    "eq31= Eq(pt.simplify(DJ2dag + J1*J2) ,0)\n",
    "eq31"
   ]
  },
  {
   "cell_type": "markdown",
   "id": "b00a8b96",
   "metadata": {},
   "source": [
    "$$\n",
    "J_1^2-\\frac{1}{C^2}-\\sigma_2^2 = -\\frac{1}{3}(X_0+2X_1) \\qquad (32)\n",
    "$$"
   ]
  },
  {
   "cell_type": "code",
   "execution_count": 63,
   "id": "bfdbc116",
   "metadata": {},
   "outputs": [
    {
     "data": {
      "image/png": "[encoded data removed]",
      "text/latex": [
       "$\\displaystyle - \\frac{1}{r^{2}} + \\frac{e^{- 2 l{\\left(r \\right)}}}{r^{2}} = \\frac{2 \\left(E{\\left(r \\right)} + 4 \\pi P{\\left(r \\right)} - 4 \\pi \\operatorname{Pt}{\\left(r \\right)} - 4 \\pi \\rho{\\left(r \\right)}\\right)}{3}$"
      ],
      "text/plain": [
       "        -2⋅l(r)                                             \n",
       "  1    ℯ          2⋅(E(r) + 4⋅π⋅P(r) - 4⋅π⋅Pt(r) - 4⋅π⋅ρ(r))\n",
       "- ── + ──────── = ──────────────────────────────────────────\n",
       "   2       2                          3                     \n",
       "  r       r                                                 "
      ]
     },
     "execution_count": 63,
     "metadata": {},
     "output_type": "execute_result"
    }
   ],
   "source": [
    "eq32= Eq(pt.simplify(J1**2 - 1/C**2 - sigma2**2), - pt.factor((X0+2*X1)/3) )\n",
    "eq32"
   ]
  },
  {
   "cell_type": "markdown",
   "id": "31857dcb",
   "metadata": {},
   "source": [
    "## Equations from Bianchi identities:\n",
    "$$\n",
    "\\begin{array}{r}\n",
    "a_1\\left[-X_0+X_1-Y_0+Y_1\\right]+3 J_1 Y_1+3 Z^{\\bullet}+6 Z \\sigma_1+3 Z \\sigma_2-Y_0^{\\dagger}+Y_1^{\\dagger}=0 \\,\\, \\text { (33) } \\\\\n",
    "X_0^{\\bullet}-X_1^{\\bullet}-6 a_1 Z-3 J_1 Z+\\left[Y_0-Y_1-X_1\\right] \\sigma_1+\\left[Y_0+2 Y_1-X_1\\right] \\sigma_2+X_0\\left[\\sigma_1+\\sigma_2\\right]-3 Z^{\\dagger}=0 \\,\\, \\text { (34) } \\\\\n",
    "X_0^{\\bullet}+2 X_1^{\\bullet}+2 X_0 \\sigma_2-6 J_1 Z+\\left[4 X_1+2 Y_0-2 Y_1\\right] \\sigma_2=0 \\,\\, \\text { (35) } \\\\\n",
    "X_0^{\\dagger}+2 X_1^{\\dagger}+6 J_1 X_1+6 Z \\sigma_2=0 \\,\\, \\text { (36) }\n",
    "\\end{array}\n",
    "$$"
   ]
  },
  {
   "cell_type": "code",
   "execution_count": 64,
   "id": "6e0f6f33",
   "metadata": {},
   "outputs": [
    {
     "name": "stdout",
     "output_type": "stream",
     "text": [
      "Elements assigned correctly to the _a components\n"
     ]
    }
   ],
   "source": [
    "DZ= pt.ten('DZ',1)\n",
    "DZ.assign(pt.D(Z,\"_a\"), \"_a\")\n",
    "DZ.simplify()\n",
    "DZP= Vu('^a')*DZ('_a') \n",
    "#pt.display(DZP)\n",
    "DZdag= Ku('^a')*DZ('_a') \n",
    "#DZdag"
   ]
  },
  {
   "cell_type": "code",
   "execution_count": 65,
   "id": "be3174fe",
   "metadata": {},
   "outputs": [
    {
     "name": "stdout",
     "output_type": "stream",
     "text": [
      "Elements assigned correctly to the _a components\n"
     ]
    }
   ],
   "source": [
    "DY0= pt.ten('DY0',1)\n",
    "DY0.assign(pt.D(Y0,\"_a\"), \"_a\")\n",
    "DY0.simplify()\n",
    "DY0P= Vu('^a')*DY0('_a') \n",
    "#pt.display(DY0P)\n",
    "DY0dag= Ku('^a')*DY0('_a') \n",
    "#DY0dag"
   ]
  },
  {
   "cell_type": "code",
   "execution_count": 66,
   "id": "7c0a54b4",
   "metadata": {},
   "outputs": [
    {
     "name": "stdout",
     "output_type": "stream",
     "text": [
      "Elements assigned correctly to the _a components\n"
     ]
    }
   ],
   "source": [
    "DY1= pt.ten('DY1',1)\n",
    "DY1.assign(pt.D(Y1,\"_a\"), \"_a\")\n",
    "DY1.simplify()\n",
    "DY1P= Vu('^a')*DY1('_a') \n",
    "#pt.display(DY1P)\n",
    "DY1dag= Ku('^a')*DY1('_a') \n",
    "#DY1dag"
   ]
  },
  {
   "cell_type": "code",
   "execution_count": 67,
   "id": "893c40e1",
   "metadata": {},
   "outputs": [
    {
     "name": "stdout",
     "output_type": "stream",
     "text": [
      "Elements assigned correctly to the _a components\n"
     ]
    }
   ],
   "source": [
    "DX0= pt.ten('DX0',1)\n",
    "DX0.assign(pt.D(X0,\"_a\"), \"_a\")\n",
    "DX0.simplify()\n",
    "DX0P= Vu('^a')*DX0('_a') \n",
    "#pt.display(DX0P)\n",
    "DX0dag= Ku('^a')*DX0('_a') \n",
    "#DX0dag"
   ]
  },
  {
   "cell_type": "code",
   "execution_count": 68,
   "id": "c3f21a18",
   "metadata": {},
   "outputs": [
    {
     "name": "stdout",
     "output_type": "stream",
     "text": [
      "Elements assigned correctly to the _a components\n"
     ]
    }
   ],
   "source": [
    "DX1= pt.ten('DX1',1)\n",
    "DX1.assign(pt.D(X1,\"_a\"), \"_a\")\n",
    "DX1.simplify()\n",
    "DX1P= Vu('^a')*DX1('_a') \n",
    "#pt.display(DX1P)\n",
    "DX1dag= Ku('^a')*DX1('_a') \n",
    "#DX1dag"
   ]
  },
  {
   "cell_type": "code",
   "execution_count": 69,
   "id": "5776313b",
   "metadata": {},
   "outputs": [
    {
     "data": {
      "image/png": "[encoded data removed]",
      "text/latex": [
       "$\\displaystyle \\frac{\\left(- 12 \\pi r P{\\left(r \\right)} \\frac{d}{d r} \\nu{\\left(r \\right)} - 12 \\pi r \\rho{\\left(r \\right)} \\frac{d}{d r} \\nu{\\left(r \\right)} + r \\frac{d}{d r} E{\\left(r \\right)} - 8 \\pi r \\frac{d}{d r} P{\\left(r \\right)} - 4 \\pi r \\frac{d}{d r} \\operatorname{Pt}{\\left(r \\right)} - 4 \\pi r \\frac{d}{d r} \\rho{\\left(r \\right)} + 3 E{\\left(r \\right)} - 12 \\pi P{\\left(r \\right)} + 12 \\pi \\operatorname{Pt}{\\left(r \\right)}\\right) e^{- l{\\left(r \\right)}}}{r} = 0$"
      ],
      "text/plain": [
       "⎛              d                      d            d                d         \n",
       "⎜- 12⋅π⋅r⋅P(r)⋅──(ν(r)) - 12⋅π⋅r⋅ρ(r)⋅──(ν(r)) + r⋅──(E(r)) - 8⋅π⋅r⋅──(P(r)) -\n",
       "⎝              dr                     dr           dr               dr        \n",
       "──────────────────────────────────────────────────────────────────────────────\n",
       "                                                                            r \n",
       "\n",
       "       d                 d                                         ⎞  -l(r)   \n",
       " 4⋅π⋅r⋅──(Pt(r)) - 4⋅π⋅r⋅──(ρ(r)) + 3⋅E(r) - 12⋅π⋅P(r) + 12⋅π⋅Pt(r)⎟⋅ℯ        \n",
       "       dr                dr                                        ⎠          \n",
       "─────────────────────────────────────────────────────────────────────────── = \n",
       "                                                                              \n",
       "\n",
       " \n",
       " \n",
       " \n",
       "0\n",
       " "
      ]
     },
     "execution_count": 69,
     "metadata": {},
     "output_type": "execute_result"
    }
   ],
   "source": [
    "eq33= Eq(sy.factor(a1*(-X0+X1-Y0+Y1) + 3*J1*Y1 + 3*DZP + 6*Z*sigma1 + 3*Z*sigma2 - DY0dag + DY1dag ),0)\n",
    "eq33"
   ]
  },
  {
   "cell_type": "code",
   "execution_count": 70,
   "id": "72582453",
   "metadata": {},
   "outputs": [
    {
     "data": {
      "image/png": "[encoded data removed]",
      "text/latex": [
       "$\\displaystyle \\text{True}$"
      ],
      "text/plain": [
       "True"
      ]
     },
     "execution_count": 70,
     "metadata": {},
     "output_type": "execute_result"
    }
   ],
   "source": [
    "eq34=Eq(sy.simplify(DX0P-DX1P -6*a1*Z - 3*J1*Z + (Y0-Y1-X1)*sigma1 + (Y0+2*Y1-X1)*sigma2 +X0*(sigma1+sigma2)-3*DZdag ),0)\n",
    "eq34"
   ]
  },
  {
   "cell_type": "code",
   "execution_count": 71,
   "id": "c515ddcc",
   "metadata": {},
   "outputs": [
    {
     "data": {
      "image/png": "[encoded data removed]",
      "text/latex": [
       "$\\displaystyle \\text{True}$"
      ],
      "text/plain": [
       "True"
      ]
     },
     "execution_count": 71,
     "metadata": {},
     "output_type": "execute_result"
    }
   ],
   "source": [
    "eq35= Eq(sy.simplify(DX0P+2*DX1P + 2*X0*sigma2 - 6*J1*Z + (4*X1+2*Y0-2*Y1)*sigma2  ) ,0)\n",
    "eq35"
   ]
  },
  {
   "cell_type": "code",
   "execution_count": 72,
   "id": "9f38047c",
   "metadata": {},
   "outputs": [
    {
     "data": {
      "image/png": "[encoded data removed]",
      "text/latex": [
       "$\\displaystyle - \\frac{2 \\left(r \\frac{d}{d r} E{\\left(r \\right)} + 4 \\pi r \\frac{d}{d r} P{\\left(r \\right)} - 4 \\pi r \\frac{d}{d r} \\operatorname{Pt}{\\left(r \\right)} - 4 \\pi r \\frac{d}{d r} \\rho{\\left(r \\right)} + 3 E{\\left(r \\right)} + 12 \\pi P{\\left(r \\right)} - 12 \\pi \\operatorname{Pt}{\\left(r \\right)}\\right) e^{- l{\\left(r \\right)}}}{r} = 0$"
      ],
      "text/plain": [
       "   ⎛  d                d                d                 d                   \n",
       "-2⋅⎜r⋅──(E(r)) + 4⋅π⋅r⋅──(P(r)) - 4⋅π⋅r⋅──(Pt(r)) - 4⋅π⋅r⋅──(ρ(r)) + 3⋅E(r) + \n",
       "   ⎝  dr               dr               dr                dr                  \n",
       "──────────────────────────────────────────────────────────────────────────────\n",
       "                                                      r                       \n",
       "\n",
       "                      ⎞  -l(r)     \n",
       "12⋅π⋅P(r) - 12⋅π⋅Pt(r)⎟⋅ℯ          \n",
       "                      ⎠            \n",
       "─────────────────────────────── = 0\n",
       "                                   "
      ]
     },
     "execution_count": 72,
     "metadata": {},
     "output_type": "execute_result"
    }
   ],
   "source": [
    "eq36= Eq(sy.factor(DX0dag + 2*DX1dag + 6*J1*X1 + 6*Z*sigma2),0)\n",
    "eq36"
   ]
  },
  {
   "cell_type": "markdown",
   "id": "21a3ea66",
   "metadata": {},
   "source": [
    "## Non-Pascalian static fluids"
   ]
  },
  {
   "cell_type": "code",
   "execution_count": 73,
   "id": "8be3fcb1",
   "metadata": {},
   "outputs": [
    {
     "data": {
      "image/png": "[encoded data removed]",
      "text/latex": [
       "$\\displaystyle - 4 \\pi \\left(P{\\left(r \\right)} + 2 \\operatorname{Pt}{\\left(r \\right)} + \\rho{\\left(r \\right)}\\right) + 16 \\pi \\rho{\\left(r \\right)} = r e^{- 2 l{\\left(r \\right)}} \\sin^{2}{\\left(\\theta \\right)} \\frac{d}{d r} \\nu{\\left(r \\right)} + r e^{- 2 l{\\left(r \\right)}} \\frac{d}{d r} \\nu{\\left(r \\right)} - e^{- 2 l{\\left(r \\right)} + 2 \\nu{\\left(r \\right)}} \\left(\\frac{d}{d r} \\nu{\\left(r \\right)}\\right)^{2} - \\frac{d}{d r} l{\\left(r \\right)} \\frac{d}{d r} \\nu{\\left(r \\right)} + \\frac{d^{2}}{d r^{2}} \\nu{\\left(r \\right)}$"
      ],
      "text/plain": [
       "                                                                              \n",
       "                                              -2⋅l(r)    2    d             -2\n",
       "-4⋅π⋅(P(r) + 2⋅Pt(r) + ρ(r)) + 16⋅π⋅ρ(r) = r⋅ℯ       ⋅sin (θ)⋅──(ν(r)) + r⋅ℯ  \n",
       "                                                              dr              \n",
       "                                                                              \n",
       "\n",
       "                                             2                         2      \n",
       "⋅l(r) d           -2⋅l(r) + 2⋅ν(r) ⎛d       ⎞    d        d           d       \n",
       "     ⋅──(ν(r)) - ℯ                ⋅⎜──(ν(r))⎟  - ──(l(r))⋅──(ν(r)) + ───(ν(r))\n",
       "      dr                           ⎝dr      ⎠    dr       dr           2      \n",
       "                                                                     dr       "
      ]
     },
     "execution_count": 73,
     "metadata": {},
     "output_type": "execute_result"
    }
   ],
   "source": [
    "EE1= Eq(Rdd('^a,_a') , Dcau('^a,_a') )\n",
    "EE1"
   ]
  },
  {
   "cell_type": "code",
   "execution_count": 74,
   "id": "09e65285",
   "metadata": {},
   "outputs": [
    {
     "name": "stdout",
     "output_type": "stream",
     "text": [
      "Elements assigned correctly to the _a,_b components\n"
     ]
    },
    {
     "data": {
      "image/png": "[encoded data removed]",
      "text/latex": [
       "$\\displaystyle \\left[\\begin{matrix}0 & 0 & 0 & 0\\\\0 & \\frac{r^{3} \\sin^{2}{\\left(\\theta \\right)} \\frac{d}{d r} \\nu{\\left(r \\right)} + r^{3} \\frac{d}{d r} \\nu{\\left(r \\right)} - 8 \\pi r^{2} P{\\left(r \\right)} e^{2 l{\\left(r \\right)}} + 8 \\pi r^{2} \\operatorname{Pt}{\\left(r \\right)} e^{2 l{\\left(r \\right)}} - r^{2} e^{2 l{\\left(r \\right)}} \\frac{d}{d r} l{\\left(r \\right)} \\frac{d}{d r} \\nu{\\left(r \\right)} + r^{2} e^{2 l{\\left(r \\right)}} \\frac{d^{2}}{d r^{2}} \\nu{\\left(r \\right)} - r^{2} e^{2 \\nu{\\left(r \\right)}} \\left(\\frac{d}{d r} \\nu{\\left(r \\right)}\\right)^{2} + 2 r^{2} \\frac{d}{d r} l{\\left(r \\right)} \\frac{d}{d r} \\nu{\\left(r \\right)} - 2 r^{2} \\left(\\frac{d}{d r} \\nu{\\left(r \\right)}\\right)^{2} - 2 r^{2} \\frac{d^{2}}{d r^{2}} \\nu{\\left(r \\right)} + r \\frac{d}{d r} l{\\left(r \\right)} - r \\frac{d}{d r} \\nu{\\left(r \\right)} - e^{2 l{\\left(r \\right)}} + 1}{3 r^{2}} & 0 & 0\\\\0 & 0 & \\frac{\\left(2 r^{3} \\sin^{2}{\\left(\\theta \\right)} \\frac{d}{d r} \\nu{\\left(r \\right)} + 2 r^{3} \\frac{d}{d r} \\nu{\\left(r \\right)} + 8 \\pi r^{2} P{\\left(r \\right)} e^{2 l{\\left(r \\right)}} - 8 \\pi r^{2} \\operatorname{Pt}{\\left(r \\right)} e^{2 l{\\left(r \\right)}} - 2 r^{2} e^{2 l{\\left(r \\right)}} \\frac{d}{d r} l{\\left(r \\right)} \\frac{d}{d r} \\nu{\\left(r \\right)} + 2 r^{2} e^{2 l{\\left(r \\right)}} \\frac{d^{2}}{d r^{2}} \\nu{\\left(r \\right)} - 2 r^{2} e^{2 \\nu{\\left(r \\right)}} \\left(\\frac{d}{d r} \\nu{\\left(r \\right)}\\right)^{2} + r^{2} \\frac{d}{d r} l{\\left(r \\right)} \\frac{d}{d r} \\nu{\\left(r \\right)} - r^{2} \\left(\\frac{d}{d r} \\nu{\\left(r \\right)}\\right)^{2} - r^{2} \\frac{d^{2}}{d r^{2}} \\nu{\\left(r \\right)} - r \\frac{d}{d r} l{\\left(r \\right)} - 5 r \\frac{d}{d r} \\nu{\\left(r \\right)} + e^{2 l{\\left(r \\right)}} - 1\\right) e^{- 2 l{\\left(r \\right)}}}{6} & 0\\\\0 & 0 & 0 & \\frac{\\left(2 r^{3} \\sin^{2}{\\left(\\theta \\right)} \\frac{d}{d r} \\nu{\\left(r \\right)} + 2 r^{3} \\frac{d}{d r} \\nu{\\left(r \\right)} + 8 \\pi r^{2} P{\\left(r \\right)} e^{2 l{\\left(r \\right)}} - 8 \\pi r^{2} \\operatorname{Pt}{\\left(r \\right)} e^{2 l{\\left(r \\right)}} - 2 r^{2} e^{2 l{\\left(r \\right)}} \\frac{d}{d r} l{\\left(r \\right)} \\frac{d}{d r} \\nu{\\left(r \\right)} + 2 r^{2} e^{2 l{\\left(r \\right)}} \\frac{d^{2}}{d r^{2}} \\nu{\\left(r \\right)} - 2 r^{2} e^{2 \\nu{\\left(r \\right)}} \\left(\\frac{d}{d r} \\nu{\\left(r \\right)}\\right)^{2} + r^{2} \\frac{d}{d r} l{\\left(r \\right)} \\frac{d}{d r} \\nu{\\left(r \\right)} - r^{2} \\left(\\frac{d}{d r} \\nu{\\left(r \\right)}\\right)^{2} - r^{2} \\frac{d^{2}}{d r^{2}} \\nu{\\left(r \\right)} - r \\frac{d}{d r} l{\\left(r \\right)} - 5 r \\frac{d}{d r} \\nu{\\left(r \\right)} + e^{2 l{\\left(r \\right)}} - 1\\right) e^{- 2 l{\\left(r \\right)}} \\sin^{2}{\\left(\\theta \\right)}}{6}\\end{matrix}\\right]$"
      ],
      "text/plain": [
       "⎡0                                                                            \n",
       "⎢                                                                             \n",
       "⎢                                                                             \n",
       "⎢    3    2    d           3 d               2       2⋅l(r)        2        2⋅\n",
       "⎢   r ⋅sin (θ)⋅──(ν(r)) + r ⋅──(ν(r)) - 8⋅π⋅r ⋅P(r)⋅ℯ       + 8⋅π⋅r ⋅Pt(r)⋅ℯ  \n",
       "⎢              dr            dr                                               \n",
       "⎢                                                                             \n",
       "⎢0  ──────────────────────────────────────────────────────────────────────────\n",
       "⎢                                                                             \n",
       "⎢                                                                             \n",
       "⎢                                                                             \n",
       "⎢                                                                             \n",
       "⎢                                                                             \n",
       "⎢                                                                             \n",
       "⎢                                                                             \n",
       "⎢                                                                             \n",
       "⎢0                                                                            \n",
       "⎢                                                                             \n",
       "⎢                                                                             \n",
       "⎢                                                                             \n",
       "⎢                                                                             \n",
       "⎢                                                                             \n",
       "⎢                                                                             \n",
       "⎢                                                                             \n",
       "⎢0                                                                            \n",
       "⎣                                                                             \n",
       "\n",
       "                                                      0                       \n",
       "                                                                              \n",
       "                                                   2                          \n",
       "l(r)    2  2⋅l(r) d        d           2  2⋅l(r)  d           2  2⋅ν(r) ⎛d    \n",
       "     - r ⋅ℯ      ⋅──(l(r))⋅──(ν(r)) + r ⋅ℯ      ⋅───(ν(r)) - r ⋅ℯ      ⋅⎜──(ν(\n",
       "                  dr       dr                      2                    ⎝dr   \n",
       "                                                 dr                           \n",
       "──────────────────────────────────────────────────────────────────────────────\n",
       "                                                        2                     \n",
       "                                                     3⋅r                      \n",
       "                                                                              \n",
       "                                                                              \n",
       "                                                                              \n",
       "                                                                              \n",
       "                                                                              \n",
       "                                                                              \n",
       "                                                      0                       \n",
       "                                                                              \n",
       "                                                                              \n",
       "                                                                              \n",
       "                                                                              \n",
       "                                                                              \n",
       "                                                                              \n",
       "                                                                              \n",
       "                                                      0                       \n",
       "                                                                              \n",
       "\n",
       "                                                                              \n",
       "                                                                              \n",
       "    2                                           2          2                  \n",
       "   ⎞       2 d        d             2 ⎛d       ⎞       2  d            d      \n",
       "r))⎟  + 2⋅r ⋅──(l(r))⋅──(ν(r)) - 2⋅r ⋅⎜──(ν(r))⎟  - 2⋅r ⋅───(ν(r)) + r⋅──(l(r)\n",
       "   ⎠         dr       dr              ⎝dr      ⎠           2           dr     \n",
       "                                                         dr                   \n",
       "──────────────────────────────────────────────────────────────────────────────\n",
       "                                                                              \n",
       "                                                                              \n",
       "                                                                              \n",
       "                                                                              \n",
       "                                                                              \n",
       "                                                                              \n",
       "                                                                              \n",
       "                                                                              \n",
       "                                                                              \n",
       "                                                                              \n",
       "                                                                              \n",
       "                                                                              \n",
       "                                                                              \n",
       "                                                                              \n",
       "                                                                              \n",
       "                                                                              \n",
       "                                                                              \n",
       "                                                                              \n",
       "\n",
       "                                                                              \n",
       "                                                                              \n",
       "                                                                              \n",
       "      d           2⋅l(r)                                                      \n",
       ") - r⋅──(ν(r)) - ℯ       + 1                                                  \n",
       "      dr                                                                      \n",
       "                                                                              \n",
       "────────────────────────────                                                  \n",
       "                                                                              \n",
       "                                                                              \n",
       "                                                                              \n",
       "                              ⎛                                               \n",
       "                              ⎜   3    2    d             3 d               2 \n",
       "                              ⎜2⋅r ⋅sin (θ)⋅──(ν(r)) + 2⋅r ⋅──(ν(r)) + 8⋅π⋅r ⋅\n",
       "                              ⎜             dr              dr                \n",
       "                              ⎝                                               \n",
       "                              ────────────────────────────────────────────────\n",
       "                                                                              \n",
       "                                                                              \n",
       "                                                                              \n",
       "                                                                              \n",
       "                                                                              \n",
       "                                                                              \n",
       "                                                                              \n",
       "                                                                              \n",
       "                                                                              \n",
       "\n",
       "                                                                              \n",
       "                                                                              \n",
       "                                                                              \n",
       "                                                                              \n",
       "                                                                              \n",
       "                                                                              \n",
       "                                                                              \n",
       "                                                                              \n",
       "                                                                              \n",
       "                                                                              \n",
       "                                                                              \n",
       "                                                                              \n",
       "      2⋅l(r)        2        2⋅l(r)      2  2⋅l(r) d        d             2  2\n",
       "P(r)⋅ℯ       - 8⋅π⋅r ⋅Pt(r)⋅ℯ       - 2⋅r ⋅ℯ      ⋅──(l(r))⋅──(ν(r)) + 2⋅r ⋅ℯ \n",
       "                                                   dr       dr                \n",
       "                                                                              \n",
       "──────────────────────────────────────────────────────────────────────────────\n",
       "                                                                              \n",
       "                                                                              \n",
       "                                                                              \n",
       "                                                                              \n",
       "                                                                              \n",
       "                                                                              \n",
       "                                                                              \n",
       "                                                                              \n",
       "                                                                              \n",
       "\n",
       "           0                                                                  \n",
       "                                                                              \n",
       "                                                                              \n",
       "                                                                              \n",
       "                                                                              \n",
       "                                                                              \n",
       "                                                                              \n",
       "           0                                                                  \n",
       "                                                                              \n",
       "                                                                              \n",
       "                                                                              \n",
       "        2                                2                                    \n",
       "⋅l(r)  d             2  2⋅ν(r) ⎛d       ⎞     2 d        d           2 ⎛d     \n",
       "     ⋅───(ν(r)) - 2⋅r ⋅ℯ      ⋅⎜──(ν(r))⎟  + r ⋅──(l(r))⋅──(ν(r)) - r ⋅⎜──(ν(r\n",
       "        2                      ⎝dr      ⎠       dr       dr            ⎝dr    \n",
       "      dr                                                                      \n",
       "──────────────────────────────────────────────────────────────────────────────\n",
       "           6                                                                  \n",
       "                                                                              \n",
       "                                                                              \n",
       "                                                                              \n",
       "                                                                              \n",
       "                                                                              \n",
       "                                                                              \n",
       "           0                                                                  \n",
       "                                                                              \n",
       "\n",
       "                                                                              \n",
       "                                                                              \n",
       "                                                                              \n",
       "                                                                              \n",
       "                                                                              \n",
       "                                                                              \n",
       "                                                                              \n",
       "                                                                              \n",
       "                                                                              \n",
       "                                                                              \n",
       "                                                                              \n",
       "   2        2                                                ⎞                \n",
       "  ⎞     2  d            d              d           2⋅l(r)    ⎟  -2⋅l(r)       \n",
       "))⎟  - r ⋅───(ν(r)) - r⋅──(l(r)) - 5⋅r⋅──(ν(r)) + ℯ       - 1⎟⋅ℯ              \n",
       "  ⎠         2           dr             dr                    ⎟                \n",
       "          dr                                                 ⎠                \n",
       "───────────────────────────────────────────────────────────────────────       \n",
       "                                                                              \n",
       "                                                                              \n",
       "                                                                         ⎛    \n",
       "                                                                         ⎜   3\n",
       "                                                                         ⎜2⋅r \n",
       "                                                                         ⎜    \n",
       "                                                                         ⎝    \n",
       "                                                                         ─────\n",
       "                                                                              \n",
       "\n",
       "                                                                              \n",
       "                                                                              \n",
       "                                                                              \n",
       "                                                                              \n",
       "                                                                              \n",
       "                                                                              \n",
       "                                                                              \n",
       "                                                                              \n",
       "                                                                              \n",
       "                                                                              \n",
       "                                                                              \n",
       "                                                                              \n",
       "                                                                              \n",
       "                                                                              \n",
       "                                                                              \n",
       "                                                                              \n",
       "                                                                              \n",
       "                                                                              \n",
       "                                                                              \n",
       "                                                                              \n",
       "    2    d             3 d               2       2⋅l(r)        2        2⋅l(r)\n",
       "⋅sin (θ)⋅──(ν(r)) + 2⋅r ⋅──(ν(r)) + 8⋅π⋅r ⋅P(r)⋅ℯ       - 8⋅π⋅r ⋅Pt(r)⋅ℯ      \n",
       "         dr              dr                                                   \n",
       "                                                                              \n",
       "──────────────────────────────────────────────────────────────────────────────\n",
       "                                                                              \n",
       "\n",
       "                                                          0                   \n",
       "                                                                              \n",
       "                                                                              \n",
       "                                                                              \n",
       "                                                                              \n",
       "                                                                              \n",
       "                                                                              \n",
       "                                                          0                   \n",
       "                                                                              \n",
       "                                                                              \n",
       "                                                                              \n",
       "                                                                              \n",
       "                                                                              \n",
       "                                                                              \n",
       "                                                                              \n",
       "                                                                              \n",
       "                                                          0                   \n",
       "                                                                              \n",
       "                                                                              \n",
       "                                                   2                          \n",
       "      2  2⋅l(r) d        d             2  2⋅l(r)  d             2  2⋅ν(r) ⎛d  \n",
       " - 2⋅r ⋅ℯ      ⋅──(l(r))⋅──(ν(r)) + 2⋅r ⋅ℯ      ⋅───(ν(r)) - 2⋅r ⋅ℯ      ⋅⎜──(\n",
       "                dr       dr                        2                      ⎝dr \n",
       "                                                 dr                           \n",
       "──────────────────────────────────────────────────────────────────────────────\n",
       "                                                          6                   \n",
       "\n",
       "                                                                              \n",
       "                                                                              \n",
       "                                                                              \n",
       "                                                                              \n",
       "                                                                              \n",
       "                                                                              \n",
       "                                                                              \n",
       "                                                                              \n",
       "                                                                              \n",
       "                                                                              \n",
       "                                                                              \n",
       "                                                                              \n",
       "                                                                              \n",
       "                                                                              \n",
       "                                                                              \n",
       "                                                                              \n",
       "                                                                              \n",
       "                                                                              \n",
       "                                                                              \n",
       "      2                                       2        2                      \n",
       "     ⎞     2 d        d           2 ⎛d       ⎞     2  d            d          \n",
       "ν(r))⎟  + r ⋅──(l(r))⋅──(ν(r)) - r ⋅⎜──(ν(r))⎟  - r ⋅───(ν(r)) - r⋅──(l(r)) - \n",
       "     ⎠       dr       dr            ⎝dr      ⎠         2           dr         \n",
       "                                                     dr                       \n",
       "──────────────────────────────────────────────────────────────────────────────\n",
       "                                                                              \n",
       "\n",
       "                                            ⎤\n",
       "                                            ⎥\n",
       "                                            ⎥\n",
       "                                            ⎥\n",
       "                                            ⎥\n",
       "                                            ⎥\n",
       "                                            ⎥\n",
       "                                            ⎥\n",
       "                                            ⎥\n",
       "                                            ⎥\n",
       "                                            ⎥\n",
       "                                            ⎥\n",
       "                                            ⎥\n",
       "                                            ⎥\n",
       "                                            ⎥\n",
       "                                            ⎥\n",
       "                                            ⎥\n",
       "                                            ⎥\n",
       "                                            ⎥\n",
       "                          ⎞                 ⎥\n",
       "    d           2⋅l(r)    ⎟  -2⋅l(r)    2   ⎥\n",
       "5⋅r⋅──(ν(r)) + ℯ       - 1⎟⋅ℯ       ⋅sin (θ)⎥\n",
       "    dr                    ⎟                 ⎥\n",
       "                          ⎠                 ⎥\n",
       "────────────────────────────────────────────⎥\n",
       "                                            ⎦"
      ]
     },
     "metadata": {},
     "output_type": "display_data"
    }
   ],
   "source": [
    "EE2dd=pt.ten('EE2dd',2)\n",
    "EE2dd.assign( Edd2('_a,_b')-4*sy.pi*PIdd('_a,_b') - (ad('_a')*ad('_b') + (hdd('_a,^c')*hdd('_b,^d')+hdd('_b,^c')*hdd('_a,^d'))*Dcad('_d,_c')/2 \\\n",
    "     - Dcau('^c,_c')*hdd('_a,_b')/3)       ,'_a,_b') \n",
    "EE2dd.factor()\n",
    "EE2dd.display('_,_')"
   ]
  }
 ],
 "metadata": {
  "kernelspec": {
   "display_name": "Python 3.9.12 ('base')",
   "language": "python",
   "name": "python3"
  },
  "language_info": {
   "codemirror_mode": {
    "name": "ipython",
    "version": 3
   },
   "file_extension": ".py",
   "mimetype": "text/x-python",
   "name": "python",
   "nbconvert_exporter": "python",
   "pygments_lexer": "ipython3",
   "version": "3.8.13"
  },
  "vscode": {
   "interpreter": {
    "hash": "8d1181128e1f0e3c7e069abdee9a2274e13259c88bd323b8ad99884c634d782b"
   }
  }
 },
 "nbformat": 4,
 "nbformat_minor": 5
}
