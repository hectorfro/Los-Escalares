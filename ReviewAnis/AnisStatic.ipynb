{
 "cells": [
  {
   "cell_type": "code",
   "execution_count": null,
   "id": "055aea90",
   "metadata": {},
   "outputs": [],
   "source": [
    "#### Versión del 29/1/2023 ##### \n",
    "import pytearcat as pt\n",
    "import sympy as sy\n",
    "from sympy import * "
   ]
  },
  {
   "cell_type": "markdown",
   "id": "f5d30c7b",
   "metadata": {},
   "source": [
    "### Metric\n"
   ]
  },
  {
   "cell_type": "code",
   "execution_count": null,
   "id": "4bf547c2",
   "metadata": {
    "scrolled": true
   },
   "outputs": [],
   "source": [
    "t,r,theta,phi = pt.coords('t,r,theta,phi')\n",
    "\n",
    "A = pt.fun('A','r')\n",
    "B = pt.fun('B','r')\n",
    "C = pt.fun('C','r')\n",
    "#C=r\n",
    "ρ = pt.fun('ρ','r')\n",
    "P = pt.fun('P','r')\n",
    "#Pt = pt.fun('Pt','r')\n",
    "Π = pt.fun('Π','r')\n",
    "#Delta=P-Pt\n",
    "F=0\n",
    "E= pt.fun('E','r')\n"
   ]
  },
  {
   "cell_type": "code",
   "execution_count": null,
   "id": "45b20ced",
   "metadata": {},
   "outputs": [],
   "source": [
    "ds = 'ds2 = -A**2*dt**2 + B**2*dr**2 + C**2 * (dtheta**2 + sin(theta)**2 * dphi**2)'\n",
    "g = pt.metric(ds)"
   ]
  },
  {
   "cell_type": "markdown",
   "id": "a1deed06",
   "metadata": {},
   "source": [
    "### The tetrad: the kinematical variables\n",
    "\n",
    "Let us choose an orthogonal unitary tetrad:\n",
    "$$\n",
    "e^{(0)}_\\alpha~=V_\\alpha, \\quad \n",
    "e^{(1)}_\\alpha~=K_\\alpha, \\quad \n",
    "e^{(2)}_\\alpha~=L_\\alpha \\quad \\mathrm{and}  \\quad e^{(3)}_\\alpha~=~S_\\alpha.\n",
    "$$\n"
   ]
  },
  {
   "cell_type": "code",
   "execution_count": null,
   "id": "04b04d61",
   "metadata": {
    "scrolled": true
   },
   "outputs": [],
   "source": [
    "Vu = pt.ten('Vu',1)\n",
    "Vu.assign([1/A,0,0,0],'^')\n",
    "Ku = pt.ten('Ku',1)\n",
    "Ku.assign([0,1/B,0,0],'^')\n",
    "Lu = pt.ten('Lu',1)\n",
    "Lu.assign([0,0,1/C,0],'^')\n",
    "Su = pt.ten('Su',1)\n",
    "Su.assign([0,0,0,1/(C*sy.sin(theta))],'^')"
   ]
  },
  {
   "cell_type": "code",
   "execution_count": null,
   "id": "1aff4eac",
   "metadata": {
    "scrolled": true
   },
   "outputs": [],
   "source": [
    "Vd = pt.ten('Vd',1)\n",
    "Vd.assign(Vu(\"^a\")*g(\"_a,_b\"),\"_b\")\n",
    "#Vd.display('_')\n",
    "\n",
    "Kd = pt.ten('Kd',1)\n",
    "Kd.assign(Ku(\"^a\")*g(\"_a,_b\"),\"_b\")\n",
    "Kd.simplify()\n",
    "#Kd.display('_')\n",
    "\n",
    "Ld = pt.ten('Ld',1)\n",
    "Ld.assign(Lu(\"^a\")*g(\"_a,_b\"),\"_b\")\n",
    "Ld.simplify()\n",
    "#Ld.display('_')\n",
    "\n",
    "Sd = pt.ten('Sd',1)\n",
    "Sd.assign(Su(\"^a\")*g(\"_a,_b\"),\"_b\")\n",
    "Sd.simplify()\n",
    "#Sd.display('_')"
   ]
  },
  {
   "cell_type": "markdown",
   "id": "741633d8",
   "metadata": {},
   "source": [
    "### Tensores calculados directamente de la métrica"
   ]
  },
  {
   "attachments": {},
   "cell_type": "markdown",
   "id": "5af36ada",
   "metadata": {},
   "source": [
    "$$\n",
    "h_{\\mu\\nu}=g_{\\mu\\nu} +V_\\mu V_\\nu = K_\\mu K_\\nu+L_\\mu L_\\nu+S_\\mu S_\\nu\n",
    "$$"
   ]
  },
  {
   "cell_type": "code",
   "execution_count": null,
   "id": "6c452959",
   "metadata": {},
   "outputs": [],
   "source": [
    "hdd=pt.ten('hdd',2)\n",
    "#hdd.assign(g(\"_a,_b\")+Vd('_a')*Vd('_b') ,\"_a,_b\")\n",
    "hdd.assign(Kd('_a')*Kd('_b')+Ld('_a')*Ld('_b')+Sd('_a')*Sd('_b'),'_a,_b' )\n",
    "hdd.simplify()\n",
    "hdd.complete('_,_')\n",
    "hdd.display('_,_')"
   ]
  },
  {
   "cell_type": "code",
   "execution_count": null,
   "id": "ffd49e0a",
   "metadata": {},
   "outputs": [],
   "source": [
    "Chr= pt.christoffel()"
   ]
  },
  {
   "cell_type": "code",
   "execution_count": null,
   "id": "3019037b",
   "metadata": {},
   "outputs": [],
   "source": [
    "# Tensor de Riemann\n",
    "R = pt.riemann(All=True)\n",
    "R.simplify"
   ]
  },
  {
   "cell_type": "code",
   "execution_count": null,
   "id": "29f74000",
   "metadata": {},
   "outputs": [],
   "source": [
    "# Tensor de Ricci\n",
    "Ric = pt.ricci(All=True)"
   ]
  },
  {
   "cell_type": "code",
   "execution_count": null,
   "id": "561ee6ea",
   "metadata": {},
   "outputs": [],
   "source": [
    "# Escalar de Ricci\n",
    "RicS = pt.riccis()\n",
    "RicS.simplify()"
   ]
  },
  {
   "cell_type": "markdown",
   "id": "23a35ba3",
   "metadata": {},
   "source": [
    "$$\n",
    "C_{a b c d}=  R_{a b c d} - g_{a[c} R_{d] b} + g_{b[c} R_{d] a}  + \\frac{1}{3} R g_{a[c} g_{d] b}\n",
    "$$"
   ]
  },
  {
   "cell_type": "code",
   "execution_count": null,
   "id": "c73795b1",
   "metadata": {},
   "outputs": [],
   "source": [
    "Wy= pt.ten('Wy',4)\n",
    "Wy.assign( R('_a,_b,_c,_d') - (g('_a,_c')*Ric('_d,_b') - g('_a,_d')*Ric('_c,_b'))/2 + \\\n",
    "                              (g('_b,_c')*Ric('_d,_a') - g('_b,_d')*Ric('_c,_a'))/2 + \\\n",
    "            (RicS*(g('_a,_c')*g('_d,_b')- g('_a,_d')*g('_c,_b')))/3 , '_a,_b,_c,_d') \n",
    "Wy.simplify()\n",
    "Wy.complete('_,_,_,_')\n",
    "#Wy.display('^a,_b,_a,_d')"
   ]
  },
  {
   "cell_type": "markdown",
   "id": "b5680f3c",
   "metadata": {},
   "source": [
    "The first set equations can be considered purely geometrical and emerges from the projection of the Riemann tensor along the tetrad i.e.\n",
    "$$\n",
    "2 V_{\\alpha ;[\\beta ; \\gamma]}=R_{\\delta \\alpha \\beta \\gamma} V^{\\delta}, \\quad 2 K_{\\alpha ;[\\beta ; \\gamma]}=R_{\\delta \\alpha \\beta \\gamma} K^{\\delta}, \\quad 2 L_{\\alpha ;[\\beta ; \\gamma]}=R_{\\delta \\alpha \\beta \\gamma} L^{\\delta} \\quad \\text { and } \\quad 2 S_{\\alpha ;[\\beta ; \\gamma]}=R_{\\delta \\alpha \\beta \\gamma} S^{\\delta}\n",
    "$$"
   ]
  },
  {
   "cell_type": "code",
   "execution_count": null,
   "id": "1a16a533",
   "metadata": {},
   "outputs": [],
   "source": [
    "a1= A.diff(r)/(A*B)\n",
    "\n",
    "σ1 = B.diff(t)/(A*B)\n",
    "σ2= C.diff(t)/(A*C)\n",
    "\n",
    "J1=C.diff(r)/(C*B)\n",
    "J2=sy.cot(theta)/C\n",
    "[a1,σ1,σ2,J1,J2]"
   ]
  },
  {
   "cell_type": "markdown",
   "id": "c7d524b1",
   "metadata": {},
   "source": [
    "### COVARIANT DERIVATIVE OF $V_{\\alpha}$\n",
    "$$\n",
    "V_{\\alpha ; \\beta}\n",
    "$$\n"
   ]
  },
  {
   "cell_type": "code",
   "execution_count": null,
   "id": "4c081af4",
   "metadata": {},
   "outputs": [],
   "source": [
    "DcVd = pt.ten('DcVd',2)\n",
    "DcVd.assign(-a1*Kd('_a')*Vd('_b')+ σ1*Kd('_a')*Kd('_b')+ σ2*(Ld('_a')*Ld('_b')+Sd('_a')*Sd('_b')) ,\"_a,_b\")\n",
    "DcVd.complete('_,_')\n",
    "DcVd.display('_,_')"
   ]
  },
  {
   "cell_type": "markdown",
   "id": "e52079ce",
   "metadata": {},
   "source": [
    "$$\n",
    "a_{\\alpha}=V^{\\beta} V_{\\alpha ; \\beta}\\,, \\quad a_{\\alpha;\\beta}\n",
    "$$"
   ]
  },
  {
   "cell_type": "code",
   "execution_count": null,
   "id": "9b71217e",
   "metadata": {},
   "outputs": [],
   "source": [
    "# Aceleracion y su derivada covariante\n",
    "ad= pt.ten(\"ad\",1)\n",
    "ad.assign( DcVd(\"_a,_b\")*Vu(\"^b\") ,\"_a\")\n",
    "ad.complete('_')\n",
    "ad.simplify()\n",
    "\n",
    "Dcad = pt.ten(\"Dcad\",2)\n",
    "Dcad_dat = pt.C(ad(\"_a\"),\"_b\") \n",
    "Dcad.assign(Dcad_dat,\"_a,_b\")\n",
    "Dcad.complete('_,_')\n",
    "Dcad.simplify()\n",
    "Dcad.display()"
   ]
  },
  {
   "cell_type": "code",
   "execution_count": null,
   "id": "7dd54713",
   "metadata": {},
   "outputs": [],
   "source": [
    "Dcau = pt.ten('Dcau',2)\n",
    "Dcau_dat = pt.C(ad('^a'),'_b') \n",
    "Dcau.assign(Dcad_dat,'^a,_b')\n",
    "Dcau.complete('^,_')\n",
    "Dcau.simplify()\n",
    "Dcau.display()"
   ]
  },
  {
   "cell_type": "markdown",
   "id": "f9f2471f",
   "metadata": {},
   "source": [
    "$$\n",
    "\\Theta=V_{; \\alpha}^{\\alpha}\n",
    "$$"
   ]
  },
  {
   "cell_type": "code",
   "execution_count": null,
   "id": "8d35dc6d",
   "metadata": {},
   "outputs": [],
   "source": [
    "#Expansión\n",
    "Θ =DcVd('^a,_a')\n",
    "display(Θ)"
   ]
  },
  {
   "cell_type": "code",
   "execution_count": null,
   "id": "7c367e58",
   "metadata": {},
   "outputs": [],
   "source": [
    "#Shear\n",
    "σ= 1/A*(B.diff(t)/(B)-C.diff(t)/(C)  )\n",
    "display(σ)"
   ]
  },
  {
   "cell_type": "markdown",
   "id": "01a1c946",
   "metadata": {},
   "source": [
    "### COVARIANT DERIVATIVE OF: \n",
    "$$\n",
    "K_{\\alpha ; \\beta}\\,, \\quad L_{\\alpha ; \\beta} \\,, \\quad S{\\alpha ; \\beta}\n",
    "$$"
   ]
  },
  {
   "cell_type": "code",
   "execution_count": null,
   "id": "d2e34806",
   "metadata": {},
   "outputs": [],
   "source": [
    "DcKd = pt.ten('DcKd',2)\n",
    "DcKd.assign(-a1*Vd('_a')*Vd('_b')+ σ1*Vd('_a')*Kd('_b')+ J1*(Ld('_a')*Ld('_b')+Sd('_a')*Sd('_b')) ,\"_a,_b\")\n",
    "DcKd.simplify()\n",
    "#DcKdS.display('_,_')\n",
    "\n",
    "DcLd = pt.ten('DcLd',2)\n",
    "DcLd.assign(σ2*Vd('_a')*Ld('_b')- J1*Kd('_a')*Ld('_b')+ J2*Sd('_a')*Sd('_b') ,\"_a,_b\")\n",
    "DcLd.simplify()\n",
    "#DcLdS.display('_,_')\n",
    "\n",
    "DcSd = pt.ten('DcSd',2)\n",
    "DcSd.assign(σ2*Vd('_a')*Sd('_b')- J1*Kd('_a')*Sd('_b')- J2*Ld('_a')*Sd('_b') ,\"_a,_b\")\n",
    "DcSd.simplify()\n",
    "#DcSdS.display('_,_')\n"
   ]
  },
  {
   "cell_type": "markdown",
   "id": "5676bc13",
   "metadata": {},
   "source": [
    "### The directional derivatives operators\n",
    "$$\n",
    "f^{\\bullet}=V^{\\alpha} \\partial_{\\alpha} f \\quad f^{\\dagger}=K^{\\alpha} \\partial_{\\alpha} f \\quad \\text { and } \\quad f^{*}=L^{\\alpha} \\partial_{\\alpha} f\n",
    "$$"
   ]
  },
  {
   "cell_type": "code",
   "execution_count": null,
   "id": "e0beed4c",
   "metadata": {},
   "outputs": [],
   "source": [
    "# Derivadas de a1\n",
    "Da1c= pt.ten('Da1c',1)\n",
    "Da1c.assign(pt.D(a1,\"_a\"), \"_a\")\n",
    "Da1c.simplify()\n",
    "Da1cir= Vu('^a')*Da1c('_a') \n",
    "Da1cir.simplify()\n",
    "\n",
    "Da1= pt.ten('Da1',1)\n",
    "Da1.assign(pt.D(a1,\"_a\"), \"_a\")\n",
    "Da1.simplify()\n",
    "Da1dag= Ku('^a')*Da1('_a') \n",
    "Da1dag.factor()\n",
    "\n",
    "Da1es= pt.ten('Da1est',1)\n",
    "Da1es.assign(pt.D(a1,\"_a\"), \"_a\")\n",
    "Da1es.simplify()\n",
    "Da1est= Lu('^a')*Da1es('_a') \n",
    "Da1est.simplify()\n",
    "\n",
    "[Da1cir, Da1dag, Da1est]"
   ]
  },
  {
   "cell_type": "markdown",
   "id": "9b1e9732",
   "metadata": {},
   "source": [
    "## The energy momentum tensor\n",
    "$$\n",
    "{T}_{\\alpha\\beta}= (\\rho+P) V_\\alpha V_\\beta+P g _{\\alpha \\beta} +\\Pi_{\\alpha \\beta}+\\mathcal{F}_\\alpha V_\\beta+\\mathcal{F}_\\beta V_\\alpha .\n",
    "$$"
   ]
  },
  {
   "cell_type": "markdown",
   "id": "690acfa1",
   "metadata": {},
   "source": [
    "$$\n",
    "\\mathcal{F}_{\\mu}=\\mathcal{F} K_{\\mu}\n",
    "$$"
   ]
  },
  {
   "cell_type": "code",
   "execution_count": null,
   "id": "b7825425",
   "metadata": {},
   "outputs": [],
   "source": [
    "Fd=pt.ten('Fd',1)\n",
    "Fd.assign(F*Kd('_a') ,\"_a\")\n",
    "Fd.simplify()\n",
    "Fd.display('_')\n",
    "Fd.complete('_')"
   ]
  },
  {
   "cell_type": "markdown",
   "id": "70a184c3",
   "metadata": {},
   "source": [
    "$$\n",
    "\\mathcal{F}^{\\mu} V_{\\mu}=0\n",
    "$$"
   ]
  },
  {
   "cell_type": "code",
   "execution_count": null,
   "id": "48f2a04e",
   "metadata": {},
   "outputs": [],
   "source": [
    "Fd(\"^a\")*Vd(\"_a\")"
   ]
  },
  {
   "cell_type": "code",
   "execution_count": null,
   "id": "3af7d2aa",
   "metadata": {},
   "outputs": [],
   "source": [
    "PIdd=pt.ten('PIdd',2)\n",
    "PIdd.assign(Π*(Kd(\"_a\")*Kd(\"_b\")-hdd(\"_a,_b\")/3) ,\"_a,_b\")\n",
    "PIdd.simplify()\n",
    "PIdd.display('_,_')"
   ]
  },
  {
   "cell_type": "code",
   "execution_count": null,
   "id": "f4ae0485",
   "metadata": {},
   "outputs": [],
   "source": [
    "T = pt.ten('T',2)\n",
    "T.assign((ρ+P)*Vd(\"_a\")*Vd(\"_b\") + P*g(\"_a,_b\") + PIdd(\"_a,_b\") + Fd(\"_a\")*Vd(\"_b\") + Fd(\"_b\")*Vd(\"_a\") ,\"_a,_b\")\n",
    "T.simplify()\n",
    "T.complete('_,_')\n",
    "T.display('^,_')"
   ]
  },
  {
   "cell_type": "code",
   "execution_count": null,
   "id": "c31643e8",
   "metadata": {},
   "outputs": [],
   "source": [
    "TOV = pt.ten('TOV',1)\n",
    "val = pt.C(T(\"^a,^b\"),\"_b\")\n",
    "TOV.assign(val,\"^a\")\n",
    "TOV.simplify()\n",
    "TOV.complete('^')\n",
    "#TOV.display(aslist=True)"
   ]
  },
  {
   "cell_type": "code",
   "execution_count": null,
   "id": "62d4adf4",
   "metadata": {},
   "outputs": [],
   "source": [
    "TOV1=TOV(\"_0\")\n",
    "TOV1.factor()"
   ]
  },
  {
   "cell_type": "code",
   "execution_count": null,
   "id": "12e345c4",
   "metadata": {},
   "outputs": [],
   "source": [
    "TOV2=TOV(\"_1\")\n",
    "TOV2.factor()"
   ]
  },
  {
   "attachments": {},
   "cell_type": "markdown",
   "id": "a91e8643",
   "metadata": {},
   "source": [
    "$$\n",
    "\\rho=T_{\\alpha \\beta} V^\\alpha V^\\beta\n",
    "$$"
   ]
  },
  {
   "cell_type": "code",
   "execution_count": null,
   "id": "f57e592e",
   "metadata": {},
   "outputs": [],
   "source": [
    "T(\"_a,_b\")*Vu('^a')*Vu('^b')"
   ]
  },
  {
   "attachments": {},
   "cell_type": "markdown",
   "id": "1494024f",
   "metadata": {},
   "source": [
    "$$\n",
    "\\mathcal{F}_\\alpha=-\\rho V_\\alpha-T_{\\alpha \\beta} V^\\beta\n",
    "$$"
   ]
  },
  {
   "cell_type": "code",
   "execution_count": null,
   "id": "9e80f8e9",
   "metadata": {},
   "outputs": [],
   "source": [
    "Fdp=pt.ten('Fdp',1)\n",
    "Fdp.assign(-ρ*Vd('_a') -T(\"_a,_b\")*Vu('^b') ,\"_a\")\n",
    "Fdp.simplify()\n",
    "Fdp.display('_')"
   ]
  },
  {
   "attachments": {},
   "cell_type": "markdown",
   "id": "bc429ea4",
   "metadata": {},
   "source": [
    "$$\n",
    "P=\\frac{1}{3} h^{\\alpha \\beta} T_{\\alpha \\beta}\n",
    "$$"
   ]
  },
  {
   "cell_type": "code",
   "execution_count": null,
   "id": "32201992",
   "metadata": {},
   "outputs": [],
   "source": [
    "hdd(\"^a,^b\")*T(\"_a,_b\")/3"
   ]
  },
  {
   "cell_type": "markdown",
   "id": "a22968b5",
   "metadata": {},
   "source": [
    "$$\n",
    "\\Pi_{\\alpha \\beta}=h_\\alpha^\\mu h_\\beta^\\nu\\left(T_{\\mu \\nu}-P h_{\\mu \\nu}\\right)\n",
    "$$"
   ]
  },
  {
   "cell_type": "code",
   "execution_count": null,
   "id": "b31f4298",
   "metadata": {},
   "outputs": [],
   "source": [
    "PI2=pt.ten('PI2',2)\n",
    "PI2.assign(hdd(\"_a,^c\")*hdd(\"_b,^d\")*(T(\"_c,_d\") - P*hdd(\"_c,_d\") ),\"_a,_b\")\n",
    "PI2.simplify()\n",
    "PI2.display()"
   ]
  },
  {
   "attachments": {},
   "cell_type": "markdown",
   "id": "d9563003",
   "metadata": {},
   "source": [
    "The anisotropic tensor, $\\Pi_{\\alpha \\beta}$ can be  expressed as\n",
    "$$\n",
    "\\Pi_{\\alpha \\beta}= \\Pi \\left(K_\\alpha K_\\beta -\\frac{h_{\\alpha \\beta}}{3}\\right) \\quad \\textrm{with} \\quad \\Pi=P_{r}-P_{\\perp} \\, .\n",
    "$$"
   ]
  },
  {
   "cell_type": "code",
   "execution_count": null,
   "id": "c69ca21a",
   "metadata": {},
   "outputs": [],
   "source": [
    "PIT=pt.ten('PIT',2)\n",
    "PIT.assign(Π*(Kd(\"_a\")*Kd(\"_b\")-hdd(\"_a,_b\")/3) ,\"_a,_b\")\n",
    "PIT.simplify()\n",
    "PIT.display('_,_')"
   ]
  },
  {
   "cell_type": "markdown",
   "id": "8b4abef8",
   "metadata": {},
   "source": [
    "## The splitting of the Riemann tensor and structure scalars\n",
    "\n",
    "A set of scalar functions --the structure scalars--  obtained from the orthogonal splitting of the Riemann tensor\n",
    "\n",
    "\n",
    "We can express the splitting of the Riemann tensor as:\n",
    "$$\n",
    "R_{\\alpha \\beta \\mu \\nu}=2V_\\mu V_{[\\alpha}Y_{\\beta] \\, \\nu}+2h_{\\alpha[\\nu}X_{\\mu] \\,  \\beta}+2V_\\nu V_{[\\beta}Y_{\\alpha] \\, \\mu}\n",
    "+ h_{\\beta\\nu}(X_0 \\, h_{\\alpha\\mu}-X_{\\alpha\\mu})+h_{\\beta\\mu}(X_{\\alpha\\nu} -X_0 \\, h_{\\alpha\\nu})\n",
    "$$\n",
    "\n",
    "$$\n",
    " + 2V_{[\\nu} Z_{ \\, \\mu]}^{\\gamma}\\varepsilon_{{\\alpha \\beta \\gamma}} +2V_{[\\beta} Z_{{\\,  \\ \\alpha]}}^{{\\gamma }}\\ \\varepsilon_{{\\mu \\nu \\gamma}} \\,,\n",
    "$$\n",
    "\n",
    "with $\\varepsilon_{\\mu \\nu \\gamma} = \\eta_{\\phi \\mu \\nu \\gamma} V^{\\phi}$, and  $ \\eta_{\\phi \\mu \\nu \\gamma}$ the Levi-Civita 4-tensor. \n"
   ]
  },
  {
   "cell_type": "code",
   "execution_count": null,
   "id": "572ced36",
   "metadata": {},
   "outputs": [],
   "source": [
    "Y0=4*sy.pi*(ρ+3*P)\n",
    "Y1=E-4*sy.pi*Π\n",
    "X0=8*sy.pi*ρ\n",
    "X1=-(E+4*sy.pi*Π)\n",
    "Z=4*sy.pi*F"
   ]
  },
  {
   "cell_type": "code",
   "execution_count": null,
   "id": "9db82760",
   "metadata": {},
   "outputs": [],
   "source": [
    "Ydd= pt.ten('Ydd',2)\n",
    "Ydd.assign(Y0*hdd(\"_a,_b\")/3 + Y1*(Kd('_a')*Kd('_b') - hdd(\"_a,_b\")/3) ,\"_a,_b\")\n",
    "Ydd.simplify()\n",
    "Ydd.complete('_,_')\n",
    "Ydd.display('_,_')"
   ]
  },
  {
   "cell_type": "code",
   "execution_count": null,
   "id": "40a7a3e2",
   "metadata": {},
   "outputs": [],
   "source": [
    "Xdd= pt.ten('Xdd',2)\n",
    "Xdd.assign(X0*hdd(\"_a,_b\")/3 + X1*(Kd('_a')*Kd('_b')-hdd(\"_a,_b\")/3) ,\"_a,_b\")\n",
    "Xdd.simplify()\n",
    "Xdd.complete('_,_')\n",
    "Xdd.display('_,_')"
   ]
  },
  {
   "cell_type": "code",
   "execution_count": null,
   "id": "e0b5f839",
   "metadata": {},
   "outputs": [],
   "source": [
    "Zdd= pt.ten('Zdd',2)\n",
    "Zdd.assign(Z*(Ld('_a')*Sd('_b')-Ld('_b')*Sd('_a')) ,\"_a,_b\")\n",
    "Zdd.simplify()\n",
    "Zdd.display('_,_')\n",
    "Zdd.complete('_,_')\n",
    "Zdd.simplify()"
   ]
  },
  {
   "cell_type": "code",
   "execution_count": null,
   "id": "492ec580",
   "metadata": {},
   "outputs": [],
   "source": [
    "LC = pt.lcivita(convention=1)\n",
    "eddd= pt.ten('eddd',3)\n",
    "eddd.assign(LC('_a,_b,_c,_d')*Vu('^a'), \"_b,_c,_d\")\n",
    "eddd.simplify()\n",
    "eddd('_1,_2,_3')"
   ]
  },
  {
   "cell_type": "code",
   "execution_count": null,
   "id": "e047e465",
   "metadata": {},
   "outputs": [],
   "source": [
    "Rdddd= pt.ten('Rdddd',4)\n",
    "Rdddd.assign(Vd('_c')*Vd('_a')*Ydd('_b,_d')-Vd('_c')*Vd('_b')*Ydd('_a,_d') + \\\n",
    "             Vd('_d')*Vd('_b')*Ydd('_a,_c')-Vd('_d')*Vd('_a')*Ydd('_b,_c') + \\\n",
    "             hdd(\"_a,_d\")*Xdd('_c,_b')- hdd(\"_a,_c\")*Xdd('_d,_b') +\\\n",
    "             hdd(\"_b,_d\")*(X0*hdd(\"_a,_c\")-Xdd('_a,_c') ) + \\\n",
    "             hdd(\"_b,_c\")*(Xdd('_a,_d')-X0*hdd(\"_a,_d\") ) + \\\n",
    "             Vd('_d')*Zdd('^e,_c')*eddd(\"_a,_b,_e\")- Vd('_c')*Zdd('^e,_d')*eddd(\"_a,_b,_e\") + \n",
    "             Vd('_b')*Zdd('^e,_a')*eddd(\"_c,_d,_e\")- Vd('_a')*Zdd('^e,_b')*eddd(\"_c,_d,_e\") , \"_a,_b,_c,_d\")\n",
    "Rdddd.simplify()\n",
    "#Rdddd.display('_,_,_,_')\n",
    "Rdddd.complete('_,_,_,_')"
   ]
  },
  {
   "attachments": {},
   "cell_type": "markdown",
   "id": "fbcaf02d",
   "metadata": {},
   "source": [
    "$$\n",
    "R_{\\alpha\\beta} =  Y_0 \\, V_\\alpha V_\\beta-X_{\\alpha \\beta}-Y_{\\alpha\\beta} +X_0 \\, h_{\\alpha\\beta}  +Z^{\\gamma \\delta} \\varepsilon_{\\beta \\gamma \\delta}V_{\\alpha} \n",
    "+ Z^{\\gamma \\delta} \\varepsilon_{\\alpha \\gamma \\delta} V_{\\beta}\n",
    "$$"
   ]
  },
  {
   "cell_type": "code",
   "execution_count": null,
   "id": "226fcc99",
   "metadata": {},
   "outputs": [],
   "source": [
    "Rdd= pt.ten('Rdd',2)\n",
    "Rdd.assign(Y0*Vd('_a')*Vd('_c') - Xdd('_a,_c') + X0*hdd(\"_a,_c\") +\\\n",
    "           Zdd('^d,^b')*eddd(\"_c,_d,_b\")*Vd('_a') + \\\n",
    "           Vd('_c')*Zdd('^d,^b')*eddd(\"_a,_d,_b\"), \"_a,_c\")\n",
    "Rdd.complete('_,_')    \n",
    "Rdd.simplify()\n",
    "Rdd.display('_,_')"
   ]
  },
  {
   "attachments": {},
   "cell_type": "markdown",
   "id": "b997473b",
   "metadata": {},
   "source": [
    "$$\n",
    "R={{R_{\\alpha \\beta}}^{\\alpha}}_{\\delta}g^{\\beta \\delta}\n",
    "$$"
   ]
  },
  {
   "cell_type": "code",
   "execution_count": null,
   "id": "3f0e6421",
   "metadata": {},
   "outputs": [],
   "source": [
    "Rs=Rdddd('_a,_b,^a,_d')*g('^b,^d')\n",
    "Rs.simplify()"
   ]
  },
  {
   "cell_type": "code",
   "execution_count": null,
   "id": "1ec3e132",
   "metadata": {},
   "outputs": [],
   "source": [
    "PI2=pt.ten('PI2',2)\n",
    "PI2.assign(-1/(8*sy.pi)*(X1+Y1)*(Kd(\"_a\")*Kd(\"_b\")-hdd(\"_a,_b\")/3) ,\"_a,_b\")\n",
    "PI2.simplify()\n",
    "PI2.display('_,_')"
   ]
  },
  {
   "cell_type": "code",
   "execution_count": null,
   "id": "4cb90c4e",
   "metadata": {},
   "outputs": [],
   "source": [
    "Gdd=pt.ten('Gdd',2)\n",
    "Gdd.assign(Rdd('_a,_b')-g('_a,_b')*Rs/2 ,\"_a,_b\")\n",
    "Gdd.factor()\n",
    "Gdd.display('_,_')"
   ]
  },
  {
   "cell_type": "code",
   "execution_count": null,
   "id": "bf4a0646",
   "metadata": {},
   "outputs": [],
   "source": [
    "Dcad('^a,_a')"
   ]
  },
  {
   "cell_type": "code",
   "execution_count": null,
   "id": "77ba8237",
   "metadata": {},
   "outputs": [],
   "source": [
    "Gdd0=Gdd('_0,_0')-Dcad('^0,_0')\n",
    "Gdd0.factor()"
   ]
  },
  {
   "cell_type": "code",
   "execution_count": null,
   "id": "080c6232",
   "metadata": {},
   "outputs": [],
   "source": [
    "Gdd1=Gdd('_1,_1')-Dcad('^1,_1')\n",
    "Gdd1.simplify()"
   ]
  },
  {
   "cell_type": "markdown",
   "id": "2e860b1c",
   "metadata": {},
   "source": [
    "## Projections of Riemann tensor"
   ]
  },
  {
   "cell_type": "markdown",
   "id": "9a40b4dc",
   "metadata": {},
   "source": [
    "$$\n",
    "f^{\\bullet} = V^{\\alpha} \\partial_{\\alpha}f ; \\quad f^{{\\rm t}} = K^{\\alpha} \\partial_{\\alpha}f  \\quad \\mathrm{and} \\quad f^{\\ast} = L^{\\alpha}\\partial_{\\alpha}f\n",
    "$$\n",
    "\n",
    "$$\n",
    "\\sigma^{\\bullet}_{1} -a_1^{{\\rm t}} -a_1^2+\\sigma_1^2 = -\\frac{1}{3}(Y_0+2Y_1) \\qquad (25)\n",
    "$$"
   ]
  },
  {
   "cell_type": "code",
   "execution_count": null,
   "id": "9b64624d",
   "metadata": {},
   "outputs": [],
   "source": [
    "Dsigma1= pt.ten('Dsigma1',1)\n",
    "Dsigma1.assign(pt.D(σ1,\"_a\"), \"_a\")\n",
    "Dsigma1.simplify()\n",
    "Dsigma1P= Vu('^a')*Dsigma1('_a') \n",
    "#pt.display(Dsigma1P)\n",
    "Dsigma1dag= Ku('^a')*Dsigma1('_a') \n",
    "#Dsigma1dag\n",
    "eq25= pt.factor(Dsigma1P - Da1dag - a1**2 + σ1**2) + pt.factor(Y0+2*Y1)/3\n",
    "eq25"
   ]
  },
  {
   "cell_type": "markdown",
   "id": "3c0cb981",
   "metadata": {},
   "source": [
    "$$\n",
    "\\sigma^{\\bullet}_{2} +\\sigma_2^2-a_1J_1 = \\frac{1}{3}(Y_1-Y_0) \\qquad (26)\n",
    "$$"
   ]
  },
  {
   "cell_type": "code",
   "execution_count": null,
   "id": "2208149d",
   "metadata": {},
   "outputs": [],
   "source": [
    "Dsigma2= pt.ten('Dsigma2',1)\n",
    "Dsigma2.assign(pt.D(σ2,\"_a\"), \"_a\")\n",
    "Dsigma2.simplify()\n",
    "Dsigma2P= Vu('^a')*Dsigma2('_a') \n",
    "#pt.display(Dsigma2P)\n",
    "Dsigma2dag= Ku('^a')*Dsigma2('_a') \n",
    "#Dsigma2dag\n",
    "eq26= pt.factor(Dsigma2P +σ2**2 -a1*J1) - pt.factor((Y1-Y0)/3)\n",
    "eq26"
   ]
  },
  {
   "cell_type": "markdown",
   "id": "886778e6",
   "metadata": {},
   "source": [
    "$$\n",
    "\\sigma_2^{{\\rm t}}+J_1(\\sigma_2-\\sigma_1)=-Z \\qquad (27)\n",
    "$$"
   ]
  },
  {
   "cell_type": "code",
   "execution_count": null,
   "id": "d2974829",
   "metadata": {},
   "outputs": [],
   "source": [
    "eq27= pt.simplify(Dsigma2dag + J1*(σ2-σ1)) + Z \n",
    "eq27"
   ]
  },
  {
   "cell_type": "markdown",
   "id": "0db63c57",
   "metadata": {},
   "source": [
    "$$\n",
    "J^{\\bullet}_{1} +J_1\\sigma_2-a_1\\sigma_2 = -Z \\qquad (28)\n",
    "$$"
   ]
  },
  {
   "cell_type": "code",
   "execution_count": null,
   "id": "0a49fb5f",
   "metadata": {},
   "outputs": [],
   "source": [
    "DJ1= pt.ten('DJ1',1)\n",
    "DJ1.assign(pt.D(J1,\"_a\"), \"_a\")\n",
    "DJ1.simplify()\n",
    "DJ1P= Vu('^a')*DJ1('_a') \n",
    "#pt.display(DJ1P)\n",
    "DJ1dag= Ku('^a')*DJ1('_a') \n",
    "#DJ1dag\n",
    "eq28= pt.factor(DJ1P + J1*σ2 - a1*σ2) + Z \n",
    "eq28"
   ]
  },
  {
   "cell_type": "markdown",
   "id": "cdb09fc8",
   "metadata": {},
   "source": [
    "$$\n",
    "J_1^{{\\rm t}}+J_1^2-\\sigma_1 \\sigma_2 = \\frac{1}{3}(X_1-X_0) \\qquad (29)\n",
    "$$"
   ]
  },
  {
   "cell_type": "code",
   "execution_count": null,
   "id": "7403b8df",
   "metadata": {},
   "outputs": [],
   "source": [
    "eq29= pt.factor(DJ1dag + J1**2 - σ2*σ1) - pt.factor((X1-X0)/3)\n",
    "eq29"
   ]
  },
  {
   "cell_type": "markdown",
   "id": "f649a35b",
   "metadata": {},
   "source": [
    "$$\n",
    "J^{\\bullet}_{2} +J_2\\sigma_2 = 0  \\qquad (30)\n",
    "$$"
   ]
  },
  {
   "cell_type": "code",
   "execution_count": null,
   "id": "a31edf2c",
   "metadata": {},
   "outputs": [],
   "source": [
    "DJ2= pt.ten('DJ2',1)\n",
    "DJ2.assign(pt.D(J2,\"_a\"), \"_a\")\n",
    "DJ2.simplify()\n",
    "DJ2P= Vu('^a')*DJ2('_a') \n",
    "#pt.display(DJ2P)\n",
    "DJ2dag= Ku('^a')*DJ2('_a') \n",
    "#DJ2dag\n",
    "eq30= pt.simplify(DJ2P + J2*σ2) \n",
    "eq30"
   ]
  },
  {
   "cell_type": "markdown",
   "id": "feafe2b3",
   "metadata": {},
   "source": [
    "$$\n",
    "J_2^{{\\rm t}} +J_1J_2 = 0   \\qquad (31)\n",
    "$$"
   ]
  },
  {
   "cell_type": "code",
   "execution_count": null,
   "id": "e08436a2",
   "metadata": {},
   "outputs": [],
   "source": [
    "eq31= pt.simplify(DJ2dag + J1*J2) \n",
    "eq31"
   ]
  },
  {
   "cell_type": "markdown",
   "id": "b00a8b96",
   "metadata": {},
   "source": [
    "$$\n",
    "J_1^2-\\frac{1}{C^2}-\\sigma_2^2 = -\\frac{1}{3}(X_0+2X_1) \\qquad (32)\n",
    "$$"
   ]
  },
  {
   "cell_type": "code",
   "execution_count": null,
   "id": "bfdbc116",
   "metadata": {},
   "outputs": [],
   "source": [
    "eq32= pt.simplify(J1**2 - 1/C**2 - σ2**2) + pt.factor((X0+2*X1)/3)\n",
    "eq32"
   ]
  },
  {
   "cell_type": "markdown",
   "id": "31857dcb",
   "metadata": {},
   "source": [
    "## Equations from Bianchi identities:\n",
    "$$\n",
    "\\begin{array}{r}\n",
    "a_1\\left[-X_0+X_1-Y_0+Y_1\\right]+3 J_1 Y_1+3 Z^{\\bullet}+6 Z \\sigma_1+3 Z \\sigma_2-Y_0^{\\dagger}+Y_1^{\\dagger}=0 \\,\\, \\text { (33) } \\\\\n",
    "X_0^{\\bullet}-X_1^{\\bullet}-6 a_1 Z-3 J_1 Z+\\left[Y_0-Y_1-X_1\\right] \\sigma_1+\\left[Y_0+2 Y_1-X_1\\right] \\sigma_2+X_0\\left[\\sigma_1+\\sigma_2\\right]-3 Z^{\\dagger}=0 \\,\\, \\text { (34) } \\\\\n",
    "X_0^{\\bullet}+2 X_1^{\\bullet}+2 X_0 \\sigma_2-6 J_1 Z+\\left[4 X_1+2 Y_0-2 Y_1\\right] \\sigma_2=0 \\,\\, \\text { (35) } \\\\\n",
    "X_0^{\\dagger}+2 X_1^{\\dagger}+6 J_1 X_1+6 Z \\sigma_2=0 \\,\\, \\text { (36) }\n",
    "\\end{array}\n",
    "$$"
   ]
  },
  {
   "cell_type": "code",
   "execution_count": null,
   "id": "6e0f6f33",
   "metadata": {},
   "outputs": [],
   "source": [
    "DZ= pt.ten('DZ',1)\n",
    "DZ.assign(pt.D(Z,\"_a\"), \"_a\")\n",
    "DZ.simplify()\n",
    "DZP= Vu('^a')*DZ('_a') \n",
    "#pt.display(DZP)\n",
    "DZdag= Ku('^a')*DZ('_a') \n",
    "#DZdag"
   ]
  },
  {
   "cell_type": "code",
   "execution_count": null,
   "id": "be3174fe",
   "metadata": {},
   "outputs": [],
   "source": [
    "DY0= pt.ten('DY0',1)\n",
    "DY0.assign(pt.D(Y0,\"_a\"), \"_a\")\n",
    "DY0.simplify()\n",
    "DY0P= Vu('^a')*DY0('_a') \n",
    "#pt.display(DY0P)\n",
    "DY0dag= Ku('^a')*DY0('_a') \n",
    "#DY0dag"
   ]
  },
  {
   "cell_type": "code",
   "execution_count": null,
   "id": "7c0a54b4",
   "metadata": {},
   "outputs": [],
   "source": [
    "DY1= pt.ten('DY1',1)\n",
    "DY1.assign(pt.D(Y1,\"_a\"), \"_a\")\n",
    "DY1.simplify()\n",
    "DY1P= Vu('^a')*DY1('_a') \n",
    "#pt.display(DY1P)\n",
    "DY1dag= Ku('^a')*DY1('_a') \n",
    "#DY1dag"
   ]
  },
  {
   "cell_type": "code",
   "execution_count": null,
   "id": "893c40e1",
   "metadata": {},
   "outputs": [],
   "source": [
    "DX0= pt.ten('DX0',1)\n",
    "DX0.assign(pt.D(X0,\"_a\"), \"_a\")\n",
    "DX0.simplify()\n",
    "DX0P= Vu('^a')*DX0('_a') \n",
    "#pt.display(DX0P)\n",
    "DX0dag= Ku('^a')*DX0('_a') \n",
    "#DX0dag"
   ]
  },
  {
   "cell_type": "code",
   "execution_count": null,
   "id": "c3f21a18",
   "metadata": {},
   "outputs": [],
   "source": [
    "DX1= pt.ten('DX1',1)\n",
    "DX1.assign(pt.D(X1,\"_a\"), \"_a\")\n",
    "DX1.simplify()\n",
    "DX1P= Vu('^a')*DX1('_a') \n",
    "#pt.display(DX1P)\n",
    "DX1dag= Ku('^a')*DX1('_a') \n",
    "#DX1dag"
   ]
  },
  {
   "attachments": {},
   "cell_type": "markdown",
   "id": "be268b55",
   "metadata": {},
   "source": [
    "$$\n",
    "a_1[-X_0+X_1-Y_0+Y_1]+3J_1Y_1+3Z^{\\bullet} +6Z \\sigma_1 + 3Z\\sigma_2-Y_0^\\dag+Y_1^\\dag = 0  \\qquad  (33)\n",
    "$$"
   ]
  },
  {
   "cell_type": "code",
   "execution_count": null,
   "id": "5776313b",
   "metadata": {},
   "outputs": [],
   "source": [
    "eq33=sy.factor(a1*(-X0+X1-Y0+Y1) + 3*J1*Y1 + 3*DZP + 6*Z*σ1 + 3*Z*σ2 - DY0dag + DY1dag )\n",
    "eq33"
   ]
  },
  {
   "attachments": {},
   "cell_type": "markdown",
   "id": "fcece163",
   "metadata": {},
   "source": [
    "$$\n",
    "X^{\\bullet}_0 -X^{\\bullet}_1 -6a_1Z -3J_1Z  +\\left[Y_0 -Y_1 -X_1\\right] \\sigma_1  +\\left[Y_0 +2Y_1 -X_1\\right] \\sigma_2   +X_0[\\sigma_1+\\sigma_2]-3Z^\\dag = 0 \\qquad (34)\n",
    "$$"
   ]
  },
  {
   "cell_type": "code",
   "execution_count": null,
   "id": "72582453",
   "metadata": {},
   "outputs": [],
   "source": [
    "eq34=sy.simplify(DX0P-DX1P -6*a1*Z - 3*J1*Z + (Y0-Y1-X1)*σ1 + (Y0+2*Y1-X1)*σ2 +X0*(σ1+σ2)-3*DZdag )\n",
    "eq34"
   ]
  },
  {
   "attachments": {},
   "cell_type": "markdown",
   "id": "2671ea72",
   "metadata": {},
   "source": [
    "$$\n",
    "X^{\\bullet}_0 +2 X^{\\bullet}_1 +2X_0\\sigma_2 -6J_1Z +[4X_1 + 2Y_0 - 2Y_1] \\sigma_2 =0 \\qquad (35)\n",
    "$$"
   ]
  },
  {
   "cell_type": "code",
   "execution_count": null,
   "id": "c515ddcc",
   "metadata": {},
   "outputs": [],
   "source": [
    "eq35=sy.simplify(DX0P+2*DX1P + 2*X0*σ2 - 6*J1*Z + (4*X1+2*Y0-2*Y1)*σ2)\n",
    "eq35"
   ]
  },
  {
   "attachments": {},
   "cell_type": "markdown",
   "id": "ce54b1b1",
   "metadata": {},
   "source": [
    "$$\n",
    "X_0^\\dag+2X_1^\\dag+6J_1X_1+6Z\\sigma_2= 0 \\qquad (36)\n",
    "$$"
   ]
  },
  {
   "cell_type": "code",
   "execution_count": null,
   "id": "9f38047c",
   "metadata": {},
   "outputs": [],
   "source": [
    "eq36=sy.factor(DX0dag + 2*DX1dag + 6*J1*X1 + 6*Z*σ2  )\n",
    "eq36"
   ]
  },
  {
   "cell_type": "markdown",
   "id": "21a3ea66",
   "metadata": {},
   "source": [
    "## Non-Pascalian static fluids"
   ]
  },
  {
   "attachments": {},
   "cell_type": "markdown",
   "id": "b651d18c",
   "metadata": {},
   "source": [
    "$$\n",
    "4\\pi(\\rho+3P) = a^{\\alpha}_{;\\alpha} \\qquad (37)\n",
    "$$"
   ]
  },
  {
   "cell_type": "code",
   "execution_count": null,
   "id": "dfe20e37",
   "metadata": {},
   "outputs": [],
   "source": [
    "eq37 = Dcad('^a,_a') - 4*sy.pi*(T(\"_a,_b\")*Vu('^a')*Vu('^b')+ 3*(hdd(\"^a,^b\")*T(\"_a,_b\")/3) )\n",
    "eq37"
   ]
  },
  {
   "attachments": {},
   "cell_type": "markdown",
   "id": "0521e486",
   "metadata": {},
   "source": [
    "$$\n",
    "E_{\\alpha\\beta} = \\mathcal{E}\\left[K_\\alpha K_\\beta-\\frac{1}{3} h_{\\alpha\\beta}\\right] \\qquad (22)\n",
    "$$"
   ]
  },
  {
   "cell_type": "code",
   "execution_count": null,
   "id": "820f3d4a",
   "metadata": {},
   "outputs": [],
   "source": [
    "Edd=pt.ten('Edd',2)\n",
    "Edd.assign( E*(Kd('_a')*Kd('_b')-hdd('_a,_b')/3)  ,'_a,_b')\n",
    "Edd.simplify()\n",
    "Edd.display('_,_')"
   ]
  },
  {
   "attachments": {},
   "cell_type": "markdown",
   "id": "68132961",
   "metadata": {},
   "source": [
    "$$\n",
    "  E_{\\alpha \\beta}-4\\pi \\Pi_{\\alpha\\beta} = a_\\alpha a_\\beta+h^\\mu _{(\\alpha}h^\\nu_{\\beta)}a_{\\nu;\\mu}-\\frac{1}{3}a^\\delta_{;\\delta}h_{\\alpha\\beta} \\qquad (38)\n",
    "$$"
   ]
  },
  {
   "cell_type": "code",
   "execution_count": null,
   "id": "70b379b5",
   "metadata": {},
   "outputs": [],
   "source": [
    "E38dd= pt.ten('E38dd',2)\n",
    "E38dd.assign(Edd('_a,_b')-4*sy.pi*PIT('_a,_b') - (ad('_a')*ad('_b') + (hdd('_a,^c')*hdd('_b,^d')+hdd('_b,^c')*hdd('_a,^d'))*Dcad('_d,_c')/2 \\\n",
    "     - Dcau('^c,_c')*hdd('_a,_b')/3) ,'_a,_b')\n",
    "E38dd.complete('_,_')    \n",
    "E38dd.simplify()\n",
    "E38dd.display('_,_')"
   ]
  },
  {
   "attachments": {},
   "cell_type": "markdown",
   "id": "e1a7dafb",
   "metadata": {},
   "source": [
    "$$\n",
    "\\quad X_{\\alpha\\beta} = \\epsilon _\\alpha^{\\,\\,\\,\\mu\\nu}\\left (\\epsilon _{\\beta}^{\\,\\,\\delta}J^{(k)}_{\\delta\\mu;\\nu}-K_\\beta S^\\delta J^{(l)}_{\\delta\\mu;\\nu}\\right ) \\qquad (39)\n",
    "$$"
   ]
  }
 ],
 "metadata": {
  "kernelspec": {
   "display_name": "Python 3.9.12 ('base')",
   "language": "python",
   "name": "python3"
  },
  "language_info": {
   "codemirror_mode": {
    "name": "ipython",
    "version": 3
   },
   "file_extension": ".py",
   "mimetype": "text/x-python",
   "name": "python",
   "nbconvert_exporter": "python",
   "pygments_lexer": "ipython3",
   "version": "3.8.13"
  },
  "vscode": {
   "interpreter": {
    "hash": "8d1181128e1f0e3c7e069abdee9a2274e13259c88bd323b8ad99884c634d782b"
   }
  }
 },
 "nbformat": 4,
 "nbformat_minor": 5
}
