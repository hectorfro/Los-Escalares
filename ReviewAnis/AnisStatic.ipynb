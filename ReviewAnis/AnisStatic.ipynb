{
 "cells": [
  {
   "cell_type": "code",
   "execution_count": 1,
   "id": "055aea90",
   "metadata": {},
   "outputs": [],
   "source": [
    "#### Versión del 28/1/2023 ##### \n",
    "import pytearcat as pt\n",
    "import sympy as sy\n",
    "from sympy import * "
   ]
  },
  {
   "cell_type": "markdown",
   "id": "f5d30c7b",
   "metadata": {},
   "source": [
    "### Metric\n"
   ]
  },
  {
   "cell_type": "code",
   "execution_count": 2,
   "id": "4bf547c2",
   "metadata": {
    "scrolled": true
   },
   "outputs": [
    {
     "name": "stdout",
     "output_type": "stream",
     "text": [
      "Remember that the time coordinate must be the first coordinate.\n"
     ]
    }
   ],
   "source": [
    "t,r,theta,phi = pt.coords('t,r,theta,phi')\n",
    "\n",
    "A = pt.fun('A','r')\n",
    "B = pt.fun('B','r')\n",
    "C = pt.fun('C','r')\n",
    "#C=r\n",
    "ρ = pt.fun('ρ','r')\n",
    "P = pt.fun('P','r')\n",
    "#Pt = pt.fun('Pt','r')\n",
    "Π = pt.fun('Π','r')\n",
    "#Delta=P-Pt\n",
    "F=0\n",
    "E= pt.fun('E','r')\n"
   ]
  },
  {
   "cell_type": "code",
   "execution_count": 3,
   "id": "45b20ced",
   "metadata": {},
   "outputs": [
    {
     "name": "stdout",
     "output_type": "stream",
     "text": [
      "\n",
      "Dimension = 4\n",
      "Coordinates = t,r,theta,phi\n",
      "Metric defined successfully: \n",
      "\n"
     ]
    },
    {
     "data": {
      "text/latex": [
       "$\\displaystyle ds^2 = - A^{2}{\\left(r \\right)} \\cdot dt^2+B^{2}{\\left(r \\right)} \\cdot dr^2+C^{2}{\\left(r \\right)} \\cdot d\\theta^2+C^{2}{\\left(r \\right)} \\sin^{2}{\\left(\\theta \\right)} \\cdot d\\phi^2$"
      ],
      "text/plain": [
       "<IPython.core.display.Math object>"
      ]
     },
     "metadata": {},
     "output_type": "display_data"
    },
    {
     "data": {
      "text/latex": [
       "$\\displaystyle \\left[\\begin{matrix}- A^{2}{\\left(r \\right)} & 0 & 0 & 0\\\\0 & B^{2}{\\left(r \\right)} & 0 & 0\\\\0 & 0 & C^{2}{\\left(r \\right)} & 0\\\\0 & 0 & 0 & C^{2}{\\left(r \\right)} \\sin^{2}{\\left(\\theta \\right)}\\end{matrix}\\right]$"
      ],
      "text/plain": [
       "Matrix([\n",
       "[-A(r)**2,       0,       0,                     0],\n",
       "[       0, B(r)**2,       0,                     0],\n",
       "[       0,       0, C(r)**2,                     0],\n",
       "[       0,       0,       0, C(r)**2*sin(theta)**2]])"
      ]
     },
     "metadata": {},
     "output_type": "display_data"
    }
   ],
   "source": [
    "ds = 'ds2 = -A**2*dt**2 + B**2*dr**2 + C**2 * (dtheta**2 + sin(theta)**2 * dphi**2)'\n",
    "g = pt.metric(ds)"
   ]
  },
  {
   "cell_type": "markdown",
   "id": "a1deed06",
   "metadata": {},
   "source": [
    "### The tetrad: the kinematical variables\n",
    "\n",
    "Let us choose an orthogonal unitary tetrad:\n",
    "$$\n",
    "e^{(0)}_\\alpha~=V_\\alpha, \\quad \n",
    "e^{(1)}_\\alpha~=K_\\alpha, \\quad \n",
    "e^{(2)}_\\alpha~=L_\\alpha \\quad \\mathrm{and}  \\quad e^{(3)}_\\alpha~=~S_\\alpha.\n",
    "$$\n"
   ]
  },
  {
   "cell_type": "code",
   "execution_count": 4,
   "id": "04b04d61",
   "metadata": {
    "scrolled": true
   },
   "outputs": [
    {
     "name": "stdout",
     "output_type": "stream",
     "text": [
      "Elements assigned correctly to the ^ components\n",
      "Elements assigned correctly to the ^ components\n",
      "Elements assigned correctly to the ^ components\n",
      "Elements assigned correctly to the ^ components\n"
     ]
    }
   ],
   "source": [
    "Vu = pt.ten('Vu',1)\n",
    "Vu.assign([1/A,0,0,0],'^')\n",
    "Ku = pt.ten('Ku',1)\n",
    "Ku.assign([0,1/B,0,0],'^')\n",
    "Lu = pt.ten('Lu',1)\n",
    "Lu.assign([0,0,1/C,0],'^')\n",
    "Su = pt.ten('Su',1)\n",
    "Su.assign([0,0,0,1/(C*sy.sin(theta))],'^')"
   ]
  },
  {
   "cell_type": "code",
   "execution_count": 5,
   "id": "1aff4eac",
   "metadata": {
    "scrolled": true
   },
   "outputs": [
    {
     "name": "stdout",
     "output_type": "stream",
     "text": [
      "Elements assigned correctly to the _b components\n",
      "Elements assigned correctly to the _b components\n",
      "Elements assigned correctly to the _b components\n",
      "Elements assigned correctly to the _b components\n"
     ]
    }
   ],
   "source": [
    "Vd = pt.ten('Vd',1)\n",
    "Vd.assign(Vu(\"^a\")*g(\"_a,_b\"),\"_b\")\n",
    "#Vd.display('_')\n",
    "\n",
    "Kd = pt.ten('Kd',1)\n",
    "Kd.assign(Ku(\"^a\")*g(\"_a,_b\"),\"_b\")\n",
    "Kd.simplify()\n",
    "#Kd.display('_')\n",
    "\n",
    "Ld = pt.ten('Ld',1)\n",
    "Ld.assign(Lu(\"^a\")*g(\"_a,_b\"),\"_b\")\n",
    "Ld.simplify()\n",
    "#Ld.display('_')\n",
    "\n",
    "Sd = pt.ten('Sd',1)\n",
    "Sd.assign(Su(\"^a\")*g(\"_a,_b\"),\"_b\")\n",
    "Sd.simplify()\n",
    "#Sd.display('_')"
   ]
  },
  {
   "cell_type": "markdown",
   "id": "741633d8",
   "metadata": {},
   "source": [
    "### Tensores calculados directamente de la métrica"
   ]
  },
  {
   "attachments": {},
   "cell_type": "markdown",
   "id": "5af36ada",
   "metadata": {},
   "source": [
    "$$\n",
    "h_{\\mu\\nu}=g_{\\mu\\nu} +V_\\mu V_\\nu = K_\\mu K_\\nu+L_\\mu L_\\nu+S_\\mu S_\\nu\n",
    "$$"
   ]
  },
  {
   "cell_type": "code",
   "execution_count": 6,
   "id": "6c452959",
   "metadata": {},
   "outputs": [
    {
     "name": "stdout",
     "output_type": "stream",
     "text": [
      "Elements assigned correctly to the _a,_b components\n"
     ]
    },
    {
     "data": {
      "application/vnd.jupyter.widget-view+json": {
       "model_id": "f0f4b490ff9d46deb5068d441c222c4e",
       "version_major": 2,
       "version_minor": 0
      },
      "text/plain": [
       "hdd Tensor $hdd{^\\alpha}{_\\beta}$:   0%|          | 0/16 [00:00<?, ?it/s]"
      ]
     },
     "metadata": {},
     "output_type": "display_data"
    },
    {
     "data": {
      "application/vnd.jupyter.widget-view+json": {
       "model_id": "8d74d3bd759c47ae8d625c937e11c04d",
       "version_major": 2,
       "version_minor": 0
      },
      "text/plain": [
       "hdd Tensor $hdd{^\\alpha}{^\\beta}$:   0%|          | 0/16 [00:00<?, ?it/s]"
      ]
     },
     "metadata": {},
     "output_type": "display_data"
    },
    {
     "data": {
      "application/vnd.jupyter.widget-view+json": {
       "model_id": "f8bd4003e5b94b0b8f80fc4d5db290f8",
       "version_major": 2,
       "version_minor": 0
      },
      "text/plain": [
       "hdd Tensor $hdd{_\\alpha}{^\\beta}$:   0%|          | 0/16 [00:00<?, ?it/s]"
      ]
     },
     "metadata": {},
     "output_type": "display_data"
    },
    {
     "data": {
      "text/latex": [
       "All other indices of hdd Tensor $hdd$  already calculated."
      ],
      "text/plain": [
       "<IPython.core.display.Latex object>"
      ]
     },
     "metadata": {},
     "output_type": "display_data"
    },
    {
     "data": {
      "image/png": "[encoded data removed]",
      "text/latex": [
       "$\\displaystyle \\left[\\begin{matrix}0 & 0 & 0 & 0\\\\0 & B^{2}{\\left(r \\right)} & 0 & 0\\\\0 & 0 & C^{2}{\\left(r \\right)} & 0\\\\0 & 0 & 0 & C^{2}{\\left(r \\right)} \\sin^{2}{\\left(\\theta \\right)}\\end{matrix}\\right]$"
      ],
      "text/plain": [
       "⎡0    0      0          0      ⎤\n",
       "⎢                              ⎥\n",
       "⎢    2                         ⎥\n",
       "⎢0  B (r)    0          0      ⎥\n",
       "⎢                              ⎥\n",
       "⎢           2                  ⎥\n",
       "⎢0    0    C (r)        0      ⎥\n",
       "⎢                              ⎥\n",
       "⎢                  2       2   ⎥\n",
       "⎣0    0      0    C (r)⋅sin (θ)⎦"
      ]
     },
     "metadata": {},
     "output_type": "display_data"
    }
   ],
   "source": [
    "hdd=pt.ten('hdd',2)\n",
    "#hdd.assign(g(\"_a,_b\")+Vd('_a')*Vd('_b') ,\"_a,_b\")\n",
    "hdd.assign(Kd('_a')*Kd('_b')+Ld('_a')*Ld('_b')+Sd('_a')*Sd('_b'),'_a,_b' )\n",
    "hdd.simplify()\n",
    "hdd.complete('_,_')\n",
    "hdd.display('_,_')"
   ]
  },
  {
   "cell_type": "code",
   "execution_count": 7,
   "id": "ffd49e0a",
   "metadata": {},
   "outputs": [
    {
     "data": {
      "text/latex": [
       "Christoffel $\\Gamma_{\\alpha \\beta \\gamma}$ and $\\Gamma^{\\alpha}_{\\beta \\gamma}$"
      ],
      "text/plain": [
       "<IPython.core.display.Latex object>"
      ]
     },
     "metadata": {},
     "output_type": "display_data"
    },
    {
     "data": {
      "application/vnd.jupyter.widget-view+json": {
       "model_id": "5fddcc66cbb0445e86848df50bf2abf3",
       "version_major": 2,
       "version_minor": 0
      },
      "text/plain": [
       "  0%|          | 0/64 [00:00<?, ?it/s]"
      ]
     },
     "metadata": {},
     "output_type": "display_data"
    }
   ],
   "source": [
    "Chr= pt.christoffel()"
   ]
  },
  {
   "cell_type": "code",
   "execution_count": 8,
   "id": "3019037b",
   "metadata": {},
   "outputs": [
    {
     "data": {
      "text/latex": [
       "Riemann Tensor $R^{\\alpha}_{\\beta \\gamma \\delta}$"
      ],
      "text/plain": [
       "<IPython.core.display.Latex object>"
      ]
     },
     "metadata": {},
     "output_type": "display_data"
    },
    {
     "data": {
      "application/vnd.jupyter.widget-view+json": {
       "model_id": "a5836101bf60498bb45c0357503a0cd0",
       "version_major": 2,
       "version_minor": 0
      },
      "text/plain": [
       "  0%|          | 0/256 [00:00<?, ?it/s]"
      ]
     },
     "metadata": {},
     "output_type": "display_data"
    },
    {
     "data": {
      "application/vnd.jupyter.widget-view+json": {
       "model_id": "ca14ccec707847b79c7530340010d24a",
       "version_major": 2,
       "version_minor": 0
      },
      "text/plain": [
       "Riemann Tensor $R{_\\alpha}{_\\beta}{_\\gamma}{_\\delta}$:   0%|          | 0/256 [00:00<?, ?it/s]"
      ]
     },
     "metadata": {},
     "output_type": "display_data"
    },
    {
     "data": {
      "application/vnd.jupyter.widget-view+json": {
       "model_id": "e136af196c3b440c9db787674723a987",
       "version_major": 2,
       "version_minor": 0
      },
      "text/plain": [
       "Riemann Tensor $R{^\\alpha}{^\\beta}{_\\gamma}{_\\delta}$:   0%|          | 0/256 [00:00<?, ?it/s]"
      ]
     },
     "metadata": {},
     "output_type": "display_data"
    },
    {
     "data": {
      "application/vnd.jupyter.widget-view+json": {
       "model_id": "d3c9dcfc1b02495293519bde7bf1988e",
       "version_major": 2,
       "version_minor": 0
      },
      "text/plain": [
       "Riemann Tensor $R{^\\alpha}{^\\beta}{^\\gamma}{_\\delta}$:   0%|          | 0/256 [00:00<?, ?it/s]"
      ]
     },
     "metadata": {},
     "output_type": "display_data"
    },
    {
     "data": {
      "application/vnd.jupyter.widget-view+json": {
       "model_id": "8e382f14860f45ffa239df38a8f71ed8",
       "version_major": 2,
       "version_minor": 0
      },
      "text/plain": [
       "Riemann Tensor $R{^\\alpha}{^\\beta}{^\\gamma}{^\\delta}$:   0%|          | 0/256 [00:00<?, ?it/s]"
      ]
     },
     "metadata": {},
     "output_type": "display_data"
    },
    {
     "data": {
      "application/vnd.jupyter.widget-view+json": {
       "model_id": "e365ea876f0045b5bb6d990931aab170",
       "version_major": 2,
       "version_minor": 0
      },
      "text/plain": [
       "Riemann Tensor $R{^\\alpha}{^\\beta}{_\\gamma}{^\\delta}$:   0%|          | 0/256 [00:00<?, ?it/s]"
      ]
     },
     "metadata": {},
     "output_type": "display_data"
    },
    {
     "data": {
      "application/vnd.jupyter.widget-view+json": {
       "model_id": "fc2f0486d14c4d00b2734906e76608e4",
       "version_major": 2,
       "version_minor": 0
      },
      "text/plain": [
       "Riemann Tensor $R{^\\alpha}{_\\beta}{^\\gamma}{_\\delta}$:   0%|          | 0/256 [00:00<?, ?it/s]"
      ]
     },
     "metadata": {},
     "output_type": "display_data"
    },
    {
     "data": {
      "application/vnd.jupyter.widget-view+json": {
       "model_id": "a10fc75e894b4d59bd94fa9c1a25494b",
       "version_major": 2,
       "version_minor": 0
      },
      "text/plain": [
       "Riemann Tensor $R{^\\alpha}{_\\beta}{^\\gamma}{^\\delta}$:   0%|          | 0/256 [00:00<?, ?it/s]"
      ]
     },
     "metadata": {},
     "output_type": "display_data"
    },
    {
     "data": {
      "application/vnd.jupyter.widget-view+json": {
       "model_id": "69de6d8a95c846b2a31f9f6ce65b8f3e",
       "version_major": 2,
       "version_minor": 0
      },
      "text/plain": [
       "Riemann Tensor $R{^\\alpha}{_\\beta}{_\\gamma}{^\\delta}$:   0%|          | 0/256 [00:00<?, ?it/s]"
      ]
     },
     "metadata": {},
     "output_type": "display_data"
    },
    {
     "data": {
      "application/vnd.jupyter.widget-view+json": {
       "model_id": "00699fbe9a1a46d498974110ca1dee6e",
       "version_major": 2,
       "version_minor": 0
      },
      "text/plain": [
       "Riemann Tensor $R{_\\alpha}{^\\beta}{_\\gamma}{_\\delta}$:   0%|          | 0/256 [00:00<?, ?it/s]"
      ]
     },
     "metadata": {},
     "output_type": "display_data"
    },
    {
     "data": {
      "application/vnd.jupyter.widget-view+json": {
       "model_id": "e36e3e2add6147cd9c57d44a4e28487e",
       "version_major": 2,
       "version_minor": 0
      },
      "text/plain": [
       "Riemann Tensor $R{_\\alpha}{^\\beta}{^\\gamma}{_\\delta}$:   0%|          | 0/256 [00:00<?, ?it/s]"
      ]
     },
     "metadata": {},
     "output_type": "display_data"
    },
    {
     "data": {
      "application/vnd.jupyter.widget-view+json": {
       "model_id": "01266c2339a24005a768f009dc1cdb0a",
       "version_major": 2,
       "version_minor": 0
      },
      "text/plain": [
       "Riemann Tensor $R{_\\alpha}{^\\beta}{^\\gamma}{^\\delta}$:   0%|          | 0/256 [00:00<?, ?it/s]"
      ]
     },
     "metadata": {},
     "output_type": "display_data"
    },
    {
     "data": {
      "application/vnd.jupyter.widget-view+json": {
       "model_id": "ebefdc0a61c14f31be3759735a1f7824",
       "version_major": 2,
       "version_minor": 0
      },
      "text/plain": [
       "Riemann Tensor $R{_\\alpha}{^\\beta}{_\\gamma}{^\\delta}$:   0%|          | 0/256 [00:00<?, ?it/s]"
      ]
     },
     "metadata": {},
     "output_type": "display_data"
    },
    {
     "data": {
      "application/vnd.jupyter.widget-view+json": {
       "model_id": "c4b0ad7d97514f5ea483527a641f7d91",
       "version_major": 2,
       "version_minor": 0
      },
      "text/plain": [
       "Riemann Tensor $R{_\\alpha}{_\\beta}{^\\gamma}{_\\delta}$:   0%|          | 0/256 [00:00<?, ?it/s]"
      ]
     },
     "metadata": {},
     "output_type": "display_data"
    },
    {
     "data": {
      "application/vnd.jupyter.widget-view+json": {
       "model_id": "95b44a6d95d44a8c8f0511207583002d",
       "version_major": 2,
       "version_minor": 0
      },
      "text/plain": [
       "Riemann Tensor $R{_\\alpha}{_\\beta}{^\\gamma}{^\\delta}$:   0%|          | 0/256 [00:00<?, ?it/s]"
      ]
     },
     "metadata": {},
     "output_type": "display_data"
    },
    {
     "data": {
      "application/vnd.jupyter.widget-view+json": {
       "model_id": "3de0d27f262f44e8b8ec96840c029169",
       "version_major": 2,
       "version_minor": 0
      },
      "text/plain": [
       "Riemann Tensor $R{_\\alpha}{_\\beta}{_\\gamma}{^\\delta}$:   0%|          | 0/256 [00:00<?, ?it/s]"
      ]
     },
     "metadata": {},
     "output_type": "display_data"
    },
    {
     "data": {
      "text/latex": [
       "All other indices of Riemann Tensor $R$  already calculated."
      ],
      "text/plain": [
       "<IPython.core.display.Latex object>"
      ]
     },
     "metadata": {},
     "output_type": "display_data"
    },
    {
     "data": {
      "text/plain": [
       "<bound method Tensor.simplify of Riemann tensor defined>"
      ]
     },
     "execution_count": 8,
     "metadata": {},
     "output_type": "execute_result"
    }
   ],
   "source": [
    "# Tensor de Riemann\n",
    "R = pt.riemann(All=True)\n",
    "R.simplify"
   ]
  },
  {
   "cell_type": "code",
   "execution_count": 9,
   "id": "29f74000",
   "metadata": {},
   "outputs": [
    {
     "data": {
      "text/latex": [
       "Ricci Tensor $R_{\\alpha \\beta}$"
      ],
      "text/plain": [
       "<IPython.core.display.Latex object>"
      ]
     },
     "metadata": {},
     "output_type": "display_data"
    },
    {
     "data": {
      "application/vnd.jupyter.widget-view+json": {
       "model_id": "490f252720714e07b1a7bdb9f1bbd091",
       "version_major": 2,
       "version_minor": 0
      },
      "text/plain": [
       "  0%|          | 0/16 [00:00<?, ?it/s]"
      ]
     },
     "metadata": {},
     "output_type": "display_data"
    },
    {
     "data": {
      "application/vnd.jupyter.widget-view+json": {
       "model_id": "dba666ca97414ec397586c6a63e4e3c2",
       "version_major": 2,
       "version_minor": 0
      },
      "text/plain": [
       "Ricci Tensor $R{^\\alpha}{_\\beta}$:   0%|          | 0/16 [00:00<?, ?it/s]"
      ]
     },
     "metadata": {},
     "output_type": "display_data"
    },
    {
     "data": {
      "application/vnd.jupyter.widget-view+json": {
       "model_id": "64e21a663c6247258ede9bcfdd7ff74f",
       "version_major": 2,
       "version_minor": 0
      },
      "text/plain": [
       "Ricci Tensor $R{^\\alpha}{^\\beta}$:   0%|          | 0/16 [00:00<?, ?it/s]"
      ]
     },
     "metadata": {},
     "output_type": "display_data"
    },
    {
     "data": {
      "application/vnd.jupyter.widget-view+json": {
       "model_id": "f60005bb3a094776814bff08cd5bbc95",
       "version_major": 2,
       "version_minor": 0
      },
      "text/plain": [
       "Ricci Tensor $R{_\\alpha}{^\\beta}$:   0%|          | 0/16 [00:00<?, ?it/s]"
      ]
     },
     "metadata": {},
     "output_type": "display_data"
    },
    {
     "data": {
      "text/latex": [
       "All other indices of Ricci Tensor $R$  already calculated."
      ],
      "text/plain": [
       "<IPython.core.display.Latex object>"
      ]
     },
     "metadata": {},
     "output_type": "display_data"
    }
   ],
   "source": [
    "# Tensor de Ricci\n",
    "Ric = pt.ricci(All=True)"
   ]
  },
  {
   "cell_type": "code",
   "execution_count": 10,
   "id": "561ee6ea",
   "metadata": {},
   "outputs": [
    {
     "data": {
      "application/vnd.jupyter.widget-view+json": {
       "model_id": "d2b99f9b2c2f40c9be14e26aae8552b8",
       "version_major": 2,
       "version_minor": 0
      },
      "text/plain": [
       "  0%|          | 0/16 [00:00<?, ?it/s]"
      ]
     },
     "metadata": {},
     "output_type": "display_data"
    },
    {
     "data": {
      "text/latex": [
       "Ricci Scalar $R$"
      ],
      "text/plain": [
       "<IPython.core.display.Latex object>"
      ]
     },
     "metadata": {},
     "output_type": "display_data"
    },
    {
     "data": {
      "image/png": "[encoded data removed]",
      "text/latex": [
       "$\\displaystyle \\frac{2}{C^{2}{\\left(r \\right)}} - \\frac{4 \\frac{d^{2}}{d r^{2}} C{\\left(r \\right)}}{B^{2}{\\left(r \\right)} C{\\left(r \\right)}} - \\frac{2 \\left(\\frac{d}{d r} C{\\left(r \\right)}\\right)^{2}}{B^{2}{\\left(r \\right)} C^{2}{\\left(r \\right)}} + \\frac{4 \\frac{d}{d r} B{\\left(r \\right)} \\frac{d}{d r} C{\\left(r \\right)}}{B^{3}{\\left(r \\right)} C{\\left(r \\right)}} - \\frac{2 \\frac{d^{2}}{d r^{2}} A{\\left(r \\right)}}{A{\\left(r \\right)} B^{2}{\\left(r \\right)}} - \\frac{4 \\frac{d}{d r} A{\\left(r \\right)} \\frac{d}{d r} C{\\left(r \\right)}}{A{\\left(r \\right)} B^{2}{\\left(r \\right)} C{\\left(r \\right)}} + \\frac{2 \\frac{d}{d r} A{\\left(r \\right)} \\frac{d}{d r} B{\\left(r \\right)}}{A{\\left(r \\right)} B^{3}{\\left(r \\right)}}$"
      ],
      "text/plain": [
       "            2                                                   2             \n",
       "           d                      2                            d              \n",
       "        4⋅───(C(r))     ⎛d       ⎞      d        d          2⋅───(A(r))     d \n",
       "            2         2⋅⎜──(C(r))⎟    4⋅──(B(r))⋅──(C(r))       2         4⋅──\n",
       "  2       dr            ⎝dr      ⎠      dr       dr           dr            dr\n",
       "───── - ─────────── - ───────────── + ─────────────────── - ─────────── - ────\n",
       " 2        2             2     2             3                      2          \n",
       "C (r)    B (r)⋅C(r)    B (r)⋅C (r)         B (r)⋅C(r)        A(r)⋅B (r)     A(\n",
       "\n",
       "                                     \n",
       "                                     \n",
       "       d            d        d       \n",
       "(A(r))⋅──(C(r))   2⋅──(A(r))⋅──(B(r))\n",
       "       dr           dr       dr      \n",
       "─────────────── + ───────────────────\n",
       "    2                        3       \n",
       "r)⋅B (r)⋅C(r)          A(r)⋅B (r)    "
      ]
     },
     "execution_count": 10,
     "metadata": {},
     "output_type": "execute_result"
    }
   ],
   "source": [
    "# Escalar de Ricci\n",
    "RicS = pt.riccis()\n",
    "RicS.simplify()"
   ]
  },
  {
   "cell_type": "markdown",
   "id": "23a35ba3",
   "metadata": {},
   "source": [
    "$$\n",
    "C_{a b c d}=  R_{a b c d} - g_{a[c} R_{d] b} + g_{b[c} R_{d] a}  + \\frac{1}{3} R g_{a[c} g_{d] b}\n",
    "$$"
   ]
  },
  {
   "cell_type": "code",
   "execution_count": 11,
   "id": "c73795b1",
   "metadata": {},
   "outputs": [
    {
     "name": "stdout",
     "output_type": "stream",
     "text": [
      "Elements assigned correctly to the _a,_b,_c,_d components\n"
     ]
    },
    {
     "data": {
      "application/vnd.jupyter.widget-view+json": {
       "model_id": "1c4726931a81498cb91c229efc1a597c",
       "version_major": 2,
       "version_minor": 0
      },
      "text/plain": [
       "Wy Tensor $Wy{^\\alpha}{_\\beta}{_\\gamma}{_\\delta}$:   0%|          | 0/256 [00:00<?, ?it/s]"
      ]
     },
     "metadata": {},
     "output_type": "display_data"
    },
    {
     "data": {
      "application/vnd.jupyter.widget-view+json": {
       "model_id": "fbfc8772ff704654ac31255baaa06705",
       "version_major": 2,
       "version_minor": 0
      },
      "text/plain": [
       "Wy Tensor $Wy{^\\alpha}{^\\beta}{_\\gamma}{_\\delta}$:   0%|          | 0/256 [00:00<?, ?it/s]"
      ]
     },
     "metadata": {},
     "output_type": "display_data"
    },
    {
     "data": {
      "application/vnd.jupyter.widget-view+json": {
       "model_id": "97ff237611b142108faf861c1ed6fd00",
       "version_major": 2,
       "version_minor": 0
      },
      "text/plain": [
       "Wy Tensor $Wy{^\\alpha}{^\\beta}{^\\gamma}{_\\delta}$:   0%|          | 0/256 [00:00<?, ?it/s]"
      ]
     },
     "metadata": {},
     "output_type": "display_data"
    },
    {
     "data": {
      "application/vnd.jupyter.widget-view+json": {
       "model_id": "05bf2fc8f1db4ad095b911aeb8aeae7f",
       "version_major": 2,
       "version_minor": 0
      },
      "text/plain": [
       "Wy Tensor $Wy{^\\alpha}{^\\beta}{^\\gamma}{^\\delta}$:   0%|          | 0/256 [00:00<?, ?it/s]"
      ]
     },
     "metadata": {},
     "output_type": "display_data"
    },
    {
     "data": {
      "application/vnd.jupyter.widget-view+json": {
       "model_id": "1bfa914e482d4b398b3d87b2ac7748e6",
       "version_major": 2,
       "version_minor": 0
      },
      "text/plain": [
       "Wy Tensor $Wy{^\\alpha}{^\\beta}{_\\gamma}{^\\delta}$:   0%|          | 0/256 [00:00<?, ?it/s]"
      ]
     },
     "metadata": {},
     "output_type": "display_data"
    },
    {
     "data": {
      "application/vnd.jupyter.widget-view+json": {
       "model_id": "c36ef8d9c72e43e48d50fa0cfed68199",
       "version_major": 2,
       "version_minor": 0
      },
      "text/plain": [
       "Wy Tensor $Wy{^\\alpha}{_\\beta}{^\\gamma}{_\\delta}$:   0%|          | 0/256 [00:00<?, ?it/s]"
      ]
     },
     "metadata": {},
     "output_type": "display_data"
    },
    {
     "data": {
      "application/vnd.jupyter.widget-view+json": {
       "model_id": "67ff6b1029964b36adbdd45e18f58dc0",
       "version_major": 2,
       "version_minor": 0
      },
      "text/plain": [
       "Wy Tensor $Wy{^\\alpha}{_\\beta}{^\\gamma}{^\\delta}$:   0%|          | 0/256 [00:00<?, ?it/s]"
      ]
     },
     "metadata": {},
     "output_type": "display_data"
    },
    {
     "data": {
      "application/vnd.jupyter.widget-view+json": {
       "model_id": "62090903e9454dc8a9b3cddb7f9f3863",
       "version_major": 2,
       "version_minor": 0
      },
      "text/plain": [
       "Wy Tensor $Wy{^\\alpha}{_\\beta}{_\\gamma}{^\\delta}$:   0%|          | 0/256 [00:00<?, ?it/s]"
      ]
     },
     "metadata": {},
     "output_type": "display_data"
    },
    {
     "data": {
      "application/vnd.jupyter.widget-view+json": {
       "model_id": "d861a5472cd24a0caa7ba96801e417e0",
       "version_major": 2,
       "version_minor": 0
      },
      "text/plain": [
       "Wy Tensor $Wy{_\\alpha}{^\\beta}{_\\gamma}{_\\delta}$:   0%|          | 0/256 [00:00<?, ?it/s]"
      ]
     },
     "metadata": {},
     "output_type": "display_data"
    },
    {
     "data": {
      "application/vnd.jupyter.widget-view+json": {
       "model_id": "208eed94f00b4fb58255dd5ba419e55a",
       "version_major": 2,
       "version_minor": 0
      },
      "text/plain": [
       "Wy Tensor $Wy{_\\alpha}{^\\beta}{^\\gamma}{_\\delta}$:   0%|          | 0/256 [00:00<?, ?it/s]"
      ]
     },
     "metadata": {},
     "output_type": "display_data"
    },
    {
     "data": {
      "application/vnd.jupyter.widget-view+json": {
       "model_id": "dbdd4bc24ca14c4b9dfebd7d59e650ce",
       "version_major": 2,
       "version_minor": 0
      },
      "text/plain": [
       "Wy Tensor $Wy{_\\alpha}{^\\beta}{^\\gamma}{^\\delta}$:   0%|          | 0/256 [00:00<?, ?it/s]"
      ]
     },
     "metadata": {},
     "output_type": "display_data"
    },
    {
     "data": {
      "application/vnd.jupyter.widget-view+json": {
       "model_id": "c311566c117c45fea51aead3807a1df7",
       "version_major": 2,
       "version_minor": 0
      },
      "text/plain": [
       "Wy Tensor $Wy{_\\alpha}{^\\beta}{_\\gamma}{^\\delta}$:   0%|          | 0/256 [00:00<?, ?it/s]"
      ]
     },
     "metadata": {},
     "output_type": "display_data"
    },
    {
     "data": {
      "application/vnd.jupyter.widget-view+json": {
       "model_id": "bdcc033668c04e3f91673f0f872dc644",
       "version_major": 2,
       "version_minor": 0
      },
      "text/plain": [
       "Wy Tensor $Wy{_\\alpha}{_\\beta}{^\\gamma}{_\\delta}$:   0%|          | 0/256 [00:00<?, ?it/s]"
      ]
     },
     "metadata": {},
     "output_type": "display_data"
    },
    {
     "data": {
      "application/vnd.jupyter.widget-view+json": {
       "model_id": "bbf758f5be9749eeac19486987a53725",
       "version_major": 2,
       "version_minor": 0
      },
      "text/plain": [
       "Wy Tensor $Wy{_\\alpha}{_\\beta}{^\\gamma}{^\\delta}$:   0%|          | 0/256 [00:00<?, ?it/s]"
      ]
     },
     "metadata": {},
     "output_type": "display_data"
    },
    {
     "data": {
      "application/vnd.jupyter.widget-view+json": {
       "model_id": "0f5575cec89d455782e176d2e5516b61",
       "version_major": 2,
       "version_minor": 0
      },
      "text/plain": [
       "Wy Tensor $Wy{_\\alpha}{_\\beta}{_\\gamma}{^\\delta}$:   0%|          | 0/256 [00:00<?, ?it/s]"
      ]
     },
     "metadata": {},
     "output_type": "display_data"
    },
    {
     "data": {
      "text/latex": [
       "All other indices of Wy Tensor $Wy$  already calculated."
      ],
      "text/plain": [
       "<IPython.core.display.Latex object>"
      ]
     },
     "metadata": {},
     "output_type": "display_data"
    }
   ],
   "source": [
    "Wy= pt.ten('Wy',4)\n",
    "Wy.assign( R('_a,_b,_c,_d') - (g('_a,_c')*Ric('_d,_b') - g('_a,_d')*Ric('_c,_b'))/2 + \\\n",
    "                              (g('_b,_c')*Ric('_d,_a') - g('_b,_d')*Ric('_c,_a'))/2 + \\\n",
    "            (RicS*(g('_a,_c')*g('_d,_b')- g('_a,_d')*g('_c,_b')))/3 , '_a,_b,_c,_d') \n",
    "Wy.simplify()\n",
    "Wy.complete('_,_,_,_')\n",
    "#Wy.display('^a,_b,_a,_d')"
   ]
  },
  {
   "cell_type": "markdown",
   "id": "b5680f3c",
   "metadata": {},
   "source": [
    "The first set equations can be considered purely geometrical and emerges from the projection of the Riemann tensor along the tetrad i.e.\n",
    "$$\n",
    "2 V_{\\alpha ;[\\beta ; \\gamma]}=R_{\\delta \\alpha \\beta \\gamma} V^{\\delta}, \\quad 2 K_{\\alpha ;[\\beta ; \\gamma]}=R_{\\delta \\alpha \\beta \\gamma} K^{\\delta}, \\quad 2 L_{\\alpha ;[\\beta ; \\gamma]}=R_{\\delta \\alpha \\beta \\gamma} L^{\\delta} \\quad \\text { and } \\quad 2 S_{\\alpha ;[\\beta ; \\gamma]}=R_{\\delta \\alpha \\beta \\gamma} S^{\\delta}\n",
    "$$"
   ]
  },
  {
   "cell_type": "code",
   "execution_count": 12,
   "id": "1a16a533",
   "metadata": {},
   "outputs": [
    {
     "data": {
      "image/png": "[encoded data removed]",
      "text/latex": [
       "$\\displaystyle \\left[ \\frac{\\frac{d}{d r} A{\\left(r \\right)}}{A{\\left(r \\right)} B{\\left(r \\right)}}, \\  0, \\  0, \\  \\frac{\\frac{d}{d r} C{\\left(r \\right)}}{B{\\left(r \\right)} C{\\left(r \\right)}}, \\  \\frac{\\cot{\\left(\\theta \\right)}}{C{\\left(r \\right)}}\\right]$"
      ],
      "text/plain": [
       "⎡ d                d               ⎤\n",
       "⎢ ──(A(r))         ──(C(r))        ⎥\n",
       "⎢ dr               dr        cot(θ)⎥\n",
       "⎢─────────, 0, 0, ─────────, ──────⎥\n",
       "⎣A(r)⋅B(r)        B(r)⋅C(r)   C(r) ⎦"
      ]
     },
     "execution_count": 12,
     "metadata": {},
     "output_type": "execute_result"
    }
   ],
   "source": [
    "a1= A.diff(r)/(A*B)\n",
    "\n",
    "σ1 = B.diff(t)/(A*B)\n",
    "σ2= C.diff(t)/(A*C)\n",
    "\n",
    "J1=C.diff(r)/(C*B)\n",
    "J2=sy.cot(theta)/C\n",
    "[a1,σ1,σ2,J1,J2]"
   ]
  },
  {
   "cell_type": "markdown",
   "id": "c7d524b1",
   "metadata": {},
   "source": [
    "### COVARIANT DERIVATIVE OF $V_{\\alpha}$\n",
    "$$\n",
    "V_{\\alpha ; \\beta}\n",
    "$$\n"
   ]
  },
  {
   "cell_type": "code",
   "execution_count": 13,
   "id": "4c081af4",
   "metadata": {},
   "outputs": [
    {
     "name": "stdout",
     "output_type": "stream",
     "text": [
      "Elements assigned correctly to the _a,_b components\n"
     ]
    },
    {
     "data": {
      "application/vnd.jupyter.widget-view+json": {
       "model_id": "edd058762a5e49288f726e1035324410",
       "version_major": 2,
       "version_minor": 0
      },
      "text/plain": [
       "DcVd Tensor $DcVd{^\\alpha}{_\\beta}$:   0%|          | 0/16 [00:00<?, ?it/s]"
      ]
     },
     "metadata": {},
     "output_type": "display_data"
    },
    {
     "data": {
      "application/vnd.jupyter.widget-view+json": {
       "model_id": "a5246e9ee1b14b4cbc5dd32fb471da2d",
       "version_major": 2,
       "version_minor": 0
      },
      "text/plain": [
       "DcVd Tensor $DcVd{^\\alpha}{^\\beta}$:   0%|          | 0/16 [00:00<?, ?it/s]"
      ]
     },
     "metadata": {},
     "output_type": "display_data"
    },
    {
     "data": {
      "application/vnd.jupyter.widget-view+json": {
       "model_id": "f4fb3a5841eb475dbaf91b0e2a65f2bc",
       "version_major": 2,
       "version_minor": 0
      },
      "text/plain": [
       "DcVd Tensor $DcVd{_\\alpha}{^\\beta}$:   0%|          | 0/16 [00:00<?, ?it/s]"
      ]
     },
     "metadata": {},
     "output_type": "display_data"
    },
    {
     "data": {
      "text/latex": [
       "All other indices of DcVd Tensor $DcVd$  already calculated."
      ],
      "text/plain": [
       "<IPython.core.display.Latex object>"
      ]
     },
     "metadata": {},
     "output_type": "display_data"
    },
    {
     "data": {
      "image/png": "[encoded data removed]",
      "text/latex": [
       "$\\displaystyle \\left[\\begin{matrix}0 & 0 & 0 & 0\\\\\\frac{d}{d r} A{\\left(r \\right)} & 0 & 0 & 0\\\\0 & 0 & 0 & 0\\\\0 & 0 & 0 & 0\\end{matrix}\\right]$"
      ],
      "text/plain": [
       "⎡   0      0  0  0⎤\n",
       "⎢                 ⎥\n",
       "⎢d                ⎥\n",
       "⎢──(A(r))  0  0  0⎥\n",
       "⎢dr               ⎥\n",
       "⎢                 ⎥\n",
       "⎢   0      0  0  0⎥\n",
       "⎢                 ⎥\n",
       "⎣   0      0  0  0⎦"
      ]
     },
     "metadata": {},
     "output_type": "display_data"
    }
   ],
   "source": [
    "DcVd = pt.ten('DcVd',2)\n",
    "DcVd.assign(-a1*Kd('_a')*Vd('_b')+ σ1*Kd('_a')*Kd('_b')+ σ2*(Ld('_a')*Ld('_b')+Sd('_a')*Sd('_b')) ,\"_a,_b\")\n",
    "DcVd.complete('_,_')\n",
    "DcVd.display('_,_')"
   ]
  },
  {
   "cell_type": "markdown",
   "id": "e52079ce",
   "metadata": {},
   "source": [
    "$$\n",
    "a_{\\alpha}=V^{\\beta} V_{\\alpha ; \\beta}\\,, \\quad a_{\\alpha;\\beta}\n",
    "$$"
   ]
  },
  {
   "cell_type": "code",
   "execution_count": 14,
   "id": "9b71217e",
   "metadata": {},
   "outputs": [
    {
     "name": "stdout",
     "output_type": "stream",
     "text": [
      "Elements assigned correctly to the _a components\n"
     ]
    },
    {
     "data": {
      "application/vnd.jupyter.widget-view+json": {
       "model_id": "6c56902e7daa465a9968e4f7e1badbad",
       "version_major": 2,
       "version_minor": 0
      },
      "text/plain": [
       "ad Tensor $ad{^\\alpha}$:   0%|          | 0/4 [00:00<?, ?it/s]"
      ]
     },
     "metadata": {},
     "output_type": "display_data"
    },
    {
     "data": {
      "text/latex": [
       "All other indices of ad Tensor $ad$  already calculated."
      ],
      "text/plain": [
       "<IPython.core.display.Latex object>"
      ]
     },
     "metadata": {},
     "output_type": "display_data"
    },
    {
     "name": "stdout",
     "output_type": "stream",
     "text": [
      "Elements assigned correctly to the _a,_b components\n"
     ]
    },
    {
     "data": {
      "application/vnd.jupyter.widget-view+json": {
       "model_id": "a07b2816d0744060952e10aa06851ff9",
       "version_major": 2,
       "version_minor": 0
      },
      "text/plain": [
       "Dcad Tensor $Dcad{^\\alpha}{_\\beta}$:   0%|          | 0/16 [00:00<?, ?it/s]"
      ]
     },
     "metadata": {},
     "output_type": "display_data"
    },
    {
     "data": {
      "application/vnd.jupyter.widget-view+json": {
       "model_id": "b1abed417a3c4b38a2279b7263391e12",
       "version_major": 2,
       "version_minor": 0
      },
      "text/plain": [
       "Dcad Tensor $Dcad{^\\alpha}{^\\beta}$:   0%|          | 0/16 [00:00<?, ?it/s]"
      ]
     },
     "metadata": {},
     "output_type": "display_data"
    },
    {
     "data": {
      "application/vnd.jupyter.widget-view+json": {
       "model_id": "0744d3b2d05046af8bfadab9845894cd",
       "version_major": 2,
       "version_minor": 0
      },
      "text/plain": [
       "Dcad Tensor $Dcad{_\\alpha}{^\\beta}$:   0%|          | 0/16 [00:00<?, ?it/s]"
      ]
     },
     "metadata": {},
     "output_type": "display_data"
    },
    {
     "data": {
      "text/latex": [
       "All other indices of Dcad Tensor $Dcad$  already calculated."
      ],
      "text/plain": [
       "<IPython.core.display.Latex object>"
      ]
     },
     "metadata": {},
     "output_type": "display_data"
    },
    {
     "data": {
      "image/png": "[encoded data removed]",
      "text/latex": [
       "$\\displaystyle \\left[\\begin{matrix}- \\frac{\\left(\\frac{d}{d r} A{\\left(r \\right)}\\right)^{2}}{B^{2}{\\left(r \\right)}} & 0 & 0 & 0\\\\0 & \\frac{\\frac{d^{2}}{d r^{2}} A{\\left(r \\right)}}{A{\\left(r \\right)}} - \\frac{\\frac{d}{d r} A{\\left(r \\right)} \\frac{d}{d r} B{\\left(r \\right)}}{A{\\left(r \\right)} B{\\left(r \\right)}} - \\frac{\\left(\\frac{d}{d r} A{\\left(r \\right)}\\right)^{2}}{A^{2}{\\left(r \\right)}} & 0 & 0\\\\0 & 0 & \\frac{C{\\left(r \\right)} \\frac{d}{d r} A{\\left(r \\right)} \\frac{d}{d r} C{\\left(r \\right)}}{A{\\left(r \\right)} B^{2}{\\left(r \\right)}} & 0\\\\0 & 0 & 0 & \\frac{C{\\left(r \\right)} \\sin^{2}{\\left(\\theta \\right)} \\frac{d}{d r} A{\\left(r \\right)} \\frac{d}{d r} C{\\left(r \\right)}}{A{\\left(r \\right)} B^{2}{\\left(r \\right)}}\\end{matrix}\\right]$"
      ],
      "text/plain": [
       "⎡           2                                                                 \n",
       "⎢ ⎛d       ⎞                                                                  \n",
       "⎢-⎜──(A(r))⎟                                                                  \n",
       "⎢ ⎝dr      ⎠                                                                  \n",
       "⎢─────────────                       0                                 0      \n",
       "⎢     2                                                                       \n",
       "⎢    B (r)                                                                    \n",
       "⎢                                                                             \n",
       "⎢                 2                                                           \n",
       "⎢                d                                        2                   \n",
       "⎢               ───(A(r))   d        d          ⎛d       ⎞                    \n",
       "⎢                 2         ──(A(r))⋅──(B(r))   ⎜──(A(r))⎟                    \n",
       "⎢               dr          dr       dr         ⎝dr      ⎠                    \n",
       "⎢      0        ───────── - ───────────────── - ───────────            0      \n",
       "⎢                  A(r)         A(r)⋅B(r)           2                         \n",
       "⎢                                                  A (r)                      \n",
       "⎢                                                                             \n",
       "⎢                                                                 d        d  \n",
       "⎢                                                            C(r)⋅──(A(r))⋅──(\n",
       "⎢                                                                 dr       dr \n",
       "⎢      0                             0                       ─────────────────\n",
       "⎢                                                                        2    \n",
       "⎢                                                                  A(r)⋅B (r) \n",
       "⎢                                                                             \n",
       "⎢                                                                             \n",
       "⎢                                                                             \n",
       "⎢                                                                             \n",
       "⎢      0                             0                                 0      \n",
       "⎢                                                                             \n",
       "⎣                                                                             \n",
       "\n",
       "                                     ⎤\n",
       "                                     ⎥\n",
       "                                     ⎥\n",
       "                                     ⎥\n",
       "                     0               ⎥\n",
       "                                     ⎥\n",
       "                                     ⎥\n",
       "                                     ⎥\n",
       "                                     ⎥\n",
       "                                     ⎥\n",
       "                                     ⎥\n",
       "                                     ⎥\n",
       "                                     ⎥\n",
       "                     0               ⎥\n",
       "                                     ⎥\n",
       "                                     ⎥\n",
       "                                     ⎥\n",
       "                                     ⎥\n",
       "C(r))                                ⎥\n",
       "                                     ⎥\n",
       "─────                0               ⎥\n",
       "                                     ⎥\n",
       "                                     ⎥\n",
       "                                     ⎥\n",
       "               2    d        d       ⎥\n",
       "       C(r)⋅sin (θ)⋅──(A(r))⋅──(C(r))⎥\n",
       "                    dr       dr      ⎥\n",
       "       ──────────────────────────────⎥\n",
       "                       2             ⎥\n",
       "                 A(r)⋅B (r)          ⎦"
      ]
     },
     "metadata": {},
     "output_type": "display_data"
    }
   ],
   "source": [
    "# Aceleracion y su derivada covariante\n",
    "ad= pt.ten(\"ad\",1)\n",
    "ad.assign( DcVd(\"_a,_b\")*Vu(\"^b\") ,\"_a\")\n",
    "ad.complete('_')\n",
    "ad.simplify()\n",
    "\n",
    "Dcad = pt.ten(\"Dcad\",2)\n",
    "Dcad_dat = pt.C(ad(\"_a\"),\"_b\") \n",
    "Dcad.assign(Dcad_dat,\"_a,_b\")\n",
    "Dcad.complete('_,_')\n",
    "Dcad.simplify()\n",
    "Dcad.display()"
   ]
  },
  {
   "cell_type": "code",
   "execution_count": 15,
   "id": "7dd54713",
   "metadata": {},
   "outputs": [
    {
     "name": "stdout",
     "output_type": "stream",
     "text": [
      "Elements assigned correctly to the ^a,_b components\n"
     ]
    },
    {
     "data": {
      "application/vnd.jupyter.widget-view+json": {
       "model_id": "99defa4897c741af9749cec1625cbb8c",
       "version_major": 2,
       "version_minor": 0
      },
      "text/plain": [
       "Dcau Tensor $Dcau{_\\alpha}{_\\beta}$:   0%|          | 0/16 [00:00<?, ?it/s]"
      ]
     },
     "metadata": {},
     "output_type": "display_data"
    },
    {
     "data": {
      "application/vnd.jupyter.widget-view+json": {
       "model_id": "c86463e7ea124967ade56710b341ccbc",
       "version_major": 2,
       "version_minor": 0
      },
      "text/plain": [
       "Dcau Tensor $Dcau{^\\alpha}{^\\beta}$:   0%|          | 0/16 [00:00<?, ?it/s]"
      ]
     },
     "metadata": {},
     "output_type": "display_data"
    },
    {
     "data": {
      "application/vnd.jupyter.widget-view+json": {
       "model_id": "d048e428356c45db926b97c1ce6ecaa1",
       "version_major": 2,
       "version_minor": 0
      },
      "text/plain": [
       "Dcau Tensor $Dcau{_\\alpha}{^\\beta}$:   0%|          | 0/16 [00:00<?, ?it/s]"
      ]
     },
     "metadata": {},
     "output_type": "display_data"
    },
    {
     "data": {
      "text/latex": [
       "All other indices of Dcau Tensor $Dcau$  already calculated."
      ],
      "text/plain": [
       "<IPython.core.display.Latex object>"
      ]
     },
     "metadata": {},
     "output_type": "display_data"
    },
    {
     "data": {
      "image/png": "[encoded data removed]",
      "text/latex": [
       "$\\displaystyle \\left[\\begin{matrix}\\frac{A^{2}{\\left(r \\right)} \\left(\\frac{d}{d r} A{\\left(r \\right)}\\right)^{2}}{B^{2}{\\left(r \\right)}} & 0 & 0 & 0\\\\0 & \\frac{\\left(A{\\left(r \\right)} B{\\left(r \\right)} \\frac{d^{2}}{d r^{2}} A{\\left(r \\right)} - A{\\left(r \\right)} \\frac{d}{d r} A{\\left(r \\right)} \\frac{d}{d r} B{\\left(r \\right)} - B{\\left(r \\right)} \\left(\\frac{d}{d r} A{\\left(r \\right)}\\right)^{2}\\right) B{\\left(r \\right)}}{A^{2}{\\left(r \\right)}} & 0 & 0\\\\0 & 0 & \\frac{C^{3}{\\left(r \\right)} \\frac{d}{d r} A{\\left(r \\right)} \\frac{d}{d r} C{\\left(r \\right)}}{A{\\left(r \\right)} B^{2}{\\left(r \\right)}} & 0\\\\0 & 0 & 0 & \\frac{C^{3}{\\left(r \\right)} \\sin^{4}{\\left(\\theta \\right)} \\frac{d}{d r} A{\\left(r \\right)} \\frac{d}{d r} C{\\left(r \\right)}}{A{\\left(r \\right)} B^{2}{\\left(r \\right)}}\\end{matrix}\\right]$"
      ],
      "text/plain": [
       "⎡                2                                                            \n",
       "⎢ 2    ⎛d       ⎞                                                             \n",
       "⎢A (r)⋅⎜──(A(r))⎟                                                             \n",
       "⎢      ⎝dr      ⎠                                                             \n",
       "⎢─────────────────                                    0                       \n",
       "⎢       2                                                                     \n",
       "⎢      B (r)                                                                  \n",
       "⎢                                                                             \n",
       "⎢                   ⎛            2                                            \n",
       "⎢                   ⎜           d               d        d               ⎛d   \n",
       "⎢                   ⎜A(r)⋅B(r)⋅───(A(r)) - A(r)⋅──(A(r))⋅──(B(r)) - B(r)⋅⎜──(A\n",
       "⎢                   ⎜            2              dr       dr              ⎝dr  \n",
       "⎢                   ⎝          dr                                             \n",
       "⎢        0          ──────────────────────────────────────────────────────────\n",
       "⎢                                                    2                        \n",
       "⎢                                                   A (r)                     \n",
       "⎢                                                                             \n",
       "⎢                                                                             \n",
       "⎢                                                                             \n",
       "⎢                                                                             \n",
       "⎢        0                                            0                       \n",
       "⎢                                                                             \n",
       "⎢                                                                             \n",
       "⎢                                                                             \n",
       "⎢                                                                             \n",
       "⎢                                                                             \n",
       "⎢                                                                             \n",
       "⎢        0                                            0                       \n",
       "⎢                                                                             \n",
       "⎣                                                                             \n",
       "\n",
       "                                                                      ⎤\n",
       "                                                                      ⎥\n",
       "                                                                      ⎥\n",
       "                                                                      ⎥\n",
       "                         0                            0               ⎥\n",
       "                                                                      ⎥\n",
       "                                                                      ⎥\n",
       "                                                                      ⎥\n",
       "     2⎞                                                               ⎥\n",
       "    ⎞ ⎟                                                               ⎥\n",
       "(r))⎟ ⎟⋅B(r)                                                          ⎥\n",
       "    ⎠ ⎟                                                               ⎥\n",
       "      ⎠                                                               ⎥\n",
       "────────────             0                            0               ⎥\n",
       "                                                                      ⎥\n",
       "                                                                      ⎥\n",
       "                                                                      ⎥\n",
       "               3    d        d                                        ⎥\n",
       "              C (r)⋅──(A(r))⋅──(C(r))                                 ⎥\n",
       "                    dr       dr                                       ⎥\n",
       "              ───────────────────────                 0               ⎥\n",
       "                           2                                          ⎥\n",
       "                     A(r)⋅B (r)                                       ⎥\n",
       "                                                                      ⎥\n",
       "                                        3       4    d        d       ⎥\n",
       "                                       C (r)⋅sin (θ)⋅──(A(r))⋅──(C(r))⎥\n",
       "                                                     dr       dr      ⎥\n",
       "                         0             ───────────────────────────────⎥\n",
       "                                                        2             ⎥\n",
       "                                                  A(r)⋅B (r)          ⎦"
      ]
     },
     "metadata": {},
     "output_type": "display_data"
    }
   ],
   "source": [
    "Dcau = pt.ten('Dcau',2)\n",
    "Dcau_dat = pt.C(ad('^a'),'_b') \n",
    "Dcau.assign(Dcad_dat,'^a,_b')\n",
    "Dcau.complete('^,_')\n",
    "Dcau.simplify()\n",
    "Dcau.display()"
   ]
  },
  {
   "cell_type": "markdown",
   "id": "f9f2471f",
   "metadata": {},
   "source": [
    "$$\n",
    "\\Theta=V_{; \\alpha}^{\\alpha}\n",
    "$$"
   ]
  },
  {
   "cell_type": "code",
   "execution_count": 16,
   "id": "8d35dc6d",
   "metadata": {},
   "outputs": [
    {
     "data": {
      "image/png": "[encoded data removed]",
      "text/latex": [
       "$\\displaystyle 0$"
      ],
      "text/plain": [
       "0"
      ]
     },
     "metadata": {},
     "output_type": "display_data"
    }
   ],
   "source": [
    "#Expansión\n",
    "Θ =DcVd('^a,_a')\n",
    "display(Θ)"
   ]
  },
  {
   "cell_type": "code",
   "execution_count": 17,
   "id": "7c367e58",
   "metadata": {},
   "outputs": [
    {
     "data": {
      "image/png": "[encoded data removed]",
      "text/latex": [
       "$\\displaystyle 0$"
      ],
      "text/plain": [
       "0"
      ]
     },
     "metadata": {},
     "output_type": "display_data"
    }
   ],
   "source": [
    "#Shear\n",
    "σ= 1/A*(B.diff(t)/(B)-C.diff(t)/(C)  )\n",
    "display(σ)"
   ]
  },
  {
   "cell_type": "markdown",
   "id": "01a1c946",
   "metadata": {},
   "source": [
    "### COVARIANT DERIVATIVE OF: \n",
    "$$\n",
    "K_{\\alpha ; \\beta}\\,, \\quad L_{\\alpha ; \\beta} \\,, \\quad S{\\alpha ; \\beta}\n",
    "$$"
   ]
  },
  {
   "cell_type": "code",
   "execution_count": 18,
   "id": "d2e34806",
   "metadata": {},
   "outputs": [
    {
     "name": "stdout",
     "output_type": "stream",
     "text": [
      "Elements assigned correctly to the _a,_b components\n",
      "Elements assigned correctly to the _a,_b components\n",
      "Elements assigned correctly to the _a,_b components\n"
     ]
    }
   ],
   "source": [
    "DcKd = pt.ten('DcKd',2)\n",
    "DcKd.assign(-a1*Vd('_a')*Vd('_b')+ σ1*Vd('_a')*Kd('_b')+ J1*(Ld('_a')*Ld('_b')+Sd('_a')*Sd('_b')) ,\"_a,_b\")\n",
    "DcKd.simplify()\n",
    "#DcKdS.display('_,_')\n",
    "\n",
    "DcLd = pt.ten('DcLd',2)\n",
    "DcLd.assign(σ2*Vd('_a')*Ld('_b')- J1*Kd('_a')*Ld('_b')+ J2*Sd('_a')*Sd('_b') ,\"_a,_b\")\n",
    "DcLd.simplify()\n",
    "#DcLdS.display('_,_')\n",
    "\n",
    "DcSd = pt.ten('DcSd',2)\n",
    "DcSd.assign(σ2*Vd('_a')*Sd('_b')- J1*Kd('_a')*Sd('_b')- J2*Ld('_a')*Sd('_b') ,\"_a,_b\")\n",
    "DcSd.simplify()\n",
    "#DcSdS.display('_,_')\n"
   ]
  },
  {
   "cell_type": "markdown",
   "id": "5676bc13",
   "metadata": {},
   "source": [
    "### The directional derivatives operators\n",
    "$$\n",
    "f^{\\bullet}=V^{\\alpha} \\partial_{\\alpha} f \\quad f^{\\dagger}=K^{\\alpha} \\partial_{\\alpha} f \\quad \\text { and } \\quad f^{*}=L^{\\alpha} \\partial_{\\alpha} f\n",
    "$$"
   ]
  },
  {
   "cell_type": "code",
   "execution_count": 19,
   "id": "e0beed4c",
   "metadata": {},
   "outputs": [
    {
     "name": "stdout",
     "output_type": "stream",
     "text": [
      "Elements assigned correctly to the _a components\n",
      "Elements assigned correctly to the _a components\n",
      "Elements assigned correctly to the _a components\n"
     ]
    },
    {
     "data": {
      "image/png": "[encoded data removed]",
      "text/latex": [
       "$\\displaystyle \\left[ 0, \\  \\frac{A{\\left(r \\right)} B{\\left(r \\right)} \\frac{d^{2}}{d r^{2}} A{\\left(r \\right)} - A{\\left(r \\right)} \\frac{d}{d r} A{\\left(r \\right)} \\frac{d}{d r} B{\\left(r \\right)} - B{\\left(r \\right)} \\left(\\frac{d}{d r} A{\\left(r \\right)}\\right)^{2}}{A^{2}{\\left(r \\right)} B^{3}{\\left(r \\right)}}, \\  0\\right]$"
      ],
      "text/plain": [
       "⎡               2                                                 2   ⎤\n",
       "⎢              d               d        d               ⎛d       ⎞    ⎥\n",
       "⎢   A(r)⋅B(r)⋅───(A(r)) - A(r)⋅──(A(r))⋅──(B(r)) - B(r)⋅⎜──(A(r))⎟    ⎥\n",
       "⎢               2              dr       dr              ⎝dr      ⎠    ⎥\n",
       "⎢             dr                                                      ⎥\n",
       "⎢0, ───────────────────────────────────────────────────────────────, 0⎥\n",
       "⎢                              2     3                                ⎥\n",
       "⎣                             A (r)⋅B (r)                             ⎦"
      ]
     },
     "execution_count": 19,
     "metadata": {},
     "output_type": "execute_result"
    }
   ],
   "source": [
    "# Derivadas de a1\n",
    "Da1c= pt.ten('Da1c',1)\n",
    "Da1c.assign(pt.D(a1,\"_a\"), \"_a\")\n",
    "Da1c.simplify()\n",
    "Da1cir= Vu('^a')*Da1c('_a') \n",
    "Da1cir.simplify()\n",
    "\n",
    "Da1= pt.ten('Da1',1)\n",
    "Da1.assign(pt.D(a1,\"_a\"), \"_a\")\n",
    "Da1.simplify()\n",
    "Da1dag= Ku('^a')*Da1('_a') \n",
    "Da1dag.factor()\n",
    "\n",
    "Da1es= pt.ten('Da1est',1)\n",
    "Da1es.assign(pt.D(a1,\"_a\"), \"_a\")\n",
    "Da1es.simplify()\n",
    "Da1est= Lu('^a')*Da1es('_a') \n",
    "Da1est.simplify()\n",
    "\n",
    "[Da1cir, Da1dag, Da1est]"
   ]
  },
  {
   "cell_type": "markdown",
   "id": "9b1e9732",
   "metadata": {},
   "source": [
    "## The energy momentum tensor\n",
    "$$\n",
    "{T}_{\\alpha\\beta}= (\\rho+P) V_\\alpha V_\\beta+P g _{\\alpha \\beta} +\\Pi_{\\alpha \\beta}+\\mathcal{F}_\\alpha V_\\beta+\\mathcal{F}_\\beta V_\\alpha .\n",
    "$$"
   ]
  },
  {
   "cell_type": "markdown",
   "id": "690acfa1",
   "metadata": {},
   "source": [
    "$$\n",
    "\\mathcal{F}_{\\mu}=\\mathcal{F} K_{\\mu}\n",
    "$$"
   ]
  },
  {
   "cell_type": "code",
   "execution_count": 20,
   "id": "b7825425",
   "metadata": {},
   "outputs": [
    {
     "name": "stdout",
     "output_type": "stream",
     "text": [
      "Elements assigned correctly to the _a components\n"
     ]
    },
    {
     "data": {
      "image/png": "[encoded data removed]",
      "text/latex": [
       "$\\displaystyle \\left[\\begin{matrix}0 & 0 & 0 & 0\\end{matrix}\\right]$"
      ],
      "text/plain": [
       "[0  0  0  0]"
      ]
     },
     "metadata": {},
     "output_type": "display_data"
    },
    {
     "data": {
      "application/vnd.jupyter.widget-view+json": {
       "model_id": "fa77977185ae43989b78b243513c3b66",
       "version_major": 2,
       "version_minor": 0
      },
      "text/plain": [
       "Fd Tensor $Fd{^\\alpha}$:   0%|          | 0/4 [00:00<?, ?it/s]"
      ]
     },
     "metadata": {},
     "output_type": "display_data"
    },
    {
     "data": {
      "text/latex": [
       "All other indices of Fd Tensor $Fd$  already calculated."
      ],
      "text/plain": [
       "<IPython.core.display.Latex object>"
      ]
     },
     "metadata": {},
     "output_type": "display_data"
    }
   ],
   "source": [
    "Fd=pt.ten('Fd',1)\n",
    "Fd.assign(F*Kd('_a') ,\"_a\")\n",
    "Fd.simplify()\n",
    "Fd.display('_')\n",
    "Fd.complete('_')"
   ]
  },
  {
   "cell_type": "markdown",
   "id": "70a184c3",
   "metadata": {},
   "source": [
    "$$\n",
    "\\mathcal{F}^{\\mu} V_{\\mu}=0\n",
    "$$"
   ]
  },
  {
   "cell_type": "code",
   "execution_count": 21,
   "id": "48f2a04e",
   "metadata": {},
   "outputs": [
    {
     "data": {
      "image/png": "[encoded data removed]",
      "text/latex": [
       "$\\displaystyle 0$"
      ],
      "text/plain": [
       "0"
      ]
     },
     "execution_count": 21,
     "metadata": {},
     "output_type": "execute_result"
    }
   ],
   "source": [
    "Fd(\"^a\")*Vd(\"_a\")"
   ]
  },
  {
   "cell_type": "code",
   "execution_count": 22,
   "id": "3af7d2aa",
   "metadata": {},
   "outputs": [
    {
     "name": "stdout",
     "output_type": "stream",
     "text": [
      "Elements assigned correctly to the _a,_b components\n"
     ]
    },
    {
     "data": {
      "text/latex": [
       "$\\displaystyle \\left[\\begin{matrix}0 & 0 & 0 & 0\\\\0 & \\frac{2 B^{2}{\\left(r \\right)} Π{\\left(r \\right)}}{3} & 0 & 0\\\\0 & 0 & - \\frac{C^{2}{\\left(r \\right)} Π{\\left(r \\right)}}{3} & 0\\\\0 & 0 & 0 & - \\frac{C^{2}{\\left(r \\right)} Π{\\left(r \\right)} \\sin^{2}{\\left(\\theta \\right)}}{3}\\end{matrix}\\right]$"
      ],
      "text/plain": [
       "⎡0       0             0                 0          ⎤\n",
       "⎢                                                   ⎥\n",
       "⎢      2                                            ⎥\n",
       "⎢   2⋅B (r)⋅Π(r)                                    ⎥\n",
       "⎢0  ────────────       0                 0          ⎥\n",
       "⎢        3                                          ⎥\n",
       "⎢                                                   ⎥\n",
       "⎢                   2                               ⎥\n",
       "⎢                 -C (r)⋅Π(r)                       ⎥\n",
       "⎢0       0        ────────────           0          ⎥\n",
       "⎢                      3                            ⎥\n",
       "⎢                                                   ⎥\n",
       "⎢                                 2            2    ⎥\n",
       "⎢                               -C (r)⋅Π(r)⋅sin (θ) ⎥\n",
       "⎢0       0             0        ────────────────────⎥\n",
       "⎣                                        3          ⎦"
      ]
     },
     "metadata": {},
     "output_type": "display_data"
    }
   ],
   "source": [
    "PIdd=pt.ten('PIdd',2)\n",
    "PIdd.assign(Π*(Kd(\"_a\")*Kd(\"_b\")-hdd(\"_a,_b\")/3) ,\"_a,_b\")\n",
    "PIdd.simplify()\n",
    "PIdd.display('_,_')"
   ]
  },
  {
   "cell_type": "code",
   "execution_count": 23,
   "id": "f4ae0485",
   "metadata": {},
   "outputs": [
    {
     "name": "stdout",
     "output_type": "stream",
     "text": [
      "Elements assigned correctly to the _a,_b components\n"
     ]
    },
    {
     "data": {
      "application/vnd.jupyter.widget-view+json": {
       "model_id": "a95b64a385624369893f8af211554d77",
       "version_major": 2,
       "version_minor": 0
      },
      "text/plain": [
       "T Tensor $T{^\\alpha}{_\\beta}$:   0%|          | 0/16 [00:00<?, ?it/s]"
      ]
     },
     "metadata": {},
     "output_type": "display_data"
    },
    {
     "data": {
      "application/vnd.jupyter.widget-view+json": {
       "model_id": "8e017b7b45b947dfb0222471d175cb22",
       "version_major": 2,
       "version_minor": 0
      },
      "text/plain": [
       "T Tensor $T{^\\alpha}{^\\beta}$:   0%|          | 0/16 [00:00<?, ?it/s]"
      ]
     },
     "metadata": {},
     "output_type": "display_data"
    },
    {
     "data": {
      "application/vnd.jupyter.widget-view+json": {
       "model_id": "32df730112fc4e3a9b5324e2688bcfb4",
       "version_major": 2,
       "version_minor": 0
      },
      "text/plain": [
       "T Tensor $T{_\\alpha}{^\\beta}$:   0%|          | 0/16 [00:01<?, ?it/s]"
      ]
     },
     "metadata": {},
     "output_type": "display_data"
    },
    {
     "data": {
      "text/latex": [
       "All other indices of T Tensor $T$  already calculated."
      ],
      "text/plain": [
       "<IPython.core.display.Latex object>"
      ]
     },
     "metadata": {},
     "output_type": "display_data"
    },
    {
     "data": {
      "text/latex": [
       "$\\displaystyle \\left[\\begin{matrix}- ρ{\\left(r \\right)} & 0 & 0 & 0\\\\0 & P{\\left(r \\right)} + \\frac{2 Π{\\left(r \\right)}}{3} & 0 & 0\\\\0 & 0 & P{\\left(r \\right)} - \\frac{Π{\\left(r \\right)}}{3} & 0\\\\0 & 0 & 0 & P{\\left(r \\right)} - \\frac{Π{\\left(r \\right)}}{3}\\end{matrix}\\right]$"
      ],
      "text/plain": [
       "⎡-ρ(r)        0             0            0     ⎤\n",
       "⎢                                              ⎥\n",
       "⎢              2⋅Π(r)                          ⎥\n",
       "⎢  0    P(r) + ──────       0            0     ⎥\n",
       "⎢                3                             ⎥\n",
       "⎢                                              ⎥\n",
       "⎢                             Π(r)             ⎥\n",
       "⎢  0          0        P(r) - ────       0     ⎥\n",
       "⎢                              3               ⎥\n",
       "⎢                                              ⎥\n",
       "⎢                                          Π(r)⎥\n",
       "⎢  0          0             0       P(r) - ────⎥\n",
       "⎣                                           3  ⎦"
      ]
     },
     "metadata": {},
     "output_type": "display_data"
    }
   ],
   "source": [
    "T = pt.ten('T',2)\n",
    "T.assign((ρ+P)*Vd(\"_a\")*Vd(\"_b\") + P*g(\"_a,_b\") + PIdd(\"_a,_b\") + Fd(\"_a\")*Vd(\"_b\") + Fd(\"_b\")*Vd(\"_a\") ,\"_a,_b\")\n",
    "T.simplify()\n",
    "T.complete('_,_')\n",
    "T.display('^,_')"
   ]
  },
  {
   "cell_type": "code",
   "execution_count": 24,
   "id": "c31643e8",
   "metadata": {},
   "outputs": [
    {
     "name": "stdout",
     "output_type": "stream",
     "text": [
      "Elements assigned correctly to the ^a components\n"
     ]
    },
    {
     "data": {
      "application/vnd.jupyter.widget-view+json": {
       "model_id": "f4a0e2e3f54d4b47a720c6684eaac13d",
       "version_major": 2,
       "version_minor": 0
      },
      "text/plain": [
       "TOV Tensor $TOV{_\\alpha}$:   0%|          | 0/4 [00:00<?, ?it/s]"
      ]
     },
     "metadata": {},
     "output_type": "display_data"
    },
    {
     "data": {
      "text/latex": [
       "All other indices of TOV Tensor $TOV$  already calculated."
      ],
      "text/plain": [
       "<IPython.core.display.Latex object>"
      ]
     },
     "metadata": {},
     "output_type": "display_data"
    }
   ],
   "source": [
    "TOV = pt.ten('TOV',1)\n",
    "val = pt.C(T(\"^a,^b\"),\"_b\")\n",
    "TOV.assign(val,\"^a\")\n",
    "TOV.simplify()\n",
    "TOV.complete('^')\n",
    "#TOV.display(aslist=True)"
   ]
  },
  {
   "cell_type": "code",
   "execution_count": 25,
   "id": "62d4adf4",
   "metadata": {},
   "outputs": [
    {
     "data": {
      "image/png": "[encoded data removed]",
      "text/latex": [
       "$\\displaystyle 0$"
      ],
      "text/plain": [
       "0"
      ]
     },
     "execution_count": 25,
     "metadata": {},
     "output_type": "execute_result"
    }
   ],
   "source": [
    "TOV1=TOV(\"_0\")\n",
    "TOV1.factor()"
   ]
  },
  {
   "cell_type": "code",
   "execution_count": 26,
   "id": "12e345c4",
   "metadata": {},
   "outputs": [
    {
     "data": {
      "text/latex": [
       "$\\displaystyle \\frac{3 A{\\left(r \\right)} C{\\left(r \\right)} \\frac{d}{d r} P{\\left(r \\right)} + 2 A{\\left(r \\right)} C{\\left(r \\right)} \\frac{d}{d r} Π{\\left(r \\right)} + 6 A{\\left(r \\right)} Π{\\left(r \\right)} \\frac{d}{d r} C{\\left(r \\right)} + 3 C{\\left(r \\right)} P{\\left(r \\right)} \\frac{d}{d r} A{\\left(r \\right)} + 2 C{\\left(r \\right)} Π{\\left(r \\right)} \\frac{d}{d r} A{\\left(r \\right)} + 3 C{\\left(r \\right)} ρ{\\left(r \\right)} \\frac{d}{d r} A{\\left(r \\right)}}{3 A{\\left(r \\right)} C{\\left(r \\right)}}$"
      ],
      "text/plain": [
       "            d                      d                      d                   \n",
       "3⋅A(r)⋅C(r)⋅──(P(r)) + 2⋅A(r)⋅C(r)⋅──(Π(r)) + 6⋅A(r)⋅Π(r)⋅──(C(r)) + 3⋅C(r)⋅P(\n",
       "            dr                     dr                     dr                  \n",
       "──────────────────────────────────────────────────────────────────────────────\n",
       "                                                              3⋅A(r)⋅C(r)     \n",
       "\n",
       "   d                      d                      d       \n",
       "r)⋅──(A(r)) + 2⋅C(r)⋅Π(r)⋅──(A(r)) + 3⋅C(r)⋅ρ(r)⋅──(A(r))\n",
       "   dr                     dr                     dr      \n",
       "─────────────────────────────────────────────────────────\n",
       "                                                         "
      ]
     },
     "execution_count": 26,
     "metadata": {},
     "output_type": "execute_result"
    }
   ],
   "source": [
    "TOV2=TOV(\"_1\")\n",
    "TOV2.factor()"
   ]
  },
  {
   "attachments": {},
   "cell_type": "markdown",
   "id": "a91e8643",
   "metadata": {},
   "source": [
    "$$\n",
    "\\rho=T_{\\alpha \\beta} V^\\alpha V^\\beta\n",
    "$$"
   ]
  },
  {
   "cell_type": "code",
   "execution_count": 27,
   "id": "f57e592e",
   "metadata": {},
   "outputs": [
    {
     "data": {
      "text/latex": [
       "$\\displaystyle ρ{\\left(r \\right)}$"
      ],
      "text/plain": [
       "ρ(r)"
      ]
     },
     "execution_count": 27,
     "metadata": {},
     "output_type": "execute_result"
    }
   ],
   "source": [
    "T(\"_a,_b\")*Vu('^a')*Vu('^b')"
   ]
  },
  {
   "attachments": {},
   "cell_type": "markdown",
   "id": "1494024f",
   "metadata": {},
   "source": [
    "$$\n",
    "\\mathcal{F}_\\alpha=-\\rho V_\\alpha-T_{\\alpha \\beta} V^\\beta\n",
    "$$"
   ]
  },
  {
   "cell_type": "code",
   "execution_count": 28,
   "id": "9e80f8e9",
   "metadata": {},
   "outputs": [
    {
     "name": "stdout",
     "output_type": "stream",
     "text": [
      "Elements assigned correctly to the _a components\n"
     ]
    },
    {
     "data": {
      "image/png": "[encoded data removed]",
      "text/latex": [
       "$\\displaystyle \\left[\\begin{matrix}0 & 0 & 0 & 0\\end{matrix}\\right]$"
      ],
      "text/plain": [
       "[0  0  0  0]"
      ]
     },
     "metadata": {},
     "output_type": "display_data"
    }
   ],
   "source": [
    "Fdp=pt.ten('Fdp',1)\n",
    "Fdp.assign(-ρ*Vd('_a') -T(\"_a,_b\")*Vu('^b') ,\"_a\")\n",
    "Fdp.simplify()\n",
    "Fdp.display('_')"
   ]
  },
  {
   "attachments": {},
   "cell_type": "markdown",
   "id": "bc429ea4",
   "metadata": {},
   "source": [
    "$$\n",
    "P=\\frac{1}{3} h^{\\alpha \\beta} T_{\\alpha \\beta}\n",
    "$$"
   ]
  },
  {
   "cell_type": "code",
   "execution_count": 29,
   "id": "32201992",
   "metadata": {},
   "outputs": [
    {
     "data": {
      "image/png": "[encoded data removed]",
      "text/latex": [
       "$\\displaystyle P{\\left(r \\right)}$"
      ],
      "text/plain": [
       "P(r)"
      ]
     },
     "execution_count": 29,
     "metadata": {},
     "output_type": "execute_result"
    }
   ],
   "source": [
    "hdd(\"^a,^b\")*T(\"_a,_b\")/3"
   ]
  },
  {
   "cell_type": "markdown",
   "id": "a22968b5",
   "metadata": {},
   "source": [
    "$$\n",
    "\\Pi_{\\alpha \\beta}=h_\\alpha^\\mu h_\\beta^\\nu\\left(T_{\\mu \\nu}-P h_{\\mu \\nu}\\right)\n",
    "$$"
   ]
  },
  {
   "cell_type": "code",
   "execution_count": 30,
   "id": "b31f4298",
   "metadata": {},
   "outputs": [
    {
     "name": "stdout",
     "output_type": "stream",
     "text": [
      "Elements assigned correctly to the _a,_b components\n"
     ]
    },
    {
     "data": {
      "text/latex": [
       "$\\displaystyle \\left[\\begin{matrix}0 & 0 & 0 & 0\\\\0 & \\frac{2 B^{2}{\\left(r \\right)} Π{\\left(r \\right)}}{3} & 0 & 0\\\\0 & 0 & - \\frac{C^{2}{\\left(r \\right)} Π{\\left(r \\right)}}{3} & 0\\\\0 & 0 & 0 & - \\frac{C^{2}{\\left(r \\right)} Π{\\left(r \\right)} \\sin^{2}{\\left(\\theta \\right)}}{3}\\end{matrix}\\right]$"
      ],
      "text/plain": [
       "⎡0       0             0                 0          ⎤\n",
       "⎢                                                   ⎥\n",
       "⎢      2                                            ⎥\n",
       "⎢   2⋅B (r)⋅Π(r)                                    ⎥\n",
       "⎢0  ────────────       0                 0          ⎥\n",
       "⎢        3                                          ⎥\n",
       "⎢                                                   ⎥\n",
       "⎢                   2                               ⎥\n",
       "⎢                 -C (r)⋅Π(r)                       ⎥\n",
       "⎢0       0        ────────────           0          ⎥\n",
       "⎢                      3                            ⎥\n",
       "⎢                                                   ⎥\n",
       "⎢                                 2            2    ⎥\n",
       "⎢                               -C (r)⋅Π(r)⋅sin (θ) ⎥\n",
       "⎢0       0             0        ────────────────────⎥\n",
       "⎣                                        3          ⎦"
      ]
     },
     "metadata": {},
     "output_type": "display_data"
    }
   ],
   "source": [
    "PI2=pt.ten('PI2',2)\n",
    "PI2.assign(hdd(\"_a,^c\")*hdd(\"_b,^d\")*(T(\"_c,_d\") - P*hdd(\"_c,_d\") ),\"_a,_b\")\n",
    "PI2.simplify()\n",
    "PI2.display()"
   ]
  },
  {
   "attachments": {},
   "cell_type": "markdown",
   "id": "d9563003",
   "metadata": {},
   "source": [
    "The anisotropic tensor, $\\Pi_{\\alpha \\beta}$ can be  expressed as\n",
    "$$\n",
    "\\Pi_{\\alpha \\beta}= \\Pi \\left(K_\\alpha K_\\beta -\\frac{h_{\\alpha \\beta}}{3}\\right) \\quad \\textrm{with} \\quad \\Pi=P_{r}-P_{\\perp} \\, .\n",
    "$$"
   ]
  },
  {
   "cell_type": "code",
   "execution_count": 31,
   "id": "c69ca21a",
   "metadata": {},
   "outputs": [
    {
     "name": "stdout",
     "output_type": "stream",
     "text": [
      "Elements assigned correctly to the _a,_b components\n"
     ]
    },
    {
     "data": {
      "text/latex": [
       "$\\displaystyle \\left[\\begin{matrix}0 & 0 & 0 & 0\\\\0 & \\frac{2 B^{2}{\\left(r \\right)} Π{\\left(r \\right)}}{3} & 0 & 0\\\\0 & 0 & - \\frac{C^{2}{\\left(r \\right)} Π{\\left(r \\right)}}{3} & 0\\\\0 & 0 & 0 & - \\frac{C^{2}{\\left(r \\right)} Π{\\left(r \\right)} \\sin^{2}{\\left(\\theta \\right)}}{3}\\end{matrix}\\right]$"
      ],
      "text/plain": [
       "⎡0       0             0                 0          ⎤\n",
       "⎢                                                   ⎥\n",
       "⎢      2                                            ⎥\n",
       "⎢   2⋅B (r)⋅Π(r)                                    ⎥\n",
       "⎢0  ────────────       0                 0          ⎥\n",
       "⎢        3                                          ⎥\n",
       "⎢                                                   ⎥\n",
       "⎢                   2                               ⎥\n",
       "⎢                 -C (r)⋅Π(r)                       ⎥\n",
       "⎢0       0        ────────────           0          ⎥\n",
       "⎢                      3                            ⎥\n",
       "⎢                                                   ⎥\n",
       "⎢                                 2            2    ⎥\n",
       "⎢                               -C (r)⋅Π(r)⋅sin (θ) ⎥\n",
       "⎢0       0             0        ────────────────────⎥\n",
       "⎣                                        3          ⎦"
      ]
     },
     "metadata": {},
     "output_type": "display_data"
    }
   ],
   "source": [
    "PIT=pt.ten('PIT',2)\n",
    "PIT.assign(Π*(Kd(\"_a\")*Kd(\"_b\")-hdd(\"_a,_b\")/3) ,\"_a,_b\")\n",
    "PIT.simplify()\n",
    "PIT.display('_,_')"
   ]
  },
  {
   "cell_type": "markdown",
   "id": "8b4abef8",
   "metadata": {},
   "source": [
    "## The splitting of the Riemann tensor and structure scalars\n",
    "\n",
    "A set of scalar functions --the structure scalars--  obtained from the orthogonal splitting of the Riemann tensor\n",
    "\n",
    "\n",
    "We can express the splitting of the Riemann tensor as:\n",
    "$$\n",
    "R_{\\alpha \\beta \\mu \\nu}=2V_\\mu V_{[\\alpha}Y_{\\beta] \\, \\nu}+2h_{\\alpha[\\nu}X_{\\mu] \\,  \\beta}+2V_\\nu V_{[\\beta}Y_{\\alpha] \\, \\mu}\n",
    "+ h_{\\beta\\nu}(X_0 \\, h_{\\alpha\\mu}-X_{\\alpha\\mu})+h_{\\beta\\mu}(X_{\\alpha\\nu} -X_0 \\, h_{\\alpha\\nu})\n",
    "$$\n",
    "\n",
    "$$\n",
    " + 2V_{[\\nu} Z_{ \\, \\mu]}^{\\gamma}\\varepsilon_{{\\alpha \\beta \\gamma}} +2V_{[\\beta} Z_{{\\,  \\ \\alpha]}}^{{\\gamma }}\\ \\varepsilon_{{\\mu \\nu \\gamma}} \\,,\n",
    "$$\n",
    "\n",
    "with $\\varepsilon_{\\mu \\nu \\gamma} = \\eta_{\\phi \\mu \\nu \\gamma} V^{\\phi}$, and  $ \\eta_{\\phi \\mu \\nu \\gamma}$ the Levi-Civita 4-tensor. \n"
   ]
  },
  {
   "cell_type": "code",
   "execution_count": 32,
   "id": "572ced36",
   "metadata": {},
   "outputs": [],
   "source": [
    "Y0=4*sy.pi*(ρ+3*P)\n",
    "Y1=E-4*sy.pi*Π\n",
    "X0=8*sy.pi*ρ\n",
    "X1=-(E+4*sy.pi*Π)\n",
    "Z=4*sy.pi*F"
   ]
  },
  {
   "cell_type": "code",
   "execution_count": 33,
   "id": "9db82760",
   "metadata": {},
   "outputs": [
    {
     "name": "stdout",
     "output_type": "stream",
     "text": [
      "Elements assigned correctly to the _a,_b components\n"
     ]
    },
    {
     "data": {
      "application/vnd.jupyter.widget-view+json": {
       "model_id": "e9035c7eaa8049f0989caf133f196362",
       "version_major": 2,
       "version_minor": 0
      },
      "text/plain": [
       "Ydd Tensor $Ydd{^\\alpha}{_\\beta}$:   0%|          | 0/16 [00:00<?, ?it/s]"
      ]
     },
     "metadata": {},
     "output_type": "display_data"
    },
    {
     "data": {
      "application/vnd.jupyter.widget-view+json": {
       "model_id": "c02c7e26659c461583eb3e1c8ab9b990",
       "version_major": 2,
       "version_minor": 0
      },
      "text/plain": [
       "Ydd Tensor $Ydd{^\\alpha}{^\\beta}$:   0%|          | 0/16 [00:00<?, ?it/s]"
      ]
     },
     "metadata": {},
     "output_type": "display_data"
    },
    {
     "data": {
      "application/vnd.jupyter.widget-view+json": {
       "model_id": "53420515be46476387451ccc48599717",
       "version_major": 2,
       "version_minor": 0
      },
      "text/plain": [
       "Ydd Tensor $Ydd{_\\alpha}{^\\beta}$:   0%|          | 0/16 [00:00<?, ?it/s]"
      ]
     },
     "metadata": {},
     "output_type": "display_data"
    },
    {
     "data": {
      "text/latex": [
       "All other indices of Ydd Tensor $Ydd$  already calculated."
      ],
      "text/plain": [
       "<IPython.core.display.Latex object>"
      ]
     },
     "metadata": {},
     "output_type": "display_data"
    },
    {
     "data": {
      "text/latex": [
       "$\\displaystyle \\left[\\begin{matrix}0 & 0 & 0 & 0\\\\0 & \\frac{2 \\cdot \\left(2 \\pi \\left(3 P{\\left(r \\right)} + ρ{\\left(r \\right)}\\right) + E{\\left(r \\right)} - 4 \\pi Π{\\left(r \\right)}\\right) B^{2}{\\left(r \\right)}}{3} & 0 & 0\\\\0 & 0 & \\frac{\\left(4 \\pi \\left(3 P{\\left(r \\right)} + ρ{\\left(r \\right)}\\right) - E{\\left(r \\right)} + 4 \\pi Π{\\left(r \\right)}\\right) C^{2}{\\left(r \\right)}}{3} & 0\\\\0 & 0 & 0 & \\frac{\\left(4 \\pi \\left(3 P{\\left(r \\right)} + ρ{\\left(r \\right)}\\right) - E{\\left(r \\right)} + 4 \\pi Π{\\left(r \\right)}\\right) C^{2}{\\left(r \\right)} \\sin^{2}{\\left(\\theta \\right)}}{3}\\end{matrix}\\right]$"
      ],
      "text/plain": [
       "⎡0                         0                                               0  \n",
       "⎢                                                                             \n",
       "⎢                                              2                              \n",
       "⎢   2⋅(2⋅π⋅(3⋅P(r) + ρ(r)) + E(r) - 4⋅π⋅Π(r))⋅B (r)                           \n",
       "⎢0  ───────────────────────────────────────────────                        0  \n",
       "⎢                          3                                                  \n",
       "⎢                                                                             \n",
       "⎢                                                                             \n",
       "⎢                                                    (4⋅π⋅(3⋅P(r) + ρ(r)) - E(\n",
       "⎢0                         0                         ─────────────────────────\n",
       "⎢                                                                          3  \n",
       "⎢                                                                             \n",
       "⎢                                                                             \n",
       "⎢                                                                             \n",
       "⎢0                         0                                               0  \n",
       "⎣                                                                             \n",
       "\n",
       "                                                0                          ⎤\n",
       "                                                                           ⎥\n",
       "                                                                           ⎥\n",
       "                                                                           ⎥\n",
       "                                                0                          ⎥\n",
       "                                                                           ⎥\n",
       "                                                                           ⎥\n",
       "                2                                                          ⎥\n",
       "r) + 4⋅π⋅Π(r))⋅C (r)                                                       ⎥\n",
       "────────────────────                            0                          ⎥\n",
       "                                                                           ⎥\n",
       "                                                                           ⎥\n",
       "                                                               2       2   ⎥\n",
       "                      (4⋅π⋅(3⋅P(r) + ρ(r)) - E(r) + 4⋅π⋅Π(r))⋅C (r)⋅sin (θ)⎥\n",
       "                      ─────────────────────────────────────────────────────⎥\n",
       "                                                3                          ⎦"
      ]
     },
     "metadata": {},
     "output_type": "display_data"
    }
   ],
   "source": [
    "Ydd= pt.ten('Ydd',2)\n",
    "Ydd.assign(Y0*hdd(\"_a,_b\")/3 + Y1*(Kd('_a')*Kd('_b') - hdd(\"_a,_b\")/3) ,\"_a,_b\")\n",
    "Ydd.simplify()\n",
    "Ydd.complete('_,_')\n",
    "Ydd.display('_,_')"
   ]
  },
  {
   "cell_type": "code",
   "execution_count": 34,
   "id": "40a7a3e2",
   "metadata": {},
   "outputs": [
    {
     "name": "stdout",
     "output_type": "stream",
     "text": [
      "Elements assigned correctly to the _a,_b components\n"
     ]
    },
    {
     "data": {
      "application/vnd.jupyter.widget-view+json": {
       "model_id": "4c0034c120c5479cb9e512aa31138da5",
       "version_major": 2,
       "version_minor": 0
      },
      "text/plain": [
       "Xdd Tensor $Xdd{^\\alpha}{_\\beta}$:   0%|          | 0/16 [00:00<?, ?it/s]"
      ]
     },
     "metadata": {},
     "output_type": "display_data"
    },
    {
     "data": {
      "application/vnd.jupyter.widget-view+json": {
       "model_id": "2487bba4152a40039decbfcd0b70cf55",
       "version_major": 2,
       "version_minor": 0
      },
      "text/plain": [
       "Xdd Tensor $Xdd{^\\alpha}{^\\beta}$:   0%|          | 0/16 [00:00<?, ?it/s]"
      ]
     },
     "metadata": {},
     "output_type": "display_data"
    },
    {
     "data": {
      "application/vnd.jupyter.widget-view+json": {
       "model_id": "5a0ef9be87084aff9da4a152c447f03f",
       "version_major": 2,
       "version_minor": 0
      },
      "text/plain": [
       "Xdd Tensor $Xdd{_\\alpha}{^\\beta}$:   0%|          | 0/16 [00:00<?, ?it/s]"
      ]
     },
     "metadata": {},
     "output_type": "display_data"
    },
    {
     "data": {
      "text/latex": [
       "All other indices of Xdd Tensor $Xdd$  already calculated."
      ],
      "text/plain": [
       "<IPython.core.display.Latex object>"
      ]
     },
     "metadata": {},
     "output_type": "display_data"
    },
    {
     "data": {
      "text/latex": [
       "$\\displaystyle \\left[\\begin{matrix}0 & 0 & 0 & 0\\\\0 & \\frac{2 \\left(- E{\\left(r \\right)} - 4 \\pi Π{\\left(r \\right)} + 4 \\pi ρ{\\left(r \\right)}\\right) B^{2}{\\left(r \\right)}}{3} & 0 & 0\\\\0 & 0 & \\frac{\\left(E{\\left(r \\right)} + 4 \\pi Π{\\left(r \\right)} + 8 \\pi ρ{\\left(r \\right)}\\right) C^{2}{\\left(r \\right)}}{3} & 0\\\\0 & 0 & 0 & \\frac{\\left(E{\\left(r \\right)} + 4 \\pi Π{\\left(r \\right)} + 8 \\pi ρ{\\left(r \\right)}\\right) C^{2}{\\left(r \\right)} \\sin^{2}{\\left(\\theta \\right)}}{3}\\end{matrix}\\right]$"
      ],
      "text/plain": [
       "⎡0                    0                                    0                  \n",
       "⎢                                                                             \n",
       "⎢                                    2                                        \n",
       "⎢   2⋅(-E(r) - 4⋅π⋅Π(r) + 4⋅π⋅ρ(r))⋅B (r)                                     \n",
       "⎢0  ─────────────────────────────────────                  0                  \n",
       "⎢                     3                                                       \n",
       "⎢                                                                             \n",
       "⎢                                                                        2    \n",
       "⎢                                          (E(r) + 4⋅π⋅Π(r) + 8⋅π⋅ρ(r))⋅C (r) \n",
       "⎢0                    0                    ────────────────────────────────── \n",
       "⎢                                                          3                  \n",
       "⎢                                                                             \n",
       "⎢                                                                             \n",
       "⎢                                                                             \n",
       "⎢0                    0                                    0                  \n",
       "⎣                                                                             \n",
       "\n",
       "                     0                     ⎤\n",
       "                                           ⎥\n",
       "                                           ⎥\n",
       "                                           ⎥\n",
       "                     0                     ⎥\n",
       "                                           ⎥\n",
       "                                           ⎥\n",
       "                                           ⎥\n",
       "                                           ⎥\n",
       "                     0                     ⎥\n",
       "                                           ⎥\n",
       "                                           ⎥\n",
       "                               2       2   ⎥\n",
       " (E(r) + 4⋅π⋅Π(r) + 8⋅π⋅ρ(r))⋅C (r)⋅sin (θ)⎥\n",
       " ──────────────────────────────────────────⎥\n",
       "                     3                     ⎦"
      ]
     },
     "metadata": {},
     "output_type": "display_data"
    }
   ],
   "source": [
    "Xdd= pt.ten('Xdd',2)\n",
    "Xdd.assign(X0*hdd(\"_a,_b\")/3 + X1*(Kd('_a')*Kd('_b')-hdd(\"_a,_b\")/3) ,\"_a,_b\")\n",
    "Xdd.simplify()\n",
    "Xdd.complete('_,_')\n",
    "Xdd.display('_,_')"
   ]
  },
  {
   "cell_type": "code",
   "execution_count": 35,
   "id": "e0b5f839",
   "metadata": {},
   "outputs": [
    {
     "name": "stdout",
     "output_type": "stream",
     "text": [
      "Elements assigned correctly to the _a,_b components\n"
     ]
    },
    {
     "data": {
      "image/png": "[encoded data removed]",
      "text/latex": [
       "$\\displaystyle \\left[\\begin{matrix}0 & 0 & 0 & 0\\\\0 & 0 & 0 & 0\\\\0 & 0 & 0 & 0\\\\0 & 0 & 0 & 0\\end{matrix}\\right]$"
      ],
      "text/plain": [
       "⎡0  0  0  0⎤\n",
       "⎢          ⎥\n",
       "⎢0  0  0  0⎥\n",
       "⎢          ⎥\n",
       "⎢0  0  0  0⎥\n",
       "⎢          ⎥\n",
       "⎣0  0  0  0⎦"
      ]
     },
     "metadata": {},
     "output_type": "display_data"
    },
    {
     "data": {
      "application/vnd.jupyter.widget-view+json": {
       "model_id": "117790544c954521994e4b74d46bb719",
       "version_major": 2,
       "version_minor": 0
      },
      "text/plain": [
       "Zdd Tensor $Zdd{^\\alpha}{_\\beta}$:   0%|          | 0/16 [00:00<?, ?it/s]"
      ]
     },
     "metadata": {},
     "output_type": "display_data"
    },
    {
     "data": {
      "application/vnd.jupyter.widget-view+json": {
       "model_id": "59d8a36391254ff5915af7f89648fe54",
       "version_major": 2,
       "version_minor": 0
      },
      "text/plain": [
       "Zdd Tensor $Zdd{^\\alpha}{^\\beta}$:   0%|          | 0/16 [00:00<?, ?it/s]"
      ]
     },
     "metadata": {},
     "output_type": "display_data"
    },
    {
     "data": {
      "application/vnd.jupyter.widget-view+json": {
       "model_id": "b7ff303f739f494a97cb7de09958c910",
       "version_major": 2,
       "version_minor": 0
      },
      "text/plain": [
       "Zdd Tensor $Zdd{_\\alpha}{^\\beta}$:   0%|          | 0/16 [00:00<?, ?it/s]"
      ]
     },
     "metadata": {},
     "output_type": "display_data"
    },
    {
     "data": {
      "text/latex": [
       "All other indices of Zdd Tensor $Zdd$  already calculated."
      ],
      "text/plain": [
       "<IPython.core.display.Latex object>"
      ]
     },
     "metadata": {},
     "output_type": "display_data"
    }
   ],
   "source": [
    "Zdd= pt.ten('Zdd',2)\n",
    "Zdd.assign(Z*(Ld('_a')*Sd('_b')-Ld('_b')*Sd('_a')) ,\"_a,_b\")\n",
    "Zdd.simplify()\n",
    "Zdd.display('_,_')\n",
    "Zdd.complete('_,_')\n",
    "Zdd.simplify()"
   ]
  },
  {
   "cell_type": "code",
   "execution_count": 36,
   "id": "492ec580",
   "metadata": {},
   "outputs": [
    {
     "name": "stdout",
     "output_type": "stream",
     "text": [
      "Elements assigned correctly to the _b,_c,_d components\n"
     ]
    },
    {
     "data": {
      "image/png": "[encoded data removed]",
      "text/latex": [
       "$\\displaystyle \\frac{1}{A{\\left(r \\right)}}$"
      ],
      "text/plain": [
       " 1  \n",
       "────\n",
       "A(r)"
      ]
     },
     "execution_count": 36,
     "metadata": {},
     "output_type": "execute_result"
    }
   ],
   "source": [
    "LC = pt.lcivita(convention=1)\n",
    "eddd= pt.ten('eddd',3)\n",
    "eddd.assign(LC('_a,_b,_c,_d')*Vu('^a'), \"_b,_c,_d\")\n",
    "eddd.simplify()\n",
    "eddd('_1,_2,_3')"
   ]
  },
  {
   "cell_type": "code",
   "execution_count": 37,
   "id": "e047e465",
   "metadata": {},
   "outputs": [
    {
     "name": "stdout",
     "output_type": "stream",
     "text": [
      "Elements assigned correctly to the _a,_b,_c,_d components\n"
     ]
    },
    {
     "data": {
      "application/vnd.jupyter.widget-view+json": {
       "model_id": "7c51ad46cd9c49e8a97812b31528690a",
       "version_major": 2,
       "version_minor": 0
      },
      "text/plain": [
       "Rdddd Tensor $Rdddd{^\\alpha}{_\\beta}{_\\gamma}{_\\delta}$:   0%|          | 0/256 [00:00<?, ?it/s]"
      ]
     },
     "metadata": {},
     "output_type": "display_data"
    },
    {
     "data": {
      "application/vnd.jupyter.widget-view+json": {
       "model_id": "a6746f2ebac440a780eaad26dc472577",
       "version_major": 2,
       "version_minor": 0
      },
      "text/plain": [
       "Rdddd Tensor $Rdddd{^\\alpha}{^\\beta}{_\\gamma}{_\\delta}$:   0%|          | 0/256 [00:00<?, ?it/s]"
      ]
     },
     "metadata": {},
     "output_type": "display_data"
    },
    {
     "data": {
      "application/vnd.jupyter.widget-view+json": {
       "model_id": "ea4881083c364835970f94c690f70955",
       "version_major": 2,
       "version_minor": 0
      },
      "text/plain": [
       "Rdddd Tensor $Rdddd{^\\alpha}{^\\beta}{^\\gamma}{_\\delta}$:   0%|          | 0/256 [00:00<?, ?it/s]"
      ]
     },
     "metadata": {},
     "output_type": "display_data"
    },
    {
     "data": {
      "application/vnd.jupyter.widget-view+json": {
       "model_id": "857e6ed452bd4f00b0b0ddef9f366c92",
       "version_major": 2,
       "version_minor": 0
      },
      "text/plain": [
       "Rdddd Tensor $Rdddd{^\\alpha}{^\\beta}{^\\gamma}{^\\delta}$:   0%|          | 0/256 [00:00<?, ?it/s]"
      ]
     },
     "metadata": {},
     "output_type": "display_data"
    },
    {
     "data": {
      "application/vnd.jupyter.widget-view+json": {
       "model_id": "67facaef6def4885a0dc6ceaad9bf44b",
       "version_major": 2,
       "version_minor": 0
      },
      "text/plain": [
       "Rdddd Tensor $Rdddd{^\\alpha}{^\\beta}{_\\gamma}{^\\delta}$:   0%|          | 0/256 [00:00<?, ?it/s]"
      ]
     },
     "metadata": {},
     "output_type": "display_data"
    },
    {
     "data": {
      "application/vnd.jupyter.widget-view+json": {
       "model_id": "002eaba2750146baa0a881269fa0d079",
       "version_major": 2,
       "version_minor": 0
      },
      "text/plain": [
       "Rdddd Tensor $Rdddd{^\\alpha}{_\\beta}{^\\gamma}{_\\delta}$:   0%|          | 0/256 [00:00<?, ?it/s]"
      ]
     },
     "metadata": {},
     "output_type": "display_data"
    },
    {
     "data": {
      "application/vnd.jupyter.widget-view+json": {
       "model_id": "4fec28164b1b448299a7990843162bb3",
       "version_major": 2,
       "version_minor": 0
      },
      "text/plain": [
       "Rdddd Tensor $Rdddd{^\\alpha}{_\\beta}{^\\gamma}{^\\delta}$:   0%|          | 0/256 [00:00<?, ?it/s]"
      ]
     },
     "metadata": {},
     "output_type": "display_data"
    },
    {
     "data": {
      "application/vnd.jupyter.widget-view+json": {
       "model_id": "d4ce36c0ff8d47048fc8e3471773d1e3",
       "version_major": 2,
       "version_minor": 0
      },
      "text/plain": [
       "Rdddd Tensor $Rdddd{^\\alpha}{_\\beta}{_\\gamma}{^\\delta}$:   0%|          | 0/256 [00:00<?, ?it/s]"
      ]
     },
     "metadata": {},
     "output_type": "display_data"
    },
    {
     "data": {
      "application/vnd.jupyter.widget-view+json": {
       "model_id": "75fb81193982400a9eba6202255ff80f",
       "version_major": 2,
       "version_minor": 0
      },
      "text/plain": [
       "Rdddd Tensor $Rdddd{_\\alpha}{^\\beta}{_\\gamma}{_\\delta}$:   0%|          | 0/256 [00:00<?, ?it/s]"
      ]
     },
     "metadata": {},
     "output_type": "display_data"
    },
    {
     "data": {
      "application/vnd.jupyter.widget-view+json": {
       "model_id": "c0c1272f99f54285a4dfe62350342419",
       "version_major": 2,
       "version_minor": 0
      },
      "text/plain": [
       "Rdddd Tensor $Rdddd{_\\alpha}{^\\beta}{^\\gamma}{_\\delta}$:   0%|          | 0/256 [00:00<?, ?it/s]"
      ]
     },
     "metadata": {},
     "output_type": "display_data"
    },
    {
     "data": {
      "application/vnd.jupyter.widget-view+json": {
       "model_id": "8dc8d7bff6c44e7690ed0538a4dd7489",
       "version_major": 2,
       "version_minor": 0
      },
      "text/plain": [
       "Rdddd Tensor $Rdddd{_\\alpha}{^\\beta}{^\\gamma}{^\\delta}$:   0%|          | 0/256 [00:00<?, ?it/s]"
      ]
     },
     "metadata": {},
     "output_type": "display_data"
    },
    {
     "data": {
      "application/vnd.jupyter.widget-view+json": {
       "model_id": "70a39e6f6c1842f6bd6b7aba09f9ec4c",
       "version_major": 2,
       "version_minor": 0
      },
      "text/plain": [
       "Rdddd Tensor $Rdddd{_\\alpha}{^\\beta}{_\\gamma}{^\\delta}$:   0%|          | 0/256 [00:00<?, ?it/s]"
      ]
     },
     "metadata": {},
     "output_type": "display_data"
    },
    {
     "data": {
      "application/vnd.jupyter.widget-view+json": {
       "model_id": "15fc638b30c741f1b876cabc6bf1076e",
       "version_major": 2,
       "version_minor": 0
      },
      "text/plain": [
       "Rdddd Tensor $Rdddd{_\\alpha}{_\\beta}{^\\gamma}{_\\delta}$:   0%|          | 0/256 [00:00<?, ?it/s]"
      ]
     },
     "metadata": {},
     "output_type": "display_data"
    },
    {
     "data": {
      "application/vnd.jupyter.widget-view+json": {
       "model_id": "5c7c0728f3584a839b9b115524e82cda",
       "version_major": 2,
       "version_minor": 0
      },
      "text/plain": [
       "Rdddd Tensor $Rdddd{_\\alpha}{_\\beta}{^\\gamma}{^\\delta}$:   0%|          | 0/256 [00:00<?, ?it/s]"
      ]
     },
     "metadata": {},
     "output_type": "display_data"
    },
    {
     "data": {
      "application/vnd.jupyter.widget-view+json": {
       "model_id": "e8a2185fb1334dbd8a8bc3c34d234bc6",
       "version_major": 2,
       "version_minor": 0
      },
      "text/plain": [
       "Rdddd Tensor $Rdddd{_\\alpha}{_\\beta}{_\\gamma}{^\\delta}$:   0%|          | 0/256 [00:00<?, ?it/s]"
      ]
     },
     "metadata": {},
     "output_type": "display_data"
    },
    {
     "data": {
      "text/latex": [
       "All other indices of Rdddd Tensor $Rdddd$  already calculated."
      ],
      "text/plain": [
       "<IPython.core.display.Latex object>"
      ]
     },
     "metadata": {},
     "output_type": "display_data"
    }
   ],
   "source": [
    "Rdddd= pt.ten('Rdddd',4)\n",
    "Rdddd.assign(Vd('_c')*Vd('_a')*Ydd('_b,_d')-Vd('_c')*Vd('_b')*Ydd('_a,_d') + \\\n",
    "             Vd('_d')*Vd('_b')*Ydd('_a,_c')-Vd('_d')*Vd('_a')*Ydd('_b,_c') + \\\n",
    "             hdd(\"_a,_d\")*Xdd('_c,_b')- hdd(\"_a,_c\")*Xdd('_d,_b') +\\\n",
    "             hdd(\"_b,_d\")*(X0*hdd(\"_a,_c\")-Xdd('_a,_c') ) + \\\n",
    "             hdd(\"_b,_c\")*(Xdd('_a,_d')-X0*hdd(\"_a,_d\") ) + \\\n",
    "             Vd('_d')*Zdd('^e,_c')*eddd(\"_a,_b,_e\")- Vd('_c')*Zdd('^e,_d')*eddd(\"_a,_b,_e\") + \n",
    "             Vd('_b')*Zdd('^e,_a')*eddd(\"_c,_d,_e\")- Vd('_a')*Zdd('^e,_b')*eddd(\"_c,_d,_e\") , \"_a,_b,_c,_d\")\n",
    "Rdddd.simplify()\n",
    "#Rdddd.display('_,_,_,_')\n",
    "Rdddd.complete('_,_,_,_')"
   ]
  },
  {
   "cell_type": "code",
   "execution_count": 38,
   "id": "226fcc99",
   "metadata": {},
   "outputs": [
    {
     "name": "stdout",
     "output_type": "stream",
     "text": [
      "Elements assigned correctly to the _a,_c components\n"
     ]
    },
    {
     "data": {
      "application/vnd.jupyter.widget-view+json": {
       "model_id": "4958d5d9778346bb8a671bb1518e9735",
       "version_major": 2,
       "version_minor": 0
      },
      "text/plain": [
       "Rdd Tensor $Rdd{^\\alpha}{_\\beta}$:   0%|          | 0/16 [00:00<?, ?it/s]"
      ]
     },
     "metadata": {},
     "output_type": "display_data"
    },
    {
     "data": {
      "application/vnd.jupyter.widget-view+json": {
       "model_id": "cb28942a542d4a949cbc2355a9375f5e",
       "version_major": 2,
       "version_minor": 0
      },
      "text/plain": [
       "Rdd Tensor $Rdd{^\\alpha}{^\\beta}$:   0%|          | 0/16 [00:00<?, ?it/s]"
      ]
     },
     "metadata": {},
     "output_type": "display_data"
    },
    {
     "data": {
      "application/vnd.jupyter.widget-view+json": {
       "model_id": "0e8d3eb0c3b341eb80612a5e499f8226",
       "version_major": 2,
       "version_minor": 0
      },
      "text/plain": [
       "Rdd Tensor $Rdd{_\\alpha}{^\\beta}$:   0%|          | 0/16 [00:00<?, ?it/s]"
      ]
     },
     "metadata": {},
     "output_type": "display_data"
    },
    {
     "data": {
      "text/latex": [
       "All other indices of Rdd Tensor $Rdd$  already calculated."
      ],
      "text/plain": [
       "<IPython.core.display.Latex object>"
      ]
     },
     "metadata": {},
     "output_type": "display_data"
    },
    {
     "data": {
      "text/latex": [
       "$\\displaystyle \\left[\\begin{matrix}4 \\pi \\left(3 P{\\left(r \\right)} + ρ{\\left(r \\right)}\\right) A^{2}{\\left(r \\right)} & 0 & 0 & 0\\\\0 & \\frac{2 \\left(E{\\left(r \\right)} + 4 \\pi Π{\\left(r \\right)} + 8 \\pi ρ{\\left(r \\right)}\\right) B^{2}{\\left(r \\right)}}{3} & 0 & 0\\\\0 & 0 & \\frac{\\left(- E{\\left(r \\right)} - 4 \\pi Π{\\left(r \\right)} + 16 \\pi ρ{\\left(r \\right)}\\right) C^{2}{\\left(r \\right)}}{3} & 0\\\\0 & 0 & 0 & \\frac{\\left(- E{\\left(r \\right)} - 4 \\pi Π{\\left(r \\right)} + 16 \\pi ρ{\\left(r \\right)}\\right) C^{2}{\\left(r \\right)} \\sin^{2}{\\left(\\theta \\right)}}{3}\\end{matrix}\\right]$"
      ],
      "text/plain": [
       "⎡                     2                                                       \n",
       "⎢4⋅π⋅(3⋅P(r) + ρ(r))⋅A (r)                   0                                \n",
       "⎢                                                                             \n",
       "⎢                                                           2                 \n",
       "⎢                           2⋅(E(r) + 4⋅π⋅Π(r) + 8⋅π⋅ρ(r))⋅B (r)              \n",
       "⎢            0              ────────────────────────────────────              \n",
       "⎢                                            3                                \n",
       "⎢                                                                             \n",
       "⎢                                                                             \n",
       "⎢                                                                 (-E(r) - 4⋅π\n",
       "⎢            0                               0                    ────────────\n",
       "⎢                                                                             \n",
       "⎢                                                                             \n",
       "⎢                                                                             \n",
       "⎢                                                                             \n",
       "⎢            0                               0                                \n",
       "⎣                                                                             \n",
       "\n",
       "                                                                      ⎤\n",
       "     0                                         0                      ⎥\n",
       "                                                                      ⎥\n",
       "                                                                      ⎥\n",
       "                                                                      ⎥\n",
       "     0                                         0                      ⎥\n",
       "                                                                      ⎥\n",
       "                                                                      ⎥\n",
       "                    2                                                 ⎥\n",
       "⋅Π(r) + 16⋅π⋅ρ(r))⋅C (r)                                              ⎥\n",
       "────────────────────────                       0                      ⎥\n",
       "     3                                                                ⎥\n",
       "                                                                      ⎥\n",
       "                                                          2       2   ⎥\n",
       "                          (-E(r) - 4⋅π⋅Π(r) + 16⋅π⋅ρ(r))⋅C (r)⋅sin (θ)⎥\n",
       "     0                    ────────────────────────────────────────────⎥\n",
       "                                               3                      ⎦"
      ]
     },
     "metadata": {},
     "output_type": "display_data"
    }
   ],
   "source": [
    "Rdd= pt.ten('Rdd',2)\n",
    "Rdd.assign(Y0*Vd('_a')*Vd('_c') - Xdd('_a,_c') + X0*hdd(\"_a,_c\") +\\\n",
    "           Zdd('^d,^b')*eddd(\"_c,_d,_b\")*Vd('_a') + \\\n",
    "           Vd('_c')*Zdd('^d,^b')*eddd(\"_a,_d,_b\"), \"_a,_c\")\n",
    "Rdd.complete('_,_')    \n",
    "Rdd.simplify()\n",
    "Rdd.display('_,_')"
   ]
  },
  {
   "cell_type": "code",
   "execution_count": 39,
   "id": "3f0e6421",
   "metadata": {},
   "outputs": [
    {
     "data": {
      "text/latex": [
       "$\\displaystyle 8 \\pi \\left(- 3 P{\\left(r \\right)} + ρ{\\left(r \\right)}\\right)$"
      ],
      "text/plain": [
       "8⋅π⋅(-3⋅P(r) + ρ(r))"
      ]
     },
     "execution_count": 39,
     "metadata": {},
     "output_type": "execute_result"
    }
   ],
   "source": [
    "Rs=Rdddd('_a,_b,^a,_d')*g('^b,^d')\n",
    "Rs.simplify()"
   ]
  },
  {
   "cell_type": "code",
   "execution_count": 40,
   "id": "1ec3e132",
   "metadata": {},
   "outputs": [
    {
     "name": "stdout",
     "output_type": "stream",
     "text": [
      "Elements assigned correctly to the _a,_b components\n"
     ]
    },
    {
     "data": {
      "text/latex": [
       "$\\displaystyle \\left[\\begin{matrix}0 & 0 & 0 & 0\\\\0 & \\frac{2 B^{2}{\\left(r \\right)} Π{\\left(r \\right)}}{3} & 0 & 0\\\\0 & 0 & - \\frac{C^{2}{\\left(r \\right)} Π{\\left(r \\right)}}{3} & 0\\\\0 & 0 & 0 & - \\frac{C^{2}{\\left(r \\right)} Π{\\left(r \\right)} \\sin^{2}{\\left(\\theta \\right)}}{3}\\end{matrix}\\right]$"
      ],
      "text/plain": [
       "⎡0       0             0                 0          ⎤\n",
       "⎢                                                   ⎥\n",
       "⎢      2                                            ⎥\n",
       "⎢   2⋅B (r)⋅Π(r)                                    ⎥\n",
       "⎢0  ────────────       0                 0          ⎥\n",
       "⎢        3                                          ⎥\n",
       "⎢                                                   ⎥\n",
       "⎢                   2                               ⎥\n",
       "⎢                 -C (r)⋅Π(r)                       ⎥\n",
       "⎢0       0        ────────────           0          ⎥\n",
       "⎢                      3                            ⎥\n",
       "⎢                                                   ⎥\n",
       "⎢                                 2            2    ⎥\n",
       "⎢                               -C (r)⋅Π(r)⋅sin (θ) ⎥\n",
       "⎢0       0             0        ────────────────────⎥\n",
       "⎣                                        3          ⎦"
      ]
     },
     "metadata": {},
     "output_type": "display_data"
    }
   ],
   "source": [
    "PI2=pt.ten('PI2',2)\n",
    "PI2.assign(-1/(8*sy.pi)*(X1+Y1)*(Kd(\"_a\")*Kd(\"_b\")-hdd(\"_a,_b\")/3) ,\"_a,_b\")\n",
    "PI2.simplify()\n",
    "PI2.display('_,_')"
   ]
  },
  {
   "cell_type": "markdown",
   "id": "2e860b1c",
   "metadata": {},
   "source": [
    "## Projections of Riemann tensor"
   ]
  },
  {
   "cell_type": "markdown",
   "id": "9a40b4dc",
   "metadata": {},
   "source": [
    "$$\n",
    "f^{\\bullet} = V^{\\alpha} \\partial_{\\alpha}f ; \\quad f^{{\\rm t}} = K^{\\alpha} \\partial_{\\alpha}f  \\quad \\mathrm{and} \\quad f^{\\ast} = L^{\\alpha}\\partial_{\\alpha}f\n",
    "$$\n",
    "\n",
    "$$\n",
    "\\sigma^{\\bullet}_{1} -a_1^{{\\rm t}} -a_1^2+\\sigma_1^2 = -\\frac{1}{3}(Y_0+2Y_1) \\qquad (25)\n",
    "$$"
   ]
  },
  {
   "cell_type": "code",
   "execution_count": 41,
   "id": "9b64624d",
   "metadata": {},
   "outputs": [
    {
     "name": "stdout",
     "output_type": "stream",
     "text": [
      "Elements assigned correctly to the _a components\n"
     ]
    },
    {
     "data": {
      "text/latex": [
       "$\\displaystyle - \\frac{B{\\left(r \\right)} \\frac{d^{2}}{d r^{2}} A{\\left(r \\right)} - \\frac{d}{d r} A{\\left(r \\right)} \\frac{d}{d r} B{\\left(r \\right)}}{A{\\left(r \\right)} B^{3}{\\left(r \\right)}} + \\frac{2 \\left(E{\\left(r \\right)} + 6 \\pi P{\\left(r \\right)} - 4 \\pi Π{\\left(r \\right)} + 2 \\pi ρ{\\left(r \\right)}\\right)}{3}$"
      ],
      "text/plain": [
       "         2                                                                    \n",
       "        d          d        d                                                 \n",
       "  B(r)⋅───(A(r)) - ──(A(r))⋅──(B(r))                                          \n",
       "         2         dr       dr                                                \n",
       "       dr                              2⋅(E(r) + 6⋅π⋅P(r) - 4⋅π⋅Π(r) + 2⋅π⋅ρ(r\n",
       "- ────────────────────────────────── + ───────────────────────────────────────\n",
       "                    3                                      3                  \n",
       "              A(r)⋅B (r)                                                      \n",
       "\n",
       "  \n",
       "  \n",
       "  \n",
       "  \n",
       "))\n",
       "──\n",
       "  \n",
       "  "
      ]
     },
     "execution_count": 41,
     "metadata": {},
     "output_type": "execute_result"
    }
   ],
   "source": [
    "Dsigma1= pt.ten('Dsigma1',1)\n",
    "Dsigma1.assign(pt.D(σ1,\"_a\"), \"_a\")\n",
    "Dsigma1.simplify()\n",
    "Dsigma1P= Vu('^a')*Dsigma1('_a') \n",
    "#pt.display(Dsigma1P)\n",
    "Dsigma1dag= Ku('^a')*Dsigma1('_a') \n",
    "#Dsigma1dag\n",
    "eq25= pt.factor(Dsigma1P - Da1dag - a1**2 + σ1**2) + pt.factor(Y0+2*Y1)/3\n",
    "eq25"
   ]
  },
  {
   "cell_type": "markdown",
   "id": "3c0cb981",
   "metadata": {},
   "source": [
    "$$\n",
    "\\sigma^{\\bullet}_{2} +\\sigma_2^2-a_1J_1 = \\frac{1}{3}(Y_1-Y_0) \\qquad (26)\n",
    "$$"
   ]
  },
  {
   "cell_type": "code",
   "execution_count": 42,
   "id": "2208149d",
   "metadata": {},
   "outputs": [
    {
     "name": "stdout",
     "output_type": "stream",
     "text": [
      "Elements assigned correctly to the _a components\n"
     ]
    },
    {
     "data": {
      "text/latex": [
       "$\\displaystyle - \\frac{E{\\left(r \\right)} - 12 \\pi P{\\left(r \\right)} - 4 \\pi Π{\\left(r \\right)} - 4 \\pi ρ{\\left(r \\right)}}{3} - \\frac{\\frac{d}{d r} A{\\left(r \\right)} \\frac{d}{d r} C{\\left(r \\right)}}{A{\\left(r \\right)} B^{2}{\\left(r \\right)} C{\\left(r \\right)}}$"
      ],
      "text/plain": [
       "                                           d        d       \n",
       "                                           ──(A(r))⋅──(C(r))\n",
       "  E(r) - 12⋅π⋅P(r) - 4⋅π⋅Π(r) - 4⋅π⋅ρ(r)   dr       dr      \n",
       "- ────────────────────────────────────── - ─────────────────\n",
       "                    3                             2         \n",
       "                                            A(r)⋅B (r)⋅C(r) "
      ]
     },
     "execution_count": 42,
     "metadata": {},
     "output_type": "execute_result"
    }
   ],
   "source": [
    "Dsigma2= pt.ten('Dsigma2',1)\n",
    "Dsigma2.assign(pt.D(σ2,\"_a\"), \"_a\")\n",
    "Dsigma2.simplify()\n",
    "Dsigma2P= Vu('^a')*Dsigma2('_a') \n",
    "#pt.display(Dsigma2P)\n",
    "Dsigma2dag= Ku('^a')*Dsigma2('_a') \n",
    "#Dsigma2dag\n",
    "eq26= pt.factor(Dsigma2P +σ2**2 -a1*J1) - pt.factor((Y1-Y0)/3)\n",
    "eq26"
   ]
  },
  {
   "cell_type": "markdown",
   "id": "886778e6",
   "metadata": {},
   "source": [
    "$$\n",
    "\\sigma_2^{{\\rm t}}+J_1(\\sigma_2-\\sigma_1)=-Z \\qquad (27)\n",
    "$$"
   ]
  },
  {
   "cell_type": "code",
   "execution_count": 43,
   "id": "d2974829",
   "metadata": {},
   "outputs": [
    {
     "data": {
      "image/png": "[encoded data removed]",
      "text/latex": [
       "$\\displaystyle 0$"
      ],
      "text/plain": [
       "0"
      ]
     },
     "execution_count": 43,
     "metadata": {},
     "output_type": "execute_result"
    }
   ],
   "source": [
    "eq27= pt.simplify(Dsigma2dag + J1*(σ2-σ1)) + Z \n",
    "eq27"
   ]
  },
  {
   "cell_type": "markdown",
   "id": "0db63c57",
   "metadata": {},
   "source": [
    "$$\n",
    "J^{\\bullet}_{1} +J_1\\sigma_2-a_1\\sigma_2 = -Z \\qquad (28)\n",
    "$$"
   ]
  },
  {
   "cell_type": "code",
   "execution_count": 44,
   "id": "0a49fb5f",
   "metadata": {},
   "outputs": [
    {
     "name": "stdout",
     "output_type": "stream",
     "text": [
      "Elements assigned correctly to the _a components\n"
     ]
    },
    {
     "data": {
      "image/png": "[encoded data removed]",
      "text/latex": [
       "$\\displaystyle 0$"
      ],
      "text/plain": [
       "0"
      ]
     },
     "execution_count": 44,
     "metadata": {},
     "output_type": "execute_result"
    }
   ],
   "source": [
    "DJ1= pt.ten('DJ1',1)\n",
    "DJ1.assign(pt.D(J1,\"_a\"), \"_a\")\n",
    "DJ1.simplify()\n",
    "DJ1P= Vu('^a')*DJ1('_a') \n",
    "#pt.display(DJ1P)\n",
    "DJ1dag= Ku('^a')*DJ1('_a') \n",
    "#DJ1dag\n",
    "eq28= pt.factor(DJ1P + J1*σ2 - a1*σ2) + Z \n",
    "eq28"
   ]
  },
  {
   "cell_type": "markdown",
   "id": "cdb09fc8",
   "metadata": {},
   "source": [
    "$$\n",
    "J_1^{{\\rm t}}+J_1^2-\\sigma_1 \\sigma_2 = \\frac{1}{3}(X_1-X_0) \\qquad (29)\n",
    "$$"
   ]
  },
  {
   "cell_type": "code",
   "execution_count": 45,
   "id": "7403b8df",
   "metadata": {},
   "outputs": [
    {
     "data": {
      "text/latex": [
       "$\\displaystyle \\frac{B{\\left(r \\right)} \\frac{d^{2}}{d r^{2}} C{\\left(r \\right)} - \\frac{d}{d r} B{\\left(r \\right)} \\frac{d}{d r} C{\\left(r \\right)}}{B^{3}{\\left(r \\right)} C{\\left(r \\right)}} + \\frac{E{\\left(r \\right)} + 4 \\pi Π{\\left(r \\right)} + 8 \\pi ρ{\\left(r \\right)}}{3}$"
      ],
      "text/plain": [
       "       2                                                       \n",
       "      d          d        d                                    \n",
       "B(r)⋅───(C(r)) - ──(B(r))⋅──(C(r))                             \n",
       "       2         dr       dr                                   \n",
       "     dr                              E(r) + 4⋅π⋅Π(r) + 8⋅π⋅ρ(r)\n",
       "────────────────────────────────── + ──────────────────────────\n",
       "             3                                   3             \n",
       "            B (r)⋅C(r)                                         "
      ]
     },
     "execution_count": 45,
     "metadata": {},
     "output_type": "execute_result"
    }
   ],
   "source": [
    "eq29= pt.factor(DJ1dag + J1**2 - σ2*σ1) - pt.factor((X1-X0)/3)\n",
    "eq29"
   ]
  },
  {
   "cell_type": "markdown",
   "id": "f649a35b",
   "metadata": {},
   "source": [
    "$$\n",
    "J^{\\bullet}_{2} +J_2\\sigma_2 = 0  \\qquad (30)\n",
    "$$"
   ]
  },
  {
   "cell_type": "code",
   "execution_count": 46,
   "id": "a31edf2c",
   "metadata": {},
   "outputs": [
    {
     "name": "stdout",
     "output_type": "stream",
     "text": [
      "Elements assigned correctly to the _a components\n"
     ]
    },
    {
     "data": {
      "image/png": "[encoded data removed]",
      "text/latex": [
       "$\\displaystyle 0$"
      ],
      "text/plain": [
       "0"
      ]
     },
     "execution_count": 46,
     "metadata": {},
     "output_type": "execute_result"
    }
   ],
   "source": [
    "DJ2= pt.ten('DJ2',1)\n",
    "DJ2.assign(pt.D(J2,\"_a\"), \"_a\")\n",
    "DJ2.simplify()\n",
    "DJ2P= Vu('^a')*DJ2('_a') \n",
    "#pt.display(DJ2P)\n",
    "DJ2dag= Ku('^a')*DJ2('_a') \n",
    "#DJ2dag\n",
    "eq30= pt.simplify(DJ2P + J2*σ2) \n",
    "eq30"
   ]
  },
  {
   "cell_type": "markdown",
   "id": "feafe2b3",
   "metadata": {},
   "source": [
    "$$\n",
    "J_2^{{\\rm t}} +J_1J_2 = 0   \\qquad (31)\n",
    "$$"
   ]
  },
  {
   "cell_type": "code",
   "execution_count": 47,
   "id": "e08436a2",
   "metadata": {},
   "outputs": [
    {
     "data": {
      "image/png": "[encoded data removed]",
      "text/latex": [
       "$\\displaystyle 0$"
      ],
      "text/plain": [
       "0"
      ]
     },
     "execution_count": 47,
     "metadata": {},
     "output_type": "execute_result"
    }
   ],
   "source": [
    "eq31= pt.simplify(DJ2dag + J1*J2) \n",
    "eq31"
   ]
  },
  {
   "cell_type": "markdown",
   "id": "b00a8b96",
   "metadata": {},
   "source": [
    "$$\n",
    "J_1^2-\\frac{1}{C^2}-\\sigma_2^2 = -\\frac{1}{3}(X_0+2X_1) \\qquad (32)\n",
    "$$"
   ]
  },
  {
   "cell_type": "code",
   "execution_count": 48,
   "id": "bfdbc116",
   "metadata": {},
   "outputs": [
    {
     "data": {
      "text/latex": [
       "$\\displaystyle \\frac{- B^{2}{\\left(r \\right)} + \\left(\\frac{d}{d r} C{\\left(r \\right)}\\right)^{2}}{B^{2}{\\left(r \\right)} C^{2}{\\left(r \\right)}} - \\frac{2 \\left(E{\\left(r \\right)} + 4 \\pi Π{\\left(r \\right)} - 4 \\pi ρ{\\left(r \\right)}\\right)}{3}$"
      ],
      "text/plain": [
       "                    2                                 \n",
       "   2      ⎛d       ⎞                                  \n",
       "- B (r) + ⎜──(C(r))⎟                                  \n",
       "          ⎝dr      ⎠    2⋅(E(r) + 4⋅π⋅Π(r) - 4⋅π⋅ρ(r))\n",
       "───────────────────── - ──────────────────────────────\n",
       "      2     2                         3               \n",
       "     B (r)⋅C (r)                                      "
      ]
     },
     "execution_count": 48,
     "metadata": {},
     "output_type": "execute_result"
    }
   ],
   "source": [
    "eq32= pt.simplify(J1**2 - 1/C**2 - σ2**2) + pt.factor((X0+2*X1)/3)\n",
    "eq32"
   ]
  },
  {
   "cell_type": "markdown",
   "id": "31857dcb",
   "metadata": {},
   "source": [
    "## Equations from Bianchi identities:\n",
    "$$\n",
    "\\begin{array}{r}\n",
    "a_1\\left[-X_0+X_1-Y_0+Y_1\\right]+3 J_1 Y_1+3 Z^{\\bullet}+6 Z \\sigma_1+3 Z \\sigma_2-Y_0^{\\dagger}+Y_1^{\\dagger}=0 \\,\\, \\text { (33) } \\\\\n",
    "X_0^{\\bullet}-X_1^{\\bullet}-6 a_1 Z-3 J_1 Z+\\left[Y_0-Y_1-X_1\\right] \\sigma_1+\\left[Y_0+2 Y_1-X_1\\right] \\sigma_2+X_0\\left[\\sigma_1+\\sigma_2\\right]-3 Z^{\\dagger}=0 \\,\\, \\text { (34) } \\\\\n",
    "X_0^{\\bullet}+2 X_1^{\\bullet}+2 X_0 \\sigma_2-6 J_1 Z+\\left[4 X_1+2 Y_0-2 Y_1\\right] \\sigma_2=0 \\,\\, \\text { (35) } \\\\\n",
    "X_0^{\\dagger}+2 X_1^{\\dagger}+6 J_1 X_1+6 Z \\sigma_2=0 \\,\\, \\text { (36) }\n",
    "\\end{array}\n",
    "$$"
   ]
  },
  {
   "cell_type": "code",
   "execution_count": 49,
   "id": "6e0f6f33",
   "metadata": {},
   "outputs": [
    {
     "name": "stdout",
     "output_type": "stream",
     "text": [
      "Elements assigned correctly to the _a components\n"
     ]
    }
   ],
   "source": [
    "DZ= pt.ten('DZ',1)\n",
    "DZ.assign(pt.D(Z,\"_a\"), \"_a\")\n",
    "DZ.simplify()\n",
    "DZP= Vu('^a')*DZ('_a') \n",
    "#pt.display(DZP)\n",
    "DZdag= Ku('^a')*DZ('_a') \n",
    "#DZdag"
   ]
  },
  {
   "cell_type": "code",
   "execution_count": 50,
   "id": "be3174fe",
   "metadata": {},
   "outputs": [
    {
     "name": "stdout",
     "output_type": "stream",
     "text": [
      "Elements assigned correctly to the _a components\n"
     ]
    }
   ],
   "source": [
    "DY0= pt.ten('DY0',1)\n",
    "DY0.assign(pt.D(Y0,\"_a\"), \"_a\")\n",
    "DY0.simplify()\n",
    "DY0P= Vu('^a')*DY0('_a') \n",
    "#pt.display(DY0P)\n",
    "DY0dag= Ku('^a')*DY0('_a') \n",
    "#DY0dag"
   ]
  },
  {
   "cell_type": "code",
   "execution_count": 51,
   "id": "7c0a54b4",
   "metadata": {},
   "outputs": [
    {
     "name": "stdout",
     "output_type": "stream",
     "text": [
      "Elements assigned correctly to the _a components\n"
     ]
    }
   ],
   "source": [
    "DY1= pt.ten('DY1',1)\n",
    "DY1.assign(pt.D(Y1,\"_a\"), \"_a\")\n",
    "DY1.simplify()\n",
    "DY1P= Vu('^a')*DY1('_a') \n",
    "#pt.display(DY1P)\n",
    "DY1dag= Ku('^a')*DY1('_a') \n",
    "#DY1dag"
   ]
  },
  {
   "cell_type": "code",
   "execution_count": 52,
   "id": "893c40e1",
   "metadata": {},
   "outputs": [
    {
     "name": "stdout",
     "output_type": "stream",
     "text": [
      "Elements assigned correctly to the _a components\n"
     ]
    }
   ],
   "source": [
    "DX0= pt.ten('DX0',1)\n",
    "DX0.assign(pt.D(X0,\"_a\"), \"_a\")\n",
    "DX0.simplify()\n",
    "DX0P= Vu('^a')*DX0('_a') \n",
    "#pt.display(DX0P)\n",
    "DX0dag= Ku('^a')*DX0('_a') \n",
    "#DX0dag"
   ]
  },
  {
   "cell_type": "code",
   "execution_count": 53,
   "id": "c3f21a18",
   "metadata": {},
   "outputs": [
    {
     "name": "stdout",
     "output_type": "stream",
     "text": [
      "Elements assigned correctly to the _a components\n"
     ]
    }
   ],
   "source": [
    "DX1= pt.ten('DX1',1)\n",
    "DX1.assign(pt.D(X1,\"_a\"), \"_a\")\n",
    "DX1.simplify()\n",
    "DX1P= Vu('^a')*DX1('_a') \n",
    "#pt.display(DX1P)\n",
    "DX1dag= Ku('^a')*DX1('_a') \n",
    "#DX1dag"
   ]
  },
  {
   "attachments": {},
   "cell_type": "markdown",
   "id": "be268b55",
   "metadata": {},
   "source": [
    "$$\n",
    "a_1[-X_0+X_1-Y_0+Y_1]+3J_1Y_1+3Z^{\\bullet} +6Z \\sigma_1 + 3Z\\sigma_2-Y_0^\\dag+Y_1^\\dag = 0  \\qquad  (33)\n",
    "$$"
   ]
  },
  {
   "cell_type": "code",
   "execution_count": 54,
   "id": "5776313b",
   "metadata": {},
   "outputs": [
    {
     "data": {
      "text/latex": [
       "$\\displaystyle \\frac{A{\\left(r \\right)} C{\\left(r \\right)} \\frac{d}{d r} E{\\left(r \\right)} - 12 \\pi A{\\left(r \\right)} C{\\left(r \\right)} \\frac{d}{d r} P{\\left(r \\right)} - 4 \\pi A{\\left(r \\right)} C{\\left(r \\right)} \\frac{d}{d r} Π{\\left(r \\right)} - 4 \\pi A{\\left(r \\right)} C{\\left(r \\right)} \\frac{d}{d r} ρ{\\left(r \\right)} + 3 A{\\left(r \\right)} E{\\left(r \\right)} \\frac{d}{d r} C{\\left(r \\right)} - 12 \\pi A{\\left(r \\right)} Π{\\left(r \\right)} \\frac{d}{d r} C{\\left(r \\right)} - 12 \\pi C{\\left(r \\right)} P{\\left(r \\right)} \\frac{d}{d r} A{\\left(r \\right)} - 8 \\pi C{\\left(r \\right)} Π{\\left(r \\right)} \\frac{d}{d r} A{\\left(r \\right)} - 12 \\pi C{\\left(r \\right)} ρ{\\left(r \\right)} \\frac{d}{d r} A{\\left(r \\right)}}{A{\\left(r \\right)} B{\\left(r \\right)} C{\\left(r \\right)}}$"
      ],
      "text/plain": [
       "          d                         d                        d                \n",
       "A(r)⋅C(r)⋅──(E(r)) - 12⋅π⋅A(r)⋅C(r)⋅──(P(r)) - 4⋅π⋅A(r)⋅C(r)⋅──(Π(r)) - 4⋅π⋅A(\n",
       "          dr                        dr                       dr               \n",
       "──────────────────────────────────────────────────────────────────────────────\n",
       "                                                                              \n",
       "\n",
       "        d                      d                         d                    \n",
       "r)⋅C(r)⋅──(ρ(r)) + 3⋅A(r)⋅E(r)⋅──(C(r)) - 12⋅π⋅A(r)⋅Π(r)⋅──(C(r)) - 12⋅π⋅C(r)⋅\n",
       "        dr                     dr                        dr                   \n",
       "──────────────────────────────────────────────────────────────────────────────\n",
       "                         A(r)⋅B(r)⋅C(r)                                       \n",
       "\n",
       "     d                        d                         d       \n",
       "P(r)⋅──(A(r)) - 8⋅π⋅C(r)⋅Π(r)⋅──(A(r)) - 12⋅π⋅C(r)⋅ρ(r)⋅──(A(r))\n",
       "     dr                       dr                        dr      \n",
       "────────────────────────────────────────────────────────────────\n",
       "                                                                "
      ]
     },
     "execution_count": 54,
     "metadata": {},
     "output_type": "execute_result"
    }
   ],
   "source": [
    "eq33=sy.factor(a1*(-X0+X1-Y0+Y1) + 3*J1*Y1 + 3*DZP + 6*Z*σ1 + 3*Z*σ2 - DY0dag + DY1dag )\n",
    "eq33"
   ]
  },
  {
   "attachments": {},
   "cell_type": "markdown",
   "id": "fcece163",
   "metadata": {},
   "source": [
    "$$\n",
    "X^{\\bullet}_0 -X^{\\bullet}_1 -6a_1Z -3J_1Z  +\\left[Y_0 -Y_1 -X_1\\right] \\sigma_1  +\\left[Y_0 +2Y_1 -X_1\\right] \\sigma_2   +X_0[\\sigma_1+\\sigma_2]-3Z^\\dag = 0 \\qquad (34)\n",
    "$$"
   ]
  },
  {
   "cell_type": "code",
   "execution_count": 55,
   "id": "72582453",
   "metadata": {},
   "outputs": [
    {
     "data": {
      "image/png": "[encoded data removed]",
      "text/latex": [
       "$\\displaystyle 0$"
      ],
      "text/plain": [
       "0"
      ]
     },
     "execution_count": 55,
     "metadata": {},
     "output_type": "execute_result"
    }
   ],
   "source": [
    "eq34=sy.simplify(DX0P-DX1P -6*a1*Z - 3*J1*Z + (Y0-Y1-X1)*σ1 + (Y0+2*Y1-X1)*σ2 +X0*(σ1+σ2)-3*DZdag )\n",
    "eq34"
   ]
  },
  {
   "attachments": {},
   "cell_type": "markdown",
   "id": "2671ea72",
   "metadata": {},
   "source": [
    "$$\n",
    "X^{\\bullet}_0 +2 X^{\\bullet}_1 +2X_0\\sigma_2 -6J_1Z +[4X_1 + 2Y_0 - 2Y_1] \\sigma_2 =0 \\qquad (35)\n",
    "$$"
   ]
  },
  {
   "cell_type": "code",
   "execution_count": 56,
   "id": "c515ddcc",
   "metadata": {},
   "outputs": [
    {
     "data": {
      "image/png": "[encoded data removed]",
      "text/latex": [
       "$\\displaystyle 0$"
      ],
      "text/plain": [
       "0"
      ]
     },
     "execution_count": 56,
     "metadata": {},
     "output_type": "execute_result"
    }
   ],
   "source": [
    "eq35=sy.simplify(DX0P+2*DX1P + 2*X0*σ2 - 6*J1*Z + (4*X1+2*Y0-2*Y1)*σ2)\n",
    "eq35"
   ]
  },
  {
   "attachments": {},
   "cell_type": "markdown",
   "id": "ce54b1b1",
   "metadata": {},
   "source": [
    "$$\n",
    "X_0^\\dag+2X_1^\\dag+6J_1X_1+6Z\\sigma_2= 0 \\qquad (36)\n",
    "$$"
   ]
  },
  {
   "cell_type": "code",
   "execution_count": 57,
   "id": "9f38047c",
   "metadata": {},
   "outputs": [
    {
     "data": {
      "text/latex": [
       "$\\displaystyle - \\frac{2 \\left(C{\\left(r \\right)} \\frac{d}{d r} E{\\left(r \\right)} + 4 \\pi C{\\left(r \\right)} \\frac{d}{d r} Π{\\left(r \\right)} - 4 \\pi C{\\left(r \\right)} \\frac{d}{d r} ρ{\\left(r \\right)} + 3 E{\\left(r \\right)} \\frac{d}{d r} C{\\left(r \\right)} + 12 \\pi Π{\\left(r \\right)} \\frac{d}{d r} C{\\left(r \\right)}\\right)}{B{\\left(r \\right)} C{\\left(r \\right)}}$"
      ],
      "text/plain": [
       "   ⎛     d                   d                   d                 d          \n",
       "-2⋅⎜C(r)⋅──(E(r)) + 4⋅π⋅C(r)⋅──(Π(r)) - 4⋅π⋅C(r)⋅──(ρ(r)) + 3⋅E(r)⋅──(C(r)) + \n",
       "   ⎝     dr                  dr                  dr                dr         \n",
       "──────────────────────────────────────────────────────────────────────────────\n",
       "                                            B(r)⋅C(r)                         \n",
       "\n",
       "          d       ⎞ \n",
       "12⋅π⋅Π(r)⋅──(C(r))⎟ \n",
       "          dr      ⎠ \n",
       "────────────────────\n",
       "                    "
      ]
     },
     "execution_count": 57,
     "metadata": {},
     "output_type": "execute_result"
    }
   ],
   "source": [
    "eq36=sy.factor(DX0dag + 2*DX1dag + 6*J1*X1 + 6*Z*σ2  )\n",
    "eq36"
   ]
  },
  {
   "cell_type": "markdown",
   "id": "21a3ea66",
   "metadata": {},
   "source": [
    "## Non-Pascalian static fluids"
   ]
  },
  {
   "attachments": {},
   "cell_type": "markdown",
   "id": "b651d18c",
   "metadata": {},
   "source": [
    "$$\n",
    "4\\pi(\\rho+3P) = a^{\\alpha}_{;\\alpha} \\qquad (37)\n",
    "$$"
   ]
  },
  {
   "cell_type": "code",
   "execution_count": 58,
   "id": "dfe20e37",
   "metadata": {},
   "outputs": [
    {
     "data": {
      "text/latex": [
       "$\\displaystyle - 4 \\pi \\left(3 P{\\left(r \\right)} + ρ{\\left(r \\right)}\\right) + \\frac{A{\\left(r \\right)} B{\\left(r \\right)} \\frac{d^{2}}{d r^{2}} A{\\left(r \\right)} - A{\\left(r \\right)} \\frac{d}{d r} A{\\left(r \\right)} \\frac{d}{d r} B{\\left(r \\right)} - B{\\left(r \\right)} \\left(\\frac{d}{d r} A{\\left(r \\right)}\\right)^{2}}{A^{2}{\\left(r \\right)} B^{3}{\\left(r \\right)}} + \\frac{2 \\frac{d}{d r} A{\\left(r \\right)} \\frac{d}{d r} C{\\left(r \\right)}}{A{\\left(r \\right)} B^{2}{\\left(r \\right)} C{\\left(r \\right)}} + \\frac{\\left(\\frac{d}{d r} A{\\left(r \\right)}\\right)^{2}}{A^{2}{\\left(r \\right)} B^{2}{\\left(r \\right)}}$"
      ],
      "text/plain": [
       "                                   2                                          \n",
       "                                  d               d        d               ⎛d \n",
       "                       A(r)⋅B(r)⋅───(A(r)) - A(r)⋅──(A(r))⋅──(B(r)) - B(r)⋅⎜──\n",
       "                                   2              dr       dr              ⎝dr\n",
       "                                 dr                                           \n",
       "-4⋅π⋅(3⋅P(r) + ρ(r)) + ───────────────────────────────────────────────────────\n",
       "                                                  2     3                     \n",
       "                                                 A (r)⋅B (r)                  \n",
       "\n",
       "       2                                    \n",
       "      ⎞                                    2\n",
       "(A(r))⎟      d        d          ⎛d       ⎞ \n",
       "      ⎠    2⋅──(A(r))⋅──(C(r))   ⎜──(A(r))⎟ \n",
       "             dr       dr         ⎝dr      ⎠ \n",
       "──────── + ─────────────────── + ───────────\n",
       "                   2              2     2   \n",
       "             A(r)⋅B (r)⋅C(r)     A (r)⋅B (r)"
      ]
     },
     "execution_count": 58,
     "metadata": {},
     "output_type": "execute_result"
    }
   ],
   "source": [
    "eq37 = Dcad('^a,_a') - 4*sy.pi*(T(\"_a,_b\")*Vu('^a')*Vu('^b')+ 3*(hdd(\"^a,^b\")*T(\"_a,_b\")/3) )\n",
    "eq37"
   ]
  },
  {
   "attachments": {},
   "cell_type": "markdown",
   "id": "0521e486",
   "metadata": {},
   "source": [
    "$$\n",
    "E_{\\alpha\\beta} = \\mathcal{E}\\left[K_\\alpha K_\\beta-\\frac{1}{3} h_{\\alpha\\beta}\\right] \\qquad (22)\n",
    "$$"
   ]
  },
  {
   "cell_type": "code",
   "execution_count": 59,
   "id": "820f3d4a",
   "metadata": {},
   "outputs": [
    {
     "name": "stdout",
     "output_type": "stream",
     "text": [
      "Elements assigned correctly to the _a,_b components\n"
     ]
    },
    {
     "data": {
      "image/png": "[encoded data removed]",
      "text/latex": [
       "$\\displaystyle \\left[\\begin{matrix}0 & 0 & 0 & 0\\\\0 & \\frac{2 B^{2}{\\left(r \\right)} E{\\left(r \\right)}}{3} & 0 & 0\\\\0 & 0 & - \\frac{C^{2}{\\left(r \\right)} E{\\left(r \\right)}}{3} & 0\\\\0 & 0 & 0 & - \\frac{C^{2}{\\left(r \\right)} E{\\left(r \\right)} \\sin^{2}{\\left(\\theta \\right)}}{3}\\end{matrix}\\right]$"
      ],
      "text/plain": [
       "⎡0       0             0                 0          ⎤\n",
       "⎢                                                   ⎥\n",
       "⎢      2                                            ⎥\n",
       "⎢   2⋅B (r)⋅E(r)                                    ⎥\n",
       "⎢0  ────────────       0                 0          ⎥\n",
       "⎢        3                                          ⎥\n",
       "⎢                                                   ⎥\n",
       "⎢                   2                               ⎥\n",
       "⎢                 -C (r)⋅E(r)                       ⎥\n",
       "⎢0       0        ────────────           0          ⎥\n",
       "⎢                      3                            ⎥\n",
       "⎢                                                   ⎥\n",
       "⎢                                 2            2    ⎥\n",
       "⎢                               -C (r)⋅E(r)⋅sin (θ) ⎥\n",
       "⎢0       0             0        ────────────────────⎥\n",
       "⎣                                        3          ⎦"
      ]
     },
     "metadata": {},
     "output_type": "display_data"
    }
   ],
   "source": [
    "Edd=pt.ten('Edd',2)\n",
    "Edd.assign( E*(Kd('_a')*Kd('_b')-hdd('_a,_b')/3)  ,'_a,_b')\n",
    "Edd.simplify()\n",
    "Edd.display('_,_')"
   ]
  },
  {
   "attachments": {},
   "cell_type": "markdown",
   "id": "68132961",
   "metadata": {},
   "source": [
    "$$\n",
    "  E_{\\alpha \\beta}-4\\pi \\Pi_{\\alpha\\beta} = a_\\alpha a_\\beta+h^\\mu _{(\\alpha}h^\\nu_{\\beta)}a_{\\nu;\\mu}-\\frac{1}{3}a^\\delta_{;\\delta}h_{\\alpha\\beta} \\qquad (38)\n",
    "$$"
   ]
  },
  {
   "cell_type": "code",
   "execution_count": 60,
   "id": "70b379b5",
   "metadata": {},
   "outputs": [
    {
     "name": "stdout",
     "output_type": "stream",
     "text": [
      "Elements assigned correctly to the _a,_b components\n"
     ]
    },
    {
     "data": {
      "application/vnd.jupyter.widget-view+json": {
       "model_id": "ffdaf686731d4fbc9ced16cd223e8d5c",
       "version_major": 2,
       "version_minor": 0
      },
      "text/plain": [
       "E38dd Tensor $E38dd{^\\alpha}{_\\beta}$:   0%|          | 0/16 [00:00<?, ?it/s]"
      ]
     },
     "metadata": {},
     "output_type": "display_data"
    },
    {
     "data": {
      "application/vnd.jupyter.widget-view+json": {
       "model_id": "0a5f8c08753e4c588103c88931577a0f",
       "version_major": 2,
       "version_minor": 0
      },
      "text/plain": [
       "E38dd Tensor $E38dd{^\\alpha}{^\\beta}$:   0%|          | 0/16 [00:00<?, ?it/s]"
      ]
     },
     "metadata": {},
     "output_type": "display_data"
    },
    {
     "data": {
      "application/vnd.jupyter.widget-view+json": {
       "model_id": "dcfd638cfc714d568a694e5210e6e20a",
       "version_major": 2,
       "version_minor": 0
      },
      "text/plain": [
       "E38dd Tensor $E38dd{_\\alpha}{^\\beta}$:   0%|          | 0/16 [00:00<?, ?it/s]"
      ]
     },
     "metadata": {},
     "output_type": "display_data"
    },
    {
     "data": {
      "text/latex": [
       "All other indices of E38dd Tensor $E38dd$  already calculated."
      ],
      "text/plain": [
       "<IPython.core.display.Latex object>"
      ]
     },
     "metadata": {},
     "output_type": "display_data"
    },
    {
     "data": {
      "text/latex": [
       "$\\displaystyle \\left[\\begin{matrix}0 & 0 & 0 & 0\\\\0 & \\frac{\\frac{\\left(2 E{\\left(r \\right)} - 8 \\pi Π{\\left(r \\right)}\\right) A^{2}{\\left(r \\right)} B^{3}{\\left(r \\right)}}{3} + \\frac{\\left(\\left(\\sin^{2}{\\left(\\theta \\right)} + 1\\right) A{\\left(r \\right)} C{\\left(r \\right)} \\frac{d}{d r} A{\\left(r \\right)} \\frac{d}{d r} C{\\left(r \\right)} - A^{2}{\\left(r \\right)} \\left(\\frac{d}{d r} A{\\left(r \\right)}\\right)^{2} + A{\\left(r \\right)} B^{2}{\\left(r \\right)} \\frac{d^{2}}{d r^{2}} A{\\left(r \\right)} - A{\\left(r \\right)} B{\\left(r \\right)} \\frac{d}{d r} A{\\left(r \\right)} \\frac{d}{d r} B{\\left(r \\right)} - B^{2}{\\left(r \\right)} \\left(\\frac{d}{d r} A{\\left(r \\right)}\\right)^{2}\\right) B{\\left(r \\right)}}{3} - A{\\left(r \\right)} B{\\left(r \\right)} \\frac{d^{2}}{d r^{2}} A{\\left(r \\right)} + A{\\left(r \\right)} \\frac{d}{d r} A{\\left(r \\right)} \\frac{d}{d r} B{\\left(r \\right)}}{A^{2}{\\left(r \\right)} B{\\left(r \\right)}} & 0 & 0\\\\0 & 0 & \\frac{\\left(\\left(- E{\\left(r \\right)} + 4 \\pi Π{\\left(r \\right)}\\right) A^{2}{\\left(r \\right)} B^{2}{\\left(r \\right)} C{\\left(r \\right)} - \\left(\\left(\\cos^{2}{\\left(\\theta \\right)} - 2\\right) A{\\left(r \\right)} C{\\left(r \\right)} \\frac{d}{d r} A{\\left(r \\right)} \\frac{d}{d r} C{\\left(r \\right)} + A^{2}{\\left(r \\right)} \\left(\\frac{d}{d r} A{\\left(r \\right)}\\right)^{2} - A{\\left(r \\right)} B^{2}{\\left(r \\right)} \\frac{d^{2}}{d r^{2}} A{\\left(r \\right)} + A{\\left(r \\right)} B{\\left(r \\right)} \\frac{d}{d r} A{\\left(r \\right)} \\frac{d}{d r} B{\\left(r \\right)} + B^{2}{\\left(r \\right)} \\left(\\frac{d}{d r} A{\\left(r \\right)}\\right)^{2}\\right) C{\\left(r \\right)} - 3 A{\\left(r \\right)} \\frac{d}{d r} A{\\left(r \\right)} \\frac{d}{d r} C{\\left(r \\right)}\\right) C{\\left(r \\right)}}{3 A^{2}{\\left(r \\right)} B^{2}{\\left(r \\right)}} & 0\\\\0 & 0 & 0 & \\frac{\\left(\\left(- E{\\left(r \\right)} + 4 \\pi Π{\\left(r \\right)}\\right) A^{2}{\\left(r \\right)} B^{2}{\\left(r \\right)} C{\\left(r \\right)} - \\left(\\left(\\cos^{2}{\\left(\\theta \\right)} - 2\\right) A{\\left(r \\right)} C{\\left(r \\right)} \\frac{d}{d r} A{\\left(r \\right)} \\frac{d}{d r} C{\\left(r \\right)} + A^{2}{\\left(r \\right)} \\left(\\frac{d}{d r} A{\\left(r \\right)}\\right)^{2} - A{\\left(r \\right)} B^{2}{\\left(r \\right)} \\frac{d^{2}}{d r^{2}} A{\\left(r \\right)} + A{\\left(r \\right)} B{\\left(r \\right)} \\frac{d}{d r} A{\\left(r \\right)} \\frac{d}{d r} B{\\left(r \\right)} + B^{2}{\\left(r \\right)} \\left(\\frac{d}{d r} A{\\left(r \\right)}\\right)^{2}\\right) C{\\left(r \\right)} - 3 A{\\left(r \\right)} \\frac{d}{d r} A{\\left(r \\right)} \\frac{d}{d r} C{\\left(r \\right)}\\right) C{\\left(r \\right)} \\sin^{2}{\\left(\\theta \\right)}}{3 A^{2}{\\left(r \\right)} B^{2}{\\left(r \\right)}}\\end{matrix}\\right]$"
      ],
      "text/plain": [
       "⎡0                                                                            \n",
       "⎢                                                                             \n",
       "⎢                                     ⎛                                       \n",
       "⎢                                     ⎜⎛   2       ⎞           d        d     \n",
       "⎢                                     ⎜⎝sin (θ) + 1⎠⋅A(r)⋅C(r)⋅──(A(r))⋅──(C(r\n",
       "⎢                        2     3      ⎜                        dr       dr    \n",
       "⎢   (2⋅E(r) - 8⋅π⋅Π(r))⋅A (r)⋅B (r)   ⎝                                       \n",
       "⎢   ─────────────────────────────── + ────────────────────────────────────────\n",
       "⎢                  3                                                          \n",
       "⎢                                                                             \n",
       "⎢0  ──────────────────────────────────────────────────────────────────────────\n",
       "⎢                                                                             \n",
       "⎢                                                                             \n",
       "⎢                                                                             \n",
       "⎢                                                                             \n",
       "⎢                                                                             \n",
       "⎢                                                                             \n",
       "⎢                                                                             \n",
       "⎢                                                                             \n",
       "⎢0                                                                            \n",
       "⎢                                                                             \n",
       "⎢                                                                             \n",
       "⎢                                                                             \n",
       "⎢                                                                             \n",
       "⎢                                                                             \n",
       "⎢                                                                             \n",
       "⎢                                                                             \n",
       "⎢                                                                             \n",
       "⎢0                                                                            \n",
       "⎢                                                                             \n",
       "⎣                                                                             \n",
       "\n",
       "                                    0                                         \n",
       "                                                                              \n",
       "                     2                2                                       \n",
       "      2    ⎛d       ⎞          2     d                    d        d          \n",
       ")) - A (r)⋅⎜──(A(r))⎟  + A(r)⋅B (r)⋅───(A(r)) - A(r)⋅B(r)⋅──(A(r))⋅──(B(r)) - \n",
       "           ⎝dr      ⎠                 2                   dr       dr         \n",
       "                                    dr                                        \n",
       "──────────────────────────────────────────────────────────────────────────────\n",
       "                              3                                               \n",
       "                                                                              \n",
       "──────────────────────────────────────────────────────────────────────────────\n",
       "                                 2                                            \n",
       "                                A (r)⋅B(r)                                    \n",
       "                                                                              \n",
       "                                                                              \n",
       "                                                                              \n",
       "                                                                              \n",
       "                                                                              \n",
       "                                                                              \n",
       "                                    0                                         \n",
       "                                                                              \n",
       "                                                                              \n",
       "                                                                              \n",
       "                                                                              \n",
       "                                                                              \n",
       "                                                                              \n",
       "                                                                              \n",
       "                                                                              \n",
       "                                    0                                         \n",
       "                                                                              \n",
       "                                                                              \n",
       "\n",
       "                                                                              \n",
       "                                                                              \n",
       "                2⎞                                                            \n",
       " 2    ⎛d       ⎞ ⎟                                                            \n",
       "B (r)⋅⎜──(A(r))⎟ ⎟⋅B(r)                                                       \n",
       "      ⎝dr      ⎠ ⎟                    2                                       \n",
       "                 ⎠                   d               d        d               \n",
       "─────────────────────── - A(r)⋅B(r)⋅───(A(r)) + A(r)⋅──(A(r))⋅──(B(r))        \n",
       "                                      2              dr       dr              \n",
       "                                    dr                                        \n",
       "──────────────────────────────────────────────────────────────────────        \n",
       "                                                                              \n",
       "                                                                              \n",
       "                                                                              \n",
       "                                                                        ⎛     \n",
       "                                                                        ⎜     \n",
       "                                                                        ⎜(-E(r\n",
       "                                                                        ⎜     \n",
       "                                                                        ⎝     \n",
       "                                                                        ──────\n",
       "                                                                              \n",
       "                                                                              \n",
       "                                                                              \n",
       "                                                                              \n",
       "                                                                              \n",
       "                                                                              \n",
       "                                                                              \n",
       "                                                                              \n",
       "                                                                              \n",
       "                                                                              \n",
       "                                                                              \n",
       "\n",
       "                                                                              \n",
       "                                                                              \n",
       "                                                                              \n",
       "                                                                              \n",
       "                                                                              \n",
       "                                                                              \n",
       "                                                                              \n",
       "                                                                              \n",
       "                                                                              \n",
       "                                                                              \n",
       "                                                                              \n",
       "                                                                              \n",
       "                                                                              \n",
       "                                                                              \n",
       "                                 ⎛                                            \n",
       "               2     2           ⎜⎛   2       ⎞           d        d          \n",
       ") + 4⋅π⋅Π(r))⋅A (r)⋅B (r)⋅C(r) - ⎜⎝cos (θ) - 2⎠⋅A(r)⋅C(r)⋅──(A(r))⋅──(C(r)) + \n",
       "                                 ⎜                        dr       dr         \n",
       "                                 ⎝                                            \n",
       "──────────────────────────────────────────────────────────────────────────────\n",
       "                                                                              \n",
       "                                                                              \n",
       "                                                                              \n",
       "                                                                              \n",
       "                                                                              \n",
       "                                                                              \n",
       "                                                                              \n",
       "                                                                              \n",
       "                                                                              \n",
       "                                                                              \n",
       "                                                                              \n",
       "\n",
       "                      0                                                       \n",
       "                                                                              \n",
       "                                                                              \n",
       "                                                                              \n",
       "                                                                              \n",
       "                                                                              \n",
       "                                                                              \n",
       "                                                                              \n",
       "                                                                              \n",
       "                                                                              \n",
       "                      0                                                       \n",
       "                                                                              \n",
       "                                                                              \n",
       "                                                                              \n",
       "                2                2                                            \n",
       " 2    ⎛d       ⎞          2     d                    d        d           2   \n",
       "A (r)⋅⎜──(A(r))⎟  - A(r)⋅B (r)⋅───(A(r)) + A(r)⋅B(r)⋅──(A(r))⋅──(B(r)) + B (r)\n",
       "      ⎝dr      ⎠                 2                   dr       dr              \n",
       "                               dr                                             \n",
       "──────────────────────────────────────────────────────────────────────────────\n",
       "                   2     2                                                    \n",
       "                3⋅A (r)⋅B (r)                                                 \n",
       "                                                                              \n",
       "                                                                              \n",
       "                                                                              \n",
       "                                                                              \n",
       "                                                                              \n",
       "                                                                              \n",
       "                      0                                                       \n",
       "                                                                              \n",
       "                                                                              \n",
       "\n",
       "                                                                              \n",
       "                                                                              \n",
       "                                                                              \n",
       "                                                                              \n",
       "                                                                              \n",
       "                                                                              \n",
       "                                                                              \n",
       "                                                                              \n",
       "                                                                              \n",
       "                                                                              \n",
       "                                                                              \n",
       "                                                                              \n",
       "                                                                              \n",
       "                                                                              \n",
       "           2⎞                                ⎞                                \n",
       " ⎛d       ⎞ ⎟               d        d       ⎟                                \n",
       "⋅⎜──(A(r))⎟ ⎟⋅C(r) - 3⋅A(r)⋅──(A(r))⋅──(C(r))⎟⋅C(r)                           \n",
       " ⎝dr      ⎠ ⎟               dr       dr      ⎟                                \n",
       "            ⎠                                ⎠                                \n",
       "───────────────────────────────────────────────────                           \n",
       "                                                                              \n",
       "                                                                              \n",
       "                                                                              \n",
       "                                                     ⎛                        \n",
       "                                                     ⎜                    2   \n",
       "                                                     ⎜(-E(r) + 4⋅π⋅Π(r))⋅A (r)\n",
       "                                                     ⎜                        \n",
       "                                                     ⎝                        \n",
       "                                                     ─────────────────────────\n",
       "                                                                              \n",
       "                                                                              \n",
       "\n",
       "                                                                              \n",
       "                                                                              \n",
       "                                                                              \n",
       "                                                                              \n",
       "                                                                              \n",
       "                                                                              \n",
       "                                                                              \n",
       "                                                                              \n",
       "                                                                              \n",
       "                                                                              \n",
       "                                                                              \n",
       "                                                                              \n",
       "                                                                              \n",
       "                                                                              \n",
       "                                                                              \n",
       "                                                                              \n",
       "                                                                              \n",
       "                                                                              \n",
       "                                                                              \n",
       "                                                                              \n",
       "                                                                              \n",
       "                                                                              \n",
       "                                                                              \n",
       "              ⎛                                                            2  \n",
       "  2           ⎜⎛   2       ⎞           d        d           2    ⎛d       ⎞   \n",
       "⋅B (r)⋅C(r) - ⎜⎝cos (θ) - 2⎠⋅A(r)⋅C(r)⋅──(A(r))⋅──(C(r)) + A (r)⋅⎜──(A(r))⎟  -\n",
       "              ⎜                        dr       dr               ⎝dr      ⎠   \n",
       "              ⎝                                                               \n",
       "──────────────────────────────────────────────────────────────────────────────\n",
       "                                                                              \n",
       "                                                                              \n",
       "\n",
       "       0                                                                      \n",
       "                                                                              \n",
       "                                                                              \n",
       "                                                                              \n",
       "                                                                              \n",
       "                                                                              \n",
       "                                                                              \n",
       "                                                                              \n",
       "                                                                              \n",
       "                                                                              \n",
       "       0                                                                      \n",
       "                                                                              \n",
       "                                                                              \n",
       "                                                                              \n",
       "                                                                              \n",
       "                                                                              \n",
       "                                                                              \n",
       "                                                                              \n",
       "                                                                              \n",
       "       0                                                                      \n",
       "                                                                              \n",
       "                                                                              \n",
       "                                                                              \n",
       "              2                                                       2⎞      \n",
       "       2     d                    d        d           2    ⎛d       ⎞ ⎟      \n",
       " A(r)⋅B (r)⋅───(A(r)) + A(r)⋅B(r)⋅──(A(r))⋅──(B(r)) + B (r)⋅⎜──(A(r))⎟ ⎟⋅C(r) \n",
       "              2                   dr       dr               ⎝dr      ⎠ ⎟      \n",
       "            dr                                                         ⎠      \n",
       "──────────────────────────────────────────────────────────────────────────────\n",
       "    2     2                                                                   \n",
       " 3⋅A (r)⋅B (r)                                                                \n",
       "\n",
       "                                        ⎤\n",
       "                                        ⎥\n",
       "                                        ⎥\n",
       "                                        ⎥\n",
       "                                        ⎥\n",
       "                                        ⎥\n",
       "                                        ⎥\n",
       "                                        ⎥\n",
       "                                        ⎥\n",
       "                                        ⎥\n",
       "                                        ⎥\n",
       "                                        ⎥\n",
       "                                        ⎥\n",
       "                                        ⎥\n",
       "                                        ⎥\n",
       "                                        ⎥\n",
       "                                        ⎥\n",
       "                                        ⎥\n",
       "                                        ⎥\n",
       "                                        ⎥\n",
       "                                        ⎥\n",
       "                                        ⎥\n",
       "                                        ⎥\n",
       "                          ⎞             ⎥\n",
       "         d        d       ⎟         2   ⎥\n",
       "- 3⋅A(r)⋅──(A(r))⋅──(C(r))⎟⋅C(r)⋅sin (θ)⎥\n",
       "         dr       dr      ⎟             ⎥\n",
       "                          ⎠             ⎥\n",
       "────────────────────────────────────────⎥\n",
       "                                        ⎥\n",
       "                                        ⎦"
      ]
     },
     "metadata": {},
     "output_type": "display_data"
    }
   ],
   "source": [
    "E38dd= pt.ten('E38dd',2)\n",
    "E38dd.assign(Edd('_a,_b')-4*sy.pi*PIT('_a,_b') - (ad('_a')*ad('_b') + (hdd('_a,^c')*hdd('_b,^d')+hdd('_b,^c')*hdd('_a,^d'))*Dcad('_d,_c')/2 \\\n",
    "     - Dcau('^c,_c')*hdd('_a,_b')/3) ,'_a,_b')\n",
    "E38dd.complete('_,_')    \n",
    "E38dd.simplify()\n",
    "E38dd.display('_,_')"
   ]
  },
  {
   "attachments": {},
   "cell_type": "markdown",
   "id": "e1a7dafb",
   "metadata": {},
   "source": [
    "$$\n",
    "\\quad X_{\\alpha\\beta} = \\epsilon _\\alpha^{\\,\\,\\,\\mu\\nu}\\left (\\epsilon _{\\beta}^{\\,\\,\\delta}J^{(k)}_{\\delta\\mu;\\nu}-K_\\beta S^\\delta J^{(l)}_{\\delta\\mu;\\nu}\\right ) \\qquad (39)\n",
    "$$"
   ]
  }
 ],
 "metadata": {
  "kernelspec": {
   "display_name": "Python 3.9.12 ('base')",
   "language": "python",
   "name": "python3"
  },
  "language_info": {
   "codemirror_mode": {
    "name": "ipython",
    "version": 3
   },
   "file_extension": ".py",
   "mimetype": "text/x-python",
   "name": "python",
   "nbconvert_exporter": "python",
   "pygments_lexer": "ipython3",
   "version": "3.8.13"
  },
  "vscode": {
   "interpreter": {
    "hash": "8d1181128e1f0e3c7e069abdee9a2274e13259c88bd323b8ad99884c634d782b"
   }
  }
 },
 "nbformat": 4,
 "nbformat_minor": 5
}
